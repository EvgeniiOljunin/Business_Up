{
 "cells": [
  {
   "cell_type": "markdown",
   "id": "24744e69",
   "metadata": {},
   "source": [
    "# Алгоритм для определения уровня навыков игрока на основе анализа результатов бизнес-симуляции"
   ]
  },
  {
   "cell_type": "code",
   "execution_count": 9304,
   "id": "230df658",
   "metadata": {},
   "outputs": [],
   "source": [
    "import pandas as pd\n",
    "import numpy as np\n",
    "import matplotlib.pyplot as plt\n",
    "import seaborn as sns\n",
    "from sklearn.model_selection import train_test_split\n",
    "from sklearn.ensemble import RandomForestClassifier\n",
    "import numpy as np\n",
    "from sklearn.metrics import recall_score, precision_score\n",
    "from sklearn.linear_model import LogisticRegression\n",
    "from lightgbm import LGBMClassifier\n",
    "from sklearn.preprocessing import StandardScaler\n",
    "from sklearn.model_selection import train_test_split\n",
    "from sklearn.model_selection import cross_val_score\n",
    "from sklearn.model_selection import cross_validate\n",
    "from sklearn.model_selection import GridSearchCV\n",
    "from sklearn.metrics import classification_report\n",
    "from sklearn.metrics import f1_score\n",
    "%matplotlib inline\n",
    "import warnings\n",
    "warnings.filterwarnings('ignore')\n",
    "pd.options.mode.chained_assignment = None\n",
    "pd.set_option('display.float_format', '{:,.2f}'.format)"
   ]
  },
  {
   "cell_type": "code",
   "execution_count": 9305,
   "id": "8ed33c60",
   "metadata": {
    "scrolled": true
   },
   "outputs": [],
   "source": [
    "user = pd.read_csv('user.csv')\n",
    "user_decision = pd.read_csv('user_decision.csv')\n",
    "team_point = pd.read_csv('team_point.csv')\n",
    "df = pd.read_csv('train_dataset_train.csv')\n",
    "decision = pd.read_excel('decision.xlsx', sheet_name = 'decision')\n",
    "sample_solution = pd.read_csv('sample_solution.csv')"
   ]
  },
  {
   "cell_type": "markdown",
   "id": "5a499d6d",
   "metadata": {},
   "source": [
    "## Знакомство с данными, проверка"
   ]
  },
  {
   "cell_type": "code",
   "execution_count": 9306,
   "id": "6695d4d7",
   "metadata": {},
   "outputs": [
    {
     "name": "stdout",
     "output_type": "stream",
     "text": [
      "<class 'pandas.core.frame.DataFrame'>\n",
      "RangeIndex: 973 entries, 0 to 972\n",
      "Data columns (total 3 columns):\n",
      " #   Column   Non-Null Count  Dtype\n",
      "---  ------   --------------  -----\n",
      " 0   user_id  973 non-null    int64\n",
      " 1   team_id  973 non-null    int64\n",
      " 2   game_id  973 non-null    int64\n",
      "dtypes: int64(3)\n",
      "memory usage: 22.9 KB\n"
     ]
    }
   ],
   "source": [
    "user.info()"
   ]
  },
  {
   "cell_type": "code",
   "execution_count": 9307,
   "id": "c1efc832",
   "metadata": {},
   "outputs": [
    {
     "data": {
      "text/html": [
       "<div>\n",
       "<style scoped>\n",
       "    .dataframe tbody tr th:only-of-type {\n",
       "        vertical-align: middle;\n",
       "    }\n",
       "\n",
       "    .dataframe tbody tr th {\n",
       "        vertical-align: top;\n",
       "    }\n",
       "\n",
       "    .dataframe thead th {\n",
       "        text-align: right;\n",
       "    }\n",
       "</style>\n",
       "<table border=\"1\" class=\"dataframe\">\n",
       "  <thead>\n",
       "    <tr style=\"text-align: right;\">\n",
       "      <th></th>\n",
       "      <th>user_id</th>\n",
       "      <th>team_id</th>\n",
       "      <th>game_id</th>\n",
       "    </tr>\n",
       "  </thead>\n",
       "  <tbody>\n",
       "    <tr>\n",
       "      <th>0</th>\n",
       "      <td>10189</td>\n",
       "      <td>1664</td>\n",
       "      <td>235</td>\n",
       "    </tr>\n",
       "    <tr>\n",
       "      <th>1</th>\n",
       "      <td>10018</td>\n",
       "      <td>1690</td>\n",
       "      <td>237</td>\n",
       "    </tr>\n",
       "    <tr>\n",
       "      <th>2</th>\n",
       "      <td>10580</td>\n",
       "      <td>1394</td>\n",
       "      <td>194</td>\n",
       "    </tr>\n",
       "    <tr>\n",
       "      <th>3</th>\n",
       "      <td>10600</td>\n",
       "      <td>1908</td>\n",
       "      <td>262</td>\n",
       "    </tr>\n",
       "    <tr>\n",
       "      <th>4</th>\n",
       "      <td>10112</td>\n",
       "      <td>1592</td>\n",
       "      <td>219</td>\n",
       "    </tr>\n",
       "  </tbody>\n",
       "</table>\n",
       "</div>"
      ],
      "text/plain": [
       "   user_id  team_id  game_id\n",
       "0    10189     1664      235\n",
       "1    10018     1690      237\n",
       "2    10580     1394      194\n",
       "3    10600     1908      262\n",
       "4    10112     1592      219"
      ]
     },
     "execution_count": 9307,
     "metadata": {},
     "output_type": "execute_result"
    }
   ],
   "source": [
    "user.head()"
   ]
  },
  {
   "cell_type": "code",
   "execution_count": 9308,
   "id": "6971205a",
   "metadata": {
    "scrolled": false
   },
   "outputs": [
    {
     "data": {
      "text/plain": [
       "user_id    973\n",
       "team_id    214\n",
       "game_id     43\n",
       "dtype: int64"
      ]
     },
     "execution_count": 9308,
     "metadata": {},
     "output_type": "execute_result"
    }
   ],
   "source": [
    "user[user.columns].apply(lambda x: x.nunique())"
   ]
  },
  {
   "cell_type": "code",
   "execution_count": 9309,
   "id": "d9324de5",
   "metadata": {
    "scrolled": true
   },
   "outputs": [
    {
     "name": "stdout",
     "output_type": "stream",
     "text": [
      "<class 'pandas.core.frame.DataFrame'>\n",
      "RangeIndex: 60228 entries, 0 to 60227\n",
      "Data columns (total 3 columns):\n",
      " #   Column       Non-Null Count  Dtype\n",
      "---  ------       --------------  -----\n",
      " 0   user_id      60228 non-null  int64\n",
      " 1   period       60228 non-null  int64\n",
      " 2   decision_id  60228 non-null  int64\n",
      "dtypes: int64(3)\n",
      "memory usage: 1.4 MB\n"
     ]
    }
   ],
   "source": [
    "user_decision.info()"
   ]
  },
  {
   "cell_type": "code",
   "execution_count": 9310,
   "id": "53335aca",
   "metadata": {},
   "outputs": [
    {
     "data": {
      "text/html": [
       "<div>\n",
       "<style scoped>\n",
       "    .dataframe tbody tr th:only-of-type {\n",
       "        vertical-align: middle;\n",
       "    }\n",
       "\n",
       "    .dataframe tbody tr th {\n",
       "        vertical-align: top;\n",
       "    }\n",
       "\n",
       "    .dataframe thead th {\n",
       "        text-align: right;\n",
       "    }\n",
       "</style>\n",
       "<table border=\"1\" class=\"dataframe\">\n",
       "  <thead>\n",
       "    <tr style=\"text-align: right;\">\n",
       "      <th></th>\n",
       "      <th>user_id</th>\n",
       "      <th>period</th>\n",
       "      <th>decision_id</th>\n",
       "    </tr>\n",
       "  </thead>\n",
       "  <tbody>\n",
       "    <tr>\n",
       "      <th>0</th>\n",
       "      <td>10625</td>\n",
       "      <td>1</td>\n",
       "      <td>409</td>\n",
       "    </tr>\n",
       "    <tr>\n",
       "      <th>1</th>\n",
       "      <td>10318</td>\n",
       "      <td>3</td>\n",
       "      <td>203</td>\n",
       "    </tr>\n",
       "    <tr>\n",
       "      <th>2</th>\n",
       "      <td>10775</td>\n",
       "      <td>4</td>\n",
       "      <td>420</td>\n",
       "    </tr>\n",
       "    <tr>\n",
       "      <th>3</th>\n",
       "      <td>10236</td>\n",
       "      <td>2</td>\n",
       "      <td>284</td>\n",
       "    </tr>\n",
       "    <tr>\n",
       "      <th>4</th>\n",
       "      <td>10130</td>\n",
       "      <td>3</td>\n",
       "      <td>72</td>\n",
       "    </tr>\n",
       "  </tbody>\n",
       "</table>\n",
       "</div>"
      ],
      "text/plain": [
       "   user_id  period  decision_id\n",
       "0    10625       1          409\n",
       "1    10318       3          203\n",
       "2    10775       4          420\n",
       "3    10236       2          284\n",
       "4    10130       3           72"
      ]
     },
     "execution_count": 9310,
     "metadata": {},
     "output_type": "execute_result"
    }
   ],
   "source": [
    "user_decision.head()"
   ]
  },
  {
   "cell_type": "code",
   "execution_count": 9311,
   "id": "557ac258",
   "metadata": {
    "scrolled": false
   },
   "outputs": [
    {
     "data": {
      "text/plain": [
       "user_id        973\n",
       "period           4\n",
       "decision_id    343\n",
       "dtype: int64"
      ]
     },
     "execution_count": 9311,
     "metadata": {},
     "output_type": "execute_result"
    }
   ],
   "source": [
    "user_decision[user_decision.columns].apply(lambda x: x.nunique())"
   ]
  },
  {
   "cell_type": "code",
   "execution_count": 9312,
   "id": "3a1cef65",
   "metadata": {},
   "outputs": [
    {
     "data": {
      "text/plain": [
       "3    20964\n",
       "4    14811\n",
       "2    14453\n",
       "1    10000\n",
       "Name: period, dtype: int64"
      ]
     },
     "execution_count": 9312,
     "metadata": {},
     "output_type": "execute_result"
    }
   ],
   "source": [
    "user_decision.period.value_counts()"
   ]
  },
  {
   "cell_type": "code",
   "execution_count": 9313,
   "id": "c9255b1c",
   "metadata": {},
   "outputs": [
    {
     "data": {
      "text/html": [
       "<div>\n",
       "<style scoped>\n",
       "    .dataframe tbody tr th:only-of-type {\n",
       "        vertical-align: middle;\n",
       "    }\n",
       "\n",
       "    .dataframe tbody tr th {\n",
       "        vertical-align: top;\n",
       "    }\n",
       "\n",
       "    .dataframe thead th {\n",
       "        text-align: right;\n",
       "    }\n",
       "</style>\n",
       "<table border=\"1\" class=\"dataframe\">\n",
       "  <thead>\n",
       "    <tr style=\"text-align: right;\">\n",
       "      <th></th>\n",
       "      <th>decision_id</th>\n",
       "      <th>decision_name</th>\n",
       "    </tr>\n",
       "  </thead>\n",
       "  <tbody>\n",
       "    <tr>\n",
       "      <th>0</th>\n",
       "      <td>1</td>\n",
       "      <td>Dividend payout in cash</td>\n",
       "    </tr>\n",
       "    <tr>\n",
       "      <th>1</th>\n",
       "      <td>2</td>\n",
       "      <td>Dividend payout in stocks</td>\n",
       "    </tr>\n",
       "    <tr>\n",
       "      <th>2</th>\n",
       "      <td>3</td>\n",
       "      <td>Zero dividend policy</td>\n",
       "    </tr>\n",
       "    <tr>\n",
       "      <th>3</th>\n",
       "      <td>4</td>\n",
       "      <td>The distribution of the residue after the rein...</td>\n",
       "    </tr>\n",
       "    <tr>\n",
       "      <th>4</th>\n",
       "      <td>5</td>\n",
       "      <td>Fixed size of dividend payouts sum</td>\n",
       "    </tr>\n",
       "  </tbody>\n",
       "</table>\n",
       "</div>"
      ],
      "text/plain": [
       "   decision_id                                      decision_name\n",
       "0            1                            Dividend payout in cash\n",
       "1            2                          Dividend payout in stocks\n",
       "2            3                               Zero dividend policy\n",
       "3            4  The distribution of the residue after the rein...\n",
       "4            5                 Fixed size of dividend payouts sum"
      ]
     },
     "execution_count": 9313,
     "metadata": {},
     "output_type": "execute_result"
    }
   ],
   "source": [
    "decision.head()"
   ]
  },
  {
   "cell_type": "code",
   "execution_count": 9314,
   "id": "1370ccfc",
   "metadata": {
    "scrolled": true
   },
   "outputs": [
    {
     "data": {
      "text/plain": [
       "61.89928057553957"
      ]
     },
     "execution_count": 9314,
     "metadata": {},
     "output_type": "execute_result"
    }
   ],
   "source": [
    "user_decision.groupby('user_id')['decision_id'].count().mean()"
   ]
  },
  {
   "cell_type": "code",
   "execution_count": 9315,
   "id": "bce828bc",
   "metadata": {
    "scrolled": false
   },
   "outputs": [
    {
     "data": {
      "text/html": [
       "<div>\n",
       "<style scoped>\n",
       "    .dataframe tbody tr th:only-of-type {\n",
       "        vertical-align: middle;\n",
       "    }\n",
       "\n",
       "    .dataframe tbody tr th {\n",
       "        vertical-align: top;\n",
       "    }\n",
       "\n",
       "    .dataframe thead th {\n",
       "        text-align: right;\n",
       "    }\n",
       "</style>\n",
       "<table border=\"1\" class=\"dataframe\">\n",
       "  <thead>\n",
       "    <tr style=\"text-align: right;\">\n",
       "      <th></th>\n",
       "      <th>id</th>\n",
       "      <th>Analytical thinking</th>\n",
       "      <th>Systemic thinking</th>\n",
       "      <th>Adaptability</th>\n",
       "      <th>Focus</th>\n",
       "    </tr>\n",
       "  </thead>\n",
       "  <tbody>\n",
       "    <tr>\n",
       "      <th>0</th>\n",
       "      <td>10884</td>\n",
       "      <td>4.00</td>\n",
       "      <td>4.00</td>\n",
       "      <td>4.00</td>\n",
       "      <td>4.00</td>\n",
       "    </tr>\n",
       "    <tr>\n",
       "      <th>1</th>\n",
       "      <td>10106</td>\n",
       "      <td>5.00</td>\n",
       "      <td>4.00</td>\n",
       "      <td>5.00</td>\n",
       "      <td>5.00</td>\n",
       "    </tr>\n",
       "    <tr>\n",
       "      <th>2</th>\n",
       "      <td>10438</td>\n",
       "      <td>6.00</td>\n",
       "      <td>5.00</td>\n",
       "      <td>5.00</td>\n",
       "      <td>5.00</td>\n",
       "    </tr>\n",
       "    <tr>\n",
       "      <th>3</th>\n",
       "      <td>10130</td>\n",
       "      <td>5.00</td>\n",
       "      <td>4.00</td>\n",
       "      <td>5.00</td>\n",
       "      <td>5.00</td>\n",
       "    </tr>\n",
       "    <tr>\n",
       "      <th>4</th>\n",
       "      <td>10667</td>\n",
       "      <td>4.00</td>\n",
       "      <td>5.00</td>\n",
       "      <td>5.00</td>\n",
       "      <td>5.00</td>\n",
       "    </tr>\n",
       "  </tbody>\n",
       "</table>\n",
       "</div>"
      ],
      "text/plain": [
       "      id  Analytical thinking  Systemic thinking  Adaptability  Focus\n",
       "0  10884                 4.00               4.00          4.00   4.00\n",
       "1  10106                 5.00               4.00          5.00   5.00\n",
       "2  10438                 6.00               5.00          5.00   5.00\n",
       "3  10130                 5.00               4.00          5.00   5.00\n",
       "4  10667                 4.00               5.00          5.00   5.00"
      ]
     },
     "execution_count": 9315,
     "metadata": {},
     "output_type": "execute_result"
    }
   ],
   "source": [
    "df.head()"
   ]
  },
  {
   "cell_type": "code",
   "execution_count": 9316,
   "id": "085702db",
   "metadata": {},
   "outputs": [
    {
     "data": {
      "text/plain": [
       "680"
      ]
     },
     "execution_count": 9316,
     "metadata": {},
     "output_type": "execute_result"
    }
   ],
   "source": [
    "df['id'].nunique()"
   ]
  },
  {
   "cell_type": "code",
   "execution_count": 9317,
   "id": "4684a2c3",
   "metadata": {
    "scrolled": true
   },
   "outputs": [
    {
     "data": {
      "text/html": [
       "<div>\n",
       "<style scoped>\n",
       "    .dataframe tbody tr th:only-of-type {\n",
       "        vertical-align: middle;\n",
       "    }\n",
       "\n",
       "    .dataframe tbody tr th {\n",
       "        vertical-align: top;\n",
       "    }\n",
       "\n",
       "    .dataframe thead th {\n",
       "        text-align: right;\n",
       "    }\n",
       "</style>\n",
       "<table border=\"1\" class=\"dataframe\">\n",
       "  <thead>\n",
       "    <tr style=\"text-align: right;\">\n",
       "      <th></th>\n",
       "      <th>id</th>\n",
       "      <th>Analytical thinking</th>\n",
       "      <th>Systemic thinking</th>\n",
       "      <th>Adaptability</th>\n",
       "      <th>Focus</th>\n",
       "    </tr>\n",
       "  </thead>\n",
       "  <tbody>\n",
       "    <tr>\n",
       "      <th>count</th>\n",
       "      <td>680.00</td>\n",
       "      <td>680.00</td>\n",
       "      <td>680.00</td>\n",
       "      <td>680.00</td>\n",
       "      <td>680.00</td>\n",
       "    </tr>\n",
       "    <tr>\n",
       "      <th>mean</th>\n",
       "      <td>10,486.09</td>\n",
       "      <td>4.28</td>\n",
       "      <td>4.12</td>\n",
       "      <td>4.45</td>\n",
       "      <td>4.31</td>\n",
       "    </tr>\n",
       "    <tr>\n",
       "      <th>std</th>\n",
       "      <td>281.74</td>\n",
       "      <td>0.65</td>\n",
       "      <td>0.60</td>\n",
       "      <td>0.66</td>\n",
       "      <td>0.61</td>\n",
       "    </tr>\n",
       "    <tr>\n",
       "      <th>min</th>\n",
       "      <td>10,001.00</td>\n",
       "      <td>1.00</td>\n",
       "      <td>1.00</td>\n",
       "      <td>1.00</td>\n",
       "      <td>1.00</td>\n",
       "    </tr>\n",
       "    <tr>\n",
       "      <th>25%</th>\n",
       "      <td>10,233.75</td>\n",
       "      <td>4.00</td>\n",
       "      <td>4.00</td>\n",
       "      <td>4.00</td>\n",
       "      <td>4.00</td>\n",
       "    </tr>\n",
       "    <tr>\n",
       "      <th>50%</th>\n",
       "      <td>10,491.50</td>\n",
       "      <td>4.00</td>\n",
       "      <td>4.00</td>\n",
       "      <td>4.00</td>\n",
       "      <td>4.00</td>\n",
       "    </tr>\n",
       "    <tr>\n",
       "      <th>75%</th>\n",
       "      <td>10,729.25</td>\n",
       "      <td>5.00</td>\n",
       "      <td>4.00</td>\n",
       "      <td>5.00</td>\n",
       "      <td>5.00</td>\n",
       "    </tr>\n",
       "    <tr>\n",
       "      <th>max</th>\n",
       "      <td>10,973.00</td>\n",
       "      <td>6.00</td>\n",
       "      <td>6.00</td>\n",
       "      <td>6.00</td>\n",
       "      <td>6.00</td>\n",
       "    </tr>\n",
       "  </tbody>\n",
       "</table>\n",
       "</div>"
      ],
      "text/plain": [
       "             id  Analytical thinking  Systemic thinking  Adaptability  Focus\n",
       "count    680.00               680.00             680.00        680.00 680.00\n",
       "mean  10,486.09                 4.28               4.12          4.45   4.31\n",
       "std      281.74                 0.65               0.60          0.66   0.61\n",
       "min   10,001.00                 1.00               1.00          1.00   1.00\n",
       "25%   10,233.75                 4.00               4.00          4.00   4.00\n",
       "50%   10,491.50                 4.00               4.00          4.00   4.00\n",
       "75%   10,729.25                 5.00               4.00          5.00   5.00\n",
       "max   10,973.00                 6.00               6.00          6.00   6.00"
      ]
     },
     "execution_count": 9317,
     "metadata": {},
     "output_type": "execute_result"
    }
   ],
   "source": [
    "df.describe()"
   ]
  },
  {
   "cell_type": "code",
   "execution_count": 9318,
   "id": "3a065612",
   "metadata": {
    "scrolled": true
   },
   "outputs": [
    {
     "name": "stdout",
     "output_type": "stream",
     "text": [
      "<class 'pandas.core.frame.DataFrame'>\n",
      "RangeIndex: 293 entries, 0 to 292\n",
      "Data columns (total 5 columns):\n",
      " #   Column               Non-Null Count  Dtype\n",
      "---  ------               --------------  -----\n",
      " 0   id                   293 non-null    int64\n",
      " 1   Analytical thinking  293 non-null    int64\n",
      " 2   Systemic thinking    293 non-null    int64\n",
      " 3   Adaptability         293 non-null    int64\n",
      " 4   Focus                293 non-null    int64\n",
      "dtypes: int64(5)\n",
      "memory usage: 11.6 KB\n"
     ]
    }
   ],
   "source": [
    "sample_solution.info()"
   ]
  },
  {
   "cell_type": "code",
   "execution_count": 9319,
   "id": "371d486f",
   "metadata": {
    "scrolled": true
   },
   "outputs": [
    {
     "data": {
      "text/plain": [
       "293"
      ]
     },
     "execution_count": 9319,
     "metadata": {},
     "output_type": "execute_result"
    }
   ],
   "source": [
    "sample_solution['id'].nunique()"
   ]
  },
  {
   "cell_type": "code",
   "execution_count": 9320,
   "id": "a68edcd0",
   "metadata": {
    "scrolled": true
   },
   "outputs": [
    {
     "data": {
      "text/html": [
       "<div>\n",
       "<style scoped>\n",
       "    .dataframe tbody tr th:only-of-type {\n",
       "        vertical-align: middle;\n",
       "    }\n",
       "\n",
       "    .dataframe tbody tr th {\n",
       "        vertical-align: top;\n",
       "    }\n",
       "\n",
       "    .dataframe thead th {\n",
       "        text-align: right;\n",
       "    }\n",
       "</style>\n",
       "<table border=\"1\" class=\"dataframe\">\n",
       "  <thead>\n",
       "    <tr style=\"text-align: right;\">\n",
       "      <th></th>\n",
       "      <th>team_id</th>\n",
       "      <th>category_id</th>\n",
       "      <th>period</th>\n",
       "      <th>score</th>\n",
       "      <th>place</th>\n",
       "    </tr>\n",
       "  </thead>\n",
       "  <tbody>\n",
       "    <tr>\n",
       "      <th>0</th>\n",
       "      <td>1948</td>\n",
       "      <td>2</td>\n",
       "      <td>0</td>\n",
       "      <td>16</td>\n",
       "      <td>2</td>\n",
       "    </tr>\n",
       "    <tr>\n",
       "      <th>1</th>\n",
       "      <td>1934</td>\n",
       "      <td>3</td>\n",
       "      <td>4</td>\n",
       "      <td>45</td>\n",
       "      <td>6</td>\n",
       "    </tr>\n",
       "    <tr>\n",
       "      <th>2</th>\n",
       "      <td>1894</td>\n",
       "      <td>4</td>\n",
       "      <td>8</td>\n",
       "      <td>24</td>\n",
       "      <td>4</td>\n",
       "    </tr>\n",
       "    <tr>\n",
       "      <th>3</th>\n",
       "      <td>1688</td>\n",
       "      <td>4</td>\n",
       "      <td>0</td>\n",
       "      <td>27</td>\n",
       "      <td>4</td>\n",
       "    </tr>\n",
       "    <tr>\n",
       "      <th>4</th>\n",
       "      <td>1592</td>\n",
       "      <td>4</td>\n",
       "      <td>2</td>\n",
       "      <td>21</td>\n",
       "      <td>5</td>\n",
       "    </tr>\n",
       "  </tbody>\n",
       "</table>\n",
       "</div>"
      ],
      "text/plain": [
       "   team_id  category_id  period  score  place\n",
       "0     1948            2       0     16      2\n",
       "1     1934            3       4     45      6\n",
       "2     1894            4       8     24      4\n",
       "3     1688            4       0     27      4\n",
       "4     1592            4       2     21      5"
      ]
     },
     "execution_count": 9320,
     "metadata": {},
     "output_type": "execute_result"
    }
   ],
   "source": [
    "team_point.head()"
   ]
  },
  {
   "cell_type": "code",
   "execution_count": 9321,
   "id": "20550ed3",
   "metadata": {
    "scrolled": true
   },
   "outputs": [
    {
     "data": {
      "text/plain": [
       "355"
      ]
     },
     "execution_count": 9321,
     "metadata": {},
     "output_type": "execute_result"
    }
   ],
   "source": [
    "team_point['team_id'].nunique()"
   ]
  },
  {
   "cell_type": "markdown",
   "id": "956c7b97",
   "metadata": {},
   "source": [
    "## Исследовательский анализ\n",
    "**Анализ score по командам**"
   ]
  },
  {
   "cell_type": "code",
   "execution_count": 9322,
   "id": "340c9a59",
   "metadata": {},
   "outputs": [],
   "source": [
    "team = team_point[team_point['team_id'].isin(user['team_id'])]"
   ]
  },
  {
   "cell_type": "code",
   "execution_count": 9323,
   "id": "a22fcb76",
   "metadata": {
    "scrolled": true
   },
   "outputs": [
    {
     "data": {
      "text/html": [
       "<div>\n",
       "<style scoped>\n",
       "    .dataframe tbody tr th:only-of-type {\n",
       "        vertical-align: middle;\n",
       "    }\n",
       "\n",
       "    .dataframe tbody tr th {\n",
       "        vertical-align: top;\n",
       "    }\n",
       "\n",
       "    .dataframe thead th {\n",
       "        text-align: right;\n",
       "    }\n",
       "</style>\n",
       "<table border=\"1\" class=\"dataframe\">\n",
       "  <thead>\n",
       "    <tr style=\"text-align: right;\">\n",
       "      <th></th>\n",
       "      <th>team_id</th>\n",
       "      <th>category_id</th>\n",
       "      <th>period</th>\n",
       "      <th>score</th>\n",
       "      <th>place</th>\n",
       "    </tr>\n",
       "  </thead>\n",
       "  <tbody>\n",
       "    <tr>\n",
       "      <th>3</th>\n",
       "      <td>1688</td>\n",
       "      <td>4</td>\n",
       "      <td>0</td>\n",
       "      <td>27</td>\n",
       "      <td>4</td>\n",
       "    </tr>\n",
       "    <tr>\n",
       "      <th>4</th>\n",
       "      <td>1592</td>\n",
       "      <td>4</td>\n",
       "      <td>2</td>\n",
       "      <td>21</td>\n",
       "      <td>5</td>\n",
       "    </tr>\n",
       "    <tr>\n",
       "      <th>5</th>\n",
       "      <td>1344</td>\n",
       "      <td>5</td>\n",
       "      <td>0</td>\n",
       "      <td>8</td>\n",
       "      <td>6</td>\n",
       "    </tr>\n",
       "    <tr>\n",
       "      <th>7</th>\n",
       "      <td>1460</td>\n",
       "      <td>2</td>\n",
       "      <td>2</td>\n",
       "      <td>-29</td>\n",
       "      <td>6</td>\n",
       "    </tr>\n",
       "    <tr>\n",
       "      <th>9</th>\n",
       "      <td>1848</td>\n",
       "      <td>3</td>\n",
       "      <td>1</td>\n",
       "      <td>62</td>\n",
       "      <td>5</td>\n",
       "    </tr>\n",
       "  </tbody>\n",
       "</table>\n",
       "</div>"
      ],
      "text/plain": [
       "   team_id  category_id  period  score  place\n",
       "3     1688            4       0     27      4\n",
       "4     1592            4       2     21      5\n",
       "5     1344            5       0      8      6\n",
       "7     1460            2       2    -29      6\n",
       "9     1848            3       1     62      5"
      ]
     },
     "execution_count": 9323,
     "metadata": {},
     "output_type": "execute_result"
    }
   ],
   "source": [
    "team.head()"
   ]
  },
  {
   "cell_type": "code",
   "execution_count": 9324,
   "id": "17ca3d00",
   "metadata": {},
   "outputs": [],
   "source": [
    "team = team[(team['period']<5)&(team['period']>=1)]"
   ]
  },
  {
   "cell_type": "code",
   "execution_count": 9325,
   "id": "72d3d14f",
   "metadata": {},
   "outputs": [
    {
     "data": {
      "text/html": [
       "<div>\n",
       "<style scoped>\n",
       "    .dataframe tbody tr th:only-of-type {\n",
       "        vertical-align: middle;\n",
       "    }\n",
       "\n",
       "    .dataframe tbody tr th {\n",
       "        vertical-align: top;\n",
       "    }\n",
       "\n",
       "    .dataframe thead th {\n",
       "        text-align: right;\n",
       "    }\n",
       "</style>\n",
       "<table border=\"1\" class=\"dataframe\">\n",
       "  <thead>\n",
       "    <tr style=\"text-align: right;\">\n",
       "      <th></th>\n",
       "      <th>team_id</th>\n",
       "      <th>category_id</th>\n",
       "      <th>period</th>\n",
       "      <th>score</th>\n",
       "      <th>place</th>\n",
       "    </tr>\n",
       "  </thead>\n",
       "  <tbody>\n",
       "    <tr>\n",
       "      <th>4</th>\n",
       "      <td>1592</td>\n",
       "      <td>4</td>\n",
       "      <td>2</td>\n",
       "      <td>21</td>\n",
       "      <td>5</td>\n",
       "    </tr>\n",
       "    <tr>\n",
       "      <th>7</th>\n",
       "      <td>1460</td>\n",
       "      <td>2</td>\n",
       "      <td>2</td>\n",
       "      <td>-29</td>\n",
       "      <td>6</td>\n",
       "    </tr>\n",
       "    <tr>\n",
       "      <th>9</th>\n",
       "      <td>1848</td>\n",
       "      <td>3</td>\n",
       "      <td>1</td>\n",
       "      <td>62</td>\n",
       "      <td>5</td>\n",
       "    </tr>\n",
       "  </tbody>\n",
       "</table>\n",
       "</div>"
      ],
      "text/plain": [
       "   team_id  category_id  period  score  place\n",
       "4     1592            4       2     21      5\n",
       "7     1460            2       2    -29      6\n",
       "9     1848            3       1     62      5"
      ]
     },
     "execution_count": 9325,
     "metadata": {},
     "output_type": "execute_result"
    }
   ],
   "source": [
    "team.head(3)"
   ]
  },
  {
   "cell_type": "code",
   "execution_count": 9326,
   "id": "60d96ce0",
   "metadata": {
    "scrolled": true
   },
   "outputs": [
    {
     "data": {
      "text/plain": [
       "<AxesSubplot:>"
      ]
     },
     "execution_count": 9326,
     "metadata": {},
     "output_type": "execute_result"
    },
    {
     "data": {
      "image/png": "[encoded data removed]",
      "text/plain": [
       "<Figure size 400x400 with 1 Axes>"
      ]
     },
     "metadata": {},
     "output_type": "display_data"
    }
   ],
   "source": [
    "team_score_0 = pd.DataFrame(team_point.groupby('team_id')['score'].sum())\n",
    "team_point.groupby('team_id')['score'].sum().hist(bins=30, figsize = (4,4))"
   ]
  },
  {
   "cell_type": "code",
   "execution_count": 9327,
   "id": "ea484bbc",
   "metadata": {},
   "outputs": [
    {
     "data": {
      "text/html": [
       "<div>\n",
       "<style scoped>\n",
       "    .dataframe tbody tr th:only-of-type {\n",
       "        vertical-align: middle;\n",
       "    }\n",
       "\n",
       "    .dataframe tbody tr th {\n",
       "        vertical-align: top;\n",
       "    }\n",
       "\n",
       "    .dataframe thead th {\n",
       "        text-align: right;\n",
       "    }\n",
       "</style>\n",
       "<table border=\"1\" class=\"dataframe\">\n",
       "  <thead>\n",
       "    <tr style=\"text-align: right;\">\n",
       "      <th></th>\n",
       "      <th>score</th>\n",
       "    </tr>\n",
       "  </thead>\n",
       "  <tbody>\n",
       "    <tr>\n",
       "      <th>count</th>\n",
       "      <td>355.00</td>\n",
       "    </tr>\n",
       "    <tr>\n",
       "      <th>mean</th>\n",
       "      <td>1,585.49</td>\n",
       "    </tr>\n",
       "    <tr>\n",
       "      <th>std</th>\n",
       "      <td>496.25</td>\n",
       "    </tr>\n",
       "    <tr>\n",
       "      <th>min</th>\n",
       "      <td>516.00</td>\n",
       "    </tr>\n",
       "    <tr>\n",
       "      <th>25%</th>\n",
       "      <td>1,251.00</td>\n",
       "    </tr>\n",
       "    <tr>\n",
       "      <th>50%</th>\n",
       "      <td>1,554.00</td>\n",
       "    </tr>\n",
       "    <tr>\n",
       "      <th>75%</th>\n",
       "      <td>1,817.00</td>\n",
       "    </tr>\n",
       "    <tr>\n",
       "      <th>max</th>\n",
       "      <td>4,376.00</td>\n",
       "    </tr>\n",
       "  </tbody>\n",
       "</table>\n",
       "</div>"
      ],
      "text/plain": [
       "         score\n",
       "count   355.00\n",
       "mean  1,585.49\n",
       "std     496.25\n",
       "min     516.00\n",
       "25%   1,251.00\n",
       "50%   1,554.00\n",
       "75%   1,817.00\n",
       "max   4,376.00"
      ]
     },
     "execution_count": 9327,
     "metadata": {},
     "output_type": "execute_result"
    }
   ],
   "source": [
    "team_score_0.describe()"
   ]
  },
  {
   "cell_type": "code",
   "execution_count": 9328,
   "id": "fc68b9cf",
   "metadata": {
    "scrolled": true
   },
   "outputs": [
    {
     "data": {
      "text/plain": [
       "array([[<AxesSubplot:title={'center':'score'}>]], dtype=object)"
      ]
     },
     "execution_count": 9328,
     "metadata": {},
     "output_type": "execute_result"
    },
    {
     "data": {
      "image/png": "[encoded data removed]",
      "text/plain": [
       "<Figure size 400x400 with 1 Axes>"
      ]
     },
     "metadata": {},
     "output_type": "display_data"
    }
   ],
   "source": [
    "team_score = pd.DataFrame(team.groupby('team_id')['score'].sum())\n",
    "team_score.hist(bins=30, figsize = (4,4))\n"
   ]
  },
  {
   "cell_type": "code",
   "execution_count": 9329,
   "id": "4cce7af1",
   "metadata": {
    "scrolled": true
   },
   "outputs": [
    {
     "data": {
      "text/html": [
       "<div>\n",
       "<style scoped>\n",
       "    .dataframe tbody tr th:only-of-type {\n",
       "        vertical-align: middle;\n",
       "    }\n",
       "\n",
       "    .dataframe tbody tr th {\n",
       "        vertical-align: top;\n",
       "    }\n",
       "\n",
       "    .dataframe thead th {\n",
       "        text-align: right;\n",
       "    }\n",
       "</style>\n",
       "<table border=\"1\" class=\"dataframe\">\n",
       "  <thead>\n",
       "    <tr style=\"text-align: right;\">\n",
       "      <th></th>\n",
       "      <th>score</th>\n",
       "    </tr>\n",
       "  </thead>\n",
       "  <tbody>\n",
       "    <tr>\n",
       "      <th>count</th>\n",
       "      <td>214.00</td>\n",
       "    </tr>\n",
       "    <tr>\n",
       "      <th>mean</th>\n",
       "      <td>1,240.01</td>\n",
       "    </tr>\n",
       "    <tr>\n",
       "      <th>std</th>\n",
       "      <td>428.67</td>\n",
       "    </tr>\n",
       "    <tr>\n",
       "      <th>min</th>\n",
       "      <td>200.00</td>\n",
       "    </tr>\n",
       "    <tr>\n",
       "      <th>25%</th>\n",
       "      <td>934.50</td>\n",
       "    </tr>\n",
       "    <tr>\n",
       "      <th>50%</th>\n",
       "      <td>1,236.00</td>\n",
       "    </tr>\n",
       "    <tr>\n",
       "      <th>75%</th>\n",
       "      <td>1,483.50</td>\n",
       "    </tr>\n",
       "    <tr>\n",
       "      <th>max</th>\n",
       "      <td>2,724.00</td>\n",
       "    </tr>\n",
       "  </tbody>\n",
       "</table>\n",
       "</div>"
      ],
      "text/plain": [
       "         score\n",
       "count   214.00\n",
       "mean  1,240.01\n",
       "std     428.67\n",
       "min     200.00\n",
       "25%     934.50\n",
       "50%   1,236.00\n",
       "75%   1,483.50\n",
       "max   2,724.00"
      ]
     },
     "execution_count": 9329,
     "metadata": {},
     "output_type": "execute_result"
    }
   ],
   "source": [
    "team_score.describe()"
   ]
  },
  {
   "cell_type": "markdown",
   "id": "f9b0b4b5",
   "metadata": {},
   "source": [
    "После сокращения числа периодов распределение score изменилось незначительно"
   ]
  },
  {
   "cell_type": "code",
   "execution_count": 9330,
   "id": "1c75bbc1",
   "metadata": {
    "scrolled": true
   },
   "outputs": [
    {
     "name": "stdout",
     "output_type": "stream",
     "text": [
      "214\n"
     ]
    }
   ],
   "source": [
    "print(team_score.index.nunique())"
   ]
  },
  {
   "cell_type": "code",
   "execution_count": 9331,
   "id": "1a31b766",
   "metadata": {},
   "outputs": [],
   "source": [
    "team_game = user.drop('user_id', axis=1).drop_duplicates()"
   ]
  },
  {
   "cell_type": "code",
   "execution_count": 9332,
   "id": "1c42354e",
   "metadata": {
    "scrolled": true
   },
   "outputs": [
    {
     "data": {
      "text/plain": [
       "team_id    214\n",
       "game_id     43\n",
       "dtype: int64"
      ]
     },
     "execution_count": 9332,
     "metadata": {},
     "output_type": "execute_result"
    }
   ],
   "source": [
    "team_game.nunique()"
   ]
  },
  {
   "cell_type": "markdown",
   "id": "ff922be0",
   "metadata": {},
   "source": [
    "**Анализ величины score команд по разным играм**"
   ]
  },
  {
   "cell_type": "code",
   "execution_count": 9333,
   "id": "bf5ba087",
   "metadata": {
    "scrolled": true
   },
   "outputs": [],
   "source": [
    "team = team.set_index('team_id').join(team_game.set_index('team_id')).reset_index()"
   ]
  },
  {
   "cell_type": "code",
   "execution_count": 9334,
   "id": "8619188f",
   "metadata": {
    "scrolled": true
   },
   "outputs": [
    {
     "data": {
      "text/html": [
       "<div>\n",
       "<style scoped>\n",
       "    .dataframe tbody tr th:only-of-type {\n",
       "        vertical-align: middle;\n",
       "    }\n",
       "\n",
       "    .dataframe tbody tr th {\n",
       "        vertical-align: top;\n",
       "    }\n",
       "\n",
       "    .dataframe thead th {\n",
       "        text-align: right;\n",
       "    }\n",
       "</style>\n",
       "<table border=\"1\" class=\"dataframe\">\n",
       "  <thead>\n",
       "    <tr style=\"text-align: right;\">\n",
       "      <th></th>\n",
       "      <th>team_id</th>\n",
       "      <th>category_id</th>\n",
       "      <th>period</th>\n",
       "      <th>score</th>\n",
       "      <th>place</th>\n",
       "      <th>game_id</th>\n",
       "    </tr>\n",
       "  </thead>\n",
       "  <tbody>\n",
       "    <tr>\n",
       "      <th>0</th>\n",
       "      <td>1248</td>\n",
       "      <td>5</td>\n",
       "      <td>2</td>\n",
       "      <td>24</td>\n",
       "      <td>1</td>\n",
       "      <td>182</td>\n",
       "    </tr>\n",
       "  </tbody>\n",
       "</table>\n",
       "</div>"
      ],
      "text/plain": [
       "   team_id  category_id  period  score  place  game_id\n",
       "0     1248            5       2     24      1      182"
      ]
     },
     "execution_count": 9334,
     "metadata": {},
     "output_type": "execute_result"
    }
   ],
   "source": [
    "team.head(1)"
   ]
  },
  {
   "cell_type": "code",
   "execution_count": 9335,
   "id": "c1996163",
   "metadata": {},
   "outputs": [],
   "source": [
    "team['total_score']=team.groupby('team_id')['score'].transform('sum')"
   ]
  },
  {
   "cell_type": "code",
   "execution_count": 9336,
   "id": "50033bb1",
   "metadata": {
    "scrolled": true
   },
   "outputs": [
    {
     "data": {
      "text/html": [
       "<div>\n",
       "<style scoped>\n",
       "    .dataframe tbody tr th:only-of-type {\n",
       "        vertical-align: middle;\n",
       "    }\n",
       "\n",
       "    .dataframe tbody tr th {\n",
       "        vertical-align: top;\n",
       "    }\n",
       "\n",
       "    .dataframe thead th {\n",
       "        text-align: right;\n",
       "    }\n",
       "</style>\n",
       "<table border=\"1\" class=\"dataframe\">\n",
       "  <thead>\n",
       "    <tr style=\"text-align: right;\">\n",
       "      <th></th>\n",
       "      <th>team_id</th>\n",
       "      <th>category_id</th>\n",
       "      <th>period</th>\n",
       "      <th>score</th>\n",
       "      <th>place</th>\n",
       "      <th>game_id</th>\n",
       "      <th>total_score</th>\n",
       "    </tr>\n",
       "  </thead>\n",
       "  <tbody>\n",
       "    <tr>\n",
       "      <th>0</th>\n",
       "      <td>1248</td>\n",
       "      <td>5</td>\n",
       "      <td>2</td>\n",
       "      <td>24</td>\n",
       "      <td>1</td>\n",
       "      <td>182</td>\n",
       "      <td>2382</td>\n",
       "    </tr>\n",
       "  </tbody>\n",
       "</table>\n",
       "</div>"
      ],
      "text/plain": [
       "   team_id  category_id  period  score  place  game_id  total_score\n",
       "0     1248            5       2     24      1      182         2382"
      ]
     },
     "execution_count": 9336,
     "metadata": {},
     "output_type": "execute_result"
    }
   ],
   "source": [
    "team.head(1)"
   ]
  },
  {
   "cell_type": "code",
   "execution_count": 9337,
   "id": "66f27146",
   "metadata": {},
   "outputs": [],
   "source": [
    "team = team.set_index('team_id').join(user.drop('game_id', axis=1).set_index('team_id'), how = 'right').reset_index()"
   ]
  },
  {
   "cell_type": "code",
   "execution_count": 9338,
   "id": "317bd668",
   "metadata": {},
   "outputs": [
    {
     "data": {
      "text/html": [
       "<div>\n",
       "<style scoped>\n",
       "    .dataframe tbody tr th:only-of-type {\n",
       "        vertical-align: middle;\n",
       "    }\n",
       "\n",
       "    .dataframe tbody tr th {\n",
       "        vertical-align: top;\n",
       "    }\n",
       "\n",
       "    .dataframe thead th {\n",
       "        text-align: right;\n",
       "    }\n",
       "</style>\n",
       "<table border=\"1\" class=\"dataframe\">\n",
       "  <thead>\n",
       "    <tr style=\"text-align: right;\">\n",
       "      <th></th>\n",
       "      <th>team_id</th>\n",
       "      <th>category_id</th>\n",
       "      <th>period</th>\n",
       "      <th>score</th>\n",
       "      <th>place</th>\n",
       "      <th>game_id</th>\n",
       "      <th>total_score</th>\n",
       "      <th>user_id</th>\n",
       "    </tr>\n",
       "  </thead>\n",
       "  <tbody>\n",
       "    <tr>\n",
       "      <th>0</th>\n",
       "      <td>1248</td>\n",
       "      <td>5</td>\n",
       "      <td>2</td>\n",
       "      <td>24</td>\n",
       "      <td>1</td>\n",
       "      <td>182</td>\n",
       "      <td>2382</td>\n",
       "      <td>10273</td>\n",
       "    </tr>\n",
       "  </tbody>\n",
       "</table>\n",
       "</div>"
      ],
      "text/plain": [
       "   team_id  category_id  period  score  place  game_id  total_score  user_id\n",
       "0     1248            5       2     24      1      182         2382    10273"
      ]
     },
     "execution_count": 9338,
     "metadata": {},
     "output_type": "execute_result"
    }
   ],
   "source": [
    "team.head(1)"
   ]
  },
  {
   "cell_type": "code",
   "execution_count": 9339,
   "id": "43266f44",
   "metadata": {},
   "outputs": [],
   "source": [
    "for i in [1, 2, 3, 4, 5, 6]:\n",
    "    col_name = 'cat_'+ str(i)\n",
    "    team[col_name] = team[team['category_id'] == i].groupby(['user_id'])['score'].transform('sum')"
   ]
  },
  {
   "cell_type": "code",
   "execution_count": 9340,
   "id": "03d3b1fb",
   "metadata": {},
   "outputs": [
    {
     "data": {
      "text/html": [
       "<div>\n",
       "<style scoped>\n",
       "    .dataframe tbody tr th:only-of-type {\n",
       "        vertical-align: middle;\n",
       "    }\n",
       "\n",
       "    .dataframe tbody tr th {\n",
       "        vertical-align: top;\n",
       "    }\n",
       "\n",
       "    .dataframe thead th {\n",
       "        text-align: right;\n",
       "    }\n",
       "</style>\n",
       "<table border=\"1\" class=\"dataframe\">\n",
       "  <thead>\n",
       "    <tr style=\"text-align: right;\">\n",
       "      <th></th>\n",
       "      <th>team_id</th>\n",
       "      <th>category_id</th>\n",
       "      <th>period</th>\n",
       "      <th>score</th>\n",
       "      <th>place</th>\n",
       "      <th>game_id</th>\n",
       "      <th>total_score</th>\n",
       "      <th>user_id</th>\n",
       "      <th>cat_1</th>\n",
       "      <th>cat_2</th>\n",
       "      <th>cat_3</th>\n",
       "      <th>cat_4</th>\n",
       "      <th>cat_5</th>\n",
       "      <th>cat_6</th>\n",
       "    </tr>\n",
       "  </thead>\n",
       "  <tbody>\n",
       "    <tr>\n",
       "      <th>0</th>\n",
       "      <td>1248</td>\n",
       "      <td>5</td>\n",
       "      <td>2</td>\n",
       "      <td>24</td>\n",
       "      <td>1</td>\n",
       "      <td>182</td>\n",
       "      <td>2382</td>\n",
       "      <td>10273</td>\n",
       "      <td>NaN</td>\n",
       "      <td>NaN</td>\n",
       "      <td>NaN</td>\n",
       "      <td>NaN</td>\n",
       "      <td>125.00</td>\n",
       "      <td>NaN</td>\n",
       "    </tr>\n",
       "    <tr>\n",
       "      <th>1</th>\n",
       "      <td>1248</td>\n",
       "      <td>4</td>\n",
       "      <td>2</td>\n",
       "      <td>44</td>\n",
       "      <td>1</td>\n",
       "      <td>182</td>\n",
       "      <td>2382</td>\n",
       "      <td>10273</td>\n",
       "      <td>NaN</td>\n",
       "      <td>NaN</td>\n",
       "      <td>NaN</td>\n",
       "      <td>208.00</td>\n",
       "      <td>NaN</td>\n",
       "      <td>NaN</td>\n",
       "    </tr>\n",
       "    <tr>\n",
       "      <th>2</th>\n",
       "      <td>1248</td>\n",
       "      <td>1</td>\n",
       "      <td>4</td>\n",
       "      <td>68</td>\n",
       "      <td>1</td>\n",
       "      <td>182</td>\n",
       "      <td>2382</td>\n",
       "      <td>10273</td>\n",
       "      <td>174.00</td>\n",
       "      <td>NaN</td>\n",
       "      <td>NaN</td>\n",
       "      <td>NaN</td>\n",
       "      <td>NaN</td>\n",
       "      <td>NaN</td>\n",
       "    </tr>\n",
       "    <tr>\n",
       "      <th>3</th>\n",
       "      <td>1248</td>\n",
       "      <td>6</td>\n",
       "      <td>4</td>\n",
       "      <td>354</td>\n",
       "      <td>1</td>\n",
       "      <td>182</td>\n",
       "      <td>2382</td>\n",
       "      <td>10273</td>\n",
       "      <td>NaN</td>\n",
       "      <td>NaN</td>\n",
       "      <td>NaN</td>\n",
       "      <td>NaN</td>\n",
       "      <td>NaN</td>\n",
       "      <td>1,191.00</td>\n",
       "    </tr>\n",
       "    <tr>\n",
       "      <th>4</th>\n",
       "      <td>1248</td>\n",
       "      <td>6</td>\n",
       "      <td>1</td>\n",
       "      <td>261</td>\n",
       "      <td>1</td>\n",
       "      <td>182</td>\n",
       "      <td>2382</td>\n",
       "      <td>10273</td>\n",
       "      <td>NaN</td>\n",
       "      <td>NaN</td>\n",
       "      <td>NaN</td>\n",
       "      <td>NaN</td>\n",
       "      <td>NaN</td>\n",
       "      <td>1,191.00</td>\n",
       "    </tr>\n",
       "  </tbody>\n",
       "</table>\n",
       "</div>"
      ],
      "text/plain": [
       "   team_id  category_id  period  score  place  game_id  total_score  user_id  \\\n",
       "0     1248            5       2     24      1      182         2382    10273   \n",
       "1     1248            4       2     44      1      182         2382    10273   \n",
       "2     1248            1       4     68      1      182         2382    10273   \n",
       "3     1248            6       4    354      1      182         2382    10273   \n",
       "4     1248            6       1    261      1      182         2382    10273   \n",
       "\n",
       "   cat_1  cat_2  cat_3  cat_4  cat_5    cat_6  \n",
       "0    NaN    NaN    NaN    NaN 125.00      NaN  \n",
       "1    NaN    NaN    NaN 208.00    NaN      NaN  \n",
       "2 174.00    NaN    NaN    NaN    NaN      NaN  \n",
       "3    NaN    NaN    NaN    NaN    NaN 1,191.00  \n",
       "4    NaN    NaN    NaN    NaN    NaN 1,191.00  "
      ]
     },
     "execution_count": 9340,
     "metadata": {},
     "output_type": "execute_result"
    }
   ],
   "source": [
    "team.head()"
   ]
  },
  {
   "cell_type": "code",
   "execution_count": 9341,
   "id": "addcf0ce",
   "metadata": {},
   "outputs": [
    {
     "data": {
      "text/plain": [
       "(23352, 14)"
      ]
     },
     "execution_count": 9341,
     "metadata": {},
     "output_type": "execute_result"
    }
   ],
   "source": [
    "team.shape"
   ]
  },
  {
   "cell_type": "code",
   "execution_count": 9342,
   "id": "82a030c0",
   "metadata": {},
   "outputs": [],
   "source": [
    "team = team.groupby('user_id').max()"
   ]
  },
  {
   "cell_type": "code",
   "execution_count": 9343,
   "id": "f90667db",
   "metadata": {
    "scrolled": true
   },
   "outputs": [
    {
     "data": {
      "text/html": [
       "<div>\n",
       "<style scoped>\n",
       "    .dataframe tbody tr th:only-of-type {\n",
       "        vertical-align: middle;\n",
       "    }\n",
       "\n",
       "    .dataframe tbody tr th {\n",
       "        vertical-align: top;\n",
       "    }\n",
       "\n",
       "    .dataframe thead th {\n",
       "        text-align: right;\n",
       "    }\n",
       "</style>\n",
       "<table border=\"1\" class=\"dataframe\">\n",
       "  <thead>\n",
       "    <tr style=\"text-align: right;\">\n",
       "      <th></th>\n",
       "      <th>team_id</th>\n",
       "      <th>category_id</th>\n",
       "      <th>period</th>\n",
       "      <th>score</th>\n",
       "      <th>place</th>\n",
       "      <th>game_id</th>\n",
       "      <th>total_score</th>\n",
       "      <th>cat_1</th>\n",
       "      <th>cat_2</th>\n",
       "      <th>cat_3</th>\n",
       "      <th>cat_4</th>\n",
       "      <th>cat_5</th>\n",
       "      <th>cat_6</th>\n",
       "    </tr>\n",
       "    <tr>\n",
       "      <th>user_id</th>\n",
       "      <th></th>\n",
       "      <th></th>\n",
       "      <th></th>\n",
       "      <th></th>\n",
       "      <th></th>\n",
       "      <th></th>\n",
       "      <th></th>\n",
       "      <th></th>\n",
       "      <th></th>\n",
       "      <th></th>\n",
       "      <th></th>\n",
       "      <th></th>\n",
       "      <th></th>\n",
       "    </tr>\n",
       "  </thead>\n",
       "  <tbody>\n",
       "    <tr>\n",
       "      <th>10001</th>\n",
       "      <td>1366</td>\n",
       "      <td>6</td>\n",
       "      <td>4</td>\n",
       "      <td>328</td>\n",
       "      <td>5</td>\n",
       "      <td>192</td>\n",
       "      <td>2092</td>\n",
       "      <td>179.00</td>\n",
       "      <td>131.00</td>\n",
       "      <td>421.00</td>\n",
       "      <td>156.00</td>\n",
       "      <td>159.00</td>\n",
       "      <td>1,046.00</td>\n",
       "    </tr>\n",
       "    <tr>\n",
       "      <th>10002</th>\n",
       "      <td>1682</td>\n",
       "      <td>6</td>\n",
       "      <td>4</td>\n",
       "      <td>299</td>\n",
       "      <td>6</td>\n",
       "      <td>236</td>\n",
       "      <td>1978</td>\n",
       "      <td>145.00</td>\n",
       "      <td>208.00</td>\n",
       "      <td>382.00</td>\n",
       "      <td>173.00</td>\n",
       "      <td>81.00</td>\n",
       "      <td>989.00</td>\n",
       "    </tr>\n",
       "    <tr>\n",
       "      <th>10003</th>\n",
       "      <td>1652</td>\n",
       "      <td>6</td>\n",
       "      <td>4</td>\n",
       "      <td>110</td>\n",
       "      <td>6</td>\n",
       "      <td>234</td>\n",
       "      <td>428</td>\n",
       "      <td>-71.00</td>\n",
       "      <td>-151.00</td>\n",
       "      <td>209.00</td>\n",
       "      <td>74.00</td>\n",
       "      <td>153.00</td>\n",
       "      <td>214.00</td>\n",
       "    </tr>\n",
       "    <tr>\n",
       "      <th>10004</th>\n",
       "      <td>1472</td>\n",
       "      <td>6</td>\n",
       "      <td>4</td>\n",
       "      <td>142</td>\n",
       "      <td>6</td>\n",
       "      <td>206</td>\n",
       "      <td>778</td>\n",
       "      <td>-25.00</td>\n",
       "      <td>-25.00</td>\n",
       "      <td>224.00</td>\n",
       "      <td>80.00</td>\n",
       "      <td>135.00</td>\n",
       "      <td>389.00</td>\n",
       "    </tr>\n",
       "    <tr>\n",
       "      <th>10005</th>\n",
       "      <td>1602</td>\n",
       "      <td>6</td>\n",
       "      <td>4</td>\n",
       "      <td>114</td>\n",
       "      <td>6</td>\n",
       "      <td>219</td>\n",
       "      <td>584</td>\n",
       "      <td>-46.00</td>\n",
       "      <td>-80.00</td>\n",
       "      <td>216.00</td>\n",
       "      <td>90.00</td>\n",
       "      <td>112.00</td>\n",
       "      <td>292.00</td>\n",
       "    </tr>\n",
       "  </tbody>\n",
       "</table>\n",
       "</div>"
      ],
      "text/plain": [
       "         team_id  category_id  period  score  place  game_id  total_score  \\\n",
       "user_id                                                                     \n",
       "10001       1366            6       4    328      5      192         2092   \n",
       "10002       1682            6       4    299      6      236         1978   \n",
       "10003       1652            6       4    110      6      234          428   \n",
       "10004       1472            6       4    142      6      206          778   \n",
       "10005       1602            6       4    114      6      219          584   \n",
       "\n",
       "         cat_1   cat_2  cat_3  cat_4  cat_5    cat_6  \n",
       "user_id                                               \n",
       "10001   179.00  131.00 421.00 156.00 159.00 1,046.00  \n",
       "10002   145.00  208.00 382.00 173.00  81.00   989.00  \n",
       "10003   -71.00 -151.00 209.00  74.00 153.00   214.00  \n",
       "10004   -25.00  -25.00 224.00  80.00 135.00   389.00  \n",
       "10005   -46.00  -80.00 216.00  90.00 112.00   292.00  "
      ]
     },
     "execution_count": 9343,
     "metadata": {},
     "output_type": "execute_result"
    }
   ],
   "source": [
    "team.head()"
   ]
  },
  {
   "cell_type": "code",
   "execution_count": 9344,
   "id": "e592b76d",
   "metadata": {},
   "outputs": [
    {
     "data": {
      "text/plain": [
       "(973, 13)"
      ]
     },
     "execution_count": 9344,
     "metadata": {},
     "output_type": "execute_result"
    }
   ],
   "source": [
    "team.shape"
   ]
  },
  {
   "cell_type": "code",
   "execution_count": 9345,
   "id": "2d41fe5e",
   "metadata": {},
   "outputs": [],
   "source": [
    "team_game_score = team.drop(['category_id','period','score','place'], axis=1).drop_duplicates()"
   ]
  },
  {
   "cell_type": "code",
   "execution_count": 9346,
   "id": "96f11824",
   "metadata": {
    "scrolled": true
   },
   "outputs": [
    {
     "data": {
      "text/html": [
       "<div>\n",
       "<style scoped>\n",
       "    .dataframe tbody tr th:only-of-type {\n",
       "        vertical-align: middle;\n",
       "    }\n",
       "\n",
       "    .dataframe tbody tr th {\n",
       "        vertical-align: top;\n",
       "    }\n",
       "\n",
       "    .dataframe thead th {\n",
       "        text-align: right;\n",
       "    }\n",
       "</style>\n",
       "<table border=\"1\" class=\"dataframe\">\n",
       "  <thead>\n",
       "    <tr style=\"text-align: right;\">\n",
       "      <th></th>\n",
       "      <th>team_id</th>\n",
       "      <th>game_id</th>\n",
       "      <th>total_score</th>\n",
       "      <th>cat_1</th>\n",
       "      <th>cat_2</th>\n",
       "      <th>cat_3</th>\n",
       "      <th>cat_4</th>\n",
       "      <th>cat_5</th>\n",
       "      <th>cat_6</th>\n",
       "    </tr>\n",
       "    <tr>\n",
       "      <th>user_id</th>\n",
       "      <th></th>\n",
       "      <th></th>\n",
       "      <th></th>\n",
       "      <th></th>\n",
       "      <th></th>\n",
       "      <th></th>\n",
       "      <th></th>\n",
       "      <th></th>\n",
       "      <th></th>\n",
       "    </tr>\n",
       "  </thead>\n",
       "  <tbody>\n",
       "    <tr>\n",
       "      <th>10001</th>\n",
       "      <td>1366</td>\n",
       "      <td>192</td>\n",
       "      <td>2092</td>\n",
       "      <td>179.00</td>\n",
       "      <td>131.00</td>\n",
       "      <td>421.00</td>\n",
       "      <td>156.00</td>\n",
       "      <td>159.00</td>\n",
       "      <td>1,046.00</td>\n",
       "    </tr>\n",
       "  </tbody>\n",
       "</table>\n",
       "</div>"
      ],
      "text/plain": [
       "         team_id  game_id  total_score  cat_1  cat_2  cat_3  cat_4  cat_5  \\\n",
       "user_id                                                                     \n",
       "10001       1366      192         2092 179.00 131.00 421.00 156.00 159.00   \n",
       "\n",
       "           cat_6  \n",
       "user_id           \n",
       "10001   1,046.00  "
      ]
     },
     "execution_count": 9346,
     "metadata": {},
     "output_type": "execute_result"
    }
   ],
   "source": [
    "team_game_score.head(1)"
   ]
  },
  {
   "cell_type": "code",
   "execution_count": 9347,
   "id": "55422a40",
   "metadata": {
    "scrolled": true
   },
   "outputs": [
    {
     "data": {
      "text/plain": [
       "count     214.00\n",
       "mean    1,240.01\n",
       "std       428.67\n",
       "min       200.00\n",
       "25%       934.50\n",
       "50%     1,236.00\n",
       "75%     1,483.50\n",
       "max     2,724.00\n",
       "Name: total_score, dtype: float64"
      ]
     },
     "execution_count": 9347,
     "metadata": {},
     "output_type": "execute_result"
    }
   ],
   "source": [
    "team_game_score['total_score'].describe()"
   ]
  },
  {
   "cell_type": "code",
   "execution_count": 9348,
   "id": "39cb1c9e",
   "metadata": {},
   "outputs": [],
   "source": [
    "min_score_game = team_game_score.groupby('game_id')['total_score'].min()\n",
    "max_score_game = team_game_score.groupby('game_id')['total_score'].max()\n",
    "mean_score_game = team_game_score.groupby('game_id')['total_score'].mean()"
   ]
  },
  {
   "cell_type": "code",
   "execution_count": 9349,
   "id": "8a018c26",
   "metadata": {
    "scrolled": true
   },
   "outputs": [
    {
     "data": {
      "text/plain": [
       "count      43.00\n",
       "mean      806.19\n",
       "std       320.05\n",
       "min       200.00\n",
       "25%       607.00\n",
       "50%       756.00\n",
       "75%       943.00\n",
       "max     1,568.00\n",
       "Name: total_score, dtype: float64"
      ]
     },
     "execution_count": 9349,
     "metadata": {},
     "output_type": "execute_result"
    }
   ],
   "source": [
    "min_score_game.describe()"
   ]
  },
  {
   "cell_type": "code",
   "execution_count": 9350,
   "id": "bf7a2dbd",
   "metadata": {},
   "outputs": [
    {
     "data": {
      "text/plain": [
       "Text(0, 0.5, '')"
      ]
     },
     "execution_count": 9350,
     "metadata": {},
     "output_type": "execute_result"
    },
    {
     "data": {
      "image/png": "[encoded data removed]",
      "text/plain": [
       "<Figure size 600x300 with 1 Axes>"
      ]
     },
     "metadata": {},
     "output_type": "display_data"
    }
   ],
   "source": [
    "plt.figure(figsize = (6,3))\n",
    "sns.boxplot(data=[min_score_game, mean_score_game, max_score_game],\n",
    "                 orient=\"h\")\n",
    "plt.title('Распределение min, mean, max score по командам', fontsize = 10)\n",
    "plt.xlabel('score')\n",
    "plt.ylabel('')"
   ]
  },
  {
   "cell_type": "code",
   "execution_count": 9351,
   "id": "ddad2ebf",
   "metadata": {},
   "outputs": [],
   "source": [
    "user_score = team_game_score.set_index('team_id').join(user.set_index('team_id').drop('game_id', axis=1), how = 'right')"
   ]
  },
  {
   "cell_type": "code",
   "execution_count": 9352,
   "id": "011e9182",
   "metadata": {
    "scrolled": true
   },
   "outputs": [
    {
     "data": {
      "text/html": [
       "<div>\n",
       "<style scoped>\n",
       "    .dataframe tbody tr th:only-of-type {\n",
       "        vertical-align: middle;\n",
       "    }\n",
       "\n",
       "    .dataframe tbody tr th {\n",
       "        vertical-align: top;\n",
       "    }\n",
       "\n",
       "    .dataframe thead th {\n",
       "        text-align: right;\n",
       "    }\n",
       "</style>\n",
       "<table border=\"1\" class=\"dataframe\">\n",
       "  <thead>\n",
       "    <tr style=\"text-align: right;\">\n",
       "      <th></th>\n",
       "      <th>game_id</th>\n",
       "      <th>total_score</th>\n",
       "      <th>cat_1</th>\n",
       "      <th>cat_2</th>\n",
       "      <th>cat_3</th>\n",
       "      <th>cat_4</th>\n",
       "      <th>cat_5</th>\n",
       "      <th>cat_6</th>\n",
       "      <th>user_id</th>\n",
       "    </tr>\n",
       "    <tr>\n",
       "      <th>team_id</th>\n",
       "      <th></th>\n",
       "      <th></th>\n",
       "      <th></th>\n",
       "      <th></th>\n",
       "      <th></th>\n",
       "      <th></th>\n",
       "      <th></th>\n",
       "      <th></th>\n",
       "      <th></th>\n",
       "    </tr>\n",
       "  </thead>\n",
       "  <tbody>\n",
       "    <tr>\n",
       "      <th>1248</th>\n",
       "      <td>182</td>\n",
       "      <td>2382</td>\n",
       "      <td>174.00</td>\n",
       "      <td>281.00</td>\n",
       "      <td>403.00</td>\n",
       "      <td>208.00</td>\n",
       "      <td>125.00</td>\n",
       "      <td>1,191.00</td>\n",
       "      <td>10273</td>\n",
       "    </tr>\n",
       "  </tbody>\n",
       "</table>\n",
       "</div>"
      ],
      "text/plain": [
       "         game_id  total_score  cat_1  cat_2  cat_3  cat_4  cat_5    cat_6  \\\n",
       "team_id                                                                     \n",
       "1248         182         2382 174.00 281.00 403.00 208.00 125.00 1,191.00   \n",
       "\n",
       "         user_id  \n",
       "team_id           \n",
       "1248       10273  "
      ]
     },
     "execution_count": 9352,
     "metadata": {},
     "output_type": "execute_result"
    }
   ],
   "source": [
    "user_score.head(1)"
   ]
  },
  {
   "cell_type": "code",
   "execution_count": 9353,
   "id": "3f31959a",
   "metadata": {
    "scrolled": true
   },
   "outputs": [
    {
     "data": {
      "text/html": [
       "<div>\n",
       "<style scoped>\n",
       "    .dataframe tbody tr th:only-of-type {\n",
       "        vertical-align: middle;\n",
       "    }\n",
       "\n",
       "    .dataframe tbody tr th {\n",
       "        vertical-align: top;\n",
       "    }\n",
       "\n",
       "    .dataframe thead th {\n",
       "        text-align: right;\n",
       "    }\n",
       "</style>\n",
       "<table border=\"1\" class=\"dataframe\">\n",
       "  <thead>\n",
       "    <tr style=\"text-align: right;\">\n",
       "      <th></th>\n",
       "      <th>game_id</th>\n",
       "      <th>total_score</th>\n",
       "      <th>cat_1</th>\n",
       "      <th>cat_2</th>\n",
       "      <th>cat_3</th>\n",
       "      <th>cat_4</th>\n",
       "      <th>cat_5</th>\n",
       "      <th>cat_6</th>\n",
       "      <th>user_id</th>\n",
       "      <th>max_score</th>\n",
       "    </tr>\n",
       "    <tr>\n",
       "      <th>team_id</th>\n",
       "      <th></th>\n",
       "      <th></th>\n",
       "      <th></th>\n",
       "      <th></th>\n",
       "      <th></th>\n",
       "      <th></th>\n",
       "      <th></th>\n",
       "      <th></th>\n",
       "      <th></th>\n",
       "      <th></th>\n",
       "    </tr>\n",
       "  </thead>\n",
       "  <tbody>\n",
       "    <tr>\n",
       "      <th>1248</th>\n",
       "      <td>182</td>\n",
       "      <td>2382</td>\n",
       "      <td>174.00</td>\n",
       "      <td>281.00</td>\n",
       "      <td>403.00</td>\n",
       "      <td>208.00</td>\n",
       "      <td>125.00</td>\n",
       "      <td>1,191.00</td>\n",
       "      <td>10273</td>\n",
       "      <td>2382</td>\n",
       "    </tr>\n",
       "    <tr>\n",
       "      <th>1248</th>\n",
       "      <td>182</td>\n",
       "      <td>2382</td>\n",
       "      <td>174.00</td>\n",
       "      <td>281.00</td>\n",
       "      <td>403.00</td>\n",
       "      <td>208.00</td>\n",
       "      <td>125.00</td>\n",
       "      <td>1,191.00</td>\n",
       "      <td>10762</td>\n",
       "      <td>2382</td>\n",
       "    </tr>\n",
       "    <tr>\n",
       "      <th>1248</th>\n",
       "      <td>182</td>\n",
       "      <td>2382</td>\n",
       "      <td>174.00</td>\n",
       "      <td>281.00</td>\n",
       "      <td>403.00</td>\n",
       "      <td>208.00</td>\n",
       "      <td>125.00</td>\n",
       "      <td>1,191.00</td>\n",
       "      <td>10646</td>\n",
       "      <td>2382</td>\n",
       "    </tr>\n",
       "    <tr>\n",
       "      <th>1252</th>\n",
       "      <td>182</td>\n",
       "      <td>996</td>\n",
       "      <td>-5.00</td>\n",
       "      <td>11.00</td>\n",
       "      <td>302.00</td>\n",
       "      <td>125.00</td>\n",
       "      <td>65.00</td>\n",
       "      <td>498.00</td>\n",
       "      <td>10547</td>\n",
       "      <td>2382</td>\n",
       "    </tr>\n",
       "    <tr>\n",
       "      <th>1252</th>\n",
       "      <td>182</td>\n",
       "      <td>996</td>\n",
       "      <td>-5.00</td>\n",
       "      <td>11.00</td>\n",
       "      <td>302.00</td>\n",
       "      <td>125.00</td>\n",
       "      <td>65.00</td>\n",
       "      <td>498.00</td>\n",
       "      <td>10833</td>\n",
       "      <td>2382</td>\n",
       "    </tr>\n",
       "  </tbody>\n",
       "</table>\n",
       "</div>"
      ],
      "text/plain": [
       "         game_id  total_score  cat_1  cat_2  cat_3  cat_4  cat_5    cat_6  \\\n",
       "team_id                                                                     \n",
       "1248         182         2382 174.00 281.00 403.00 208.00 125.00 1,191.00   \n",
       "1248         182         2382 174.00 281.00 403.00 208.00 125.00 1,191.00   \n",
       "1248         182         2382 174.00 281.00 403.00 208.00 125.00 1,191.00   \n",
       "1252         182          996  -5.00  11.00 302.00 125.00  65.00   498.00   \n",
       "1252         182          996  -5.00  11.00 302.00 125.00  65.00   498.00   \n",
       "\n",
       "         user_id  max_score  \n",
       "team_id                      \n",
       "1248       10273       2382  \n",
       "1248       10762       2382  \n",
       "1248       10646       2382  \n",
       "1252       10547       2382  \n",
       "1252       10833       2382  "
      ]
     },
     "execution_count": 9353,
     "metadata": {},
     "output_type": "execute_result"
    }
   ],
   "source": [
    "user_score['max_score']=user_score.groupby('game_id')['total_score'].transform('max')\n",
    "user_score.head(5)"
   ]
  },
  {
   "cell_type": "code",
   "execution_count": 9354,
   "id": "cfc4bf52",
   "metadata": {
    "scrolled": true
   },
   "outputs": [
    {
     "data": {
      "text/html": [
       "<div>\n",
       "<style scoped>\n",
       "    .dataframe tbody tr th:only-of-type {\n",
       "        vertical-align: middle;\n",
       "    }\n",
       "\n",
       "    .dataframe tbody tr th {\n",
       "        vertical-align: top;\n",
       "    }\n",
       "\n",
       "    .dataframe thead th {\n",
       "        text-align: right;\n",
       "    }\n",
       "</style>\n",
       "<table border=\"1\" class=\"dataframe\">\n",
       "  <thead>\n",
       "    <tr style=\"text-align: right;\">\n",
       "      <th></th>\n",
       "      <th>game_id</th>\n",
       "      <th>total_score</th>\n",
       "      <th>cat_1</th>\n",
       "      <th>cat_2</th>\n",
       "      <th>cat_3</th>\n",
       "      <th>cat_4</th>\n",
       "      <th>cat_5</th>\n",
       "      <th>cat_6</th>\n",
       "      <th>user_id</th>\n",
       "      <th>max_score</th>\n",
       "      <th>score_rating</th>\n",
       "    </tr>\n",
       "    <tr>\n",
       "      <th>team_id</th>\n",
       "      <th></th>\n",
       "      <th></th>\n",
       "      <th></th>\n",
       "      <th></th>\n",
       "      <th></th>\n",
       "      <th></th>\n",
       "      <th></th>\n",
       "      <th></th>\n",
       "      <th></th>\n",
       "      <th></th>\n",
       "      <th></th>\n",
       "    </tr>\n",
       "  </thead>\n",
       "  <tbody>\n",
       "    <tr>\n",
       "      <th>1248</th>\n",
       "      <td>182</td>\n",
       "      <td>2382</td>\n",
       "      <td>174.00</td>\n",
       "      <td>281.00</td>\n",
       "      <td>403.00</td>\n",
       "      <td>208.00</td>\n",
       "      <td>125.00</td>\n",
       "      <td>1,191.00</td>\n",
       "      <td>10273</td>\n",
       "      <td>2382</td>\n",
       "      <td>1.00</td>\n",
       "    </tr>\n",
       "  </tbody>\n",
       "</table>\n",
       "</div>"
      ],
      "text/plain": [
       "         game_id  total_score  cat_1  cat_2  cat_3  cat_4  cat_5    cat_6  \\\n",
       "team_id                                                                     \n",
       "1248         182         2382 174.00 281.00 403.00 208.00 125.00 1,191.00   \n",
       "\n",
       "         user_id  max_score  score_rating  \n",
       "team_id                                    \n",
       "1248       10273       2382          1.00  "
      ]
     },
     "execution_count": 9354,
     "metadata": {},
     "output_type": "execute_result"
    }
   ],
   "source": [
    "user_score['score_rating']= user_score['total_score']/user_score['max_score']\n",
    "user_score.head(1)"
   ]
  },
  {
   "cell_type": "code",
   "execution_count": 9355,
   "id": "16abc34f",
   "metadata": {},
   "outputs": [],
   "source": [
    "for i in [1, 2, 3, 4, 5, 6]:\n",
    "    col_name = 'rating_'+ str(i)+'_max'\n",
    "    col_name_cat = 'cat_'+str(i)\n",
    "    user_score[col_name] = user_score.groupby('game_id')[col_name_cat].transform('max')"
   ]
  },
  {
   "cell_type": "code",
   "execution_count": 9356,
   "id": "7285457b",
   "metadata": {
    "scrolled": true
   },
   "outputs": [
    {
     "data": {
      "text/html": [
       "<div>\n",
       "<style scoped>\n",
       "    .dataframe tbody tr th:only-of-type {\n",
       "        vertical-align: middle;\n",
       "    }\n",
       "\n",
       "    .dataframe tbody tr th {\n",
       "        vertical-align: top;\n",
       "    }\n",
       "\n",
       "    .dataframe thead th {\n",
       "        text-align: right;\n",
       "    }\n",
       "</style>\n",
       "<table border=\"1\" class=\"dataframe\">\n",
       "  <thead>\n",
       "    <tr style=\"text-align: right;\">\n",
       "      <th></th>\n",
       "      <th>game_id</th>\n",
       "      <th>total_score</th>\n",
       "      <th>cat_1</th>\n",
       "      <th>cat_2</th>\n",
       "      <th>cat_3</th>\n",
       "      <th>cat_4</th>\n",
       "      <th>cat_5</th>\n",
       "      <th>cat_6</th>\n",
       "      <th>user_id</th>\n",
       "      <th>max_score</th>\n",
       "      <th>score_rating</th>\n",
       "      <th>rating_1_max</th>\n",
       "      <th>rating_2_max</th>\n",
       "      <th>rating_3_max</th>\n",
       "      <th>rating_4_max</th>\n",
       "      <th>rating_5_max</th>\n",
       "      <th>rating_6_max</th>\n",
       "    </tr>\n",
       "    <tr>\n",
       "      <th>team_id</th>\n",
       "      <th></th>\n",
       "      <th></th>\n",
       "      <th></th>\n",
       "      <th></th>\n",
       "      <th></th>\n",
       "      <th></th>\n",
       "      <th></th>\n",
       "      <th></th>\n",
       "      <th></th>\n",
       "      <th></th>\n",
       "      <th></th>\n",
       "      <th></th>\n",
       "      <th></th>\n",
       "      <th></th>\n",
       "      <th></th>\n",
       "      <th></th>\n",
       "      <th></th>\n",
       "    </tr>\n",
       "  </thead>\n",
       "  <tbody>\n",
       "    <tr>\n",
       "      <th>1248</th>\n",
       "      <td>182</td>\n",
       "      <td>2382</td>\n",
       "      <td>174.00</td>\n",
       "      <td>281.00</td>\n",
       "      <td>403.00</td>\n",
       "      <td>208.00</td>\n",
       "      <td>125.00</td>\n",
       "      <td>1,191.00</td>\n",
       "      <td>10273</td>\n",
       "      <td>2382</td>\n",
       "      <td>1.00</td>\n",
       "      <td>174.00</td>\n",
       "      <td>281.00</td>\n",
       "      <td>403.00</td>\n",
       "      <td>208.00</td>\n",
       "      <td>125.00</td>\n",
       "      <td>1,191.00</td>\n",
       "    </tr>\n",
       "    <tr>\n",
       "      <th>1248</th>\n",
       "      <td>182</td>\n",
       "      <td>2382</td>\n",
       "      <td>174.00</td>\n",
       "      <td>281.00</td>\n",
       "      <td>403.00</td>\n",
       "      <td>208.00</td>\n",
       "      <td>125.00</td>\n",
       "      <td>1,191.00</td>\n",
       "      <td>10762</td>\n",
       "      <td>2382</td>\n",
       "      <td>1.00</td>\n",
       "      <td>174.00</td>\n",
       "      <td>281.00</td>\n",
       "      <td>403.00</td>\n",
       "      <td>208.00</td>\n",
       "      <td>125.00</td>\n",
       "      <td>1,191.00</td>\n",
       "    </tr>\n",
       "    <tr>\n",
       "      <th>1248</th>\n",
       "      <td>182</td>\n",
       "      <td>2382</td>\n",
       "      <td>174.00</td>\n",
       "      <td>281.00</td>\n",
       "      <td>403.00</td>\n",
       "      <td>208.00</td>\n",
       "      <td>125.00</td>\n",
       "      <td>1,191.00</td>\n",
       "      <td>10646</td>\n",
       "      <td>2382</td>\n",
       "      <td>1.00</td>\n",
       "      <td>174.00</td>\n",
       "      <td>281.00</td>\n",
       "      <td>403.00</td>\n",
       "      <td>208.00</td>\n",
       "      <td>125.00</td>\n",
       "      <td>1,191.00</td>\n",
       "    </tr>\n",
       "    <tr>\n",
       "      <th>1252</th>\n",
       "      <td>182</td>\n",
       "      <td>996</td>\n",
       "      <td>-5.00</td>\n",
       "      <td>11.00</td>\n",
       "      <td>302.00</td>\n",
       "      <td>125.00</td>\n",
       "      <td>65.00</td>\n",
       "      <td>498.00</td>\n",
       "      <td>10547</td>\n",
       "      <td>2382</td>\n",
       "      <td>0.42</td>\n",
       "      <td>174.00</td>\n",
       "      <td>281.00</td>\n",
       "      <td>403.00</td>\n",
       "      <td>208.00</td>\n",
       "      <td>125.00</td>\n",
       "      <td>1,191.00</td>\n",
       "    </tr>\n",
       "    <tr>\n",
       "      <th>1252</th>\n",
       "      <td>182</td>\n",
       "      <td>996</td>\n",
       "      <td>-5.00</td>\n",
       "      <td>11.00</td>\n",
       "      <td>302.00</td>\n",
       "      <td>125.00</td>\n",
       "      <td>65.00</td>\n",
       "      <td>498.00</td>\n",
       "      <td>10833</td>\n",
       "      <td>2382</td>\n",
       "      <td>0.42</td>\n",
       "      <td>174.00</td>\n",
       "      <td>281.00</td>\n",
       "      <td>403.00</td>\n",
       "      <td>208.00</td>\n",
       "      <td>125.00</td>\n",
       "      <td>1,191.00</td>\n",
       "    </tr>\n",
       "  </tbody>\n",
       "</table>\n",
       "</div>"
      ],
      "text/plain": [
       "         game_id  total_score  cat_1  cat_2  cat_3  cat_4  cat_5    cat_6  \\\n",
       "team_id                                                                     \n",
       "1248         182         2382 174.00 281.00 403.00 208.00 125.00 1,191.00   \n",
       "1248         182         2382 174.00 281.00 403.00 208.00 125.00 1,191.00   \n",
       "1248         182         2382 174.00 281.00 403.00 208.00 125.00 1,191.00   \n",
       "1252         182          996  -5.00  11.00 302.00 125.00  65.00   498.00   \n",
       "1252         182          996  -5.00  11.00 302.00 125.00  65.00   498.00   \n",
       "\n",
       "         user_id  max_score  score_rating  rating_1_max  rating_2_max  \\\n",
       "team_id                                                                 \n",
       "1248       10273       2382          1.00        174.00        281.00   \n",
       "1248       10762       2382          1.00        174.00        281.00   \n",
       "1248       10646       2382          1.00        174.00        281.00   \n",
       "1252       10547       2382          0.42        174.00        281.00   \n",
       "1252       10833       2382          0.42        174.00        281.00   \n",
       "\n",
       "         rating_3_max  rating_4_max  rating_5_max  rating_6_max  \n",
       "team_id                                                          \n",
       "1248           403.00        208.00        125.00      1,191.00  \n",
       "1248           403.00        208.00        125.00      1,191.00  \n",
       "1248           403.00        208.00        125.00      1,191.00  \n",
       "1252           403.00        208.00        125.00      1,191.00  \n",
       "1252           403.00        208.00        125.00      1,191.00  "
      ]
     },
     "execution_count": 9356,
     "metadata": {},
     "output_type": "execute_result"
    }
   ],
   "source": [
    "user_score.head(5)"
   ]
  },
  {
   "cell_type": "code",
   "execution_count": 9357,
   "id": "6174842b",
   "metadata": {},
   "outputs": [],
   "source": [
    "for i in [1, 2, 3, 4, 5, 6]:\n",
    "    col_name = 'rating_'+ str(i)+'_max'\n",
    "    col_name_cat = 'cat_'+str(i)\n",
    "    col_name_rating = 'rating_'+str(i)\n",
    "    user_score[col_name_rating] = user_score[col_name_cat] / user_score[col_name]"
   ]
  },
  {
   "cell_type": "code",
   "execution_count": 9358,
   "id": "45ec80b7",
   "metadata": {
    "scrolled": false
   },
   "outputs": [
    {
     "data": {
      "text/html": [
       "<div>\n",
       "<style scoped>\n",
       "    .dataframe tbody tr th:only-of-type {\n",
       "        vertical-align: middle;\n",
       "    }\n",
       "\n",
       "    .dataframe tbody tr th {\n",
       "        vertical-align: top;\n",
       "    }\n",
       "\n",
       "    .dataframe thead th {\n",
       "        text-align: right;\n",
       "    }\n",
       "</style>\n",
       "<table border=\"1\" class=\"dataframe\">\n",
       "  <thead>\n",
       "    <tr style=\"text-align: right;\">\n",
       "      <th></th>\n",
       "      <th>game_id</th>\n",
       "      <th>total_score</th>\n",
       "      <th>cat_1</th>\n",
       "      <th>cat_2</th>\n",
       "      <th>cat_3</th>\n",
       "      <th>cat_4</th>\n",
       "      <th>cat_5</th>\n",
       "      <th>cat_6</th>\n",
       "      <th>user_id</th>\n",
       "      <th>max_score</th>\n",
       "      <th>...</th>\n",
       "      <th>rating_3_max</th>\n",
       "      <th>rating_4_max</th>\n",
       "      <th>rating_5_max</th>\n",
       "      <th>rating_6_max</th>\n",
       "      <th>rating_1</th>\n",
       "      <th>rating_2</th>\n",
       "      <th>rating_3</th>\n",
       "      <th>rating_4</th>\n",
       "      <th>rating_5</th>\n",
       "      <th>rating_6</th>\n",
       "    </tr>\n",
       "    <tr>\n",
       "      <th>team_id</th>\n",
       "      <th></th>\n",
       "      <th></th>\n",
       "      <th></th>\n",
       "      <th></th>\n",
       "      <th></th>\n",
       "      <th></th>\n",
       "      <th></th>\n",
       "      <th></th>\n",
       "      <th></th>\n",
       "      <th></th>\n",
       "      <th></th>\n",
       "      <th></th>\n",
       "      <th></th>\n",
       "      <th></th>\n",
       "      <th></th>\n",
       "      <th></th>\n",
       "      <th></th>\n",
       "      <th></th>\n",
       "      <th></th>\n",
       "      <th></th>\n",
       "      <th></th>\n",
       "    </tr>\n",
       "  </thead>\n",
       "  <tbody>\n",
       "    <tr>\n",
       "      <th>1248</th>\n",
       "      <td>182</td>\n",
       "      <td>2382</td>\n",
       "      <td>174.00</td>\n",
       "      <td>281.00</td>\n",
       "      <td>403.00</td>\n",
       "      <td>208.00</td>\n",
       "      <td>125.00</td>\n",
       "      <td>1,191.00</td>\n",
       "      <td>10273</td>\n",
       "      <td>2382</td>\n",
       "      <td>...</td>\n",
       "      <td>403.00</td>\n",
       "      <td>208.00</td>\n",
       "      <td>125.00</td>\n",
       "      <td>1,191.00</td>\n",
       "      <td>1.00</td>\n",
       "      <td>1.00</td>\n",
       "      <td>1.00</td>\n",
       "      <td>1.00</td>\n",
       "      <td>1.00</td>\n",
       "      <td>1.00</td>\n",
       "    </tr>\n",
       "    <tr>\n",
       "      <th>1248</th>\n",
       "      <td>182</td>\n",
       "      <td>2382</td>\n",
       "      <td>174.00</td>\n",
       "      <td>281.00</td>\n",
       "      <td>403.00</td>\n",
       "      <td>208.00</td>\n",
       "      <td>125.00</td>\n",
       "      <td>1,191.00</td>\n",
       "      <td>10762</td>\n",
       "      <td>2382</td>\n",
       "      <td>...</td>\n",
       "      <td>403.00</td>\n",
       "      <td>208.00</td>\n",
       "      <td>125.00</td>\n",
       "      <td>1,191.00</td>\n",
       "      <td>1.00</td>\n",
       "      <td>1.00</td>\n",
       "      <td>1.00</td>\n",
       "      <td>1.00</td>\n",
       "      <td>1.00</td>\n",
       "      <td>1.00</td>\n",
       "    </tr>\n",
       "    <tr>\n",
       "      <th>1248</th>\n",
       "      <td>182</td>\n",
       "      <td>2382</td>\n",
       "      <td>174.00</td>\n",
       "      <td>281.00</td>\n",
       "      <td>403.00</td>\n",
       "      <td>208.00</td>\n",
       "      <td>125.00</td>\n",
       "      <td>1,191.00</td>\n",
       "      <td>10646</td>\n",
       "      <td>2382</td>\n",
       "      <td>...</td>\n",
       "      <td>403.00</td>\n",
       "      <td>208.00</td>\n",
       "      <td>125.00</td>\n",
       "      <td>1,191.00</td>\n",
       "      <td>1.00</td>\n",
       "      <td>1.00</td>\n",
       "      <td>1.00</td>\n",
       "      <td>1.00</td>\n",
       "      <td>1.00</td>\n",
       "      <td>1.00</td>\n",
       "    </tr>\n",
       "    <tr>\n",
       "      <th>1252</th>\n",
       "      <td>182</td>\n",
       "      <td>996</td>\n",
       "      <td>-5.00</td>\n",
       "      <td>11.00</td>\n",
       "      <td>302.00</td>\n",
       "      <td>125.00</td>\n",
       "      <td>65.00</td>\n",
       "      <td>498.00</td>\n",
       "      <td>10547</td>\n",
       "      <td>2382</td>\n",
       "      <td>...</td>\n",
       "      <td>403.00</td>\n",
       "      <td>208.00</td>\n",
       "      <td>125.00</td>\n",
       "      <td>1,191.00</td>\n",
       "      <td>-0.03</td>\n",
       "      <td>0.04</td>\n",
       "      <td>0.75</td>\n",
       "      <td>0.60</td>\n",
       "      <td>0.52</td>\n",
       "      <td>0.42</td>\n",
       "    </tr>\n",
       "    <tr>\n",
       "      <th>1252</th>\n",
       "      <td>182</td>\n",
       "      <td>996</td>\n",
       "      <td>-5.00</td>\n",
       "      <td>11.00</td>\n",
       "      <td>302.00</td>\n",
       "      <td>125.00</td>\n",
       "      <td>65.00</td>\n",
       "      <td>498.00</td>\n",
       "      <td>10833</td>\n",
       "      <td>2382</td>\n",
       "      <td>...</td>\n",
       "      <td>403.00</td>\n",
       "      <td>208.00</td>\n",
       "      <td>125.00</td>\n",
       "      <td>1,191.00</td>\n",
       "      <td>-0.03</td>\n",
       "      <td>0.04</td>\n",
       "      <td>0.75</td>\n",
       "      <td>0.60</td>\n",
       "      <td>0.52</td>\n",
       "      <td>0.42</td>\n",
       "    </tr>\n",
       "  </tbody>\n",
       "</table>\n",
       "<p>5 rows × 23 columns</p>\n",
       "</div>"
      ],
      "text/plain": [
       "         game_id  total_score  cat_1  cat_2  cat_3  cat_4  cat_5    cat_6  \\\n",
       "team_id                                                                     \n",
       "1248         182         2382 174.00 281.00 403.00 208.00 125.00 1,191.00   \n",
       "1248         182         2382 174.00 281.00 403.00 208.00 125.00 1,191.00   \n",
       "1248         182         2382 174.00 281.00 403.00 208.00 125.00 1,191.00   \n",
       "1252         182          996  -5.00  11.00 302.00 125.00  65.00   498.00   \n",
       "1252         182          996  -5.00  11.00 302.00 125.00  65.00   498.00   \n",
       "\n",
       "         user_id  max_score  ...  rating_3_max  rating_4_max  rating_5_max  \\\n",
       "team_id                      ...                                             \n",
       "1248       10273       2382  ...        403.00        208.00        125.00   \n",
       "1248       10762       2382  ...        403.00        208.00        125.00   \n",
       "1248       10646       2382  ...        403.00        208.00        125.00   \n",
       "1252       10547       2382  ...        403.00        208.00        125.00   \n",
       "1252       10833       2382  ...        403.00        208.00        125.00   \n",
       "\n",
       "         rating_6_max  rating_1  rating_2  rating_3  rating_4  rating_5  \\\n",
       "team_id                                                                   \n",
       "1248         1,191.00      1.00      1.00      1.00      1.00      1.00   \n",
       "1248         1,191.00      1.00      1.00      1.00      1.00      1.00   \n",
       "1248         1,191.00      1.00      1.00      1.00      1.00      1.00   \n",
       "1252         1,191.00     -0.03      0.04      0.75      0.60      0.52   \n",
       "1252         1,191.00     -0.03      0.04      0.75      0.60      0.52   \n",
       "\n",
       "         rating_6  \n",
       "team_id            \n",
       "1248         1.00  \n",
       "1248         1.00  \n",
       "1248         1.00  \n",
       "1252         0.42  \n",
       "1252         0.42  \n",
       "\n",
       "[5 rows x 23 columns]"
      ]
     },
     "execution_count": 9358,
     "metadata": {},
     "output_type": "execute_result"
    }
   ],
   "source": [
    "user_score.head(5)"
   ]
  },
  {
   "cell_type": "code",
   "execution_count": 9359,
   "id": "e13da89c",
   "metadata": {},
   "outputs": [
    {
     "data": {
      "text/plain": [
       "Index(['game_id', 'total_score', 'cat_1', 'cat_2', 'cat_3', 'cat_4', 'cat_5',\n",
       "       'cat_6', 'user_id', 'max_score', 'score_rating', 'rating_1_max',\n",
       "       'rating_2_max', 'rating_3_max', 'rating_4_max', 'rating_5_max',\n",
       "       'rating_6_max', 'rating_1', 'rating_2', 'rating_3', 'rating_4',\n",
       "       'rating_5', 'rating_6'],\n",
       "      dtype='object')"
      ]
     },
     "execution_count": 9359,
     "metadata": {},
     "output_type": "execute_result"
    }
   ],
   "source": [
    "user_score.columns"
   ]
  },
  {
   "cell_type": "code",
   "execution_count": 9360,
   "id": "145a554a",
   "metadata": {},
   "outputs": [],
   "source": [
    "col_drop = ['max_score', 'rating_1_max', 'rating_2_max', 'rating_3_max', 'rating_4_max', 'rating_5_max', 'rating_6_max']"
   ]
  },
  {
   "cell_type": "code",
   "execution_count": 9361,
   "id": "c8cfeb6f",
   "metadata": {},
   "outputs": [],
   "source": [
    "user_score = user_score.drop(col_drop, axis=1).set_index('user_id')"
   ]
  },
  {
   "cell_type": "code",
   "execution_count": 9362,
   "id": "61ad275f",
   "metadata": {},
   "outputs": [
    {
     "data": {
      "text/html": [
       "<div>\n",
       "<style scoped>\n",
       "    .dataframe tbody tr th:only-of-type {\n",
       "        vertical-align: middle;\n",
       "    }\n",
       "\n",
       "    .dataframe tbody tr th {\n",
       "        vertical-align: top;\n",
       "    }\n",
       "\n",
       "    .dataframe thead th {\n",
       "        text-align: right;\n",
       "    }\n",
       "</style>\n",
       "<table border=\"1\" class=\"dataframe\">\n",
       "  <thead>\n",
       "    <tr style=\"text-align: right;\">\n",
       "      <th></th>\n",
       "      <th>game_id</th>\n",
       "      <th>total_score</th>\n",
       "      <th>cat_1</th>\n",
       "      <th>cat_2</th>\n",
       "      <th>cat_3</th>\n",
       "      <th>cat_4</th>\n",
       "      <th>cat_5</th>\n",
       "      <th>cat_6</th>\n",
       "      <th>score_rating</th>\n",
       "      <th>rating_1</th>\n",
       "      <th>rating_2</th>\n",
       "      <th>rating_3</th>\n",
       "      <th>rating_4</th>\n",
       "      <th>rating_5</th>\n",
       "      <th>rating_6</th>\n",
       "    </tr>\n",
       "    <tr>\n",
       "      <th>user_id</th>\n",
       "      <th></th>\n",
       "      <th></th>\n",
       "      <th></th>\n",
       "      <th></th>\n",
       "      <th></th>\n",
       "      <th></th>\n",
       "      <th></th>\n",
       "      <th></th>\n",
       "      <th></th>\n",
       "      <th></th>\n",
       "      <th></th>\n",
       "      <th></th>\n",
       "      <th></th>\n",
       "      <th></th>\n",
       "      <th></th>\n",
       "    </tr>\n",
       "  </thead>\n",
       "  <tbody>\n",
       "    <tr>\n",
       "      <th>10273</th>\n",
       "      <td>182</td>\n",
       "      <td>2382</td>\n",
       "      <td>174.00</td>\n",
       "      <td>281.00</td>\n",
       "      <td>403.00</td>\n",
       "      <td>208.00</td>\n",
       "      <td>125.00</td>\n",
       "      <td>1,191.00</td>\n",
       "      <td>1.00</td>\n",
       "      <td>1.00</td>\n",
       "      <td>1.00</td>\n",
       "      <td>1.00</td>\n",
       "      <td>1.00</td>\n",
       "      <td>1.00</td>\n",
       "      <td>1.00</td>\n",
       "    </tr>\n",
       "    <tr>\n",
       "      <th>10762</th>\n",
       "      <td>182</td>\n",
       "      <td>2382</td>\n",
       "      <td>174.00</td>\n",
       "      <td>281.00</td>\n",
       "      <td>403.00</td>\n",
       "      <td>208.00</td>\n",
       "      <td>125.00</td>\n",
       "      <td>1,191.00</td>\n",
       "      <td>1.00</td>\n",
       "      <td>1.00</td>\n",
       "      <td>1.00</td>\n",
       "      <td>1.00</td>\n",
       "      <td>1.00</td>\n",
       "      <td>1.00</td>\n",
       "      <td>1.00</td>\n",
       "    </tr>\n",
       "    <tr>\n",
       "      <th>10646</th>\n",
       "      <td>182</td>\n",
       "      <td>2382</td>\n",
       "      <td>174.00</td>\n",
       "      <td>281.00</td>\n",
       "      <td>403.00</td>\n",
       "      <td>208.00</td>\n",
       "      <td>125.00</td>\n",
       "      <td>1,191.00</td>\n",
       "      <td>1.00</td>\n",
       "      <td>1.00</td>\n",
       "      <td>1.00</td>\n",
       "      <td>1.00</td>\n",
       "      <td>1.00</td>\n",
       "      <td>1.00</td>\n",
       "      <td>1.00</td>\n",
       "    </tr>\n",
       "    <tr>\n",
       "      <th>10547</th>\n",
       "      <td>182</td>\n",
       "      <td>996</td>\n",
       "      <td>-5.00</td>\n",
       "      <td>11.00</td>\n",
       "      <td>302.00</td>\n",
       "      <td>125.00</td>\n",
       "      <td>65.00</td>\n",
       "      <td>498.00</td>\n",
       "      <td>0.42</td>\n",
       "      <td>-0.03</td>\n",
       "      <td>0.04</td>\n",
       "      <td>0.75</td>\n",
       "      <td>0.60</td>\n",
       "      <td>0.52</td>\n",
       "      <td>0.42</td>\n",
       "    </tr>\n",
       "    <tr>\n",
       "      <th>10833</th>\n",
       "      <td>182</td>\n",
       "      <td>996</td>\n",
       "      <td>-5.00</td>\n",
       "      <td>11.00</td>\n",
       "      <td>302.00</td>\n",
       "      <td>125.00</td>\n",
       "      <td>65.00</td>\n",
       "      <td>498.00</td>\n",
       "      <td>0.42</td>\n",
       "      <td>-0.03</td>\n",
       "      <td>0.04</td>\n",
       "      <td>0.75</td>\n",
       "      <td>0.60</td>\n",
       "      <td>0.52</td>\n",
       "      <td>0.42</td>\n",
       "    </tr>\n",
       "  </tbody>\n",
       "</table>\n",
       "</div>"
      ],
      "text/plain": [
       "         game_id  total_score  cat_1  cat_2  cat_3  cat_4  cat_5    cat_6  \\\n",
       "user_id                                                                     \n",
       "10273        182         2382 174.00 281.00 403.00 208.00 125.00 1,191.00   \n",
       "10762        182         2382 174.00 281.00 403.00 208.00 125.00 1,191.00   \n",
       "10646        182         2382 174.00 281.00 403.00 208.00 125.00 1,191.00   \n",
       "10547        182          996  -5.00  11.00 302.00 125.00  65.00   498.00   \n",
       "10833        182          996  -5.00  11.00 302.00 125.00  65.00   498.00   \n",
       "\n",
       "         score_rating  rating_1  rating_2  rating_3  rating_4  rating_5  \\\n",
       "user_id                                                                   \n",
       "10273            1.00      1.00      1.00      1.00      1.00      1.00   \n",
       "10762            1.00      1.00      1.00      1.00      1.00      1.00   \n",
       "10646            1.00      1.00      1.00      1.00      1.00      1.00   \n",
       "10547            0.42     -0.03      0.04      0.75      0.60      0.52   \n",
       "10833            0.42     -0.03      0.04      0.75      0.60      0.52   \n",
       "\n",
       "         rating_6  \n",
       "user_id            \n",
       "10273        1.00  \n",
       "10762        1.00  \n",
       "10646        1.00  \n",
       "10547        0.42  \n",
       "10833        0.42  "
      ]
     },
     "execution_count": 9362,
     "metadata": {},
     "output_type": "execute_result"
    }
   ],
   "source": [
    "user_score.head(5)"
   ]
  },
  {
   "cell_type": "code",
   "execution_count": 9363,
   "id": "d2de0b89",
   "metadata": {},
   "outputs": [
    {
     "data": {
      "text/html": [
       "<div>\n",
       "<style scoped>\n",
       "    .dataframe tbody tr th:only-of-type {\n",
       "        vertical-align: middle;\n",
       "    }\n",
       "\n",
       "    .dataframe tbody tr th {\n",
       "        vertical-align: top;\n",
       "    }\n",
       "\n",
       "    .dataframe thead th {\n",
       "        text-align: right;\n",
       "    }\n",
       "</style>\n",
       "<table border=\"1\" class=\"dataframe\">\n",
       "  <thead>\n",
       "    <tr style=\"text-align: right;\">\n",
       "      <th></th>\n",
       "      <th>id</th>\n",
       "      <th>Analytical thinking</th>\n",
       "      <th>Systemic thinking</th>\n",
       "      <th>Adaptability</th>\n",
       "      <th>Focus</th>\n",
       "    </tr>\n",
       "  </thead>\n",
       "  <tbody>\n",
       "    <tr>\n",
       "      <th>0</th>\n",
       "      <td>10884</td>\n",
       "      <td>4.00</td>\n",
       "      <td>4.00</td>\n",
       "      <td>4.00</td>\n",
       "      <td>4.00</td>\n",
       "    </tr>\n",
       "  </tbody>\n",
       "</table>\n",
       "</div>"
      ],
      "text/plain": [
       "      id  Analytical thinking  Systemic thinking  Adaptability  Focus\n",
       "0  10884                 4.00               4.00          4.00   4.00"
      ]
     },
     "execution_count": 9363,
     "metadata": {},
     "output_type": "execute_result"
    }
   ],
   "source": [
    "df.head(1)"
   ]
  },
  {
   "cell_type": "code",
   "execution_count": 9364,
   "id": "ab42f278",
   "metadata": {},
   "outputs": [],
   "source": [
    "df_score = df.set_index('id').join(user_score, how = 'left')"
   ]
  },
  {
   "cell_type": "code",
   "execution_count": 9365,
   "id": "225e8180",
   "metadata": {
    "scrolled": true
   },
   "outputs": [
    {
     "data": {
      "text/html": [
       "<div>\n",
       "<style scoped>\n",
       "    .dataframe tbody tr th:only-of-type {\n",
       "        vertical-align: middle;\n",
       "    }\n",
       "\n",
       "    .dataframe tbody tr th {\n",
       "        vertical-align: top;\n",
       "    }\n",
       "\n",
       "    .dataframe thead th {\n",
       "        text-align: right;\n",
       "    }\n",
       "</style>\n",
       "<table border=\"1\" class=\"dataframe\">\n",
       "  <thead>\n",
       "    <tr style=\"text-align: right;\">\n",
       "      <th></th>\n",
       "      <th>Analytical thinking</th>\n",
       "      <th>Systemic thinking</th>\n",
       "      <th>Adaptability</th>\n",
       "      <th>Focus</th>\n",
       "      <th>game_id</th>\n",
       "      <th>total_score</th>\n",
       "      <th>cat_1</th>\n",
       "      <th>cat_2</th>\n",
       "      <th>cat_3</th>\n",
       "      <th>cat_4</th>\n",
       "      <th>cat_5</th>\n",
       "      <th>cat_6</th>\n",
       "      <th>score_rating</th>\n",
       "      <th>rating_1</th>\n",
       "      <th>rating_2</th>\n",
       "      <th>rating_3</th>\n",
       "      <th>rating_4</th>\n",
       "      <th>rating_5</th>\n",
       "      <th>rating_6</th>\n",
       "    </tr>\n",
       "    <tr>\n",
       "      <th>id</th>\n",
       "      <th></th>\n",
       "      <th></th>\n",
       "      <th></th>\n",
       "      <th></th>\n",
       "      <th></th>\n",
       "      <th></th>\n",
       "      <th></th>\n",
       "      <th></th>\n",
       "      <th></th>\n",
       "      <th></th>\n",
       "      <th></th>\n",
       "      <th></th>\n",
       "      <th></th>\n",
       "      <th></th>\n",
       "      <th></th>\n",
       "      <th></th>\n",
       "      <th></th>\n",
       "      <th></th>\n",
       "      <th></th>\n",
       "    </tr>\n",
       "  </thead>\n",
       "  <tbody>\n",
       "    <tr>\n",
       "      <th>10884</th>\n",
       "      <td>4.00</td>\n",
       "      <td>4.00</td>\n",
       "      <td>4.00</td>\n",
       "      <td>4.00</td>\n",
       "      <td>202</td>\n",
       "      <td>872</td>\n",
       "      <td>-9.00</td>\n",
       "      <td>-41.00</td>\n",
       "      <td>288.00</td>\n",
       "      <td>101.00</td>\n",
       "      <td>97.00</td>\n",
       "      <td>436.00</td>\n",
       "      <td>0.48</td>\n",
       "      <td>-0.08</td>\n",
       "      <td>-0.23</td>\n",
       "      <td>0.71</td>\n",
       "      <td>0.70</td>\n",
       "      <td>1.00</td>\n",
       "      <td>0.48</td>\n",
       "    </tr>\n",
       "    <tr>\n",
       "      <th>10106</th>\n",
       "      <td>5.00</td>\n",
       "      <td>4.00</td>\n",
       "      <td>5.00</td>\n",
       "      <td>5.00</td>\n",
       "      <td>211</td>\n",
       "      <td>1512</td>\n",
       "      <td>50.00</td>\n",
       "      <td>104.00</td>\n",
       "      <td>364.00</td>\n",
       "      <td>133.00</td>\n",
       "      <td>105.00</td>\n",
       "      <td>756.00</td>\n",
       "      <td>1.00</td>\n",
       "      <td>1.00</td>\n",
       "      <td>0.88</td>\n",
       "      <td>0.98</td>\n",
       "      <td>0.88</td>\n",
       "      <td>1.00</td>\n",
       "      <td>1.00</td>\n",
       "    </tr>\n",
       "    <tr>\n",
       "      <th>10438</th>\n",
       "      <td>6.00</td>\n",
       "      <td>5.00</td>\n",
       "      <td>5.00</td>\n",
       "      <td>5.00</td>\n",
       "      <td>242</td>\n",
       "      <td>1288</td>\n",
       "      <td>51.00</td>\n",
       "      <td>44.00</td>\n",
       "      <td>280.00</td>\n",
       "      <td>131.00</td>\n",
       "      <td>138.00</td>\n",
       "      <td>644.00</td>\n",
       "      <td>1.00</td>\n",
       "      <td>1.00</td>\n",
       "      <td>0.62</td>\n",
       "      <td>0.98</td>\n",
       "      <td>1.00</td>\n",
       "      <td>0.80</td>\n",
       "      <td>1.00</td>\n",
       "    </tr>\n",
       "    <tr>\n",
       "      <th>10130</th>\n",
       "      <td>5.00</td>\n",
       "      <td>4.00</td>\n",
       "      <td>5.00</td>\n",
       "      <td>5.00</td>\n",
       "      <td>184</td>\n",
       "      <td>1018</td>\n",
       "      <td>27.00</td>\n",
       "      <td>8.00</td>\n",
       "      <td>263.00</td>\n",
       "      <td>112.00</td>\n",
       "      <td>99.00</td>\n",
       "      <td>509.00</td>\n",
       "      <td>0.56</td>\n",
       "      <td>0.28</td>\n",
       "      <td>0.04</td>\n",
       "      <td>0.64</td>\n",
       "      <td>0.65</td>\n",
       "      <td>1.00</td>\n",
       "      <td>0.56</td>\n",
       "    </tr>\n",
       "    <tr>\n",
       "      <th>10667</th>\n",
       "      <td>4.00</td>\n",
       "      <td>5.00</td>\n",
       "      <td>5.00</td>\n",
       "      <td>5.00</td>\n",
       "      <td>193</td>\n",
       "      <td>1440</td>\n",
       "      <td>67.00</td>\n",
       "      <td>54.00</td>\n",
       "      <td>313.00</td>\n",
       "      <td>139.00</td>\n",
       "      <td>147.00</td>\n",
       "      <td>720.00</td>\n",
       "      <td>0.67</td>\n",
       "      <td>0.40</td>\n",
       "      <td>0.22</td>\n",
       "      <td>0.96</td>\n",
       "      <td>0.77</td>\n",
       "      <td>0.86</td>\n",
       "      <td>0.67</td>\n",
       "    </tr>\n",
       "  </tbody>\n",
       "</table>\n",
       "</div>"
      ],
      "text/plain": [
       "       Analytical thinking  Systemic thinking  Adaptability  Focus  game_id  \\\n",
       "id                                                                            \n",
       "10884                 4.00               4.00          4.00   4.00      202   \n",
       "10106                 5.00               4.00          5.00   5.00      211   \n",
       "10438                 6.00               5.00          5.00   5.00      242   \n",
       "10130                 5.00               4.00          5.00   5.00      184   \n",
       "10667                 4.00               5.00          5.00   5.00      193   \n",
       "\n",
       "       total_score  cat_1  cat_2  cat_3  cat_4  cat_5  cat_6  score_rating  \\\n",
       "id                                                                           \n",
       "10884          872  -9.00 -41.00 288.00 101.00  97.00 436.00          0.48   \n",
       "10106         1512  50.00 104.00 364.00 133.00 105.00 756.00          1.00   \n",
       "10438         1288  51.00  44.00 280.00 131.00 138.00 644.00          1.00   \n",
       "10130         1018  27.00   8.00 263.00 112.00  99.00 509.00          0.56   \n",
       "10667         1440  67.00  54.00 313.00 139.00 147.00 720.00          0.67   \n",
       "\n",
       "       rating_1  rating_2  rating_3  rating_4  rating_5  rating_6  \n",
       "id                                                                 \n",
       "10884     -0.08     -0.23      0.71      0.70      1.00      0.48  \n",
       "10106      1.00      0.88      0.98      0.88      1.00      1.00  \n",
       "10438      1.00      0.62      0.98      1.00      0.80      1.00  \n",
       "10130      0.28      0.04      0.64      0.65      1.00      0.56  \n",
       "10667      0.40      0.22      0.96      0.77      0.86      0.67  "
      ]
     },
     "execution_count": 9365,
     "metadata": {},
     "output_type": "execute_result"
    }
   ],
   "source": [
    "df_score.head()"
   ]
  },
  {
   "cell_type": "code",
   "execution_count": 9366,
   "id": "4bba8df1",
   "metadata": {
    "scrolled": false
   },
   "outputs": [
    {
     "data": {
      "text/html": [
       "<div>\n",
       "<style scoped>\n",
       "    .dataframe tbody tr th:only-of-type {\n",
       "        vertical-align: middle;\n",
       "    }\n",
       "\n",
       "    .dataframe tbody tr th {\n",
       "        vertical-align: top;\n",
       "    }\n",
       "\n",
       "    .dataframe thead th {\n",
       "        text-align: right;\n",
       "    }\n",
       "</style>\n",
       "<table border=\"1\" class=\"dataframe\">\n",
       "  <thead>\n",
       "    <tr style=\"text-align: right;\">\n",
       "      <th></th>\n",
       "      <th>Analytical thinking</th>\n",
       "      <th>Systemic thinking</th>\n",
       "      <th>Adaptability</th>\n",
       "      <th>Focus</th>\n",
       "      <th>total_score</th>\n",
       "      <th>cat_1</th>\n",
       "      <th>cat_2</th>\n",
       "      <th>cat_3</th>\n",
       "      <th>cat_4</th>\n",
       "      <th>cat_5</th>\n",
       "      <th>cat_6</th>\n",
       "      <th>score_rating</th>\n",
       "      <th>rating_1</th>\n",
       "      <th>rating_2</th>\n",
       "      <th>rating_3</th>\n",
       "      <th>rating_4</th>\n",
       "      <th>rating_5</th>\n",
       "      <th>rating_6</th>\n",
       "    </tr>\n",
       "  </thead>\n",
       "  <tbody>\n",
       "    <tr>\n",
       "      <th>Analytical thinking</th>\n",
       "      <td>1.00</td>\n",
       "      <td>0.56</td>\n",
       "      <td>0.55</td>\n",
       "      <td>0.54</td>\n",
       "      <td>0.16</td>\n",
       "      <td>0.15</td>\n",
       "      <td>0.18</td>\n",
       "      <td>0.10</td>\n",
       "      <td>0.16</td>\n",
       "      <td>-0.04</td>\n",
       "      <td>0.16</td>\n",
       "      <td>0.16</td>\n",
       "      <td>0.09</td>\n",
       "      <td>0.16</td>\n",
       "      <td>0.09</td>\n",
       "      <td>0.17</td>\n",
       "      <td>-0.01</td>\n",
       "      <td>0.16</td>\n",
       "    </tr>\n",
       "    <tr>\n",
       "      <th>Systemic thinking</th>\n",
       "      <td>0.56</td>\n",
       "      <td>1.00</td>\n",
       "      <td>0.48</td>\n",
       "      <td>0.49</td>\n",
       "      <td>0.19</td>\n",
       "      <td>0.17</td>\n",
       "      <td>0.20</td>\n",
       "      <td>0.12</td>\n",
       "      <td>0.19</td>\n",
       "      <td>-0.05</td>\n",
       "      <td>0.19</td>\n",
       "      <td>0.16</td>\n",
       "      <td>0.06</td>\n",
       "      <td>0.14</td>\n",
       "      <td>0.08</td>\n",
       "      <td>0.15</td>\n",
       "      <td>0.02</td>\n",
       "      <td>0.16</td>\n",
       "    </tr>\n",
       "    <tr>\n",
       "      <th>Adaptability</th>\n",
       "      <td>0.55</td>\n",
       "      <td>0.48</td>\n",
       "      <td>1.00</td>\n",
       "      <td>0.59</td>\n",
       "      <td>0.11</td>\n",
       "      <td>0.11</td>\n",
       "      <td>0.13</td>\n",
       "      <td>0.05</td>\n",
       "      <td>0.11</td>\n",
       "      <td>-0.00</td>\n",
       "      <td>0.11</td>\n",
       "      <td>0.11</td>\n",
       "      <td>0.09</td>\n",
       "      <td>0.12</td>\n",
       "      <td>-0.00</td>\n",
       "      <td>0.13</td>\n",
       "      <td>0.05</td>\n",
       "      <td>0.11</td>\n",
       "    </tr>\n",
       "    <tr>\n",
       "      <th>Focus</th>\n",
       "      <td>0.54</td>\n",
       "      <td>0.49</td>\n",
       "      <td>0.59</td>\n",
       "      <td>1.00</td>\n",
       "      <td>0.08</td>\n",
       "      <td>0.07</td>\n",
       "      <td>0.09</td>\n",
       "      <td>0.06</td>\n",
       "      <td>0.08</td>\n",
       "      <td>-0.01</td>\n",
       "      <td>0.08</td>\n",
       "      <td>0.11</td>\n",
       "      <td>0.02</td>\n",
       "      <td>0.06</td>\n",
       "      <td>0.06</td>\n",
       "      <td>0.12</td>\n",
       "      <td>0.06</td>\n",
       "      <td>0.11</td>\n",
       "    </tr>\n",
       "    <tr>\n",
       "      <th>total_score</th>\n",
       "      <td>0.16</td>\n",
       "      <td>0.19</td>\n",
       "      <td>0.11</td>\n",
       "      <td>0.08</td>\n",
       "      <td>1.00</td>\n",
       "      <td>0.96</td>\n",
       "      <td>0.97</td>\n",
       "      <td>0.75</td>\n",
       "      <td>0.92</td>\n",
       "      <td>0.02</td>\n",
       "      <td>1.00</td>\n",
       "      <td>0.79</td>\n",
       "      <td>0.24</td>\n",
       "      <td>0.65</td>\n",
       "      <td>0.55</td>\n",
       "      <td>0.68</td>\n",
       "      <td>0.18</td>\n",
       "      <td>0.79</td>\n",
       "    </tr>\n",
       "    <tr>\n",
       "      <th>cat_1</th>\n",
       "      <td>0.15</td>\n",
       "      <td>0.17</td>\n",
       "      <td>0.11</td>\n",
       "      <td>0.07</td>\n",
       "      <td>0.96</td>\n",
       "      <td>1.00</td>\n",
       "      <td>0.93</td>\n",
       "      <td>0.65</td>\n",
       "      <td>0.86</td>\n",
       "      <td>0.06</td>\n",
       "      <td>0.96</td>\n",
       "      <td>0.71</td>\n",
       "      <td>0.25</td>\n",
       "      <td>0.60</td>\n",
       "      <td>0.46</td>\n",
       "      <td>0.60</td>\n",
       "      <td>0.20</td>\n",
       "      <td>0.71</td>\n",
       "    </tr>\n",
       "    <tr>\n",
       "      <th>cat_2</th>\n",
       "      <td>0.18</td>\n",
       "      <td>0.20</td>\n",
       "      <td>0.13</td>\n",
       "      <td>0.09</td>\n",
       "      <td>0.97</td>\n",
       "      <td>0.93</td>\n",
       "      <td>1.00</td>\n",
       "      <td>0.64</td>\n",
       "      <td>0.89</td>\n",
       "      <td>-0.04</td>\n",
       "      <td>0.97</td>\n",
       "      <td>0.80</td>\n",
       "      <td>0.24</td>\n",
       "      <td>0.68</td>\n",
       "      <td>0.46</td>\n",
       "      <td>0.69</td>\n",
       "      <td>0.15</td>\n",
       "      <td>0.80</td>\n",
       "    </tr>\n",
       "    <tr>\n",
       "      <th>cat_3</th>\n",
       "      <td>0.10</td>\n",
       "      <td>0.12</td>\n",
       "      <td>0.05</td>\n",
       "      <td>0.06</td>\n",
       "      <td>0.75</td>\n",
       "      <td>0.65</td>\n",
       "      <td>0.64</td>\n",
       "      <td>1.00</td>\n",
       "      <td>0.61</td>\n",
       "      <td>-0.40</td>\n",
       "      <td>0.75</td>\n",
       "      <td>0.58</td>\n",
       "      <td>0.15</td>\n",
       "      <td>0.43</td>\n",
       "      <td>0.73</td>\n",
       "      <td>0.43</td>\n",
       "      <td>-0.17</td>\n",
       "      <td>0.58</td>\n",
       "    </tr>\n",
       "    <tr>\n",
       "      <th>cat_4</th>\n",
       "      <td>0.16</td>\n",
       "      <td>0.19</td>\n",
       "      <td>0.11</td>\n",
       "      <td>0.08</td>\n",
       "      <td>0.92</td>\n",
       "      <td>0.86</td>\n",
       "      <td>0.89</td>\n",
       "      <td>0.61</td>\n",
       "      <td>1.00</td>\n",
       "      <td>0.03</td>\n",
       "      <td>0.92</td>\n",
       "      <td>0.71</td>\n",
       "      <td>0.21</td>\n",
       "      <td>0.57</td>\n",
       "      <td>0.42</td>\n",
       "      <td>0.75</td>\n",
       "      <td>0.22</td>\n",
       "      <td>0.71</td>\n",
       "    </tr>\n",
       "    <tr>\n",
       "      <th>cat_5</th>\n",
       "      <td>-0.04</td>\n",
       "      <td>-0.05</td>\n",
       "      <td>-0.00</td>\n",
       "      <td>-0.01</td>\n",
       "      <td>0.02</td>\n",
       "      <td>0.06</td>\n",
       "      <td>-0.04</td>\n",
       "      <td>-0.40</td>\n",
       "      <td>0.03</td>\n",
       "      <td>1.00</td>\n",
       "      <td>0.02</td>\n",
       "      <td>0.04</td>\n",
       "      <td>0.05</td>\n",
       "      <td>-0.01</td>\n",
       "      <td>-0.18</td>\n",
       "      <td>0.07</td>\n",
       "      <td>0.66</td>\n",
       "      <td>0.04</td>\n",
       "    </tr>\n",
       "    <tr>\n",
       "      <th>cat_6</th>\n",
       "      <td>0.16</td>\n",
       "      <td>0.19</td>\n",
       "      <td>0.11</td>\n",
       "      <td>0.08</td>\n",
       "      <td>1.00</td>\n",
       "      <td>0.96</td>\n",
       "      <td>0.97</td>\n",
       "      <td>0.75</td>\n",
       "      <td>0.92</td>\n",
       "      <td>0.02</td>\n",
       "      <td>1.00</td>\n",
       "      <td>0.79</td>\n",
       "      <td>0.24</td>\n",
       "      <td>0.65</td>\n",
       "      <td>0.55</td>\n",
       "      <td>0.68</td>\n",
       "      <td>0.18</td>\n",
       "      <td>0.79</td>\n",
       "    </tr>\n",
       "    <tr>\n",
       "      <th>score_rating</th>\n",
       "      <td>0.16</td>\n",
       "      <td>0.16</td>\n",
       "      <td>0.11</td>\n",
       "      <td>0.11</td>\n",
       "      <td>0.79</td>\n",
       "      <td>0.71</td>\n",
       "      <td>0.80</td>\n",
       "      <td>0.58</td>\n",
       "      <td>0.71</td>\n",
       "      <td>0.04</td>\n",
       "      <td>0.79</td>\n",
       "      <td>1.00</td>\n",
       "      <td>0.35</td>\n",
       "      <td>0.75</td>\n",
       "      <td>0.60</td>\n",
       "      <td>0.85</td>\n",
       "      <td>0.15</td>\n",
       "      <td>1.00</td>\n",
       "    </tr>\n",
       "    <tr>\n",
       "      <th>rating_1</th>\n",
       "      <td>0.09</td>\n",
       "      <td>0.06</td>\n",
       "      <td>0.09</td>\n",
       "      <td>0.02</td>\n",
       "      <td>0.24</td>\n",
       "      <td>0.25</td>\n",
       "      <td>0.24</td>\n",
       "      <td>0.15</td>\n",
       "      <td>0.21</td>\n",
       "      <td>0.05</td>\n",
       "      <td>0.24</td>\n",
       "      <td>0.35</td>\n",
       "      <td>1.00</td>\n",
       "      <td>0.81</td>\n",
       "      <td>0.16</td>\n",
       "      <td>0.35</td>\n",
       "      <td>0.16</td>\n",
       "      <td>0.35</td>\n",
       "    </tr>\n",
       "    <tr>\n",
       "      <th>rating_2</th>\n",
       "      <td>0.16</td>\n",
       "      <td>0.14</td>\n",
       "      <td>0.12</td>\n",
       "      <td>0.06</td>\n",
       "      <td>0.65</td>\n",
       "      <td>0.60</td>\n",
       "      <td>0.68</td>\n",
       "      <td>0.43</td>\n",
       "      <td>0.57</td>\n",
       "      <td>-0.01</td>\n",
       "      <td>0.65</td>\n",
       "      <td>0.75</td>\n",
       "      <td>0.81</td>\n",
       "      <td>1.00</td>\n",
       "      <td>0.36</td>\n",
       "      <td>0.67</td>\n",
       "      <td>0.13</td>\n",
       "      <td>0.75</td>\n",
       "    </tr>\n",
       "    <tr>\n",
       "      <th>rating_3</th>\n",
       "      <td>0.09</td>\n",
       "      <td>0.08</td>\n",
       "      <td>-0.00</td>\n",
       "      <td>0.06</td>\n",
       "      <td>0.55</td>\n",
       "      <td>0.46</td>\n",
       "      <td>0.46</td>\n",
       "      <td>0.73</td>\n",
       "      <td>0.42</td>\n",
       "      <td>-0.18</td>\n",
       "      <td>0.55</td>\n",
       "      <td>0.60</td>\n",
       "      <td>0.16</td>\n",
       "      <td>0.36</td>\n",
       "      <td>1.00</td>\n",
       "      <td>0.40</td>\n",
       "      <td>-0.20</td>\n",
       "      <td>0.60</td>\n",
       "    </tr>\n",
       "    <tr>\n",
       "      <th>rating_4</th>\n",
       "      <td>0.17</td>\n",
       "      <td>0.15</td>\n",
       "      <td>0.13</td>\n",
       "      <td>0.12</td>\n",
       "      <td>0.68</td>\n",
       "      <td>0.60</td>\n",
       "      <td>0.69</td>\n",
       "      <td>0.43</td>\n",
       "      <td>0.75</td>\n",
       "      <td>0.07</td>\n",
       "      <td>0.68</td>\n",
       "      <td>0.85</td>\n",
       "      <td>0.35</td>\n",
       "      <td>0.67</td>\n",
       "      <td>0.40</td>\n",
       "      <td>1.00</td>\n",
       "      <td>0.17</td>\n",
       "      <td>0.85</td>\n",
       "    </tr>\n",
       "    <tr>\n",
       "      <th>rating_5</th>\n",
       "      <td>-0.01</td>\n",
       "      <td>0.02</td>\n",
       "      <td>0.05</td>\n",
       "      <td>0.06</td>\n",
       "      <td>0.18</td>\n",
       "      <td>0.20</td>\n",
       "      <td>0.15</td>\n",
       "      <td>-0.17</td>\n",
       "      <td>0.22</td>\n",
       "      <td>0.66</td>\n",
       "      <td>0.18</td>\n",
       "      <td>0.15</td>\n",
       "      <td>0.16</td>\n",
       "      <td>0.13</td>\n",
       "      <td>-0.20</td>\n",
       "      <td>0.17</td>\n",
       "      <td>1.00</td>\n",
       "      <td>0.15</td>\n",
       "    </tr>\n",
       "    <tr>\n",
       "      <th>rating_6</th>\n",
       "      <td>0.16</td>\n",
       "      <td>0.16</td>\n",
       "      <td>0.11</td>\n",
       "      <td>0.11</td>\n",
       "      <td>0.79</td>\n",
       "      <td>0.71</td>\n",
       "      <td>0.80</td>\n",
       "      <td>0.58</td>\n",
       "      <td>0.71</td>\n",
       "      <td>0.04</td>\n",
       "      <td>0.79</td>\n",
       "      <td>1.00</td>\n",
       "      <td>0.35</td>\n",
       "      <td>0.75</td>\n",
       "      <td>0.60</td>\n",
       "      <td>0.85</td>\n",
       "      <td>0.15</td>\n",
       "      <td>1.00</td>\n",
       "    </tr>\n",
       "  </tbody>\n",
       "</table>\n",
       "</div>"
      ],
      "text/plain": [
       "                     Analytical thinking  Systemic thinking  Adaptability  \\\n",
       "Analytical thinking                 1.00               0.56          0.55   \n",
       "Systemic thinking                   0.56               1.00          0.48   \n",
       "Adaptability                        0.55               0.48          1.00   \n",
       "Focus                               0.54               0.49          0.59   \n",
       "total_score                         0.16               0.19          0.11   \n",
       "cat_1                               0.15               0.17          0.11   \n",
       "cat_2                               0.18               0.20          0.13   \n",
       "cat_3                               0.10               0.12          0.05   \n",
       "cat_4                               0.16               0.19          0.11   \n",
       "cat_5                              -0.04              -0.05         -0.00   \n",
       "cat_6                               0.16               0.19          0.11   \n",
       "score_rating                        0.16               0.16          0.11   \n",
       "rating_1                            0.09               0.06          0.09   \n",
       "rating_2                            0.16               0.14          0.12   \n",
       "rating_3                            0.09               0.08         -0.00   \n",
       "rating_4                            0.17               0.15          0.13   \n",
       "rating_5                           -0.01               0.02          0.05   \n",
       "rating_6                            0.16               0.16          0.11   \n",
       "\n",
       "                     Focus  total_score  cat_1  cat_2  cat_3  cat_4  cat_5  \\\n",
       "Analytical thinking   0.54         0.16   0.15   0.18   0.10   0.16  -0.04   \n",
       "Systemic thinking     0.49         0.19   0.17   0.20   0.12   0.19  -0.05   \n",
       "Adaptability          0.59         0.11   0.11   0.13   0.05   0.11  -0.00   \n",
       "Focus                 1.00         0.08   0.07   0.09   0.06   0.08  -0.01   \n",
       "total_score           0.08         1.00   0.96   0.97   0.75   0.92   0.02   \n",
       "cat_1                 0.07         0.96   1.00   0.93   0.65   0.86   0.06   \n",
       "cat_2                 0.09         0.97   0.93   1.00   0.64   0.89  -0.04   \n",
       "cat_3                 0.06         0.75   0.65   0.64   1.00   0.61  -0.40   \n",
       "cat_4                 0.08         0.92   0.86   0.89   0.61   1.00   0.03   \n",
       "cat_5                -0.01         0.02   0.06  -0.04  -0.40   0.03   1.00   \n",
       "cat_6                 0.08         1.00   0.96   0.97   0.75   0.92   0.02   \n",
       "score_rating          0.11         0.79   0.71   0.80   0.58   0.71   0.04   \n",
       "rating_1              0.02         0.24   0.25   0.24   0.15   0.21   0.05   \n",
       "rating_2              0.06         0.65   0.60   0.68   0.43   0.57  -0.01   \n",
       "rating_3              0.06         0.55   0.46   0.46   0.73   0.42  -0.18   \n",
       "rating_4              0.12         0.68   0.60   0.69   0.43   0.75   0.07   \n",
       "rating_5              0.06         0.18   0.20   0.15  -0.17   0.22   0.66   \n",
       "rating_6              0.11         0.79   0.71   0.80   0.58   0.71   0.04   \n",
       "\n",
       "                     cat_6  score_rating  rating_1  rating_2  rating_3  \\\n",
       "Analytical thinking   0.16          0.16      0.09      0.16      0.09   \n",
       "Systemic thinking     0.19          0.16      0.06      0.14      0.08   \n",
       "Adaptability          0.11          0.11      0.09      0.12     -0.00   \n",
       "Focus                 0.08          0.11      0.02      0.06      0.06   \n",
       "total_score           1.00          0.79      0.24      0.65      0.55   \n",
       "cat_1                 0.96          0.71      0.25      0.60      0.46   \n",
       "cat_2                 0.97          0.80      0.24      0.68      0.46   \n",
       "cat_3                 0.75          0.58      0.15      0.43      0.73   \n",
       "cat_4                 0.92          0.71      0.21      0.57      0.42   \n",
       "cat_5                 0.02          0.04      0.05     -0.01     -0.18   \n",
       "cat_6                 1.00          0.79      0.24      0.65      0.55   \n",
       "score_rating          0.79          1.00      0.35      0.75      0.60   \n",
       "rating_1              0.24          0.35      1.00      0.81      0.16   \n",
       "rating_2              0.65          0.75      0.81      1.00      0.36   \n",
       "rating_3              0.55          0.60      0.16      0.36      1.00   \n",
       "rating_4              0.68          0.85      0.35      0.67      0.40   \n",
       "rating_5              0.18          0.15      0.16      0.13     -0.20   \n",
       "rating_6              0.79          1.00      0.35      0.75      0.60   \n",
       "\n",
       "                     rating_4  rating_5  rating_6  \n",
       "Analytical thinking      0.17     -0.01      0.16  \n",
       "Systemic thinking        0.15      0.02      0.16  \n",
       "Adaptability             0.13      0.05      0.11  \n",
       "Focus                    0.12      0.06      0.11  \n",
       "total_score              0.68      0.18      0.79  \n",
       "cat_1                    0.60      0.20      0.71  \n",
       "cat_2                    0.69      0.15      0.80  \n",
       "cat_3                    0.43     -0.17      0.58  \n",
       "cat_4                    0.75      0.22      0.71  \n",
       "cat_5                    0.07      0.66      0.04  \n",
       "cat_6                    0.68      0.18      0.79  \n",
       "score_rating             0.85      0.15      1.00  \n",
       "rating_1                 0.35      0.16      0.35  \n",
       "rating_2                 0.67      0.13      0.75  \n",
       "rating_3                 0.40     -0.20      0.60  \n",
       "rating_4                 1.00      0.17      0.85  \n",
       "rating_5                 0.17      1.00      0.15  \n",
       "rating_6                 0.85      0.15      1.00  "
      ]
     },
     "execution_count": 9366,
     "metadata": {},
     "output_type": "execute_result"
    }
   ],
   "source": [
    "df_score.drop('game_id', axis=1).corr()"
   ]
  },
  {
   "cell_type": "code",
   "execution_count": 9367,
   "id": "0ce45a33",
   "metadata": {
    "scrolled": true
   },
   "outputs": [
    {
     "data": {
      "text/plain": [
       "Index(['Analytical thinking', 'Systemic thinking', 'Adaptability', 'Focus',\n",
       "       'game_id', 'total_score', 'cat_1', 'cat_2', 'cat_3', 'cat_4', 'cat_5',\n",
       "       'cat_6', 'score_rating', 'rating_1', 'rating_2', 'rating_3', 'rating_4',\n",
       "       'rating_5', 'rating_6'],\n",
       "      dtype='object')"
      ]
     },
     "execution_count": 9367,
     "metadata": {},
     "output_type": "execute_result"
    }
   ],
   "source": [
    "df_score.columns"
   ]
  },
  {
   "cell_type": "code",
   "execution_count": 9368,
   "id": "efe7024d",
   "metadata": {},
   "outputs": [],
   "source": [
    "col_drop = ['total_score', 'game_id','cat_1','cat_2','cat_3','cat_4','cat_5','cat_6', 'score_rating', 'rating_1', 'rating_2', 'rating_3', 'rating_4',\n",
    "       'rating_5', 'rating_6']"
   ]
  },
  {
   "cell_type": "code",
   "execution_count": 9369,
   "id": "b55e0088",
   "metadata": {
    "scrolled": false
   },
   "outputs": [
    {
     "data": {
      "image/png": "[encoded data removed]",
      "text/plain": [
       "<Figure size 800x600 with 4 Axes>"
      ]
     },
     "metadata": {},
     "output_type": "display_data"
    }
   ],
   "source": [
    "fig, axes = plt.subplots(nrows = 2, ncols =2 )\n",
    "\n",
    "fig .set_size_inches(8, 6)\n",
    "\n",
    "name_score = df_score.drop(col_drop, axis = 1).columns.unique()\n",
    "\n",
    "for k in range(len(name_score)):\n",
    "    i = np.floor(k/2)\n",
    "    i = i.astype(int)\n",
    "    j = k - i*2\n",
    "    j = j.astype(int)\n",
    "        \n",
    "    axes[i,j].set(title=name_score[k])\n",
    "       \n",
    "    axes[i,j].set_xlim(0,3000) #сделаем одну шкалу\n",
    "   \n",
    "    axes[i,j].set_yticks([1, 2, 3, 4, 5, 6])\n",
    "    axes[i,j].scatter(x=df_score['total_score'], y = df_score[name_score[k]], alpha=0.5)\n",
    "    \n",
    "plt.suptitle('Зависимость уровня компетенции от score команды', x=0.5, y=1)\n",
    "plt.show()"
   ]
  },
  {
   "cell_type": "markdown",
   "id": "8b962ca7",
   "metadata": {},
   "source": [
    "Преобразуем score  в места"
   ]
  },
  {
   "cell_type": "code",
   "execution_count": 9370,
   "id": "f6912733",
   "metadata": {},
   "outputs": [],
   "source": [
    "df_score = df.set_index('id').join(user_score, how = 'left')"
   ]
  },
  {
   "cell_type": "code",
   "execution_count": 9371,
   "id": "b0587ad0",
   "metadata": {
    "scrolled": false
   },
   "outputs": [
    {
     "data": {
      "text/html": [
       "<div>\n",
       "<style scoped>\n",
       "    .dataframe tbody tr th:only-of-type {\n",
       "        vertical-align: middle;\n",
       "    }\n",
       "\n",
       "    .dataframe tbody tr th {\n",
       "        vertical-align: top;\n",
       "    }\n",
       "\n",
       "    .dataframe thead th {\n",
       "        text-align: right;\n",
       "    }\n",
       "</style>\n",
       "<table border=\"1\" class=\"dataframe\">\n",
       "  <thead>\n",
       "    <tr style=\"text-align: right;\">\n",
       "      <th></th>\n",
       "      <th>Analytical thinking</th>\n",
       "      <th>Systemic thinking</th>\n",
       "      <th>Adaptability</th>\n",
       "      <th>Focus</th>\n",
       "      <th>game_id</th>\n",
       "      <th>total_score</th>\n",
       "      <th>cat_1</th>\n",
       "      <th>cat_2</th>\n",
       "      <th>cat_3</th>\n",
       "      <th>cat_4</th>\n",
       "      <th>cat_5</th>\n",
       "      <th>cat_6</th>\n",
       "      <th>score_rating</th>\n",
       "      <th>rating_1</th>\n",
       "      <th>rating_2</th>\n",
       "      <th>rating_3</th>\n",
       "      <th>rating_4</th>\n",
       "      <th>rating_5</th>\n",
       "      <th>rating_6</th>\n",
       "    </tr>\n",
       "    <tr>\n",
       "      <th>id</th>\n",
       "      <th></th>\n",
       "      <th></th>\n",
       "      <th></th>\n",
       "      <th></th>\n",
       "      <th></th>\n",
       "      <th></th>\n",
       "      <th></th>\n",
       "      <th></th>\n",
       "      <th></th>\n",
       "      <th></th>\n",
       "      <th></th>\n",
       "      <th></th>\n",
       "      <th></th>\n",
       "      <th></th>\n",
       "      <th></th>\n",
       "      <th></th>\n",
       "      <th></th>\n",
       "      <th></th>\n",
       "      <th></th>\n",
       "    </tr>\n",
       "  </thead>\n",
       "  <tbody>\n",
       "    <tr>\n",
       "      <th>10884</th>\n",
       "      <td>4.00</td>\n",
       "      <td>4.00</td>\n",
       "      <td>4.00</td>\n",
       "      <td>4.00</td>\n",
       "      <td>202</td>\n",
       "      <td>872</td>\n",
       "      <td>-9.00</td>\n",
       "      <td>-41.00</td>\n",
       "      <td>288.00</td>\n",
       "      <td>101.00</td>\n",
       "      <td>97.00</td>\n",
       "      <td>436.00</td>\n",
       "      <td>0.48</td>\n",
       "      <td>-0.08</td>\n",
       "      <td>-0.23</td>\n",
       "      <td>0.71</td>\n",
       "      <td>0.70</td>\n",
       "      <td>1.00</td>\n",
       "      <td>0.48</td>\n",
       "    </tr>\n",
       "    <tr>\n",
       "      <th>10106</th>\n",
       "      <td>5.00</td>\n",
       "      <td>4.00</td>\n",
       "      <td>5.00</td>\n",
       "      <td>5.00</td>\n",
       "      <td>211</td>\n",
       "      <td>1512</td>\n",
       "      <td>50.00</td>\n",
       "      <td>104.00</td>\n",
       "      <td>364.00</td>\n",
       "      <td>133.00</td>\n",
       "      <td>105.00</td>\n",
       "      <td>756.00</td>\n",
       "      <td>1.00</td>\n",
       "      <td>1.00</td>\n",
       "      <td>0.88</td>\n",
       "      <td>0.98</td>\n",
       "      <td>0.88</td>\n",
       "      <td>1.00</td>\n",
       "      <td>1.00</td>\n",
       "    </tr>\n",
       "    <tr>\n",
       "      <th>10438</th>\n",
       "      <td>6.00</td>\n",
       "      <td>5.00</td>\n",
       "      <td>5.00</td>\n",
       "      <td>5.00</td>\n",
       "      <td>242</td>\n",
       "      <td>1288</td>\n",
       "      <td>51.00</td>\n",
       "      <td>44.00</td>\n",
       "      <td>280.00</td>\n",
       "      <td>131.00</td>\n",
       "      <td>138.00</td>\n",
       "      <td>644.00</td>\n",
       "      <td>1.00</td>\n",
       "      <td>1.00</td>\n",
       "      <td>0.62</td>\n",
       "      <td>0.98</td>\n",
       "      <td>1.00</td>\n",
       "      <td>0.80</td>\n",
       "      <td>1.00</td>\n",
       "    </tr>\n",
       "    <tr>\n",
       "      <th>10130</th>\n",
       "      <td>5.00</td>\n",
       "      <td>4.00</td>\n",
       "      <td>5.00</td>\n",
       "      <td>5.00</td>\n",
       "      <td>184</td>\n",
       "      <td>1018</td>\n",
       "      <td>27.00</td>\n",
       "      <td>8.00</td>\n",
       "      <td>263.00</td>\n",
       "      <td>112.00</td>\n",
       "      <td>99.00</td>\n",
       "      <td>509.00</td>\n",
       "      <td>0.56</td>\n",
       "      <td>0.28</td>\n",
       "      <td>0.04</td>\n",
       "      <td>0.64</td>\n",
       "      <td>0.65</td>\n",
       "      <td>1.00</td>\n",
       "      <td>0.56</td>\n",
       "    </tr>\n",
       "    <tr>\n",
       "      <th>10667</th>\n",
       "      <td>4.00</td>\n",
       "      <td>5.00</td>\n",
       "      <td>5.00</td>\n",
       "      <td>5.00</td>\n",
       "      <td>193</td>\n",
       "      <td>1440</td>\n",
       "      <td>67.00</td>\n",
       "      <td>54.00</td>\n",
       "      <td>313.00</td>\n",
       "      <td>139.00</td>\n",
       "      <td>147.00</td>\n",
       "      <td>720.00</td>\n",
       "      <td>0.67</td>\n",
       "      <td>0.40</td>\n",
       "      <td>0.22</td>\n",
       "      <td>0.96</td>\n",
       "      <td>0.77</td>\n",
       "      <td>0.86</td>\n",
       "      <td>0.67</td>\n",
       "    </tr>\n",
       "  </tbody>\n",
       "</table>\n",
       "</div>"
      ],
      "text/plain": [
       "       Analytical thinking  Systemic thinking  Adaptability  Focus  game_id  \\\n",
       "id                                                                            \n",
       "10884                 4.00               4.00          4.00   4.00      202   \n",
       "10106                 5.00               4.00          5.00   5.00      211   \n",
       "10438                 6.00               5.00          5.00   5.00      242   \n",
       "10130                 5.00               4.00          5.00   5.00      184   \n",
       "10667                 4.00               5.00          5.00   5.00      193   \n",
       "\n",
       "       total_score  cat_1  cat_2  cat_3  cat_4  cat_5  cat_6  score_rating  \\\n",
       "id                                                                           \n",
       "10884          872  -9.00 -41.00 288.00 101.00  97.00 436.00          0.48   \n",
       "10106         1512  50.00 104.00 364.00 133.00 105.00 756.00          1.00   \n",
       "10438         1288  51.00  44.00 280.00 131.00 138.00 644.00          1.00   \n",
       "10130         1018  27.00   8.00 263.00 112.00  99.00 509.00          0.56   \n",
       "10667         1440  67.00  54.00 313.00 139.00 147.00 720.00          0.67   \n",
       "\n",
       "       rating_1  rating_2  rating_3  rating_4  rating_5  rating_6  \n",
       "id                                                                 \n",
       "10884     -0.08     -0.23      0.71      0.70      1.00      0.48  \n",
       "10106      1.00      0.88      0.98      0.88      1.00      1.00  \n",
       "10438      1.00      0.62      0.98      1.00      0.80      1.00  \n",
       "10130      0.28      0.04      0.64      0.65      1.00      0.56  \n",
       "10667      0.40      0.22      0.96      0.77      0.86      0.67  "
      ]
     },
     "execution_count": 9371,
     "metadata": {},
     "output_type": "execute_result"
    }
   ],
   "source": [
    "df_score.head()"
   ]
  },
  {
   "cell_type": "code",
   "execution_count": 9372,
   "id": "e6ff4afa",
   "metadata": {
    "scrolled": false
   },
   "outputs": [
    {
     "data": {
      "text/html": [
       "<div>\n",
       "<style scoped>\n",
       "    .dataframe tbody tr th:only-of-type {\n",
       "        vertical-align: middle;\n",
       "    }\n",
       "\n",
       "    .dataframe tbody tr th {\n",
       "        vertical-align: top;\n",
       "    }\n",
       "\n",
       "    .dataframe thead th {\n",
       "        text-align: right;\n",
       "    }\n",
       "</style>\n",
       "<table border=\"1\" class=\"dataframe\">\n",
       "  <thead>\n",
       "    <tr style=\"text-align: right;\">\n",
       "      <th></th>\n",
       "      <th>Analytical thinking</th>\n",
       "      <th>Systemic thinking</th>\n",
       "      <th>Adaptability</th>\n",
       "      <th>Focus</th>\n",
       "      <th>total_score</th>\n",
       "      <th>cat_1</th>\n",
       "      <th>cat_2</th>\n",
       "      <th>cat_3</th>\n",
       "      <th>cat_4</th>\n",
       "      <th>cat_5</th>\n",
       "      <th>cat_6</th>\n",
       "      <th>score_rating</th>\n",
       "      <th>rating_1</th>\n",
       "      <th>rating_2</th>\n",
       "      <th>rating_3</th>\n",
       "      <th>rating_4</th>\n",
       "      <th>rating_5</th>\n",
       "      <th>rating_6</th>\n",
       "    </tr>\n",
       "  </thead>\n",
       "  <tbody>\n",
       "    <tr>\n",
       "      <th>Analytical thinking</th>\n",
       "      <td>1.00</td>\n",
       "      <td>0.56</td>\n",
       "      <td>0.55</td>\n",
       "      <td>0.54</td>\n",
       "      <td>0.16</td>\n",
       "      <td>0.15</td>\n",
       "      <td>0.18</td>\n",
       "      <td>0.10</td>\n",
       "      <td>0.16</td>\n",
       "      <td>-0.04</td>\n",
       "      <td>0.16</td>\n",
       "      <td>0.16</td>\n",
       "      <td>0.09</td>\n",
       "      <td>0.16</td>\n",
       "      <td>0.09</td>\n",
       "      <td>0.17</td>\n",
       "      <td>-0.01</td>\n",
       "      <td>0.16</td>\n",
       "    </tr>\n",
       "    <tr>\n",
       "      <th>Systemic thinking</th>\n",
       "      <td>0.56</td>\n",
       "      <td>1.00</td>\n",
       "      <td>0.48</td>\n",
       "      <td>0.49</td>\n",
       "      <td>0.19</td>\n",
       "      <td>0.17</td>\n",
       "      <td>0.20</td>\n",
       "      <td>0.12</td>\n",
       "      <td>0.19</td>\n",
       "      <td>-0.05</td>\n",
       "      <td>0.19</td>\n",
       "      <td>0.16</td>\n",
       "      <td>0.06</td>\n",
       "      <td>0.14</td>\n",
       "      <td>0.08</td>\n",
       "      <td>0.15</td>\n",
       "      <td>0.02</td>\n",
       "      <td>0.16</td>\n",
       "    </tr>\n",
       "    <tr>\n",
       "      <th>Adaptability</th>\n",
       "      <td>0.55</td>\n",
       "      <td>0.48</td>\n",
       "      <td>1.00</td>\n",
       "      <td>0.59</td>\n",
       "      <td>0.11</td>\n",
       "      <td>0.11</td>\n",
       "      <td>0.13</td>\n",
       "      <td>0.05</td>\n",
       "      <td>0.11</td>\n",
       "      <td>-0.00</td>\n",
       "      <td>0.11</td>\n",
       "      <td>0.11</td>\n",
       "      <td>0.09</td>\n",
       "      <td>0.12</td>\n",
       "      <td>-0.00</td>\n",
       "      <td>0.13</td>\n",
       "      <td>0.05</td>\n",
       "      <td>0.11</td>\n",
       "    </tr>\n",
       "    <tr>\n",
       "      <th>Focus</th>\n",
       "      <td>0.54</td>\n",
       "      <td>0.49</td>\n",
       "      <td>0.59</td>\n",
       "      <td>1.00</td>\n",
       "      <td>0.08</td>\n",
       "      <td>0.07</td>\n",
       "      <td>0.09</td>\n",
       "      <td>0.06</td>\n",
       "      <td>0.08</td>\n",
       "      <td>-0.01</td>\n",
       "      <td>0.08</td>\n",
       "      <td>0.11</td>\n",
       "      <td>0.02</td>\n",
       "      <td>0.06</td>\n",
       "      <td>0.06</td>\n",
       "      <td>0.12</td>\n",
       "      <td>0.06</td>\n",
       "      <td>0.11</td>\n",
       "    </tr>\n",
       "    <tr>\n",
       "      <th>total_score</th>\n",
       "      <td>0.16</td>\n",
       "      <td>0.19</td>\n",
       "      <td>0.11</td>\n",
       "      <td>0.08</td>\n",
       "      <td>1.00</td>\n",
       "      <td>0.96</td>\n",
       "      <td>0.97</td>\n",
       "      <td>0.75</td>\n",
       "      <td>0.92</td>\n",
       "      <td>0.02</td>\n",
       "      <td>1.00</td>\n",
       "      <td>0.79</td>\n",
       "      <td>0.24</td>\n",
       "      <td>0.65</td>\n",
       "      <td>0.55</td>\n",
       "      <td>0.68</td>\n",
       "      <td>0.18</td>\n",
       "      <td>0.79</td>\n",
       "    </tr>\n",
       "    <tr>\n",
       "      <th>cat_1</th>\n",
       "      <td>0.15</td>\n",
       "      <td>0.17</td>\n",
       "      <td>0.11</td>\n",
       "      <td>0.07</td>\n",
       "      <td>0.96</td>\n",
       "      <td>1.00</td>\n",
       "      <td>0.93</td>\n",
       "      <td>0.65</td>\n",
       "      <td>0.86</td>\n",
       "      <td>0.06</td>\n",
       "      <td>0.96</td>\n",
       "      <td>0.71</td>\n",
       "      <td>0.25</td>\n",
       "      <td>0.60</td>\n",
       "      <td>0.46</td>\n",
       "      <td>0.60</td>\n",
       "      <td>0.20</td>\n",
       "      <td>0.71</td>\n",
       "    </tr>\n",
       "    <tr>\n",
       "      <th>cat_2</th>\n",
       "      <td>0.18</td>\n",
       "      <td>0.20</td>\n",
       "      <td>0.13</td>\n",
       "      <td>0.09</td>\n",
       "      <td>0.97</td>\n",
       "      <td>0.93</td>\n",
       "      <td>1.00</td>\n",
       "      <td>0.64</td>\n",
       "      <td>0.89</td>\n",
       "      <td>-0.04</td>\n",
       "      <td>0.97</td>\n",
       "      <td>0.80</td>\n",
       "      <td>0.24</td>\n",
       "      <td>0.68</td>\n",
       "      <td>0.46</td>\n",
       "      <td>0.69</td>\n",
       "      <td>0.15</td>\n",
       "      <td>0.80</td>\n",
       "    </tr>\n",
       "    <tr>\n",
       "      <th>cat_3</th>\n",
       "      <td>0.10</td>\n",
       "      <td>0.12</td>\n",
       "      <td>0.05</td>\n",
       "      <td>0.06</td>\n",
       "      <td>0.75</td>\n",
       "      <td>0.65</td>\n",
       "      <td>0.64</td>\n",
       "      <td>1.00</td>\n",
       "      <td>0.61</td>\n",
       "      <td>-0.40</td>\n",
       "      <td>0.75</td>\n",
       "      <td>0.58</td>\n",
       "      <td>0.15</td>\n",
       "      <td>0.43</td>\n",
       "      <td>0.73</td>\n",
       "      <td>0.43</td>\n",
       "      <td>-0.17</td>\n",
       "      <td>0.58</td>\n",
       "    </tr>\n",
       "    <tr>\n",
       "      <th>cat_4</th>\n",
       "      <td>0.16</td>\n",
       "      <td>0.19</td>\n",
       "      <td>0.11</td>\n",
       "      <td>0.08</td>\n",
       "      <td>0.92</td>\n",
       "      <td>0.86</td>\n",
       "      <td>0.89</td>\n",
       "      <td>0.61</td>\n",
       "      <td>1.00</td>\n",
       "      <td>0.03</td>\n",
       "      <td>0.92</td>\n",
       "      <td>0.71</td>\n",
       "      <td>0.21</td>\n",
       "      <td>0.57</td>\n",
       "      <td>0.42</td>\n",
       "      <td>0.75</td>\n",
       "      <td>0.22</td>\n",
       "      <td>0.71</td>\n",
       "    </tr>\n",
       "    <tr>\n",
       "      <th>cat_5</th>\n",
       "      <td>-0.04</td>\n",
       "      <td>-0.05</td>\n",
       "      <td>-0.00</td>\n",
       "      <td>-0.01</td>\n",
       "      <td>0.02</td>\n",
       "      <td>0.06</td>\n",
       "      <td>-0.04</td>\n",
       "      <td>-0.40</td>\n",
       "      <td>0.03</td>\n",
       "      <td>1.00</td>\n",
       "      <td>0.02</td>\n",
       "      <td>0.04</td>\n",
       "      <td>0.05</td>\n",
       "      <td>-0.01</td>\n",
       "      <td>-0.18</td>\n",
       "      <td>0.07</td>\n",
       "      <td>0.66</td>\n",
       "      <td>0.04</td>\n",
       "    </tr>\n",
       "    <tr>\n",
       "      <th>cat_6</th>\n",
       "      <td>0.16</td>\n",
       "      <td>0.19</td>\n",
       "      <td>0.11</td>\n",
       "      <td>0.08</td>\n",
       "      <td>1.00</td>\n",
       "      <td>0.96</td>\n",
       "      <td>0.97</td>\n",
       "      <td>0.75</td>\n",
       "      <td>0.92</td>\n",
       "      <td>0.02</td>\n",
       "      <td>1.00</td>\n",
       "      <td>0.79</td>\n",
       "      <td>0.24</td>\n",
       "      <td>0.65</td>\n",
       "      <td>0.55</td>\n",
       "      <td>0.68</td>\n",
       "      <td>0.18</td>\n",
       "      <td>0.79</td>\n",
       "    </tr>\n",
       "    <tr>\n",
       "      <th>score_rating</th>\n",
       "      <td>0.16</td>\n",
       "      <td>0.16</td>\n",
       "      <td>0.11</td>\n",
       "      <td>0.11</td>\n",
       "      <td>0.79</td>\n",
       "      <td>0.71</td>\n",
       "      <td>0.80</td>\n",
       "      <td>0.58</td>\n",
       "      <td>0.71</td>\n",
       "      <td>0.04</td>\n",
       "      <td>0.79</td>\n",
       "      <td>1.00</td>\n",
       "      <td>0.35</td>\n",
       "      <td>0.75</td>\n",
       "      <td>0.60</td>\n",
       "      <td>0.85</td>\n",
       "      <td>0.15</td>\n",
       "      <td>1.00</td>\n",
       "    </tr>\n",
       "    <tr>\n",
       "      <th>rating_1</th>\n",
       "      <td>0.09</td>\n",
       "      <td>0.06</td>\n",
       "      <td>0.09</td>\n",
       "      <td>0.02</td>\n",
       "      <td>0.24</td>\n",
       "      <td>0.25</td>\n",
       "      <td>0.24</td>\n",
       "      <td>0.15</td>\n",
       "      <td>0.21</td>\n",
       "      <td>0.05</td>\n",
       "      <td>0.24</td>\n",
       "      <td>0.35</td>\n",
       "      <td>1.00</td>\n",
       "      <td>0.81</td>\n",
       "      <td>0.16</td>\n",
       "      <td>0.35</td>\n",
       "      <td>0.16</td>\n",
       "      <td>0.35</td>\n",
       "    </tr>\n",
       "    <tr>\n",
       "      <th>rating_2</th>\n",
       "      <td>0.16</td>\n",
       "      <td>0.14</td>\n",
       "      <td>0.12</td>\n",
       "      <td>0.06</td>\n",
       "      <td>0.65</td>\n",
       "      <td>0.60</td>\n",
       "      <td>0.68</td>\n",
       "      <td>0.43</td>\n",
       "      <td>0.57</td>\n",
       "      <td>-0.01</td>\n",
       "      <td>0.65</td>\n",
       "      <td>0.75</td>\n",
       "      <td>0.81</td>\n",
       "      <td>1.00</td>\n",
       "      <td>0.36</td>\n",
       "      <td>0.67</td>\n",
       "      <td>0.13</td>\n",
       "      <td>0.75</td>\n",
       "    </tr>\n",
       "    <tr>\n",
       "      <th>rating_3</th>\n",
       "      <td>0.09</td>\n",
       "      <td>0.08</td>\n",
       "      <td>-0.00</td>\n",
       "      <td>0.06</td>\n",
       "      <td>0.55</td>\n",
       "      <td>0.46</td>\n",
       "      <td>0.46</td>\n",
       "      <td>0.73</td>\n",
       "      <td>0.42</td>\n",
       "      <td>-0.18</td>\n",
       "      <td>0.55</td>\n",
       "      <td>0.60</td>\n",
       "      <td>0.16</td>\n",
       "      <td>0.36</td>\n",
       "      <td>1.00</td>\n",
       "      <td>0.40</td>\n",
       "      <td>-0.20</td>\n",
       "      <td>0.60</td>\n",
       "    </tr>\n",
       "    <tr>\n",
       "      <th>rating_4</th>\n",
       "      <td>0.17</td>\n",
       "      <td>0.15</td>\n",
       "      <td>0.13</td>\n",
       "      <td>0.12</td>\n",
       "      <td>0.68</td>\n",
       "      <td>0.60</td>\n",
       "      <td>0.69</td>\n",
       "      <td>0.43</td>\n",
       "      <td>0.75</td>\n",
       "      <td>0.07</td>\n",
       "      <td>0.68</td>\n",
       "      <td>0.85</td>\n",
       "      <td>0.35</td>\n",
       "      <td>0.67</td>\n",
       "      <td>0.40</td>\n",
       "      <td>1.00</td>\n",
       "      <td>0.17</td>\n",
       "      <td>0.85</td>\n",
       "    </tr>\n",
       "    <tr>\n",
       "      <th>rating_5</th>\n",
       "      <td>-0.01</td>\n",
       "      <td>0.02</td>\n",
       "      <td>0.05</td>\n",
       "      <td>0.06</td>\n",
       "      <td>0.18</td>\n",
       "      <td>0.20</td>\n",
       "      <td>0.15</td>\n",
       "      <td>-0.17</td>\n",
       "      <td>0.22</td>\n",
       "      <td>0.66</td>\n",
       "      <td>0.18</td>\n",
       "      <td>0.15</td>\n",
       "      <td>0.16</td>\n",
       "      <td>0.13</td>\n",
       "      <td>-0.20</td>\n",
       "      <td>0.17</td>\n",
       "      <td>1.00</td>\n",
       "      <td>0.15</td>\n",
       "    </tr>\n",
       "    <tr>\n",
       "      <th>rating_6</th>\n",
       "      <td>0.16</td>\n",
       "      <td>0.16</td>\n",
       "      <td>0.11</td>\n",
       "      <td>0.11</td>\n",
       "      <td>0.79</td>\n",
       "      <td>0.71</td>\n",
       "      <td>0.80</td>\n",
       "      <td>0.58</td>\n",
       "      <td>0.71</td>\n",
       "      <td>0.04</td>\n",
       "      <td>0.79</td>\n",
       "      <td>1.00</td>\n",
       "      <td>0.35</td>\n",
       "      <td>0.75</td>\n",
       "      <td>0.60</td>\n",
       "      <td>0.85</td>\n",
       "      <td>0.15</td>\n",
       "      <td>1.00</td>\n",
       "    </tr>\n",
       "  </tbody>\n",
       "</table>\n",
       "</div>"
      ],
      "text/plain": [
       "                     Analytical thinking  Systemic thinking  Adaptability  \\\n",
       "Analytical thinking                 1.00               0.56          0.55   \n",
       "Systemic thinking                   0.56               1.00          0.48   \n",
       "Adaptability                        0.55               0.48          1.00   \n",
       "Focus                               0.54               0.49          0.59   \n",
       "total_score                         0.16               0.19          0.11   \n",
       "cat_1                               0.15               0.17          0.11   \n",
       "cat_2                               0.18               0.20          0.13   \n",
       "cat_3                               0.10               0.12          0.05   \n",
       "cat_4                               0.16               0.19          0.11   \n",
       "cat_5                              -0.04              -0.05         -0.00   \n",
       "cat_6                               0.16               0.19          0.11   \n",
       "score_rating                        0.16               0.16          0.11   \n",
       "rating_1                            0.09               0.06          0.09   \n",
       "rating_2                            0.16               0.14          0.12   \n",
       "rating_3                            0.09               0.08         -0.00   \n",
       "rating_4                            0.17               0.15          0.13   \n",
       "rating_5                           -0.01               0.02          0.05   \n",
       "rating_6                            0.16               0.16          0.11   \n",
       "\n",
       "                     Focus  total_score  cat_1  cat_2  cat_3  cat_4  cat_5  \\\n",
       "Analytical thinking   0.54         0.16   0.15   0.18   0.10   0.16  -0.04   \n",
       "Systemic thinking     0.49         0.19   0.17   0.20   0.12   0.19  -0.05   \n",
       "Adaptability          0.59         0.11   0.11   0.13   0.05   0.11  -0.00   \n",
       "Focus                 1.00         0.08   0.07   0.09   0.06   0.08  -0.01   \n",
       "total_score           0.08         1.00   0.96   0.97   0.75   0.92   0.02   \n",
       "cat_1                 0.07         0.96   1.00   0.93   0.65   0.86   0.06   \n",
       "cat_2                 0.09         0.97   0.93   1.00   0.64   0.89  -0.04   \n",
       "cat_3                 0.06         0.75   0.65   0.64   1.00   0.61  -0.40   \n",
       "cat_4                 0.08         0.92   0.86   0.89   0.61   1.00   0.03   \n",
       "cat_5                -0.01         0.02   0.06  -0.04  -0.40   0.03   1.00   \n",
       "cat_6                 0.08         1.00   0.96   0.97   0.75   0.92   0.02   \n",
       "score_rating          0.11         0.79   0.71   0.80   0.58   0.71   0.04   \n",
       "rating_1              0.02         0.24   0.25   0.24   0.15   0.21   0.05   \n",
       "rating_2              0.06         0.65   0.60   0.68   0.43   0.57  -0.01   \n",
       "rating_3              0.06         0.55   0.46   0.46   0.73   0.42  -0.18   \n",
       "rating_4              0.12         0.68   0.60   0.69   0.43   0.75   0.07   \n",
       "rating_5              0.06         0.18   0.20   0.15  -0.17   0.22   0.66   \n",
       "rating_6              0.11         0.79   0.71   0.80   0.58   0.71   0.04   \n",
       "\n",
       "                     cat_6  score_rating  rating_1  rating_2  rating_3  \\\n",
       "Analytical thinking   0.16          0.16      0.09      0.16      0.09   \n",
       "Systemic thinking     0.19          0.16      0.06      0.14      0.08   \n",
       "Adaptability          0.11          0.11      0.09      0.12     -0.00   \n",
       "Focus                 0.08          0.11      0.02      0.06      0.06   \n",
       "total_score           1.00          0.79      0.24      0.65      0.55   \n",
       "cat_1                 0.96          0.71      0.25      0.60      0.46   \n",
       "cat_2                 0.97          0.80      0.24      0.68      0.46   \n",
       "cat_3                 0.75          0.58      0.15      0.43      0.73   \n",
       "cat_4                 0.92          0.71      0.21      0.57      0.42   \n",
       "cat_5                 0.02          0.04      0.05     -0.01     -0.18   \n",
       "cat_6                 1.00          0.79      0.24      0.65      0.55   \n",
       "score_rating          0.79          1.00      0.35      0.75      0.60   \n",
       "rating_1              0.24          0.35      1.00      0.81      0.16   \n",
       "rating_2              0.65          0.75      0.81      1.00      0.36   \n",
       "rating_3              0.55          0.60      0.16      0.36      1.00   \n",
       "rating_4              0.68          0.85      0.35      0.67      0.40   \n",
       "rating_5              0.18          0.15      0.16      0.13     -0.20   \n",
       "rating_6              0.79          1.00      0.35      0.75      0.60   \n",
       "\n",
       "                     rating_4  rating_5  rating_6  \n",
       "Analytical thinking      0.17     -0.01      0.16  \n",
       "Systemic thinking        0.15      0.02      0.16  \n",
       "Adaptability             0.13      0.05      0.11  \n",
       "Focus                    0.12      0.06      0.11  \n",
       "total_score              0.68      0.18      0.79  \n",
       "cat_1                    0.60      0.20      0.71  \n",
       "cat_2                    0.69      0.15      0.80  \n",
       "cat_3                    0.43     -0.17      0.58  \n",
       "cat_4                    0.75      0.22      0.71  \n",
       "cat_5                    0.07      0.66      0.04  \n",
       "cat_6                    0.68      0.18      0.79  \n",
       "score_rating             0.85      0.15      1.00  \n",
       "rating_1                 0.35      0.16      0.35  \n",
       "rating_2                 0.67      0.13      0.75  \n",
       "rating_3                 0.40     -0.20      0.60  \n",
       "rating_4                 1.00      0.17      0.85  \n",
       "rating_5                 0.17      1.00      0.15  \n",
       "rating_6                 0.85      0.15      1.00  "
      ]
     },
     "execution_count": 9372,
     "metadata": {},
     "output_type": "execute_result"
    }
   ],
   "source": [
    "df_score.drop(['game_id'], axis=1).corr()"
   ]
  },
  {
   "cell_type": "code",
   "execution_count": 9373,
   "id": "22a25920",
   "metadata": {
    "scrolled": true
   },
   "outputs": [
    {
     "data": {
      "image/png": "[encoded data removed]",
      "text/plain": [
       "<Figure size 800x600 with 4 Axes>"
      ]
     },
     "metadata": {},
     "output_type": "display_data"
    }
   ],
   "source": [
    "fig, axes = plt.subplots(nrows = 2, ncols =2 )\n",
    "\n",
    "fig .set_size_inches(8, 6)\n",
    "\n",
    "name_score = df_score.drop(col_drop, axis = 1).columns.unique()\n",
    "\n",
    "for k in range(len(name_score)):\n",
    "    i = np.floor(k/2)\n",
    "    i = i.astype(int)\n",
    "    j = k - i*2\n",
    "    j = j.astype(int)\n",
    "        \n",
    "    axes[i,j].set(title=name_score[k])\n",
    "       \n",
    "    axes[i,j].set_xlim(0,1.1) #сделаем одну шкалу\n",
    "   \n",
    "    axes[i,j].set_yticks([1, 2, 3, 4, 5, 6])\n",
    "    axes[i,j].scatter(x=df_score['score_rating'], y = df_score[name_score[k]], alpha=0.5)\n",
    "    \n",
    "plt.suptitle('Зависимость уровня компетенции от рейтинга команды в игре', x=0.5, y=1)\n",
    "plt.show()"
   ]
  },
  {
   "cell_type": "markdown",
   "id": "ae87ebfd",
   "metadata": {},
   "source": [
    "**Распределение таргета**"
   ]
  },
  {
   "cell_type": "code",
   "execution_count": 9374,
   "id": "bac7a288",
   "metadata": {},
   "outputs": [
    {
     "data": {
      "image/png": "[encoded data removed]",
      "text/plain": [
       "<Figure size 800x600 with 4 Axes>"
      ]
     },
     "metadata": {},
     "output_type": "display_data"
    }
   ],
   "source": [
    "fig, axes = plt.subplots(nrows = 2, ncols =2 )\n",
    "\n",
    "fig .set_size_inches(8, 6)\n",
    "\n",
    "name_score = df.drop('id', axis = 1).columns.unique()\n",
    "\n",
    "for k in range(len(name_score)):\n",
    "    i = np.floor(k/2)\n",
    "    i = i.astype(int)\n",
    "    j = k - i*2\n",
    "    j = j.astype(int)\n",
    "        \n",
    "    axes[i,j].set(title=name_score[k])\n",
    "       \n",
    "    axes[i,j].set_ylim(0,500) #сделаем одну шкалу\n",
    "   \n",
    "    axes[i,j].set_xticks([1, 2, 3, 4, 5, 6])\n",
    "    axes[i,j].hist(df[name_score[k]])\n",
    "    \n",
    "plt.suptitle('Оценки по компетенциям', x=0.5, y=1)\n",
    "plt.show()"
   ]
  },
  {
   "cell_type": "markdown",
   "id": "23bcafe9",
   "metadata": {},
   "source": [
    "## Подготовка модели. Модель OHE-решений"
   ]
  },
  {
   "cell_type": "code",
   "execution_count": 9375,
   "id": "e4cb8e4d",
   "metadata": {
    "scrolled": true
   },
   "outputs": [
    {
     "data": {
      "text/plain": [
       "count   60,228.00\n",
       "mean       210.20\n",
       "std        130.66\n",
       "min          1.00\n",
       "25%         92.00\n",
       "50%        181.00\n",
       "75%        326.00\n",
       "max        437.00\n",
       "Name: decision_id, dtype: float64"
      ]
     },
     "execution_count": 9375,
     "metadata": {},
     "output_type": "execute_result"
    }
   ],
   "source": [
    "user_decision['decision_id'].describe()"
   ]
  },
  {
   "cell_type": "code",
   "execution_count": 9376,
   "id": "8a6a2bb9",
   "metadata": {
    "scrolled": true
   },
   "outputs": [
    {
     "data": {
      "text/html": [
       "<div>\n",
       "<style scoped>\n",
       "    .dataframe tbody tr th:only-of-type {\n",
       "        vertical-align: middle;\n",
       "    }\n",
       "\n",
       "    .dataframe tbody tr th {\n",
       "        vertical-align: top;\n",
       "    }\n",
       "\n",
       "    .dataframe thead th {\n",
       "        text-align: right;\n",
       "    }\n",
       "</style>\n",
       "<table border=\"1\" class=\"dataframe\">\n",
       "  <thead>\n",
       "    <tr style=\"text-align: right;\">\n",
       "      <th></th>\n",
       "      <th>user_id</th>\n",
       "      <th>period</th>\n",
       "      <th>decision_id</th>\n",
       "    </tr>\n",
       "  </thead>\n",
       "  <tbody>\n",
       "    <tr>\n",
       "      <th>0</th>\n",
       "      <td>10625</td>\n",
       "      <td>1</td>\n",
       "      <td>409</td>\n",
       "    </tr>\n",
       "    <tr>\n",
       "      <th>1</th>\n",
       "      <td>10318</td>\n",
       "      <td>3</td>\n",
       "      <td>203</td>\n",
       "    </tr>\n",
       "    <tr>\n",
       "      <th>2</th>\n",
       "      <td>10775</td>\n",
       "      <td>4</td>\n",
       "      <td>420</td>\n",
       "    </tr>\n",
       "    <tr>\n",
       "      <th>3</th>\n",
       "      <td>10236</td>\n",
       "      <td>2</td>\n",
       "      <td>284</td>\n",
       "    </tr>\n",
       "    <tr>\n",
       "      <th>4</th>\n",
       "      <td>10130</td>\n",
       "      <td>3</td>\n",
       "      <td>72</td>\n",
       "    </tr>\n",
       "  </tbody>\n",
       "</table>\n",
       "</div>"
      ],
      "text/plain": [
       "   user_id  period  decision_id\n",
       "0    10625       1          409\n",
       "1    10318       3          203\n",
       "2    10775       4          420\n",
       "3    10236       2          284\n",
       "4    10130       3           72"
      ]
     },
     "execution_count": 9376,
     "metadata": {},
     "output_type": "execute_result"
    }
   ],
   "source": [
    "user_decision.head()"
   ]
  },
  {
   "cell_type": "code",
   "execution_count": 9377,
   "id": "1ba6543c",
   "metadata": {},
   "outputs": [],
   "source": [
    "ud = user_decision"
   ]
  },
  {
   "cell_type": "code",
   "execution_count": 9378,
   "id": "18444d59",
   "metadata": {},
   "outputs": [],
   "source": [
    "ud = ud.set_index('decision_id').join(decision.set_index('decision_id'), on = 'decision_id', how = 'left').reset_index()"
   ]
  },
  {
   "cell_type": "code",
   "execution_count": 9379,
   "id": "85d76a47",
   "metadata": {
    "scrolled": true
   },
   "outputs": [
    {
     "data": {
      "text/html": [
       "<div>\n",
       "<style scoped>\n",
       "    .dataframe tbody tr th:only-of-type {\n",
       "        vertical-align: middle;\n",
       "    }\n",
       "\n",
       "    .dataframe tbody tr th {\n",
       "        vertical-align: top;\n",
       "    }\n",
       "\n",
       "    .dataframe thead th {\n",
       "        text-align: right;\n",
       "    }\n",
       "</style>\n",
       "<table border=\"1\" class=\"dataframe\">\n",
       "  <thead>\n",
       "    <tr style=\"text-align: right;\">\n",
       "      <th></th>\n",
       "      <th>decision_id</th>\n",
       "      <th>user_id</th>\n",
       "      <th>period</th>\n",
       "      <th>decision_name</th>\n",
       "    </tr>\n",
       "  </thead>\n",
       "  <tbody>\n",
       "    <tr>\n",
       "      <th>0</th>\n",
       "      <td>409</td>\n",
       "      <td>10625</td>\n",
       "      <td>1</td>\n",
       "      <td>Sending Engineers on training courses</td>\n",
       "    </tr>\n",
       "    <tr>\n",
       "      <th>1</th>\n",
       "      <td>203</td>\n",
       "      <td>10318</td>\n",
       "      <td>3</td>\n",
       "      <td>Sell overdue 30&gt;d accounts receivable, which a...</td>\n",
       "    </tr>\n",
       "    <tr>\n",
       "      <th>2</th>\n",
       "      <td>420</td>\n",
       "      <td>10775</td>\n",
       "      <td>4</td>\n",
       "      <td>Quality of the purchased materials Packing mat...</td>\n",
       "    </tr>\n",
       "    <tr>\n",
       "      <th>3</th>\n",
       "      <td>284</td>\n",
       "      <td>10236</td>\n",
       "      <td>2</td>\n",
       "      <td>Improvement of the technology of entrance control</td>\n",
       "    </tr>\n",
       "    <tr>\n",
       "      <th>4</th>\n",
       "      <td>72</td>\n",
       "      <td>10130</td>\n",
       "      <td>3</td>\n",
       "      <td>Education of the dealersвЂ™ sales staff</td>\n",
       "    </tr>\n",
       "  </tbody>\n",
       "</table>\n",
       "</div>"
      ],
      "text/plain": [
       "   decision_id  user_id  period  \\\n",
       "0          409    10625       1   \n",
       "1          203    10318       3   \n",
       "2          420    10775       4   \n",
       "3          284    10236       2   \n",
       "4           72    10130       3   \n",
       "\n",
       "                                       decision_name  \n",
       "0              Sending Engineers on training courses  \n",
       "1  Sell overdue 30>d accounts receivable, which a...  \n",
       "2  Quality of the purchased materials Packing mat...  \n",
       "3  Improvement of the technology of entrance control  \n",
       "4            Education of the dealersвЂ™ sales staff  "
      ]
     },
     "execution_count": 9379,
     "metadata": {},
     "output_type": "execute_result"
    }
   ],
   "source": [
    "ud.head()"
   ]
  },
  {
   "cell_type": "code",
   "execution_count": 9380,
   "id": "7e6be893",
   "metadata": {},
   "outputs": [
    {
     "data": {
      "text/plain": [
       "(60228, 4)"
      ]
     },
     "execution_count": 9380,
     "metadata": {},
     "output_type": "execute_result"
    }
   ],
   "source": [
    "ud.shape"
   ]
  },
  {
   "cell_type": "code",
   "execution_count": 9381,
   "id": "a22ffafa",
   "metadata": {},
   "outputs": [],
   "source": [
    "for col in range(1, 439):\n",
    "    col_name = str(col)\n",
    "    ud[col_name] = col\n",
    "    "
   ]
  },
  {
   "cell_type": "code",
   "execution_count": 9382,
   "id": "34c47699",
   "metadata": {
    "scrolled": true
   },
   "outputs": [],
   "source": [
    "def ohe(col_name):\n",
    "    if col_name == number_decision:\n",
    "        return 1\n",
    "    else:\n",
    "        return 0"
   ]
  },
  {
   "cell_type": "code",
   "execution_count": 9383,
   "id": "9b8381f4",
   "metadata": {},
   "outputs": [],
   "source": [
    "for col in range(1, 439):\n",
    "    col_name = str(col)\n",
    "    number_decision = col\n",
    "    ud[col_name] = ud['decision_id'].apply(ohe)"
   ]
  },
  {
   "cell_type": "code",
   "execution_count": 9384,
   "id": "ff9f6e9c",
   "metadata": {
    "scrolled": true
   },
   "outputs": [
    {
     "data": {
      "text/plain": [
       "decision_id      0\n",
       "user_id          0\n",
       "period           0\n",
       "decision_name    0\n",
       "1                0\n",
       "                ..\n",
       "434              0\n",
       "435              0\n",
       "436              0\n",
       "437              0\n",
       "438              0\n",
       "Length: 442, dtype: int64"
      ]
     },
     "execution_count": 9384,
     "metadata": {},
     "output_type": "execute_result"
    }
   ],
   "source": [
    "ud.isna().sum()"
   ]
  },
  {
   "cell_type": "code",
   "execution_count": 9385,
   "id": "fdc3aaf8",
   "metadata": {},
   "outputs": [
    {
     "data": {
      "text/plain": [
       "(60228, 442)"
      ]
     },
     "execution_count": 9385,
     "metadata": {},
     "output_type": "execute_result"
    }
   ],
   "source": [
    "ud.shape"
   ]
  },
  {
   "cell_type": "code",
   "execution_count": 9386,
   "id": "d62f3191",
   "metadata": {
    "scrolled": false
   },
   "outputs": [
    {
     "data": {
      "text/html": [
       "<div>\n",
       "<style scoped>\n",
       "    .dataframe tbody tr th:only-of-type {\n",
       "        vertical-align: middle;\n",
       "    }\n",
       "\n",
       "    .dataframe tbody tr th {\n",
       "        vertical-align: top;\n",
       "    }\n",
       "\n",
       "    .dataframe thead th {\n",
       "        text-align: right;\n",
       "    }\n",
       "</style>\n",
       "<table border=\"1\" class=\"dataframe\">\n",
       "  <thead>\n",
       "    <tr style=\"text-align: right;\">\n",
       "      <th></th>\n",
       "      <th>decision_id</th>\n",
       "      <th>user_id</th>\n",
       "      <th>period</th>\n",
       "      <th>decision_name</th>\n",
       "      <th>1</th>\n",
       "      <th>2</th>\n",
       "      <th>3</th>\n",
       "      <th>4</th>\n",
       "      <th>5</th>\n",
       "      <th>6</th>\n",
       "      <th>...</th>\n",
       "      <th>429</th>\n",
       "      <th>430</th>\n",
       "      <th>431</th>\n",
       "      <th>432</th>\n",
       "      <th>433</th>\n",
       "      <th>434</th>\n",
       "      <th>435</th>\n",
       "      <th>436</th>\n",
       "      <th>437</th>\n",
       "      <th>438</th>\n",
       "    </tr>\n",
       "  </thead>\n",
       "  <tbody>\n",
       "    <tr>\n",
       "      <th>60223</th>\n",
       "      <td>329</td>\n",
       "      <td>10312</td>\n",
       "      <td>3</td>\n",
       "      <td>Increase in energy efficiency of equipment</td>\n",
       "      <td>0</td>\n",
       "      <td>0</td>\n",
       "      <td>0</td>\n",
       "      <td>0</td>\n",
       "      <td>0</td>\n",
       "      <td>0</td>\n",
       "      <td>...</td>\n",
       "      <td>0</td>\n",
       "      <td>0</td>\n",
       "      <td>0</td>\n",
       "      <td>0</td>\n",
       "      <td>0</td>\n",
       "      <td>0</td>\n",
       "      <td>0</td>\n",
       "      <td>0</td>\n",
       "      <td>0</td>\n",
       "      <td>0</td>\n",
       "    </tr>\n",
       "    <tr>\n",
       "      <th>60224</th>\n",
       "      <td>33</td>\n",
       "      <td>10189</td>\n",
       "      <td>1</td>\n",
       "      <td>[Ltd вЂњAdvrt AgencyвЂќ] Audit of companyвЂ™s ...</td>\n",
       "      <td>0</td>\n",
       "      <td>0</td>\n",
       "      <td>0</td>\n",
       "      <td>0</td>\n",
       "      <td>0</td>\n",
       "      <td>0</td>\n",
       "      <td>...</td>\n",
       "      <td>0</td>\n",
       "      <td>0</td>\n",
       "      <td>0</td>\n",
       "      <td>0</td>\n",
       "      <td>0</td>\n",
       "      <td>0</td>\n",
       "      <td>0</td>\n",
       "      <td>0</td>\n",
       "      <td>0</td>\n",
       "      <td>0</td>\n",
       "    </tr>\n",
       "    <tr>\n",
       "      <th>60225</th>\n",
       "      <td>123</td>\n",
       "      <td>10346</td>\n",
       "      <td>3</td>\n",
       "      <td>Hiring engineers among university graduates</td>\n",
       "      <td>0</td>\n",
       "      <td>0</td>\n",
       "      <td>0</td>\n",
       "      <td>0</td>\n",
       "      <td>0</td>\n",
       "      <td>0</td>\n",
       "      <td>...</td>\n",
       "      <td>0</td>\n",
       "      <td>0</td>\n",
       "      <td>0</td>\n",
       "      <td>0</td>\n",
       "      <td>0</td>\n",
       "      <td>0</td>\n",
       "      <td>0</td>\n",
       "      <td>0</td>\n",
       "      <td>0</td>\n",
       "      <td>0</td>\n",
       "    </tr>\n",
       "    <tr>\n",
       "      <th>60226</th>\n",
       "      <td>140</td>\n",
       "      <td>10424</td>\n",
       "      <td>2</td>\n",
       "      <td>Bonuses for innovation and rationalization of ...</td>\n",
       "      <td>0</td>\n",
       "      <td>0</td>\n",
       "      <td>0</td>\n",
       "      <td>0</td>\n",
       "      <td>0</td>\n",
       "      <td>0</td>\n",
       "      <td>...</td>\n",
       "      <td>0</td>\n",
       "      <td>0</td>\n",
       "      <td>0</td>\n",
       "      <td>0</td>\n",
       "      <td>0</td>\n",
       "      <td>0</td>\n",
       "      <td>0</td>\n",
       "      <td>0</td>\n",
       "      <td>0</td>\n",
       "      <td>0</td>\n",
       "    </tr>\n",
       "    <tr>\n",
       "      <th>60227</th>\n",
       "      <td>405</td>\n",
       "      <td>10050</td>\n",
       "      <td>3</td>\n",
       "      <td>Managers salary</td>\n",
       "      <td>0</td>\n",
       "      <td>0</td>\n",
       "      <td>0</td>\n",
       "      <td>0</td>\n",
       "      <td>0</td>\n",
       "      <td>0</td>\n",
       "      <td>...</td>\n",
       "      <td>0</td>\n",
       "      <td>0</td>\n",
       "      <td>0</td>\n",
       "      <td>0</td>\n",
       "      <td>0</td>\n",
       "      <td>0</td>\n",
       "      <td>0</td>\n",
       "      <td>0</td>\n",
       "      <td>0</td>\n",
       "      <td>0</td>\n",
       "    </tr>\n",
       "  </tbody>\n",
       "</table>\n",
       "<p>5 rows × 442 columns</p>\n",
       "</div>"
      ],
      "text/plain": [
       "       decision_id  user_id  period  \\\n",
       "60223          329    10312       3   \n",
       "60224           33    10189       1   \n",
       "60225          123    10346       3   \n",
       "60226          140    10424       2   \n",
       "60227          405    10050       3   \n",
       "\n",
       "                                           decision_name  1  2  3  4  5  6  \\\n",
       "60223         Increase in energy efficiency of equipment  0  0  0  0  0  0   \n",
       "60224  [Ltd вЂњAdvrt AgencyвЂќ] Audit of companyвЂ™s ...  0  0  0  0  0  0   \n",
       "60225        Hiring engineers among university graduates  0  0  0  0  0  0   \n",
       "60226  Bonuses for innovation and rationalization of ...  0  0  0  0  0  0   \n",
       "60227                                    Managers salary  0  0  0  0  0  0   \n",
       "\n",
       "       ...  429  430  431  432  433  434  435  436  437  438  \n",
       "60223  ...    0    0    0    0    0    0    0    0    0    0  \n",
       "60224  ...    0    0    0    0    0    0    0    0    0    0  \n",
       "60225  ...    0    0    0    0    0    0    0    0    0    0  \n",
       "60226  ...    0    0    0    0    0    0    0    0    0    0  \n",
       "60227  ...    0    0    0    0    0    0    0    0    0    0  \n",
       "\n",
       "[5 rows x 442 columns]"
      ]
     },
     "execution_count": 9386,
     "metadata": {},
     "output_type": "execute_result"
    }
   ],
   "source": [
    "ud.tail()"
   ]
  },
  {
   "cell_type": "code",
   "execution_count": 9387,
   "id": "c0106acc",
   "metadata": {},
   "outputs": [],
   "source": [
    "df_1 = df.set_index('id').join(ud.set_index('user_id'), how = 'left').reset_index()"
   ]
  },
  {
   "cell_type": "code",
   "execution_count": 9388,
   "id": "e54e38e9",
   "metadata": {},
   "outputs": [
    {
     "data": {
      "text/html": [
       "<div>\n",
       "<style scoped>\n",
       "    .dataframe tbody tr th:only-of-type {\n",
       "        vertical-align: middle;\n",
       "    }\n",
       "\n",
       "    .dataframe tbody tr th {\n",
       "        vertical-align: top;\n",
       "    }\n",
       "\n",
       "    .dataframe thead th {\n",
       "        text-align: right;\n",
       "    }\n",
       "</style>\n",
       "<table border=\"1\" class=\"dataframe\">\n",
       "  <thead>\n",
       "    <tr style=\"text-align: right;\">\n",
       "      <th></th>\n",
       "      <th>index</th>\n",
       "      <th>Analytical thinking</th>\n",
       "      <th>Systemic thinking</th>\n",
       "      <th>Adaptability</th>\n",
       "      <th>Focus</th>\n",
       "      <th>decision_id</th>\n",
       "      <th>period</th>\n",
       "      <th>decision_name</th>\n",
       "      <th>1</th>\n",
       "      <th>2</th>\n",
       "      <th>...</th>\n",
       "      <th>429</th>\n",
       "      <th>430</th>\n",
       "      <th>431</th>\n",
       "      <th>432</th>\n",
       "      <th>433</th>\n",
       "      <th>434</th>\n",
       "      <th>435</th>\n",
       "      <th>436</th>\n",
       "      <th>437</th>\n",
       "      <th>438</th>\n",
       "    </tr>\n",
       "  </thead>\n",
       "  <tbody>\n",
       "    <tr>\n",
       "      <th>0</th>\n",
       "      <td>10001</td>\n",
       "      <td>4.00</td>\n",
       "      <td>4.00</td>\n",
       "      <td>5.00</td>\n",
       "      <td>4.00</td>\n",
       "      <td>126</td>\n",
       "      <td>4</td>\n",
       "      <td>Engineers qualification</td>\n",
       "      <td>0</td>\n",
       "      <td>0</td>\n",
       "      <td>...</td>\n",
       "      <td>0</td>\n",
       "      <td>0</td>\n",
       "      <td>0</td>\n",
       "      <td>0</td>\n",
       "      <td>0</td>\n",
       "      <td>0</td>\n",
       "      <td>0</td>\n",
       "      <td>0</td>\n",
       "      <td>0</td>\n",
       "      <td>0</td>\n",
       "    </tr>\n",
       "    <tr>\n",
       "      <th>1</th>\n",
       "      <td>10001</td>\n",
       "      <td>4.00</td>\n",
       "      <td>4.00</td>\n",
       "      <td>5.00</td>\n",
       "      <td>4.00</td>\n",
       "      <td>175</td>\n",
       "      <td>3</td>\n",
       "      <td>Evaluation of the characteristic Moral qualiti...</td>\n",
       "      <td>0</td>\n",
       "      <td>0</td>\n",
       "      <td>...</td>\n",
       "      <td>0</td>\n",
       "      <td>0</td>\n",
       "      <td>0</td>\n",
       "      <td>0</td>\n",
       "      <td>0</td>\n",
       "      <td>0</td>\n",
       "      <td>0</td>\n",
       "      <td>0</td>\n",
       "      <td>0</td>\n",
       "      <td>0</td>\n",
       "    </tr>\n",
       "    <tr>\n",
       "      <th>2</th>\n",
       "      <td>10001</td>\n",
       "      <td>4.00</td>\n",
       "      <td>4.00</td>\n",
       "      <td>5.00</td>\n",
       "      <td>4.00</td>\n",
       "      <td>165</td>\n",
       "      <td>3</td>\n",
       "      <td>Sending staff on short-term courses of time ma...</td>\n",
       "      <td>0</td>\n",
       "      <td>0</td>\n",
       "      <td>...</td>\n",
       "      <td>0</td>\n",
       "      <td>0</td>\n",
       "      <td>0</td>\n",
       "      <td>0</td>\n",
       "      <td>0</td>\n",
       "      <td>0</td>\n",
       "      <td>0</td>\n",
       "      <td>0</td>\n",
       "      <td>0</td>\n",
       "      <td>0</td>\n",
       "    </tr>\n",
       "  </tbody>\n",
       "</table>\n",
       "<p>3 rows × 446 columns</p>\n",
       "</div>"
      ],
      "text/plain": [
       "   index  Analytical thinking  Systemic thinking  Adaptability  Focus  \\\n",
       "0  10001                 4.00               4.00          5.00   4.00   \n",
       "1  10001                 4.00               4.00          5.00   4.00   \n",
       "2  10001                 4.00               4.00          5.00   4.00   \n",
       "\n",
       "   decision_id  period                                      decision_name  1  \\\n",
       "0          126       4                            Engineers qualification  0   \n",
       "1          175       3  Evaluation of the characteristic Moral qualiti...  0   \n",
       "2          165       3  Sending staff on short-term courses of time ma...  0   \n",
       "\n",
       "   2  ...  429  430  431  432  433  434  435  436  437  438  \n",
       "0  0  ...    0    0    0    0    0    0    0    0    0    0  \n",
       "1  0  ...    0    0    0    0    0    0    0    0    0    0  \n",
       "2  0  ...    0    0    0    0    0    0    0    0    0    0  \n",
       "\n",
       "[3 rows x 446 columns]"
      ]
     },
     "execution_count": 9388,
     "metadata": {},
     "output_type": "execute_result"
    }
   ],
   "source": [
    "df_1.head(3)"
   ]
  },
  {
   "cell_type": "code",
   "execution_count": 9389,
   "id": "ba8d3678",
   "metadata": {},
   "outputs": [],
   "source": [
    "df_1 = df_1.groupby('index').max()"
   ]
  },
  {
   "cell_type": "code",
   "execution_count": 9390,
   "id": "422e399b",
   "metadata": {
    "scrolled": false
   },
   "outputs": [
    {
     "data": {
      "text/html": [
       "<div>\n",
       "<style scoped>\n",
       "    .dataframe tbody tr th:only-of-type {\n",
       "        vertical-align: middle;\n",
       "    }\n",
       "\n",
       "    .dataframe tbody tr th {\n",
       "        vertical-align: top;\n",
       "    }\n",
       "\n",
       "    .dataframe thead th {\n",
       "        text-align: right;\n",
       "    }\n",
       "</style>\n",
       "<table border=\"1\" class=\"dataframe\">\n",
       "  <thead>\n",
       "    <tr style=\"text-align: right;\">\n",
       "      <th></th>\n",
       "      <th>Analytical thinking</th>\n",
       "      <th>Systemic thinking</th>\n",
       "      <th>Adaptability</th>\n",
       "      <th>Focus</th>\n",
       "      <th>1</th>\n",
       "      <th>2</th>\n",
       "      <th>3</th>\n",
       "      <th>4</th>\n",
       "      <th>5</th>\n",
       "      <th>6</th>\n",
       "      <th>...</th>\n",
       "      <th>429</th>\n",
       "      <th>430</th>\n",
       "      <th>431</th>\n",
       "      <th>432</th>\n",
       "      <th>433</th>\n",
       "      <th>434</th>\n",
       "      <th>435</th>\n",
       "      <th>436</th>\n",
       "      <th>437</th>\n",
       "      <th>438</th>\n",
       "    </tr>\n",
       "    <tr>\n",
       "      <th>index</th>\n",
       "      <th></th>\n",
       "      <th></th>\n",
       "      <th></th>\n",
       "      <th></th>\n",
       "      <th></th>\n",
       "      <th></th>\n",
       "      <th></th>\n",
       "      <th></th>\n",
       "      <th></th>\n",
       "      <th></th>\n",
       "      <th></th>\n",
       "      <th></th>\n",
       "      <th></th>\n",
       "      <th></th>\n",
       "      <th></th>\n",
       "      <th></th>\n",
       "      <th></th>\n",
       "      <th></th>\n",
       "      <th></th>\n",
       "      <th></th>\n",
       "      <th></th>\n",
       "    </tr>\n",
       "  </thead>\n",
       "  <tbody>\n",
       "    <tr>\n",
       "      <th>10001</th>\n",
       "      <td>4.00</td>\n",
       "      <td>4.00</td>\n",
       "      <td>5.00</td>\n",
       "      <td>4.00</td>\n",
       "      <td>1</td>\n",
       "      <td>0</td>\n",
       "      <td>0</td>\n",
       "      <td>1</td>\n",
       "      <td>0</td>\n",
       "      <td>1</td>\n",
       "      <td>...</td>\n",
       "      <td>0</td>\n",
       "      <td>0</td>\n",
       "      <td>0</td>\n",
       "      <td>0</td>\n",
       "      <td>0</td>\n",
       "      <td>0</td>\n",
       "      <td>0</td>\n",
       "      <td>0</td>\n",
       "      <td>0</td>\n",
       "      <td>0</td>\n",
       "    </tr>\n",
       "  </tbody>\n",
       "</table>\n",
       "<p>1 rows × 442 columns</p>\n",
       "</div>"
      ],
      "text/plain": [
       "       Analytical thinking  Systemic thinking  Adaptability  Focus  1  2  3  \\\n",
       "index                                                                         \n",
       "10001                 4.00               4.00          5.00   4.00  1  0  0   \n",
       "\n",
       "       4  5  6  ...  429  430  431  432  433  434  435  436  437  438  \n",
       "index           ...                                                    \n",
       "10001  1  0  1  ...    0    0    0    0    0    0    0    0    0    0  \n",
       "\n",
       "[1 rows x 442 columns]"
      ]
     },
     "execution_count": 9390,
     "metadata": {},
     "output_type": "execute_result"
    }
   ],
   "source": [
    "df_1 = df_1.drop(['decision_id','period','decision_name'], axis=1)\n",
    "df_1.head(1)"
   ]
  },
  {
   "cell_type": "markdown",
   "id": "b9c97109",
   "metadata": {},
   "source": [
    "**Подбор весов для индивидуальных решений**"
   ]
  },
  {
   "cell_type": "code",
   "execution_count": 9391,
   "id": "d1f5348f",
   "metadata": {},
   "outputs": [],
   "source": [
    "df_2 = df_1\n",
    "df_3 = df_1\n",
    "df_4 = df_1"
   ]
  },
  {
   "cell_type": "markdown",
   "id": "7aaf279f",
   "metadata": {},
   "source": [
    "**Analytical thinking**"
   ]
  },
  {
   "cell_type": "code",
   "execution_count": 9392,
   "id": "1302bfc8",
   "metadata": {
    "scrolled": true
   },
   "outputs": [],
   "source": [
    "list_dec_1 = []\n",
    "for i in range(1, 438):\n",
    "    cor = df_1['Analytical thinking'].corr(df_1[str(i)]) ** 2\n",
    "    list_dec_1.append({'i': i, \n",
    "                   'corr' : cor})\n",
    "list_dec_1 = pd.DataFrame(list_dec_1).set_index('i')\n",
    "list_dec_1['corr'] = list_dec_1['corr'].fillna(0)"
   ]
  },
  {
   "cell_type": "code",
   "execution_count": 9393,
   "id": "2dd04e8b",
   "metadata": {},
   "outputs": [],
   "source": [
    "for i in range(1, 438):\n",
    "    if i in list_dec_1.index:\n",
    "        corr = list_dec_1['corr'].loc[i]\n",
    "        df_1[str(i)] = df_1[str(i)] * corr  \n",
    "    else:\n",
    "        continue    "
   ]
  },
  {
   "cell_type": "markdown",
   "id": "6626a474",
   "metadata": {},
   "source": [
    "**Systemic thinking**"
   ]
  },
  {
   "cell_type": "code",
   "execution_count": 9394,
   "id": "e55c4aa9",
   "metadata": {
    "scrolled": true
   },
   "outputs": [],
   "source": [
    "list_dec_2 = []\n",
    "for i in range(1, 438):\n",
    "    cor = df_2['Systemic thinking'].corr(df_2[str(i)]) ** 2\n",
    "    list_dec_2.append({'i': i, \n",
    "                   'corr' : cor})\n",
    "list_dec_2 = pd.DataFrame(list_dec_2).set_index('i')\n",
    "list_dec_2['corr'] = list_dec_2['corr'].fillna(0)"
   ]
  },
  {
   "cell_type": "code",
   "execution_count": 9395,
   "id": "ff131c8f",
   "metadata": {},
   "outputs": [],
   "source": [
    "for i in range(1, 438):\n",
    "    if i in list_dec_2.index:\n",
    "        corr = list_dec_2['corr'].loc[i]\n",
    "        df_2[str(i)] = df_2[str(i)] * corr  \n",
    "    else:\n",
    "        continue    "
   ]
  },
  {
   "cell_type": "markdown",
   "id": "ca7af47a",
   "metadata": {},
   "source": [
    "**Adaptability**"
   ]
  },
  {
   "cell_type": "code",
   "execution_count": 9396,
   "id": "6e8b349d",
   "metadata": {
    "scrolled": true
   },
   "outputs": [],
   "source": [
    "list_dec_3 = []\n",
    "for i in range(1, 438):\n",
    "    cor = df_3['Adaptability'].corr(df_3[str(i)]) ** 2\n",
    "    list_dec_3.append({'i': i, \n",
    "                   'corr' : cor})\n",
    "list_dec_3 = pd.DataFrame(list_dec_3).set_index('i')\n",
    "list_dec_3['corr'] = list_dec_3['corr'].fillna(0)"
   ]
  },
  {
   "cell_type": "code",
   "execution_count": 9397,
   "id": "63020537",
   "metadata": {},
   "outputs": [],
   "source": [
    "for i in range(1, 438):\n",
    "    if i in list_dec_3.index:\n",
    "        corr = list_dec_3['corr'].loc[i]\n",
    "        df_3[str(i)] = df_3[str(i)] * corr  \n",
    "    else:\n",
    "        continue    "
   ]
  },
  {
   "cell_type": "markdown",
   "id": "b8c6a3e2",
   "metadata": {},
   "source": [
    "**Focus**"
   ]
  },
  {
   "cell_type": "code",
   "execution_count": 9398,
   "id": "67a055ab",
   "metadata": {
    "scrolled": true
   },
   "outputs": [],
   "source": [
    "list_dec_4 = []\n",
    "for i in range(1, 438):\n",
    "    cor = df_4['Focus'].corr(df_4[str(i)]) ** 2\n",
    "    list_dec_4.append({'i': i, \n",
    "                   'corr' : cor})\n",
    "list_dec_4 = pd.DataFrame(list_dec_4).set_index('i')\n",
    "list_dec_4['corr'] = list_dec_4['corr'].fillna(0)"
   ]
  },
  {
   "cell_type": "code",
   "execution_count": 9399,
   "id": "5f380b94",
   "metadata": {},
   "outputs": [],
   "source": [
    "for i in range(1, 438):\n",
    "    if i in list_dec_4.index:\n",
    "        corr = list_dec_4['corr'].loc[i]\n",
    "        df_4[str(i)] = df_4[str(i)] * corr  \n",
    "    else:\n",
    "        continue    "
   ]
  },
  {
   "cell_type": "code",
   "execution_count": 9400,
   "id": "e3e9b8fe",
   "metadata": {
    "scrolled": false
   },
   "outputs": [
    {
     "data": {
      "text/html": [
       "<div>\n",
       "<style scoped>\n",
       "    .dataframe tbody tr th:only-of-type {\n",
       "        vertical-align: middle;\n",
       "    }\n",
       "\n",
       "    .dataframe tbody tr th {\n",
       "        vertical-align: top;\n",
       "    }\n",
       "\n",
       "    .dataframe thead th {\n",
       "        text-align: right;\n",
       "    }\n",
       "</style>\n",
       "<table border=\"1\" class=\"dataframe\">\n",
       "  <thead>\n",
       "    <tr style=\"text-align: right;\">\n",
       "      <th></th>\n",
       "      <th>Analytical thinking</th>\n",
       "      <th>Systemic thinking</th>\n",
       "      <th>Adaptability</th>\n",
       "      <th>Focus</th>\n",
       "      <th>1</th>\n",
       "      <th>2</th>\n",
       "      <th>3</th>\n",
       "      <th>4</th>\n",
       "      <th>5</th>\n",
       "      <th>6</th>\n",
       "      <th>...</th>\n",
       "      <th>429</th>\n",
       "      <th>430</th>\n",
       "      <th>431</th>\n",
       "      <th>432</th>\n",
       "      <th>433</th>\n",
       "      <th>434</th>\n",
       "      <th>435</th>\n",
       "      <th>436</th>\n",
       "      <th>437</th>\n",
       "      <th>438</th>\n",
       "    </tr>\n",
       "    <tr>\n",
       "      <th>index</th>\n",
       "      <th></th>\n",
       "      <th></th>\n",
       "      <th></th>\n",
       "      <th></th>\n",
       "      <th></th>\n",
       "      <th></th>\n",
       "      <th></th>\n",
       "      <th></th>\n",
       "      <th></th>\n",
       "      <th></th>\n",
       "      <th></th>\n",
       "      <th></th>\n",
       "      <th></th>\n",
       "      <th></th>\n",
       "      <th></th>\n",
       "      <th></th>\n",
       "      <th></th>\n",
       "      <th></th>\n",
       "      <th></th>\n",
       "      <th></th>\n",
       "      <th></th>\n",
       "    </tr>\n",
       "  </thead>\n",
       "  <tbody>\n",
       "    <tr>\n",
       "      <th>10001</th>\n",
       "      <td>4.00</td>\n",
       "      <td>4.00</td>\n",
       "      <td>5.00</td>\n",
       "      <td>4.00</td>\n",
       "      <td>0.00</td>\n",
       "      <td>0.00</td>\n",
       "      <td>0.00</td>\n",
       "      <td>0.00</td>\n",
       "      <td>0.00</td>\n",
       "      <td>0.00</td>\n",
       "      <td>...</td>\n",
       "      <td>0.00</td>\n",
       "      <td>0.00</td>\n",
       "      <td>0.00</td>\n",
       "      <td>0.00</td>\n",
       "      <td>0.00</td>\n",
       "      <td>0.00</td>\n",
       "      <td>0.00</td>\n",
       "      <td>0.00</td>\n",
       "      <td>0.00</td>\n",
       "      <td>0</td>\n",
       "    </tr>\n",
       "    <tr>\n",
       "      <th>10003</th>\n",
       "      <td>5.00</td>\n",
       "      <td>5.00</td>\n",
       "      <td>5.00</td>\n",
       "      <td>5.00</td>\n",
       "      <td>0.00</td>\n",
       "      <td>0.00</td>\n",
       "      <td>0.00</td>\n",
       "      <td>0.00</td>\n",
       "      <td>0.00</td>\n",
       "      <td>0.00</td>\n",
       "      <td>...</td>\n",
       "      <td>0.00</td>\n",
       "      <td>0.00</td>\n",
       "      <td>0.00</td>\n",
       "      <td>0.00</td>\n",
       "      <td>0.00</td>\n",
       "      <td>0.00</td>\n",
       "      <td>0.00</td>\n",
       "      <td>0.00</td>\n",
       "      <td>0.00</td>\n",
       "      <td>0</td>\n",
       "    </tr>\n",
       "    <tr>\n",
       "      <th>10004</th>\n",
       "      <td>4.00</td>\n",
       "      <td>4.00</td>\n",
       "      <td>5.00</td>\n",
       "      <td>4.00</td>\n",
       "      <td>0.00</td>\n",
       "      <td>0.00</td>\n",
       "      <td>0.00</td>\n",
       "      <td>0.00</td>\n",
       "      <td>0.00</td>\n",
       "      <td>0.00</td>\n",
       "      <td>...</td>\n",
       "      <td>0.00</td>\n",
       "      <td>0.00</td>\n",
       "      <td>0.00</td>\n",
       "      <td>0.00</td>\n",
       "      <td>0.00</td>\n",
       "      <td>0.00</td>\n",
       "      <td>0.00</td>\n",
       "      <td>0.00</td>\n",
       "      <td>0.00</td>\n",
       "      <td>0</td>\n",
       "    </tr>\n",
       "    <tr>\n",
       "      <th>10006</th>\n",
       "      <td>4.00</td>\n",
       "      <td>4.00</td>\n",
       "      <td>5.00</td>\n",
       "      <td>4.00</td>\n",
       "      <td>0.00</td>\n",
       "      <td>0.00</td>\n",
       "      <td>0.00</td>\n",
       "      <td>0.00</td>\n",
       "      <td>0.00</td>\n",
       "      <td>0.00</td>\n",
       "      <td>...</td>\n",
       "      <td>0.00</td>\n",
       "      <td>0.00</td>\n",
       "      <td>0.00</td>\n",
       "      <td>0.00</td>\n",
       "      <td>0.00</td>\n",
       "      <td>0.00</td>\n",
       "      <td>0.00</td>\n",
       "      <td>0.00</td>\n",
       "      <td>0.00</td>\n",
       "      <td>0</td>\n",
       "    </tr>\n",
       "    <tr>\n",
       "      <th>10008</th>\n",
       "      <td>5.00</td>\n",
       "      <td>4.00</td>\n",
       "      <td>5.00</td>\n",
       "      <td>5.00</td>\n",
       "      <td>0.00</td>\n",
       "      <td>0.00</td>\n",
       "      <td>0.00</td>\n",
       "      <td>0.00</td>\n",
       "      <td>0.00</td>\n",
       "      <td>0.00</td>\n",
       "      <td>...</td>\n",
       "      <td>0.00</td>\n",
       "      <td>0.00</td>\n",
       "      <td>0.00</td>\n",
       "      <td>0.00</td>\n",
       "      <td>0.00</td>\n",
       "      <td>0.00</td>\n",
       "      <td>0.00</td>\n",
       "      <td>0.00</td>\n",
       "      <td>0.00</td>\n",
       "      <td>0</td>\n",
       "    </tr>\n",
       "  </tbody>\n",
       "</table>\n",
       "<p>5 rows × 442 columns</p>\n",
       "</div>"
      ],
      "text/plain": [
       "       Analytical thinking  Systemic thinking  Adaptability  Focus    1    2  \\\n",
       "index                                                                          \n",
       "10001                 4.00               4.00          5.00   4.00 0.00 0.00   \n",
       "10003                 5.00               5.00          5.00   5.00 0.00 0.00   \n",
       "10004                 4.00               4.00          5.00   4.00 0.00 0.00   \n",
       "10006                 4.00               4.00          5.00   4.00 0.00 0.00   \n",
       "10008                 5.00               4.00          5.00   5.00 0.00 0.00   \n",
       "\n",
       "         3    4    5    6  ...  429  430  431  432  433  434  435  436  437  \\\n",
       "index                      ...                                                \n",
       "10001 0.00 0.00 0.00 0.00  ... 0.00 0.00 0.00 0.00 0.00 0.00 0.00 0.00 0.00   \n",
       "10003 0.00 0.00 0.00 0.00  ... 0.00 0.00 0.00 0.00 0.00 0.00 0.00 0.00 0.00   \n",
       "10004 0.00 0.00 0.00 0.00  ... 0.00 0.00 0.00 0.00 0.00 0.00 0.00 0.00 0.00   \n",
       "10006 0.00 0.00 0.00 0.00  ... 0.00 0.00 0.00 0.00 0.00 0.00 0.00 0.00 0.00   \n",
       "10008 0.00 0.00 0.00 0.00  ... 0.00 0.00 0.00 0.00 0.00 0.00 0.00 0.00 0.00   \n",
       "\n",
       "       438  \n",
       "index       \n",
       "10001    0  \n",
       "10003    0  \n",
       "10004    0  \n",
       "10006    0  \n",
       "10008    0  \n",
       "\n",
       "[5 rows x 442 columns]"
      ]
     },
     "execution_count": 9400,
     "metadata": {},
     "output_type": "execute_result"
    }
   ],
   "source": [
    "df_1.head()"
   ]
  },
  {
   "cell_type": "code",
   "execution_count": 9401,
   "id": "4d7c1a68",
   "metadata": {},
   "outputs": [],
   "source": [
    "col_drop = ['Analytical thinking', 'Systemic thinking', 'Adaptability', 'Focus']"
   ]
  },
  {
   "cell_type": "code",
   "execution_count": 9402,
   "id": "f797b8d3",
   "metadata": {},
   "outputs": [],
   "source": [
    "df_1['total'] = df_1.drop(col_drop, axis=1).sum(axis=1)"
   ]
  },
  {
   "cell_type": "code",
   "execution_count": 9403,
   "id": "41383f9a",
   "metadata": {
    "scrolled": true
   },
   "outputs": [
    {
     "data": {
      "text/plain": [
       "(680, 443)"
      ]
     },
     "execution_count": 9403,
     "metadata": {},
     "output_type": "execute_result"
    }
   ],
   "source": [
    "df_1.shape"
   ]
  },
  {
   "cell_type": "markdown",
   "id": "55616885",
   "metadata": {},
   "source": [
    "## 'Analytical thinking' (в трейне: ОНЕ-решений, баллы и рейтинги)"
   ]
  },
  {
   "cell_type": "code",
   "execution_count": 9404,
   "id": "d30180c7",
   "metadata": {},
   "outputs": [
    {
     "data": {
      "text/html": [
       "<div>\n",
       "<style scoped>\n",
       "    .dataframe tbody tr th:only-of-type {\n",
       "        vertical-align: middle;\n",
       "    }\n",
       "\n",
       "    .dataframe tbody tr th {\n",
       "        vertical-align: top;\n",
       "    }\n",
       "\n",
       "    .dataframe thead th {\n",
       "        text-align: right;\n",
       "    }\n",
       "</style>\n",
       "<table border=\"1\" class=\"dataframe\">\n",
       "  <thead>\n",
       "    <tr style=\"text-align: right;\">\n",
       "      <th></th>\n",
       "      <th>Analytical thinking</th>\n",
       "      <th>Systemic thinking</th>\n",
       "      <th>Adaptability</th>\n",
       "      <th>Focus</th>\n",
       "      <th>game_id</th>\n",
       "      <th>total_score</th>\n",
       "      <th>cat_1</th>\n",
       "      <th>cat_2</th>\n",
       "      <th>cat_3</th>\n",
       "      <th>cat_4</th>\n",
       "      <th>cat_5</th>\n",
       "      <th>cat_6</th>\n",
       "      <th>score_rating</th>\n",
       "      <th>rating_1</th>\n",
       "      <th>rating_2</th>\n",
       "      <th>rating_3</th>\n",
       "      <th>rating_4</th>\n",
       "      <th>rating_5</th>\n",
       "      <th>rating_6</th>\n",
       "    </tr>\n",
       "    <tr>\n",
       "      <th>id</th>\n",
       "      <th></th>\n",
       "      <th></th>\n",
       "      <th></th>\n",
       "      <th></th>\n",
       "      <th></th>\n",
       "      <th></th>\n",
       "      <th></th>\n",
       "      <th></th>\n",
       "      <th></th>\n",
       "      <th></th>\n",
       "      <th></th>\n",
       "      <th></th>\n",
       "      <th></th>\n",
       "      <th></th>\n",
       "      <th></th>\n",
       "      <th></th>\n",
       "      <th></th>\n",
       "      <th></th>\n",
       "      <th></th>\n",
       "    </tr>\n",
       "  </thead>\n",
       "  <tbody>\n",
       "    <tr>\n",
       "      <th>10884</th>\n",
       "      <td>4.00</td>\n",
       "      <td>4.00</td>\n",
       "      <td>4.00</td>\n",
       "      <td>4.00</td>\n",
       "      <td>202</td>\n",
       "      <td>872</td>\n",
       "      <td>-9.00</td>\n",
       "      <td>-41.00</td>\n",
       "      <td>288.00</td>\n",
       "      <td>101.00</td>\n",
       "      <td>97.00</td>\n",
       "      <td>436.00</td>\n",
       "      <td>0.48</td>\n",
       "      <td>-0.08</td>\n",
       "      <td>-0.23</td>\n",
       "      <td>0.71</td>\n",
       "      <td>0.70</td>\n",
       "      <td>1.00</td>\n",
       "      <td>0.48</td>\n",
       "    </tr>\n",
       "    <tr>\n",
       "      <th>10106</th>\n",
       "      <td>5.00</td>\n",
       "      <td>4.00</td>\n",
       "      <td>5.00</td>\n",
       "      <td>5.00</td>\n",
       "      <td>211</td>\n",
       "      <td>1512</td>\n",
       "      <td>50.00</td>\n",
       "      <td>104.00</td>\n",
       "      <td>364.00</td>\n",
       "      <td>133.00</td>\n",
       "      <td>105.00</td>\n",
       "      <td>756.00</td>\n",
       "      <td>1.00</td>\n",
       "      <td>1.00</td>\n",
       "      <td>0.88</td>\n",
       "      <td>0.98</td>\n",
       "      <td>0.88</td>\n",
       "      <td>1.00</td>\n",
       "      <td>1.00</td>\n",
       "    </tr>\n",
       "    <tr>\n",
       "      <th>10438</th>\n",
       "      <td>6.00</td>\n",
       "      <td>5.00</td>\n",
       "      <td>5.00</td>\n",
       "      <td>5.00</td>\n",
       "      <td>242</td>\n",
       "      <td>1288</td>\n",
       "      <td>51.00</td>\n",
       "      <td>44.00</td>\n",
       "      <td>280.00</td>\n",
       "      <td>131.00</td>\n",
       "      <td>138.00</td>\n",
       "      <td>644.00</td>\n",
       "      <td>1.00</td>\n",
       "      <td>1.00</td>\n",
       "      <td>0.62</td>\n",
       "      <td>0.98</td>\n",
       "      <td>1.00</td>\n",
       "      <td>0.80</td>\n",
       "      <td>1.00</td>\n",
       "    </tr>\n",
       "    <tr>\n",
       "      <th>10130</th>\n",
       "      <td>5.00</td>\n",
       "      <td>4.00</td>\n",
       "      <td>5.00</td>\n",
       "      <td>5.00</td>\n",
       "      <td>184</td>\n",
       "      <td>1018</td>\n",
       "      <td>27.00</td>\n",
       "      <td>8.00</td>\n",
       "      <td>263.00</td>\n",
       "      <td>112.00</td>\n",
       "      <td>99.00</td>\n",
       "      <td>509.00</td>\n",
       "      <td>0.56</td>\n",
       "      <td>0.28</td>\n",
       "      <td>0.04</td>\n",
       "      <td>0.64</td>\n",
       "      <td>0.65</td>\n",
       "      <td>1.00</td>\n",
       "      <td>0.56</td>\n",
       "    </tr>\n",
       "    <tr>\n",
       "      <th>10667</th>\n",
       "      <td>4.00</td>\n",
       "      <td>5.00</td>\n",
       "      <td>5.00</td>\n",
       "      <td>5.00</td>\n",
       "      <td>193</td>\n",
       "      <td>1440</td>\n",
       "      <td>67.00</td>\n",
       "      <td>54.00</td>\n",
       "      <td>313.00</td>\n",
       "      <td>139.00</td>\n",
       "      <td>147.00</td>\n",
       "      <td>720.00</td>\n",
       "      <td>0.67</td>\n",
       "      <td>0.40</td>\n",
       "      <td>0.22</td>\n",
       "      <td>0.96</td>\n",
       "      <td>0.77</td>\n",
       "      <td>0.86</td>\n",
       "      <td>0.67</td>\n",
       "    </tr>\n",
       "  </tbody>\n",
       "</table>\n",
       "</div>"
      ],
      "text/plain": [
       "       Analytical thinking  Systemic thinking  Adaptability  Focus  game_id  \\\n",
       "id                                                                            \n",
       "10884                 4.00               4.00          4.00   4.00      202   \n",
       "10106                 5.00               4.00          5.00   5.00      211   \n",
       "10438                 6.00               5.00          5.00   5.00      242   \n",
       "10130                 5.00               4.00          5.00   5.00      184   \n",
       "10667                 4.00               5.00          5.00   5.00      193   \n",
       "\n",
       "       total_score  cat_1  cat_2  cat_3  cat_4  cat_5  cat_6  score_rating  \\\n",
       "id                                                                           \n",
       "10884          872  -9.00 -41.00 288.00 101.00  97.00 436.00          0.48   \n",
       "10106         1512  50.00 104.00 364.00 133.00 105.00 756.00          1.00   \n",
       "10438         1288  51.00  44.00 280.00 131.00 138.00 644.00          1.00   \n",
       "10130         1018  27.00   8.00 263.00 112.00  99.00 509.00          0.56   \n",
       "10667         1440  67.00  54.00 313.00 139.00 147.00 720.00          0.67   \n",
       "\n",
       "       rating_1  rating_2  rating_3  rating_4  rating_5  rating_6  \n",
       "id                                                                 \n",
       "10884     -0.08     -0.23      0.71      0.70      1.00      0.48  \n",
       "10106      1.00      0.88      0.98      0.88      1.00      1.00  \n",
       "10438      1.00      0.62      0.98      1.00      0.80      1.00  \n",
       "10130      0.28      0.04      0.64      0.65      1.00      0.56  \n",
       "10667      0.40      0.22      0.96      0.77      0.86      0.67  "
      ]
     },
     "execution_count": 9404,
     "metadata": {},
     "output_type": "execute_result"
    }
   ],
   "source": [
    "df_score.head()"
   ]
  },
  {
   "cell_type": "code",
   "execution_count": 9405,
   "id": "d795c3a2",
   "metadata": {
    "scrolled": false
   },
   "outputs": [
    {
     "data": {
      "text/html": [
       "<div>\n",
       "<style scoped>\n",
       "    .dataframe tbody tr th:only-of-type {\n",
       "        vertical-align: middle;\n",
       "    }\n",
       "\n",
       "    .dataframe tbody tr th {\n",
       "        vertical-align: top;\n",
       "    }\n",
       "\n",
       "    .dataframe thead th {\n",
       "        text-align: right;\n",
       "    }\n",
       "</style>\n",
       "<table border=\"1\" class=\"dataframe\">\n",
       "  <thead>\n",
       "    <tr style=\"text-align: right;\">\n",
       "      <th></th>\n",
       "      <th>Analytical thinking</th>\n",
       "      <th>Systemic thinking</th>\n",
       "      <th>Adaptability</th>\n",
       "      <th>Focus</th>\n",
       "      <th>1</th>\n",
       "      <th>2</th>\n",
       "      <th>3</th>\n",
       "      <th>4</th>\n",
       "      <th>5</th>\n",
       "      <th>6</th>\n",
       "      <th>...</th>\n",
       "      <th>430</th>\n",
       "      <th>431</th>\n",
       "      <th>432</th>\n",
       "      <th>433</th>\n",
       "      <th>434</th>\n",
       "      <th>435</th>\n",
       "      <th>436</th>\n",
       "      <th>437</th>\n",
       "      <th>438</th>\n",
       "      <th>total</th>\n",
       "    </tr>\n",
       "    <tr>\n",
       "      <th>index</th>\n",
       "      <th></th>\n",
       "      <th></th>\n",
       "      <th></th>\n",
       "      <th></th>\n",
       "      <th></th>\n",
       "      <th></th>\n",
       "      <th></th>\n",
       "      <th></th>\n",
       "      <th></th>\n",
       "      <th></th>\n",
       "      <th></th>\n",
       "      <th></th>\n",
       "      <th></th>\n",
       "      <th></th>\n",
       "      <th></th>\n",
       "      <th></th>\n",
       "      <th></th>\n",
       "      <th></th>\n",
       "      <th></th>\n",
       "      <th></th>\n",
       "      <th></th>\n",
       "    </tr>\n",
       "  </thead>\n",
       "  <tbody>\n",
       "    <tr>\n",
       "      <th>10001</th>\n",
       "      <td>4.00</td>\n",
       "      <td>4.00</td>\n",
       "      <td>5.00</td>\n",
       "      <td>4.00</td>\n",
       "      <td>0.00</td>\n",
       "      <td>0.00</td>\n",
       "      <td>0.00</td>\n",
       "      <td>0.00</td>\n",
       "      <td>0.00</td>\n",
       "      <td>0.00</td>\n",
       "      <td>...</td>\n",
       "      <td>0.00</td>\n",
       "      <td>0.00</td>\n",
       "      <td>0.00</td>\n",
       "      <td>0.00</td>\n",
       "      <td>0.00</td>\n",
       "      <td>0.00</td>\n",
       "      <td>0.00</td>\n",
       "      <td>0.00</td>\n",
       "      <td>0</td>\n",
       "      <td>0.00</td>\n",
       "    </tr>\n",
       "  </tbody>\n",
       "</table>\n",
       "<p>1 rows × 443 columns</p>\n",
       "</div>"
      ],
      "text/plain": [
       "       Analytical thinking  Systemic thinking  Adaptability  Focus    1    2  \\\n",
       "index                                                                          \n",
       "10001                 4.00               4.00          5.00   4.00 0.00 0.00   \n",
       "\n",
       "         3    4    5    6  ...  430  431  432  433  434  435  436  437  438  \\\n",
       "index                      ...                                                \n",
       "10001 0.00 0.00 0.00 0.00  ... 0.00 0.00 0.00 0.00 0.00 0.00 0.00 0.00    0   \n",
       "\n",
       "       total  \n",
       "index         \n",
       "10001   0.00  \n",
       "\n",
       "[1 rows x 443 columns]"
      ]
     },
     "execution_count": 9405,
     "metadata": {},
     "output_type": "execute_result"
    }
   ],
   "source": [
    "df_1.head(1)"
   ]
  },
  {
   "cell_type": "code",
   "execution_count": 9406,
   "id": "16a0fcb7",
   "metadata": {},
   "outputs": [],
   "source": [
    "col_drop = ['Analytical thinking', 'Systemic thinking', 'Adaptability','Focus']"
   ]
  },
  {
   "cell_type": "code",
   "execution_count": 9407,
   "id": "62791d8a",
   "metadata": {},
   "outputs": [],
   "source": [
    "df_7 = df_score.join(df_1.drop(col_drop, axis=1))"
   ]
  },
  {
   "cell_type": "code",
   "execution_count": 9408,
   "id": "9a791c7f",
   "metadata": {
    "scrolled": true
   },
   "outputs": [
    {
     "data": {
      "text/html": [
       "<div>\n",
       "<style scoped>\n",
       "    .dataframe tbody tr th:only-of-type {\n",
       "        vertical-align: middle;\n",
       "    }\n",
       "\n",
       "    .dataframe tbody tr th {\n",
       "        vertical-align: top;\n",
       "    }\n",
       "\n",
       "    .dataframe thead th {\n",
       "        text-align: right;\n",
       "    }\n",
       "</style>\n",
       "<table border=\"1\" class=\"dataframe\">\n",
       "  <thead>\n",
       "    <tr style=\"text-align: right;\">\n",
       "      <th></th>\n",
       "      <th>Analytical thinking</th>\n",
       "      <th>Systemic thinking</th>\n",
       "      <th>Adaptability</th>\n",
       "      <th>Focus</th>\n",
       "      <th>game_id</th>\n",
       "      <th>total_score</th>\n",
       "      <th>cat_1</th>\n",
       "      <th>cat_2</th>\n",
       "      <th>cat_3</th>\n",
       "      <th>cat_4</th>\n",
       "      <th>...</th>\n",
       "      <th>430</th>\n",
       "      <th>431</th>\n",
       "      <th>432</th>\n",
       "      <th>433</th>\n",
       "      <th>434</th>\n",
       "      <th>435</th>\n",
       "      <th>436</th>\n",
       "      <th>437</th>\n",
       "      <th>438</th>\n",
       "      <th>total</th>\n",
       "    </tr>\n",
       "    <tr>\n",
       "      <th>id</th>\n",
       "      <th></th>\n",
       "      <th></th>\n",
       "      <th></th>\n",
       "      <th></th>\n",
       "      <th></th>\n",
       "      <th></th>\n",
       "      <th></th>\n",
       "      <th></th>\n",
       "      <th></th>\n",
       "      <th></th>\n",
       "      <th></th>\n",
       "      <th></th>\n",
       "      <th></th>\n",
       "      <th></th>\n",
       "      <th></th>\n",
       "      <th></th>\n",
       "      <th></th>\n",
       "      <th></th>\n",
       "      <th></th>\n",
       "      <th></th>\n",
       "      <th></th>\n",
       "    </tr>\n",
       "  </thead>\n",
       "  <tbody>\n",
       "    <tr>\n",
       "      <th>10884</th>\n",
       "      <td>4.00</td>\n",
       "      <td>4.00</td>\n",
       "      <td>4.00</td>\n",
       "      <td>4.00</td>\n",
       "      <td>202</td>\n",
       "      <td>872</td>\n",
       "      <td>-9.00</td>\n",
       "      <td>-41.00</td>\n",
       "      <td>288.00</td>\n",
       "      <td>101.00</td>\n",
       "      <td>...</td>\n",
       "      <td>0.00</td>\n",
       "      <td>0.00</td>\n",
       "      <td>0.00</td>\n",
       "      <td>0.00</td>\n",
       "      <td>0.00</td>\n",
       "      <td>0.00</td>\n",
       "      <td>0.00</td>\n",
       "      <td>0.00</td>\n",
       "      <td>0</td>\n",
       "      <td>0.00</td>\n",
       "    </tr>\n",
       "  </tbody>\n",
       "</table>\n",
       "<p>1 rows × 458 columns</p>\n",
       "</div>"
      ],
      "text/plain": [
       "       Analytical thinking  Systemic thinking  Adaptability  Focus  game_id  \\\n",
       "id                                                                            \n",
       "10884                 4.00               4.00          4.00   4.00      202   \n",
       "\n",
       "       total_score  cat_1  cat_2  cat_3  cat_4  ...  430  431  432  433  434  \\\n",
       "id                                              ...                            \n",
       "10884          872  -9.00 -41.00 288.00 101.00  ... 0.00 0.00 0.00 0.00 0.00   \n",
       "\n",
       "       435  436  437  438  total  \n",
       "id                                \n",
       "10884 0.00 0.00 0.00    0   0.00  \n",
       "\n",
       "[1 rows x 458 columns]"
      ]
     },
     "execution_count": 9408,
     "metadata": {},
     "output_type": "execute_result"
    }
   ],
   "source": [
    "df_7.head(1)"
   ]
  },
  {
   "cell_type": "code",
   "execution_count": 9409,
   "id": "20bb9fdd",
   "metadata": {},
   "outputs": [],
   "source": [
    "df_7['max_total'] = df_7.groupby('game_id')['total'].transform('max')"
   ]
  },
  {
   "cell_type": "code",
   "execution_count": 9410,
   "id": "7bf5fd33",
   "metadata": {},
   "outputs": [],
   "source": [
    "df_7['rating_user'] = df_7['total'] / df_7['max_total']"
   ]
  },
  {
   "cell_type": "code",
   "execution_count": 9411,
   "id": "36a78fcf",
   "metadata": {},
   "outputs": [
    {
     "data": {
      "text/plain": [
       "(674, 460)"
      ]
     },
     "execution_count": 9411,
     "metadata": {},
     "output_type": "execute_result"
    }
   ],
   "source": [
    "df_7 = df_7[df_7['Analytical thinking']>2]\n",
    "df_7 = df_7[df_7['Systemic thinking']>2]\n",
    "df_7 = df_7[df_7['Adaptability']>2]\n",
    "df_7 = df_7[df_7['Focus']>2]\n",
    "df_7.shape"
   ]
  },
  {
   "cell_type": "code",
   "execution_count": 9412,
   "id": "374c9cd1",
   "metadata": {},
   "outputs": [],
   "source": [
    "for i in range(1, 439):\n",
    "    df_7 = df_7.drop(str(i), axis=1)    "
   ]
  },
  {
   "cell_type": "code",
   "execution_count": 9413,
   "id": "9a30a507",
   "metadata": {},
   "outputs": [
    {
     "data": {
      "text/html": [
       "<div>\n",
       "<style scoped>\n",
       "    .dataframe tbody tr th:only-of-type {\n",
       "        vertical-align: middle;\n",
       "    }\n",
       "\n",
       "    .dataframe tbody tr th {\n",
       "        vertical-align: top;\n",
       "    }\n",
       "\n",
       "    .dataframe thead th {\n",
       "        text-align: right;\n",
       "    }\n",
       "</style>\n",
       "<table border=\"1\" class=\"dataframe\">\n",
       "  <thead>\n",
       "    <tr style=\"text-align: right;\">\n",
       "      <th></th>\n",
       "      <th>Analytical thinking</th>\n",
       "      <th>Systemic thinking</th>\n",
       "      <th>Adaptability</th>\n",
       "      <th>Focus</th>\n",
       "      <th>game_id</th>\n",
       "      <th>total_score</th>\n",
       "      <th>cat_1</th>\n",
       "      <th>cat_2</th>\n",
       "      <th>cat_3</th>\n",
       "      <th>cat_4</th>\n",
       "      <th>...</th>\n",
       "      <th>score_rating</th>\n",
       "      <th>rating_1</th>\n",
       "      <th>rating_2</th>\n",
       "      <th>rating_3</th>\n",
       "      <th>rating_4</th>\n",
       "      <th>rating_5</th>\n",
       "      <th>rating_6</th>\n",
       "      <th>total</th>\n",
       "      <th>max_total</th>\n",
       "      <th>rating_user</th>\n",
       "    </tr>\n",
       "    <tr>\n",
       "      <th>id</th>\n",
       "      <th></th>\n",
       "      <th></th>\n",
       "      <th></th>\n",
       "      <th></th>\n",
       "      <th></th>\n",
       "      <th></th>\n",
       "      <th></th>\n",
       "      <th></th>\n",
       "      <th></th>\n",
       "      <th></th>\n",
       "      <th></th>\n",
       "      <th></th>\n",
       "      <th></th>\n",
       "      <th></th>\n",
       "      <th></th>\n",
       "      <th></th>\n",
       "      <th></th>\n",
       "      <th></th>\n",
       "      <th></th>\n",
       "      <th></th>\n",
       "      <th></th>\n",
       "    </tr>\n",
       "  </thead>\n",
       "  <tbody>\n",
       "    <tr>\n",
       "      <th>10884</th>\n",
       "      <td>4.00</td>\n",
       "      <td>4.00</td>\n",
       "      <td>4.00</td>\n",
       "      <td>4.00</td>\n",
       "      <td>202</td>\n",
       "      <td>872</td>\n",
       "      <td>-9.00</td>\n",
       "      <td>-41.00</td>\n",
       "      <td>288.00</td>\n",
       "      <td>101.00</td>\n",
       "      <td>...</td>\n",
       "      <td>0.48</td>\n",
       "      <td>-0.08</td>\n",
       "      <td>-0.23</td>\n",
       "      <td>0.71</td>\n",
       "      <td>0.70</td>\n",
       "      <td>1.00</td>\n",
       "      <td>0.48</td>\n",
       "      <td>0.00</td>\n",
       "      <td>0.00</td>\n",
       "      <td>0.39</td>\n",
       "    </tr>\n",
       "  </tbody>\n",
       "</table>\n",
       "<p>1 rows × 22 columns</p>\n",
       "</div>"
      ],
      "text/plain": [
       "       Analytical thinking  Systemic thinking  Adaptability  Focus  game_id  \\\n",
       "id                                                                            \n",
       "10884                 4.00               4.00          4.00   4.00      202   \n",
       "\n",
       "       total_score  cat_1  cat_2  cat_3  cat_4  ...  score_rating  rating_1  \\\n",
       "id                                              ...                           \n",
       "10884          872  -9.00 -41.00 288.00 101.00  ...          0.48     -0.08   \n",
       "\n",
       "       rating_2  rating_3  rating_4  rating_5  rating_6  total  max_total  \\\n",
       "id                                                                          \n",
       "10884     -0.23      0.71      0.70      1.00      0.48   0.00       0.00   \n",
       "\n",
       "       rating_user  \n",
       "id                  \n",
       "10884         0.39  \n",
       "\n",
       "[1 rows x 22 columns]"
      ]
     },
     "execution_count": 9413,
     "metadata": {},
     "output_type": "execute_result"
    }
   ],
   "source": [
    "df_7.head(1)"
   ]
  },
  {
   "cell_type": "code",
   "execution_count": 9414,
   "id": "9471656e",
   "metadata": {},
   "outputs": [],
   "source": [
    "col_drop = ['Analytical thinking', 'Systemic thinking', 'Adaptability', \n",
    "            'Focus', 'max_total']"
   ]
  },
  {
   "cell_type": "code",
   "execution_count": 9415,
   "id": "22add9b8",
   "metadata": {},
   "outputs": [],
   "source": [
    "X_train, X_test, y_train, y_test = train_test_split(\n",
    "    df_7.drop(col_drop, axis=1), df_7['Analytical thinking'], stratify = df_7['Analytical thinking'], test_size=0.25, random_state=12345)"
   ]
  },
  {
   "cell_type": "code",
   "execution_count": 9416,
   "id": "2593240b",
   "metadata": {
    "scrolled": true
   },
   "outputs": [
    {
     "name": "stdout",
     "output_type": "stream",
     "text": [
      "(505, 17)\n",
      "(505,)\n"
     ]
    }
   ],
   "source": [
    "print(X_train.shape)\n",
    "print(y_train.shape)"
   ]
  },
  {
   "cell_type": "code",
   "execution_count": 9417,
   "id": "29ab848d",
   "metadata": {
    "scrolled": false
   },
   "outputs": [
    {
     "data": {
      "text/html": [
       "<div>\n",
       "<style scoped>\n",
       "    .dataframe tbody tr th:only-of-type {\n",
       "        vertical-align: middle;\n",
       "    }\n",
       "\n",
       "    .dataframe tbody tr th {\n",
       "        vertical-align: top;\n",
       "    }\n",
       "\n",
       "    .dataframe thead th {\n",
       "        text-align: right;\n",
       "    }\n",
       "</style>\n",
       "<table border=\"1\" class=\"dataframe\">\n",
       "  <thead>\n",
       "    <tr style=\"text-align: right;\">\n",
       "      <th></th>\n",
       "      <th>game_id</th>\n",
       "      <th>total_score</th>\n",
       "      <th>cat_1</th>\n",
       "      <th>cat_2</th>\n",
       "      <th>cat_3</th>\n",
       "      <th>cat_4</th>\n",
       "      <th>cat_5</th>\n",
       "      <th>cat_6</th>\n",
       "      <th>score_rating</th>\n",
       "      <th>rating_1</th>\n",
       "      <th>rating_2</th>\n",
       "      <th>rating_3</th>\n",
       "      <th>rating_4</th>\n",
       "      <th>rating_5</th>\n",
       "      <th>rating_6</th>\n",
       "      <th>total</th>\n",
       "      <th>rating_user</th>\n",
       "    </tr>\n",
       "    <tr>\n",
       "      <th>id</th>\n",
       "      <th></th>\n",
       "      <th></th>\n",
       "      <th></th>\n",
       "      <th></th>\n",
       "      <th></th>\n",
       "      <th></th>\n",
       "      <th></th>\n",
       "      <th></th>\n",
       "      <th></th>\n",
       "      <th></th>\n",
       "      <th></th>\n",
       "      <th></th>\n",
       "      <th></th>\n",
       "      <th></th>\n",
       "      <th></th>\n",
       "      <th></th>\n",
       "      <th></th>\n",
       "    </tr>\n",
       "  </thead>\n",
       "  <tbody>\n",
       "    <tr>\n",
       "      <th>10732</th>\n",
       "      <td>252</td>\n",
       "      <td>1774</td>\n",
       "      <td>82.00</td>\n",
       "      <td>158.00</td>\n",
       "      <td>384.00</td>\n",
       "      <td>170.00</td>\n",
       "      <td>93.00</td>\n",
       "      <td>887.00</td>\n",
       "      <td>0.94</td>\n",
       "      <td>0.80</td>\n",
       "      <td>0.71</td>\n",
       "      <td>1.00</td>\n",
       "      <td>0.99</td>\n",
       "      <td>1.00</td>\n",
       "      <td>0.94</td>\n",
       "      <td>0.00</td>\n",
       "      <td>0.03</td>\n",
       "    </tr>\n",
       "    <tr>\n",
       "      <th>10804</th>\n",
       "      <td>244</td>\n",
       "      <td>1814</td>\n",
       "      <td>110.00</td>\n",
       "      <td>237.00</td>\n",
       "      <td>234.00</td>\n",
       "      <td>174.00</td>\n",
       "      <td>152.00</td>\n",
       "      <td>907.00</td>\n",
       "      <td>1.00</td>\n",
       "      <td>1.00</td>\n",
       "      <td>1.00</td>\n",
       "      <td>0.67</td>\n",
       "      <td>1.00</td>\n",
       "      <td>1.00</td>\n",
       "      <td>1.00</td>\n",
       "      <td>0.00</td>\n",
       "      <td>0.74</td>\n",
       "    </tr>\n",
       "    <tr>\n",
       "      <th>10508</th>\n",
       "      <td>252</td>\n",
       "      <td>1176</td>\n",
       "      <td>35.00</td>\n",
       "      <td>35.00</td>\n",
       "      <td>337.00</td>\n",
       "      <td>102.00</td>\n",
       "      <td>79.00</td>\n",
       "      <td>588.00</td>\n",
       "      <td>0.62</td>\n",
       "      <td>0.34</td>\n",
       "      <td>0.16</td>\n",
       "      <td>0.88</td>\n",
       "      <td>0.60</td>\n",
       "      <td>0.85</td>\n",
       "      <td>0.62</td>\n",
       "      <td>0.00</td>\n",
       "      <td>0.97</td>\n",
       "    </tr>\n",
       "    <tr>\n",
       "      <th>10219</th>\n",
       "      <td>244</td>\n",
       "      <td>966</td>\n",
       "      <td>-7.00</td>\n",
       "      <td>-1.00</td>\n",
       "      <td>250.00</td>\n",
       "      <td>122.00</td>\n",
       "      <td>119.00</td>\n",
       "      <td>483.00</td>\n",
       "      <td>0.53</td>\n",
       "      <td>-0.06</td>\n",
       "      <td>-0.00</td>\n",
       "      <td>0.72</td>\n",
       "      <td>0.70</td>\n",
       "      <td>0.78</td>\n",
       "      <td>0.53</td>\n",
       "      <td>0.00</td>\n",
       "      <td>0.02</td>\n",
       "    </tr>\n",
       "    <tr>\n",
       "      <th>10426</th>\n",
       "      <td>182</td>\n",
       "      <td>872</td>\n",
       "      <td>-13.00</td>\n",
       "      <td>-37.00</td>\n",
       "      <td>340.00</td>\n",
       "      <td>97.00</td>\n",
       "      <td>49.00</td>\n",
       "      <td>436.00</td>\n",
       "      <td>0.37</td>\n",
       "      <td>-0.07</td>\n",
       "      <td>-0.13</td>\n",
       "      <td>0.84</td>\n",
       "      <td>0.47</td>\n",
       "      <td>0.39</td>\n",
       "      <td>0.37</td>\n",
       "      <td>0.00</td>\n",
       "      <td>0.75</td>\n",
       "    </tr>\n",
       "  </tbody>\n",
       "</table>\n",
       "</div>"
      ],
      "text/plain": [
       "       game_id  total_score  cat_1  cat_2  cat_3  cat_4  cat_5  cat_6  \\\n",
       "id                                                                      \n",
       "10732      252         1774  82.00 158.00 384.00 170.00  93.00 887.00   \n",
       "10804      244         1814 110.00 237.00 234.00 174.00 152.00 907.00   \n",
       "10508      252         1176  35.00  35.00 337.00 102.00  79.00 588.00   \n",
       "10219      244          966  -7.00  -1.00 250.00 122.00 119.00 483.00   \n",
       "10426      182          872 -13.00 -37.00 340.00  97.00  49.00 436.00   \n",
       "\n",
       "       score_rating  rating_1  rating_2  rating_3  rating_4  rating_5  \\\n",
       "id                                                                      \n",
       "10732          0.94      0.80      0.71      1.00      0.99      1.00   \n",
       "10804          1.00      1.00      1.00      0.67      1.00      1.00   \n",
       "10508          0.62      0.34      0.16      0.88      0.60      0.85   \n",
       "10219          0.53     -0.06     -0.00      0.72      0.70      0.78   \n",
       "10426          0.37     -0.07     -0.13      0.84      0.47      0.39   \n",
       "\n",
       "       rating_6  total  rating_user  \n",
       "id                                   \n",
       "10732      0.94   0.00         0.03  \n",
       "10804      1.00   0.00         0.74  \n",
       "10508      0.62   0.00         0.97  \n",
       "10219      0.53   0.00         0.02  \n",
       "10426      0.37   0.00         0.75  "
      ]
     },
     "execution_count": 9417,
     "metadata": {},
     "output_type": "execute_result"
    }
   ],
   "source": [
    "X_train.head()"
   ]
  },
  {
   "cell_type": "code",
   "execution_count": 9418,
   "id": "5ebad26e",
   "metadata": {},
   "outputs": [],
   "source": [
    "scaler_1 = StandardScaler()\n",
    "scaler_1.fit(X_train)\n",
    "X_train = scaler_1.transform(X_train)\n",
    "X_test = scaler_1.transform(X_test)"
   ]
  },
  {
   "cell_type": "markdown",
   "id": "060e1046",
   "metadata": {},
   "source": [
    "**LogReg**"
   ]
  },
  {
   "cell_type": "code",
   "execution_count": 9419,
   "id": "291cb6fe",
   "metadata": {
    "scrolled": true
   },
   "outputs": [],
   "source": [
    "model = LogisticRegression()"
   ]
  },
  {
   "cell_type": "code",
   "execution_count": 9420,
   "id": "b9861b05",
   "metadata": {},
   "outputs": [],
   "source": [
    "parametrs = { 'penalty': ['l1', 'l2', 'elasticnet'],\n",
    "              'fit_intercept': [True, False] }"
   ]
  },
  {
   "cell_type": "code",
   "execution_count": 9421,
   "id": "017470df",
   "metadata": {},
   "outputs": [
    {
     "name": "stdout",
     "output_type": "stream",
     "text": [
      "CPU times: total: 234 ms\n",
      "Wall time: 232 ms\n"
     ]
    },
    {
     "data": {
      "text/plain": [
       "{'fit_intercept': True, 'penalty': 'l2'}"
      ]
     },
     "execution_count": 9421,
     "metadata": {},
     "output_type": "execute_result"
    }
   ],
   "source": [
    "%%time\n",
    "model = GridSearchCV(model, parametrs, cv=5)\n",
    "model.fit(X_train, y_train)\n",
    "model.best_params_"
   ]
  },
  {
   "cell_type": "code",
   "execution_count": 9422,
   "id": "ecdd7cb0",
   "metadata": {},
   "outputs": [],
   "source": [
    "pred_train = model.predict(X_train)\n",
    "pred_test = model.predict(X_test)"
   ]
  },
  {
   "cell_type": "code",
   "execution_count": 9423,
   "id": "ba1bc6c2",
   "metadata": {
    "scrolled": true
   },
   "outputs": [
    {
     "data": {
      "text/plain": [
       "0.2903869821628454"
      ]
     },
     "execution_count": 9423,
     "metadata": {},
     "output_type": "execute_result"
    }
   ],
   "source": [
    "f1_score(y_train, pred_train, average='macro', zero_division = 0)"
   ]
  },
  {
   "cell_type": "code",
   "execution_count": 9424,
   "id": "f2abea51",
   "metadata": {},
   "outputs": [
    {
     "data": {
      "text/plain": [
       "array([0.62376238, 0.51485149, 0.68316832, 0.61386139, 0.61386139])"
      ]
     },
     "execution_count": 9424,
     "metadata": {},
     "output_type": "execute_result"
    }
   ],
   "source": [
    "scores = cross_val_score(model, X_train, y_train, cv=5)\n",
    "scores"
   ]
  },
  {
   "cell_type": "code",
   "execution_count": 9425,
   "id": "299add78",
   "metadata": {
    "scrolled": false
   },
   "outputs": [
    {
     "data": {
      "text/plain": [
       "0.29551204209674153"
      ]
     },
     "execution_count": 9425,
     "metadata": {},
     "output_type": "execute_result"
    }
   ],
   "source": [
    "f1_score(y_test, pred_test, average='macro', zero_division = 0)"
   ]
  },
  {
   "cell_type": "code",
   "execution_count": 9426,
   "id": "02be9b55",
   "metadata": {},
   "outputs": [
    {
     "data": {
      "text/plain": [
       "0.30528846153846156"
      ]
     },
     "execution_count": 9426,
     "metadata": {},
     "output_type": "execute_result"
    }
   ],
   "source": [
    "r_s = recall_score(y_test, pred_test, average = 'macro', zero_division = 0)\n",
    "r_s"
   ]
  },
  {
   "cell_type": "code",
   "execution_count": 9427,
   "id": "5b0694f6",
   "metadata": {
    "scrolled": false
   },
   "outputs": [
    {
     "name": "stdout",
     "output_type": "stream",
     "text": [
      "              precision    recall  f1-score   support\n",
      "\n",
      "         3.0       0.00      0.00      0.00         9\n",
      "         4.0       0.66      0.89      0.76       104\n",
      "         5.0       0.59      0.33      0.42        52\n",
      "         6.0       0.00      0.00      0.00         4\n",
      "\n",
      "    accuracy                           0.65       169\n",
      "   macro avg       0.31      0.31      0.30       169\n",
      "weighted avg       0.59      0.65      0.60       169\n",
      "\n"
     ]
    }
   ],
   "source": [
    "print(classification_report(y_test, pred_test))"
   ]
  },
  {
   "cell_type": "code",
   "execution_count": 9428,
   "id": "e2768902",
   "metadata": {},
   "outputs": [
    {
     "data": {
      "text/html": [
       "<div>\n",
       "<style scoped>\n",
       "    .dataframe tbody tr th:only-of-type {\n",
       "        vertical-align: middle;\n",
       "    }\n",
       "\n",
       "    .dataframe tbody tr th {\n",
       "        vertical-align: top;\n",
       "    }\n",
       "\n",
       "    .dataframe thead th {\n",
       "        text-align: right;\n",
       "    }\n",
       "</style>\n",
       "<table border=\"1\" class=\"dataframe\">\n",
       "  <thead>\n",
       "    <tr style=\"text-align: right;\">\n",
       "      <th></th>\n",
       "      <th>model</th>\n",
       "      <th>recall</th>\n",
       "    </tr>\n",
       "  </thead>\n",
       "  <tbody>\n",
       "    <tr>\n",
       "      <th>0</th>\n",
       "      <td>log_reg</td>\n",
       "      <td>0.31</td>\n",
       "    </tr>\n",
       "  </tbody>\n",
       "</table>\n",
       "</div>"
      ],
      "text/plain": [
       "     model  recall\n",
       "0  log_reg    0.31"
      ]
     },
     "execution_count": 9428,
     "metadata": {},
     "output_type": "execute_result"
    }
   ],
   "source": [
    "total_score_1 = []\n",
    "total_score_1.append({      'model': 'log_reg',\n",
    "                           'recall': r_s})\n",
    "pd.DataFrame(total_score_1)"
   ]
  },
  {
   "cell_type": "markdown",
   "id": "ef8dd1e5",
   "metadata": {},
   "source": [
    "**RFC**"
   ]
  },
  {
   "cell_type": "code",
   "execution_count": 9429,
   "id": "6447f838",
   "metadata": {},
   "outputs": [],
   "source": [
    "clf = RandomForestClassifier(random_state=12345)\n"
   ]
  },
  {
   "cell_type": "code",
   "execution_count": 9430,
   "id": "a9aefc73",
   "metadata": {},
   "outputs": [],
   "source": [
    "parametrs = { 'max_depth': [6, 12, 15, 20],\n",
    "              'n_estimators': [10, 20, 50, 100],\n",
    "            'min_samples_leaf': [10, 20, 30]}"
   ]
  },
  {
   "cell_type": "code",
   "execution_count": 9431,
   "id": "6e40aeed",
   "metadata": {},
   "outputs": [
    {
     "name": "stdout",
     "output_type": "stream",
     "text": [
      "CPU times: total: 12.8 s\n",
      "Wall time: 12.8 s\n"
     ]
    },
    {
     "data": {
      "text/plain": [
       "{'max_depth': 6, 'min_samples_leaf': 10, 'n_estimators': 20}"
      ]
     },
     "execution_count": 9431,
     "metadata": {},
     "output_type": "execute_result"
    }
   ],
   "source": [
    "%%time\n",
    "clf = GridSearchCV(clf, parametrs, cv=5)\n",
    "clf.fit(X_train, y_train)\n",
    "clf.best_params_"
   ]
  },
  {
   "cell_type": "code",
   "execution_count": 9432,
   "id": "92ef15a1",
   "metadata": {},
   "outputs": [],
   "source": [
    "pred_train = clf.predict(X_train)\n",
    "pred_test = clf.predict(X_test)"
   ]
  },
  {
   "cell_type": "code",
   "execution_count": 9433,
   "id": "9d8c2d5d",
   "metadata": {
    "scrolled": true
   },
   "outputs": [
    {
     "data": {
      "text/plain": [
       "0.3438912438912439"
      ]
     },
     "execution_count": 9433,
     "metadata": {},
     "output_type": "execute_result"
    }
   ],
   "source": [
    "f1_score(y_train, pred_train, average='macro', zero_division = 0)"
   ]
  },
  {
   "cell_type": "code",
   "execution_count": 9434,
   "id": "4d4562b6",
   "metadata": {
    "scrolled": true
   },
   "outputs": [
    {
     "data": {
      "text/plain": [
       "0.27666666666666667"
      ]
     },
     "execution_count": 9434,
     "metadata": {},
     "output_type": "execute_result"
    }
   ],
   "source": [
    "f1_score(y_test, pred_test, average='macro', zero_division = 0)"
   ]
  },
  {
   "cell_type": "code",
   "execution_count": 9435,
   "id": "f048d8d6",
   "metadata": {},
   "outputs": [
    {
     "data": {
      "text/plain": [
       "0.2908653846153846"
      ]
     },
     "execution_count": 9435,
     "metadata": {},
     "output_type": "execute_result"
    }
   ],
   "source": [
    "r_s = recall_score(y_test, pred_test, average = 'macro', zero_division = 0)\n",
    "r_s"
   ]
  },
  {
   "cell_type": "code",
   "execution_count": 9436,
   "id": "72f849d5",
   "metadata": {
    "scrolled": false
   },
   "outputs": [
    {
     "name": "stdout",
     "output_type": "stream",
     "text": [
      "              precision    recall  f1-score   support\n",
      "\n",
      "         3.0       0.00      0.00      0.00         9\n",
      "         4.0       0.65      0.91      0.76       104\n",
      "         5.0       0.57      0.25      0.35        52\n",
      "         6.0       0.00      0.00      0.00         4\n",
      "\n",
      "    accuracy                           0.64       169\n",
      "   macro avg       0.30      0.29      0.28       169\n",
      "weighted avg       0.57      0.64      0.57       169\n",
      "\n"
     ]
    }
   ],
   "source": [
    "print(classification_report(y_test, pred_test))"
   ]
  },
  {
   "cell_type": "code",
   "execution_count": 9437,
   "id": "845a72ad",
   "metadata": {},
   "outputs": [
    {
     "data": {
      "text/html": [
       "<div>\n",
       "<style scoped>\n",
       "    .dataframe tbody tr th:only-of-type {\n",
       "        vertical-align: middle;\n",
       "    }\n",
       "\n",
       "    .dataframe tbody tr th {\n",
       "        vertical-align: top;\n",
       "    }\n",
       "\n",
       "    .dataframe thead th {\n",
       "        text-align: right;\n",
       "    }\n",
       "</style>\n",
       "<table border=\"1\" class=\"dataframe\">\n",
       "  <thead>\n",
       "    <tr style=\"text-align: right;\">\n",
       "      <th></th>\n",
       "      <th>model</th>\n",
       "      <th>recall</th>\n",
       "    </tr>\n",
       "  </thead>\n",
       "  <tbody>\n",
       "    <tr>\n",
       "      <th>0</th>\n",
       "      <td>log_reg</td>\n",
       "      <td>0.31</td>\n",
       "    </tr>\n",
       "    <tr>\n",
       "      <th>1</th>\n",
       "      <td>RFC</td>\n",
       "      <td>0.29</td>\n",
       "    </tr>\n",
       "  </tbody>\n",
       "</table>\n",
       "</div>"
      ],
      "text/plain": [
       "     model  recall\n",
       "0  log_reg    0.31\n",
       "1      RFC    0.29"
      ]
     },
     "execution_count": 9437,
     "metadata": {},
     "output_type": "execute_result"
    }
   ],
   "source": [
    "total_score_1.append({\n",
    "                           'model': 'RFC',\n",
    "                           'recall': r_s})\n",
    "pd.DataFrame(total_score_1)"
   ]
  },
  {
   "cell_type": "markdown",
   "id": "f353bde9",
   "metadata": {},
   "source": [
    "**LGBM**"
   ]
  },
  {
   "cell_type": "code",
   "execution_count": 9438,
   "id": "9b0d855e",
   "metadata": {},
   "outputs": [],
   "source": [
    "lgbm = LGBMClassifier()"
   ]
  },
  {
   "cell_type": "code",
   "execution_count": 9439,
   "id": "128b45b9",
   "metadata": {},
   "outputs": [],
   "source": [
    "parameters_lgbm = {'max_depth': [3, 6, 12],\n",
    "                  'learning_rate':[0.001, 0.003, 0.005, 0.01]}"
   ]
  },
  {
   "cell_type": "code",
   "execution_count": 9440,
   "id": "fdff6c8f",
   "metadata": {},
   "outputs": [],
   "source": [
    "lgbm = GridSearchCV(lgbm, parameters_lgbm)"
   ]
  },
  {
   "cell_type": "code",
   "execution_count": 9441,
   "id": "407225f0",
   "metadata": {},
   "outputs": [
    {
     "name": "stdout",
     "output_type": "stream",
     "text": [
      "CPU times: total: 26.1 s\n",
      "Wall time: 3.37 s\n"
     ]
    },
    {
     "data": {
      "text/plain": [
       "GridSearchCV(estimator=LGBMClassifier(),\n",
       "             param_grid={'learning_rate': [0.001, 0.003, 0.005, 0.01],\n",
       "                         'max_depth': [3, 6, 12]})"
      ]
     },
     "execution_count": 9441,
     "metadata": {},
     "output_type": "execute_result"
    }
   ],
   "source": [
    "%%time\n",
    "lgbm.fit(X_train, y_train)"
   ]
  },
  {
   "cell_type": "code",
   "execution_count": 9442,
   "id": "89fc47c2",
   "metadata": {},
   "outputs": [
    {
     "data": {
      "text/plain": [
       "{'learning_rate': 0.005, 'max_depth': 3}"
      ]
     },
     "execution_count": 9442,
     "metadata": {},
     "output_type": "execute_result"
    }
   ],
   "source": [
    "lgbm.best_params_"
   ]
  },
  {
   "cell_type": "code",
   "execution_count": 9443,
   "id": "7309b146",
   "metadata": {},
   "outputs": [],
   "source": [
    "pred_train = lgbm.predict(X_train)\n",
    "pred_test = lgbm.predict(X_test)"
   ]
  },
  {
   "cell_type": "code",
   "execution_count": 9444,
   "id": "e716ce09",
   "metadata": {
    "scrolled": true
   },
   "outputs": [
    {
     "data": {
      "text/plain": [
       "0.2540306915306915"
      ]
     },
     "execution_count": 9444,
     "metadata": {},
     "output_type": "execute_result"
    }
   ],
   "source": [
    "f1_score(y_train, pred_train, average='macro', zero_division = 0)"
   ]
  },
  {
   "cell_type": "code",
   "execution_count": 9445,
   "id": "907bc6b6",
   "metadata": {
    "scrolled": false
   },
   "outputs": [
    {
     "data": {
      "text/plain": [
       "0.21687330492057344"
      ]
     },
     "execution_count": 9445,
     "metadata": {},
     "output_type": "execute_result"
    }
   ],
   "source": [
    "f1_score(y_test, pred_test, average='macro', zero_division = 0)"
   ]
  },
  {
   "cell_type": "code",
   "execution_count": 9446,
   "id": "e081ebc4",
   "metadata": {},
   "outputs": [
    {
     "data": {
      "text/plain": [
       "0.2596153846153846"
      ]
     },
     "execution_count": 9446,
     "metadata": {},
     "output_type": "execute_result"
    }
   ],
   "source": [
    "r_s = recall_score(y_test, pred_test, average = 'macro', zero_division = 0)\n",
    "r_s"
   ]
  },
  {
   "cell_type": "code",
   "execution_count": 9447,
   "id": "0ce67c6b",
   "metadata": {
    "scrolled": false
   },
   "outputs": [
    {
     "name": "stdout",
     "output_type": "stream",
     "text": [
      "              precision    recall  f1-score   support\n",
      "\n",
      "         3.0       0.00      0.00      0.00         9\n",
      "         4.0       0.63      0.98      0.76       104\n",
      "         5.0       0.50      0.06      0.10        52\n",
      "         6.0       0.00      0.00      0.00         4\n",
      "\n",
      "    accuracy                           0.62       169\n",
      "   macro avg       0.28      0.26      0.22       169\n",
      "weighted avg       0.54      0.62      0.50       169\n",
      "\n"
     ]
    }
   ],
   "source": [
    "print(classification_report(y_test, pred_test))"
   ]
  },
  {
   "cell_type": "code",
   "execution_count": 9448,
   "id": "25fc77c8",
   "metadata": {
    "scrolled": true
   },
   "outputs": [
    {
     "data": {
      "text/html": [
       "<div>\n",
       "<style scoped>\n",
       "    .dataframe tbody tr th:only-of-type {\n",
       "        vertical-align: middle;\n",
       "    }\n",
       "\n",
       "    .dataframe tbody tr th {\n",
       "        vertical-align: top;\n",
       "    }\n",
       "\n",
       "    .dataframe thead th {\n",
       "        text-align: right;\n",
       "    }\n",
       "</style>\n",
       "<table border=\"1\" class=\"dataframe\">\n",
       "  <thead>\n",
       "    <tr style=\"text-align: right;\">\n",
       "      <th></th>\n",
       "      <th>model</th>\n",
       "      <th>recall</th>\n",
       "    </tr>\n",
       "  </thead>\n",
       "  <tbody>\n",
       "    <tr>\n",
       "      <th>0</th>\n",
       "      <td>log_reg</td>\n",
       "      <td>0.31</td>\n",
       "    </tr>\n",
       "    <tr>\n",
       "      <th>1</th>\n",
       "      <td>RFC</td>\n",
       "      <td>0.29</td>\n",
       "    </tr>\n",
       "    <tr>\n",
       "      <th>2</th>\n",
       "      <td>LGBM</td>\n",
       "      <td>0.26</td>\n",
       "    </tr>\n",
       "  </tbody>\n",
       "</table>\n",
       "</div>"
      ],
      "text/plain": [
       "     model  recall\n",
       "0  log_reg    0.31\n",
       "1      RFC    0.29\n",
       "2     LGBM    0.26"
      ]
     },
     "execution_count": 9448,
     "metadata": {},
     "output_type": "execute_result"
    }
   ],
   "source": [
    "total_score_1.append({\n",
    "                           'model': 'LGBM',\n",
    "                           'recall': r_s})\n",
    "pd.DataFrame(total_score_1)"
   ]
  },
  {
   "cell_type": "code",
   "execution_count": 9449,
   "id": "7ab9819f",
   "metadata": {},
   "outputs": [],
   "source": [
    "X_train = df_7.drop(col_drop, axis=1) \n",
    "y_train = df_7['Analytical thinking']\n",
    "model.fit(X_train, y_train)\n",
    "model_1 = model"
   ]
  },
  {
   "cell_type": "markdown",
   "id": "9deb7b12",
   "metadata": {},
   "source": [
    "## 'Systemic thinking' (в трейне: ОНЕ-решений, баллы и рейтинги)"
   ]
  },
  {
   "cell_type": "code",
   "execution_count": 9450,
   "id": "889d023b",
   "metadata": {},
   "outputs": [
    {
     "data": {
      "text/html": [
       "<div>\n",
       "<style scoped>\n",
       "    .dataframe tbody tr th:only-of-type {\n",
       "        vertical-align: middle;\n",
       "    }\n",
       "\n",
       "    .dataframe tbody tr th {\n",
       "        vertical-align: top;\n",
       "    }\n",
       "\n",
       "    .dataframe thead th {\n",
       "        text-align: right;\n",
       "    }\n",
       "</style>\n",
       "<table border=\"1\" class=\"dataframe\">\n",
       "  <thead>\n",
       "    <tr style=\"text-align: right;\">\n",
       "      <th></th>\n",
       "      <th>Analytical thinking</th>\n",
       "      <th>Systemic thinking</th>\n",
       "      <th>Adaptability</th>\n",
       "      <th>Focus</th>\n",
       "      <th>game_id</th>\n",
       "      <th>total_score</th>\n",
       "      <th>cat_1</th>\n",
       "      <th>cat_2</th>\n",
       "      <th>cat_3</th>\n",
       "      <th>cat_4</th>\n",
       "      <th>cat_5</th>\n",
       "      <th>cat_6</th>\n",
       "      <th>score_rating</th>\n",
       "      <th>rating_1</th>\n",
       "      <th>rating_2</th>\n",
       "      <th>rating_3</th>\n",
       "      <th>rating_4</th>\n",
       "      <th>rating_5</th>\n",
       "      <th>rating_6</th>\n",
       "    </tr>\n",
       "    <tr>\n",
       "      <th>id</th>\n",
       "      <th></th>\n",
       "      <th></th>\n",
       "      <th></th>\n",
       "      <th></th>\n",
       "      <th></th>\n",
       "      <th></th>\n",
       "      <th></th>\n",
       "      <th></th>\n",
       "      <th></th>\n",
       "      <th></th>\n",
       "      <th></th>\n",
       "      <th></th>\n",
       "      <th></th>\n",
       "      <th></th>\n",
       "      <th></th>\n",
       "      <th></th>\n",
       "      <th></th>\n",
       "      <th></th>\n",
       "      <th></th>\n",
       "    </tr>\n",
       "  </thead>\n",
       "  <tbody>\n",
       "    <tr>\n",
       "      <th>10884</th>\n",
       "      <td>4.00</td>\n",
       "      <td>4.00</td>\n",
       "      <td>4.00</td>\n",
       "      <td>4.00</td>\n",
       "      <td>202</td>\n",
       "      <td>872</td>\n",
       "      <td>-9.00</td>\n",
       "      <td>-41.00</td>\n",
       "      <td>288.00</td>\n",
       "      <td>101.00</td>\n",
       "      <td>97.00</td>\n",
       "      <td>436.00</td>\n",
       "      <td>0.48</td>\n",
       "      <td>-0.08</td>\n",
       "      <td>-0.23</td>\n",
       "      <td>0.71</td>\n",
       "      <td>0.70</td>\n",
       "      <td>1.00</td>\n",
       "      <td>0.48</td>\n",
       "    </tr>\n",
       "    <tr>\n",
       "      <th>10106</th>\n",
       "      <td>5.00</td>\n",
       "      <td>4.00</td>\n",
       "      <td>5.00</td>\n",
       "      <td>5.00</td>\n",
       "      <td>211</td>\n",
       "      <td>1512</td>\n",
       "      <td>50.00</td>\n",
       "      <td>104.00</td>\n",
       "      <td>364.00</td>\n",
       "      <td>133.00</td>\n",
       "      <td>105.00</td>\n",
       "      <td>756.00</td>\n",
       "      <td>1.00</td>\n",
       "      <td>1.00</td>\n",
       "      <td>0.88</td>\n",
       "      <td>0.98</td>\n",
       "      <td>0.88</td>\n",
       "      <td>1.00</td>\n",
       "      <td>1.00</td>\n",
       "    </tr>\n",
       "    <tr>\n",
       "      <th>10438</th>\n",
       "      <td>6.00</td>\n",
       "      <td>5.00</td>\n",
       "      <td>5.00</td>\n",
       "      <td>5.00</td>\n",
       "      <td>242</td>\n",
       "      <td>1288</td>\n",
       "      <td>51.00</td>\n",
       "      <td>44.00</td>\n",
       "      <td>280.00</td>\n",
       "      <td>131.00</td>\n",
       "      <td>138.00</td>\n",
       "      <td>644.00</td>\n",
       "      <td>1.00</td>\n",
       "      <td>1.00</td>\n",
       "      <td>0.62</td>\n",
       "      <td>0.98</td>\n",
       "      <td>1.00</td>\n",
       "      <td>0.80</td>\n",
       "      <td>1.00</td>\n",
       "    </tr>\n",
       "    <tr>\n",
       "      <th>10130</th>\n",
       "      <td>5.00</td>\n",
       "      <td>4.00</td>\n",
       "      <td>5.00</td>\n",
       "      <td>5.00</td>\n",
       "      <td>184</td>\n",
       "      <td>1018</td>\n",
       "      <td>27.00</td>\n",
       "      <td>8.00</td>\n",
       "      <td>263.00</td>\n",
       "      <td>112.00</td>\n",
       "      <td>99.00</td>\n",
       "      <td>509.00</td>\n",
       "      <td>0.56</td>\n",
       "      <td>0.28</td>\n",
       "      <td>0.04</td>\n",
       "      <td>0.64</td>\n",
       "      <td>0.65</td>\n",
       "      <td>1.00</td>\n",
       "      <td>0.56</td>\n",
       "    </tr>\n",
       "    <tr>\n",
       "      <th>10667</th>\n",
       "      <td>4.00</td>\n",
       "      <td>5.00</td>\n",
       "      <td>5.00</td>\n",
       "      <td>5.00</td>\n",
       "      <td>193</td>\n",
       "      <td>1440</td>\n",
       "      <td>67.00</td>\n",
       "      <td>54.00</td>\n",
       "      <td>313.00</td>\n",
       "      <td>139.00</td>\n",
       "      <td>147.00</td>\n",
       "      <td>720.00</td>\n",
       "      <td>0.67</td>\n",
       "      <td>0.40</td>\n",
       "      <td>0.22</td>\n",
       "      <td>0.96</td>\n",
       "      <td>0.77</td>\n",
       "      <td>0.86</td>\n",
       "      <td>0.67</td>\n",
       "    </tr>\n",
       "  </tbody>\n",
       "</table>\n",
       "</div>"
      ],
      "text/plain": [
       "       Analytical thinking  Systemic thinking  Adaptability  Focus  game_id  \\\n",
       "id                                                                            \n",
       "10884                 4.00               4.00          4.00   4.00      202   \n",
       "10106                 5.00               4.00          5.00   5.00      211   \n",
       "10438                 6.00               5.00          5.00   5.00      242   \n",
       "10130                 5.00               4.00          5.00   5.00      184   \n",
       "10667                 4.00               5.00          5.00   5.00      193   \n",
       "\n",
       "       total_score  cat_1  cat_2  cat_3  cat_4  cat_5  cat_6  score_rating  \\\n",
       "id                                                                           \n",
       "10884          872  -9.00 -41.00 288.00 101.00  97.00 436.00          0.48   \n",
       "10106         1512  50.00 104.00 364.00 133.00 105.00 756.00          1.00   \n",
       "10438         1288  51.00  44.00 280.00 131.00 138.00 644.00          1.00   \n",
       "10130         1018  27.00   8.00 263.00 112.00  99.00 509.00          0.56   \n",
       "10667         1440  67.00  54.00 313.00 139.00 147.00 720.00          0.67   \n",
       "\n",
       "       rating_1  rating_2  rating_3  rating_4  rating_5  rating_6  \n",
       "id                                                                 \n",
       "10884     -0.08     -0.23      0.71      0.70      1.00      0.48  \n",
       "10106      1.00      0.88      0.98      0.88      1.00      1.00  \n",
       "10438      1.00      0.62      0.98      1.00      0.80      1.00  \n",
       "10130      0.28      0.04      0.64      0.65      1.00      0.56  \n",
       "10667      0.40      0.22      0.96      0.77      0.86      0.67  "
      ]
     },
     "execution_count": 9450,
     "metadata": {},
     "output_type": "execute_result"
    }
   ],
   "source": [
    "df_score.head()"
   ]
  },
  {
   "cell_type": "code",
   "execution_count": 9451,
   "id": "6e103772",
   "metadata": {
    "scrolled": false
   },
   "outputs": [
    {
     "data": {
      "text/html": [
       "<div>\n",
       "<style scoped>\n",
       "    .dataframe tbody tr th:only-of-type {\n",
       "        vertical-align: middle;\n",
       "    }\n",
       "\n",
       "    .dataframe tbody tr th {\n",
       "        vertical-align: top;\n",
       "    }\n",
       "\n",
       "    .dataframe thead th {\n",
       "        text-align: right;\n",
       "    }\n",
       "</style>\n",
       "<table border=\"1\" class=\"dataframe\">\n",
       "  <thead>\n",
       "    <tr style=\"text-align: right;\">\n",
       "      <th></th>\n",
       "      <th>Analytical thinking</th>\n",
       "      <th>Systemic thinking</th>\n",
       "      <th>Adaptability</th>\n",
       "      <th>Focus</th>\n",
       "      <th>1</th>\n",
       "      <th>2</th>\n",
       "      <th>3</th>\n",
       "      <th>4</th>\n",
       "      <th>5</th>\n",
       "      <th>6</th>\n",
       "      <th>...</th>\n",
       "      <th>430</th>\n",
       "      <th>431</th>\n",
       "      <th>432</th>\n",
       "      <th>433</th>\n",
       "      <th>434</th>\n",
       "      <th>435</th>\n",
       "      <th>436</th>\n",
       "      <th>437</th>\n",
       "      <th>438</th>\n",
       "      <th>total</th>\n",
       "    </tr>\n",
       "    <tr>\n",
       "      <th>index</th>\n",
       "      <th></th>\n",
       "      <th></th>\n",
       "      <th></th>\n",
       "      <th></th>\n",
       "      <th></th>\n",
       "      <th></th>\n",
       "      <th></th>\n",
       "      <th></th>\n",
       "      <th></th>\n",
       "      <th></th>\n",
       "      <th></th>\n",
       "      <th></th>\n",
       "      <th></th>\n",
       "      <th></th>\n",
       "      <th></th>\n",
       "      <th></th>\n",
       "      <th></th>\n",
       "      <th></th>\n",
       "      <th></th>\n",
       "      <th></th>\n",
       "      <th></th>\n",
       "    </tr>\n",
       "  </thead>\n",
       "  <tbody>\n",
       "    <tr>\n",
       "      <th>10001</th>\n",
       "      <td>4.00</td>\n",
       "      <td>4.00</td>\n",
       "      <td>5.00</td>\n",
       "      <td>4.00</td>\n",
       "      <td>0.00</td>\n",
       "      <td>0.00</td>\n",
       "      <td>0.00</td>\n",
       "      <td>0.00</td>\n",
       "      <td>0.00</td>\n",
       "      <td>0.00</td>\n",
       "      <td>...</td>\n",
       "      <td>0.00</td>\n",
       "      <td>0.00</td>\n",
       "      <td>0.00</td>\n",
       "      <td>0.00</td>\n",
       "      <td>0.00</td>\n",
       "      <td>0.00</td>\n",
       "      <td>0.00</td>\n",
       "      <td>0.00</td>\n",
       "      <td>0</td>\n",
       "      <td>0.00</td>\n",
       "    </tr>\n",
       "  </tbody>\n",
       "</table>\n",
       "<p>1 rows × 443 columns</p>\n",
       "</div>"
      ],
      "text/plain": [
       "       Analytical thinking  Systemic thinking  Adaptability  Focus    1    2  \\\n",
       "index                                                                          \n",
       "10001                 4.00               4.00          5.00   4.00 0.00 0.00   \n",
       "\n",
       "         3    4    5    6  ...  430  431  432  433  434  435  436  437  438  \\\n",
       "index                      ...                                                \n",
       "10001 0.00 0.00 0.00 0.00  ... 0.00 0.00 0.00 0.00 0.00 0.00 0.00 0.00    0   \n",
       "\n",
       "       total  \n",
       "index         \n",
       "10001   0.00  \n",
       "\n",
       "[1 rows x 443 columns]"
      ]
     },
     "execution_count": 9451,
     "metadata": {},
     "output_type": "execute_result"
    }
   ],
   "source": [
    "df_2.head(1)"
   ]
  },
  {
   "cell_type": "code",
   "execution_count": 9452,
   "id": "88ee21dc",
   "metadata": {},
   "outputs": [],
   "source": [
    "col_drop = ['Analytical thinking', 'Systemic thinking', 'Adaptability','Focus']"
   ]
  },
  {
   "cell_type": "code",
   "execution_count": 9453,
   "id": "1410e633",
   "metadata": {},
   "outputs": [],
   "source": [
    "df_7 = df_score.join(df_2.drop(col_drop, axis=1))"
   ]
  },
  {
   "cell_type": "code",
   "execution_count": 9454,
   "id": "29ec4bbd",
   "metadata": {
    "scrolled": true
   },
   "outputs": [
    {
     "data": {
      "text/html": [
       "<div>\n",
       "<style scoped>\n",
       "    .dataframe tbody tr th:only-of-type {\n",
       "        vertical-align: middle;\n",
       "    }\n",
       "\n",
       "    .dataframe tbody tr th {\n",
       "        vertical-align: top;\n",
       "    }\n",
       "\n",
       "    .dataframe thead th {\n",
       "        text-align: right;\n",
       "    }\n",
       "</style>\n",
       "<table border=\"1\" class=\"dataframe\">\n",
       "  <thead>\n",
       "    <tr style=\"text-align: right;\">\n",
       "      <th></th>\n",
       "      <th>Analytical thinking</th>\n",
       "      <th>Systemic thinking</th>\n",
       "      <th>Adaptability</th>\n",
       "      <th>Focus</th>\n",
       "      <th>game_id</th>\n",
       "      <th>total_score</th>\n",
       "      <th>cat_1</th>\n",
       "      <th>cat_2</th>\n",
       "      <th>cat_3</th>\n",
       "      <th>cat_4</th>\n",
       "      <th>...</th>\n",
       "      <th>430</th>\n",
       "      <th>431</th>\n",
       "      <th>432</th>\n",
       "      <th>433</th>\n",
       "      <th>434</th>\n",
       "      <th>435</th>\n",
       "      <th>436</th>\n",
       "      <th>437</th>\n",
       "      <th>438</th>\n",
       "      <th>total</th>\n",
       "    </tr>\n",
       "    <tr>\n",
       "      <th>id</th>\n",
       "      <th></th>\n",
       "      <th></th>\n",
       "      <th></th>\n",
       "      <th></th>\n",
       "      <th></th>\n",
       "      <th></th>\n",
       "      <th></th>\n",
       "      <th></th>\n",
       "      <th></th>\n",
       "      <th></th>\n",
       "      <th></th>\n",
       "      <th></th>\n",
       "      <th></th>\n",
       "      <th></th>\n",
       "      <th></th>\n",
       "      <th></th>\n",
       "      <th></th>\n",
       "      <th></th>\n",
       "      <th></th>\n",
       "      <th></th>\n",
       "      <th></th>\n",
       "    </tr>\n",
       "  </thead>\n",
       "  <tbody>\n",
       "    <tr>\n",
       "      <th>10884</th>\n",
       "      <td>4.00</td>\n",
       "      <td>4.00</td>\n",
       "      <td>4.00</td>\n",
       "      <td>4.00</td>\n",
       "      <td>202</td>\n",
       "      <td>872</td>\n",
       "      <td>-9.00</td>\n",
       "      <td>-41.00</td>\n",
       "      <td>288.00</td>\n",
       "      <td>101.00</td>\n",
       "      <td>...</td>\n",
       "      <td>0.00</td>\n",
       "      <td>0.00</td>\n",
       "      <td>0.00</td>\n",
       "      <td>0.00</td>\n",
       "      <td>0.00</td>\n",
       "      <td>0.00</td>\n",
       "      <td>0.00</td>\n",
       "      <td>0.00</td>\n",
       "      <td>0</td>\n",
       "      <td>0.00</td>\n",
       "    </tr>\n",
       "  </tbody>\n",
       "</table>\n",
       "<p>1 rows × 458 columns</p>\n",
       "</div>"
      ],
      "text/plain": [
       "       Analytical thinking  Systemic thinking  Adaptability  Focus  game_id  \\\n",
       "id                                                                            \n",
       "10884                 4.00               4.00          4.00   4.00      202   \n",
       "\n",
       "       total_score  cat_1  cat_2  cat_3  cat_4  ...  430  431  432  433  434  \\\n",
       "id                                              ...                            \n",
       "10884          872  -9.00 -41.00 288.00 101.00  ... 0.00 0.00 0.00 0.00 0.00   \n",
       "\n",
       "       435  436  437  438  total  \n",
       "id                                \n",
       "10884 0.00 0.00 0.00    0   0.00  \n",
       "\n",
       "[1 rows x 458 columns]"
      ]
     },
     "execution_count": 9454,
     "metadata": {},
     "output_type": "execute_result"
    }
   ],
   "source": [
    "df_7.head(1)"
   ]
  },
  {
   "cell_type": "code",
   "execution_count": 9455,
   "id": "a70234e8",
   "metadata": {},
   "outputs": [],
   "source": [
    "df_7['max_total'] = df_7.groupby('game_id')['total'].transform('max')"
   ]
  },
  {
   "cell_type": "code",
   "execution_count": 9456,
   "id": "03b12929",
   "metadata": {},
   "outputs": [],
   "source": [
    "df_7['rating_user'] = df_7['total'] / df_7['max_total']"
   ]
  },
  {
   "cell_type": "code",
   "execution_count": 9457,
   "id": "cfe9179e",
   "metadata": {},
   "outputs": [
    {
     "data": {
      "text/plain": [
       "(674, 460)"
      ]
     },
     "execution_count": 9457,
     "metadata": {},
     "output_type": "execute_result"
    }
   ],
   "source": [
    "df_7 = df_7[df_7['Analytical thinking']>2]\n",
    "df_7 = df_7[df_7['Systemic thinking']>2]\n",
    "df_7 = df_7[df_7['Adaptability']>2]\n",
    "df_7 = df_7[df_7['Focus']>2]\n",
    "df_7.shape"
   ]
  },
  {
   "cell_type": "code",
   "execution_count": 9458,
   "id": "be220c5e",
   "metadata": {},
   "outputs": [],
   "source": [
    "for i in range(1, 439):\n",
    "    df_7 = df_7.drop(str(i), axis=1)    "
   ]
  },
  {
   "cell_type": "code",
   "execution_count": 9459,
   "id": "923fa518",
   "metadata": {},
   "outputs": [
    {
     "data": {
      "text/html": [
       "<div>\n",
       "<style scoped>\n",
       "    .dataframe tbody tr th:only-of-type {\n",
       "        vertical-align: middle;\n",
       "    }\n",
       "\n",
       "    .dataframe tbody tr th {\n",
       "        vertical-align: top;\n",
       "    }\n",
       "\n",
       "    .dataframe thead th {\n",
       "        text-align: right;\n",
       "    }\n",
       "</style>\n",
       "<table border=\"1\" class=\"dataframe\">\n",
       "  <thead>\n",
       "    <tr style=\"text-align: right;\">\n",
       "      <th></th>\n",
       "      <th>Analytical thinking</th>\n",
       "      <th>Systemic thinking</th>\n",
       "      <th>Adaptability</th>\n",
       "      <th>Focus</th>\n",
       "      <th>game_id</th>\n",
       "      <th>total_score</th>\n",
       "      <th>cat_1</th>\n",
       "      <th>cat_2</th>\n",
       "      <th>cat_3</th>\n",
       "      <th>cat_4</th>\n",
       "      <th>...</th>\n",
       "      <th>score_rating</th>\n",
       "      <th>rating_1</th>\n",
       "      <th>rating_2</th>\n",
       "      <th>rating_3</th>\n",
       "      <th>rating_4</th>\n",
       "      <th>rating_5</th>\n",
       "      <th>rating_6</th>\n",
       "      <th>total</th>\n",
       "      <th>max_total</th>\n",
       "      <th>rating_user</th>\n",
       "    </tr>\n",
       "    <tr>\n",
       "      <th>id</th>\n",
       "      <th></th>\n",
       "      <th></th>\n",
       "      <th></th>\n",
       "      <th></th>\n",
       "      <th></th>\n",
       "      <th></th>\n",
       "      <th></th>\n",
       "      <th></th>\n",
       "      <th></th>\n",
       "      <th></th>\n",
       "      <th></th>\n",
       "      <th></th>\n",
       "      <th></th>\n",
       "      <th></th>\n",
       "      <th></th>\n",
       "      <th></th>\n",
       "      <th></th>\n",
       "      <th></th>\n",
       "      <th></th>\n",
       "      <th></th>\n",
       "      <th></th>\n",
       "    </tr>\n",
       "  </thead>\n",
       "  <tbody>\n",
       "    <tr>\n",
       "      <th>10884</th>\n",
       "      <td>4.00</td>\n",
       "      <td>4.00</td>\n",
       "      <td>4.00</td>\n",
       "      <td>4.00</td>\n",
       "      <td>202</td>\n",
       "      <td>872</td>\n",
       "      <td>-9.00</td>\n",
       "      <td>-41.00</td>\n",
       "      <td>288.00</td>\n",
       "      <td>101.00</td>\n",
       "      <td>...</td>\n",
       "      <td>0.48</td>\n",
       "      <td>-0.08</td>\n",
       "      <td>-0.23</td>\n",
       "      <td>0.71</td>\n",
       "      <td>0.70</td>\n",
       "      <td>1.00</td>\n",
       "      <td>0.48</td>\n",
       "      <td>0.00</td>\n",
       "      <td>0.00</td>\n",
       "      <td>0.39</td>\n",
       "    </tr>\n",
       "  </tbody>\n",
       "</table>\n",
       "<p>1 rows × 22 columns</p>\n",
       "</div>"
      ],
      "text/plain": [
       "       Analytical thinking  Systemic thinking  Adaptability  Focus  game_id  \\\n",
       "id                                                                            \n",
       "10884                 4.00               4.00          4.00   4.00      202   \n",
       "\n",
       "       total_score  cat_1  cat_2  cat_3  cat_4  ...  score_rating  rating_1  \\\n",
       "id                                              ...                           \n",
       "10884          872  -9.00 -41.00 288.00 101.00  ...          0.48     -0.08   \n",
       "\n",
       "       rating_2  rating_3  rating_4  rating_5  rating_6  total  max_total  \\\n",
       "id                                                                          \n",
       "10884     -0.23      0.71      0.70      1.00      0.48   0.00       0.00   \n",
       "\n",
       "       rating_user  \n",
       "id                  \n",
       "10884         0.39  \n",
       "\n",
       "[1 rows x 22 columns]"
      ]
     },
     "execution_count": 9459,
     "metadata": {},
     "output_type": "execute_result"
    }
   ],
   "source": [
    "df_7.head(1)"
   ]
  },
  {
   "cell_type": "code",
   "execution_count": 9460,
   "id": "f48990e6",
   "metadata": {},
   "outputs": [],
   "source": [
    "col_drop = ['Analytical thinking', 'Systemic thinking', 'Adaptability', \n",
    "            'Focus', 'max_total']"
   ]
  },
  {
   "cell_type": "code",
   "execution_count": 9461,
   "id": "186f4298",
   "metadata": {},
   "outputs": [],
   "source": [
    "X_train, X_test, y_train, y_test = train_test_split(\n",
    "    df_7.drop(col_drop, axis=1), df_7['Systemic thinking'], stratify = df_7['Systemic thinking'], test_size=0.25, random_state=12345)"
   ]
  },
  {
   "cell_type": "code",
   "execution_count": 9462,
   "id": "5dd58367",
   "metadata": {
    "scrolled": true
   },
   "outputs": [
    {
     "name": "stdout",
     "output_type": "stream",
     "text": [
      "(505, 17)\n",
      "(505,)\n"
     ]
    }
   ],
   "source": [
    "print(X_train.shape)\n",
    "print(y_train.shape)"
   ]
  },
  {
   "cell_type": "code",
   "execution_count": 9463,
   "id": "4fa8c73c",
   "metadata": {
    "scrolled": false
   },
   "outputs": [
    {
     "data": {
      "text/html": [
       "<div>\n",
       "<style scoped>\n",
       "    .dataframe tbody tr th:only-of-type {\n",
       "        vertical-align: middle;\n",
       "    }\n",
       "\n",
       "    .dataframe tbody tr th {\n",
       "        vertical-align: top;\n",
       "    }\n",
       "\n",
       "    .dataframe thead th {\n",
       "        text-align: right;\n",
       "    }\n",
       "</style>\n",
       "<table border=\"1\" class=\"dataframe\">\n",
       "  <thead>\n",
       "    <tr style=\"text-align: right;\">\n",
       "      <th></th>\n",
       "      <th>game_id</th>\n",
       "      <th>total_score</th>\n",
       "      <th>cat_1</th>\n",
       "      <th>cat_2</th>\n",
       "      <th>cat_3</th>\n",
       "      <th>cat_4</th>\n",
       "      <th>cat_5</th>\n",
       "      <th>cat_6</th>\n",
       "      <th>score_rating</th>\n",
       "      <th>rating_1</th>\n",
       "      <th>rating_2</th>\n",
       "      <th>rating_3</th>\n",
       "      <th>rating_4</th>\n",
       "      <th>rating_5</th>\n",
       "      <th>rating_6</th>\n",
       "      <th>total</th>\n",
       "      <th>rating_user</th>\n",
       "    </tr>\n",
       "    <tr>\n",
       "      <th>id</th>\n",
       "      <th></th>\n",
       "      <th></th>\n",
       "      <th></th>\n",
       "      <th></th>\n",
       "      <th></th>\n",
       "      <th></th>\n",
       "      <th></th>\n",
       "      <th></th>\n",
       "      <th></th>\n",
       "      <th></th>\n",
       "      <th></th>\n",
       "      <th></th>\n",
       "      <th></th>\n",
       "      <th></th>\n",
       "      <th></th>\n",
       "      <th></th>\n",
       "      <th></th>\n",
       "    </tr>\n",
       "  </thead>\n",
       "  <tbody>\n",
       "    <tr>\n",
       "      <th>10561</th>\n",
       "      <td>247</td>\n",
       "      <td>688</td>\n",
       "      <td>-25.00</td>\n",
       "      <td>-30.00</td>\n",
       "      <td>209.00</td>\n",
       "      <td>85.00</td>\n",
       "      <td>105.00</td>\n",
       "      <td>344.00</td>\n",
       "      <td>0.29</td>\n",
       "      <td>-0.14</td>\n",
       "      <td>-0.11</td>\n",
       "      <td>0.49</td>\n",
       "      <td>0.41</td>\n",
       "      <td>0.92</td>\n",
       "      <td>0.29</td>\n",
       "      <td>0.00</td>\n",
       "      <td>0.04</td>\n",
       "    </tr>\n",
       "    <tr>\n",
       "      <th>10222</th>\n",
       "      <td>235</td>\n",
       "      <td>1182</td>\n",
       "      <td>21.00</td>\n",
       "      <td>64.00</td>\n",
       "      <td>337.00</td>\n",
       "      <td>112.00</td>\n",
       "      <td>57.00</td>\n",
       "      <td>591.00</td>\n",
       "      <td>0.84</td>\n",
       "      <td>0.57</td>\n",
       "      <td>0.56</td>\n",
       "      <td>0.84</td>\n",
       "      <td>0.88</td>\n",
       "      <td>0.59</td>\n",
       "      <td>0.84</td>\n",
       "      <td>0.00</td>\n",
       "      <td>0.25</td>\n",
       "    </tr>\n",
       "    <tr>\n",
       "      <th>10234</th>\n",
       "      <td>234</td>\n",
       "      <td>1324</td>\n",
       "      <td>44.00</td>\n",
       "      <td>103.00</td>\n",
       "      <td>264.00</td>\n",
       "      <td>117.00</td>\n",
       "      <td>134.00</td>\n",
       "      <td>662.00</td>\n",
       "      <td>0.91</td>\n",
       "      <td>0.81</td>\n",
       "      <td>0.70</td>\n",
       "      <td>0.92</td>\n",
       "      <td>0.96</td>\n",
       "      <td>0.84</td>\n",
       "      <td>0.91</td>\n",
       "      <td>0.00</td>\n",
       "      <td>0.02</td>\n",
       "    </tr>\n",
       "    <tr>\n",
       "      <th>10182</th>\n",
       "      <td>239</td>\n",
       "      <td>1342</td>\n",
       "      <td>30.00</td>\n",
       "      <td>113.00</td>\n",
       "      <td>254.00</td>\n",
       "      <td>126.00</td>\n",
       "      <td>148.00</td>\n",
       "      <td>671.00</td>\n",
       "      <td>1.00</td>\n",
       "      <td>0.77</td>\n",
       "      <td>1.00</td>\n",
       "      <td>0.82</td>\n",
       "      <td>1.00</td>\n",
       "      <td>1.00</td>\n",
       "      <td>1.00</td>\n",
       "      <td>0.00</td>\n",
       "      <td>0.03</td>\n",
       "    </tr>\n",
       "    <tr>\n",
       "      <th>10699</th>\n",
       "      <td>184</td>\n",
       "      <td>1550</td>\n",
       "      <td>54.00</td>\n",
       "      <td>141.00</td>\n",
       "      <td>310.00</td>\n",
       "      <td>173.00</td>\n",
       "      <td>97.00</td>\n",
       "      <td>775.00</td>\n",
       "      <td>0.85</td>\n",
       "      <td>0.55</td>\n",
       "      <td>0.77</td>\n",
       "      <td>0.76</td>\n",
       "      <td>1.00</td>\n",
       "      <td>0.98</td>\n",
       "      <td>0.85</td>\n",
       "      <td>0.00</td>\n",
       "      <td>0.68</td>\n",
       "    </tr>\n",
       "  </tbody>\n",
       "</table>\n",
       "</div>"
      ],
      "text/plain": [
       "       game_id  total_score  cat_1  cat_2  cat_3  cat_4  cat_5  cat_6  \\\n",
       "id                                                                      \n",
       "10561      247          688 -25.00 -30.00 209.00  85.00 105.00 344.00   \n",
       "10222      235         1182  21.00  64.00 337.00 112.00  57.00 591.00   \n",
       "10234      234         1324  44.00 103.00 264.00 117.00 134.00 662.00   \n",
       "10182      239         1342  30.00 113.00 254.00 126.00 148.00 671.00   \n",
       "10699      184         1550  54.00 141.00 310.00 173.00  97.00 775.00   \n",
       "\n",
       "       score_rating  rating_1  rating_2  rating_3  rating_4  rating_5  \\\n",
       "id                                                                      \n",
       "10561          0.29     -0.14     -0.11      0.49      0.41      0.92   \n",
       "10222          0.84      0.57      0.56      0.84      0.88      0.59   \n",
       "10234          0.91      0.81      0.70      0.92      0.96      0.84   \n",
       "10182          1.00      0.77      1.00      0.82      1.00      1.00   \n",
       "10699          0.85      0.55      0.77      0.76      1.00      0.98   \n",
       "\n",
       "       rating_6  total  rating_user  \n",
       "id                                   \n",
       "10561      0.29   0.00         0.04  \n",
       "10222      0.84   0.00         0.25  \n",
       "10234      0.91   0.00         0.02  \n",
       "10182      1.00   0.00         0.03  \n",
       "10699      0.85   0.00         0.68  "
      ]
     },
     "execution_count": 9463,
     "metadata": {},
     "output_type": "execute_result"
    }
   ],
   "source": [
    "X_train.head()"
   ]
  },
  {
   "cell_type": "code",
   "execution_count": 9464,
   "id": "a13c69a4",
   "metadata": {},
   "outputs": [],
   "source": [
    "scaler_2 = StandardScaler()\n",
    "scaler_2.fit(X_train)\n",
    "X_train = scaler_2.transform(X_train)\n",
    "X_test = scaler_2.transform(X_test)"
   ]
  },
  {
   "cell_type": "markdown",
   "id": "58916598",
   "metadata": {},
   "source": [
    "**LogReg**"
   ]
  },
  {
   "cell_type": "code",
   "execution_count": 9465,
   "id": "670d9f5e",
   "metadata": {
    "scrolled": true
   },
   "outputs": [],
   "source": [
    "model = LogisticRegression()"
   ]
  },
  {
   "cell_type": "code",
   "execution_count": 9466,
   "id": "69184f00",
   "metadata": {},
   "outputs": [],
   "source": [
    "parametrs = { 'penalty': ['l1', 'l2', 'elasticnet'],\n",
    "              'fit_intercept': [True, False] }"
   ]
  },
  {
   "cell_type": "code",
   "execution_count": 9467,
   "id": "98264ea1",
   "metadata": {},
   "outputs": [
    {
     "name": "stdout",
     "output_type": "stream",
     "text": [
      "CPU times: total: 266 ms\n",
      "Wall time: 258 ms\n"
     ]
    },
    {
     "data": {
      "text/plain": [
       "{'fit_intercept': True, 'penalty': 'l2'}"
      ]
     },
     "execution_count": 9467,
     "metadata": {},
     "output_type": "execute_result"
    }
   ],
   "source": [
    "%%time\n",
    "model = GridSearchCV(model, parametrs, cv=5)\n",
    "model.fit(X_train, y_train)\n",
    "model.best_params_"
   ]
  },
  {
   "cell_type": "code",
   "execution_count": 9468,
   "id": "efca8e19",
   "metadata": {},
   "outputs": [],
   "source": [
    "pred_train = model.predict(X_train)\n",
    "pred_test = model.predict(X_test)"
   ]
  },
  {
   "cell_type": "code",
   "execution_count": 9469,
   "id": "3e3b5727",
   "metadata": {
    "scrolled": true
   },
   "outputs": [
    {
     "data": {
      "text/plain": [
       "0.2498941083237689"
      ]
     },
     "execution_count": 9469,
     "metadata": {},
     "output_type": "execute_result"
    }
   ],
   "source": [
    "f1_score(y_train, pred_train, average='macro', zero_division = 0)"
   ]
  },
  {
   "cell_type": "code",
   "execution_count": 9470,
   "id": "cdcde558",
   "metadata": {},
   "outputs": [
    {
     "data": {
      "text/plain": [
       "array([0.74257426, 0.63366337, 0.72277228, 0.68316832, 0.71287129])"
      ]
     },
     "execution_count": 9470,
     "metadata": {},
     "output_type": "execute_result"
    }
   ],
   "source": [
    "scores = cross_val_score(model, X_train, y_train, cv=5)\n",
    "scores"
   ]
  },
  {
   "cell_type": "code",
   "execution_count": 9471,
   "id": "f0a87868",
   "metadata": {
    "scrolled": false
   },
   "outputs": [
    {
     "data": {
      "text/plain": [
       "0.26809910956252414"
      ]
     },
     "execution_count": 9471,
     "metadata": {},
     "output_type": "execute_result"
    }
   ],
   "source": [
    "f1_score(y_test, pred_test, average='macro', zero_division = 0)"
   ]
  },
  {
   "cell_type": "code",
   "execution_count": 9472,
   "id": "3450999a",
   "metadata": {},
   "outputs": [
    {
     "data": {
      "text/plain": [
       "0.28022554419092577"
      ]
     },
     "execution_count": 9472,
     "metadata": {},
     "output_type": "execute_result"
    }
   ],
   "source": [
    "r_s = recall_score(y_test, pred_test, average = 'macro', zero_division = 0)\n",
    "r_s"
   ]
  },
  {
   "cell_type": "code",
   "execution_count": 9473,
   "id": "7c7a98e2",
   "metadata": {
    "scrolled": false
   },
   "outputs": [
    {
     "name": "stdout",
     "output_type": "stream",
     "text": [
      "              precision    recall  f1-score   support\n",
      "\n",
      "         3.0       0.00      0.00      0.00        13\n",
      "         4.0       0.74      0.99      0.85       123\n",
      "         5.0       0.80      0.13      0.22        31\n",
      "         6.0       0.00      0.00      0.00         2\n",
      "\n",
      "    accuracy                           0.75       169\n",
      "   macro avg       0.39      0.28      0.27       169\n",
      "weighted avg       0.69      0.75      0.66       169\n",
      "\n"
     ]
    }
   ],
   "source": [
    "print(classification_report(y_test, pred_test))"
   ]
  },
  {
   "cell_type": "code",
   "execution_count": 9474,
   "id": "513e3da0",
   "metadata": {},
   "outputs": [
    {
     "data": {
      "text/html": [
       "<div>\n",
       "<style scoped>\n",
       "    .dataframe tbody tr th:only-of-type {\n",
       "        vertical-align: middle;\n",
       "    }\n",
       "\n",
       "    .dataframe tbody tr th {\n",
       "        vertical-align: top;\n",
       "    }\n",
       "\n",
       "    .dataframe thead th {\n",
       "        text-align: right;\n",
       "    }\n",
       "</style>\n",
       "<table border=\"1\" class=\"dataframe\">\n",
       "  <thead>\n",
       "    <tr style=\"text-align: right;\">\n",
       "      <th></th>\n",
       "      <th>model</th>\n",
       "      <th>recall</th>\n",
       "    </tr>\n",
       "  </thead>\n",
       "  <tbody>\n",
       "    <tr>\n",
       "      <th>0</th>\n",
       "      <td>log_reg</td>\n",
       "      <td>0.28</td>\n",
       "    </tr>\n",
       "  </tbody>\n",
       "</table>\n",
       "</div>"
      ],
      "text/plain": [
       "     model  recall\n",
       "0  log_reg    0.28"
      ]
     },
     "execution_count": 9474,
     "metadata": {},
     "output_type": "execute_result"
    }
   ],
   "source": [
    "total_score_2 = []\n",
    "total_score_2.append({      'model': 'log_reg',\n",
    "                           'recall': r_s})\n",
    "pd.DataFrame(total_score_2)"
   ]
  },
  {
   "cell_type": "markdown",
   "id": "2cb93954",
   "metadata": {},
   "source": [
    "**RFC**"
   ]
  },
  {
   "cell_type": "code",
   "execution_count": 9475,
   "id": "bb9e29c7",
   "metadata": {},
   "outputs": [],
   "source": [
    "clf = RandomForestClassifier(random_state=12345)\n"
   ]
  },
  {
   "cell_type": "code",
   "execution_count": 9476,
   "id": "b85ba48e",
   "metadata": {},
   "outputs": [],
   "source": [
    "parametrs = { 'max_depth': [3, 6, 12, 15, 20],\n",
    "              'n_estimators': [10, 20, 50, 100],\n",
    "            'min_samples_leaf': [3, 5, 10, 20, 30]}"
   ]
  },
  {
   "cell_type": "code",
   "execution_count": 9477,
   "id": "708ad0f2",
   "metadata": {},
   "outputs": [
    {
     "name": "stdout",
     "output_type": "stream",
     "text": [
      "CPU times: total: 26.9 s\n",
      "Wall time: 26.9 s\n"
     ]
    },
    {
     "data": {
      "text/plain": [
       "{'max_depth': 12, 'min_samples_leaf': 10, 'n_estimators': 100}"
      ]
     },
     "execution_count": 9477,
     "metadata": {},
     "output_type": "execute_result"
    }
   ],
   "source": [
    "%%time\n",
    "clf = GridSearchCV(clf, parametrs, cv=5)\n",
    "clf.fit(X_train, y_train)\n",
    "clf.best_params_"
   ]
  },
  {
   "cell_type": "code",
   "execution_count": 9478,
   "id": "51149ce7",
   "metadata": {},
   "outputs": [],
   "source": [
    "pred_train = clf.predict(X_train)\n",
    "pred_test = clf.predict(X_test)"
   ]
  },
  {
   "cell_type": "code",
   "execution_count": 9479,
   "id": "2ca868a7",
   "metadata": {
    "scrolled": true
   },
   "outputs": [
    {
     "data": {
      "text/plain": [
       "0.2742832528162793"
      ]
     },
     "execution_count": 9479,
     "metadata": {},
     "output_type": "execute_result"
    }
   ],
   "source": [
    "f1_score(y_train, pred_train, average='macro', zero_division = 0)"
   ]
  },
  {
   "cell_type": "code",
   "execution_count": 9480,
   "id": "6fb38cb8",
   "metadata": {
    "scrolled": true
   },
   "outputs": [
    {
     "data": {
      "text/plain": [
       "0.238640873015873"
      ]
     },
     "execution_count": 9480,
     "metadata": {},
     "output_type": "execute_result"
    }
   ],
   "source": [
    "f1_score(y_test, pred_test, average='macro', zero_division = 0)"
   ]
  },
  {
   "cell_type": "code",
   "execution_count": 9481,
   "id": "ff2129d5",
   "metadata": {},
   "outputs": [
    {
     "data": {
      "text/plain": [
       "0.26206399160765803"
      ]
     },
     "execution_count": 9481,
     "metadata": {},
     "output_type": "execute_result"
    }
   ],
   "source": [
    "r_s = recall_score(y_test, pred_test, average = 'macro', zero_division = 0)\n",
    "r_s"
   ]
  },
  {
   "cell_type": "code",
   "execution_count": 9482,
   "id": "b0cd8b2a",
   "metadata": {
    "scrolled": false
   },
   "outputs": [
    {
     "name": "stdout",
     "output_type": "stream",
     "text": [
      "              precision    recall  f1-score   support\n",
      "\n",
      "         3.0       0.00      0.00      0.00        13\n",
      "         4.0       0.73      0.98      0.84       123\n",
      "         5.0       0.50      0.06      0.11        31\n",
      "         6.0       0.00      0.00      0.00         2\n",
      "\n",
      "    accuracy                           0.73       169\n",
      "   macro avg       0.31      0.26      0.24       169\n",
      "weighted avg       0.63      0.73      0.63       169\n",
      "\n"
     ]
    }
   ],
   "source": [
    "print(classification_report(y_test, pred_test))"
   ]
  },
  {
   "cell_type": "code",
   "execution_count": 9483,
   "id": "ad072fa3",
   "metadata": {},
   "outputs": [
    {
     "data": {
      "text/html": [
       "<div>\n",
       "<style scoped>\n",
       "    .dataframe tbody tr th:only-of-type {\n",
       "        vertical-align: middle;\n",
       "    }\n",
       "\n",
       "    .dataframe tbody tr th {\n",
       "        vertical-align: top;\n",
       "    }\n",
       "\n",
       "    .dataframe thead th {\n",
       "        text-align: right;\n",
       "    }\n",
       "</style>\n",
       "<table border=\"1\" class=\"dataframe\">\n",
       "  <thead>\n",
       "    <tr style=\"text-align: right;\">\n",
       "      <th></th>\n",
       "      <th>model</th>\n",
       "      <th>recall</th>\n",
       "    </tr>\n",
       "  </thead>\n",
       "  <tbody>\n",
       "    <tr>\n",
       "      <th>0</th>\n",
       "      <td>log_reg</td>\n",
       "      <td>0.28</td>\n",
       "    </tr>\n",
       "    <tr>\n",
       "      <th>1</th>\n",
       "      <td>RFC</td>\n",
       "      <td>0.26</td>\n",
       "    </tr>\n",
       "  </tbody>\n",
       "</table>\n",
       "</div>"
      ],
      "text/plain": [
       "     model  recall\n",
       "0  log_reg    0.28\n",
       "1      RFC    0.26"
      ]
     },
     "execution_count": 9483,
     "metadata": {},
     "output_type": "execute_result"
    }
   ],
   "source": [
    "total_score_2.append({\n",
    "                           'model': 'RFC',\n",
    "                           'recall': r_s})\n",
    "pd.DataFrame(total_score_2)"
   ]
  },
  {
   "cell_type": "markdown",
   "id": "93dba5b4",
   "metadata": {},
   "source": [
    "**LGBM**"
   ]
  },
  {
   "cell_type": "code",
   "execution_count": 9484,
   "id": "74ecb0ca",
   "metadata": {},
   "outputs": [],
   "source": [
    "lgbm = LGBMClassifier()"
   ]
  },
  {
   "cell_type": "code",
   "execution_count": 9485,
   "id": "00b1d17c",
   "metadata": {},
   "outputs": [],
   "source": [
    "parameters_lgbm = {'max_depth': [3, 6, 12],\n",
    "                  'learning_rate':[0.001, 0.003, 0.005, 0.01]}"
   ]
  },
  {
   "cell_type": "code",
   "execution_count": 9486,
   "id": "ac0d2b06",
   "metadata": {},
   "outputs": [],
   "source": [
    "lgbm = GridSearchCV(lgbm, parameters_lgbm)"
   ]
  },
  {
   "cell_type": "code",
   "execution_count": 9487,
   "id": "f0b41c7b",
   "metadata": {},
   "outputs": [
    {
     "name": "stdout",
     "output_type": "stream",
     "text": [
      "CPU times: total: 25.7 s\n",
      "Wall time: 3.23 s\n"
     ]
    },
    {
     "data": {
      "text/plain": [
       "GridSearchCV(estimator=LGBMClassifier(),\n",
       "             param_grid={'learning_rate': [0.001, 0.003, 0.005, 0.01],\n",
       "                         'max_depth': [3, 6, 12]})"
      ]
     },
     "execution_count": 9487,
     "metadata": {},
     "output_type": "execute_result"
    }
   ],
   "source": [
    "%%time\n",
    "lgbm.fit(X_train, y_train)"
   ]
  },
  {
   "cell_type": "code",
   "execution_count": 9488,
   "id": "6fc43cf2",
   "metadata": {},
   "outputs": [
    {
     "data": {
      "text/plain": [
       "{'learning_rate': 0.001, 'max_depth': 3}"
      ]
     },
     "execution_count": 9488,
     "metadata": {},
     "output_type": "execute_result"
    }
   ],
   "source": [
    "lgbm.best_params_"
   ]
  },
  {
   "cell_type": "code",
   "execution_count": 9489,
   "id": "cc4314d4",
   "metadata": {},
   "outputs": [],
   "source": [
    "pred_train = lgbm.predict(X_train)\n",
    "pred_test = lgbm.predict(X_test)"
   ]
  },
  {
   "cell_type": "code",
   "execution_count": 9490,
   "id": "c11b3c83",
   "metadata": {
    "scrolled": true
   },
   "outputs": [
    {
     "data": {
      "text/plain": [
       "0.21010332950631458"
      ]
     },
     "execution_count": 9490,
     "metadata": {},
     "output_type": "execute_result"
    }
   ],
   "source": [
    "f1_score(y_train, pred_train, average='macro', zero_division = 0)"
   ]
  },
  {
   "cell_type": "code",
   "execution_count": 9491,
   "id": "21799ddb",
   "metadata": {
    "scrolled": false
   },
   "outputs": [
    {
     "data": {
      "text/plain": [
       "0.2106164383561644"
      ]
     },
     "execution_count": 9491,
     "metadata": {},
     "output_type": "execute_result"
    }
   ],
   "source": [
    "f1_score(y_test, pred_test, average='macro', zero_division = 0)"
   ]
  },
  {
   "cell_type": "code",
   "execution_count": 9492,
   "id": "c477c758",
   "metadata": {},
   "outputs": [
    {
     "data": {
      "text/plain": [
       "0.25"
      ]
     },
     "execution_count": 9492,
     "metadata": {},
     "output_type": "execute_result"
    }
   ],
   "source": [
    "r_s = recall_score(y_test, pred_test, average = 'macro', zero_division = 0)\n",
    "r_s"
   ]
  },
  {
   "cell_type": "code",
   "execution_count": 9493,
   "id": "a84fbe42",
   "metadata": {
    "scrolled": false
   },
   "outputs": [
    {
     "name": "stdout",
     "output_type": "stream",
     "text": [
      "              precision    recall  f1-score   support\n",
      "\n",
      "         3.0       0.00      0.00      0.00        13\n",
      "         4.0       0.73      1.00      0.84       123\n",
      "         5.0       0.00      0.00      0.00        31\n",
      "         6.0       0.00      0.00      0.00         2\n",
      "\n",
      "    accuracy                           0.73       169\n",
      "   macro avg       0.18      0.25      0.21       169\n",
      "weighted avg       0.53      0.73      0.61       169\n",
      "\n"
     ]
    }
   ],
   "source": [
    "print(classification_report(y_test, pred_test))"
   ]
  },
  {
   "cell_type": "code",
   "execution_count": 9494,
   "id": "3a31821c",
   "metadata": {
    "scrolled": true
   },
   "outputs": [
    {
     "data": {
      "text/html": [
       "<div>\n",
       "<style scoped>\n",
       "    .dataframe tbody tr th:only-of-type {\n",
       "        vertical-align: middle;\n",
       "    }\n",
       "\n",
       "    .dataframe tbody tr th {\n",
       "        vertical-align: top;\n",
       "    }\n",
       "\n",
       "    .dataframe thead th {\n",
       "        text-align: right;\n",
       "    }\n",
       "</style>\n",
       "<table border=\"1\" class=\"dataframe\">\n",
       "  <thead>\n",
       "    <tr style=\"text-align: right;\">\n",
       "      <th></th>\n",
       "      <th>model</th>\n",
       "      <th>recall</th>\n",
       "    </tr>\n",
       "  </thead>\n",
       "  <tbody>\n",
       "    <tr>\n",
       "      <th>0</th>\n",
       "      <td>log_reg</td>\n",
       "      <td>0.28</td>\n",
       "    </tr>\n",
       "    <tr>\n",
       "      <th>1</th>\n",
       "      <td>RFC</td>\n",
       "      <td>0.26</td>\n",
       "    </tr>\n",
       "    <tr>\n",
       "      <th>2</th>\n",
       "      <td>LGBM</td>\n",
       "      <td>0.25</td>\n",
       "    </tr>\n",
       "  </tbody>\n",
       "</table>\n",
       "</div>"
      ],
      "text/plain": [
       "     model  recall\n",
       "0  log_reg    0.28\n",
       "1      RFC    0.26\n",
       "2     LGBM    0.25"
      ]
     },
     "execution_count": 9494,
     "metadata": {},
     "output_type": "execute_result"
    }
   ],
   "source": [
    "total_score_2.append({\n",
    "                           'model': 'LGBM',\n",
    "                           'recall': r_s})\n",
    "pd.DataFrame(total_score_2)"
   ]
  },
  {
   "cell_type": "code",
   "execution_count": 9495,
   "id": "8edef86d",
   "metadata": {},
   "outputs": [],
   "source": [
    "X_train = df_7.drop(col_drop, axis=1) \n",
    "y_train = df_7['Systemic thinking']\n",
    "model.fit(X_train, y_train)\n",
    "model_2 = model"
   ]
  },
  {
   "cell_type": "markdown",
   "id": "9408fed9",
   "metadata": {},
   "source": [
    "## 'Adaptability' (в трейне: ОНЕ-решений, баллы и рейтинги)"
   ]
  },
  {
   "cell_type": "code",
   "execution_count": 9496,
   "id": "2f86a269",
   "metadata": {},
   "outputs": [
    {
     "data": {
      "text/html": [
       "<div>\n",
       "<style scoped>\n",
       "    .dataframe tbody tr th:only-of-type {\n",
       "        vertical-align: middle;\n",
       "    }\n",
       "\n",
       "    .dataframe tbody tr th {\n",
       "        vertical-align: top;\n",
       "    }\n",
       "\n",
       "    .dataframe thead th {\n",
       "        text-align: right;\n",
       "    }\n",
       "</style>\n",
       "<table border=\"1\" class=\"dataframe\">\n",
       "  <thead>\n",
       "    <tr style=\"text-align: right;\">\n",
       "      <th></th>\n",
       "      <th>Analytical thinking</th>\n",
       "      <th>Systemic thinking</th>\n",
       "      <th>Adaptability</th>\n",
       "      <th>Focus</th>\n",
       "      <th>game_id</th>\n",
       "      <th>total_score</th>\n",
       "      <th>cat_1</th>\n",
       "      <th>cat_2</th>\n",
       "      <th>cat_3</th>\n",
       "      <th>cat_4</th>\n",
       "      <th>cat_5</th>\n",
       "      <th>cat_6</th>\n",
       "      <th>score_rating</th>\n",
       "      <th>rating_1</th>\n",
       "      <th>rating_2</th>\n",
       "      <th>rating_3</th>\n",
       "      <th>rating_4</th>\n",
       "      <th>rating_5</th>\n",
       "      <th>rating_6</th>\n",
       "    </tr>\n",
       "    <tr>\n",
       "      <th>id</th>\n",
       "      <th></th>\n",
       "      <th></th>\n",
       "      <th></th>\n",
       "      <th></th>\n",
       "      <th></th>\n",
       "      <th></th>\n",
       "      <th></th>\n",
       "      <th></th>\n",
       "      <th></th>\n",
       "      <th></th>\n",
       "      <th></th>\n",
       "      <th></th>\n",
       "      <th></th>\n",
       "      <th></th>\n",
       "      <th></th>\n",
       "      <th></th>\n",
       "      <th></th>\n",
       "      <th></th>\n",
       "      <th></th>\n",
       "    </tr>\n",
       "  </thead>\n",
       "  <tbody>\n",
       "    <tr>\n",
       "      <th>10884</th>\n",
       "      <td>4.00</td>\n",
       "      <td>4.00</td>\n",
       "      <td>4.00</td>\n",
       "      <td>4.00</td>\n",
       "      <td>202</td>\n",
       "      <td>872</td>\n",
       "      <td>-9.00</td>\n",
       "      <td>-41.00</td>\n",
       "      <td>288.00</td>\n",
       "      <td>101.00</td>\n",
       "      <td>97.00</td>\n",
       "      <td>436.00</td>\n",
       "      <td>0.48</td>\n",
       "      <td>-0.08</td>\n",
       "      <td>-0.23</td>\n",
       "      <td>0.71</td>\n",
       "      <td>0.70</td>\n",
       "      <td>1.00</td>\n",
       "      <td>0.48</td>\n",
       "    </tr>\n",
       "    <tr>\n",
       "      <th>10106</th>\n",
       "      <td>5.00</td>\n",
       "      <td>4.00</td>\n",
       "      <td>5.00</td>\n",
       "      <td>5.00</td>\n",
       "      <td>211</td>\n",
       "      <td>1512</td>\n",
       "      <td>50.00</td>\n",
       "      <td>104.00</td>\n",
       "      <td>364.00</td>\n",
       "      <td>133.00</td>\n",
       "      <td>105.00</td>\n",
       "      <td>756.00</td>\n",
       "      <td>1.00</td>\n",
       "      <td>1.00</td>\n",
       "      <td>0.88</td>\n",
       "      <td>0.98</td>\n",
       "      <td>0.88</td>\n",
       "      <td>1.00</td>\n",
       "      <td>1.00</td>\n",
       "    </tr>\n",
       "    <tr>\n",
       "      <th>10438</th>\n",
       "      <td>6.00</td>\n",
       "      <td>5.00</td>\n",
       "      <td>5.00</td>\n",
       "      <td>5.00</td>\n",
       "      <td>242</td>\n",
       "      <td>1288</td>\n",
       "      <td>51.00</td>\n",
       "      <td>44.00</td>\n",
       "      <td>280.00</td>\n",
       "      <td>131.00</td>\n",
       "      <td>138.00</td>\n",
       "      <td>644.00</td>\n",
       "      <td>1.00</td>\n",
       "      <td>1.00</td>\n",
       "      <td>0.62</td>\n",
       "      <td>0.98</td>\n",
       "      <td>1.00</td>\n",
       "      <td>0.80</td>\n",
       "      <td>1.00</td>\n",
       "    </tr>\n",
       "    <tr>\n",
       "      <th>10130</th>\n",
       "      <td>5.00</td>\n",
       "      <td>4.00</td>\n",
       "      <td>5.00</td>\n",
       "      <td>5.00</td>\n",
       "      <td>184</td>\n",
       "      <td>1018</td>\n",
       "      <td>27.00</td>\n",
       "      <td>8.00</td>\n",
       "      <td>263.00</td>\n",
       "      <td>112.00</td>\n",
       "      <td>99.00</td>\n",
       "      <td>509.00</td>\n",
       "      <td>0.56</td>\n",
       "      <td>0.28</td>\n",
       "      <td>0.04</td>\n",
       "      <td>0.64</td>\n",
       "      <td>0.65</td>\n",
       "      <td>1.00</td>\n",
       "      <td>0.56</td>\n",
       "    </tr>\n",
       "    <tr>\n",
       "      <th>10667</th>\n",
       "      <td>4.00</td>\n",
       "      <td>5.00</td>\n",
       "      <td>5.00</td>\n",
       "      <td>5.00</td>\n",
       "      <td>193</td>\n",
       "      <td>1440</td>\n",
       "      <td>67.00</td>\n",
       "      <td>54.00</td>\n",
       "      <td>313.00</td>\n",
       "      <td>139.00</td>\n",
       "      <td>147.00</td>\n",
       "      <td>720.00</td>\n",
       "      <td>0.67</td>\n",
       "      <td>0.40</td>\n",
       "      <td>0.22</td>\n",
       "      <td>0.96</td>\n",
       "      <td>0.77</td>\n",
       "      <td>0.86</td>\n",
       "      <td>0.67</td>\n",
       "    </tr>\n",
       "  </tbody>\n",
       "</table>\n",
       "</div>"
      ],
      "text/plain": [
       "       Analytical thinking  Systemic thinking  Adaptability  Focus  game_id  \\\n",
       "id                                                                            \n",
       "10884                 4.00               4.00          4.00   4.00      202   \n",
       "10106                 5.00               4.00          5.00   5.00      211   \n",
       "10438                 6.00               5.00          5.00   5.00      242   \n",
       "10130                 5.00               4.00          5.00   5.00      184   \n",
       "10667                 4.00               5.00          5.00   5.00      193   \n",
       "\n",
       "       total_score  cat_1  cat_2  cat_3  cat_4  cat_5  cat_6  score_rating  \\\n",
       "id                                                                           \n",
       "10884          872  -9.00 -41.00 288.00 101.00  97.00 436.00          0.48   \n",
       "10106         1512  50.00 104.00 364.00 133.00 105.00 756.00          1.00   \n",
       "10438         1288  51.00  44.00 280.00 131.00 138.00 644.00          1.00   \n",
       "10130         1018  27.00   8.00 263.00 112.00  99.00 509.00          0.56   \n",
       "10667         1440  67.00  54.00 313.00 139.00 147.00 720.00          0.67   \n",
       "\n",
       "       rating_1  rating_2  rating_3  rating_4  rating_5  rating_6  \n",
       "id                                                                 \n",
       "10884     -0.08     -0.23      0.71      0.70      1.00      0.48  \n",
       "10106      1.00      0.88      0.98      0.88      1.00      1.00  \n",
       "10438      1.00      0.62      0.98      1.00      0.80      1.00  \n",
       "10130      0.28      0.04      0.64      0.65      1.00      0.56  \n",
       "10667      0.40      0.22      0.96      0.77      0.86      0.67  "
      ]
     },
     "execution_count": 9496,
     "metadata": {},
     "output_type": "execute_result"
    }
   ],
   "source": [
    "df_score.head()"
   ]
  },
  {
   "cell_type": "code",
   "execution_count": 9497,
   "id": "50aad21b",
   "metadata": {
    "scrolled": false
   },
   "outputs": [
    {
     "data": {
      "text/html": [
       "<div>\n",
       "<style scoped>\n",
       "    .dataframe tbody tr th:only-of-type {\n",
       "        vertical-align: middle;\n",
       "    }\n",
       "\n",
       "    .dataframe tbody tr th {\n",
       "        vertical-align: top;\n",
       "    }\n",
       "\n",
       "    .dataframe thead th {\n",
       "        text-align: right;\n",
       "    }\n",
       "</style>\n",
       "<table border=\"1\" class=\"dataframe\">\n",
       "  <thead>\n",
       "    <tr style=\"text-align: right;\">\n",
       "      <th></th>\n",
       "      <th>Analytical thinking</th>\n",
       "      <th>Systemic thinking</th>\n",
       "      <th>Adaptability</th>\n",
       "      <th>Focus</th>\n",
       "      <th>1</th>\n",
       "      <th>2</th>\n",
       "      <th>3</th>\n",
       "      <th>4</th>\n",
       "      <th>5</th>\n",
       "      <th>6</th>\n",
       "      <th>...</th>\n",
       "      <th>430</th>\n",
       "      <th>431</th>\n",
       "      <th>432</th>\n",
       "      <th>433</th>\n",
       "      <th>434</th>\n",
       "      <th>435</th>\n",
       "      <th>436</th>\n",
       "      <th>437</th>\n",
       "      <th>438</th>\n",
       "      <th>total</th>\n",
       "    </tr>\n",
       "    <tr>\n",
       "      <th>index</th>\n",
       "      <th></th>\n",
       "      <th></th>\n",
       "      <th></th>\n",
       "      <th></th>\n",
       "      <th></th>\n",
       "      <th></th>\n",
       "      <th></th>\n",
       "      <th></th>\n",
       "      <th></th>\n",
       "      <th></th>\n",
       "      <th></th>\n",
       "      <th></th>\n",
       "      <th></th>\n",
       "      <th></th>\n",
       "      <th></th>\n",
       "      <th></th>\n",
       "      <th></th>\n",
       "      <th></th>\n",
       "      <th></th>\n",
       "      <th></th>\n",
       "      <th></th>\n",
       "    </tr>\n",
       "  </thead>\n",
       "  <tbody>\n",
       "    <tr>\n",
       "      <th>10001</th>\n",
       "      <td>4.00</td>\n",
       "      <td>4.00</td>\n",
       "      <td>5.00</td>\n",
       "      <td>4.00</td>\n",
       "      <td>0.00</td>\n",
       "      <td>0.00</td>\n",
       "      <td>0.00</td>\n",
       "      <td>0.00</td>\n",
       "      <td>0.00</td>\n",
       "      <td>0.00</td>\n",
       "      <td>...</td>\n",
       "      <td>0.00</td>\n",
       "      <td>0.00</td>\n",
       "      <td>0.00</td>\n",
       "      <td>0.00</td>\n",
       "      <td>0.00</td>\n",
       "      <td>0.00</td>\n",
       "      <td>0.00</td>\n",
       "      <td>0.00</td>\n",
       "      <td>0</td>\n",
       "      <td>0.00</td>\n",
       "    </tr>\n",
       "  </tbody>\n",
       "</table>\n",
       "<p>1 rows × 443 columns</p>\n",
       "</div>"
      ],
      "text/plain": [
       "       Analytical thinking  Systemic thinking  Adaptability  Focus    1    2  \\\n",
       "index                                                                          \n",
       "10001                 4.00               4.00          5.00   4.00 0.00 0.00   \n",
       "\n",
       "         3    4    5    6  ...  430  431  432  433  434  435  436  437  438  \\\n",
       "index                      ...                                                \n",
       "10001 0.00 0.00 0.00 0.00  ... 0.00 0.00 0.00 0.00 0.00 0.00 0.00 0.00    0   \n",
       "\n",
       "       total  \n",
       "index         \n",
       "10001   0.00  \n",
       "\n",
       "[1 rows x 443 columns]"
      ]
     },
     "execution_count": 9497,
     "metadata": {},
     "output_type": "execute_result"
    }
   ],
   "source": [
    "df_3.head(1)"
   ]
  },
  {
   "cell_type": "code",
   "execution_count": 9498,
   "id": "96894851",
   "metadata": {},
   "outputs": [],
   "source": [
    "col_drop = ['Analytical thinking', 'Systemic thinking', 'Adaptability','Focus']"
   ]
  },
  {
   "cell_type": "code",
   "execution_count": 9499,
   "id": "eb4b966c",
   "metadata": {},
   "outputs": [],
   "source": [
    "df_7 = df_score.join(df_3.drop(col_drop, axis=1))"
   ]
  },
  {
   "cell_type": "code",
   "execution_count": 9500,
   "id": "70f7111d",
   "metadata": {
    "scrolled": true
   },
   "outputs": [
    {
     "data": {
      "text/html": [
       "<div>\n",
       "<style scoped>\n",
       "    .dataframe tbody tr th:only-of-type {\n",
       "        vertical-align: middle;\n",
       "    }\n",
       "\n",
       "    .dataframe tbody tr th {\n",
       "        vertical-align: top;\n",
       "    }\n",
       "\n",
       "    .dataframe thead th {\n",
       "        text-align: right;\n",
       "    }\n",
       "</style>\n",
       "<table border=\"1\" class=\"dataframe\">\n",
       "  <thead>\n",
       "    <tr style=\"text-align: right;\">\n",
       "      <th></th>\n",
       "      <th>Analytical thinking</th>\n",
       "      <th>Systemic thinking</th>\n",
       "      <th>Adaptability</th>\n",
       "      <th>Focus</th>\n",
       "      <th>game_id</th>\n",
       "      <th>total_score</th>\n",
       "      <th>cat_1</th>\n",
       "      <th>cat_2</th>\n",
       "      <th>cat_3</th>\n",
       "      <th>cat_4</th>\n",
       "      <th>...</th>\n",
       "      <th>430</th>\n",
       "      <th>431</th>\n",
       "      <th>432</th>\n",
       "      <th>433</th>\n",
       "      <th>434</th>\n",
       "      <th>435</th>\n",
       "      <th>436</th>\n",
       "      <th>437</th>\n",
       "      <th>438</th>\n",
       "      <th>total</th>\n",
       "    </tr>\n",
       "    <tr>\n",
       "      <th>id</th>\n",
       "      <th></th>\n",
       "      <th></th>\n",
       "      <th></th>\n",
       "      <th></th>\n",
       "      <th></th>\n",
       "      <th></th>\n",
       "      <th></th>\n",
       "      <th></th>\n",
       "      <th></th>\n",
       "      <th></th>\n",
       "      <th></th>\n",
       "      <th></th>\n",
       "      <th></th>\n",
       "      <th></th>\n",
       "      <th></th>\n",
       "      <th></th>\n",
       "      <th></th>\n",
       "      <th></th>\n",
       "      <th></th>\n",
       "      <th></th>\n",
       "      <th></th>\n",
       "    </tr>\n",
       "  </thead>\n",
       "  <tbody>\n",
       "    <tr>\n",
       "      <th>10884</th>\n",
       "      <td>4.00</td>\n",
       "      <td>4.00</td>\n",
       "      <td>4.00</td>\n",
       "      <td>4.00</td>\n",
       "      <td>202</td>\n",
       "      <td>872</td>\n",
       "      <td>-9.00</td>\n",
       "      <td>-41.00</td>\n",
       "      <td>288.00</td>\n",
       "      <td>101.00</td>\n",
       "      <td>...</td>\n",
       "      <td>0.00</td>\n",
       "      <td>0.00</td>\n",
       "      <td>0.00</td>\n",
       "      <td>0.00</td>\n",
       "      <td>0.00</td>\n",
       "      <td>0.00</td>\n",
       "      <td>0.00</td>\n",
       "      <td>0.00</td>\n",
       "      <td>0</td>\n",
       "      <td>0.00</td>\n",
       "    </tr>\n",
       "  </tbody>\n",
       "</table>\n",
       "<p>1 rows × 458 columns</p>\n",
       "</div>"
      ],
      "text/plain": [
       "       Analytical thinking  Systemic thinking  Adaptability  Focus  game_id  \\\n",
       "id                                                                            \n",
       "10884                 4.00               4.00          4.00   4.00      202   \n",
       "\n",
       "       total_score  cat_1  cat_2  cat_3  cat_4  ...  430  431  432  433  434  \\\n",
       "id                                              ...                            \n",
       "10884          872  -9.00 -41.00 288.00 101.00  ... 0.00 0.00 0.00 0.00 0.00   \n",
       "\n",
       "       435  436  437  438  total  \n",
       "id                                \n",
       "10884 0.00 0.00 0.00    0   0.00  \n",
       "\n",
       "[1 rows x 458 columns]"
      ]
     },
     "execution_count": 9500,
     "metadata": {},
     "output_type": "execute_result"
    }
   ],
   "source": [
    "df_7.head(1)"
   ]
  },
  {
   "cell_type": "code",
   "execution_count": 9501,
   "id": "637e56f8",
   "metadata": {},
   "outputs": [],
   "source": [
    "df_7['max_total'] = df_7.groupby('game_id')['total'].transform('max')"
   ]
  },
  {
   "cell_type": "code",
   "execution_count": 9502,
   "id": "7d42467d",
   "metadata": {},
   "outputs": [],
   "source": [
    "df_7['rating_user'] = df_7['total'] / df_7['max_total']"
   ]
  },
  {
   "cell_type": "code",
   "execution_count": 9503,
   "id": "ec459d12",
   "metadata": {},
   "outputs": [
    {
     "data": {
      "text/plain": [
       "(674, 460)"
      ]
     },
     "execution_count": 9503,
     "metadata": {},
     "output_type": "execute_result"
    }
   ],
   "source": [
    "df_7 = df_7[df_7['Analytical thinking']>2]\n",
    "df_7 = df_7[df_7['Systemic thinking']>2]\n",
    "df_7 = df_7[df_7['Adaptability']>2]\n",
    "df_7 = df_7[df_7['Focus']>2]\n",
    "df_7.shape"
   ]
  },
  {
   "cell_type": "code",
   "execution_count": 9504,
   "id": "2512abd0",
   "metadata": {},
   "outputs": [],
   "source": [
    "for i in range(1, 439):\n",
    "    df_7 = df_7.drop(str(i), axis=1)    "
   ]
  },
  {
   "cell_type": "code",
   "execution_count": 9505,
   "id": "514e47f9",
   "metadata": {},
   "outputs": [
    {
     "data": {
      "text/html": [
       "<div>\n",
       "<style scoped>\n",
       "    .dataframe tbody tr th:only-of-type {\n",
       "        vertical-align: middle;\n",
       "    }\n",
       "\n",
       "    .dataframe tbody tr th {\n",
       "        vertical-align: top;\n",
       "    }\n",
       "\n",
       "    .dataframe thead th {\n",
       "        text-align: right;\n",
       "    }\n",
       "</style>\n",
       "<table border=\"1\" class=\"dataframe\">\n",
       "  <thead>\n",
       "    <tr style=\"text-align: right;\">\n",
       "      <th></th>\n",
       "      <th>Analytical thinking</th>\n",
       "      <th>Systemic thinking</th>\n",
       "      <th>Adaptability</th>\n",
       "      <th>Focus</th>\n",
       "      <th>game_id</th>\n",
       "      <th>total_score</th>\n",
       "      <th>cat_1</th>\n",
       "      <th>cat_2</th>\n",
       "      <th>cat_3</th>\n",
       "      <th>cat_4</th>\n",
       "      <th>...</th>\n",
       "      <th>score_rating</th>\n",
       "      <th>rating_1</th>\n",
       "      <th>rating_2</th>\n",
       "      <th>rating_3</th>\n",
       "      <th>rating_4</th>\n",
       "      <th>rating_5</th>\n",
       "      <th>rating_6</th>\n",
       "      <th>total</th>\n",
       "      <th>max_total</th>\n",
       "      <th>rating_user</th>\n",
       "    </tr>\n",
       "    <tr>\n",
       "      <th>id</th>\n",
       "      <th></th>\n",
       "      <th></th>\n",
       "      <th></th>\n",
       "      <th></th>\n",
       "      <th></th>\n",
       "      <th></th>\n",
       "      <th></th>\n",
       "      <th></th>\n",
       "      <th></th>\n",
       "      <th></th>\n",
       "      <th></th>\n",
       "      <th></th>\n",
       "      <th></th>\n",
       "      <th></th>\n",
       "      <th></th>\n",
       "      <th></th>\n",
       "      <th></th>\n",
       "      <th></th>\n",
       "      <th></th>\n",
       "      <th></th>\n",
       "      <th></th>\n",
       "    </tr>\n",
       "  </thead>\n",
       "  <tbody>\n",
       "    <tr>\n",
       "      <th>10884</th>\n",
       "      <td>4.00</td>\n",
       "      <td>4.00</td>\n",
       "      <td>4.00</td>\n",
       "      <td>4.00</td>\n",
       "      <td>202</td>\n",
       "      <td>872</td>\n",
       "      <td>-9.00</td>\n",
       "      <td>-41.00</td>\n",
       "      <td>288.00</td>\n",
       "      <td>101.00</td>\n",
       "      <td>...</td>\n",
       "      <td>0.48</td>\n",
       "      <td>-0.08</td>\n",
       "      <td>-0.23</td>\n",
       "      <td>0.71</td>\n",
       "      <td>0.70</td>\n",
       "      <td>1.00</td>\n",
       "      <td>0.48</td>\n",
       "      <td>0.00</td>\n",
       "      <td>0.00</td>\n",
       "      <td>0.39</td>\n",
       "    </tr>\n",
       "  </tbody>\n",
       "</table>\n",
       "<p>1 rows × 22 columns</p>\n",
       "</div>"
      ],
      "text/plain": [
       "       Analytical thinking  Systemic thinking  Adaptability  Focus  game_id  \\\n",
       "id                                                                            \n",
       "10884                 4.00               4.00          4.00   4.00      202   \n",
       "\n",
       "       total_score  cat_1  cat_2  cat_3  cat_4  ...  score_rating  rating_1  \\\n",
       "id                                              ...                           \n",
       "10884          872  -9.00 -41.00 288.00 101.00  ...          0.48     -0.08   \n",
       "\n",
       "       rating_2  rating_3  rating_4  rating_5  rating_6  total  max_total  \\\n",
       "id                                                                          \n",
       "10884     -0.23      0.71      0.70      1.00      0.48   0.00       0.00   \n",
       "\n",
       "       rating_user  \n",
       "id                  \n",
       "10884         0.39  \n",
       "\n",
       "[1 rows x 22 columns]"
      ]
     },
     "execution_count": 9505,
     "metadata": {},
     "output_type": "execute_result"
    }
   ],
   "source": [
    "df_7.head(1)"
   ]
  },
  {
   "cell_type": "code",
   "execution_count": 9506,
   "id": "8d798776",
   "metadata": {},
   "outputs": [],
   "source": [
    "col_drop = ['Analytical thinking', 'Systemic thinking', 'Adaptability', \n",
    "            'Focus', 'max_total']"
   ]
  },
  {
   "cell_type": "code",
   "execution_count": 9507,
   "id": "b53e1d5d",
   "metadata": {},
   "outputs": [],
   "source": [
    "X_train, X_test, y_train, y_test = train_test_split(\n",
    "    df_7.drop(col_drop, axis=1), df_7['Adaptability'], stratify = df_7['Adaptability'], test_size=0.25, random_state=12345)"
   ]
  },
  {
   "cell_type": "code",
   "execution_count": 9508,
   "id": "3a4de929",
   "metadata": {
    "scrolled": true
   },
   "outputs": [
    {
     "name": "stdout",
     "output_type": "stream",
     "text": [
      "(505, 17)\n",
      "(505,)\n"
     ]
    }
   ],
   "source": [
    "print(X_train.shape)\n",
    "print(y_train.shape)"
   ]
  },
  {
   "cell_type": "code",
   "execution_count": 9509,
   "id": "af2d335e",
   "metadata": {
    "scrolled": false
   },
   "outputs": [
    {
     "data": {
      "text/html": [
       "<div>\n",
       "<style scoped>\n",
       "    .dataframe tbody tr th:only-of-type {\n",
       "        vertical-align: middle;\n",
       "    }\n",
       "\n",
       "    .dataframe tbody tr th {\n",
       "        vertical-align: top;\n",
       "    }\n",
       "\n",
       "    .dataframe thead th {\n",
       "        text-align: right;\n",
       "    }\n",
       "</style>\n",
       "<table border=\"1\" class=\"dataframe\">\n",
       "  <thead>\n",
       "    <tr style=\"text-align: right;\">\n",
       "      <th></th>\n",
       "      <th>game_id</th>\n",
       "      <th>total_score</th>\n",
       "      <th>cat_1</th>\n",
       "      <th>cat_2</th>\n",
       "      <th>cat_3</th>\n",
       "      <th>cat_4</th>\n",
       "      <th>cat_5</th>\n",
       "      <th>cat_6</th>\n",
       "      <th>score_rating</th>\n",
       "      <th>rating_1</th>\n",
       "      <th>rating_2</th>\n",
       "      <th>rating_3</th>\n",
       "      <th>rating_4</th>\n",
       "      <th>rating_5</th>\n",
       "      <th>rating_6</th>\n",
       "      <th>total</th>\n",
       "      <th>rating_user</th>\n",
       "    </tr>\n",
       "    <tr>\n",
       "      <th>id</th>\n",
       "      <th></th>\n",
       "      <th></th>\n",
       "      <th></th>\n",
       "      <th></th>\n",
       "      <th></th>\n",
       "      <th></th>\n",
       "      <th></th>\n",
       "      <th></th>\n",
       "      <th></th>\n",
       "      <th></th>\n",
       "      <th></th>\n",
       "      <th></th>\n",
       "      <th></th>\n",
       "      <th></th>\n",
       "      <th></th>\n",
       "      <th></th>\n",
       "      <th></th>\n",
       "    </tr>\n",
       "  </thead>\n",
       "  <tbody>\n",
       "    <tr>\n",
       "      <th>10954</th>\n",
       "      <td>262</td>\n",
       "      <td>814</td>\n",
       "      <td>-13.00</td>\n",
       "      <td>-33.00</td>\n",
       "      <td>265.00</td>\n",
       "      <td>113.00</td>\n",
       "      <td>75.00</td>\n",
       "      <td>407.00</td>\n",
       "      <td>0.65</td>\n",
       "      <td>-0.50</td>\n",
       "      <td>-0.28</td>\n",
       "      <td>0.79</td>\n",
       "      <td>0.75</td>\n",
       "      <td>0.72</td>\n",
       "      <td>0.65</td>\n",
       "      <td>0.00</td>\n",
       "      <td>0.84</td>\n",
       "    </tr>\n",
       "    <tr>\n",
       "      <th>10721</th>\n",
       "      <td>192</td>\n",
       "      <td>908</td>\n",
       "      <td>6.00</td>\n",
       "      <td>6.00</td>\n",
       "      <td>276.00</td>\n",
       "      <td>102.00</td>\n",
       "      <td>64.00</td>\n",
       "      <td>454.00</td>\n",
       "      <td>0.43</td>\n",
       "      <td>0.03</td>\n",
       "      <td>0.05</td>\n",
       "      <td>0.66</td>\n",
       "      <td>0.65</td>\n",
       "      <td>0.40</td>\n",
       "      <td>0.43</td>\n",
       "      <td>0.00</td>\n",
       "      <td>0.36</td>\n",
       "    </tr>\n",
       "    <tr>\n",
       "      <th>10220</th>\n",
       "      <td>235</td>\n",
       "      <td>1182</td>\n",
       "      <td>21.00</td>\n",
       "      <td>64.00</td>\n",
       "      <td>337.00</td>\n",
       "      <td>112.00</td>\n",
       "      <td>57.00</td>\n",
       "      <td>591.00</td>\n",
       "      <td>0.84</td>\n",
       "      <td>0.57</td>\n",
       "      <td>0.56</td>\n",
       "      <td>0.84</td>\n",
       "      <td>0.88</td>\n",
       "      <td>0.59</td>\n",
       "      <td>0.84</td>\n",
       "      <td>0.00</td>\n",
       "      <td>0.18</td>\n",
       "    </tr>\n",
       "    <tr>\n",
       "      <th>10171</th>\n",
       "      <td>252</td>\n",
       "      <td>1270</td>\n",
       "      <td>31.00</td>\n",
       "      <td>117.00</td>\n",
       "      <td>241.00</td>\n",
       "      <td>156.00</td>\n",
       "      <td>90.00</td>\n",
       "      <td>635.00</td>\n",
       "      <td>0.67</td>\n",
       "      <td>0.30</td>\n",
       "      <td>0.52</td>\n",
       "      <td>0.63</td>\n",
       "      <td>0.91</td>\n",
       "      <td>0.97</td>\n",
       "      <td>0.67</td>\n",
       "      <td>0.00</td>\n",
       "      <td>0.04</td>\n",
       "    </tr>\n",
       "    <tr>\n",
       "      <th>10126</th>\n",
       "      <td>209</td>\n",
       "      <td>1582</td>\n",
       "      <td>85.00</td>\n",
       "      <td>103.00</td>\n",
       "      <td>365.00</td>\n",
       "      <td>138.00</td>\n",
       "      <td>100.00</td>\n",
       "      <td>791.00</td>\n",
       "      <td>1.00</td>\n",
       "      <td>1.00</td>\n",
       "      <td>0.77</td>\n",
       "      <td>1.00</td>\n",
       "      <td>0.85</td>\n",
       "      <td>0.69</td>\n",
       "      <td>1.00</td>\n",
       "      <td>0.00</td>\n",
       "      <td>0.07</td>\n",
       "    </tr>\n",
       "  </tbody>\n",
       "</table>\n",
       "</div>"
      ],
      "text/plain": [
       "       game_id  total_score  cat_1  cat_2  cat_3  cat_4  cat_5  cat_6  \\\n",
       "id                                                                      \n",
       "10954      262          814 -13.00 -33.00 265.00 113.00  75.00 407.00   \n",
       "10721      192          908   6.00   6.00 276.00 102.00  64.00 454.00   \n",
       "10220      235         1182  21.00  64.00 337.00 112.00  57.00 591.00   \n",
       "10171      252         1270  31.00 117.00 241.00 156.00  90.00 635.00   \n",
       "10126      209         1582  85.00 103.00 365.00 138.00 100.00 791.00   \n",
       "\n",
       "       score_rating  rating_1  rating_2  rating_3  rating_4  rating_5  \\\n",
       "id                                                                      \n",
       "10954          0.65     -0.50     -0.28      0.79      0.75      0.72   \n",
       "10721          0.43      0.03      0.05      0.66      0.65      0.40   \n",
       "10220          0.84      0.57      0.56      0.84      0.88      0.59   \n",
       "10171          0.67      0.30      0.52      0.63      0.91      0.97   \n",
       "10126          1.00      1.00      0.77      1.00      0.85      0.69   \n",
       "\n",
       "       rating_6  total  rating_user  \n",
       "id                                   \n",
       "10954      0.65   0.00         0.84  \n",
       "10721      0.43   0.00         0.36  \n",
       "10220      0.84   0.00         0.18  \n",
       "10171      0.67   0.00         0.04  \n",
       "10126      1.00   0.00         0.07  "
      ]
     },
     "execution_count": 9509,
     "metadata": {},
     "output_type": "execute_result"
    }
   ],
   "source": [
    "X_train.head()"
   ]
  },
  {
   "cell_type": "code",
   "execution_count": 9510,
   "id": "baeed682",
   "metadata": {},
   "outputs": [],
   "source": [
    "scaler_3 = StandardScaler()\n",
    "scaler_3.fit(X_train)\n",
    "X_train = scaler_3.transform(X_train)\n",
    "X_test = scaler_3.transform(X_test)"
   ]
  },
  {
   "cell_type": "markdown",
   "id": "649bcf4e",
   "metadata": {},
   "source": [
    "**LogReg**"
   ]
  },
  {
   "cell_type": "code",
   "execution_count": 9511,
   "id": "cb92b735",
   "metadata": {
    "scrolled": true
   },
   "outputs": [],
   "source": [
    "model = LogisticRegression()"
   ]
  },
  {
   "cell_type": "code",
   "execution_count": 9512,
   "id": "b658e8c4",
   "metadata": {},
   "outputs": [],
   "source": [
    "parametrs = { 'penalty': ['l1', 'l2', 'elasticnet'],\n",
    "              'fit_intercept': [True, False] }"
   ]
  },
  {
   "cell_type": "code",
   "execution_count": 9513,
   "id": "856f312b",
   "metadata": {},
   "outputs": [
    {
     "name": "stdout",
     "output_type": "stream",
     "text": [
      "CPU times: total: 234 ms\n",
      "Wall time: 239 ms\n"
     ]
    },
    {
     "data": {
      "text/plain": [
       "{'fit_intercept': True, 'penalty': 'l2'}"
      ]
     },
     "execution_count": 9513,
     "metadata": {},
     "output_type": "execute_result"
    }
   ],
   "source": [
    "%%time\n",
    "model = GridSearchCV(model, parametrs, cv=5)\n",
    "model.fit(X_train, y_train)\n",
    "model.best_params_"
   ]
  },
  {
   "cell_type": "code",
   "execution_count": 9514,
   "id": "03132bd2",
   "metadata": {},
   "outputs": [],
   "source": [
    "pred_train = model.predict(X_train)\n",
    "pred_test = model.predict(X_test)"
   ]
  },
  {
   "cell_type": "code",
   "execution_count": 9515,
   "id": "fdc08b22",
   "metadata": {
    "scrolled": true
   },
   "outputs": [
    {
     "data": {
      "text/plain": [
       "0.30724703814497456"
      ]
     },
     "execution_count": 9515,
     "metadata": {},
     "output_type": "execute_result"
    }
   ],
   "source": [
    "f1_score(y_train, pred_train, average='macro', zero_division = 0)"
   ]
  },
  {
   "cell_type": "code",
   "execution_count": 9516,
   "id": "73149fd0",
   "metadata": {},
   "outputs": [
    {
     "data": {
      "text/plain": [
       "array([0.6039604 , 0.57425743, 0.52475248, 0.4950495 , 0.59405941])"
      ]
     },
     "execution_count": 9516,
     "metadata": {},
     "output_type": "execute_result"
    }
   ],
   "source": [
    "scores = cross_val_score(model, X_train, y_train, cv=5)\n",
    "scores"
   ]
  },
  {
   "cell_type": "code",
   "execution_count": 9517,
   "id": "2968d620",
   "metadata": {
    "scrolled": false
   },
   "outputs": [
    {
     "data": {
      "text/plain": [
       "0.3098644578313253"
      ]
     },
     "execution_count": 9517,
     "metadata": {},
     "output_type": "execute_result"
    }
   ],
   "source": [
    "f1_score(y_test, pred_test, average='macro', zero_division = 0)"
   ]
  },
  {
   "cell_type": "code",
   "execution_count": 9518,
   "id": "cd4c6c0e",
   "metadata": {},
   "outputs": [
    {
     "data": {
      "text/plain": [
       "0.3218344155844156"
      ]
     },
     "execution_count": 9518,
     "metadata": {},
     "output_type": "execute_result"
    }
   ],
   "source": [
    "r_s = recall_score(y_test, pred_test, average = 'macro', zero_division = 0)\n",
    "r_s"
   ]
  },
  {
   "cell_type": "code",
   "execution_count": 9519,
   "id": "7b6779bc",
   "metadata": {
    "scrolled": false
   },
   "outputs": [
    {
     "name": "stdout",
     "output_type": "stream",
     "text": [
      "              precision    recall  f1-score   support\n",
      "\n",
      "         3.0       0.00      0.00      0.00         8\n",
      "         4.0       0.57      0.66      0.61        77\n",
      "         5.0       0.62      0.62      0.62        80\n",
      "         6.0       0.00      0.00      0.00         4\n",
      "\n",
      "    accuracy                           0.60       169\n",
      "   macro avg       0.30      0.32      0.31       169\n",
      "weighted avg       0.56      0.60      0.58       169\n",
      "\n"
     ]
    }
   ],
   "source": [
    "print(classification_report(y_test, pred_test))"
   ]
  },
  {
   "cell_type": "code",
   "execution_count": 9520,
   "id": "04fb5743",
   "metadata": {},
   "outputs": [
    {
     "data": {
      "text/html": [
       "<div>\n",
       "<style scoped>\n",
       "    .dataframe tbody tr th:only-of-type {\n",
       "        vertical-align: middle;\n",
       "    }\n",
       "\n",
       "    .dataframe tbody tr th {\n",
       "        vertical-align: top;\n",
       "    }\n",
       "\n",
       "    .dataframe thead th {\n",
       "        text-align: right;\n",
       "    }\n",
       "</style>\n",
       "<table border=\"1\" class=\"dataframe\">\n",
       "  <thead>\n",
       "    <tr style=\"text-align: right;\">\n",
       "      <th></th>\n",
       "      <th>model</th>\n",
       "      <th>recall</th>\n",
       "    </tr>\n",
       "  </thead>\n",
       "  <tbody>\n",
       "    <tr>\n",
       "      <th>0</th>\n",
       "      <td>log_reg</td>\n",
       "      <td>0.32</td>\n",
       "    </tr>\n",
       "  </tbody>\n",
       "</table>\n",
       "</div>"
      ],
      "text/plain": [
       "     model  recall\n",
       "0  log_reg    0.32"
      ]
     },
     "execution_count": 9520,
     "metadata": {},
     "output_type": "execute_result"
    }
   ],
   "source": [
    "total_score_3 = []\n",
    "total_score_3.append({      'model': 'log_reg',\n",
    "                           'recall': r_s})\n",
    "pd.DataFrame(total_score_3)"
   ]
  },
  {
   "cell_type": "markdown",
   "id": "a2933f78",
   "metadata": {},
   "source": [
    "**RFC**"
   ]
  },
  {
   "cell_type": "code",
   "execution_count": 9521,
   "id": "e1e38e8a",
   "metadata": {},
   "outputs": [],
   "source": [
    "clf = RandomForestClassifier(random_state=12345)\n"
   ]
  },
  {
   "cell_type": "code",
   "execution_count": 9522,
   "id": "7d9da25c",
   "metadata": {},
   "outputs": [],
   "source": [
    "parametrs = { 'max_depth': [3, 6, 12],\n",
    "              'n_estimators': [10, 20, 50, 100],\n",
    "            'min_samples_leaf': [5, 10, 20]}"
   ]
  },
  {
   "cell_type": "code",
   "execution_count": 9523,
   "id": "9b5bb0fb",
   "metadata": {},
   "outputs": [
    {
     "name": "stdout",
     "output_type": "stream",
     "text": [
      "CPU times: total: 9.55 s\n",
      "Wall time: 9.55 s\n"
     ]
    },
    {
     "data": {
      "text/plain": [
       "{'max_depth': 6, 'min_samples_leaf': 20, 'n_estimators': 10}"
      ]
     },
     "execution_count": 9523,
     "metadata": {},
     "output_type": "execute_result"
    }
   ],
   "source": [
    "%%time\n",
    "clf = GridSearchCV(clf, parametrs, cv=5)\n",
    "clf.fit(X_train, y_train)\n",
    "clf.best_params_"
   ]
  },
  {
   "cell_type": "code",
   "execution_count": 9524,
   "id": "728fb882",
   "metadata": {},
   "outputs": [],
   "source": [
    "pred_train = clf.predict(X_train)\n",
    "pred_test = clf.predict(X_test)"
   ]
  },
  {
   "cell_type": "code",
   "execution_count": 9525,
   "id": "9a8609c5",
   "metadata": {
    "scrolled": true
   },
   "outputs": [
    {
     "data": {
      "text/plain": [
       "0.3411969748183201"
      ]
     },
     "execution_count": 9525,
     "metadata": {},
     "output_type": "execute_result"
    }
   ],
   "source": [
    "f1_score(y_train, pred_train, average='macro', zero_division = 0)"
   ]
  },
  {
   "cell_type": "code",
   "execution_count": 9526,
   "id": "fdb38d81",
   "metadata": {
    "scrolled": true
   },
   "outputs": [
    {
     "data": {
      "text/plain": [
       "0.3159509202453988"
      ]
     },
     "execution_count": 9526,
     "metadata": {},
     "output_type": "execute_result"
    }
   ],
   "source": [
    "f1_score(y_test, pred_test, average='macro', zero_division = 0)"
   ]
  },
  {
   "cell_type": "code",
   "execution_count": 9527,
   "id": "b8eacabd",
   "metadata": {},
   "outputs": [
    {
     "data": {
      "text/plain": [
       "0.3282061688311688"
      ]
     },
     "execution_count": 9527,
     "metadata": {},
     "output_type": "execute_result"
    }
   ],
   "source": [
    "r_s = recall_score(y_test, pred_test, average = 'macro', zero_division = 0)\n",
    "r_s"
   ]
  },
  {
   "cell_type": "code",
   "execution_count": 9528,
   "id": "f950b982",
   "metadata": {
    "scrolled": false
   },
   "outputs": [
    {
     "name": "stdout",
     "output_type": "stream",
     "text": [
      "              precision    recall  f1-score   support\n",
      "\n",
      "         3.0       0.00      0.00      0.00         8\n",
      "         4.0       0.60      0.68      0.64        77\n",
      "         5.0       0.61      0.64      0.63        80\n",
      "         6.0       0.00      0.00      0.00         4\n",
      "\n",
      "    accuracy                           0.61       169\n",
      "   macro avg       0.30      0.33      0.32       169\n",
      "weighted avg       0.57      0.61      0.59       169\n",
      "\n"
     ]
    }
   ],
   "source": [
    "print(classification_report(y_test, pred_test))"
   ]
  },
  {
   "cell_type": "code",
   "execution_count": 9529,
   "id": "3ae1d3f2",
   "metadata": {},
   "outputs": [
    {
     "data": {
      "text/html": [
       "<div>\n",
       "<style scoped>\n",
       "    .dataframe tbody tr th:only-of-type {\n",
       "        vertical-align: middle;\n",
       "    }\n",
       "\n",
       "    .dataframe tbody tr th {\n",
       "        vertical-align: top;\n",
       "    }\n",
       "\n",
       "    .dataframe thead th {\n",
       "        text-align: right;\n",
       "    }\n",
       "</style>\n",
       "<table border=\"1\" class=\"dataframe\">\n",
       "  <thead>\n",
       "    <tr style=\"text-align: right;\">\n",
       "      <th></th>\n",
       "      <th>model</th>\n",
       "      <th>recall</th>\n",
       "    </tr>\n",
       "  </thead>\n",
       "  <tbody>\n",
       "    <tr>\n",
       "      <th>0</th>\n",
       "      <td>log_reg</td>\n",
       "      <td>0.32</td>\n",
       "    </tr>\n",
       "    <tr>\n",
       "      <th>1</th>\n",
       "      <td>RFC</td>\n",
       "      <td>0.33</td>\n",
       "    </tr>\n",
       "  </tbody>\n",
       "</table>\n",
       "</div>"
      ],
      "text/plain": [
       "     model  recall\n",
       "0  log_reg    0.32\n",
       "1      RFC    0.33"
      ]
     },
     "execution_count": 9529,
     "metadata": {},
     "output_type": "execute_result"
    }
   ],
   "source": [
    "total_score_3.append({\n",
    "                           'model': 'RFC',\n",
    "                           'recall': r_s})\n",
    "pd.DataFrame(total_score_3)"
   ]
  },
  {
   "cell_type": "markdown",
   "id": "888461dc",
   "metadata": {},
   "source": [
    "**LGBM**"
   ]
  },
  {
   "cell_type": "code",
   "execution_count": 9530,
   "id": "2f8e57ed",
   "metadata": {},
   "outputs": [],
   "source": [
    "lgbm = LGBMClassifier()"
   ]
  },
  {
   "cell_type": "code",
   "execution_count": 9531,
   "id": "2e5b2ebe",
   "metadata": {},
   "outputs": [],
   "source": [
    "parameters_lgbm = {'max_depth': [3, 6, 12],\n",
    "                  'learning_rate':[0.01, 0.03, 0.1]}"
   ]
  },
  {
   "cell_type": "code",
   "execution_count": 9532,
   "id": "5a4f150f",
   "metadata": {},
   "outputs": [],
   "source": [
    "lgbm = GridSearchCV(lgbm, parameters_lgbm)"
   ]
  },
  {
   "cell_type": "code",
   "execution_count": 9533,
   "id": "59905bcc",
   "metadata": {},
   "outputs": [
    {
     "name": "stdout",
     "output_type": "stream",
     "text": [
      "CPU times: total: 19.8 s\n",
      "Wall time: 2.48 s\n"
     ]
    },
    {
     "data": {
      "text/plain": [
       "GridSearchCV(estimator=LGBMClassifier(),\n",
       "             param_grid={'learning_rate': [0.01, 0.03, 0.1],\n",
       "                         'max_depth': [3, 6, 12]})"
      ]
     },
     "execution_count": 9533,
     "metadata": {},
     "output_type": "execute_result"
    }
   ],
   "source": [
    "%%time\n",
    "lgbm.fit(X_train, y_train)"
   ]
  },
  {
   "cell_type": "code",
   "execution_count": 9534,
   "id": "f6eb0f31",
   "metadata": {},
   "outputs": [
    {
     "data": {
      "text/plain": [
       "{'learning_rate': 0.03, 'max_depth': 3}"
      ]
     },
     "execution_count": 9534,
     "metadata": {},
     "output_type": "execute_result"
    }
   ],
   "source": [
    "lgbm.best_params_"
   ]
  },
  {
   "cell_type": "code",
   "execution_count": 9535,
   "id": "0d832136",
   "metadata": {},
   "outputs": [],
   "source": [
    "pred_train = lgbm.predict(X_train)\n",
    "pred_test = lgbm.predict(X_test)"
   ]
  },
  {
   "cell_type": "code",
   "execution_count": 9536,
   "id": "97d57bdb",
   "metadata": {
    "scrolled": true
   },
   "outputs": [
    {
     "data": {
      "text/plain": [
       "0.633561951670366"
      ]
     },
     "execution_count": 9536,
     "metadata": {},
     "output_type": "execute_result"
    }
   ],
   "source": [
    "f1_score(y_train, pred_train, average='macro', zero_division = 0)"
   ]
  },
  {
   "cell_type": "code",
   "execution_count": 9537,
   "id": "1b3e21a7",
   "metadata": {
    "scrolled": false
   },
   "outputs": [
    {
     "data": {
      "text/plain": [
       "0.33133822699040083"
      ]
     },
     "execution_count": 9537,
     "metadata": {},
     "output_type": "execute_result"
    }
   ],
   "source": [
    "f1_score(y_test, pred_test, average='macro', zero_division = 0)"
   ]
  },
  {
   "cell_type": "code",
   "execution_count": 9538,
   "id": "f4262384",
   "metadata": {},
   "outputs": [
    {
     "data": {
      "text/plain": [
       "0.34407467532467534"
      ]
     },
     "execution_count": 9538,
     "metadata": {},
     "output_type": "execute_result"
    }
   ],
   "source": [
    "r_s = recall_score(y_test, pred_test, average = 'macro', zero_division = 0)\n",
    "r_s"
   ]
  },
  {
   "cell_type": "code",
   "execution_count": 9539,
   "id": "b7cb9317",
   "metadata": {
    "scrolled": false
   },
   "outputs": [
    {
     "name": "stdout",
     "output_type": "stream",
     "text": [
      "              precision    recall  f1-score   support\n",
      "\n",
      "         3.0       0.00      0.00      0.00         8\n",
      "         4.0       0.61      0.70      0.65        77\n",
      "         5.0       0.67      0.68      0.67        80\n",
      "         6.0       0.00      0.00      0.00         4\n",
      "\n",
      "    accuracy                           0.64       169\n",
      "   macro avg       0.32      0.34      0.33       169\n",
      "weighted avg       0.60      0.64      0.62       169\n",
      "\n"
     ]
    }
   ],
   "source": [
    "print(classification_report(y_test, pred_test))"
   ]
  },
  {
   "cell_type": "code",
   "execution_count": 9540,
   "id": "4ee2c11b",
   "metadata": {
    "scrolled": false
   },
   "outputs": [
    {
     "data": {
      "text/html": [
       "<div>\n",
       "<style scoped>\n",
       "    .dataframe tbody tr th:only-of-type {\n",
       "        vertical-align: middle;\n",
       "    }\n",
       "\n",
       "    .dataframe tbody tr th {\n",
       "        vertical-align: top;\n",
       "    }\n",
       "\n",
       "    .dataframe thead th {\n",
       "        text-align: right;\n",
       "    }\n",
       "</style>\n",
       "<table border=\"1\" class=\"dataframe\">\n",
       "  <thead>\n",
       "    <tr style=\"text-align: right;\">\n",
       "      <th></th>\n",
       "      <th>model</th>\n",
       "      <th>recall</th>\n",
       "    </tr>\n",
       "  </thead>\n",
       "  <tbody>\n",
       "    <tr>\n",
       "      <th>0</th>\n",
       "      <td>log_reg</td>\n",
       "      <td>0.32</td>\n",
       "    </tr>\n",
       "    <tr>\n",
       "      <th>1</th>\n",
       "      <td>RFC</td>\n",
       "      <td>0.33</td>\n",
       "    </tr>\n",
       "    <tr>\n",
       "      <th>2</th>\n",
       "      <td>LGBM</td>\n",
       "      <td>0.34</td>\n",
       "    </tr>\n",
       "  </tbody>\n",
       "</table>\n",
       "</div>"
      ],
      "text/plain": [
       "     model  recall\n",
       "0  log_reg    0.32\n",
       "1      RFC    0.33\n",
       "2     LGBM    0.34"
      ]
     },
     "execution_count": 9540,
     "metadata": {},
     "output_type": "execute_result"
    }
   ],
   "source": [
    "total_score_3.append({\n",
    "                           'model': 'LGBM',\n",
    "                           'recall': r_s})\n",
    "pd.DataFrame(total_score_3)"
   ]
  },
  {
   "cell_type": "code",
   "execution_count": 9541,
   "id": "0974da4a",
   "metadata": {},
   "outputs": [],
   "source": [
    "X_train = df_7.drop(col_drop, axis=1) \n",
    "y_train = df_7['Adaptability']\n",
    "lgbm.fit(X_train, y_train)\n",
    "model_3 = lgbm"
   ]
  },
  {
   "cell_type": "markdown",
   "id": "b3111784",
   "metadata": {},
   "source": [
    "## 'Focus' (в трейне: ОНЕ-решений, баллы и рейтинги)"
   ]
  },
  {
   "cell_type": "code",
   "execution_count": 9542,
   "id": "a39643b3",
   "metadata": {},
   "outputs": [
    {
     "data": {
      "text/html": [
       "<div>\n",
       "<style scoped>\n",
       "    .dataframe tbody tr th:only-of-type {\n",
       "        vertical-align: middle;\n",
       "    }\n",
       "\n",
       "    .dataframe tbody tr th {\n",
       "        vertical-align: top;\n",
       "    }\n",
       "\n",
       "    .dataframe thead th {\n",
       "        text-align: right;\n",
       "    }\n",
       "</style>\n",
       "<table border=\"1\" class=\"dataframe\">\n",
       "  <thead>\n",
       "    <tr style=\"text-align: right;\">\n",
       "      <th></th>\n",
       "      <th>Analytical thinking</th>\n",
       "      <th>Systemic thinking</th>\n",
       "      <th>Adaptability</th>\n",
       "      <th>Focus</th>\n",
       "      <th>game_id</th>\n",
       "      <th>total_score</th>\n",
       "      <th>cat_1</th>\n",
       "      <th>cat_2</th>\n",
       "      <th>cat_3</th>\n",
       "      <th>cat_4</th>\n",
       "      <th>cat_5</th>\n",
       "      <th>cat_6</th>\n",
       "      <th>score_rating</th>\n",
       "      <th>rating_1</th>\n",
       "      <th>rating_2</th>\n",
       "      <th>rating_3</th>\n",
       "      <th>rating_4</th>\n",
       "      <th>rating_5</th>\n",
       "      <th>rating_6</th>\n",
       "    </tr>\n",
       "    <tr>\n",
       "      <th>id</th>\n",
       "      <th></th>\n",
       "      <th></th>\n",
       "      <th></th>\n",
       "      <th></th>\n",
       "      <th></th>\n",
       "      <th></th>\n",
       "      <th></th>\n",
       "      <th></th>\n",
       "      <th></th>\n",
       "      <th></th>\n",
       "      <th></th>\n",
       "      <th></th>\n",
       "      <th></th>\n",
       "      <th></th>\n",
       "      <th></th>\n",
       "      <th></th>\n",
       "      <th></th>\n",
       "      <th></th>\n",
       "      <th></th>\n",
       "    </tr>\n",
       "  </thead>\n",
       "  <tbody>\n",
       "    <tr>\n",
       "      <th>10884</th>\n",
       "      <td>4.00</td>\n",
       "      <td>4.00</td>\n",
       "      <td>4.00</td>\n",
       "      <td>4.00</td>\n",
       "      <td>202</td>\n",
       "      <td>872</td>\n",
       "      <td>-9.00</td>\n",
       "      <td>-41.00</td>\n",
       "      <td>288.00</td>\n",
       "      <td>101.00</td>\n",
       "      <td>97.00</td>\n",
       "      <td>436.00</td>\n",
       "      <td>0.48</td>\n",
       "      <td>-0.08</td>\n",
       "      <td>-0.23</td>\n",
       "      <td>0.71</td>\n",
       "      <td>0.70</td>\n",
       "      <td>1.00</td>\n",
       "      <td>0.48</td>\n",
       "    </tr>\n",
       "    <tr>\n",
       "      <th>10106</th>\n",
       "      <td>5.00</td>\n",
       "      <td>4.00</td>\n",
       "      <td>5.00</td>\n",
       "      <td>5.00</td>\n",
       "      <td>211</td>\n",
       "      <td>1512</td>\n",
       "      <td>50.00</td>\n",
       "      <td>104.00</td>\n",
       "      <td>364.00</td>\n",
       "      <td>133.00</td>\n",
       "      <td>105.00</td>\n",
       "      <td>756.00</td>\n",
       "      <td>1.00</td>\n",
       "      <td>1.00</td>\n",
       "      <td>0.88</td>\n",
       "      <td>0.98</td>\n",
       "      <td>0.88</td>\n",
       "      <td>1.00</td>\n",
       "      <td>1.00</td>\n",
       "    </tr>\n",
       "    <tr>\n",
       "      <th>10438</th>\n",
       "      <td>6.00</td>\n",
       "      <td>5.00</td>\n",
       "      <td>5.00</td>\n",
       "      <td>5.00</td>\n",
       "      <td>242</td>\n",
       "      <td>1288</td>\n",
       "      <td>51.00</td>\n",
       "      <td>44.00</td>\n",
       "      <td>280.00</td>\n",
       "      <td>131.00</td>\n",
       "      <td>138.00</td>\n",
       "      <td>644.00</td>\n",
       "      <td>1.00</td>\n",
       "      <td>1.00</td>\n",
       "      <td>0.62</td>\n",
       "      <td>0.98</td>\n",
       "      <td>1.00</td>\n",
       "      <td>0.80</td>\n",
       "      <td>1.00</td>\n",
       "    </tr>\n",
       "    <tr>\n",
       "      <th>10130</th>\n",
       "      <td>5.00</td>\n",
       "      <td>4.00</td>\n",
       "      <td>5.00</td>\n",
       "      <td>5.00</td>\n",
       "      <td>184</td>\n",
       "      <td>1018</td>\n",
       "      <td>27.00</td>\n",
       "      <td>8.00</td>\n",
       "      <td>263.00</td>\n",
       "      <td>112.00</td>\n",
       "      <td>99.00</td>\n",
       "      <td>509.00</td>\n",
       "      <td>0.56</td>\n",
       "      <td>0.28</td>\n",
       "      <td>0.04</td>\n",
       "      <td>0.64</td>\n",
       "      <td>0.65</td>\n",
       "      <td>1.00</td>\n",
       "      <td>0.56</td>\n",
       "    </tr>\n",
       "    <tr>\n",
       "      <th>10667</th>\n",
       "      <td>4.00</td>\n",
       "      <td>5.00</td>\n",
       "      <td>5.00</td>\n",
       "      <td>5.00</td>\n",
       "      <td>193</td>\n",
       "      <td>1440</td>\n",
       "      <td>67.00</td>\n",
       "      <td>54.00</td>\n",
       "      <td>313.00</td>\n",
       "      <td>139.00</td>\n",
       "      <td>147.00</td>\n",
       "      <td>720.00</td>\n",
       "      <td>0.67</td>\n",
       "      <td>0.40</td>\n",
       "      <td>0.22</td>\n",
       "      <td>0.96</td>\n",
       "      <td>0.77</td>\n",
       "      <td>0.86</td>\n",
       "      <td>0.67</td>\n",
       "    </tr>\n",
       "  </tbody>\n",
       "</table>\n",
       "</div>"
      ],
      "text/plain": [
       "       Analytical thinking  Systemic thinking  Adaptability  Focus  game_id  \\\n",
       "id                                                                            \n",
       "10884                 4.00               4.00          4.00   4.00      202   \n",
       "10106                 5.00               4.00          5.00   5.00      211   \n",
       "10438                 6.00               5.00          5.00   5.00      242   \n",
       "10130                 5.00               4.00          5.00   5.00      184   \n",
       "10667                 4.00               5.00          5.00   5.00      193   \n",
       "\n",
       "       total_score  cat_1  cat_2  cat_3  cat_4  cat_5  cat_6  score_rating  \\\n",
       "id                                                                           \n",
       "10884          872  -9.00 -41.00 288.00 101.00  97.00 436.00          0.48   \n",
       "10106         1512  50.00 104.00 364.00 133.00 105.00 756.00          1.00   \n",
       "10438         1288  51.00  44.00 280.00 131.00 138.00 644.00          1.00   \n",
       "10130         1018  27.00   8.00 263.00 112.00  99.00 509.00          0.56   \n",
       "10667         1440  67.00  54.00 313.00 139.00 147.00 720.00          0.67   \n",
       "\n",
       "       rating_1  rating_2  rating_3  rating_4  rating_5  rating_6  \n",
       "id                                                                 \n",
       "10884     -0.08     -0.23      0.71      0.70      1.00      0.48  \n",
       "10106      1.00      0.88      0.98      0.88      1.00      1.00  \n",
       "10438      1.00      0.62      0.98      1.00      0.80      1.00  \n",
       "10130      0.28      0.04      0.64      0.65      1.00      0.56  \n",
       "10667      0.40      0.22      0.96      0.77      0.86      0.67  "
      ]
     },
     "execution_count": 9542,
     "metadata": {},
     "output_type": "execute_result"
    }
   ],
   "source": [
    "df_score.head()"
   ]
  },
  {
   "cell_type": "code",
   "execution_count": 9543,
   "id": "ad5898a7",
   "metadata": {
    "scrolled": false
   },
   "outputs": [
    {
     "data": {
      "text/html": [
       "<div>\n",
       "<style scoped>\n",
       "    .dataframe tbody tr th:only-of-type {\n",
       "        vertical-align: middle;\n",
       "    }\n",
       "\n",
       "    .dataframe tbody tr th {\n",
       "        vertical-align: top;\n",
       "    }\n",
       "\n",
       "    .dataframe thead th {\n",
       "        text-align: right;\n",
       "    }\n",
       "</style>\n",
       "<table border=\"1\" class=\"dataframe\">\n",
       "  <thead>\n",
       "    <tr style=\"text-align: right;\">\n",
       "      <th></th>\n",
       "      <th>Analytical thinking</th>\n",
       "      <th>Systemic thinking</th>\n",
       "      <th>Adaptability</th>\n",
       "      <th>Focus</th>\n",
       "      <th>1</th>\n",
       "      <th>2</th>\n",
       "      <th>3</th>\n",
       "      <th>4</th>\n",
       "      <th>5</th>\n",
       "      <th>6</th>\n",
       "      <th>...</th>\n",
       "      <th>430</th>\n",
       "      <th>431</th>\n",
       "      <th>432</th>\n",
       "      <th>433</th>\n",
       "      <th>434</th>\n",
       "      <th>435</th>\n",
       "      <th>436</th>\n",
       "      <th>437</th>\n",
       "      <th>438</th>\n",
       "      <th>total</th>\n",
       "    </tr>\n",
       "    <tr>\n",
       "      <th>index</th>\n",
       "      <th></th>\n",
       "      <th></th>\n",
       "      <th></th>\n",
       "      <th></th>\n",
       "      <th></th>\n",
       "      <th></th>\n",
       "      <th></th>\n",
       "      <th></th>\n",
       "      <th></th>\n",
       "      <th></th>\n",
       "      <th></th>\n",
       "      <th></th>\n",
       "      <th></th>\n",
       "      <th></th>\n",
       "      <th></th>\n",
       "      <th></th>\n",
       "      <th></th>\n",
       "      <th></th>\n",
       "      <th></th>\n",
       "      <th></th>\n",
       "      <th></th>\n",
       "    </tr>\n",
       "  </thead>\n",
       "  <tbody>\n",
       "    <tr>\n",
       "      <th>10001</th>\n",
       "      <td>4.00</td>\n",
       "      <td>4.00</td>\n",
       "      <td>5.00</td>\n",
       "      <td>4.00</td>\n",
       "      <td>0.00</td>\n",
       "      <td>0.00</td>\n",
       "      <td>0.00</td>\n",
       "      <td>0.00</td>\n",
       "      <td>0.00</td>\n",
       "      <td>0.00</td>\n",
       "      <td>...</td>\n",
       "      <td>0.00</td>\n",
       "      <td>0.00</td>\n",
       "      <td>0.00</td>\n",
       "      <td>0.00</td>\n",
       "      <td>0.00</td>\n",
       "      <td>0.00</td>\n",
       "      <td>0.00</td>\n",
       "      <td>0.00</td>\n",
       "      <td>0</td>\n",
       "      <td>0.00</td>\n",
       "    </tr>\n",
       "  </tbody>\n",
       "</table>\n",
       "<p>1 rows × 443 columns</p>\n",
       "</div>"
      ],
      "text/plain": [
       "       Analytical thinking  Systemic thinking  Adaptability  Focus    1    2  \\\n",
       "index                                                                          \n",
       "10001                 4.00               4.00          5.00   4.00 0.00 0.00   \n",
       "\n",
       "         3    4    5    6  ...  430  431  432  433  434  435  436  437  438  \\\n",
       "index                      ...                                                \n",
       "10001 0.00 0.00 0.00 0.00  ... 0.00 0.00 0.00 0.00 0.00 0.00 0.00 0.00    0   \n",
       "\n",
       "       total  \n",
       "index         \n",
       "10001   0.00  \n",
       "\n",
       "[1 rows x 443 columns]"
      ]
     },
     "execution_count": 9543,
     "metadata": {},
     "output_type": "execute_result"
    }
   ],
   "source": [
    "df_4.head(1)"
   ]
  },
  {
   "cell_type": "code",
   "execution_count": 9544,
   "id": "97d422db",
   "metadata": {},
   "outputs": [],
   "source": [
    "col_drop = ['Analytical thinking', 'Systemic thinking', 'Adaptability','Focus']"
   ]
  },
  {
   "cell_type": "code",
   "execution_count": 9545,
   "id": "4f41a38e",
   "metadata": {},
   "outputs": [],
   "source": [
    "df_7 = df_score.join(df_4.drop(col_drop, axis=1))"
   ]
  },
  {
   "cell_type": "code",
   "execution_count": 9546,
   "id": "64bd01b0",
   "metadata": {
    "scrolled": true
   },
   "outputs": [
    {
     "data": {
      "text/html": [
       "<div>\n",
       "<style scoped>\n",
       "    .dataframe tbody tr th:only-of-type {\n",
       "        vertical-align: middle;\n",
       "    }\n",
       "\n",
       "    .dataframe tbody tr th {\n",
       "        vertical-align: top;\n",
       "    }\n",
       "\n",
       "    .dataframe thead th {\n",
       "        text-align: right;\n",
       "    }\n",
       "</style>\n",
       "<table border=\"1\" class=\"dataframe\">\n",
       "  <thead>\n",
       "    <tr style=\"text-align: right;\">\n",
       "      <th></th>\n",
       "      <th>Analytical thinking</th>\n",
       "      <th>Systemic thinking</th>\n",
       "      <th>Adaptability</th>\n",
       "      <th>Focus</th>\n",
       "      <th>game_id</th>\n",
       "      <th>total_score</th>\n",
       "      <th>cat_1</th>\n",
       "      <th>cat_2</th>\n",
       "      <th>cat_3</th>\n",
       "      <th>cat_4</th>\n",
       "      <th>...</th>\n",
       "      <th>430</th>\n",
       "      <th>431</th>\n",
       "      <th>432</th>\n",
       "      <th>433</th>\n",
       "      <th>434</th>\n",
       "      <th>435</th>\n",
       "      <th>436</th>\n",
       "      <th>437</th>\n",
       "      <th>438</th>\n",
       "      <th>total</th>\n",
       "    </tr>\n",
       "    <tr>\n",
       "      <th>id</th>\n",
       "      <th></th>\n",
       "      <th></th>\n",
       "      <th></th>\n",
       "      <th></th>\n",
       "      <th></th>\n",
       "      <th></th>\n",
       "      <th></th>\n",
       "      <th></th>\n",
       "      <th></th>\n",
       "      <th></th>\n",
       "      <th></th>\n",
       "      <th></th>\n",
       "      <th></th>\n",
       "      <th></th>\n",
       "      <th></th>\n",
       "      <th></th>\n",
       "      <th></th>\n",
       "      <th></th>\n",
       "      <th></th>\n",
       "      <th></th>\n",
       "      <th></th>\n",
       "    </tr>\n",
       "  </thead>\n",
       "  <tbody>\n",
       "    <tr>\n",
       "      <th>10884</th>\n",
       "      <td>4.00</td>\n",
       "      <td>4.00</td>\n",
       "      <td>4.00</td>\n",
       "      <td>4.00</td>\n",
       "      <td>202</td>\n",
       "      <td>872</td>\n",
       "      <td>-9.00</td>\n",
       "      <td>-41.00</td>\n",
       "      <td>288.00</td>\n",
       "      <td>101.00</td>\n",
       "      <td>...</td>\n",
       "      <td>0.00</td>\n",
       "      <td>0.00</td>\n",
       "      <td>0.00</td>\n",
       "      <td>0.00</td>\n",
       "      <td>0.00</td>\n",
       "      <td>0.00</td>\n",
       "      <td>0.00</td>\n",
       "      <td>0.00</td>\n",
       "      <td>0</td>\n",
       "      <td>0.00</td>\n",
       "    </tr>\n",
       "  </tbody>\n",
       "</table>\n",
       "<p>1 rows × 458 columns</p>\n",
       "</div>"
      ],
      "text/plain": [
       "       Analytical thinking  Systemic thinking  Adaptability  Focus  game_id  \\\n",
       "id                                                                            \n",
       "10884                 4.00               4.00          4.00   4.00      202   \n",
       "\n",
       "       total_score  cat_1  cat_2  cat_3  cat_4  ...  430  431  432  433  434  \\\n",
       "id                                              ...                            \n",
       "10884          872  -9.00 -41.00 288.00 101.00  ... 0.00 0.00 0.00 0.00 0.00   \n",
       "\n",
       "       435  436  437  438  total  \n",
       "id                                \n",
       "10884 0.00 0.00 0.00    0   0.00  \n",
       "\n",
       "[1 rows x 458 columns]"
      ]
     },
     "execution_count": 9546,
     "metadata": {},
     "output_type": "execute_result"
    }
   ],
   "source": [
    "df_7.head(1)"
   ]
  },
  {
   "cell_type": "code",
   "execution_count": 9547,
   "id": "d31829ec",
   "metadata": {},
   "outputs": [],
   "source": [
    "df_7['max_total'] = df_7.groupby('game_id')['total'].transform('max')"
   ]
  },
  {
   "cell_type": "code",
   "execution_count": 9548,
   "id": "86dd28a2",
   "metadata": {},
   "outputs": [],
   "source": [
    "df_7['rating_user'] = df_7['total'] / df_7['max_total']"
   ]
  },
  {
   "cell_type": "code",
   "execution_count": 9549,
   "id": "99dd1cac",
   "metadata": {},
   "outputs": [
    {
     "data": {
      "text/plain": [
       "(674, 460)"
      ]
     },
     "execution_count": 9549,
     "metadata": {},
     "output_type": "execute_result"
    }
   ],
   "source": [
    "df_7 = df_7[df_7['Analytical thinking']>2]\n",
    "df_7 = df_7[df_7['Systemic thinking']>2]\n",
    "df_7 = df_7[df_7['Adaptability']>2]\n",
    "df_7 = df_7[df_7['Focus']>2]\n",
    "df_7.shape"
   ]
  },
  {
   "cell_type": "code",
   "execution_count": 9550,
   "id": "0c6a7238",
   "metadata": {},
   "outputs": [],
   "source": [
    "for i in range(1, 439):\n",
    "    df_7 = df_7.drop(str(i), axis=1)    "
   ]
  },
  {
   "cell_type": "code",
   "execution_count": 9551,
   "id": "fad8b2ad",
   "metadata": {},
   "outputs": [
    {
     "data": {
      "text/html": [
       "<div>\n",
       "<style scoped>\n",
       "    .dataframe tbody tr th:only-of-type {\n",
       "        vertical-align: middle;\n",
       "    }\n",
       "\n",
       "    .dataframe tbody tr th {\n",
       "        vertical-align: top;\n",
       "    }\n",
       "\n",
       "    .dataframe thead th {\n",
       "        text-align: right;\n",
       "    }\n",
       "</style>\n",
       "<table border=\"1\" class=\"dataframe\">\n",
       "  <thead>\n",
       "    <tr style=\"text-align: right;\">\n",
       "      <th></th>\n",
       "      <th>Analytical thinking</th>\n",
       "      <th>Systemic thinking</th>\n",
       "      <th>Adaptability</th>\n",
       "      <th>Focus</th>\n",
       "      <th>game_id</th>\n",
       "      <th>total_score</th>\n",
       "      <th>cat_1</th>\n",
       "      <th>cat_2</th>\n",
       "      <th>cat_3</th>\n",
       "      <th>cat_4</th>\n",
       "      <th>...</th>\n",
       "      <th>score_rating</th>\n",
       "      <th>rating_1</th>\n",
       "      <th>rating_2</th>\n",
       "      <th>rating_3</th>\n",
       "      <th>rating_4</th>\n",
       "      <th>rating_5</th>\n",
       "      <th>rating_6</th>\n",
       "      <th>total</th>\n",
       "      <th>max_total</th>\n",
       "      <th>rating_user</th>\n",
       "    </tr>\n",
       "    <tr>\n",
       "      <th>id</th>\n",
       "      <th></th>\n",
       "      <th></th>\n",
       "      <th></th>\n",
       "      <th></th>\n",
       "      <th></th>\n",
       "      <th></th>\n",
       "      <th></th>\n",
       "      <th></th>\n",
       "      <th></th>\n",
       "      <th></th>\n",
       "      <th></th>\n",
       "      <th></th>\n",
       "      <th></th>\n",
       "      <th></th>\n",
       "      <th></th>\n",
       "      <th></th>\n",
       "      <th></th>\n",
       "      <th></th>\n",
       "      <th></th>\n",
       "      <th></th>\n",
       "      <th></th>\n",
       "    </tr>\n",
       "  </thead>\n",
       "  <tbody>\n",
       "    <tr>\n",
       "      <th>10884</th>\n",
       "      <td>4.00</td>\n",
       "      <td>4.00</td>\n",
       "      <td>4.00</td>\n",
       "      <td>4.00</td>\n",
       "      <td>202</td>\n",
       "      <td>872</td>\n",
       "      <td>-9.00</td>\n",
       "      <td>-41.00</td>\n",
       "      <td>288.00</td>\n",
       "      <td>101.00</td>\n",
       "      <td>...</td>\n",
       "      <td>0.48</td>\n",
       "      <td>-0.08</td>\n",
       "      <td>-0.23</td>\n",
       "      <td>0.71</td>\n",
       "      <td>0.70</td>\n",
       "      <td>1.00</td>\n",
       "      <td>0.48</td>\n",
       "      <td>0.00</td>\n",
       "      <td>0.00</td>\n",
       "      <td>0.39</td>\n",
       "    </tr>\n",
       "  </tbody>\n",
       "</table>\n",
       "<p>1 rows × 22 columns</p>\n",
       "</div>"
      ],
      "text/plain": [
       "       Analytical thinking  Systemic thinking  Adaptability  Focus  game_id  \\\n",
       "id                                                                            \n",
       "10884                 4.00               4.00          4.00   4.00      202   \n",
       "\n",
       "       total_score  cat_1  cat_2  cat_3  cat_4  ...  score_rating  rating_1  \\\n",
       "id                                              ...                           \n",
       "10884          872  -9.00 -41.00 288.00 101.00  ...          0.48     -0.08   \n",
       "\n",
       "       rating_2  rating_3  rating_4  rating_5  rating_6  total  max_total  \\\n",
       "id                                                                          \n",
       "10884     -0.23      0.71      0.70      1.00      0.48   0.00       0.00   \n",
       "\n",
       "       rating_user  \n",
       "id                  \n",
       "10884         0.39  \n",
       "\n",
       "[1 rows x 22 columns]"
      ]
     },
     "execution_count": 9551,
     "metadata": {},
     "output_type": "execute_result"
    }
   ],
   "source": [
    "df_7.head(1)"
   ]
  },
  {
   "cell_type": "code",
   "execution_count": 9552,
   "id": "f956cf05",
   "metadata": {},
   "outputs": [],
   "source": [
    "col_drop = ['Analytical thinking', 'Systemic thinking', 'Adaptability', \n",
    "            'Focus', 'max_total']"
   ]
  },
  {
   "cell_type": "code",
   "execution_count": 9553,
   "id": "dd495ac1",
   "metadata": {},
   "outputs": [],
   "source": [
    "X_train, X_test, y_train, y_test = train_test_split(\n",
    "    df_7.drop(col_drop, axis=1), df_7['Focus'], stratify = df_7['Focus'], test_size=0.25, random_state=12345)"
   ]
  },
  {
   "cell_type": "code",
   "execution_count": 9554,
   "id": "02c621cb",
   "metadata": {
    "scrolled": true
   },
   "outputs": [
    {
     "name": "stdout",
     "output_type": "stream",
     "text": [
      "(505, 17)\n",
      "(505,)\n"
     ]
    }
   ],
   "source": [
    "print(X_train.shape)\n",
    "print(y_train.shape)"
   ]
  },
  {
   "cell_type": "code",
   "execution_count": 9555,
   "id": "44f4bdc7",
   "metadata": {
    "scrolled": false
   },
   "outputs": [
    {
     "data": {
      "text/html": [
       "<div>\n",
       "<style scoped>\n",
       "    .dataframe tbody tr th:only-of-type {\n",
       "        vertical-align: middle;\n",
       "    }\n",
       "\n",
       "    .dataframe tbody tr th {\n",
       "        vertical-align: top;\n",
       "    }\n",
       "\n",
       "    .dataframe thead th {\n",
       "        text-align: right;\n",
       "    }\n",
       "</style>\n",
       "<table border=\"1\" class=\"dataframe\">\n",
       "  <thead>\n",
       "    <tr style=\"text-align: right;\">\n",
       "      <th></th>\n",
       "      <th>game_id</th>\n",
       "      <th>total_score</th>\n",
       "      <th>cat_1</th>\n",
       "      <th>cat_2</th>\n",
       "      <th>cat_3</th>\n",
       "      <th>cat_4</th>\n",
       "      <th>cat_5</th>\n",
       "      <th>cat_6</th>\n",
       "      <th>score_rating</th>\n",
       "      <th>rating_1</th>\n",
       "      <th>rating_2</th>\n",
       "      <th>rating_3</th>\n",
       "      <th>rating_4</th>\n",
       "      <th>rating_5</th>\n",
       "      <th>rating_6</th>\n",
       "      <th>total</th>\n",
       "      <th>rating_user</th>\n",
       "    </tr>\n",
       "    <tr>\n",
       "      <th>id</th>\n",
       "      <th></th>\n",
       "      <th></th>\n",
       "      <th></th>\n",
       "      <th></th>\n",
       "      <th></th>\n",
       "      <th></th>\n",
       "      <th></th>\n",
       "      <th></th>\n",
       "      <th></th>\n",
       "      <th></th>\n",
       "      <th></th>\n",
       "      <th></th>\n",
       "      <th></th>\n",
       "      <th></th>\n",
       "      <th></th>\n",
       "      <th></th>\n",
       "      <th></th>\n",
       "    </tr>\n",
       "  </thead>\n",
       "  <tbody>\n",
       "    <tr>\n",
       "      <th>10390</th>\n",
       "      <td>236</td>\n",
       "      <td>2018</td>\n",
       "      <td>128.00</td>\n",
       "      <td>208.00</td>\n",
       "      <td>432.00</td>\n",
       "      <td>161.00</td>\n",
       "      <td>80.00</td>\n",
       "      <td>1,009.00</td>\n",
       "      <td>0.74</td>\n",
       "      <td>0.55</td>\n",
       "      <td>0.59</td>\n",
       "      <td>1.00</td>\n",
       "      <td>0.64</td>\n",
       "      <td>0.85</td>\n",
       "      <td>0.74</td>\n",
       "      <td>0.00</td>\n",
       "      <td>0.00</td>\n",
       "    </tr>\n",
       "    <tr>\n",
       "      <th>10694</th>\n",
       "      <td>238</td>\n",
       "      <td>1602</td>\n",
       "      <td>67.00</td>\n",
       "      <td>99.00</td>\n",
       "      <td>392.00</td>\n",
       "      <td>146.00</td>\n",
       "      <td>97.00</td>\n",
       "      <td>801.00</td>\n",
       "      <td>0.89</td>\n",
       "      <td>0.70</td>\n",
       "      <td>0.50</td>\n",
       "      <td>1.00</td>\n",
       "      <td>0.94</td>\n",
       "      <td>0.78</td>\n",
       "      <td>0.89</td>\n",
       "      <td>0.00</td>\n",
       "      <td>0.75</td>\n",
       "    </tr>\n",
       "    <tr>\n",
       "      <th>10811</th>\n",
       "      <td>237</td>\n",
       "      <td>1350</td>\n",
       "      <td>48.00</td>\n",
       "      <td>73.00</td>\n",
       "      <td>289.00</td>\n",
       "      <td>138.00</td>\n",
       "      <td>127.00</td>\n",
       "      <td>675.00</td>\n",
       "      <td>0.92</td>\n",
       "      <td>0.63</td>\n",
       "      <td>0.48</td>\n",
       "      <td>0.93</td>\n",
       "      <td>0.86</td>\n",
       "      <td>0.98</td>\n",
       "      <td>0.92</td>\n",
       "      <td>0.00</td>\n",
       "      <td>0.02</td>\n",
       "    </tr>\n",
       "    <tr>\n",
       "      <th>10140</th>\n",
       "      <td>233</td>\n",
       "      <td>1706</td>\n",
       "      <td>89.00</td>\n",
       "      <td>166.00</td>\n",
       "      <td>343.00</td>\n",
       "      <td>164.00</td>\n",
       "      <td>91.00</td>\n",
       "      <td>853.00</td>\n",
       "      <td>1.00</td>\n",
       "      <td>1.00</td>\n",
       "      <td>1.00</td>\n",
       "      <td>1.00</td>\n",
       "      <td>1.00</td>\n",
       "      <td>0.98</td>\n",
       "      <td>1.00</td>\n",
       "      <td>0.00</td>\n",
       "      <td>1.00</td>\n",
       "    </tr>\n",
       "    <tr>\n",
       "      <th>10903</th>\n",
       "      <td>243</td>\n",
       "      <td>864</td>\n",
       "      <td>-25.00</td>\n",
       "      <td>-7.00</td>\n",
       "      <td>270.00</td>\n",
       "      <td>91.00</td>\n",
       "      <td>103.00</td>\n",
       "      <td>432.00</td>\n",
       "      <td>0.61</td>\n",
       "      <td>-0.86</td>\n",
       "      <td>-0.07</td>\n",
       "      <td>0.72</td>\n",
       "      <td>0.68</td>\n",
       "      <td>0.96</td>\n",
       "      <td>0.61</td>\n",
       "      <td>0.00</td>\n",
       "      <td>0.07</td>\n",
       "    </tr>\n",
       "  </tbody>\n",
       "</table>\n",
       "</div>"
      ],
      "text/plain": [
       "       game_id  total_score  cat_1  cat_2  cat_3  cat_4  cat_5    cat_6  \\\n",
       "id                                                                        \n",
       "10390      236         2018 128.00 208.00 432.00 161.00  80.00 1,009.00   \n",
       "10694      238         1602  67.00  99.00 392.00 146.00  97.00   801.00   \n",
       "10811      237         1350  48.00  73.00 289.00 138.00 127.00   675.00   \n",
       "10140      233         1706  89.00 166.00 343.00 164.00  91.00   853.00   \n",
       "10903      243          864 -25.00  -7.00 270.00  91.00 103.00   432.00   \n",
       "\n",
       "       score_rating  rating_1  rating_2  rating_3  rating_4  rating_5  \\\n",
       "id                                                                      \n",
       "10390          0.74      0.55      0.59      1.00      0.64      0.85   \n",
       "10694          0.89      0.70      0.50      1.00      0.94      0.78   \n",
       "10811          0.92      0.63      0.48      0.93      0.86      0.98   \n",
       "10140          1.00      1.00      1.00      1.00      1.00      0.98   \n",
       "10903          0.61     -0.86     -0.07      0.72      0.68      0.96   \n",
       "\n",
       "       rating_6  total  rating_user  \n",
       "id                                   \n",
       "10390      0.74   0.00         0.00  \n",
       "10694      0.89   0.00         0.75  \n",
       "10811      0.92   0.00         0.02  \n",
       "10140      1.00   0.00         1.00  \n",
       "10903      0.61   0.00         0.07  "
      ]
     },
     "execution_count": 9555,
     "metadata": {},
     "output_type": "execute_result"
    }
   ],
   "source": [
    "X_train.head()"
   ]
  },
  {
   "cell_type": "code",
   "execution_count": 9556,
   "id": "be42d72f",
   "metadata": {},
   "outputs": [],
   "source": [
    "scaler_4 = StandardScaler()\n",
    "scaler_4.fit(X_train)\n",
    "X_train = scaler_4.transform(X_train)\n",
    "X_test = scaler_4.transform(X_test)"
   ]
  },
  {
   "cell_type": "markdown",
   "id": "ec22a4ca",
   "metadata": {},
   "source": [
    "**LogReg**"
   ]
  },
  {
   "cell_type": "code",
   "execution_count": 9557,
   "id": "f9b1af80",
   "metadata": {
    "scrolled": true
   },
   "outputs": [],
   "source": [
    "model = LogisticRegression()"
   ]
  },
  {
   "cell_type": "code",
   "execution_count": 9558,
   "id": "5e7b375c",
   "metadata": {},
   "outputs": [],
   "source": [
    "parametrs = { 'penalty': ['l1', 'l2', 'elasticnet'],\n",
    "              'fit_intercept': [True, False] }"
   ]
  },
  {
   "cell_type": "code",
   "execution_count": 9559,
   "id": "41c33c87",
   "metadata": {},
   "outputs": [
    {
     "name": "stdout",
     "output_type": "stream",
     "text": [
      "CPU times: total: 266 ms\n",
      "Wall time: 240 ms\n"
     ]
    },
    {
     "data": {
      "text/plain": [
       "{'fit_intercept': True, 'penalty': 'l2'}"
      ]
     },
     "execution_count": 9559,
     "metadata": {},
     "output_type": "execute_result"
    }
   ],
   "source": [
    "%%time\n",
    "model = GridSearchCV(model, parametrs, cv=5)\n",
    "model.fit(X_train, y_train)\n",
    "model.best_params_"
   ]
  },
  {
   "cell_type": "code",
   "execution_count": 9560,
   "id": "8f6c677c",
   "metadata": {},
   "outputs": [],
   "source": [
    "pred_train = model.predict(X_train)\n",
    "pred_test = model.predict(X_test)"
   ]
  },
  {
   "cell_type": "code",
   "execution_count": 9561,
   "id": "9c1a5898",
   "metadata": {
    "scrolled": true
   },
   "outputs": [
    {
     "data": {
      "text/plain": [
       "0.32012994387711646"
      ]
     },
     "execution_count": 9561,
     "metadata": {},
     "output_type": "execute_result"
    }
   ],
   "source": [
    "f1_score(y_train, pred_train, average='macro', zero_division = 0)"
   ]
  },
  {
   "cell_type": "code",
   "execution_count": 9562,
   "id": "342c7cea",
   "metadata": {},
   "outputs": [
    {
     "data": {
      "text/plain": [
       "array([0.6039604 , 0.6039604 , 0.67326733, 0.61386139, 0.62376238])"
      ]
     },
     "execution_count": 9562,
     "metadata": {},
     "output_type": "execute_result"
    }
   ],
   "source": [
    "scores = cross_val_score(model, X_train, y_train, cv=5)\n",
    "scores"
   ]
  },
  {
   "cell_type": "code",
   "execution_count": 9563,
   "id": "9f34ee99",
   "metadata": {
    "scrolled": false
   },
   "outputs": [
    {
     "data": {
      "text/plain": [
       "0.2745349433540025"
      ]
     },
     "execution_count": 9563,
     "metadata": {},
     "output_type": "execute_result"
    }
   ],
   "source": [
    "f1_score(y_test, pred_test, average='macro', zero_division = 0)"
   ]
  },
  {
   "cell_type": "code",
   "execution_count": 9564,
   "id": "a31ec5c3",
   "metadata": {},
   "outputs": [
    {
     "data": {
      "text/plain": [
       "0.28807377049180327"
      ]
     },
     "execution_count": 9564,
     "metadata": {},
     "output_type": "execute_result"
    }
   ],
   "source": [
    "r_s = recall_score(y_test, pred_test, average = 'macro', zero_division = 0)\n",
    "r_s"
   ]
  },
  {
   "cell_type": "code",
   "execution_count": 9565,
   "id": "2a2554cd",
   "metadata": {
    "scrolled": false
   },
   "outputs": [
    {
     "name": "stdout",
     "output_type": "stream",
     "text": [
      "              precision    recall  f1-score   support\n",
      "\n",
      "         3.0       0.00      0.00      0.00         7\n",
      "         4.0       0.63      0.89      0.74       100\n",
      "         5.0       0.57      0.26      0.36        61\n",
      "         6.0       0.00      0.00      0.00         1\n",
      "\n",
      "    accuracy                           0.62       169\n",
      "   macro avg       0.30      0.29      0.27       169\n",
      "weighted avg       0.58      0.62      0.57       169\n",
      "\n"
     ]
    }
   ],
   "source": [
    "print(classification_report(y_test, pred_test))"
   ]
  },
  {
   "cell_type": "code",
   "execution_count": 9566,
   "id": "964cd407",
   "metadata": {},
   "outputs": [
    {
     "data": {
      "text/html": [
       "<div>\n",
       "<style scoped>\n",
       "    .dataframe tbody tr th:only-of-type {\n",
       "        vertical-align: middle;\n",
       "    }\n",
       "\n",
       "    .dataframe tbody tr th {\n",
       "        vertical-align: top;\n",
       "    }\n",
       "\n",
       "    .dataframe thead th {\n",
       "        text-align: right;\n",
       "    }\n",
       "</style>\n",
       "<table border=\"1\" class=\"dataframe\">\n",
       "  <thead>\n",
       "    <tr style=\"text-align: right;\">\n",
       "      <th></th>\n",
       "      <th>model</th>\n",
       "      <th>recall</th>\n",
       "    </tr>\n",
       "  </thead>\n",
       "  <tbody>\n",
       "    <tr>\n",
       "      <th>0</th>\n",
       "      <td>log_reg</td>\n",
       "      <td>0.29</td>\n",
       "    </tr>\n",
       "  </tbody>\n",
       "</table>\n",
       "</div>"
      ],
      "text/plain": [
       "     model  recall\n",
       "0  log_reg    0.29"
      ]
     },
     "execution_count": 9566,
     "metadata": {},
     "output_type": "execute_result"
    }
   ],
   "source": [
    "total_score_4 = []\n",
    "total_score_4.append({      'model': 'log_reg',\n",
    "                           'recall': r_s})\n",
    "pd.DataFrame(total_score_4)"
   ]
  },
  {
   "cell_type": "markdown",
   "id": "49d3de28",
   "metadata": {},
   "source": [
    "**RFC**"
   ]
  },
  {
   "cell_type": "code",
   "execution_count": 9567,
   "id": "fcb3cf2f",
   "metadata": {},
   "outputs": [],
   "source": [
    "clf = RandomForestClassifier(random_state=12345)\n"
   ]
  },
  {
   "cell_type": "code",
   "execution_count": 9568,
   "id": "f33be408",
   "metadata": {},
   "outputs": [],
   "source": [
    "parametrs = { 'max_depth': [6, 12, 20],\n",
    "              'n_estimators': [10, 20, 50, 100],\n",
    "            'min_samples_leaf': [5, 10, 20]}"
   ]
  },
  {
   "cell_type": "code",
   "execution_count": 9569,
   "id": "d21f1333",
   "metadata": {},
   "outputs": [
    {
     "name": "stdout",
     "output_type": "stream",
     "text": [
      "CPU times: total: 9.81 s\n",
      "Wall time: 9.81 s\n"
     ]
    },
    {
     "data": {
      "text/plain": [
       "{'max_depth': 6, 'min_samples_leaf': 20, 'n_estimators': 50}"
      ]
     },
     "execution_count": 9569,
     "metadata": {},
     "output_type": "execute_result"
    }
   ],
   "source": [
    "%%time\n",
    "clf = GridSearchCV(clf, parametrs, cv=5)\n",
    "clf.fit(X_train, y_train)\n",
    "clf.best_params_"
   ]
  },
  {
   "cell_type": "code",
   "execution_count": 9570,
   "id": "ef5305ec",
   "metadata": {},
   "outputs": [],
   "source": [
    "pred_train = clf.predict(X_train)\n",
    "pred_test = clf.predict(X_test)"
   ]
  },
  {
   "cell_type": "code",
   "execution_count": 9571,
   "id": "00dc0610",
   "metadata": {
    "scrolled": true
   },
   "outputs": [
    {
     "data": {
      "text/plain": [
       "0.33983988355167394"
      ]
     },
     "execution_count": 9571,
     "metadata": {},
     "output_type": "execute_result"
    }
   ],
   "source": [
    "f1_score(y_train, pred_train, average='macro', zero_division = 0)"
   ]
  },
  {
   "cell_type": "code",
   "execution_count": 9572,
   "id": "18c6813b",
   "metadata": {
    "scrolled": true
   },
   "outputs": [
    {
     "data": {
      "text/plain": [
       "0.2902356594811838"
      ]
     },
     "execution_count": 9572,
     "metadata": {},
     "output_type": "execute_result"
    }
   ],
   "source": [
    "f1_score(y_test, pred_test, average='macro', zero_division = 0)"
   ]
  },
  {
   "cell_type": "code",
   "execution_count": 9573,
   "id": "ce6a95df",
   "metadata": {},
   "outputs": [
    {
     "data": {
      "text/plain": [
       "0.3003688524590164"
      ]
     },
     "execution_count": 9573,
     "metadata": {},
     "output_type": "execute_result"
    }
   ],
   "source": [
    "r_s = recall_score(y_test, pred_test, average = 'macro', zero_division = 0)\n",
    "r_s"
   ]
  },
  {
   "cell_type": "code",
   "execution_count": 9574,
   "id": "554a8230",
   "metadata": {
    "scrolled": false
   },
   "outputs": [
    {
     "name": "stdout",
     "output_type": "stream",
     "text": [
      "              precision    recall  f1-score   support\n",
      "\n",
      "         3.0       0.00      0.00      0.00         7\n",
      "         4.0       0.64      0.89      0.75       100\n",
      "         5.0       0.61      0.31      0.41        61\n",
      "         6.0       0.00      0.00      0.00         1\n",
      "\n",
      "    accuracy                           0.64       169\n",
      "   macro avg       0.31      0.30      0.29       169\n",
      "weighted avg       0.60      0.64      0.59       169\n",
      "\n"
     ]
    }
   ],
   "source": [
    "print(classification_report(y_test, pred_test))"
   ]
  },
  {
   "cell_type": "code",
   "execution_count": 9575,
   "id": "08622d89",
   "metadata": {},
   "outputs": [
    {
     "data": {
      "text/html": [
       "<div>\n",
       "<style scoped>\n",
       "    .dataframe tbody tr th:only-of-type {\n",
       "        vertical-align: middle;\n",
       "    }\n",
       "\n",
       "    .dataframe tbody tr th {\n",
       "        vertical-align: top;\n",
       "    }\n",
       "\n",
       "    .dataframe thead th {\n",
       "        text-align: right;\n",
       "    }\n",
       "</style>\n",
       "<table border=\"1\" class=\"dataframe\">\n",
       "  <thead>\n",
       "    <tr style=\"text-align: right;\">\n",
       "      <th></th>\n",
       "      <th>model</th>\n",
       "      <th>recall</th>\n",
       "    </tr>\n",
       "  </thead>\n",
       "  <tbody>\n",
       "    <tr>\n",
       "      <th>0</th>\n",
       "      <td>log_reg</td>\n",
       "      <td>0.29</td>\n",
       "    </tr>\n",
       "    <tr>\n",
       "      <th>1</th>\n",
       "      <td>RFC</td>\n",
       "      <td>0.30</td>\n",
       "    </tr>\n",
       "  </tbody>\n",
       "</table>\n",
       "</div>"
      ],
      "text/plain": [
       "     model  recall\n",
       "0  log_reg    0.29\n",
       "1      RFC    0.30"
      ]
     },
     "execution_count": 9575,
     "metadata": {},
     "output_type": "execute_result"
    }
   ],
   "source": [
    "total_score_4.append({\n",
    "                           'model': 'RFC',\n",
    "                           'recall': r_s})\n",
    "pd.DataFrame(total_score_4)"
   ]
  },
  {
   "cell_type": "markdown",
   "id": "9a42a2c1",
   "metadata": {},
   "source": [
    "**LGBM**"
   ]
  },
  {
   "cell_type": "code",
   "execution_count": 9576,
   "id": "45c16caf",
   "metadata": {},
   "outputs": [],
   "source": [
    "lgbm = LGBMClassifier()"
   ]
  },
  {
   "cell_type": "code",
   "execution_count": 9577,
   "id": "05c61654",
   "metadata": {},
   "outputs": [],
   "source": [
    "parameters_lgbm = {'max_depth': [3, 6, 12],\n",
    "                  'learning_rate':[0.003, 0.01, 0.03]}"
   ]
  },
  {
   "cell_type": "code",
   "execution_count": 9578,
   "id": "a0bab30c",
   "metadata": {},
   "outputs": [],
   "source": [
    "lgbm = GridSearchCV(lgbm, parameters_lgbm)"
   ]
  },
  {
   "cell_type": "code",
   "execution_count": 9579,
   "id": "2d48d145",
   "metadata": {},
   "outputs": [
    {
     "name": "stdout",
     "output_type": "stream",
     "text": [
      "CPU times: total: 19.4 s\n",
      "Wall time: 2.44 s\n"
     ]
    },
    {
     "data": {
      "text/plain": [
       "GridSearchCV(estimator=LGBMClassifier(),\n",
       "             param_grid={'learning_rate': [0.003, 0.01, 0.03],\n",
       "                         'max_depth': [3, 6, 12]})"
      ]
     },
     "execution_count": 9579,
     "metadata": {},
     "output_type": "execute_result"
    }
   ],
   "source": [
    "%%time\n",
    "lgbm.fit(X_train, y_train)"
   ]
  },
  {
   "cell_type": "code",
   "execution_count": 9580,
   "id": "b444db79",
   "metadata": {},
   "outputs": [
    {
     "data": {
      "text/plain": [
       "{'learning_rate': 0.03, 'max_depth': 3}"
      ]
     },
     "execution_count": 9580,
     "metadata": {},
     "output_type": "execute_result"
    }
   ],
   "source": [
    "lgbm.best_params_"
   ]
  },
  {
   "cell_type": "code",
   "execution_count": 9581,
   "id": "94d624be",
   "metadata": {},
   "outputs": [],
   "source": [
    "pred_train = lgbm.predict(X_train)\n",
    "pred_test = lgbm.predict(X_test)"
   ]
  },
  {
   "cell_type": "code",
   "execution_count": 9582,
   "id": "2e1ca89a",
   "metadata": {
    "scrolled": true
   },
   "outputs": [
    {
     "data": {
      "text/plain": [
       "0.6788431209978323"
      ]
     },
     "execution_count": 9582,
     "metadata": {},
     "output_type": "execute_result"
    }
   ],
   "source": [
    "f1_score(y_train, pred_train, average='macro', zero_division = 0)"
   ]
  },
  {
   "cell_type": "code",
   "execution_count": 9583,
   "id": "13a0ec0e",
   "metadata": {
    "scrolled": false
   },
   "outputs": [
    {
     "data": {
      "text/plain": [
       "0.2803813833225598"
      ]
     },
     "execution_count": 9583,
     "metadata": {},
     "output_type": "execute_result"
    }
   ],
   "source": [
    "f1_score(y_test, pred_test, average='macro', zero_division = 0)"
   ]
  },
  {
   "cell_type": "code",
   "execution_count": 9584,
   "id": "8b2ad775",
   "metadata": {},
   "outputs": [
    {
     "data": {
      "text/plain": [
       "0.292172131147541"
      ]
     },
     "execution_count": 9584,
     "metadata": {},
     "output_type": "execute_result"
    }
   ],
   "source": [
    "r_s = recall_score(y_test, pred_test, average = 'macro', zero_division = 0)\n",
    "r_s"
   ]
  },
  {
   "cell_type": "code",
   "execution_count": 9585,
   "id": "d476b839",
   "metadata": {
    "scrolled": false
   },
   "outputs": [
    {
     "name": "stdout",
     "output_type": "stream",
     "text": [
      "              precision    recall  f1-score   support\n",
      "\n",
      "         3.0       0.00      0.00      0.00         7\n",
      "         4.0       0.64      0.89      0.75       100\n",
      "         5.0       0.57      0.28      0.37        61\n",
      "         6.0       0.00      0.00      0.00         1\n",
      "\n",
      "    accuracy                           0.63       169\n",
      "   macro avg       0.30      0.29      0.28       169\n",
      "weighted avg       0.59      0.63      0.58       169\n",
      "\n"
     ]
    }
   ],
   "source": [
    "print(classification_report(y_test, pred_test))"
   ]
  },
  {
   "cell_type": "code",
   "execution_count": 9586,
   "id": "640db05f",
   "metadata": {
    "scrolled": true
   },
   "outputs": [
    {
     "data": {
      "text/html": [
       "<div>\n",
       "<style scoped>\n",
       "    .dataframe tbody tr th:only-of-type {\n",
       "        vertical-align: middle;\n",
       "    }\n",
       "\n",
       "    .dataframe tbody tr th {\n",
       "        vertical-align: top;\n",
       "    }\n",
       "\n",
       "    .dataframe thead th {\n",
       "        text-align: right;\n",
       "    }\n",
       "</style>\n",
       "<table border=\"1\" class=\"dataframe\">\n",
       "  <thead>\n",
       "    <tr style=\"text-align: right;\">\n",
       "      <th></th>\n",
       "      <th>model</th>\n",
       "      <th>recall</th>\n",
       "    </tr>\n",
       "  </thead>\n",
       "  <tbody>\n",
       "    <tr>\n",
       "      <th>0</th>\n",
       "      <td>log_reg</td>\n",
       "      <td>0.29</td>\n",
       "    </tr>\n",
       "    <tr>\n",
       "      <th>1</th>\n",
       "      <td>RFC</td>\n",
       "      <td>0.30</td>\n",
       "    </tr>\n",
       "    <tr>\n",
       "      <th>2</th>\n",
       "      <td>LGBM</td>\n",
       "      <td>0.29</td>\n",
       "    </tr>\n",
       "  </tbody>\n",
       "</table>\n",
       "</div>"
      ],
      "text/plain": [
       "     model  recall\n",
       "0  log_reg    0.29\n",
       "1      RFC    0.30\n",
       "2     LGBM    0.29"
      ]
     },
     "execution_count": 9586,
     "metadata": {},
     "output_type": "execute_result"
    }
   ],
   "source": [
    "total_score_4.append({\n",
    "                           'model': 'LGBM',\n",
    "                           'recall': r_s})\n",
    "pd.DataFrame(total_score_4)"
   ]
  },
  {
   "cell_type": "code",
   "execution_count": 9587,
   "id": "b2b6f748",
   "metadata": {},
   "outputs": [],
   "source": [
    "X_train = df_7.drop(col_drop, axis=1) \n",
    "y_train = df_7['Focus']\n",
    "clf.fit(X_train, y_train)\n",
    "model_4 = clf"
   ]
  },
  {
   "cell_type": "markdown",
   "id": "299b2a61",
   "metadata": {},
   "source": [
    "## Обработка тестовой выборки"
   ]
  },
  {
   "cell_type": "code",
   "execution_count": 9588,
   "id": "fec9fa4b",
   "metadata": {
    "scrolled": true
   },
   "outputs": [
    {
     "name": "stdout",
     "output_type": "stream",
     "text": [
      "<class 'pandas.core.frame.DataFrame'>\n",
      "RangeIndex: 293 entries, 0 to 292\n",
      "Data columns (total 5 columns):\n",
      " #   Column               Non-Null Count  Dtype\n",
      "---  ------               --------------  -----\n",
      " 0   id                   293 non-null    int64\n",
      " 1   Analytical thinking  293 non-null    int64\n",
      " 2   Systemic thinking    293 non-null    int64\n",
      " 3   Adaptability         293 non-null    int64\n",
      " 4   Focus                293 non-null    int64\n",
      "dtypes: int64(5)\n",
      "memory usage: 11.6 KB\n"
     ]
    }
   ],
   "source": [
    "sample_solution.info()"
   ]
  },
  {
   "cell_type": "code",
   "execution_count": 9589,
   "id": "cd7fb553",
   "metadata": {
    "scrolled": false
   },
   "outputs": [
    {
     "data": {
      "text/html": [
       "<div>\n",
       "<style scoped>\n",
       "    .dataframe tbody tr th:only-of-type {\n",
       "        vertical-align: middle;\n",
       "    }\n",
       "\n",
       "    .dataframe tbody tr th {\n",
       "        vertical-align: top;\n",
       "    }\n",
       "\n",
       "    .dataframe thead th {\n",
       "        text-align: right;\n",
       "    }\n",
       "</style>\n",
       "<table border=\"1\" class=\"dataframe\">\n",
       "  <thead>\n",
       "    <tr style=\"text-align: right;\">\n",
       "      <th></th>\n",
       "      <th>id</th>\n",
       "      <th>Analytical thinking</th>\n",
       "      <th>Systemic thinking</th>\n",
       "      <th>Adaptability</th>\n",
       "      <th>Focus</th>\n",
       "    </tr>\n",
       "  </thead>\n",
       "  <tbody>\n",
       "    <tr>\n",
       "      <th>0</th>\n",
       "      <td>10199</td>\n",
       "      <td>0</td>\n",
       "      <td>0</td>\n",
       "      <td>0</td>\n",
       "      <td>0</td>\n",
       "    </tr>\n",
       "    <tr>\n",
       "      <th>1</th>\n",
       "      <td>10539</td>\n",
       "      <td>0</td>\n",
       "      <td>0</td>\n",
       "      <td>0</td>\n",
       "      <td>0</td>\n",
       "    </tr>\n",
       "    <tr>\n",
       "      <th>2</th>\n",
       "      <td>10174</td>\n",
       "      <td>0</td>\n",
       "      <td>0</td>\n",
       "      <td>0</td>\n",
       "      <td>0</td>\n",
       "    </tr>\n",
       "    <tr>\n",
       "      <th>3</th>\n",
       "      <td>10465</td>\n",
       "      <td>0</td>\n",
       "      <td>0</td>\n",
       "      <td>0</td>\n",
       "      <td>0</td>\n",
       "    </tr>\n",
       "    <tr>\n",
       "      <th>4</th>\n",
       "      <td>10066</td>\n",
       "      <td>0</td>\n",
       "      <td>0</td>\n",
       "      <td>0</td>\n",
       "      <td>0</td>\n",
       "    </tr>\n",
       "  </tbody>\n",
       "</table>\n",
       "</div>"
      ],
      "text/plain": [
       "      id  Analytical thinking  Systemic thinking  Adaptability  Focus\n",
       "0  10199                    0                  0             0      0\n",
       "1  10539                    0                  0             0      0\n",
       "2  10174                    0                  0             0      0\n",
       "3  10465                    0                  0             0      0\n",
       "4  10066                    0                  0             0      0"
      ]
     },
     "execution_count": 9589,
     "metadata": {},
     "output_type": "execute_result"
    }
   ],
   "source": [
    "sample_solution.head()"
   ]
  },
  {
   "cell_type": "code",
   "execution_count": 9590,
   "id": "bef3d993",
   "metadata": {},
   "outputs": [
    {
     "data": {
      "text/html": [
       "<div>\n",
       "<style scoped>\n",
       "    .dataframe tbody tr th:only-of-type {\n",
       "        vertical-align: middle;\n",
       "    }\n",
       "\n",
       "    .dataframe tbody tr th {\n",
       "        vertical-align: top;\n",
       "    }\n",
       "\n",
       "    .dataframe thead th {\n",
       "        text-align: right;\n",
       "    }\n",
       "</style>\n",
       "<table border=\"1\" class=\"dataframe\">\n",
       "  <thead>\n",
       "    <tr style=\"text-align: right;\">\n",
       "      <th></th>\n",
       "      <th>game_id</th>\n",
       "      <th>total_score</th>\n",
       "      <th>cat_1</th>\n",
       "      <th>cat_2</th>\n",
       "      <th>cat_3</th>\n",
       "      <th>cat_4</th>\n",
       "      <th>cat_5</th>\n",
       "      <th>cat_6</th>\n",
       "      <th>score_rating</th>\n",
       "      <th>rating_1</th>\n",
       "      <th>rating_2</th>\n",
       "      <th>rating_3</th>\n",
       "      <th>rating_4</th>\n",
       "      <th>rating_5</th>\n",
       "      <th>rating_6</th>\n",
       "    </tr>\n",
       "    <tr>\n",
       "      <th>user_id</th>\n",
       "      <th></th>\n",
       "      <th></th>\n",
       "      <th></th>\n",
       "      <th></th>\n",
       "      <th></th>\n",
       "      <th></th>\n",
       "      <th></th>\n",
       "      <th></th>\n",
       "      <th></th>\n",
       "      <th></th>\n",
       "      <th></th>\n",
       "      <th></th>\n",
       "      <th></th>\n",
       "      <th></th>\n",
       "      <th></th>\n",
       "    </tr>\n",
       "  </thead>\n",
       "  <tbody>\n",
       "    <tr>\n",
       "      <th>10273</th>\n",
       "      <td>182</td>\n",
       "      <td>2382</td>\n",
       "      <td>174.00</td>\n",
       "      <td>281.00</td>\n",
       "      <td>403.00</td>\n",
       "      <td>208.00</td>\n",
       "      <td>125.00</td>\n",
       "      <td>1,191.00</td>\n",
       "      <td>1.00</td>\n",
       "      <td>1.00</td>\n",
       "      <td>1.00</td>\n",
       "      <td>1.00</td>\n",
       "      <td>1.00</td>\n",
       "      <td>1.00</td>\n",
       "      <td>1.00</td>\n",
       "    </tr>\n",
       "  </tbody>\n",
       "</table>\n",
       "</div>"
      ],
      "text/plain": [
       "         game_id  total_score  cat_1  cat_2  cat_3  cat_4  cat_5    cat_6  \\\n",
       "user_id                                                                     \n",
       "10273        182         2382 174.00 281.00 403.00 208.00 125.00 1,191.00   \n",
       "\n",
       "         score_rating  rating_1  rating_2  rating_3  rating_4  rating_5  \\\n",
       "user_id                                                                   \n",
       "10273            1.00      1.00      1.00      1.00      1.00      1.00   \n",
       "\n",
       "         rating_6  \n",
       "user_id            \n",
       "10273        1.00  "
      ]
     },
     "execution_count": 9590,
     "metadata": {},
     "output_type": "execute_result"
    }
   ],
   "source": [
    "user_score.head(1)"
   ]
  },
  {
   "cell_type": "code",
   "execution_count": 9591,
   "id": "052a139f",
   "metadata": {},
   "outputs": [],
   "source": [
    "df_sample = sample_solution.set_index('id').join(user_score, how = 'left')"
   ]
  },
  {
   "cell_type": "code",
   "execution_count": 9592,
   "id": "10a499d2",
   "metadata": {
    "scrolled": false
   },
   "outputs": [
    {
     "data": {
      "text/html": [
       "<div>\n",
       "<style scoped>\n",
       "    .dataframe tbody tr th:only-of-type {\n",
       "        vertical-align: middle;\n",
       "    }\n",
       "\n",
       "    .dataframe tbody tr th {\n",
       "        vertical-align: top;\n",
       "    }\n",
       "\n",
       "    .dataframe thead th {\n",
       "        text-align: right;\n",
       "    }\n",
       "</style>\n",
       "<table border=\"1\" class=\"dataframe\">\n",
       "  <thead>\n",
       "    <tr style=\"text-align: right;\">\n",
       "      <th></th>\n",
       "      <th>Analytical thinking</th>\n",
       "      <th>Systemic thinking</th>\n",
       "      <th>Adaptability</th>\n",
       "      <th>Focus</th>\n",
       "      <th>game_id</th>\n",
       "      <th>total_score</th>\n",
       "      <th>cat_1</th>\n",
       "      <th>cat_2</th>\n",
       "      <th>cat_3</th>\n",
       "      <th>cat_4</th>\n",
       "      <th>cat_5</th>\n",
       "      <th>cat_6</th>\n",
       "      <th>score_rating</th>\n",
       "      <th>rating_1</th>\n",
       "      <th>rating_2</th>\n",
       "      <th>rating_3</th>\n",
       "      <th>rating_4</th>\n",
       "      <th>rating_5</th>\n",
       "      <th>rating_6</th>\n",
       "    </tr>\n",
       "    <tr>\n",
       "      <th>id</th>\n",
       "      <th></th>\n",
       "      <th></th>\n",
       "      <th></th>\n",
       "      <th></th>\n",
       "      <th></th>\n",
       "      <th></th>\n",
       "      <th></th>\n",
       "      <th></th>\n",
       "      <th></th>\n",
       "      <th></th>\n",
       "      <th></th>\n",
       "      <th></th>\n",
       "      <th></th>\n",
       "      <th></th>\n",
       "      <th></th>\n",
       "      <th></th>\n",
       "      <th></th>\n",
       "      <th></th>\n",
       "      <th></th>\n",
       "    </tr>\n",
       "  </thead>\n",
       "  <tbody>\n",
       "    <tr>\n",
       "      <th>10199</th>\n",
       "      <td>0</td>\n",
       "      <td>0</td>\n",
       "      <td>0</td>\n",
       "      <td>0</td>\n",
       "      <td>262</td>\n",
       "      <td>1108</td>\n",
       "      <td>7.00</td>\n",
       "      <td>40.00</td>\n",
       "      <td>284.00</td>\n",
       "      <td>124.00</td>\n",
       "      <td>99.00</td>\n",
       "      <td>554.00</td>\n",
       "      <td>0.89</td>\n",
       "      <td>0.27</td>\n",
       "      <td>0.34</td>\n",
       "      <td>0.85</td>\n",
       "      <td>0.82</td>\n",
       "      <td>0.95</td>\n",
       "      <td>0.89</td>\n",
       "    </tr>\n",
       "  </tbody>\n",
       "</table>\n",
       "</div>"
      ],
      "text/plain": [
       "       Analytical thinking  Systemic thinking  Adaptability  Focus  game_id  \\\n",
       "id                                                                            \n",
       "10199                    0                  0             0      0      262   \n",
       "\n",
       "       total_score  cat_1  cat_2  cat_3  cat_4  cat_5  cat_6  score_rating  \\\n",
       "id                                                                           \n",
       "10199         1108   7.00  40.00 284.00 124.00  99.00 554.00          0.89   \n",
       "\n",
       "       rating_1  rating_2  rating_3  rating_4  rating_5  rating_6  \n",
       "id                                                                 \n",
       "10199      0.27      0.34      0.85      0.82      0.95      0.89  "
      ]
     },
     "execution_count": 9592,
     "metadata": {},
     "output_type": "execute_result"
    }
   ],
   "source": [
    "df_sample.head(1)"
   ]
  },
  {
   "cell_type": "code",
   "execution_count": 9593,
   "id": "bd0305d9",
   "metadata": {
    "scrolled": false
   },
   "outputs": [
    {
     "data": {
      "text/html": [
       "<div>\n",
       "<style scoped>\n",
       "    .dataframe tbody tr th:only-of-type {\n",
       "        vertical-align: middle;\n",
       "    }\n",
       "\n",
       "    .dataframe tbody tr th {\n",
       "        vertical-align: top;\n",
       "    }\n",
       "\n",
       "    .dataframe thead th {\n",
       "        text-align: right;\n",
       "    }\n",
       "</style>\n",
       "<table border=\"1\" class=\"dataframe\">\n",
       "  <thead>\n",
       "    <tr style=\"text-align: right;\">\n",
       "      <th></th>\n",
       "      <th>decision_id</th>\n",
       "      <th>user_id</th>\n",
       "      <th>period</th>\n",
       "      <th>decision_name</th>\n",
       "      <th>1</th>\n",
       "      <th>2</th>\n",
       "      <th>3</th>\n",
       "      <th>4</th>\n",
       "      <th>5</th>\n",
       "      <th>6</th>\n",
       "      <th>...</th>\n",
       "      <th>429</th>\n",
       "      <th>430</th>\n",
       "      <th>431</th>\n",
       "      <th>432</th>\n",
       "      <th>433</th>\n",
       "      <th>434</th>\n",
       "      <th>435</th>\n",
       "      <th>436</th>\n",
       "      <th>437</th>\n",
       "      <th>438</th>\n",
       "    </tr>\n",
       "  </thead>\n",
       "  <tbody>\n",
       "    <tr>\n",
       "      <th>0</th>\n",
       "      <td>409</td>\n",
       "      <td>10625</td>\n",
       "      <td>1</td>\n",
       "      <td>Sending Engineers on training courses</td>\n",
       "      <td>0</td>\n",
       "      <td>0</td>\n",
       "      <td>0</td>\n",
       "      <td>0</td>\n",
       "      <td>0</td>\n",
       "      <td>0</td>\n",
       "      <td>...</td>\n",
       "      <td>0</td>\n",
       "      <td>0</td>\n",
       "      <td>0</td>\n",
       "      <td>0</td>\n",
       "      <td>0</td>\n",
       "      <td>0</td>\n",
       "      <td>0</td>\n",
       "      <td>0</td>\n",
       "      <td>0</td>\n",
       "      <td>0</td>\n",
       "    </tr>\n",
       "  </tbody>\n",
       "</table>\n",
       "<p>1 rows × 442 columns</p>\n",
       "</div>"
      ],
      "text/plain": [
       "   decision_id  user_id  period                          decision_name  1  2  \\\n",
       "0          409    10625       1  Sending Engineers on training courses  0  0   \n",
       "\n",
       "   3  4  5  6  ...  429  430  431  432  433  434  435  436  437  438  \n",
       "0  0  0  0  0  ...    0    0    0    0    0    0    0    0    0    0  \n",
       "\n",
       "[1 rows x 442 columns]"
      ]
     },
     "execution_count": 9593,
     "metadata": {},
     "output_type": "execute_result"
    }
   ],
   "source": [
    "ud.head(1)"
   ]
  },
  {
   "cell_type": "code",
   "execution_count": 9594,
   "id": "88d6242a",
   "metadata": {},
   "outputs": [
    {
     "data": {
      "text/plain": [
       "(60228, 442)"
      ]
     },
     "execution_count": 9594,
     "metadata": {},
     "output_type": "execute_result"
    }
   ],
   "source": [
    "ud.shape"
   ]
  },
  {
   "cell_type": "code",
   "execution_count": 9595,
   "id": "04167f24",
   "metadata": {},
   "outputs": [],
   "source": [
    "ud = ud.groupby('user_id').max()"
   ]
  },
  {
   "cell_type": "code",
   "execution_count": 9596,
   "id": "dc55c9d4",
   "metadata": {},
   "outputs": [],
   "source": [
    "ud = ud.drop(['decision_id', 'period', 'decision_name'], axis=1)"
   ]
  },
  {
   "cell_type": "code",
   "execution_count": 9597,
   "id": "8cdbd98f",
   "metadata": {
    "scrolled": true
   },
   "outputs": [
    {
     "data": {
      "text/html": [
       "<div>\n",
       "<style scoped>\n",
       "    .dataframe tbody tr th:only-of-type {\n",
       "        vertical-align: middle;\n",
       "    }\n",
       "\n",
       "    .dataframe tbody tr th {\n",
       "        vertical-align: top;\n",
       "    }\n",
       "\n",
       "    .dataframe thead th {\n",
       "        text-align: right;\n",
       "    }\n",
       "</style>\n",
       "<table border=\"1\" class=\"dataframe\">\n",
       "  <thead>\n",
       "    <tr style=\"text-align: right;\">\n",
       "      <th></th>\n",
       "      <th>1</th>\n",
       "      <th>2</th>\n",
       "      <th>3</th>\n",
       "      <th>4</th>\n",
       "      <th>5</th>\n",
       "      <th>6</th>\n",
       "      <th>7</th>\n",
       "      <th>8</th>\n",
       "      <th>9</th>\n",
       "      <th>10</th>\n",
       "      <th>...</th>\n",
       "      <th>429</th>\n",
       "      <th>430</th>\n",
       "      <th>431</th>\n",
       "      <th>432</th>\n",
       "      <th>433</th>\n",
       "      <th>434</th>\n",
       "      <th>435</th>\n",
       "      <th>436</th>\n",
       "      <th>437</th>\n",
       "      <th>438</th>\n",
       "    </tr>\n",
       "    <tr>\n",
       "      <th>user_id</th>\n",
       "      <th></th>\n",
       "      <th></th>\n",
       "      <th></th>\n",
       "      <th></th>\n",
       "      <th></th>\n",
       "      <th></th>\n",
       "      <th></th>\n",
       "      <th></th>\n",
       "      <th></th>\n",
       "      <th></th>\n",
       "      <th></th>\n",
       "      <th></th>\n",
       "      <th></th>\n",
       "      <th></th>\n",
       "      <th></th>\n",
       "      <th></th>\n",
       "      <th></th>\n",
       "      <th></th>\n",
       "      <th></th>\n",
       "      <th></th>\n",
       "      <th></th>\n",
       "    </tr>\n",
       "  </thead>\n",
       "  <tbody>\n",
       "    <tr>\n",
       "      <th>10001</th>\n",
       "      <td>1</td>\n",
       "      <td>0</td>\n",
       "      <td>0</td>\n",
       "      <td>1</td>\n",
       "      <td>0</td>\n",
       "      <td>1</td>\n",
       "      <td>0</td>\n",
       "      <td>0</td>\n",
       "      <td>0</td>\n",
       "      <td>0</td>\n",
       "      <td>...</td>\n",
       "      <td>0</td>\n",
       "      <td>0</td>\n",
       "      <td>0</td>\n",
       "      <td>0</td>\n",
       "      <td>0</td>\n",
       "      <td>0</td>\n",
       "      <td>0</td>\n",
       "      <td>0</td>\n",
       "      <td>0</td>\n",
       "      <td>0</td>\n",
       "    </tr>\n",
       "  </tbody>\n",
       "</table>\n",
       "<p>1 rows × 438 columns</p>\n",
       "</div>"
      ],
      "text/plain": [
       "         1  2  3  4  5  6  7  8  9  10  ...  429  430  431  432  433  434  \\\n",
       "user_id                                 ...                                 \n",
       "10001    1  0  0  1  0  1  0  0  0   0  ...    0    0    0    0    0    0   \n",
       "\n",
       "         435  436  437  438  \n",
       "user_id                      \n",
       "10001      0    0    0    0  \n",
       "\n",
       "[1 rows x 438 columns]"
      ]
     },
     "execution_count": 9597,
     "metadata": {},
     "output_type": "execute_result"
    }
   ],
   "source": [
    "ud.head(1)"
   ]
  },
  {
   "cell_type": "code",
   "execution_count": 9598,
   "id": "d3fdeb03",
   "metadata": {},
   "outputs": [
    {
     "data": {
      "text/plain": [
       "(973, 438)"
      ]
     },
     "execution_count": 9598,
     "metadata": {},
     "output_type": "execute_result"
    }
   ],
   "source": [
    "ud.shape"
   ]
  },
  {
   "cell_type": "markdown",
   "id": "af91cff2",
   "metadata": {},
   "source": [
    "**Analytical thinking**"
   ]
  },
  {
   "cell_type": "code",
   "execution_count": 9599,
   "id": "9dd04b70",
   "metadata": {},
   "outputs": [],
   "source": [
    "ud_1 = ud\n",
    "ud_2 = ud\n",
    "ud_3 = ud\n",
    "ud_4 = ud"
   ]
  },
  {
   "cell_type": "code",
   "execution_count": 9600,
   "id": "9785f613",
   "metadata": {},
   "outputs": [],
   "source": [
    "for i in range(1, 438):\n",
    "    if i in list_dec_1.index:\n",
    "        corr = list_dec_1['corr'].loc[i]\n",
    "        ud_1[str(i)] = ud_1[str(i)] * corr  \n",
    "    else:\n",
    "        continue    "
   ]
  },
  {
   "cell_type": "code",
   "execution_count": 9601,
   "id": "96954ce1",
   "metadata": {
    "scrolled": true
   },
   "outputs": [
    {
     "data": {
      "text/html": [
       "<div>\n",
       "<style scoped>\n",
       "    .dataframe tbody tr th:only-of-type {\n",
       "        vertical-align: middle;\n",
       "    }\n",
       "\n",
       "    .dataframe tbody tr th {\n",
       "        vertical-align: top;\n",
       "    }\n",
       "\n",
       "    .dataframe thead th {\n",
       "        text-align: right;\n",
       "    }\n",
       "</style>\n",
       "<table border=\"1\" class=\"dataframe\">\n",
       "  <thead>\n",
       "    <tr style=\"text-align: right;\">\n",
       "      <th></th>\n",
       "      <th>1</th>\n",
       "      <th>2</th>\n",
       "      <th>3</th>\n",
       "      <th>4</th>\n",
       "      <th>5</th>\n",
       "      <th>6</th>\n",
       "      <th>7</th>\n",
       "      <th>8</th>\n",
       "      <th>9</th>\n",
       "      <th>10</th>\n",
       "      <th>...</th>\n",
       "      <th>429</th>\n",
       "      <th>430</th>\n",
       "      <th>431</th>\n",
       "      <th>432</th>\n",
       "      <th>433</th>\n",
       "      <th>434</th>\n",
       "      <th>435</th>\n",
       "      <th>436</th>\n",
       "      <th>437</th>\n",
       "      <th>438</th>\n",
       "    </tr>\n",
       "    <tr>\n",
       "      <th>user_id</th>\n",
       "      <th></th>\n",
       "      <th></th>\n",
       "      <th></th>\n",
       "      <th></th>\n",
       "      <th></th>\n",
       "      <th></th>\n",
       "      <th></th>\n",
       "      <th></th>\n",
       "      <th></th>\n",
       "      <th></th>\n",
       "      <th></th>\n",
       "      <th></th>\n",
       "      <th></th>\n",
       "      <th></th>\n",
       "      <th></th>\n",
       "      <th></th>\n",
       "      <th></th>\n",
       "      <th></th>\n",
       "      <th></th>\n",
       "      <th></th>\n",
       "      <th></th>\n",
       "    </tr>\n",
       "  </thead>\n",
       "  <tbody>\n",
       "    <tr>\n",
       "      <th>10001</th>\n",
       "      <td>0.00</td>\n",
       "      <td>0.00</td>\n",
       "      <td>0.00</td>\n",
       "      <td>0.00</td>\n",
       "      <td>0.00</td>\n",
       "      <td>0.01</td>\n",
       "      <td>0.00</td>\n",
       "      <td>0.00</td>\n",
       "      <td>0.00</td>\n",
       "      <td>0.00</td>\n",
       "      <td>...</td>\n",
       "      <td>0.00</td>\n",
       "      <td>0.00</td>\n",
       "      <td>0.00</td>\n",
       "      <td>0.00</td>\n",
       "      <td>0.00</td>\n",
       "      <td>0.00</td>\n",
       "      <td>0.00</td>\n",
       "      <td>0.00</td>\n",
       "      <td>0.00</td>\n",
       "      <td>0</td>\n",
       "    </tr>\n",
       "  </tbody>\n",
       "</table>\n",
       "<p>1 rows × 438 columns</p>\n",
       "</div>"
      ],
      "text/plain": [
       "           1    2    3    4    5    6    7    8    9   10  ...  429  430  431  \\\n",
       "user_id                                                    ...                  \n",
       "10001   0.00 0.00 0.00 0.00 0.00 0.01 0.00 0.00 0.00 0.00  ... 0.00 0.00 0.00   \n",
       "\n",
       "         432  433  434  435  436  437  438  \n",
       "user_id                                     \n",
       "10001   0.00 0.00 0.00 0.00 0.00 0.00    0  \n",
       "\n",
       "[1 rows x 438 columns]"
      ]
     },
     "execution_count": 9601,
     "metadata": {},
     "output_type": "execute_result"
    }
   ],
   "source": [
    "ud_1.head(1)"
   ]
  },
  {
   "cell_type": "code",
   "execution_count": 9602,
   "id": "08b5e1fc",
   "metadata": {},
   "outputs": [],
   "source": [
    "ud_1['total'] = ud_1.sum(axis=1)"
   ]
  },
  {
   "cell_type": "code",
   "execution_count": 9603,
   "id": "45494de1",
   "metadata": {},
   "outputs": [],
   "source": [
    "col_drop = ['Analytical thinking', 'Systemic thinking', 'Adaptability','Focus']"
   ]
  },
  {
   "cell_type": "code",
   "execution_count": 9604,
   "id": "d3fdc947",
   "metadata": {},
   "outputs": [],
   "source": [
    "df_sample_1 = df_sample.join(ud_1)"
   ]
  },
  {
   "cell_type": "code",
   "execution_count": 9605,
   "id": "cceb1981",
   "metadata": {},
   "outputs": [
    {
     "data": {
      "text/plain": [
       "(293, 458)"
      ]
     },
     "execution_count": 9605,
     "metadata": {},
     "output_type": "execute_result"
    }
   ],
   "source": [
    "df_sample_1.shape"
   ]
  },
  {
   "cell_type": "code",
   "execution_count": 9606,
   "id": "19fc976a",
   "metadata": {
    "scrolled": true
   },
   "outputs": [
    {
     "data": {
      "text/html": [
       "<div>\n",
       "<style scoped>\n",
       "    .dataframe tbody tr th:only-of-type {\n",
       "        vertical-align: middle;\n",
       "    }\n",
       "\n",
       "    .dataframe tbody tr th {\n",
       "        vertical-align: top;\n",
       "    }\n",
       "\n",
       "    .dataframe thead th {\n",
       "        text-align: right;\n",
       "    }\n",
       "</style>\n",
       "<table border=\"1\" class=\"dataframe\">\n",
       "  <thead>\n",
       "    <tr style=\"text-align: right;\">\n",
       "      <th></th>\n",
       "      <th>Analytical thinking</th>\n",
       "      <th>Systemic thinking</th>\n",
       "      <th>Adaptability</th>\n",
       "      <th>Focus</th>\n",
       "      <th>game_id</th>\n",
       "      <th>total_score</th>\n",
       "      <th>cat_1</th>\n",
       "      <th>cat_2</th>\n",
       "      <th>cat_3</th>\n",
       "      <th>cat_4</th>\n",
       "      <th>...</th>\n",
       "      <th>430</th>\n",
       "      <th>431</th>\n",
       "      <th>432</th>\n",
       "      <th>433</th>\n",
       "      <th>434</th>\n",
       "      <th>435</th>\n",
       "      <th>436</th>\n",
       "      <th>437</th>\n",
       "      <th>438</th>\n",
       "      <th>total</th>\n",
       "    </tr>\n",
       "    <tr>\n",
       "      <th>id</th>\n",
       "      <th></th>\n",
       "      <th></th>\n",
       "      <th></th>\n",
       "      <th></th>\n",
       "      <th></th>\n",
       "      <th></th>\n",
       "      <th></th>\n",
       "      <th></th>\n",
       "      <th></th>\n",
       "      <th></th>\n",
       "      <th></th>\n",
       "      <th></th>\n",
       "      <th></th>\n",
       "      <th></th>\n",
       "      <th></th>\n",
       "      <th></th>\n",
       "      <th></th>\n",
       "      <th></th>\n",
       "      <th></th>\n",
       "      <th></th>\n",
       "      <th></th>\n",
       "    </tr>\n",
       "  </thead>\n",
       "  <tbody>\n",
       "    <tr>\n",
       "      <th>10199</th>\n",
       "      <td>0</td>\n",
       "      <td>0</td>\n",
       "      <td>0</td>\n",
       "      <td>0</td>\n",
       "      <td>262</td>\n",
       "      <td>1108</td>\n",
       "      <td>7.00</td>\n",
       "      <td>40.00</td>\n",
       "      <td>284.00</td>\n",
       "      <td>124.00</td>\n",
       "      <td>...</td>\n",
       "      <td>0.00</td>\n",
       "      <td>0.00</td>\n",
       "      <td>0.00</td>\n",
       "      <td>0.00</td>\n",
       "      <td>0.00</td>\n",
       "      <td>0.00</td>\n",
       "      <td>0.00</td>\n",
       "      <td>0.00</td>\n",
       "      <td>0</td>\n",
       "      <td>0.06</td>\n",
       "    </tr>\n",
       "  </tbody>\n",
       "</table>\n",
       "<p>1 rows × 458 columns</p>\n",
       "</div>"
      ],
      "text/plain": [
       "       Analytical thinking  Systemic thinking  Adaptability  Focus  game_id  \\\n",
       "id                                                                            \n",
       "10199                    0                  0             0      0      262   \n",
       "\n",
       "       total_score  cat_1  cat_2  cat_3  cat_4  ...  430  431  432  433  434  \\\n",
       "id                                              ...                            \n",
       "10199         1108   7.00  40.00 284.00 124.00  ... 0.00 0.00 0.00 0.00 0.00   \n",
       "\n",
       "       435  436  437  438  total  \n",
       "id                                \n",
       "10199 0.00 0.00 0.00    0   0.06  \n",
       "\n",
       "[1 rows x 458 columns]"
      ]
     },
     "execution_count": 9606,
     "metadata": {},
     "output_type": "execute_result"
    }
   ],
   "source": [
    "df_sample_1.head(1)"
   ]
  },
  {
   "cell_type": "code",
   "execution_count": 9607,
   "id": "45d3e82a",
   "metadata": {},
   "outputs": [],
   "source": [
    "df_sample_1['max_total'] = df_sample_1.groupby('game_id')['total'].transform('max')"
   ]
  },
  {
   "cell_type": "code",
   "execution_count": 9608,
   "id": "5d3fbb62",
   "metadata": {},
   "outputs": [],
   "source": [
    "df_sample_1['rating_user'] = df_sample_1['total'] / df_sample_1['max_total']"
   ]
  },
  {
   "cell_type": "code",
   "execution_count": 9609,
   "id": "8d06f070",
   "metadata": {},
   "outputs": [],
   "source": [
    "for i in range(1, 439):\n",
    "    df_sample_1 = df_sample_1.drop(str(i), axis=1)    "
   ]
  },
  {
   "cell_type": "code",
   "execution_count": 9610,
   "id": "1e12fde4",
   "metadata": {},
   "outputs": [],
   "source": [
    "df_sample_1 = df_sample_1.drop('max_total', axis=1)"
   ]
  },
  {
   "cell_type": "code",
   "execution_count": 9611,
   "id": "86466e70",
   "metadata": {
    "scrolled": true
   },
   "outputs": [
    {
     "data": {
      "text/plain": [
       "(293, 21)"
      ]
     },
     "execution_count": 9611,
     "metadata": {},
     "output_type": "execute_result"
    }
   ],
   "source": [
    "df_sample_1.shape"
   ]
  },
  {
   "cell_type": "code",
   "execution_count": 9612,
   "id": "b4460c0a",
   "metadata": {},
   "outputs": [
    {
     "data": {
      "text/html": [
       "<div>\n",
       "<style scoped>\n",
       "    .dataframe tbody tr th:only-of-type {\n",
       "        vertical-align: middle;\n",
       "    }\n",
       "\n",
       "    .dataframe tbody tr th {\n",
       "        vertical-align: top;\n",
       "    }\n",
       "\n",
       "    .dataframe thead th {\n",
       "        text-align: right;\n",
       "    }\n",
       "</style>\n",
       "<table border=\"1\" class=\"dataframe\">\n",
       "  <thead>\n",
       "    <tr style=\"text-align: right;\">\n",
       "      <th></th>\n",
       "      <th>Analytical thinking</th>\n",
       "      <th>Systemic thinking</th>\n",
       "      <th>Adaptability</th>\n",
       "      <th>Focus</th>\n",
       "      <th>game_id</th>\n",
       "      <th>total_score</th>\n",
       "      <th>cat_1</th>\n",
       "      <th>cat_2</th>\n",
       "      <th>cat_3</th>\n",
       "      <th>cat_4</th>\n",
       "      <th>...</th>\n",
       "      <th>cat_6</th>\n",
       "      <th>score_rating</th>\n",
       "      <th>rating_1</th>\n",
       "      <th>rating_2</th>\n",
       "      <th>rating_3</th>\n",
       "      <th>rating_4</th>\n",
       "      <th>rating_5</th>\n",
       "      <th>rating_6</th>\n",
       "      <th>total</th>\n",
       "      <th>rating_user</th>\n",
       "    </tr>\n",
       "    <tr>\n",
       "      <th>id</th>\n",
       "      <th></th>\n",
       "      <th></th>\n",
       "      <th></th>\n",
       "      <th></th>\n",
       "      <th></th>\n",
       "      <th></th>\n",
       "      <th></th>\n",
       "      <th></th>\n",
       "      <th></th>\n",
       "      <th></th>\n",
       "      <th></th>\n",
       "      <th></th>\n",
       "      <th></th>\n",
       "      <th></th>\n",
       "      <th></th>\n",
       "      <th></th>\n",
       "      <th></th>\n",
       "      <th></th>\n",
       "      <th></th>\n",
       "      <th></th>\n",
       "      <th></th>\n",
       "    </tr>\n",
       "  </thead>\n",
       "  <tbody>\n",
       "    <tr>\n",
       "      <th>10199</th>\n",
       "      <td>0</td>\n",
       "      <td>0</td>\n",
       "      <td>0</td>\n",
       "      <td>0</td>\n",
       "      <td>262</td>\n",
       "      <td>1108</td>\n",
       "      <td>7.00</td>\n",
       "      <td>40.00</td>\n",
       "      <td>284.00</td>\n",
       "      <td>124.00</td>\n",
       "      <td>...</td>\n",
       "      <td>554.00</td>\n",
       "      <td>0.89</td>\n",
       "      <td>0.27</td>\n",
       "      <td>0.34</td>\n",
       "      <td>0.85</td>\n",
       "      <td>0.82</td>\n",
       "      <td>0.95</td>\n",
       "      <td>0.89</td>\n",
       "      <td>0.06</td>\n",
       "      <td>0.05</td>\n",
       "    </tr>\n",
       "  </tbody>\n",
       "</table>\n",
       "<p>1 rows × 21 columns</p>\n",
       "</div>"
      ],
      "text/plain": [
       "       Analytical thinking  Systemic thinking  Adaptability  Focus  game_id  \\\n",
       "id                                                                            \n",
       "10199                    0                  0             0      0      262   \n",
       "\n",
       "       total_score  cat_1  cat_2  cat_3  cat_4  ...  cat_6  score_rating  \\\n",
       "id                                              ...                        \n",
       "10199         1108   7.00  40.00 284.00 124.00  ... 554.00          0.89   \n",
       "\n",
       "       rating_1  rating_2  rating_3  rating_4  rating_5  rating_6  total  \\\n",
       "id                                                                         \n",
       "10199      0.27      0.34      0.85      0.82      0.95      0.89   0.06   \n",
       "\n",
       "       rating_user  \n",
       "id                  \n",
       "10199         0.05  \n",
       "\n",
       "[1 rows x 21 columns]"
      ]
     },
     "execution_count": 9612,
     "metadata": {},
     "output_type": "execute_result"
    }
   ],
   "source": [
    "df_sample_1.head(1)"
   ]
  },
  {
   "cell_type": "code",
   "execution_count": 9613,
   "id": "a14a5853",
   "metadata": {},
   "outputs": [],
   "source": [
    "col_drop = ['Analytical thinking', 'Systemic thinking', 'Adaptability', \n",
    "            'Focus']"
   ]
  },
  {
   "cell_type": "code",
   "execution_count": 9614,
   "id": "d3d81fb2",
   "metadata": {},
   "outputs": [],
   "source": [
    "X_test = df_sample_1.drop(col_drop, axis=1)"
   ]
  },
  {
   "cell_type": "code",
   "execution_count": 9615,
   "id": "536f1fe6",
   "metadata": {
    "scrolled": true
   },
   "outputs": [
    {
     "data": {
      "text/html": [
       "<div>\n",
       "<style scoped>\n",
       "    .dataframe tbody tr th:only-of-type {\n",
       "        vertical-align: middle;\n",
       "    }\n",
       "\n",
       "    .dataframe tbody tr th {\n",
       "        vertical-align: top;\n",
       "    }\n",
       "\n",
       "    .dataframe thead th {\n",
       "        text-align: right;\n",
       "    }\n",
       "</style>\n",
       "<table border=\"1\" class=\"dataframe\">\n",
       "  <thead>\n",
       "    <tr style=\"text-align: right;\">\n",
       "      <th></th>\n",
       "      <th>game_id</th>\n",
       "      <th>total_score</th>\n",
       "      <th>cat_1</th>\n",
       "      <th>cat_2</th>\n",
       "      <th>cat_3</th>\n",
       "      <th>cat_4</th>\n",
       "      <th>cat_5</th>\n",
       "      <th>cat_6</th>\n",
       "      <th>score_rating</th>\n",
       "      <th>rating_1</th>\n",
       "      <th>rating_2</th>\n",
       "      <th>rating_3</th>\n",
       "      <th>rating_4</th>\n",
       "      <th>rating_5</th>\n",
       "      <th>rating_6</th>\n",
       "      <th>total</th>\n",
       "      <th>rating_user</th>\n",
       "    </tr>\n",
       "    <tr>\n",
       "      <th>id</th>\n",
       "      <th></th>\n",
       "      <th></th>\n",
       "      <th></th>\n",
       "      <th></th>\n",
       "      <th></th>\n",
       "      <th></th>\n",
       "      <th></th>\n",
       "      <th></th>\n",
       "      <th></th>\n",
       "      <th></th>\n",
       "      <th></th>\n",
       "      <th></th>\n",
       "      <th></th>\n",
       "      <th></th>\n",
       "      <th></th>\n",
       "      <th></th>\n",
       "      <th></th>\n",
       "    </tr>\n",
       "  </thead>\n",
       "  <tbody>\n",
       "    <tr>\n",
       "      <th>10199</th>\n",
       "      <td>262</td>\n",
       "      <td>1108</td>\n",
       "      <td>7.00</td>\n",
       "      <td>40.00</td>\n",
       "      <td>284.00</td>\n",
       "      <td>124.00</td>\n",
       "      <td>99.00</td>\n",
       "      <td>554.00</td>\n",
       "      <td>0.89</td>\n",
       "      <td>0.27</td>\n",
       "      <td>0.34</td>\n",
       "      <td>0.85</td>\n",
       "      <td>0.82</td>\n",
       "      <td>0.95</td>\n",
       "      <td>0.89</td>\n",
       "      <td>0.06</td>\n",
       "      <td>0.05</td>\n",
       "    </tr>\n",
       "  </tbody>\n",
       "</table>\n",
       "</div>"
      ],
      "text/plain": [
       "       game_id  total_score  cat_1  cat_2  cat_3  cat_4  cat_5  cat_6  \\\n",
       "id                                                                      \n",
       "10199      262         1108   7.00  40.00 284.00 124.00  99.00 554.00   \n",
       "\n",
       "       score_rating  rating_1  rating_2  rating_3  rating_4  rating_5  \\\n",
       "id                                                                      \n",
       "10199          0.89      0.27      0.34      0.85      0.82      0.95   \n",
       "\n",
       "       rating_6  total  rating_user  \n",
       "id                                   \n",
       "10199      0.89   0.06         0.05  "
      ]
     },
     "execution_count": 9615,
     "metadata": {},
     "output_type": "execute_result"
    }
   ],
   "source": [
    "X_test.head(1)"
   ]
  },
  {
   "cell_type": "code",
   "execution_count": 9616,
   "id": "ca36236a",
   "metadata": {},
   "outputs": [
    {
     "data": {
      "text/plain": [
       "(293, 17)"
      ]
     },
     "execution_count": 9616,
     "metadata": {},
     "output_type": "execute_result"
    }
   ],
   "source": [
    "X_test.shape"
   ]
  },
  {
   "cell_type": "code",
   "execution_count": 9617,
   "id": "e6e7397b",
   "metadata": {},
   "outputs": [],
   "source": [
    "X_test = scaler_1.transform(X_test)"
   ]
  },
  {
   "cell_type": "code",
   "execution_count": 9618,
   "id": "429562b0",
   "metadata": {},
   "outputs": [],
   "source": [
    "df_sample['Analytical thinking'] = model_1.predict(X_test).astype('int')"
   ]
  },
  {
   "cell_type": "markdown",
   "id": "6bc482a8",
   "metadata": {},
   "source": [
    "**Systemic thinking**"
   ]
  },
  {
   "cell_type": "code",
   "execution_count": 9619,
   "id": "0836991b",
   "metadata": {},
   "outputs": [],
   "source": [
    "for i in range(1, 438):\n",
    "    if i in list_dec_2.index:\n",
    "        corr = list_dec_2['corr'].loc[i]\n",
    "        ud_2[str(i)] = ud_2[str(i)] * corr  \n",
    "    else:\n",
    "        continue    "
   ]
  },
  {
   "cell_type": "code",
   "execution_count": 9620,
   "id": "8d2c48f5",
   "metadata": {
    "scrolled": true
   },
   "outputs": [
    {
     "data": {
      "text/html": [
       "<div>\n",
       "<style scoped>\n",
       "    .dataframe tbody tr th:only-of-type {\n",
       "        vertical-align: middle;\n",
       "    }\n",
       "\n",
       "    .dataframe tbody tr th {\n",
       "        vertical-align: top;\n",
       "    }\n",
       "\n",
       "    .dataframe thead th {\n",
       "        text-align: right;\n",
       "    }\n",
       "</style>\n",
       "<table border=\"1\" class=\"dataframe\">\n",
       "  <thead>\n",
       "    <tr style=\"text-align: right;\">\n",
       "      <th></th>\n",
       "      <th>1</th>\n",
       "      <th>2</th>\n",
       "      <th>3</th>\n",
       "      <th>4</th>\n",
       "      <th>5</th>\n",
       "      <th>6</th>\n",
       "      <th>7</th>\n",
       "      <th>8</th>\n",
       "      <th>9</th>\n",
       "      <th>10</th>\n",
       "      <th>...</th>\n",
       "      <th>430</th>\n",
       "      <th>431</th>\n",
       "      <th>432</th>\n",
       "      <th>433</th>\n",
       "      <th>434</th>\n",
       "      <th>435</th>\n",
       "      <th>436</th>\n",
       "      <th>437</th>\n",
       "      <th>438</th>\n",
       "      <th>total</th>\n",
       "    </tr>\n",
       "    <tr>\n",
       "      <th>user_id</th>\n",
       "      <th></th>\n",
       "      <th></th>\n",
       "      <th></th>\n",
       "      <th></th>\n",
       "      <th></th>\n",
       "      <th></th>\n",
       "      <th></th>\n",
       "      <th></th>\n",
       "      <th></th>\n",
       "      <th></th>\n",
       "      <th></th>\n",
       "      <th></th>\n",
       "      <th></th>\n",
       "      <th></th>\n",
       "      <th></th>\n",
       "      <th></th>\n",
       "      <th></th>\n",
       "      <th></th>\n",
       "      <th></th>\n",
       "      <th></th>\n",
       "      <th></th>\n",
       "    </tr>\n",
       "  </thead>\n",
       "  <tbody>\n",
       "    <tr>\n",
       "      <th>10001</th>\n",
       "      <td>0.00</td>\n",
       "      <td>0.00</td>\n",
       "      <td>0.00</td>\n",
       "      <td>0.00</td>\n",
       "      <td>0.00</td>\n",
       "      <td>0.00</td>\n",
       "      <td>0.00</td>\n",
       "      <td>0.00</td>\n",
       "      <td>0.00</td>\n",
       "      <td>0.00</td>\n",
       "      <td>...</td>\n",
       "      <td>0.00</td>\n",
       "      <td>0.00</td>\n",
       "      <td>0.00</td>\n",
       "      <td>0.00</td>\n",
       "      <td>0.00</td>\n",
       "      <td>0.00</td>\n",
       "      <td>0.00</td>\n",
       "      <td>0.00</td>\n",
       "      <td>0</td>\n",
       "      <td>0.58</td>\n",
       "    </tr>\n",
       "  </tbody>\n",
       "</table>\n",
       "<p>1 rows × 439 columns</p>\n",
       "</div>"
      ],
      "text/plain": [
       "           1    2    3    4    5    6    7    8    9   10  ...  430  431  432  \\\n",
       "user_id                                                    ...                  \n",
       "10001   0.00 0.00 0.00 0.00 0.00 0.00 0.00 0.00 0.00 0.00  ... 0.00 0.00 0.00   \n",
       "\n",
       "         433  434  435  436  437  438  total  \n",
       "user_id                                       \n",
       "10001   0.00 0.00 0.00 0.00 0.00    0   0.58  \n",
       "\n",
       "[1 rows x 439 columns]"
      ]
     },
     "execution_count": 9620,
     "metadata": {},
     "output_type": "execute_result"
    }
   ],
   "source": [
    "ud_2.head(1)"
   ]
  },
  {
   "cell_type": "code",
   "execution_count": 9621,
   "id": "75d56b77",
   "metadata": {},
   "outputs": [],
   "source": [
    "ud_2['total'] = ud_2.sum(axis=1)"
   ]
  },
  {
   "cell_type": "code",
   "execution_count": 9622,
   "id": "929d69ba",
   "metadata": {},
   "outputs": [],
   "source": [
    "col_drop = ['Analytical thinking', 'Systemic thinking', 'Adaptability','Focus']"
   ]
  },
  {
   "cell_type": "code",
   "execution_count": 9623,
   "id": "168125ab",
   "metadata": {},
   "outputs": [],
   "source": [
    "df_sample_2 = df_sample.join(ud_2)"
   ]
  },
  {
   "cell_type": "code",
   "execution_count": 9624,
   "id": "2bd3f06f",
   "metadata": {},
   "outputs": [
    {
     "data": {
      "text/plain": [
       "(293, 458)"
      ]
     },
     "execution_count": 9624,
     "metadata": {},
     "output_type": "execute_result"
    }
   ],
   "source": [
    "df_sample_2.shape"
   ]
  },
  {
   "cell_type": "code",
   "execution_count": 9625,
   "id": "b917d880",
   "metadata": {
    "scrolled": true
   },
   "outputs": [
    {
     "data": {
      "text/html": [
       "<div>\n",
       "<style scoped>\n",
       "    .dataframe tbody tr th:only-of-type {\n",
       "        vertical-align: middle;\n",
       "    }\n",
       "\n",
       "    .dataframe tbody tr th {\n",
       "        vertical-align: top;\n",
       "    }\n",
       "\n",
       "    .dataframe thead th {\n",
       "        text-align: right;\n",
       "    }\n",
       "</style>\n",
       "<table border=\"1\" class=\"dataframe\">\n",
       "  <thead>\n",
       "    <tr style=\"text-align: right;\">\n",
       "      <th></th>\n",
       "      <th>Analytical thinking</th>\n",
       "      <th>Systemic thinking</th>\n",
       "      <th>Adaptability</th>\n",
       "      <th>Focus</th>\n",
       "      <th>game_id</th>\n",
       "      <th>total_score</th>\n",
       "      <th>cat_1</th>\n",
       "      <th>cat_2</th>\n",
       "      <th>cat_3</th>\n",
       "      <th>cat_4</th>\n",
       "      <th>...</th>\n",
       "      <th>430</th>\n",
       "      <th>431</th>\n",
       "      <th>432</th>\n",
       "      <th>433</th>\n",
       "      <th>434</th>\n",
       "      <th>435</th>\n",
       "      <th>436</th>\n",
       "      <th>437</th>\n",
       "      <th>438</th>\n",
       "      <th>total</th>\n",
       "    </tr>\n",
       "    <tr>\n",
       "      <th>id</th>\n",
       "      <th></th>\n",
       "      <th></th>\n",
       "      <th></th>\n",
       "      <th></th>\n",
       "      <th></th>\n",
       "      <th></th>\n",
       "      <th></th>\n",
       "      <th></th>\n",
       "      <th></th>\n",
       "      <th></th>\n",
       "      <th></th>\n",
       "      <th></th>\n",
       "      <th></th>\n",
       "      <th></th>\n",
       "      <th></th>\n",
       "      <th></th>\n",
       "      <th></th>\n",
       "      <th></th>\n",
       "      <th></th>\n",
       "      <th></th>\n",
       "      <th></th>\n",
       "    </tr>\n",
       "  </thead>\n",
       "  <tbody>\n",
       "    <tr>\n",
       "      <th>10199</th>\n",
       "      <td>5</td>\n",
       "      <td>0</td>\n",
       "      <td>0</td>\n",
       "      <td>0</td>\n",
       "      <td>262</td>\n",
       "      <td>1108</td>\n",
       "      <td>7.00</td>\n",
       "      <td>40.00</td>\n",
       "      <td>284.00</td>\n",
       "      <td>124.00</td>\n",
       "      <td>...</td>\n",
       "      <td>0.00</td>\n",
       "      <td>0.00</td>\n",
       "      <td>0.00</td>\n",
       "      <td>0.00</td>\n",
       "      <td>0.00</td>\n",
       "      <td>0.00</td>\n",
       "      <td>0.00</td>\n",
       "      <td>0.00</td>\n",
       "      <td>0</td>\n",
       "      <td>0.06</td>\n",
       "    </tr>\n",
       "  </tbody>\n",
       "</table>\n",
       "<p>1 rows × 458 columns</p>\n",
       "</div>"
      ],
      "text/plain": [
       "       Analytical thinking  Systemic thinking  Adaptability  Focus  game_id  \\\n",
       "id                                                                            \n",
       "10199                    5                  0             0      0      262   \n",
       "\n",
       "       total_score  cat_1  cat_2  cat_3  cat_4  ...  430  431  432  433  434  \\\n",
       "id                                              ...                            \n",
       "10199         1108   7.00  40.00 284.00 124.00  ... 0.00 0.00 0.00 0.00 0.00   \n",
       "\n",
       "       435  436  437  438  total  \n",
       "id                                \n",
       "10199 0.00 0.00 0.00    0   0.06  \n",
       "\n",
       "[1 rows x 458 columns]"
      ]
     },
     "execution_count": 9625,
     "metadata": {},
     "output_type": "execute_result"
    }
   ],
   "source": [
    "df_sample_2.head(1)"
   ]
  },
  {
   "cell_type": "code",
   "execution_count": 9626,
   "id": "ddaabb41",
   "metadata": {},
   "outputs": [],
   "source": [
    "df_sample_2['max_total'] = df_sample_2.groupby('game_id')['total'].transform('max')"
   ]
  },
  {
   "cell_type": "code",
   "execution_count": 9627,
   "id": "3af1ef7a",
   "metadata": {},
   "outputs": [],
   "source": [
    "df_sample_2['rating_user'] = df_sample_2['total'] / df_sample_2['max_total']"
   ]
  },
  {
   "cell_type": "code",
   "execution_count": 9628,
   "id": "b02eaeaf",
   "metadata": {},
   "outputs": [],
   "source": [
    "for i in range(1, 439):\n",
    "    df_sample_2 = df_sample_2.drop(str(i), axis=1)    "
   ]
  },
  {
   "cell_type": "code",
   "execution_count": 9629,
   "id": "511116ce",
   "metadata": {},
   "outputs": [],
   "source": [
    "df_sample_2 = df_sample_2.drop('max_total', axis=1)"
   ]
  },
  {
   "cell_type": "code",
   "execution_count": 9630,
   "id": "39ff7d25",
   "metadata": {
    "scrolled": true
   },
   "outputs": [
    {
     "data": {
      "text/plain": [
       "(293, 21)"
      ]
     },
     "execution_count": 9630,
     "metadata": {},
     "output_type": "execute_result"
    }
   ],
   "source": [
    "df_sample_2.shape"
   ]
  },
  {
   "cell_type": "code",
   "execution_count": 9631,
   "id": "e7b76c4d",
   "metadata": {},
   "outputs": [
    {
     "data": {
      "text/html": [
       "<div>\n",
       "<style scoped>\n",
       "    .dataframe tbody tr th:only-of-type {\n",
       "        vertical-align: middle;\n",
       "    }\n",
       "\n",
       "    .dataframe tbody tr th {\n",
       "        vertical-align: top;\n",
       "    }\n",
       "\n",
       "    .dataframe thead th {\n",
       "        text-align: right;\n",
       "    }\n",
       "</style>\n",
       "<table border=\"1\" class=\"dataframe\">\n",
       "  <thead>\n",
       "    <tr style=\"text-align: right;\">\n",
       "      <th></th>\n",
       "      <th>Analytical thinking</th>\n",
       "      <th>Systemic thinking</th>\n",
       "      <th>Adaptability</th>\n",
       "      <th>Focus</th>\n",
       "      <th>game_id</th>\n",
       "      <th>total_score</th>\n",
       "      <th>cat_1</th>\n",
       "      <th>cat_2</th>\n",
       "      <th>cat_3</th>\n",
       "      <th>cat_4</th>\n",
       "      <th>...</th>\n",
       "      <th>cat_6</th>\n",
       "      <th>score_rating</th>\n",
       "      <th>rating_1</th>\n",
       "      <th>rating_2</th>\n",
       "      <th>rating_3</th>\n",
       "      <th>rating_4</th>\n",
       "      <th>rating_5</th>\n",
       "      <th>rating_6</th>\n",
       "      <th>total</th>\n",
       "      <th>rating_user</th>\n",
       "    </tr>\n",
       "    <tr>\n",
       "      <th>id</th>\n",
       "      <th></th>\n",
       "      <th></th>\n",
       "      <th></th>\n",
       "      <th></th>\n",
       "      <th></th>\n",
       "      <th></th>\n",
       "      <th></th>\n",
       "      <th></th>\n",
       "      <th></th>\n",
       "      <th></th>\n",
       "      <th></th>\n",
       "      <th></th>\n",
       "      <th></th>\n",
       "      <th></th>\n",
       "      <th></th>\n",
       "      <th></th>\n",
       "      <th></th>\n",
       "      <th></th>\n",
       "      <th></th>\n",
       "      <th></th>\n",
       "      <th></th>\n",
       "    </tr>\n",
       "  </thead>\n",
       "  <tbody>\n",
       "    <tr>\n",
       "      <th>10199</th>\n",
       "      <td>5</td>\n",
       "      <td>0</td>\n",
       "      <td>0</td>\n",
       "      <td>0</td>\n",
       "      <td>262</td>\n",
       "      <td>1108</td>\n",
       "      <td>7.00</td>\n",
       "      <td>40.00</td>\n",
       "      <td>284.00</td>\n",
       "      <td>124.00</td>\n",
       "      <td>...</td>\n",
       "      <td>554.00</td>\n",
       "      <td>0.89</td>\n",
       "      <td>0.27</td>\n",
       "      <td>0.34</td>\n",
       "      <td>0.85</td>\n",
       "      <td>0.82</td>\n",
       "      <td>0.95</td>\n",
       "      <td>0.89</td>\n",
       "      <td>0.06</td>\n",
       "      <td>0.05</td>\n",
       "    </tr>\n",
       "  </tbody>\n",
       "</table>\n",
       "<p>1 rows × 21 columns</p>\n",
       "</div>"
      ],
      "text/plain": [
       "       Analytical thinking  Systemic thinking  Adaptability  Focus  game_id  \\\n",
       "id                                                                            \n",
       "10199                    5                  0             0      0      262   \n",
       "\n",
       "       total_score  cat_1  cat_2  cat_3  cat_4  ...  cat_6  score_rating  \\\n",
       "id                                              ...                        \n",
       "10199         1108   7.00  40.00 284.00 124.00  ... 554.00          0.89   \n",
       "\n",
       "       rating_1  rating_2  rating_3  rating_4  rating_5  rating_6  total  \\\n",
       "id                                                                         \n",
       "10199      0.27      0.34      0.85      0.82      0.95      0.89   0.06   \n",
       "\n",
       "       rating_user  \n",
       "id                  \n",
       "10199         0.05  \n",
       "\n",
       "[1 rows x 21 columns]"
      ]
     },
     "execution_count": 9631,
     "metadata": {},
     "output_type": "execute_result"
    }
   ],
   "source": [
    "df_sample_2.head(1)"
   ]
  },
  {
   "cell_type": "code",
   "execution_count": 9632,
   "id": "2cfc413f",
   "metadata": {},
   "outputs": [],
   "source": [
    "col_drop = ['Analytical thinking', 'Systemic thinking', 'Adaptability', \n",
    "            'Focus']"
   ]
  },
  {
   "cell_type": "code",
   "execution_count": 9633,
   "id": "1ecbe139",
   "metadata": {},
   "outputs": [],
   "source": [
    "X_test = df_sample_2.drop(col_drop, axis=1)"
   ]
  },
  {
   "cell_type": "code",
   "execution_count": 9634,
   "id": "68465279",
   "metadata": {
    "scrolled": true
   },
   "outputs": [
    {
     "data": {
      "text/html": [
       "<div>\n",
       "<style scoped>\n",
       "    .dataframe tbody tr th:only-of-type {\n",
       "        vertical-align: middle;\n",
       "    }\n",
       "\n",
       "    .dataframe tbody tr th {\n",
       "        vertical-align: top;\n",
       "    }\n",
       "\n",
       "    .dataframe thead th {\n",
       "        text-align: right;\n",
       "    }\n",
       "</style>\n",
       "<table border=\"1\" class=\"dataframe\">\n",
       "  <thead>\n",
       "    <tr style=\"text-align: right;\">\n",
       "      <th></th>\n",
       "      <th>game_id</th>\n",
       "      <th>total_score</th>\n",
       "      <th>cat_1</th>\n",
       "      <th>cat_2</th>\n",
       "      <th>cat_3</th>\n",
       "      <th>cat_4</th>\n",
       "      <th>cat_5</th>\n",
       "      <th>cat_6</th>\n",
       "      <th>score_rating</th>\n",
       "      <th>rating_1</th>\n",
       "      <th>rating_2</th>\n",
       "      <th>rating_3</th>\n",
       "      <th>rating_4</th>\n",
       "      <th>rating_5</th>\n",
       "      <th>rating_6</th>\n",
       "      <th>total</th>\n",
       "      <th>rating_user</th>\n",
       "    </tr>\n",
       "    <tr>\n",
       "      <th>id</th>\n",
       "      <th></th>\n",
       "      <th></th>\n",
       "      <th></th>\n",
       "      <th></th>\n",
       "      <th></th>\n",
       "      <th></th>\n",
       "      <th></th>\n",
       "      <th></th>\n",
       "      <th></th>\n",
       "      <th></th>\n",
       "      <th></th>\n",
       "      <th></th>\n",
       "      <th></th>\n",
       "      <th></th>\n",
       "      <th></th>\n",
       "      <th></th>\n",
       "      <th></th>\n",
       "    </tr>\n",
       "  </thead>\n",
       "  <tbody>\n",
       "    <tr>\n",
       "      <th>10199</th>\n",
       "      <td>262</td>\n",
       "      <td>1108</td>\n",
       "      <td>7.00</td>\n",
       "      <td>40.00</td>\n",
       "      <td>284.00</td>\n",
       "      <td>124.00</td>\n",
       "      <td>99.00</td>\n",
       "      <td>554.00</td>\n",
       "      <td>0.89</td>\n",
       "      <td>0.27</td>\n",
       "      <td>0.34</td>\n",
       "      <td>0.85</td>\n",
       "      <td>0.82</td>\n",
       "      <td>0.95</td>\n",
       "      <td>0.89</td>\n",
       "      <td>0.06</td>\n",
       "      <td>0.05</td>\n",
       "    </tr>\n",
       "  </tbody>\n",
       "</table>\n",
       "</div>"
      ],
      "text/plain": [
       "       game_id  total_score  cat_1  cat_2  cat_3  cat_4  cat_5  cat_6  \\\n",
       "id                                                                      \n",
       "10199      262         1108   7.00  40.00 284.00 124.00  99.00 554.00   \n",
       "\n",
       "       score_rating  rating_1  rating_2  rating_3  rating_4  rating_5  \\\n",
       "id                                                                      \n",
       "10199          0.89      0.27      0.34      0.85      0.82      0.95   \n",
       "\n",
       "       rating_6  total  rating_user  \n",
       "id                                   \n",
       "10199      0.89   0.06         0.05  "
      ]
     },
     "execution_count": 9634,
     "metadata": {},
     "output_type": "execute_result"
    }
   ],
   "source": [
    "X_test.head(1)"
   ]
  },
  {
   "cell_type": "code",
   "execution_count": 9635,
   "id": "9d445f2f",
   "metadata": {
    "scrolled": true
   },
   "outputs": [
    {
     "data": {
      "text/plain": [
       "(293, 17)"
      ]
     },
     "execution_count": 9635,
     "metadata": {},
     "output_type": "execute_result"
    }
   ],
   "source": [
    "X_test.shape"
   ]
  },
  {
   "cell_type": "code",
   "execution_count": 9636,
   "id": "37b501f7",
   "metadata": {},
   "outputs": [],
   "source": [
    "X_test = scaler_2.transform(X_test)"
   ]
  },
  {
   "cell_type": "code",
   "execution_count": 9637,
   "id": "74c0eb92",
   "metadata": {},
   "outputs": [],
   "source": [
    "df_sample['Systemic thinking'] = model_2.predict(X_test).astype('int')"
   ]
  },
  {
   "cell_type": "markdown",
   "id": "6ac06426",
   "metadata": {},
   "source": [
    "**Adaptability**"
   ]
  },
  {
   "cell_type": "code",
   "execution_count": 9638,
   "id": "a9f128bd",
   "metadata": {},
   "outputs": [],
   "source": [
    "for i in range(1, 438):\n",
    "    if i in list_dec_3.index:\n",
    "        corr = list_dec_3['corr'].loc[i]\n",
    "        ud_3[str(i)] = ud_3[str(i)] * corr  \n",
    "    else:\n",
    "        continue    "
   ]
  },
  {
   "cell_type": "code",
   "execution_count": 9639,
   "id": "e109c027",
   "metadata": {
    "scrolled": true
   },
   "outputs": [
    {
     "data": {
      "text/html": [
       "<div>\n",
       "<style scoped>\n",
       "    .dataframe tbody tr th:only-of-type {\n",
       "        vertical-align: middle;\n",
       "    }\n",
       "\n",
       "    .dataframe tbody tr th {\n",
       "        vertical-align: top;\n",
       "    }\n",
       "\n",
       "    .dataframe thead th {\n",
       "        text-align: right;\n",
       "    }\n",
       "</style>\n",
       "<table border=\"1\" class=\"dataframe\">\n",
       "  <thead>\n",
       "    <tr style=\"text-align: right;\">\n",
       "      <th></th>\n",
       "      <th>1</th>\n",
       "      <th>2</th>\n",
       "      <th>3</th>\n",
       "      <th>4</th>\n",
       "      <th>5</th>\n",
       "      <th>6</th>\n",
       "      <th>7</th>\n",
       "      <th>8</th>\n",
       "      <th>9</th>\n",
       "      <th>10</th>\n",
       "      <th>...</th>\n",
       "      <th>430</th>\n",
       "      <th>431</th>\n",
       "      <th>432</th>\n",
       "      <th>433</th>\n",
       "      <th>434</th>\n",
       "      <th>435</th>\n",
       "      <th>436</th>\n",
       "      <th>437</th>\n",
       "      <th>438</th>\n",
       "      <th>total</th>\n",
       "    </tr>\n",
       "    <tr>\n",
       "      <th>user_id</th>\n",
       "      <th></th>\n",
       "      <th></th>\n",
       "      <th></th>\n",
       "      <th></th>\n",
       "      <th></th>\n",
       "      <th></th>\n",
       "      <th></th>\n",
       "      <th></th>\n",
       "      <th></th>\n",
       "      <th></th>\n",
       "      <th></th>\n",
       "      <th></th>\n",
       "      <th></th>\n",
       "      <th></th>\n",
       "      <th></th>\n",
       "      <th></th>\n",
       "      <th></th>\n",
       "      <th></th>\n",
       "      <th></th>\n",
       "      <th></th>\n",
       "      <th></th>\n",
       "    </tr>\n",
       "  </thead>\n",
       "  <tbody>\n",
       "    <tr>\n",
       "      <th>10001</th>\n",
       "      <td>0.00</td>\n",
       "      <td>0.00</td>\n",
       "      <td>0.00</td>\n",
       "      <td>0.00</td>\n",
       "      <td>0.00</td>\n",
       "      <td>0.00</td>\n",
       "      <td>0.00</td>\n",
       "      <td>0.00</td>\n",
       "      <td>0.00</td>\n",
       "      <td>0.00</td>\n",
       "      <td>...</td>\n",
       "      <td>0.00</td>\n",
       "      <td>0.00</td>\n",
       "      <td>0.00</td>\n",
       "      <td>0.00</td>\n",
       "      <td>0.00</td>\n",
       "      <td>0.00</td>\n",
       "      <td>0.00</td>\n",
       "      <td>0.00</td>\n",
       "      <td>0</td>\n",
       "      <td>0.59</td>\n",
       "    </tr>\n",
       "  </tbody>\n",
       "</table>\n",
       "<p>1 rows × 439 columns</p>\n",
       "</div>"
      ],
      "text/plain": [
       "           1    2    3    4    5    6    7    8    9   10  ...  430  431  432  \\\n",
       "user_id                                                    ...                  \n",
       "10001   0.00 0.00 0.00 0.00 0.00 0.00 0.00 0.00 0.00 0.00  ... 0.00 0.00 0.00   \n",
       "\n",
       "         433  434  435  436  437  438  total  \n",
       "user_id                                       \n",
       "10001   0.00 0.00 0.00 0.00 0.00    0   0.59  \n",
       "\n",
       "[1 rows x 439 columns]"
      ]
     },
     "execution_count": 9639,
     "metadata": {},
     "output_type": "execute_result"
    }
   ],
   "source": [
    "ud_3.head(1)"
   ]
  },
  {
   "cell_type": "code",
   "execution_count": 9640,
   "id": "3d909646",
   "metadata": {},
   "outputs": [],
   "source": [
    "ud_3['total'] = ud_3.sum(axis=1)"
   ]
  },
  {
   "cell_type": "code",
   "execution_count": 9641,
   "id": "170751ac",
   "metadata": {},
   "outputs": [],
   "source": [
    "col_drop = ['Analytical thinking', 'Systemic thinking', 'Adaptability','Focus']"
   ]
  },
  {
   "cell_type": "code",
   "execution_count": 9642,
   "id": "2e4cda36",
   "metadata": {},
   "outputs": [],
   "source": [
    "df_sample_3 = df_sample.join(ud_3)"
   ]
  },
  {
   "cell_type": "code",
   "execution_count": 9643,
   "id": "8aa355f2",
   "metadata": {},
   "outputs": [
    {
     "data": {
      "text/plain": [
       "(293, 458)"
      ]
     },
     "execution_count": 9643,
     "metadata": {},
     "output_type": "execute_result"
    }
   ],
   "source": [
    "df_sample_3.shape"
   ]
  },
  {
   "cell_type": "code",
   "execution_count": 9644,
   "id": "02f0bf1f",
   "metadata": {
    "scrolled": true
   },
   "outputs": [
    {
     "data": {
      "text/html": [
       "<div>\n",
       "<style scoped>\n",
       "    .dataframe tbody tr th:only-of-type {\n",
       "        vertical-align: middle;\n",
       "    }\n",
       "\n",
       "    .dataframe tbody tr th {\n",
       "        vertical-align: top;\n",
       "    }\n",
       "\n",
       "    .dataframe thead th {\n",
       "        text-align: right;\n",
       "    }\n",
       "</style>\n",
       "<table border=\"1\" class=\"dataframe\">\n",
       "  <thead>\n",
       "    <tr style=\"text-align: right;\">\n",
       "      <th></th>\n",
       "      <th>Analytical thinking</th>\n",
       "      <th>Systemic thinking</th>\n",
       "      <th>Adaptability</th>\n",
       "      <th>Focus</th>\n",
       "      <th>game_id</th>\n",
       "      <th>total_score</th>\n",
       "      <th>cat_1</th>\n",
       "      <th>cat_2</th>\n",
       "      <th>cat_3</th>\n",
       "      <th>cat_4</th>\n",
       "      <th>...</th>\n",
       "      <th>430</th>\n",
       "      <th>431</th>\n",
       "      <th>432</th>\n",
       "      <th>433</th>\n",
       "      <th>434</th>\n",
       "      <th>435</th>\n",
       "      <th>436</th>\n",
       "      <th>437</th>\n",
       "      <th>438</th>\n",
       "      <th>total</th>\n",
       "    </tr>\n",
       "    <tr>\n",
       "      <th>id</th>\n",
       "      <th></th>\n",
       "      <th></th>\n",
       "      <th></th>\n",
       "      <th></th>\n",
       "      <th></th>\n",
       "      <th></th>\n",
       "      <th></th>\n",
       "      <th></th>\n",
       "      <th></th>\n",
       "      <th></th>\n",
       "      <th></th>\n",
       "      <th></th>\n",
       "      <th></th>\n",
       "      <th></th>\n",
       "      <th></th>\n",
       "      <th></th>\n",
       "      <th></th>\n",
       "      <th></th>\n",
       "      <th></th>\n",
       "      <th></th>\n",
       "      <th></th>\n",
       "    </tr>\n",
       "  </thead>\n",
       "  <tbody>\n",
       "    <tr>\n",
       "      <th>10199</th>\n",
       "      <td>5</td>\n",
       "      <td>6</td>\n",
       "      <td>0</td>\n",
       "      <td>0</td>\n",
       "      <td>262</td>\n",
       "      <td>1108</td>\n",
       "      <td>7.00</td>\n",
       "      <td>40.00</td>\n",
       "      <td>284.00</td>\n",
       "      <td>124.00</td>\n",
       "      <td>...</td>\n",
       "      <td>0.00</td>\n",
       "      <td>0.00</td>\n",
       "      <td>0.00</td>\n",
       "      <td>0.00</td>\n",
       "      <td>0.00</td>\n",
       "      <td>0.00</td>\n",
       "      <td>0.00</td>\n",
       "      <td>0.00</td>\n",
       "      <td>0</td>\n",
       "      <td>0.06</td>\n",
       "    </tr>\n",
       "  </tbody>\n",
       "</table>\n",
       "<p>1 rows × 458 columns</p>\n",
       "</div>"
      ],
      "text/plain": [
       "       Analytical thinking  Systemic thinking  Adaptability  Focus  game_id  \\\n",
       "id                                                                            \n",
       "10199                    5                  6             0      0      262   \n",
       "\n",
       "       total_score  cat_1  cat_2  cat_3  cat_4  ...  430  431  432  433  434  \\\n",
       "id                                              ...                            \n",
       "10199         1108   7.00  40.00 284.00 124.00  ... 0.00 0.00 0.00 0.00 0.00   \n",
       "\n",
       "       435  436  437  438  total  \n",
       "id                                \n",
       "10199 0.00 0.00 0.00    0   0.06  \n",
       "\n",
       "[1 rows x 458 columns]"
      ]
     },
     "execution_count": 9644,
     "metadata": {},
     "output_type": "execute_result"
    }
   ],
   "source": [
    "df_sample_3.head(1)"
   ]
  },
  {
   "cell_type": "code",
   "execution_count": 9645,
   "id": "899c230b",
   "metadata": {},
   "outputs": [],
   "source": [
    "df_sample_3['max_total'] = df_sample_3.groupby('game_id')['total'].transform('max')"
   ]
  },
  {
   "cell_type": "code",
   "execution_count": 9646,
   "id": "b81f3587",
   "metadata": {},
   "outputs": [],
   "source": [
    "df_sample_3['rating_user'] = df_sample_3['total'] / df_sample_3['max_total']"
   ]
  },
  {
   "cell_type": "code",
   "execution_count": 9647,
   "id": "776d7c22",
   "metadata": {},
   "outputs": [],
   "source": [
    "for i in range(1, 439):\n",
    "    df_sample_3 = df_sample_3.drop(str(i), axis=1)    "
   ]
  },
  {
   "cell_type": "code",
   "execution_count": 9648,
   "id": "cac1b418",
   "metadata": {},
   "outputs": [],
   "source": [
    "df_sample_3 = df_sample_3.drop('max_total', axis=1)"
   ]
  },
  {
   "cell_type": "code",
   "execution_count": 9649,
   "id": "ac77b698",
   "metadata": {
    "scrolled": true
   },
   "outputs": [
    {
     "data": {
      "text/plain": [
       "(293, 21)"
      ]
     },
     "execution_count": 9649,
     "metadata": {},
     "output_type": "execute_result"
    }
   ],
   "source": [
    "df_sample_3.shape"
   ]
  },
  {
   "cell_type": "code",
   "execution_count": 9650,
   "id": "329d7191",
   "metadata": {},
   "outputs": [
    {
     "data": {
      "text/html": [
       "<div>\n",
       "<style scoped>\n",
       "    .dataframe tbody tr th:only-of-type {\n",
       "        vertical-align: middle;\n",
       "    }\n",
       "\n",
       "    .dataframe tbody tr th {\n",
       "        vertical-align: top;\n",
       "    }\n",
       "\n",
       "    .dataframe thead th {\n",
       "        text-align: right;\n",
       "    }\n",
       "</style>\n",
       "<table border=\"1\" class=\"dataframe\">\n",
       "  <thead>\n",
       "    <tr style=\"text-align: right;\">\n",
       "      <th></th>\n",
       "      <th>Analytical thinking</th>\n",
       "      <th>Systemic thinking</th>\n",
       "      <th>Adaptability</th>\n",
       "      <th>Focus</th>\n",
       "      <th>game_id</th>\n",
       "      <th>total_score</th>\n",
       "      <th>cat_1</th>\n",
       "      <th>cat_2</th>\n",
       "      <th>cat_3</th>\n",
       "      <th>cat_4</th>\n",
       "      <th>...</th>\n",
       "      <th>cat_6</th>\n",
       "      <th>score_rating</th>\n",
       "      <th>rating_1</th>\n",
       "      <th>rating_2</th>\n",
       "      <th>rating_3</th>\n",
       "      <th>rating_4</th>\n",
       "      <th>rating_5</th>\n",
       "      <th>rating_6</th>\n",
       "      <th>total</th>\n",
       "      <th>rating_user</th>\n",
       "    </tr>\n",
       "    <tr>\n",
       "      <th>id</th>\n",
       "      <th></th>\n",
       "      <th></th>\n",
       "      <th></th>\n",
       "      <th></th>\n",
       "      <th></th>\n",
       "      <th></th>\n",
       "      <th></th>\n",
       "      <th></th>\n",
       "      <th></th>\n",
       "      <th></th>\n",
       "      <th></th>\n",
       "      <th></th>\n",
       "      <th></th>\n",
       "      <th></th>\n",
       "      <th></th>\n",
       "      <th></th>\n",
       "      <th></th>\n",
       "      <th></th>\n",
       "      <th></th>\n",
       "      <th></th>\n",
       "      <th></th>\n",
       "    </tr>\n",
       "  </thead>\n",
       "  <tbody>\n",
       "    <tr>\n",
       "      <th>10199</th>\n",
       "      <td>5</td>\n",
       "      <td>6</td>\n",
       "      <td>0</td>\n",
       "      <td>0</td>\n",
       "      <td>262</td>\n",
       "      <td>1108</td>\n",
       "      <td>7.00</td>\n",
       "      <td>40.00</td>\n",
       "      <td>284.00</td>\n",
       "      <td>124.00</td>\n",
       "      <td>...</td>\n",
       "      <td>554.00</td>\n",
       "      <td>0.89</td>\n",
       "      <td>0.27</td>\n",
       "      <td>0.34</td>\n",
       "      <td>0.85</td>\n",
       "      <td>0.82</td>\n",
       "      <td>0.95</td>\n",
       "      <td>0.89</td>\n",
       "      <td>0.06</td>\n",
       "      <td>0.05</td>\n",
       "    </tr>\n",
       "  </tbody>\n",
       "</table>\n",
       "<p>1 rows × 21 columns</p>\n",
       "</div>"
      ],
      "text/plain": [
       "       Analytical thinking  Systemic thinking  Adaptability  Focus  game_id  \\\n",
       "id                                                                            \n",
       "10199                    5                  6             0      0      262   \n",
       "\n",
       "       total_score  cat_1  cat_2  cat_3  cat_4  ...  cat_6  score_rating  \\\n",
       "id                                              ...                        \n",
       "10199         1108   7.00  40.00 284.00 124.00  ... 554.00          0.89   \n",
       "\n",
       "       rating_1  rating_2  rating_3  rating_4  rating_5  rating_6  total  \\\n",
       "id                                                                         \n",
       "10199      0.27      0.34      0.85      0.82      0.95      0.89   0.06   \n",
       "\n",
       "       rating_user  \n",
       "id                  \n",
       "10199         0.05  \n",
       "\n",
       "[1 rows x 21 columns]"
      ]
     },
     "execution_count": 9650,
     "metadata": {},
     "output_type": "execute_result"
    }
   ],
   "source": [
    "df_sample_3.head(1)"
   ]
  },
  {
   "cell_type": "code",
   "execution_count": 9651,
   "id": "3a6d5acb",
   "metadata": {},
   "outputs": [],
   "source": [
    "col_drop = ['Analytical thinking', 'Systemic thinking', 'Adaptability', \n",
    "            'Focus']"
   ]
  },
  {
   "cell_type": "code",
   "execution_count": 9652,
   "id": "a0c61464",
   "metadata": {},
   "outputs": [],
   "source": [
    "X_test = df_sample_3.drop(col_drop, axis=1)"
   ]
  },
  {
   "cell_type": "code",
   "execution_count": 9653,
   "id": "3673afa1",
   "metadata": {
    "scrolled": true
   },
   "outputs": [
    {
     "data": {
      "text/html": [
       "<div>\n",
       "<style scoped>\n",
       "    .dataframe tbody tr th:only-of-type {\n",
       "        vertical-align: middle;\n",
       "    }\n",
       "\n",
       "    .dataframe tbody tr th {\n",
       "        vertical-align: top;\n",
       "    }\n",
       "\n",
       "    .dataframe thead th {\n",
       "        text-align: right;\n",
       "    }\n",
       "</style>\n",
       "<table border=\"1\" class=\"dataframe\">\n",
       "  <thead>\n",
       "    <tr style=\"text-align: right;\">\n",
       "      <th></th>\n",
       "      <th>game_id</th>\n",
       "      <th>total_score</th>\n",
       "      <th>cat_1</th>\n",
       "      <th>cat_2</th>\n",
       "      <th>cat_3</th>\n",
       "      <th>cat_4</th>\n",
       "      <th>cat_5</th>\n",
       "      <th>cat_6</th>\n",
       "      <th>score_rating</th>\n",
       "      <th>rating_1</th>\n",
       "      <th>rating_2</th>\n",
       "      <th>rating_3</th>\n",
       "      <th>rating_4</th>\n",
       "      <th>rating_5</th>\n",
       "      <th>rating_6</th>\n",
       "      <th>total</th>\n",
       "      <th>rating_user</th>\n",
       "    </tr>\n",
       "    <tr>\n",
       "      <th>id</th>\n",
       "      <th></th>\n",
       "      <th></th>\n",
       "      <th></th>\n",
       "      <th></th>\n",
       "      <th></th>\n",
       "      <th></th>\n",
       "      <th></th>\n",
       "      <th></th>\n",
       "      <th></th>\n",
       "      <th></th>\n",
       "      <th></th>\n",
       "      <th></th>\n",
       "      <th></th>\n",
       "      <th></th>\n",
       "      <th></th>\n",
       "      <th></th>\n",
       "      <th></th>\n",
       "    </tr>\n",
       "  </thead>\n",
       "  <tbody>\n",
       "    <tr>\n",
       "      <th>10199</th>\n",
       "      <td>262</td>\n",
       "      <td>1108</td>\n",
       "      <td>7.00</td>\n",
       "      <td>40.00</td>\n",
       "      <td>284.00</td>\n",
       "      <td>124.00</td>\n",
       "      <td>99.00</td>\n",
       "      <td>554.00</td>\n",
       "      <td>0.89</td>\n",
       "      <td>0.27</td>\n",
       "      <td>0.34</td>\n",
       "      <td>0.85</td>\n",
       "      <td>0.82</td>\n",
       "      <td>0.95</td>\n",
       "      <td>0.89</td>\n",
       "      <td>0.06</td>\n",
       "      <td>0.05</td>\n",
       "    </tr>\n",
       "  </tbody>\n",
       "</table>\n",
       "</div>"
      ],
      "text/plain": [
       "       game_id  total_score  cat_1  cat_2  cat_3  cat_4  cat_5  cat_6  \\\n",
       "id                                                                      \n",
       "10199      262         1108   7.00  40.00 284.00 124.00  99.00 554.00   \n",
       "\n",
       "       score_rating  rating_1  rating_2  rating_3  rating_4  rating_5  \\\n",
       "id                                                                      \n",
       "10199          0.89      0.27      0.34      0.85      0.82      0.95   \n",
       "\n",
       "       rating_6  total  rating_user  \n",
       "id                                   \n",
       "10199      0.89   0.06         0.05  "
      ]
     },
     "execution_count": 9653,
     "metadata": {},
     "output_type": "execute_result"
    }
   ],
   "source": [
    "X_test.head(1)"
   ]
  },
  {
   "cell_type": "code",
   "execution_count": 9654,
   "id": "3a2f3447",
   "metadata": {},
   "outputs": [
    {
     "data": {
      "text/plain": [
       "(293, 17)"
      ]
     },
     "execution_count": 9654,
     "metadata": {},
     "output_type": "execute_result"
    }
   ],
   "source": [
    "X_test.shape"
   ]
  },
  {
   "cell_type": "code",
   "execution_count": 9655,
   "id": "a4b9ed18",
   "metadata": {},
   "outputs": [],
   "source": [
    "X_test = scaler_3.transform(X_test)"
   ]
  },
  {
   "cell_type": "code",
   "execution_count": 9656,
   "id": "82454e87",
   "metadata": {},
   "outputs": [],
   "source": [
    "df_sample['Adaptability'] = model_3.predict(X_test).astype('int')"
   ]
  },
  {
   "cell_type": "code",
   "execution_count": null,
   "id": "57b3c4c6",
   "metadata": {},
   "outputs": [],
   "source": []
  },
  {
   "cell_type": "markdown",
   "id": "a249cd37",
   "metadata": {},
   "source": [
    "**Focus**"
   ]
  },
  {
   "cell_type": "code",
   "execution_count": 9657,
   "id": "53cb2f04",
   "metadata": {},
   "outputs": [],
   "source": [
    "for i in range(1, 438):\n",
    "    if i in list_dec_4.index:\n",
    "        corr = list_dec_4['corr'].loc[i]\n",
    "        ud_4[str(i)] = ud_4[str(i)] * corr  \n",
    "    else:\n",
    "        continue    "
   ]
  },
  {
   "cell_type": "code",
   "execution_count": 9658,
   "id": "16b0ddcd",
   "metadata": {
    "scrolled": true
   },
   "outputs": [
    {
     "data": {
      "text/html": [
       "<div>\n",
       "<style scoped>\n",
       "    .dataframe tbody tr th:only-of-type {\n",
       "        vertical-align: middle;\n",
       "    }\n",
       "\n",
       "    .dataframe tbody tr th {\n",
       "        vertical-align: top;\n",
       "    }\n",
       "\n",
       "    .dataframe thead th {\n",
       "        text-align: right;\n",
       "    }\n",
       "</style>\n",
       "<table border=\"1\" class=\"dataframe\">\n",
       "  <thead>\n",
       "    <tr style=\"text-align: right;\">\n",
       "      <th></th>\n",
       "      <th>1</th>\n",
       "      <th>2</th>\n",
       "      <th>3</th>\n",
       "      <th>4</th>\n",
       "      <th>5</th>\n",
       "      <th>6</th>\n",
       "      <th>7</th>\n",
       "      <th>8</th>\n",
       "      <th>9</th>\n",
       "      <th>10</th>\n",
       "      <th>...</th>\n",
       "      <th>430</th>\n",
       "      <th>431</th>\n",
       "      <th>432</th>\n",
       "      <th>433</th>\n",
       "      <th>434</th>\n",
       "      <th>435</th>\n",
       "      <th>436</th>\n",
       "      <th>437</th>\n",
       "      <th>438</th>\n",
       "      <th>total</th>\n",
       "    </tr>\n",
       "    <tr>\n",
       "      <th>user_id</th>\n",
       "      <th></th>\n",
       "      <th></th>\n",
       "      <th></th>\n",
       "      <th></th>\n",
       "      <th></th>\n",
       "      <th></th>\n",
       "      <th></th>\n",
       "      <th></th>\n",
       "      <th></th>\n",
       "      <th></th>\n",
       "      <th></th>\n",
       "      <th></th>\n",
       "      <th></th>\n",
       "      <th></th>\n",
       "      <th></th>\n",
       "      <th></th>\n",
       "      <th></th>\n",
       "      <th></th>\n",
       "      <th></th>\n",
       "      <th></th>\n",
       "      <th></th>\n",
       "    </tr>\n",
       "  </thead>\n",
       "  <tbody>\n",
       "    <tr>\n",
       "      <th>10001</th>\n",
       "      <td>0.00</td>\n",
       "      <td>0.00</td>\n",
       "      <td>0.00</td>\n",
       "      <td>0.00</td>\n",
       "      <td>0.00</td>\n",
       "      <td>0.00</td>\n",
       "      <td>0.00</td>\n",
       "      <td>0.00</td>\n",
       "      <td>0.00</td>\n",
       "      <td>0.00</td>\n",
       "      <td>...</td>\n",
       "      <td>0.00</td>\n",
       "      <td>0.00</td>\n",
       "      <td>0.00</td>\n",
       "      <td>0.00</td>\n",
       "      <td>0.00</td>\n",
       "      <td>0.00</td>\n",
       "      <td>0.00</td>\n",
       "      <td>0.00</td>\n",
       "      <td>0</td>\n",
       "      <td>0.59</td>\n",
       "    </tr>\n",
       "  </tbody>\n",
       "</table>\n",
       "<p>1 rows × 439 columns</p>\n",
       "</div>"
      ],
      "text/plain": [
       "           1    2    3    4    5    6    7    8    9   10  ...  430  431  432  \\\n",
       "user_id                                                    ...                  \n",
       "10001   0.00 0.00 0.00 0.00 0.00 0.00 0.00 0.00 0.00 0.00  ... 0.00 0.00 0.00   \n",
       "\n",
       "         433  434  435  436  437  438  total  \n",
       "user_id                                       \n",
       "10001   0.00 0.00 0.00 0.00 0.00    0   0.59  \n",
       "\n",
       "[1 rows x 439 columns]"
      ]
     },
     "execution_count": 9658,
     "metadata": {},
     "output_type": "execute_result"
    }
   ],
   "source": [
    "ud_4.head(1)"
   ]
  },
  {
   "cell_type": "code",
   "execution_count": 9659,
   "id": "e2355970",
   "metadata": {},
   "outputs": [],
   "source": [
    "ud_4['total'] = ud_4.sum(axis=1)"
   ]
  },
  {
   "cell_type": "code",
   "execution_count": 9660,
   "id": "b3f9850d",
   "metadata": {},
   "outputs": [],
   "source": [
    "col_drop = ['Analytical thinking', 'Systemic thinking', 'Adaptability','Focus']"
   ]
  },
  {
   "cell_type": "code",
   "execution_count": 9661,
   "id": "763480de",
   "metadata": {},
   "outputs": [],
   "source": [
    "df_sample_4 = df_sample.join(ud_4)"
   ]
  },
  {
   "cell_type": "code",
   "execution_count": 9662,
   "id": "0717ac9a",
   "metadata": {},
   "outputs": [
    {
     "data": {
      "text/plain": [
       "(293, 458)"
      ]
     },
     "execution_count": 9662,
     "metadata": {},
     "output_type": "execute_result"
    }
   ],
   "source": [
    "df_sample_4.shape"
   ]
  },
  {
   "cell_type": "code",
   "execution_count": 9663,
   "id": "6077a895",
   "metadata": {
    "scrolled": true
   },
   "outputs": [
    {
     "data": {
      "text/html": [
       "<div>\n",
       "<style scoped>\n",
       "    .dataframe tbody tr th:only-of-type {\n",
       "        vertical-align: middle;\n",
       "    }\n",
       "\n",
       "    .dataframe tbody tr th {\n",
       "        vertical-align: top;\n",
       "    }\n",
       "\n",
       "    .dataframe thead th {\n",
       "        text-align: right;\n",
       "    }\n",
       "</style>\n",
       "<table border=\"1\" class=\"dataframe\">\n",
       "  <thead>\n",
       "    <tr style=\"text-align: right;\">\n",
       "      <th></th>\n",
       "      <th>Analytical thinking</th>\n",
       "      <th>Systemic thinking</th>\n",
       "      <th>Adaptability</th>\n",
       "      <th>Focus</th>\n",
       "      <th>game_id</th>\n",
       "      <th>total_score</th>\n",
       "      <th>cat_1</th>\n",
       "      <th>cat_2</th>\n",
       "      <th>cat_3</th>\n",
       "      <th>cat_4</th>\n",
       "      <th>...</th>\n",
       "      <th>430</th>\n",
       "      <th>431</th>\n",
       "      <th>432</th>\n",
       "      <th>433</th>\n",
       "      <th>434</th>\n",
       "      <th>435</th>\n",
       "      <th>436</th>\n",
       "      <th>437</th>\n",
       "      <th>438</th>\n",
       "      <th>total</th>\n",
       "    </tr>\n",
       "    <tr>\n",
       "      <th>id</th>\n",
       "      <th></th>\n",
       "      <th></th>\n",
       "      <th></th>\n",
       "      <th></th>\n",
       "      <th></th>\n",
       "      <th></th>\n",
       "      <th></th>\n",
       "      <th></th>\n",
       "      <th></th>\n",
       "      <th></th>\n",
       "      <th></th>\n",
       "      <th></th>\n",
       "      <th></th>\n",
       "      <th></th>\n",
       "      <th></th>\n",
       "      <th></th>\n",
       "      <th></th>\n",
       "      <th></th>\n",
       "      <th></th>\n",
       "      <th></th>\n",
       "      <th></th>\n",
       "    </tr>\n",
       "  </thead>\n",
       "  <tbody>\n",
       "    <tr>\n",
       "      <th>10199</th>\n",
       "      <td>5</td>\n",
       "      <td>6</td>\n",
       "      <td>4</td>\n",
       "      <td>0</td>\n",
       "      <td>262</td>\n",
       "      <td>1108</td>\n",
       "      <td>7.00</td>\n",
       "      <td>40.00</td>\n",
       "      <td>284.00</td>\n",
       "      <td>124.00</td>\n",
       "      <td>...</td>\n",
       "      <td>0.00</td>\n",
       "      <td>0.00</td>\n",
       "      <td>0.00</td>\n",
       "      <td>0.00</td>\n",
       "      <td>0.00</td>\n",
       "      <td>0.00</td>\n",
       "      <td>0.00</td>\n",
       "      <td>0.00</td>\n",
       "      <td>0</td>\n",
       "      <td>0.06</td>\n",
       "    </tr>\n",
       "  </tbody>\n",
       "</table>\n",
       "<p>1 rows × 458 columns</p>\n",
       "</div>"
      ],
      "text/plain": [
       "       Analytical thinking  Systemic thinking  Adaptability  Focus  game_id  \\\n",
       "id                                                                            \n",
       "10199                    5                  6             4      0      262   \n",
       "\n",
       "       total_score  cat_1  cat_2  cat_3  cat_4  ...  430  431  432  433  434  \\\n",
       "id                                              ...                            \n",
       "10199         1108   7.00  40.00 284.00 124.00  ... 0.00 0.00 0.00 0.00 0.00   \n",
       "\n",
       "       435  436  437  438  total  \n",
       "id                                \n",
       "10199 0.00 0.00 0.00    0   0.06  \n",
       "\n",
       "[1 rows x 458 columns]"
      ]
     },
     "execution_count": 9663,
     "metadata": {},
     "output_type": "execute_result"
    }
   ],
   "source": [
    "df_sample_4.head(1)"
   ]
  },
  {
   "cell_type": "code",
   "execution_count": 9664,
   "id": "6273374f",
   "metadata": {},
   "outputs": [],
   "source": [
    "df_sample_4['max_total'] = df_sample_4.groupby('game_id')['total'].transform('max')"
   ]
  },
  {
   "cell_type": "code",
   "execution_count": 9665,
   "id": "73e41dfb",
   "metadata": {},
   "outputs": [],
   "source": [
    "df_sample_4['rating_user'] = df_sample_4['total'] / df_sample_4['max_total']"
   ]
  },
  {
   "cell_type": "code",
   "execution_count": 9666,
   "id": "9e8f16f7",
   "metadata": {},
   "outputs": [],
   "source": [
    "for i in range(1, 439):\n",
    "    df_sample_4 = df_sample_4.drop(str(i), axis=1)    "
   ]
  },
  {
   "cell_type": "code",
   "execution_count": 9667,
   "id": "8aa8a46f",
   "metadata": {},
   "outputs": [],
   "source": [
    "df_sample_4 = df_sample_4.drop('max_total', axis=1)"
   ]
  },
  {
   "cell_type": "code",
   "execution_count": 9668,
   "id": "23a3e28d",
   "metadata": {
    "scrolled": true
   },
   "outputs": [
    {
     "data": {
      "text/plain": [
       "(293, 21)"
      ]
     },
     "execution_count": 9668,
     "metadata": {},
     "output_type": "execute_result"
    }
   ],
   "source": [
    "df_sample_4.shape"
   ]
  },
  {
   "cell_type": "code",
   "execution_count": 9669,
   "id": "8c3d5fb8",
   "metadata": {},
   "outputs": [
    {
     "data": {
      "text/html": [
       "<div>\n",
       "<style scoped>\n",
       "    .dataframe tbody tr th:only-of-type {\n",
       "        vertical-align: middle;\n",
       "    }\n",
       "\n",
       "    .dataframe tbody tr th {\n",
       "        vertical-align: top;\n",
       "    }\n",
       "\n",
       "    .dataframe thead th {\n",
       "        text-align: right;\n",
       "    }\n",
       "</style>\n",
       "<table border=\"1\" class=\"dataframe\">\n",
       "  <thead>\n",
       "    <tr style=\"text-align: right;\">\n",
       "      <th></th>\n",
       "      <th>Analytical thinking</th>\n",
       "      <th>Systemic thinking</th>\n",
       "      <th>Adaptability</th>\n",
       "      <th>Focus</th>\n",
       "      <th>game_id</th>\n",
       "      <th>total_score</th>\n",
       "      <th>cat_1</th>\n",
       "      <th>cat_2</th>\n",
       "      <th>cat_3</th>\n",
       "      <th>cat_4</th>\n",
       "      <th>...</th>\n",
       "      <th>cat_6</th>\n",
       "      <th>score_rating</th>\n",
       "      <th>rating_1</th>\n",
       "      <th>rating_2</th>\n",
       "      <th>rating_3</th>\n",
       "      <th>rating_4</th>\n",
       "      <th>rating_5</th>\n",
       "      <th>rating_6</th>\n",
       "      <th>total</th>\n",
       "      <th>rating_user</th>\n",
       "    </tr>\n",
       "    <tr>\n",
       "      <th>id</th>\n",
       "      <th></th>\n",
       "      <th></th>\n",
       "      <th></th>\n",
       "      <th></th>\n",
       "      <th></th>\n",
       "      <th></th>\n",
       "      <th></th>\n",
       "      <th></th>\n",
       "      <th></th>\n",
       "      <th></th>\n",
       "      <th></th>\n",
       "      <th></th>\n",
       "      <th></th>\n",
       "      <th></th>\n",
       "      <th></th>\n",
       "      <th></th>\n",
       "      <th></th>\n",
       "      <th></th>\n",
       "      <th></th>\n",
       "      <th></th>\n",
       "      <th></th>\n",
       "    </tr>\n",
       "  </thead>\n",
       "  <tbody>\n",
       "    <tr>\n",
       "      <th>10199</th>\n",
       "      <td>5</td>\n",
       "      <td>6</td>\n",
       "      <td>4</td>\n",
       "      <td>0</td>\n",
       "      <td>262</td>\n",
       "      <td>1108</td>\n",
       "      <td>7.00</td>\n",
       "      <td>40.00</td>\n",
       "      <td>284.00</td>\n",
       "      <td>124.00</td>\n",
       "      <td>...</td>\n",
       "      <td>554.00</td>\n",
       "      <td>0.89</td>\n",
       "      <td>0.27</td>\n",
       "      <td>0.34</td>\n",
       "      <td>0.85</td>\n",
       "      <td>0.82</td>\n",
       "      <td>0.95</td>\n",
       "      <td>0.89</td>\n",
       "      <td>0.06</td>\n",
       "      <td>0.05</td>\n",
       "    </tr>\n",
       "  </tbody>\n",
       "</table>\n",
       "<p>1 rows × 21 columns</p>\n",
       "</div>"
      ],
      "text/plain": [
       "       Analytical thinking  Systemic thinking  Adaptability  Focus  game_id  \\\n",
       "id                                                                            \n",
       "10199                    5                  6             4      0      262   \n",
       "\n",
       "       total_score  cat_1  cat_2  cat_3  cat_4  ...  cat_6  score_rating  \\\n",
       "id                                              ...                        \n",
       "10199         1108   7.00  40.00 284.00 124.00  ... 554.00          0.89   \n",
       "\n",
       "       rating_1  rating_2  rating_3  rating_4  rating_5  rating_6  total  \\\n",
       "id                                                                         \n",
       "10199      0.27      0.34      0.85      0.82      0.95      0.89   0.06   \n",
       "\n",
       "       rating_user  \n",
       "id                  \n",
       "10199         0.05  \n",
       "\n",
       "[1 rows x 21 columns]"
      ]
     },
     "execution_count": 9669,
     "metadata": {},
     "output_type": "execute_result"
    }
   ],
   "source": [
    "df_sample_4.head(1)"
   ]
  },
  {
   "cell_type": "code",
   "execution_count": 9670,
   "id": "2ee6b037",
   "metadata": {},
   "outputs": [],
   "source": [
    "col_drop = ['Analytical thinking', 'Systemic thinking', 'Adaptability', \n",
    "            'Focus']"
   ]
  },
  {
   "cell_type": "code",
   "execution_count": 9671,
   "id": "b3587a3d",
   "metadata": {},
   "outputs": [],
   "source": [
    "X_test = df_sample_4.drop(col_drop, axis=1)"
   ]
  },
  {
   "cell_type": "code",
   "execution_count": 9672,
   "id": "5f8fa4d6",
   "metadata": {
    "scrolled": true
   },
   "outputs": [
    {
     "data": {
      "text/html": [
       "<div>\n",
       "<style scoped>\n",
       "    .dataframe tbody tr th:only-of-type {\n",
       "        vertical-align: middle;\n",
       "    }\n",
       "\n",
       "    .dataframe tbody tr th {\n",
       "        vertical-align: top;\n",
       "    }\n",
       "\n",
       "    .dataframe thead th {\n",
       "        text-align: right;\n",
       "    }\n",
       "</style>\n",
       "<table border=\"1\" class=\"dataframe\">\n",
       "  <thead>\n",
       "    <tr style=\"text-align: right;\">\n",
       "      <th></th>\n",
       "      <th>game_id</th>\n",
       "      <th>total_score</th>\n",
       "      <th>cat_1</th>\n",
       "      <th>cat_2</th>\n",
       "      <th>cat_3</th>\n",
       "      <th>cat_4</th>\n",
       "      <th>cat_5</th>\n",
       "      <th>cat_6</th>\n",
       "      <th>score_rating</th>\n",
       "      <th>rating_1</th>\n",
       "      <th>rating_2</th>\n",
       "      <th>rating_3</th>\n",
       "      <th>rating_4</th>\n",
       "      <th>rating_5</th>\n",
       "      <th>rating_6</th>\n",
       "      <th>total</th>\n",
       "      <th>rating_user</th>\n",
       "    </tr>\n",
       "    <tr>\n",
       "      <th>id</th>\n",
       "      <th></th>\n",
       "      <th></th>\n",
       "      <th></th>\n",
       "      <th></th>\n",
       "      <th></th>\n",
       "      <th></th>\n",
       "      <th></th>\n",
       "      <th></th>\n",
       "      <th></th>\n",
       "      <th></th>\n",
       "      <th></th>\n",
       "      <th></th>\n",
       "      <th></th>\n",
       "      <th></th>\n",
       "      <th></th>\n",
       "      <th></th>\n",
       "      <th></th>\n",
       "    </tr>\n",
       "  </thead>\n",
       "  <tbody>\n",
       "    <tr>\n",
       "      <th>10199</th>\n",
       "      <td>262</td>\n",
       "      <td>1108</td>\n",
       "      <td>7.00</td>\n",
       "      <td>40.00</td>\n",
       "      <td>284.00</td>\n",
       "      <td>124.00</td>\n",
       "      <td>99.00</td>\n",
       "      <td>554.00</td>\n",
       "      <td>0.89</td>\n",
       "      <td>0.27</td>\n",
       "      <td>0.34</td>\n",
       "      <td>0.85</td>\n",
       "      <td>0.82</td>\n",
       "      <td>0.95</td>\n",
       "      <td>0.89</td>\n",
       "      <td>0.06</td>\n",
       "      <td>0.05</td>\n",
       "    </tr>\n",
       "  </tbody>\n",
       "</table>\n",
       "</div>"
      ],
      "text/plain": [
       "       game_id  total_score  cat_1  cat_2  cat_3  cat_4  cat_5  cat_6  \\\n",
       "id                                                                      \n",
       "10199      262         1108   7.00  40.00 284.00 124.00  99.00 554.00   \n",
       "\n",
       "       score_rating  rating_1  rating_2  rating_3  rating_4  rating_5  \\\n",
       "id                                                                      \n",
       "10199          0.89      0.27      0.34      0.85      0.82      0.95   \n",
       "\n",
       "       rating_6  total  rating_user  \n",
       "id                                   \n",
       "10199      0.89   0.06         0.05  "
      ]
     },
     "execution_count": 9672,
     "metadata": {},
     "output_type": "execute_result"
    }
   ],
   "source": [
    "X_test.head(1)"
   ]
  },
  {
   "cell_type": "code",
   "execution_count": 9673,
   "id": "20de7d19",
   "metadata": {
    "scrolled": true
   },
   "outputs": [
    {
     "data": {
      "text/plain": [
       "(293, 17)"
      ]
     },
     "execution_count": 9673,
     "metadata": {},
     "output_type": "execute_result"
    }
   ],
   "source": [
    "X_test.shape"
   ]
  },
  {
   "cell_type": "code",
   "execution_count": 9674,
   "id": "b24d27df",
   "metadata": {},
   "outputs": [],
   "source": [
    "X_test = scaler_4.transform(X_test)"
   ]
  },
  {
   "cell_type": "code",
   "execution_count": 9675,
   "id": "68b564c3",
   "metadata": {},
   "outputs": [],
   "source": [
    "df_sample['Focus'] = model_4.predict(X_test).astype('int')"
   ]
  },
  {
   "cell_type": "code",
   "execution_count": 9676,
   "id": "d6c7a0ab",
   "metadata": {
    "scrolled": true
   },
   "outputs": [
    {
     "data": {
      "text/plain": [
       "Index(['Analytical thinking', 'Systemic thinking', 'Adaptability', 'Focus',\n",
       "       'game_id', 'total_score', 'cat_1', 'cat_2', 'cat_3', 'cat_4', 'cat_5',\n",
       "       'cat_6', 'score_rating', 'rating_1', 'rating_2', 'rating_3', 'rating_4',\n",
       "       'rating_5', 'rating_6'],\n",
       "      dtype='object')"
      ]
     },
     "execution_count": 9676,
     "metadata": {},
     "output_type": "execute_result"
    }
   ],
   "source": [
    "df_sample.columns"
   ]
  },
  {
   "cell_type": "code",
   "execution_count": 9677,
   "id": "371d579e",
   "metadata": {},
   "outputs": [],
   "source": [
    "col_drop = ['game_id', 'total_score', 'cat_1', 'cat_2', 'cat_3', 'cat_4', 'cat_5',\n",
    "       'cat_6', 'score_rating', 'rating_1', 'rating_2', 'rating_3', 'rating_4',\n",
    "       'rating_5', 'rating_6']"
   ]
  },
  {
   "cell_type": "code",
   "execution_count": 9678,
   "id": "18af56cd",
   "metadata": {
    "scrolled": true
   },
   "outputs": [
    {
     "data": {
      "text/html": [
       "<div>\n",
       "<style scoped>\n",
       "    .dataframe tbody tr th:only-of-type {\n",
       "        vertical-align: middle;\n",
       "    }\n",
       "\n",
       "    .dataframe tbody tr th {\n",
       "        vertical-align: top;\n",
       "    }\n",
       "\n",
       "    .dataframe thead th {\n",
       "        text-align: right;\n",
       "    }\n",
       "</style>\n",
       "<table border=\"1\" class=\"dataframe\">\n",
       "  <thead>\n",
       "    <tr style=\"text-align: right;\">\n",
       "      <th></th>\n",
       "      <th>Analytical thinking</th>\n",
       "      <th>Systemic thinking</th>\n",
       "      <th>Adaptability</th>\n",
       "      <th>Focus</th>\n",
       "      <th>game_id</th>\n",
       "      <th>total_score</th>\n",
       "      <th>cat_1</th>\n",
       "      <th>cat_2</th>\n",
       "      <th>cat_3</th>\n",
       "      <th>cat_4</th>\n",
       "      <th>cat_5</th>\n",
       "      <th>cat_6</th>\n",
       "      <th>score_rating</th>\n",
       "      <th>rating_1</th>\n",
       "      <th>rating_2</th>\n",
       "      <th>rating_3</th>\n",
       "      <th>rating_4</th>\n",
       "      <th>rating_5</th>\n",
       "      <th>rating_6</th>\n",
       "    </tr>\n",
       "    <tr>\n",
       "      <th>id</th>\n",
       "      <th></th>\n",
       "      <th></th>\n",
       "      <th></th>\n",
       "      <th></th>\n",
       "      <th></th>\n",
       "      <th></th>\n",
       "      <th></th>\n",
       "      <th></th>\n",
       "      <th></th>\n",
       "      <th></th>\n",
       "      <th></th>\n",
       "      <th></th>\n",
       "      <th></th>\n",
       "      <th></th>\n",
       "      <th></th>\n",
       "      <th></th>\n",
       "      <th></th>\n",
       "      <th></th>\n",
       "      <th></th>\n",
       "    </tr>\n",
       "  </thead>\n",
       "  <tbody>\n",
       "    <tr>\n",
       "      <th>10199</th>\n",
       "      <td>5</td>\n",
       "      <td>6</td>\n",
       "      <td>4</td>\n",
       "      <td>4</td>\n",
       "      <td>262</td>\n",
       "      <td>1108</td>\n",
       "      <td>7.00</td>\n",
       "      <td>40.00</td>\n",
       "      <td>284.00</td>\n",
       "      <td>124.00</td>\n",
       "      <td>99.00</td>\n",
       "      <td>554.00</td>\n",
       "      <td>0.89</td>\n",
       "      <td>0.27</td>\n",
       "      <td>0.34</td>\n",
       "      <td>0.85</td>\n",
       "      <td>0.82</td>\n",
       "      <td>0.95</td>\n",
       "      <td>0.89</td>\n",
       "    </tr>\n",
       "    <tr>\n",
       "      <th>10539</th>\n",
       "      <td>3</td>\n",
       "      <td>3</td>\n",
       "      <td>5</td>\n",
       "      <td>4</td>\n",
       "      <td>204</td>\n",
       "      <td>852</td>\n",
       "      <td>-22.00</td>\n",
       "      <td>-19.00</td>\n",
       "      <td>253.00</td>\n",
       "      <td>91.00</td>\n",
       "      <td>123.00</td>\n",
       "      <td>426.00</td>\n",
       "      <td>0.59</td>\n",
       "      <td>-0.36</td>\n",
       "      <td>-0.19</td>\n",
       "      <td>0.87</td>\n",
       "      <td>0.64</td>\n",
       "      <td>0.79</td>\n",
       "      <td>0.59</td>\n",
       "    </tr>\n",
       "    <tr>\n",
       "      <th>10174</th>\n",
       "      <td>6</td>\n",
       "      <td>3</td>\n",
       "      <td>4</td>\n",
       "      <td>4</td>\n",
       "      <td>190</td>\n",
       "      <td>1952</td>\n",
       "      <td>120.00</td>\n",
       "      <td>190.00</td>\n",
       "      <td>378.00</td>\n",
       "      <td>174.00</td>\n",
       "      <td>114.00</td>\n",
       "      <td>976.00</td>\n",
       "      <td>1.00</td>\n",
       "      <td>1.00</td>\n",
       "      <td>1.00</td>\n",
       "      <td>0.94</td>\n",
       "      <td>1.00</td>\n",
       "      <td>0.95</td>\n",
       "      <td>1.00</td>\n",
       "    </tr>\n",
       "    <tr>\n",
       "      <th>10465</th>\n",
       "      <td>5</td>\n",
       "      <td>5</td>\n",
       "      <td>5</td>\n",
       "      <td>4</td>\n",
       "      <td>244</td>\n",
       "      <td>936</td>\n",
       "      <td>-27.00</td>\n",
       "      <td>-35.00</td>\n",
       "      <td>319.00</td>\n",
       "      <td>105.00</td>\n",
       "      <td>106.00</td>\n",
       "      <td>468.00</td>\n",
       "      <td>0.52</td>\n",
       "      <td>-0.25</td>\n",
       "      <td>-0.15</td>\n",
       "      <td>0.92</td>\n",
       "      <td>0.60</td>\n",
       "      <td>0.70</td>\n",
       "      <td>0.52</td>\n",
       "    </tr>\n",
       "    <tr>\n",
       "      <th>10066</th>\n",
       "      <td>3</td>\n",
       "      <td>3</td>\n",
       "      <td>4</td>\n",
       "      <td>4</td>\n",
       "      <td>183</td>\n",
       "      <td>474</td>\n",
       "      <td>-52.00</td>\n",
       "      <td>-96.00</td>\n",
       "      <td>211.00</td>\n",
       "      <td>88.00</td>\n",
       "      <td>86.00</td>\n",
       "      <td>237.00</td>\n",
       "      <td>0.26</td>\n",
       "      <td>-0.58</td>\n",
       "      <td>-0.48</td>\n",
       "      <td>0.49</td>\n",
       "      <td>0.56</td>\n",
       "      <td>0.77</td>\n",
       "      <td>0.26</td>\n",
       "    </tr>\n",
       "  </tbody>\n",
       "</table>\n",
       "</div>"
      ],
      "text/plain": [
       "       Analytical thinking  Systemic thinking  Adaptability  Focus  game_id  \\\n",
       "id                                                                            \n",
       "10199                    5                  6             4      4      262   \n",
       "10539                    3                  3             5      4      204   \n",
       "10174                    6                  3             4      4      190   \n",
       "10465                    5                  5             5      4      244   \n",
       "10066                    3                  3             4      4      183   \n",
       "\n",
       "       total_score  cat_1  cat_2  cat_3  cat_4  cat_5  cat_6  score_rating  \\\n",
       "id                                                                           \n",
       "10199         1108   7.00  40.00 284.00 124.00  99.00 554.00          0.89   \n",
       "10539          852 -22.00 -19.00 253.00  91.00 123.00 426.00          0.59   \n",
       "10174         1952 120.00 190.00 378.00 174.00 114.00 976.00          1.00   \n",
       "10465          936 -27.00 -35.00 319.00 105.00 106.00 468.00          0.52   \n",
       "10066          474 -52.00 -96.00 211.00  88.00  86.00 237.00          0.26   \n",
       "\n",
       "       rating_1  rating_2  rating_3  rating_4  rating_5  rating_6  \n",
       "id                                                                 \n",
       "10199      0.27      0.34      0.85      0.82      0.95      0.89  \n",
       "10539     -0.36     -0.19      0.87      0.64      0.79      0.59  \n",
       "10174      1.00      1.00      0.94      1.00      0.95      1.00  \n",
       "10465     -0.25     -0.15      0.92      0.60      0.70      0.52  \n",
       "10066     -0.58     -0.48      0.49      0.56      0.77      0.26  "
      ]
     },
     "execution_count": 9678,
     "metadata": {},
     "output_type": "execute_result"
    }
   ],
   "source": [
    "df_sample.head()"
   ]
  },
  {
   "cell_type": "code",
   "execution_count": 9679,
   "id": "9af6f499",
   "metadata": {},
   "outputs": [],
   "source": [
    "df_sample = df_sample.drop(col_drop, axis=1)"
   ]
  },
  {
   "cell_type": "code",
   "execution_count": 9680,
   "id": "70dacad3",
   "metadata": {},
   "outputs": [],
   "source": [
    "sample_solution = sample_solution.drop(['Analytical thinking', 'Systemic thinking', 'Adaptability', 'Focus'], axis=1)\\\n",
    ".set_index('id').join(df_sample).reset_index()"
   ]
  },
  {
   "cell_type": "code",
   "execution_count": 9681,
   "id": "2f4ce866",
   "metadata": {
    "scrolled": true
   },
   "outputs": [
    {
     "data": {
      "text/html": [
       "<div>\n",
       "<style scoped>\n",
       "    .dataframe tbody tr th:only-of-type {\n",
       "        vertical-align: middle;\n",
       "    }\n",
       "\n",
       "    .dataframe tbody tr th {\n",
       "        vertical-align: top;\n",
       "    }\n",
       "\n",
       "    .dataframe thead th {\n",
       "        text-align: right;\n",
       "    }\n",
       "</style>\n",
       "<table border=\"1\" class=\"dataframe\">\n",
       "  <thead>\n",
       "    <tr style=\"text-align: right;\">\n",
       "      <th></th>\n",
       "      <th>id</th>\n",
       "      <th>Analytical thinking</th>\n",
       "      <th>Systemic thinking</th>\n",
       "      <th>Adaptability</th>\n",
       "      <th>Focus</th>\n",
       "    </tr>\n",
       "  </thead>\n",
       "  <tbody>\n",
       "    <tr>\n",
       "      <th>0</th>\n",
       "      <td>10199</td>\n",
       "      <td>5</td>\n",
       "      <td>6</td>\n",
       "      <td>4</td>\n",
       "      <td>4</td>\n",
       "    </tr>\n",
       "    <tr>\n",
       "      <th>1</th>\n",
       "      <td>10539</td>\n",
       "      <td>3</td>\n",
       "      <td>3</td>\n",
       "      <td>5</td>\n",
       "      <td>4</td>\n",
       "    </tr>\n",
       "    <tr>\n",
       "      <th>2</th>\n",
       "      <td>10174</td>\n",
       "      <td>6</td>\n",
       "      <td>3</td>\n",
       "      <td>4</td>\n",
       "      <td>4</td>\n",
       "    </tr>\n",
       "    <tr>\n",
       "      <th>3</th>\n",
       "      <td>10465</td>\n",
       "      <td>5</td>\n",
       "      <td>5</td>\n",
       "      <td>5</td>\n",
       "      <td>4</td>\n",
       "    </tr>\n",
       "    <tr>\n",
       "      <th>4</th>\n",
       "      <td>10066</td>\n",
       "      <td>3</td>\n",
       "      <td>3</td>\n",
       "      <td>4</td>\n",
       "      <td>4</td>\n",
       "    </tr>\n",
       "  </tbody>\n",
       "</table>\n",
       "</div>"
      ],
      "text/plain": [
       "      id  Analytical thinking  Systemic thinking  Adaptability  Focus\n",
       "0  10199                    5                  6             4      4\n",
       "1  10539                    3                  3             5      4\n",
       "2  10174                    6                  3             4      4\n",
       "3  10465                    5                  5             5      4\n",
       "4  10066                    3                  3             4      4"
      ]
     },
     "execution_count": 9681,
     "metadata": {},
     "output_type": "execute_result"
    }
   ],
   "source": [
    "sample_solution.head()"
   ]
  },
  {
   "cell_type": "code",
   "execution_count": 9682,
   "id": "350e45c4",
   "metadata": {},
   "outputs": [],
   "source": [
    "sample_solution.to_csv(\"sample_solution_2.csv\", index=False)"
   ]
  },
  {
   "cell_type": "code",
   "execution_count": 9683,
   "id": "6cf16180",
   "metadata": {},
   "outputs": [
    {
     "data": {
      "text/plain": [
       "5    134\n",
       "3     79\n",
       "6     50\n",
       "4     30\n",
       "Name: Analytical thinking, dtype: int64"
      ]
     },
     "execution_count": 9683,
     "metadata": {},
     "output_type": "execute_result"
    }
   ],
   "source": [
    "sample_solution['Analytical thinking'].value_counts()"
   ]
  },
  {
   "cell_type": "code",
   "execution_count": 9684,
   "id": "c1b25a23",
   "metadata": {},
   "outputs": [
    {
     "data": {
      "text/plain": [
       "6    94\n",
       "3    85\n",
       "5    77\n",
       "4    37\n",
       "Name: Systemic thinking, dtype: int64"
      ]
     },
     "execution_count": 9684,
     "metadata": {},
     "output_type": "execute_result"
    }
   ],
   "source": [
    "sample_solution['Systemic thinking'].value_counts()"
   ]
  },
  {
   "cell_type": "code",
   "execution_count": 9685,
   "id": "5c1b620f",
   "metadata": {},
   "outputs": [
    {
     "data": {
      "text/plain": [
       "4    241\n",
       "5     52\n",
       "Name: Focus, dtype: int64"
      ]
     },
     "execution_count": 9685,
     "metadata": {},
     "output_type": "execute_result"
    }
   ],
   "source": [
    "sample_solution['Focus'].value_counts()"
   ]
  },
  {
   "cell_type": "code",
   "execution_count": 9686,
   "id": "13a09a29",
   "metadata": {},
   "outputs": [
    {
     "data": {
      "text/plain": [
       "4    176\n",
       "5    117\n",
       "Name: Adaptability, dtype: int64"
      ]
     },
     "execution_count": 9686,
     "metadata": {},
     "output_type": "execute_result"
    }
   ],
   "source": [
    "sample_solution['Adaptability'].value_counts()"
   ]
  },
  {
   "cell_type": "code",
   "execution_count": null,
   "id": "2c74cb5c",
   "metadata": {},
   "outputs": [],
   "source": []
  }
 ],
 "metadata": {
  "kernelspec": {
   "display_name": "Python 3 (ipykernel)",
   "language": "python",
   "name": "python3"
  },
  "language_info": {
   "codemirror_mode": {
    "name": "ipython",
    "version": 3
   },
   "file_extension": ".py",
   "mimetype": "text/x-python",
   "name": "python",
   "nbconvert_exporter": "python",
   "pygments_lexer": "ipython3",
   "version": "3.9.13"
  }
 },
 "nbformat": 4,
 "nbformat_minor": 5
}
