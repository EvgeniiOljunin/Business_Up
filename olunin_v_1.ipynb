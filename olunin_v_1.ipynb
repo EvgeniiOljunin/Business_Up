{
 "cells": [
  {
   "cell_type": "code",
   "execution_count": 2890,
   "id": "62cd128d",
   "metadata": {},
   "outputs": [],
   "source": [
    "import pandas as pd\n",
    "import numpy as np\n",
    "import matplotlib.pyplot as plt\n",
    "import seaborn as sns\n",
    "from sklearn.model_selection import train_test_split\n",
    "from sklearn.ensemble import RandomForestClassifier\n",
    "from sklearn import tree\n",
    "import numpy as np\n",
    "from sklearn.metrics import recall_score, precision_score\n",
    "from sklearn.feature_extraction.text import CountVectorizer\n",
    "from sklearn.feature_extraction.text import TfidfVectorizer\n",
    "from sklearn.linear_model import LogisticRegression\n",
    "from sklearn.tree import DecisionTreeClassifier\n",
    "from lightgbm import LGBMClassifier\n",
    "from catboost import CatBoostClassifier\n",
    "from sklearn.preprocessing import StandardScaler\n",
    "from sklearn.model_selection import train_test_split\n",
    "from sklearn.model_selection import cross_val_score\n",
    "from sklearn.model_selection import GridSearchCV\n",
    "from sklearn.model_selection import RandomizedSearchCV\n",
    "from sklearn.metrics import classification_report\n",
    "from sklearn.metrics import f1_score\n",
    "from sklearn.decomposition import PCA\n",
    "%matplotlib inline\n",
    "import warnings\n",
    "warnings.filterwarnings('ignore')\n",
    "pd.options.mode.chained_assignment = None\n",
    "pd.set_option('display.float_format', '{:,.2f}'.format)"
   ]
  },
  {
   "cell_type": "code",
   "execution_count": 2891,
   "id": "8afc405e",
   "metadata": {},
   "outputs": [],
   "source": [
    "def my_round(num, n):\n",
    "    x = num * 10**n\n",
    "    d = x - x.astype('int')\n",
    "    return np.where((d>=0.5) | ((d>-0.5) & (d <=0)), np.ceil(x), np.floor(x)) / 10**n"
   ]
  },
  {
   "cell_type": "code",
   "execution_count": 2892,
   "id": "8ed33c60",
   "metadata": {
    "scrolled": true
   },
   "outputs": [],
   "source": [
    "user = pd.read_csv('user.csv')\n",
    "user_decision = pd.read_csv('user_decision.csv')\n",
    "team_point = pd.read_csv('team_point.csv')\n",
    "df = pd.read_csv('train_dataset_train.csv')\n",
    "decision = pd.read_excel('decision.xlsx', sheet_name = 'decision')\n",
    "sample_solution = pd.read_csv('sample_solution.csv')"
   ]
  },
  {
   "cell_type": "markdown",
   "id": "5a499d6d",
   "metadata": {},
   "source": [
    "## Знакомство с данными, проверка"
   ]
  },
  {
   "cell_type": "code",
   "execution_count": 2893,
   "id": "6695d4d7",
   "metadata": {},
   "outputs": [
    {
     "name": "stdout",
     "output_type": "stream",
     "text": [
      "<class 'pandas.core.frame.DataFrame'>\n",
      "RangeIndex: 973 entries, 0 to 972\n",
      "Data columns (total 3 columns):\n",
      " #   Column   Non-Null Count  Dtype\n",
      "---  ------   --------------  -----\n",
      " 0   user_id  973 non-null    int64\n",
      " 1   team_id  973 non-null    int64\n",
      " 2   game_id  973 non-null    int64\n",
      "dtypes: int64(3)\n",
      "memory usage: 22.9 KB\n"
     ]
    }
   ],
   "source": [
    "user.info()"
   ]
  },
  {
   "cell_type": "code",
   "execution_count": 2894,
   "id": "c1efc832",
   "metadata": {},
   "outputs": [
    {
     "data": {
      "text/html": [
       "<div>\n",
       "<style scoped>\n",
       "    .dataframe tbody tr th:only-of-type {\n",
       "        vertical-align: middle;\n",
       "    }\n",
       "\n",
       "    .dataframe tbody tr th {\n",
       "        vertical-align: top;\n",
       "    }\n",
       "\n",
       "    .dataframe thead th {\n",
       "        text-align: right;\n",
       "    }\n",
       "</style>\n",
       "<table border=\"1\" class=\"dataframe\">\n",
       "  <thead>\n",
       "    <tr style=\"text-align: right;\">\n",
       "      <th></th>\n",
       "      <th>user_id</th>\n",
       "      <th>team_id</th>\n",
       "      <th>game_id</th>\n",
       "    </tr>\n",
       "  </thead>\n",
       "  <tbody>\n",
       "    <tr>\n",
       "      <th>0</th>\n",
       "      <td>10189</td>\n",
       "      <td>1664</td>\n",
       "      <td>235</td>\n",
       "    </tr>\n",
       "    <tr>\n",
       "      <th>1</th>\n",
       "      <td>10018</td>\n",
       "      <td>1690</td>\n",
       "      <td>237</td>\n",
       "    </tr>\n",
       "    <tr>\n",
       "      <th>2</th>\n",
       "      <td>10580</td>\n",
       "      <td>1394</td>\n",
       "      <td>194</td>\n",
       "    </tr>\n",
       "    <tr>\n",
       "      <th>3</th>\n",
       "      <td>10600</td>\n",
       "      <td>1908</td>\n",
       "      <td>262</td>\n",
       "    </tr>\n",
       "    <tr>\n",
       "      <th>4</th>\n",
       "      <td>10112</td>\n",
       "      <td>1592</td>\n",
       "      <td>219</td>\n",
       "    </tr>\n",
       "  </tbody>\n",
       "</table>\n",
       "</div>"
      ],
      "text/plain": [
       "   user_id  team_id  game_id\n",
       "0    10189     1664      235\n",
       "1    10018     1690      237\n",
       "2    10580     1394      194\n",
       "3    10600     1908      262\n",
       "4    10112     1592      219"
      ]
     },
     "execution_count": 2894,
     "metadata": {},
     "output_type": "execute_result"
    }
   ],
   "source": [
    "user.head()"
   ]
  },
  {
   "cell_type": "markdown",
   "id": "cc0202f9",
   "metadata": {},
   "source": [
    "Посмотреть количество уникальных значений игроков, команд, игр"
   ]
  },
  {
   "cell_type": "code",
   "execution_count": 2895,
   "id": "6971205a",
   "metadata": {
    "scrolled": false
   },
   "outputs": [
    {
     "data": {
      "text/plain": [
       "user_id    973\n",
       "team_id    214\n",
       "game_id     43\n",
       "dtype: int64"
      ]
     },
     "execution_count": 2895,
     "metadata": {},
     "output_type": "execute_result"
    }
   ],
   "source": [
    "user[user.columns].apply(lambda x: x.nunique())"
   ]
  },
  {
   "cell_type": "code",
   "execution_count": null,
   "id": "51e65fc6",
   "metadata": {},
   "outputs": [],
   "source": []
  },
  {
   "cell_type": "markdown",
   "id": "7cbb7fd6",
   "metadata": {},
   "source": [
    "Посмотреть группировки по играм и командам"
   ]
  },
  {
   "cell_type": "code",
   "execution_count": 2896,
   "id": "d9324de5",
   "metadata": {
    "scrolled": true
   },
   "outputs": [
    {
     "name": "stdout",
     "output_type": "stream",
     "text": [
      "<class 'pandas.core.frame.DataFrame'>\n",
      "RangeIndex: 60228 entries, 0 to 60227\n",
      "Data columns (total 3 columns):\n",
      " #   Column       Non-Null Count  Dtype\n",
      "---  ------       --------------  -----\n",
      " 0   user_id      60228 non-null  int64\n",
      " 1   period       60228 non-null  int64\n",
      " 2   decision_id  60228 non-null  int64\n",
      "dtypes: int64(3)\n",
      "memory usage: 1.4 MB\n"
     ]
    }
   ],
   "source": [
    "user_decision.info()"
   ]
  },
  {
   "cell_type": "code",
   "execution_count": 2897,
   "id": "53335aca",
   "metadata": {},
   "outputs": [
    {
     "data": {
      "text/html": [
       "<div>\n",
       "<style scoped>\n",
       "    .dataframe tbody tr th:only-of-type {\n",
       "        vertical-align: middle;\n",
       "    }\n",
       "\n",
       "    .dataframe tbody tr th {\n",
       "        vertical-align: top;\n",
       "    }\n",
       "\n",
       "    .dataframe thead th {\n",
       "        text-align: right;\n",
       "    }\n",
       "</style>\n",
       "<table border=\"1\" class=\"dataframe\">\n",
       "  <thead>\n",
       "    <tr style=\"text-align: right;\">\n",
       "      <th></th>\n",
       "      <th>user_id</th>\n",
       "      <th>period</th>\n",
       "      <th>decision_id</th>\n",
       "    </tr>\n",
       "  </thead>\n",
       "  <tbody>\n",
       "    <tr>\n",
       "      <th>0</th>\n",
       "      <td>10625</td>\n",
       "      <td>1</td>\n",
       "      <td>409</td>\n",
       "    </tr>\n",
       "    <tr>\n",
       "      <th>1</th>\n",
       "      <td>10318</td>\n",
       "      <td>3</td>\n",
       "      <td>203</td>\n",
       "    </tr>\n",
       "    <tr>\n",
       "      <th>2</th>\n",
       "      <td>10775</td>\n",
       "      <td>4</td>\n",
       "      <td>420</td>\n",
       "    </tr>\n",
       "    <tr>\n",
       "      <th>3</th>\n",
       "      <td>10236</td>\n",
       "      <td>2</td>\n",
       "      <td>284</td>\n",
       "    </tr>\n",
       "    <tr>\n",
       "      <th>4</th>\n",
       "      <td>10130</td>\n",
       "      <td>3</td>\n",
       "      <td>72</td>\n",
       "    </tr>\n",
       "  </tbody>\n",
       "</table>\n",
       "</div>"
      ],
      "text/plain": [
       "   user_id  period  decision_id\n",
       "0    10625       1          409\n",
       "1    10318       3          203\n",
       "2    10775       4          420\n",
       "3    10236       2          284\n",
       "4    10130       3           72"
      ]
     },
     "execution_count": 2897,
     "metadata": {},
     "output_type": "execute_result"
    }
   ],
   "source": [
    "user_decision.head()"
   ]
  },
  {
   "cell_type": "code",
   "execution_count": 2898,
   "id": "557ac258",
   "metadata": {
    "scrolled": false
   },
   "outputs": [
    {
     "data": {
      "text/plain": [
       "user_id        973\n",
       "period           4\n",
       "decision_id    343\n",
       "dtype: int64"
      ]
     },
     "execution_count": 2898,
     "metadata": {},
     "output_type": "execute_result"
    }
   ],
   "source": [
    "user_decision[user_decision.columns].apply(lambda x: x.nunique())"
   ]
  },
  {
   "cell_type": "code",
   "execution_count": 2899,
   "id": "3a1cef65",
   "metadata": {},
   "outputs": [
    {
     "data": {
      "text/plain": [
       "3    20964\n",
       "4    14811\n",
       "2    14453\n",
       "1    10000\n",
       "Name: period, dtype: int64"
      ]
     },
     "execution_count": 2899,
     "metadata": {},
     "output_type": "execute_result"
    }
   ],
   "source": [
    "user_decision.period.value_counts()"
   ]
  },
  {
   "cell_type": "code",
   "execution_count": 2900,
   "id": "b8855bdf",
   "metadata": {
    "scrolled": true
   },
   "outputs": [
    {
     "data": {
      "text/plain": [
       "0"
      ]
     },
     "execution_count": 2900,
     "metadata": {},
     "output_type": "execute_result"
    }
   ],
   "source": [
    "len(set(user['user_id']) ^ set(user_decision['user_id']))"
   ]
  },
  {
   "cell_type": "code",
   "execution_count": 2901,
   "id": "9771ae16",
   "metadata": {
    "scrolled": true
   },
   "outputs": [
    {
     "data": {
      "text/plain": [
       "141"
      ]
     },
     "execution_count": 2901,
     "metadata": {},
     "output_type": "execute_result"
    }
   ],
   "source": [
    "len(set(user['team_id']) ^ set(team_point['team_id']))"
   ]
  },
  {
   "cell_type": "code",
   "execution_count": 2902,
   "id": "8b5cc44c",
   "metadata": {},
   "outputs": [
    {
     "data": {
      "text/plain": [
       "355"
      ]
     },
     "execution_count": 2902,
     "metadata": {},
     "output_type": "execute_result"
    }
   ],
   "source": [
    "team_point['team_id'].nunique()"
   ]
  },
  {
   "cell_type": "code",
   "execution_count": 2903,
   "id": "d3855d3e",
   "metadata": {},
   "outputs": [
    {
     "data": {
      "text/plain": [
       "214"
      ]
     },
     "execution_count": 2903,
     "metadata": {},
     "output_type": "execute_result"
    }
   ],
   "source": [
    "user['team_id'].nunique()"
   ]
  },
  {
   "cell_type": "code",
   "execution_count": 2904,
   "id": "cec6c779",
   "metadata": {
    "scrolled": true
   },
   "outputs": [
    {
     "data": {
      "text/plain": [
       "680"
      ]
     },
     "execution_count": 2904,
     "metadata": {},
     "output_type": "execute_result"
    }
   ],
   "source": [
    "len(set(user['user_id']) & set(df['id']))"
   ]
  },
  {
   "cell_type": "code",
   "execution_count": 2905,
   "id": "b22ac1ea",
   "metadata": {
    "scrolled": true
   },
   "outputs": [
    {
     "data": {
      "text/plain": [
       "293"
      ]
     },
     "execution_count": 2905,
     "metadata": {},
     "output_type": "execute_result"
    }
   ],
   "source": [
    "len(set(user['user_id']) & set(sample_solution['id']))"
   ]
  },
  {
   "cell_type": "code",
   "execution_count": 2906,
   "id": "5067db9e",
   "metadata": {
    "scrolled": true
   },
   "outputs": [
    {
     "data": {
      "text/plain": [
       "343"
      ]
     },
     "execution_count": 2906,
     "metadata": {},
     "output_type": "execute_result"
    }
   ],
   "source": [
    "len(set(user_decision['decision_id']) & set(decision['decision_id']))"
   ]
  },
  {
   "cell_type": "code",
   "execution_count": 2907,
   "id": "c9255b1c",
   "metadata": {},
   "outputs": [
    {
     "data": {
      "text/html": [
       "<div>\n",
       "<style scoped>\n",
       "    .dataframe tbody tr th:only-of-type {\n",
       "        vertical-align: middle;\n",
       "    }\n",
       "\n",
       "    .dataframe tbody tr th {\n",
       "        vertical-align: top;\n",
       "    }\n",
       "\n",
       "    .dataframe thead th {\n",
       "        text-align: right;\n",
       "    }\n",
       "</style>\n",
       "<table border=\"1\" class=\"dataframe\">\n",
       "  <thead>\n",
       "    <tr style=\"text-align: right;\">\n",
       "      <th></th>\n",
       "      <th>decision_id</th>\n",
       "      <th>decision_name</th>\n",
       "    </tr>\n",
       "  </thead>\n",
       "  <tbody>\n",
       "    <tr>\n",
       "      <th>0</th>\n",
       "      <td>1</td>\n",
       "      <td>Dividend payout in cash</td>\n",
       "    </tr>\n",
       "    <tr>\n",
       "      <th>1</th>\n",
       "      <td>2</td>\n",
       "      <td>Dividend payout in stocks</td>\n",
       "    </tr>\n",
       "    <tr>\n",
       "      <th>2</th>\n",
       "      <td>3</td>\n",
       "      <td>Zero dividend policy</td>\n",
       "    </tr>\n",
       "    <tr>\n",
       "      <th>3</th>\n",
       "      <td>4</td>\n",
       "      <td>The distribution of the residue after the rein...</td>\n",
       "    </tr>\n",
       "    <tr>\n",
       "      <th>4</th>\n",
       "      <td>5</td>\n",
       "      <td>Fixed size of dividend payouts sum</td>\n",
       "    </tr>\n",
       "  </tbody>\n",
       "</table>\n",
       "</div>"
      ],
      "text/plain": [
       "   decision_id                                      decision_name\n",
       "0            1                            Dividend payout in cash\n",
       "1            2                          Dividend payout in stocks\n",
       "2            3                               Zero dividend policy\n",
       "3            4  The distribution of the residue after the rein...\n",
       "4            5                 Fixed size of dividend payouts sum"
      ]
     },
     "execution_count": 2907,
     "metadata": {},
     "output_type": "execute_result"
    }
   ],
   "source": [
    "decision.head()"
   ]
  },
  {
   "cell_type": "markdown",
   "id": "791252ff",
   "metadata": {},
   "source": [
    "Посмотреть группировки по периодам и решениям"
   ]
  },
  {
   "cell_type": "code",
   "execution_count": 2908,
   "id": "1370ccfc",
   "metadata": {
    "scrolled": true
   },
   "outputs": [
    {
     "data": {
      "text/plain": [
       "61.89928057553957"
      ]
     },
     "execution_count": 2908,
     "metadata": {},
     "output_type": "execute_result"
    }
   ],
   "source": [
    "user_decision.groupby('user_id')['decision_id'].count().mean()"
   ]
  },
  {
   "cell_type": "code",
   "execution_count": 2909,
   "id": "bce828bc",
   "metadata": {
    "scrolled": false
   },
   "outputs": [
    {
     "data": {
      "text/html": [
       "<div>\n",
       "<style scoped>\n",
       "    .dataframe tbody tr th:only-of-type {\n",
       "        vertical-align: middle;\n",
       "    }\n",
       "\n",
       "    .dataframe tbody tr th {\n",
       "        vertical-align: top;\n",
       "    }\n",
       "\n",
       "    .dataframe thead th {\n",
       "        text-align: right;\n",
       "    }\n",
       "</style>\n",
       "<table border=\"1\" class=\"dataframe\">\n",
       "  <thead>\n",
       "    <tr style=\"text-align: right;\">\n",
       "      <th></th>\n",
       "      <th>id</th>\n",
       "      <th>Analytical thinking</th>\n",
       "      <th>Systemic thinking</th>\n",
       "      <th>Adaptability</th>\n",
       "      <th>Focus</th>\n",
       "    </tr>\n",
       "  </thead>\n",
       "  <tbody>\n",
       "    <tr>\n",
       "      <th>0</th>\n",
       "      <td>10884</td>\n",
       "      <td>4.00</td>\n",
       "      <td>4.00</td>\n",
       "      <td>4.00</td>\n",
       "      <td>4.00</td>\n",
       "    </tr>\n",
       "    <tr>\n",
       "      <th>1</th>\n",
       "      <td>10106</td>\n",
       "      <td>5.00</td>\n",
       "      <td>4.00</td>\n",
       "      <td>5.00</td>\n",
       "      <td>5.00</td>\n",
       "    </tr>\n",
       "    <tr>\n",
       "      <th>2</th>\n",
       "      <td>10438</td>\n",
       "      <td>6.00</td>\n",
       "      <td>5.00</td>\n",
       "      <td>5.00</td>\n",
       "      <td>5.00</td>\n",
       "    </tr>\n",
       "    <tr>\n",
       "      <th>3</th>\n",
       "      <td>10130</td>\n",
       "      <td>5.00</td>\n",
       "      <td>4.00</td>\n",
       "      <td>5.00</td>\n",
       "      <td>5.00</td>\n",
       "    </tr>\n",
       "    <tr>\n",
       "      <th>4</th>\n",
       "      <td>10667</td>\n",
       "      <td>4.00</td>\n",
       "      <td>5.00</td>\n",
       "      <td>5.00</td>\n",
       "      <td>5.00</td>\n",
       "    </tr>\n",
       "  </tbody>\n",
       "</table>\n",
       "</div>"
      ],
      "text/plain": [
       "      id  Analytical thinking  Systemic thinking  Adaptability  Focus\n",
       "0  10884                 4.00               4.00          4.00   4.00\n",
       "1  10106                 5.00               4.00          5.00   5.00\n",
       "2  10438                 6.00               5.00          5.00   5.00\n",
       "3  10130                 5.00               4.00          5.00   5.00\n",
       "4  10667                 4.00               5.00          5.00   5.00"
      ]
     },
     "execution_count": 2909,
     "metadata": {},
     "output_type": "execute_result"
    }
   ],
   "source": [
    "df.head()"
   ]
  },
  {
   "cell_type": "code",
   "execution_count": 2910,
   "id": "085702db",
   "metadata": {},
   "outputs": [
    {
     "data": {
      "text/plain": [
       "680"
      ]
     },
     "execution_count": 2910,
     "metadata": {},
     "output_type": "execute_result"
    }
   ],
   "source": [
    "df['id'].nunique()"
   ]
  },
  {
   "cell_type": "code",
   "execution_count": 2911,
   "id": "4684a2c3",
   "metadata": {
    "scrolled": true
   },
   "outputs": [
    {
     "data": {
      "text/html": [
       "<div>\n",
       "<style scoped>\n",
       "    .dataframe tbody tr th:only-of-type {\n",
       "        vertical-align: middle;\n",
       "    }\n",
       "\n",
       "    .dataframe tbody tr th {\n",
       "        vertical-align: top;\n",
       "    }\n",
       "\n",
       "    .dataframe thead th {\n",
       "        text-align: right;\n",
       "    }\n",
       "</style>\n",
       "<table border=\"1\" class=\"dataframe\">\n",
       "  <thead>\n",
       "    <tr style=\"text-align: right;\">\n",
       "      <th></th>\n",
       "      <th>id</th>\n",
       "      <th>Analytical thinking</th>\n",
       "      <th>Systemic thinking</th>\n",
       "      <th>Adaptability</th>\n",
       "      <th>Focus</th>\n",
       "    </tr>\n",
       "  </thead>\n",
       "  <tbody>\n",
       "    <tr>\n",
       "      <th>count</th>\n",
       "      <td>680.00</td>\n",
       "      <td>680.00</td>\n",
       "      <td>680.00</td>\n",
       "      <td>680.00</td>\n",
       "      <td>680.00</td>\n",
       "    </tr>\n",
       "    <tr>\n",
       "      <th>mean</th>\n",
       "      <td>10,486.09</td>\n",
       "      <td>4.28</td>\n",
       "      <td>4.12</td>\n",
       "      <td>4.45</td>\n",
       "      <td>4.31</td>\n",
       "    </tr>\n",
       "    <tr>\n",
       "      <th>std</th>\n",
       "      <td>281.74</td>\n",
       "      <td>0.65</td>\n",
       "      <td>0.60</td>\n",
       "      <td>0.66</td>\n",
       "      <td>0.61</td>\n",
       "    </tr>\n",
       "    <tr>\n",
       "      <th>min</th>\n",
       "      <td>10,001.00</td>\n",
       "      <td>1.00</td>\n",
       "      <td>1.00</td>\n",
       "      <td>1.00</td>\n",
       "      <td>1.00</td>\n",
       "    </tr>\n",
       "    <tr>\n",
       "      <th>25%</th>\n",
       "      <td>10,233.75</td>\n",
       "      <td>4.00</td>\n",
       "      <td>4.00</td>\n",
       "      <td>4.00</td>\n",
       "      <td>4.00</td>\n",
       "    </tr>\n",
       "    <tr>\n",
       "      <th>50%</th>\n",
       "      <td>10,491.50</td>\n",
       "      <td>4.00</td>\n",
       "      <td>4.00</td>\n",
       "      <td>4.00</td>\n",
       "      <td>4.00</td>\n",
       "    </tr>\n",
       "    <tr>\n",
       "      <th>75%</th>\n",
       "      <td>10,729.25</td>\n",
       "      <td>5.00</td>\n",
       "      <td>4.00</td>\n",
       "      <td>5.00</td>\n",
       "      <td>5.00</td>\n",
       "    </tr>\n",
       "    <tr>\n",
       "      <th>max</th>\n",
       "      <td>10,973.00</td>\n",
       "      <td>6.00</td>\n",
       "      <td>6.00</td>\n",
       "      <td>6.00</td>\n",
       "      <td>6.00</td>\n",
       "    </tr>\n",
       "  </tbody>\n",
       "</table>\n",
       "</div>"
      ],
      "text/plain": [
       "             id  Analytical thinking  Systemic thinking  Adaptability  Focus\n",
       "count    680.00               680.00             680.00        680.00 680.00\n",
       "mean  10,486.09                 4.28               4.12          4.45   4.31\n",
       "std      281.74                 0.65               0.60          0.66   0.61\n",
       "min   10,001.00                 1.00               1.00          1.00   1.00\n",
       "25%   10,233.75                 4.00               4.00          4.00   4.00\n",
       "50%   10,491.50                 4.00               4.00          4.00   4.00\n",
       "75%   10,729.25                 5.00               4.00          5.00   5.00\n",
       "max   10,973.00                 6.00               6.00          6.00   6.00"
      ]
     },
     "execution_count": 2911,
     "metadata": {},
     "output_type": "execute_result"
    }
   ],
   "source": [
    "df.describe()"
   ]
  },
  {
   "cell_type": "code",
   "execution_count": 2912,
   "id": "3a065612",
   "metadata": {
    "scrolled": true
   },
   "outputs": [
    {
     "name": "stdout",
     "output_type": "stream",
     "text": [
      "<class 'pandas.core.frame.DataFrame'>\n",
      "RangeIndex: 293 entries, 0 to 292\n",
      "Data columns (total 5 columns):\n",
      " #   Column               Non-Null Count  Dtype\n",
      "---  ------               --------------  -----\n",
      " 0   id                   293 non-null    int64\n",
      " 1   Analytical thinking  293 non-null    int64\n",
      " 2   Systemic thinking    293 non-null    int64\n",
      " 3   Adaptability         293 non-null    int64\n",
      " 4   Focus                293 non-null    int64\n",
      "dtypes: int64(5)\n",
      "memory usage: 11.6 KB\n"
     ]
    }
   ],
   "source": [
    "sample_solution.info()"
   ]
  },
  {
   "cell_type": "code",
   "execution_count": 2913,
   "id": "371d486f",
   "metadata": {
    "scrolled": true
   },
   "outputs": [
    {
     "data": {
      "text/plain": [
       "293"
      ]
     },
     "execution_count": 2913,
     "metadata": {},
     "output_type": "execute_result"
    }
   ],
   "source": [
    "sample_solution['id'].nunique()"
   ]
  },
  {
   "cell_type": "code",
   "execution_count": 2914,
   "id": "a68edcd0",
   "metadata": {
    "scrolled": true
   },
   "outputs": [
    {
     "data": {
      "text/html": [
       "<div>\n",
       "<style scoped>\n",
       "    .dataframe tbody tr th:only-of-type {\n",
       "        vertical-align: middle;\n",
       "    }\n",
       "\n",
       "    .dataframe tbody tr th {\n",
       "        vertical-align: top;\n",
       "    }\n",
       "\n",
       "    .dataframe thead th {\n",
       "        text-align: right;\n",
       "    }\n",
       "</style>\n",
       "<table border=\"1\" class=\"dataframe\">\n",
       "  <thead>\n",
       "    <tr style=\"text-align: right;\">\n",
       "      <th></th>\n",
       "      <th>team_id</th>\n",
       "      <th>category_id</th>\n",
       "      <th>period</th>\n",
       "      <th>score</th>\n",
       "      <th>place</th>\n",
       "    </tr>\n",
       "  </thead>\n",
       "  <tbody>\n",
       "    <tr>\n",
       "      <th>0</th>\n",
       "      <td>1948</td>\n",
       "      <td>2</td>\n",
       "      <td>0</td>\n",
       "      <td>16</td>\n",
       "      <td>2</td>\n",
       "    </tr>\n",
       "    <tr>\n",
       "      <th>1</th>\n",
       "      <td>1934</td>\n",
       "      <td>3</td>\n",
       "      <td>4</td>\n",
       "      <td>45</td>\n",
       "      <td>6</td>\n",
       "    </tr>\n",
       "    <tr>\n",
       "      <th>2</th>\n",
       "      <td>1894</td>\n",
       "      <td>4</td>\n",
       "      <td>8</td>\n",
       "      <td>24</td>\n",
       "      <td>4</td>\n",
       "    </tr>\n",
       "    <tr>\n",
       "      <th>3</th>\n",
       "      <td>1688</td>\n",
       "      <td>4</td>\n",
       "      <td>0</td>\n",
       "      <td>27</td>\n",
       "      <td>4</td>\n",
       "    </tr>\n",
       "    <tr>\n",
       "      <th>4</th>\n",
       "      <td>1592</td>\n",
       "      <td>4</td>\n",
       "      <td>2</td>\n",
       "      <td>21</td>\n",
       "      <td>5</td>\n",
       "    </tr>\n",
       "  </tbody>\n",
       "</table>\n",
       "</div>"
      ],
      "text/plain": [
       "   team_id  category_id  period  score  place\n",
       "0     1948            2       0     16      2\n",
       "1     1934            3       4     45      6\n",
       "2     1894            4       8     24      4\n",
       "3     1688            4       0     27      4\n",
       "4     1592            4       2     21      5"
      ]
     },
     "execution_count": 2914,
     "metadata": {},
     "output_type": "execute_result"
    }
   ],
   "source": [
    "team_point.head()"
   ]
  },
  {
   "cell_type": "code",
   "execution_count": 2915,
   "id": "20550ed3",
   "metadata": {
    "scrolled": true
   },
   "outputs": [
    {
     "data": {
      "text/plain": [
       "355"
      ]
     },
     "execution_count": 2915,
     "metadata": {},
     "output_type": "execute_result"
    }
   ],
   "source": [
    "team_point['team_id'].nunique()"
   ]
  },
  {
   "cell_type": "markdown",
   "id": "956c7b97",
   "metadata": {},
   "source": [
    "**Анализ score по командам**"
   ]
  },
  {
   "cell_type": "code",
   "execution_count": 2916,
   "id": "340c9a59",
   "metadata": {},
   "outputs": [],
   "source": [
    "team = team_point[team_point['team_id'].isin(user['team_id'])]"
   ]
  },
  {
   "cell_type": "code",
   "execution_count": 2917,
   "id": "a22fcb76",
   "metadata": {
    "scrolled": false
   },
   "outputs": [
    {
     "data": {
      "text/html": [
       "<div>\n",
       "<style scoped>\n",
       "    .dataframe tbody tr th:only-of-type {\n",
       "        vertical-align: middle;\n",
       "    }\n",
       "\n",
       "    .dataframe tbody tr th {\n",
       "        vertical-align: top;\n",
       "    }\n",
       "\n",
       "    .dataframe thead th {\n",
       "        text-align: right;\n",
       "    }\n",
       "</style>\n",
       "<table border=\"1\" class=\"dataframe\">\n",
       "  <thead>\n",
       "    <tr style=\"text-align: right;\">\n",
       "      <th></th>\n",
       "      <th>team_id</th>\n",
       "      <th>category_id</th>\n",
       "      <th>period</th>\n",
       "      <th>score</th>\n",
       "      <th>place</th>\n",
       "    </tr>\n",
       "  </thead>\n",
       "  <tbody>\n",
       "    <tr>\n",
       "      <th>3</th>\n",
       "      <td>1688</td>\n",
       "      <td>4</td>\n",
       "      <td>0</td>\n",
       "      <td>27</td>\n",
       "      <td>4</td>\n",
       "    </tr>\n",
       "    <tr>\n",
       "      <th>4</th>\n",
       "      <td>1592</td>\n",
       "      <td>4</td>\n",
       "      <td>2</td>\n",
       "      <td>21</td>\n",
       "      <td>5</td>\n",
       "    </tr>\n",
       "    <tr>\n",
       "      <th>5</th>\n",
       "      <td>1344</td>\n",
       "      <td>5</td>\n",
       "      <td>0</td>\n",
       "      <td>8</td>\n",
       "      <td>6</td>\n",
       "    </tr>\n",
       "    <tr>\n",
       "      <th>7</th>\n",
       "      <td>1460</td>\n",
       "      <td>2</td>\n",
       "      <td>2</td>\n",
       "      <td>-29</td>\n",
       "      <td>6</td>\n",
       "    </tr>\n",
       "    <tr>\n",
       "      <th>9</th>\n",
       "      <td>1848</td>\n",
       "      <td>3</td>\n",
       "      <td>1</td>\n",
       "      <td>62</td>\n",
       "      <td>5</td>\n",
       "    </tr>\n",
       "  </tbody>\n",
       "</table>\n",
       "</div>"
      ],
      "text/plain": [
       "   team_id  category_id  period  score  place\n",
       "3     1688            4       0     27      4\n",
       "4     1592            4       2     21      5\n",
       "5     1344            5       0      8      6\n",
       "7     1460            2       2    -29      6\n",
       "9     1848            3       1     62      5"
      ]
     },
     "execution_count": 2917,
     "metadata": {},
     "output_type": "execute_result"
    }
   ],
   "source": [
    "team.head()"
   ]
  },
  {
   "cell_type": "code",
   "execution_count": 2918,
   "id": "17ca3d00",
   "metadata": {},
   "outputs": [],
   "source": [
    "team = team[team['period']<5].reset_index()"
   ]
  },
  {
   "cell_type": "code",
   "execution_count": 2919,
   "id": "60d96ce0",
   "metadata": {
    "scrolled": true
   },
   "outputs": [
    {
     "data": {
      "text/plain": [
       "<AxesSubplot:>"
      ]
     },
     "execution_count": 2919,
     "metadata": {},
     "output_type": "execute_result"
    },
    {
     "data": {
      "image/png": "[encoded data removed]",
      "text/plain": [
       "<Figure size 400x400 with 1 Axes>"
      ]
     },
     "metadata": {},
     "output_type": "display_data"
    }
   ],
   "source": [
    "team_score_0 = pd.DataFrame(team_point.groupby('team_id')['score'].sum())\n",
    "team_point.groupby('team_id')['score'].sum().hist(bins=30, figsize = (4,4))"
   ]
  },
  {
   "cell_type": "code",
   "execution_count": 2920,
   "id": "ea484bbc",
   "metadata": {},
   "outputs": [
    {
     "data": {
      "text/html": [
       "<div>\n",
       "<style scoped>\n",
       "    .dataframe tbody tr th:only-of-type {\n",
       "        vertical-align: middle;\n",
       "    }\n",
       "\n",
       "    .dataframe tbody tr th {\n",
       "        vertical-align: top;\n",
       "    }\n",
       "\n",
       "    .dataframe thead th {\n",
       "        text-align: right;\n",
       "    }\n",
       "</style>\n",
       "<table border=\"1\" class=\"dataframe\">\n",
       "  <thead>\n",
       "    <tr style=\"text-align: right;\">\n",
       "      <th></th>\n",
       "      <th>score</th>\n",
       "    </tr>\n",
       "  </thead>\n",
       "  <tbody>\n",
       "    <tr>\n",
       "      <th>count</th>\n",
       "      <td>355.00</td>\n",
       "    </tr>\n",
       "    <tr>\n",
       "      <th>mean</th>\n",
       "      <td>1,585.49</td>\n",
       "    </tr>\n",
       "    <tr>\n",
       "      <th>std</th>\n",
       "      <td>496.25</td>\n",
       "    </tr>\n",
       "    <tr>\n",
       "      <th>min</th>\n",
       "      <td>516.00</td>\n",
       "    </tr>\n",
       "    <tr>\n",
       "      <th>25%</th>\n",
       "      <td>1,251.00</td>\n",
       "    </tr>\n",
       "    <tr>\n",
       "      <th>50%</th>\n",
       "      <td>1,554.00</td>\n",
       "    </tr>\n",
       "    <tr>\n",
       "      <th>75%</th>\n",
       "      <td>1,817.00</td>\n",
       "    </tr>\n",
       "    <tr>\n",
       "      <th>max</th>\n",
       "      <td>4,376.00</td>\n",
       "    </tr>\n",
       "  </tbody>\n",
       "</table>\n",
       "</div>"
      ],
      "text/plain": [
       "         score\n",
       "count   355.00\n",
       "mean  1,585.49\n",
       "std     496.25\n",
       "min     516.00\n",
       "25%   1,251.00\n",
       "50%   1,554.00\n",
       "75%   1,817.00\n",
       "max   4,376.00"
      ]
     },
     "execution_count": 2920,
     "metadata": {},
     "output_type": "execute_result"
    }
   ],
   "source": [
    "team_score_0.describe()"
   ]
  },
  {
   "cell_type": "code",
   "execution_count": 2921,
   "id": "fc68b9cf",
   "metadata": {
    "scrolled": true
   },
   "outputs": [
    {
     "data": {
      "text/plain": [
       "array([[<AxesSubplot:title={'center':'score'}>]], dtype=object)"
      ]
     },
     "execution_count": 2921,
     "metadata": {},
     "output_type": "execute_result"
    },
    {
     "data": {
      "image/png": "[encoded data removed]",
      "text/plain": [
       "<Figure size 400x400 with 1 Axes>"
      ]
     },
     "metadata": {},
     "output_type": "display_data"
    }
   ],
   "source": [
    "team_score = pd.DataFrame(team.groupby('team_id')['score'].sum())\n",
    "team_score.hist(bins=30, figsize = (4,4))\n",
    "#team_score.query('score < 1000').hist(bins=30)"
   ]
  },
  {
   "cell_type": "code",
   "execution_count": 2922,
   "id": "4cce7af1",
   "metadata": {
    "scrolled": true
   },
   "outputs": [
    {
     "data": {
      "text/html": [
       "<div>\n",
       "<style scoped>\n",
       "    .dataframe tbody tr th:only-of-type {\n",
       "        vertical-align: middle;\n",
       "    }\n",
       "\n",
       "    .dataframe tbody tr th {\n",
       "        vertical-align: top;\n",
       "    }\n",
       "\n",
       "    .dataframe thead th {\n",
       "        text-align: right;\n",
       "    }\n",
       "</style>\n",
       "<table border=\"1\" class=\"dataframe\">\n",
       "  <thead>\n",
       "    <tr style=\"text-align: right;\">\n",
       "      <th></th>\n",
       "      <th>score</th>\n",
       "    </tr>\n",
       "  </thead>\n",
       "  <tbody>\n",
       "    <tr>\n",
       "      <th>count</th>\n",
       "      <td>214.00</td>\n",
       "    </tr>\n",
       "    <tr>\n",
       "      <th>mean</th>\n",
       "      <td>1,556.01</td>\n",
       "    </tr>\n",
       "    <tr>\n",
       "      <th>std</th>\n",
       "      <td>428.67</td>\n",
       "    </tr>\n",
       "    <tr>\n",
       "      <th>min</th>\n",
       "      <td>516.00</td>\n",
       "    </tr>\n",
       "    <tr>\n",
       "      <th>25%</th>\n",
       "      <td>1,250.50</td>\n",
       "    </tr>\n",
       "    <tr>\n",
       "      <th>50%</th>\n",
       "      <td>1,552.00</td>\n",
       "    </tr>\n",
       "    <tr>\n",
       "      <th>75%</th>\n",
       "      <td>1,799.50</td>\n",
       "    </tr>\n",
       "    <tr>\n",
       "      <th>max</th>\n",
       "      <td>3,040.00</td>\n",
       "    </tr>\n",
       "  </tbody>\n",
       "</table>\n",
       "</div>"
      ],
      "text/plain": [
       "         score\n",
       "count   214.00\n",
       "mean  1,556.01\n",
       "std     428.67\n",
       "min     516.00\n",
       "25%   1,250.50\n",
       "50%   1,552.00\n",
       "75%   1,799.50\n",
       "max   3,040.00"
      ]
     },
     "execution_count": 2922,
     "metadata": {},
     "output_type": "execute_result"
    }
   ],
   "source": [
    "team_score.describe()"
   ]
  },
  {
   "cell_type": "markdown",
   "id": "f9b0b4b5",
   "metadata": {},
   "source": [
    "После сокращения числа периодов распределение score изменилось незначительно"
   ]
  },
  {
   "cell_type": "code",
   "execution_count": 2923,
   "id": "1c75bbc1",
   "metadata": {
    "scrolled": true
   },
   "outputs": [
    {
     "name": "stdout",
     "output_type": "stream",
     "text": [
      "214\n"
     ]
    }
   ],
   "source": [
    "print(team_score.index.nunique())"
   ]
  },
  {
   "cell_type": "code",
   "execution_count": 2924,
   "id": "1a31b766",
   "metadata": {},
   "outputs": [],
   "source": [
    "team_game = user.drop('user_id', axis=1).drop_duplicates()\n",
    "#team_game = user.drop_duplicates()"
   ]
  },
  {
   "cell_type": "code",
   "execution_count": 2925,
   "id": "1c42354e",
   "metadata": {
    "scrolled": true
   },
   "outputs": [
    {
     "data": {
      "text/plain": [
       "team_id    214\n",
       "game_id     43\n",
       "dtype: int64"
      ]
     },
     "execution_count": 2925,
     "metadata": {},
     "output_type": "execute_result"
    }
   ],
   "source": [
    "team_game.nunique()"
   ]
  },
  {
   "cell_type": "markdown",
   "id": "ff922be0",
   "metadata": {},
   "source": [
    "**Анализ величины score команд по разным играм**"
   ]
  },
  {
   "cell_type": "code",
   "execution_count": 2926,
   "id": "bf5ba087",
   "metadata": {
    "scrolled": true
   },
   "outputs": [],
   "source": [
    "team = team.set_index('team_id').join(team_game.set_index('team_id')).reset_index()"
   ]
  },
  {
   "cell_type": "code",
   "execution_count": 2927,
   "id": "8619188f",
   "metadata": {
    "scrolled": true
   },
   "outputs": [
    {
     "data": {
      "text/html": [
       "<div>\n",
       "<style scoped>\n",
       "    .dataframe tbody tr th:only-of-type {\n",
       "        vertical-align: middle;\n",
       "    }\n",
       "\n",
       "    .dataframe tbody tr th {\n",
       "        vertical-align: top;\n",
       "    }\n",
       "\n",
       "    .dataframe thead th {\n",
       "        text-align: right;\n",
       "    }\n",
       "</style>\n",
       "<table border=\"1\" class=\"dataframe\">\n",
       "  <thead>\n",
       "    <tr style=\"text-align: right;\">\n",
       "      <th></th>\n",
       "      <th>team_id</th>\n",
       "      <th>index</th>\n",
       "      <th>category_id</th>\n",
       "      <th>period</th>\n",
       "      <th>score</th>\n",
       "      <th>place</th>\n",
       "      <th>game_id</th>\n",
       "    </tr>\n",
       "  </thead>\n",
       "  <tbody>\n",
       "    <tr>\n",
       "      <th>0</th>\n",
       "      <td>1248</td>\n",
       "      <td>629</td>\n",
       "      <td>5</td>\n",
       "      <td>2</td>\n",
       "      <td>24</td>\n",
       "      <td>1</td>\n",
       "      <td>182</td>\n",
       "    </tr>\n",
       "  </tbody>\n",
       "</table>\n",
       "</div>"
      ],
      "text/plain": [
       "   team_id  index  category_id  period  score  place  game_id\n",
       "0     1248    629            5       2     24      1      182"
      ]
     },
     "execution_count": 2927,
     "metadata": {},
     "output_type": "execute_result"
    }
   ],
   "source": [
    "team.head(1)"
   ]
  },
  {
   "cell_type": "code",
   "execution_count": 2928,
   "id": "c1996163",
   "metadata": {},
   "outputs": [],
   "source": [
    "team['total_score']=team.groupby('team_id')['score'].transform('sum')"
   ]
  },
  {
   "cell_type": "code",
   "execution_count": 2929,
   "id": "50033bb1",
   "metadata": {
    "scrolled": true
   },
   "outputs": [
    {
     "data": {
      "text/html": [
       "<div>\n",
       "<style scoped>\n",
       "    .dataframe tbody tr th:only-of-type {\n",
       "        vertical-align: middle;\n",
       "    }\n",
       "\n",
       "    .dataframe tbody tr th {\n",
       "        vertical-align: top;\n",
       "    }\n",
       "\n",
       "    .dataframe thead th {\n",
       "        text-align: right;\n",
       "    }\n",
       "</style>\n",
       "<table border=\"1\" class=\"dataframe\">\n",
       "  <thead>\n",
       "    <tr style=\"text-align: right;\">\n",
       "      <th></th>\n",
       "      <th>team_id</th>\n",
       "      <th>index</th>\n",
       "      <th>category_id</th>\n",
       "      <th>period</th>\n",
       "      <th>score</th>\n",
       "      <th>place</th>\n",
       "      <th>game_id</th>\n",
       "      <th>total_score</th>\n",
       "    </tr>\n",
       "  </thead>\n",
       "  <tbody>\n",
       "    <tr>\n",
       "      <th>0</th>\n",
       "      <td>1248</td>\n",
       "      <td>629</td>\n",
       "      <td>5</td>\n",
       "      <td>2</td>\n",
       "      <td>24</td>\n",
       "      <td>1</td>\n",
       "      <td>182</td>\n",
       "      <td>2698</td>\n",
       "    </tr>\n",
       "  </tbody>\n",
       "</table>\n",
       "</div>"
      ],
      "text/plain": [
       "   team_id  index  category_id  period  score  place  game_id  total_score\n",
       "0     1248    629            5       2     24      1      182         2698"
      ]
     },
     "execution_count": 2929,
     "metadata": {},
     "output_type": "execute_result"
    }
   ],
   "source": [
    "team.head(1)"
   ]
  },
  {
   "cell_type": "code",
   "execution_count": 2930,
   "id": "66f27146",
   "metadata": {},
   "outputs": [],
   "source": [
    "team = team.set_index('team_id').join(user.drop('game_id', axis=1).set_index('team_id'), how = 'right').reset_index()"
   ]
  },
  {
   "cell_type": "code",
   "execution_count": 2931,
   "id": "317bd668",
   "metadata": {},
   "outputs": [
    {
     "data": {
      "text/html": [
       "<div>\n",
       "<style scoped>\n",
       "    .dataframe tbody tr th:only-of-type {\n",
       "        vertical-align: middle;\n",
       "    }\n",
       "\n",
       "    .dataframe tbody tr th {\n",
       "        vertical-align: top;\n",
       "    }\n",
       "\n",
       "    .dataframe thead th {\n",
       "        text-align: right;\n",
       "    }\n",
       "</style>\n",
       "<table border=\"1\" class=\"dataframe\">\n",
       "  <thead>\n",
       "    <tr style=\"text-align: right;\">\n",
       "      <th></th>\n",
       "      <th>team_id</th>\n",
       "      <th>index</th>\n",
       "      <th>category_id</th>\n",
       "      <th>period</th>\n",
       "      <th>score</th>\n",
       "      <th>place</th>\n",
       "      <th>game_id</th>\n",
       "      <th>total_score</th>\n",
       "      <th>user_id</th>\n",
       "    </tr>\n",
       "  </thead>\n",
       "  <tbody>\n",
       "    <tr>\n",
       "      <th>0</th>\n",
       "      <td>1248</td>\n",
       "      <td>629</td>\n",
       "      <td>5</td>\n",
       "      <td>2</td>\n",
       "      <td>24</td>\n",
       "      <td>1</td>\n",
       "      <td>182</td>\n",
       "      <td>2698</td>\n",
       "      <td>10273</td>\n",
       "    </tr>\n",
       "  </tbody>\n",
       "</table>\n",
       "</div>"
      ],
      "text/plain": [
       "   team_id  index  category_id  period  score  place  game_id  total_score  \\\n",
       "0     1248    629            5       2     24      1      182         2698   \n",
       "\n",
       "   user_id  \n",
       "0    10273  "
      ]
     },
     "execution_count": 2931,
     "metadata": {},
     "output_type": "execute_result"
    }
   ],
   "source": [
    "team.head(1)"
   ]
  },
  {
   "cell_type": "code",
   "execution_count": 2932,
   "id": "43266f44",
   "metadata": {},
   "outputs": [],
   "source": [
    "for i in [1, 2, 3, 4, 5, 6]:\n",
    "    col_name = 'cat_'+ str(i)\n",
    "    team[col_name] = team[team['category_id'] == i].groupby(['user_id'])['score'].transform('sum')"
   ]
  },
  {
   "cell_type": "code",
   "execution_count": 2933,
   "id": "03d3b1fb",
   "metadata": {},
   "outputs": [
    {
     "data": {
      "text/html": [
       "<div>\n",
       "<style scoped>\n",
       "    .dataframe tbody tr th:only-of-type {\n",
       "        vertical-align: middle;\n",
       "    }\n",
       "\n",
       "    .dataframe tbody tr th {\n",
       "        vertical-align: top;\n",
       "    }\n",
       "\n",
       "    .dataframe thead th {\n",
       "        text-align: right;\n",
       "    }\n",
       "</style>\n",
       "<table border=\"1\" class=\"dataframe\">\n",
       "  <thead>\n",
       "    <tr style=\"text-align: right;\">\n",
       "      <th></th>\n",
       "      <th>team_id</th>\n",
       "      <th>index</th>\n",
       "      <th>category_id</th>\n",
       "      <th>period</th>\n",
       "      <th>score</th>\n",
       "      <th>place</th>\n",
       "      <th>game_id</th>\n",
       "      <th>total_score</th>\n",
       "      <th>user_id</th>\n",
       "      <th>cat_1</th>\n",
       "      <th>cat_2</th>\n",
       "      <th>cat_3</th>\n",
       "      <th>cat_4</th>\n",
       "      <th>cat_5</th>\n",
       "      <th>cat_6</th>\n",
       "    </tr>\n",
       "  </thead>\n",
       "  <tbody>\n",
       "    <tr>\n",
       "      <th>0</th>\n",
       "      <td>1248</td>\n",
       "      <td>629</td>\n",
       "      <td>5</td>\n",
       "      <td>2</td>\n",
       "      <td>24</td>\n",
       "      <td>1</td>\n",
       "      <td>182</td>\n",
       "      <td>2698</td>\n",
       "      <td>10273</td>\n",
       "      <td>NaN</td>\n",
       "      <td>NaN</td>\n",
       "      <td>NaN</td>\n",
       "      <td>NaN</td>\n",
       "      <td>133.00</td>\n",
       "      <td>NaN</td>\n",
       "    </tr>\n",
       "    <tr>\n",
       "      <th>1</th>\n",
       "      <td>1248</td>\n",
       "      <td>1537</td>\n",
       "      <td>5</td>\n",
       "      <td>0</td>\n",
       "      <td>8</td>\n",
       "      <td>1</td>\n",
       "      <td>182</td>\n",
       "      <td>2698</td>\n",
       "      <td>10273</td>\n",
       "      <td>NaN</td>\n",
       "      <td>NaN</td>\n",
       "      <td>NaN</td>\n",
       "      <td>NaN</td>\n",
       "      <td>133.00</td>\n",
       "      <td>NaN</td>\n",
       "    </tr>\n",
       "    <tr>\n",
       "      <th>2</th>\n",
       "      <td>1248</td>\n",
       "      <td>1700</td>\n",
       "      <td>4</td>\n",
       "      <td>2</td>\n",
       "      <td>44</td>\n",
       "      <td>1</td>\n",
       "      <td>182</td>\n",
       "      <td>2698</td>\n",
       "      <td>10273</td>\n",
       "      <td>NaN</td>\n",
       "      <td>NaN</td>\n",
       "      <td>NaN</td>\n",
       "      <td>235.00</td>\n",
       "      <td>NaN</td>\n",
       "      <td>NaN</td>\n",
       "    </tr>\n",
       "    <tr>\n",
       "      <th>3</th>\n",
       "      <td>1248</td>\n",
       "      <td>3504</td>\n",
       "      <td>1</td>\n",
       "      <td>4</td>\n",
       "      <td>68</td>\n",
       "      <td>1</td>\n",
       "      <td>182</td>\n",
       "      <td>2698</td>\n",
       "      <td>10273</td>\n",
       "      <td>178.00</td>\n",
       "      <td>NaN</td>\n",
       "      <td>NaN</td>\n",
       "      <td>NaN</td>\n",
       "      <td>NaN</td>\n",
       "      <td>NaN</td>\n",
       "    </tr>\n",
       "    <tr>\n",
       "      <th>4</th>\n",
       "      <td>1248</td>\n",
       "      <td>3601</td>\n",
       "      <td>6</td>\n",
       "      <td>4</td>\n",
       "      <td>354</td>\n",
       "      <td>1</td>\n",
       "      <td>182</td>\n",
       "      <td>2698</td>\n",
       "      <td>10273</td>\n",
       "      <td>NaN</td>\n",
       "      <td>NaN</td>\n",
       "      <td>NaN</td>\n",
       "      <td>NaN</td>\n",
       "      <td>NaN</td>\n",
       "      <td>1,349.00</td>\n",
       "    </tr>\n",
       "  </tbody>\n",
       "</table>\n",
       "</div>"
      ],
      "text/plain": [
       "   team_id  index  category_id  period  score  place  game_id  total_score  \\\n",
       "0     1248    629            5       2     24      1      182         2698   \n",
       "1     1248   1537            5       0      8      1      182         2698   \n",
       "2     1248   1700            4       2     44      1      182         2698   \n",
       "3     1248   3504            1       4     68      1      182         2698   \n",
       "4     1248   3601            6       4    354      1      182         2698   \n",
       "\n",
       "   user_id  cat_1  cat_2  cat_3  cat_4  cat_5    cat_6  \n",
       "0    10273    NaN    NaN    NaN    NaN 133.00      NaN  \n",
       "1    10273    NaN    NaN    NaN    NaN 133.00      NaN  \n",
       "2    10273    NaN    NaN    NaN 235.00    NaN      NaN  \n",
       "3    10273 178.00    NaN    NaN    NaN    NaN      NaN  \n",
       "4    10273    NaN    NaN    NaN    NaN    NaN 1,349.00  "
      ]
     },
     "execution_count": 2933,
     "metadata": {},
     "output_type": "execute_result"
    }
   ],
   "source": [
    "team.head()"
   ]
  },
  {
   "cell_type": "code",
   "execution_count": 2934,
   "id": "addcf0ce",
   "metadata": {},
   "outputs": [
    {
     "data": {
      "text/plain": [
       "(29190, 15)"
      ]
     },
     "execution_count": 2934,
     "metadata": {},
     "output_type": "execute_result"
    }
   ],
   "source": [
    "team.shape"
   ]
  },
  {
   "cell_type": "code",
   "execution_count": 2935,
   "id": "82a030c0",
   "metadata": {},
   "outputs": [],
   "source": [
    "team = team.groupby('user_id').max()"
   ]
  },
  {
   "cell_type": "code",
   "execution_count": 2936,
   "id": "f90667db",
   "metadata": {
    "scrolled": true
   },
   "outputs": [
    {
     "data": {
      "text/html": [
       "<div>\n",
       "<style scoped>\n",
       "    .dataframe tbody tr th:only-of-type {\n",
       "        vertical-align: middle;\n",
       "    }\n",
       "\n",
       "    .dataframe tbody tr th {\n",
       "        vertical-align: top;\n",
       "    }\n",
       "\n",
       "    .dataframe thead th {\n",
       "        text-align: right;\n",
       "    }\n",
       "</style>\n",
       "<table border=\"1\" class=\"dataframe\">\n",
       "  <thead>\n",
       "    <tr style=\"text-align: right;\">\n",
       "      <th></th>\n",
       "      <th>team_id</th>\n",
       "      <th>index</th>\n",
       "      <th>category_id</th>\n",
       "      <th>period</th>\n",
       "      <th>score</th>\n",
       "      <th>place</th>\n",
       "      <th>game_id</th>\n",
       "      <th>total_score</th>\n",
       "      <th>cat_1</th>\n",
       "      <th>cat_2</th>\n",
       "      <th>cat_3</th>\n",
       "      <th>cat_4</th>\n",
       "      <th>cat_5</th>\n",
       "      <th>cat_6</th>\n",
       "    </tr>\n",
       "    <tr>\n",
       "      <th>user_id</th>\n",
       "      <th></th>\n",
       "      <th></th>\n",
       "      <th></th>\n",
       "      <th></th>\n",
       "      <th></th>\n",
       "      <th></th>\n",
       "      <th></th>\n",
       "      <th></th>\n",
       "      <th></th>\n",
       "      <th></th>\n",
       "      <th></th>\n",
       "      <th></th>\n",
       "      <th></th>\n",
       "      <th></th>\n",
       "    </tr>\n",
       "  </thead>\n",
       "  <tbody>\n",
       "    <tr>\n",
       "      <th>10001</th>\n",
       "      <td>1366</td>\n",
       "      <td>10943</td>\n",
       "      <td>6</td>\n",
       "      <td>4</td>\n",
       "      <td>328</td>\n",
       "      <td>5</td>\n",
       "      <td>192</td>\n",
       "      <td>2408</td>\n",
       "      <td>183.00</td>\n",
       "      <td>147.00</td>\n",
       "      <td>524.00</td>\n",
       "      <td>183.00</td>\n",
       "      <td>167.00</td>\n",
       "      <td>1,204.00</td>\n",
       "    </tr>\n",
       "    <tr>\n",
       "      <th>10002</th>\n",
       "      <td>1682</td>\n",
       "      <td>10250</td>\n",
       "      <td>6</td>\n",
       "      <td>4</td>\n",
       "      <td>299</td>\n",
       "      <td>6</td>\n",
       "      <td>236</td>\n",
       "      <td>2294</td>\n",
       "      <td>149.00</td>\n",
       "      <td>224.00</td>\n",
       "      <td>485.00</td>\n",
       "      <td>200.00</td>\n",
       "      <td>89.00</td>\n",
       "      <td>1,147.00</td>\n",
       "    </tr>\n",
       "    <tr>\n",
       "      <th>10003</th>\n",
       "      <td>1652</td>\n",
       "      <td>10872</td>\n",
       "      <td>6</td>\n",
       "      <td>4</td>\n",
       "      <td>158</td>\n",
       "      <td>6</td>\n",
       "      <td>234</td>\n",
       "      <td>744</td>\n",
       "      <td>-67.00</td>\n",
       "      <td>-135.00</td>\n",
       "      <td>312.00</td>\n",
       "      <td>101.00</td>\n",
       "      <td>161.00</td>\n",
       "      <td>372.00</td>\n",
       "    </tr>\n",
       "    <tr>\n",
       "      <th>10004</th>\n",
       "      <td>1472</td>\n",
       "      <td>10267</td>\n",
       "      <td>6</td>\n",
       "      <td>4</td>\n",
       "      <td>158</td>\n",
       "      <td>6</td>\n",
       "      <td>206</td>\n",
       "      <td>1094</td>\n",
       "      <td>-21.00</td>\n",
       "      <td>-9.00</td>\n",
       "      <td>327.00</td>\n",
       "      <td>107.00</td>\n",
       "      <td>143.00</td>\n",
       "      <td>547.00</td>\n",
       "    </tr>\n",
       "    <tr>\n",
       "      <th>10005</th>\n",
       "      <td>1602</td>\n",
       "      <td>10632</td>\n",
       "      <td>6</td>\n",
       "      <td>4</td>\n",
       "      <td>158</td>\n",
       "      <td>6</td>\n",
       "      <td>219</td>\n",
       "      <td>900</td>\n",
       "      <td>-42.00</td>\n",
       "      <td>-64.00</td>\n",
       "      <td>319.00</td>\n",
       "      <td>117.00</td>\n",
       "      <td>120.00</td>\n",
       "      <td>450.00</td>\n",
       "    </tr>\n",
       "  </tbody>\n",
       "</table>\n",
       "</div>"
      ],
      "text/plain": [
       "         team_id  index  category_id  period  score  place  game_id  \\\n",
       "user_id                                                               \n",
       "10001       1366  10943            6       4    328      5      192   \n",
       "10002       1682  10250            6       4    299      6      236   \n",
       "10003       1652  10872            6       4    158      6      234   \n",
       "10004       1472  10267            6       4    158      6      206   \n",
       "10005       1602  10632            6       4    158      6      219   \n",
       "\n",
       "         total_score  cat_1   cat_2  cat_3  cat_4  cat_5    cat_6  \n",
       "user_id                                                            \n",
       "10001           2408 183.00  147.00 524.00 183.00 167.00 1,204.00  \n",
       "10002           2294 149.00  224.00 485.00 200.00  89.00 1,147.00  \n",
       "10003            744 -67.00 -135.00 312.00 101.00 161.00   372.00  \n",
       "10004           1094 -21.00   -9.00 327.00 107.00 143.00   547.00  \n",
       "10005            900 -42.00  -64.00 319.00 117.00 120.00   450.00  "
      ]
     },
     "execution_count": 2936,
     "metadata": {},
     "output_type": "execute_result"
    }
   ],
   "source": [
    "team.head()"
   ]
  },
  {
   "cell_type": "code",
   "execution_count": 2937,
   "id": "e592b76d",
   "metadata": {},
   "outputs": [
    {
     "data": {
      "text/plain": [
       "(973, 14)"
      ]
     },
     "execution_count": 2937,
     "metadata": {},
     "output_type": "execute_result"
    }
   ],
   "source": [
    "team.shape"
   ]
  },
  {
   "cell_type": "code",
   "execution_count": 2938,
   "id": "2d41fe5e",
   "metadata": {},
   "outputs": [],
   "source": [
    "team_game_score = team.drop(['category_id','period','score','place', 'index'], axis=1).drop_duplicates()"
   ]
  },
  {
   "cell_type": "code",
   "execution_count": 2939,
   "id": "96f11824",
   "metadata": {
    "scrolled": true
   },
   "outputs": [
    {
     "data": {
      "text/html": [
       "<div>\n",
       "<style scoped>\n",
       "    .dataframe tbody tr th:only-of-type {\n",
       "        vertical-align: middle;\n",
       "    }\n",
       "\n",
       "    .dataframe tbody tr th {\n",
       "        vertical-align: top;\n",
       "    }\n",
       "\n",
       "    .dataframe thead th {\n",
       "        text-align: right;\n",
       "    }\n",
       "</style>\n",
       "<table border=\"1\" class=\"dataframe\">\n",
       "  <thead>\n",
       "    <tr style=\"text-align: right;\">\n",
       "      <th></th>\n",
       "      <th>team_id</th>\n",
       "      <th>game_id</th>\n",
       "      <th>total_score</th>\n",
       "      <th>cat_1</th>\n",
       "      <th>cat_2</th>\n",
       "      <th>cat_3</th>\n",
       "      <th>cat_4</th>\n",
       "      <th>cat_5</th>\n",
       "      <th>cat_6</th>\n",
       "    </tr>\n",
       "    <tr>\n",
       "      <th>user_id</th>\n",
       "      <th></th>\n",
       "      <th></th>\n",
       "      <th></th>\n",
       "      <th></th>\n",
       "      <th></th>\n",
       "      <th></th>\n",
       "      <th></th>\n",
       "      <th></th>\n",
       "      <th></th>\n",
       "    </tr>\n",
       "  </thead>\n",
       "  <tbody>\n",
       "    <tr>\n",
       "      <th>10001</th>\n",
       "      <td>1366</td>\n",
       "      <td>192</td>\n",
       "      <td>2408</td>\n",
       "      <td>183.00</td>\n",
       "      <td>147.00</td>\n",
       "      <td>524.00</td>\n",
       "      <td>183.00</td>\n",
       "      <td>167.00</td>\n",
       "      <td>1,204.00</td>\n",
       "    </tr>\n",
       "  </tbody>\n",
       "</table>\n",
       "</div>"
      ],
      "text/plain": [
       "         team_id  game_id  total_score  cat_1  cat_2  cat_3  cat_4  cat_5  \\\n",
       "user_id                                                                     \n",
       "10001       1366      192         2408 183.00 147.00 524.00 183.00 167.00   \n",
       "\n",
       "           cat_6  \n",
       "user_id           \n",
       "10001   1,204.00  "
      ]
     },
     "execution_count": 2939,
     "metadata": {},
     "output_type": "execute_result"
    }
   ],
   "source": [
    "team_game_score.head(1)"
   ]
  },
  {
   "cell_type": "code",
   "execution_count": 2940,
   "id": "55422a40",
   "metadata": {
    "scrolled": true
   },
   "outputs": [
    {
     "data": {
      "text/plain": [
       "count     214.00\n",
       "mean    1,556.01\n",
       "std       428.67\n",
       "min       516.00\n",
       "25%     1,250.50\n",
       "50%     1,552.00\n",
       "75%     1,799.50\n",
       "max     3,040.00\n",
       "Name: total_score, dtype: float64"
      ]
     },
     "execution_count": 2940,
     "metadata": {},
     "output_type": "execute_result"
    }
   ],
   "source": [
    "team_game_score['total_score'].describe()"
   ]
  },
  {
   "cell_type": "code",
   "execution_count": 2941,
   "id": "39cb1c9e",
   "metadata": {},
   "outputs": [],
   "source": [
    "min_score_game = team_game_score.groupby('game_id')['total_score'].min()\n",
    "max_score_game = team_game_score.groupby('game_id')['total_score'].max()\n",
    "mean_score_game = team_game_score.groupby('game_id')['total_score'].mean()"
   ]
  },
  {
   "cell_type": "code",
   "execution_count": 2942,
   "id": "8a018c26",
   "metadata": {
    "scrolled": true
   },
   "outputs": [
    {
     "data": {
      "text/plain": [
       "count      43.00\n",
       "mean    1,122.19\n",
       "std       320.05\n",
       "min       516.00\n",
       "25%       923.00\n",
       "50%     1,072.00\n",
       "75%     1,259.00\n",
       "max     1,884.00\n",
       "Name: total_score, dtype: float64"
      ]
     },
     "execution_count": 2942,
     "metadata": {},
     "output_type": "execute_result"
    }
   ],
   "source": [
    "min_score_game.describe()"
   ]
  },
  {
   "cell_type": "code",
   "execution_count": 2943,
   "id": "bf7a2dbd",
   "metadata": {},
   "outputs": [
    {
     "data": {
      "text/plain": [
       "Text(0, 0.5, '')"
      ]
     },
     "execution_count": 2943,
     "metadata": {},
     "output_type": "execute_result"
    },
    {
     "data": {
      "image/png": "[encoded data removed]",
      "text/plain": [
       "<Figure size 600x300 with 1 Axes>"
      ]
     },
     "metadata": {},
     "output_type": "display_data"
    }
   ],
   "source": [
    "plt.figure(figsize = (6,3))\n",
    "sns.boxplot(data=[min_score_game, mean_score_game, max_score_game],\n",
    "                 orient=\"h\")\n",
    "plt.title('Распределение min, mean, max score по командам', fontsize = 10)\n",
    "plt.xlabel('score')\n",
    "plt.ylabel('')"
   ]
  },
  {
   "cell_type": "code",
   "execution_count": 2944,
   "id": "ddad2ebf",
   "metadata": {},
   "outputs": [],
   "source": [
    "user_score = team_game_score.set_index('team_id').join(user.set_index('team_id').drop('game_id', axis=1), how = 'right')"
   ]
  },
  {
   "cell_type": "code",
   "execution_count": 2945,
   "id": "011e9182",
   "metadata": {
    "scrolled": true
   },
   "outputs": [
    {
     "data": {
      "text/html": [
       "<div>\n",
       "<style scoped>\n",
       "    .dataframe tbody tr th:only-of-type {\n",
       "        vertical-align: middle;\n",
       "    }\n",
       "\n",
       "    .dataframe tbody tr th {\n",
       "        vertical-align: top;\n",
       "    }\n",
       "\n",
       "    .dataframe thead th {\n",
       "        text-align: right;\n",
       "    }\n",
       "</style>\n",
       "<table border=\"1\" class=\"dataframe\">\n",
       "  <thead>\n",
       "    <tr style=\"text-align: right;\">\n",
       "      <th></th>\n",
       "      <th>game_id</th>\n",
       "      <th>total_score</th>\n",
       "      <th>cat_1</th>\n",
       "      <th>cat_2</th>\n",
       "      <th>cat_3</th>\n",
       "      <th>cat_4</th>\n",
       "      <th>cat_5</th>\n",
       "      <th>cat_6</th>\n",
       "      <th>user_id</th>\n",
       "    </tr>\n",
       "    <tr>\n",
       "      <th>team_id</th>\n",
       "      <th></th>\n",
       "      <th></th>\n",
       "      <th></th>\n",
       "      <th></th>\n",
       "      <th></th>\n",
       "      <th></th>\n",
       "      <th></th>\n",
       "      <th></th>\n",
       "      <th></th>\n",
       "    </tr>\n",
       "  </thead>\n",
       "  <tbody>\n",
       "    <tr>\n",
       "      <th>1248</th>\n",
       "      <td>182</td>\n",
       "      <td>2698</td>\n",
       "      <td>178.00</td>\n",
       "      <td>297.00</td>\n",
       "      <td>506.00</td>\n",
       "      <td>235.00</td>\n",
       "      <td>133.00</td>\n",
       "      <td>1,349.00</td>\n",
       "      <td>10273</td>\n",
       "    </tr>\n",
       "  </tbody>\n",
       "</table>\n",
       "</div>"
      ],
      "text/plain": [
       "         game_id  total_score  cat_1  cat_2  cat_3  cat_4  cat_5    cat_6  \\\n",
       "team_id                                                                     \n",
       "1248         182         2698 178.00 297.00 506.00 235.00 133.00 1,349.00   \n",
       "\n",
       "         user_id  \n",
       "team_id           \n",
       "1248       10273  "
      ]
     },
     "execution_count": 2945,
     "metadata": {},
     "output_type": "execute_result"
    }
   ],
   "source": [
    "user_score.head(1)"
   ]
  },
  {
   "cell_type": "code",
   "execution_count": 2946,
   "id": "3f31959a",
   "metadata": {
    "scrolled": true
   },
   "outputs": [
    {
     "data": {
      "text/html": [
       "<div>\n",
       "<style scoped>\n",
       "    .dataframe tbody tr th:only-of-type {\n",
       "        vertical-align: middle;\n",
       "    }\n",
       "\n",
       "    .dataframe tbody tr th {\n",
       "        vertical-align: top;\n",
       "    }\n",
       "\n",
       "    .dataframe thead th {\n",
       "        text-align: right;\n",
       "    }\n",
       "</style>\n",
       "<table border=\"1\" class=\"dataframe\">\n",
       "  <thead>\n",
       "    <tr style=\"text-align: right;\">\n",
       "      <th></th>\n",
       "      <th>game_id</th>\n",
       "      <th>total_score</th>\n",
       "      <th>cat_1</th>\n",
       "      <th>cat_2</th>\n",
       "      <th>cat_3</th>\n",
       "      <th>cat_4</th>\n",
       "      <th>cat_5</th>\n",
       "      <th>cat_6</th>\n",
       "      <th>user_id</th>\n",
       "      <th>max_score</th>\n",
       "    </tr>\n",
       "    <tr>\n",
       "      <th>team_id</th>\n",
       "      <th></th>\n",
       "      <th></th>\n",
       "      <th></th>\n",
       "      <th></th>\n",
       "      <th></th>\n",
       "      <th></th>\n",
       "      <th></th>\n",
       "      <th></th>\n",
       "      <th></th>\n",
       "      <th></th>\n",
       "    </tr>\n",
       "  </thead>\n",
       "  <tbody>\n",
       "    <tr>\n",
       "      <th>1248</th>\n",
       "      <td>182</td>\n",
       "      <td>2698</td>\n",
       "      <td>178.00</td>\n",
       "      <td>297.00</td>\n",
       "      <td>506.00</td>\n",
       "      <td>235.00</td>\n",
       "      <td>133.00</td>\n",
       "      <td>1,349.00</td>\n",
       "      <td>10273</td>\n",
       "      <td>2698</td>\n",
       "    </tr>\n",
       "    <tr>\n",
       "      <th>1248</th>\n",
       "      <td>182</td>\n",
       "      <td>2698</td>\n",
       "      <td>178.00</td>\n",
       "      <td>297.00</td>\n",
       "      <td>506.00</td>\n",
       "      <td>235.00</td>\n",
       "      <td>133.00</td>\n",
       "      <td>1,349.00</td>\n",
       "      <td>10762</td>\n",
       "      <td>2698</td>\n",
       "    </tr>\n",
       "    <tr>\n",
       "      <th>1248</th>\n",
       "      <td>182</td>\n",
       "      <td>2698</td>\n",
       "      <td>178.00</td>\n",
       "      <td>297.00</td>\n",
       "      <td>506.00</td>\n",
       "      <td>235.00</td>\n",
       "      <td>133.00</td>\n",
       "      <td>1,349.00</td>\n",
       "      <td>10646</td>\n",
       "      <td>2698</td>\n",
       "    </tr>\n",
       "    <tr>\n",
       "      <th>1252</th>\n",
       "      <td>182</td>\n",
       "      <td>1312</td>\n",
       "      <td>-1.00</td>\n",
       "      <td>27.00</td>\n",
       "      <td>405.00</td>\n",
       "      <td>152.00</td>\n",
       "      <td>73.00</td>\n",
       "      <td>656.00</td>\n",
       "      <td>10547</td>\n",
       "      <td>2698</td>\n",
       "    </tr>\n",
       "    <tr>\n",
       "      <th>1252</th>\n",
       "      <td>182</td>\n",
       "      <td>1312</td>\n",
       "      <td>-1.00</td>\n",
       "      <td>27.00</td>\n",
       "      <td>405.00</td>\n",
       "      <td>152.00</td>\n",
       "      <td>73.00</td>\n",
       "      <td>656.00</td>\n",
       "      <td>10833</td>\n",
       "      <td>2698</td>\n",
       "    </tr>\n",
       "  </tbody>\n",
       "</table>\n",
       "</div>"
      ],
      "text/plain": [
       "         game_id  total_score  cat_1  cat_2  cat_3  cat_4  cat_5    cat_6  \\\n",
       "team_id                                                                     \n",
       "1248         182         2698 178.00 297.00 506.00 235.00 133.00 1,349.00   \n",
       "1248         182         2698 178.00 297.00 506.00 235.00 133.00 1,349.00   \n",
       "1248         182         2698 178.00 297.00 506.00 235.00 133.00 1,349.00   \n",
       "1252         182         1312  -1.00  27.00 405.00 152.00  73.00   656.00   \n",
       "1252         182         1312  -1.00  27.00 405.00 152.00  73.00   656.00   \n",
       "\n",
       "         user_id  max_score  \n",
       "team_id                      \n",
       "1248       10273       2698  \n",
       "1248       10762       2698  \n",
       "1248       10646       2698  \n",
       "1252       10547       2698  \n",
       "1252       10833       2698  "
      ]
     },
     "execution_count": 2946,
     "metadata": {},
     "output_type": "execute_result"
    }
   ],
   "source": [
    "user_score['max_score']=user_score.groupby('game_id')['total_score'].transform('max')\n",
    "user_score.head(5)"
   ]
  },
  {
   "cell_type": "code",
   "execution_count": 2947,
   "id": "cfc4bf52",
   "metadata": {
    "scrolled": true
   },
   "outputs": [
    {
     "data": {
      "text/html": [
       "<div>\n",
       "<style scoped>\n",
       "    .dataframe tbody tr th:only-of-type {\n",
       "        vertical-align: middle;\n",
       "    }\n",
       "\n",
       "    .dataframe tbody tr th {\n",
       "        vertical-align: top;\n",
       "    }\n",
       "\n",
       "    .dataframe thead th {\n",
       "        text-align: right;\n",
       "    }\n",
       "</style>\n",
       "<table border=\"1\" class=\"dataframe\">\n",
       "  <thead>\n",
       "    <tr style=\"text-align: right;\">\n",
       "      <th></th>\n",
       "      <th>game_id</th>\n",
       "      <th>total_score</th>\n",
       "      <th>cat_1</th>\n",
       "      <th>cat_2</th>\n",
       "      <th>cat_3</th>\n",
       "      <th>cat_4</th>\n",
       "      <th>cat_5</th>\n",
       "      <th>cat_6</th>\n",
       "      <th>user_id</th>\n",
       "      <th>max_score</th>\n",
       "      <th>score_rating</th>\n",
       "    </tr>\n",
       "    <tr>\n",
       "      <th>team_id</th>\n",
       "      <th></th>\n",
       "      <th></th>\n",
       "      <th></th>\n",
       "      <th></th>\n",
       "      <th></th>\n",
       "      <th></th>\n",
       "      <th></th>\n",
       "      <th></th>\n",
       "      <th></th>\n",
       "      <th></th>\n",
       "      <th></th>\n",
       "    </tr>\n",
       "  </thead>\n",
       "  <tbody>\n",
       "    <tr>\n",
       "      <th>1248</th>\n",
       "      <td>182</td>\n",
       "      <td>2698</td>\n",
       "      <td>178.00</td>\n",
       "      <td>297.00</td>\n",
       "      <td>506.00</td>\n",
       "      <td>235.00</td>\n",
       "      <td>133.00</td>\n",
       "      <td>1,349.00</td>\n",
       "      <td>10273</td>\n",
       "      <td>2698</td>\n",
       "      <td>1.00</td>\n",
       "    </tr>\n",
       "  </tbody>\n",
       "</table>\n",
       "</div>"
      ],
      "text/plain": [
       "         game_id  total_score  cat_1  cat_2  cat_3  cat_4  cat_5    cat_6  \\\n",
       "team_id                                                                     \n",
       "1248         182         2698 178.00 297.00 506.00 235.00 133.00 1,349.00   \n",
       "\n",
       "         user_id  max_score  score_rating  \n",
       "team_id                                    \n",
       "1248       10273       2698          1.00  "
      ]
     },
     "execution_count": 2947,
     "metadata": {},
     "output_type": "execute_result"
    }
   ],
   "source": [
    "user_score['score_rating']= user_score['total_score']/user_score['max_score']\n",
    "user_score.head(1)"
   ]
  },
  {
   "cell_type": "code",
   "execution_count": 2948,
   "id": "16abc34f",
   "metadata": {},
   "outputs": [],
   "source": [
    "for i in [1, 2, 3, 4, 5, 6]:\n",
    "    col_name = 'rating_'+ str(i)+'_max'\n",
    "    col_name_cat = 'cat_'+str(i)\n",
    "    user_score[col_name] = user_score.groupby('game_id')[col_name_cat].transform('max')"
   ]
  },
  {
   "cell_type": "code",
   "execution_count": 2949,
   "id": "7285457b",
   "metadata": {
    "scrolled": true
   },
   "outputs": [
    {
     "data": {
      "text/html": [
       "<div>\n",
       "<style scoped>\n",
       "    .dataframe tbody tr th:only-of-type {\n",
       "        vertical-align: middle;\n",
       "    }\n",
       "\n",
       "    .dataframe tbody tr th {\n",
       "        vertical-align: top;\n",
       "    }\n",
       "\n",
       "    .dataframe thead th {\n",
       "        text-align: right;\n",
       "    }\n",
       "</style>\n",
       "<table border=\"1\" class=\"dataframe\">\n",
       "  <thead>\n",
       "    <tr style=\"text-align: right;\">\n",
       "      <th></th>\n",
       "      <th>game_id</th>\n",
       "      <th>total_score</th>\n",
       "      <th>cat_1</th>\n",
       "      <th>cat_2</th>\n",
       "      <th>cat_3</th>\n",
       "      <th>cat_4</th>\n",
       "      <th>cat_5</th>\n",
       "      <th>cat_6</th>\n",
       "      <th>user_id</th>\n",
       "      <th>max_score</th>\n",
       "      <th>score_rating</th>\n",
       "      <th>rating_1_max</th>\n",
       "      <th>rating_2_max</th>\n",
       "      <th>rating_3_max</th>\n",
       "      <th>rating_4_max</th>\n",
       "      <th>rating_5_max</th>\n",
       "      <th>rating_6_max</th>\n",
       "    </tr>\n",
       "    <tr>\n",
       "      <th>team_id</th>\n",
       "      <th></th>\n",
       "      <th></th>\n",
       "      <th></th>\n",
       "      <th></th>\n",
       "      <th></th>\n",
       "      <th></th>\n",
       "      <th></th>\n",
       "      <th></th>\n",
       "      <th></th>\n",
       "      <th></th>\n",
       "      <th></th>\n",
       "      <th></th>\n",
       "      <th></th>\n",
       "      <th></th>\n",
       "      <th></th>\n",
       "      <th></th>\n",
       "      <th></th>\n",
       "    </tr>\n",
       "  </thead>\n",
       "  <tbody>\n",
       "    <tr>\n",
       "      <th>1248</th>\n",
       "      <td>182</td>\n",
       "      <td>2698</td>\n",
       "      <td>178.00</td>\n",
       "      <td>297.00</td>\n",
       "      <td>506.00</td>\n",
       "      <td>235.00</td>\n",
       "      <td>133.00</td>\n",
       "      <td>1,349.00</td>\n",
       "      <td>10273</td>\n",
       "      <td>2698</td>\n",
       "      <td>1.00</td>\n",
       "      <td>178.00</td>\n",
       "      <td>297.00</td>\n",
       "      <td>506.00</td>\n",
       "      <td>235.00</td>\n",
       "      <td>133.00</td>\n",
       "      <td>1,349.00</td>\n",
       "    </tr>\n",
       "    <tr>\n",
       "      <th>1248</th>\n",
       "      <td>182</td>\n",
       "      <td>2698</td>\n",
       "      <td>178.00</td>\n",
       "      <td>297.00</td>\n",
       "      <td>506.00</td>\n",
       "      <td>235.00</td>\n",
       "      <td>133.00</td>\n",
       "      <td>1,349.00</td>\n",
       "      <td>10762</td>\n",
       "      <td>2698</td>\n",
       "      <td>1.00</td>\n",
       "      <td>178.00</td>\n",
       "      <td>297.00</td>\n",
       "      <td>506.00</td>\n",
       "      <td>235.00</td>\n",
       "      <td>133.00</td>\n",
       "      <td>1,349.00</td>\n",
       "    </tr>\n",
       "    <tr>\n",
       "      <th>1248</th>\n",
       "      <td>182</td>\n",
       "      <td>2698</td>\n",
       "      <td>178.00</td>\n",
       "      <td>297.00</td>\n",
       "      <td>506.00</td>\n",
       "      <td>235.00</td>\n",
       "      <td>133.00</td>\n",
       "      <td>1,349.00</td>\n",
       "      <td>10646</td>\n",
       "      <td>2698</td>\n",
       "      <td>1.00</td>\n",
       "      <td>178.00</td>\n",
       "      <td>297.00</td>\n",
       "      <td>506.00</td>\n",
       "      <td>235.00</td>\n",
       "      <td>133.00</td>\n",
       "      <td>1,349.00</td>\n",
       "    </tr>\n",
       "    <tr>\n",
       "      <th>1252</th>\n",
       "      <td>182</td>\n",
       "      <td>1312</td>\n",
       "      <td>-1.00</td>\n",
       "      <td>27.00</td>\n",
       "      <td>405.00</td>\n",
       "      <td>152.00</td>\n",
       "      <td>73.00</td>\n",
       "      <td>656.00</td>\n",
       "      <td>10547</td>\n",
       "      <td>2698</td>\n",
       "      <td>0.49</td>\n",
       "      <td>178.00</td>\n",
       "      <td>297.00</td>\n",
       "      <td>506.00</td>\n",
       "      <td>235.00</td>\n",
       "      <td>133.00</td>\n",
       "      <td>1,349.00</td>\n",
       "    </tr>\n",
       "    <tr>\n",
       "      <th>1252</th>\n",
       "      <td>182</td>\n",
       "      <td>1312</td>\n",
       "      <td>-1.00</td>\n",
       "      <td>27.00</td>\n",
       "      <td>405.00</td>\n",
       "      <td>152.00</td>\n",
       "      <td>73.00</td>\n",
       "      <td>656.00</td>\n",
       "      <td>10833</td>\n",
       "      <td>2698</td>\n",
       "      <td>0.49</td>\n",
       "      <td>178.00</td>\n",
       "      <td>297.00</td>\n",
       "      <td>506.00</td>\n",
       "      <td>235.00</td>\n",
       "      <td>133.00</td>\n",
       "      <td>1,349.00</td>\n",
       "    </tr>\n",
       "  </tbody>\n",
       "</table>\n",
       "</div>"
      ],
      "text/plain": [
       "         game_id  total_score  cat_1  cat_2  cat_3  cat_4  cat_5    cat_6  \\\n",
       "team_id                                                                     \n",
       "1248         182         2698 178.00 297.00 506.00 235.00 133.00 1,349.00   \n",
       "1248         182         2698 178.00 297.00 506.00 235.00 133.00 1,349.00   \n",
       "1248         182         2698 178.00 297.00 506.00 235.00 133.00 1,349.00   \n",
       "1252         182         1312  -1.00  27.00 405.00 152.00  73.00   656.00   \n",
       "1252         182         1312  -1.00  27.00 405.00 152.00  73.00   656.00   \n",
       "\n",
       "         user_id  max_score  score_rating  rating_1_max  rating_2_max  \\\n",
       "team_id                                                                 \n",
       "1248       10273       2698          1.00        178.00        297.00   \n",
       "1248       10762       2698          1.00        178.00        297.00   \n",
       "1248       10646       2698          1.00        178.00        297.00   \n",
       "1252       10547       2698          0.49        178.00        297.00   \n",
       "1252       10833       2698          0.49        178.00        297.00   \n",
       "\n",
       "         rating_3_max  rating_4_max  rating_5_max  rating_6_max  \n",
       "team_id                                                          \n",
       "1248           506.00        235.00        133.00      1,349.00  \n",
       "1248           506.00        235.00        133.00      1,349.00  \n",
       "1248           506.00        235.00        133.00      1,349.00  \n",
       "1252           506.00        235.00        133.00      1,349.00  \n",
       "1252           506.00        235.00        133.00      1,349.00  "
      ]
     },
     "execution_count": 2949,
     "metadata": {},
     "output_type": "execute_result"
    }
   ],
   "source": [
    "user_score.head(5)"
   ]
  },
  {
   "cell_type": "code",
   "execution_count": 2950,
   "id": "6174842b",
   "metadata": {},
   "outputs": [],
   "source": [
    "for i in [1, 2, 3, 4, 5, 6]:\n",
    "    col_name = 'rating_'+ str(i)+'_max'\n",
    "    col_name_cat = 'cat_'+str(i)\n",
    "    col_name_rating = 'rating_'+str(i)\n",
    "    user_score[col_name_rating] = user_score[col_name_cat] / user_score[col_name]"
   ]
  },
  {
   "cell_type": "code",
   "execution_count": 2951,
   "id": "45ec80b7",
   "metadata": {
    "scrolled": false
   },
   "outputs": [
    {
     "data": {
      "text/html": [
       "<div>\n",
       "<style scoped>\n",
       "    .dataframe tbody tr th:only-of-type {\n",
       "        vertical-align: middle;\n",
       "    }\n",
       "\n",
       "    .dataframe tbody tr th {\n",
       "        vertical-align: top;\n",
       "    }\n",
       "\n",
       "    .dataframe thead th {\n",
       "        text-align: right;\n",
       "    }\n",
       "</style>\n",
       "<table border=\"1\" class=\"dataframe\">\n",
       "  <thead>\n",
       "    <tr style=\"text-align: right;\">\n",
       "      <th></th>\n",
       "      <th>game_id</th>\n",
       "      <th>total_score</th>\n",
       "      <th>cat_1</th>\n",
       "      <th>cat_2</th>\n",
       "      <th>cat_3</th>\n",
       "      <th>cat_4</th>\n",
       "      <th>cat_5</th>\n",
       "      <th>cat_6</th>\n",
       "      <th>user_id</th>\n",
       "      <th>max_score</th>\n",
       "      <th>...</th>\n",
       "      <th>rating_3_max</th>\n",
       "      <th>rating_4_max</th>\n",
       "      <th>rating_5_max</th>\n",
       "      <th>rating_6_max</th>\n",
       "      <th>rating_1</th>\n",
       "      <th>rating_2</th>\n",
       "      <th>rating_3</th>\n",
       "      <th>rating_4</th>\n",
       "      <th>rating_5</th>\n",
       "      <th>rating_6</th>\n",
       "    </tr>\n",
       "    <tr>\n",
       "      <th>team_id</th>\n",
       "      <th></th>\n",
       "      <th></th>\n",
       "      <th></th>\n",
       "      <th></th>\n",
       "      <th></th>\n",
       "      <th></th>\n",
       "      <th></th>\n",
       "      <th></th>\n",
       "      <th></th>\n",
       "      <th></th>\n",
       "      <th></th>\n",
       "      <th></th>\n",
       "      <th></th>\n",
       "      <th></th>\n",
       "      <th></th>\n",
       "      <th></th>\n",
       "      <th></th>\n",
       "      <th></th>\n",
       "      <th></th>\n",
       "      <th></th>\n",
       "      <th></th>\n",
       "    </tr>\n",
       "  </thead>\n",
       "  <tbody>\n",
       "    <tr>\n",
       "      <th>1248</th>\n",
       "      <td>182</td>\n",
       "      <td>2698</td>\n",
       "      <td>178.00</td>\n",
       "      <td>297.00</td>\n",
       "      <td>506.00</td>\n",
       "      <td>235.00</td>\n",
       "      <td>133.00</td>\n",
       "      <td>1,349.00</td>\n",
       "      <td>10273</td>\n",
       "      <td>2698</td>\n",
       "      <td>...</td>\n",
       "      <td>506.00</td>\n",
       "      <td>235.00</td>\n",
       "      <td>133.00</td>\n",
       "      <td>1,349.00</td>\n",
       "      <td>1.00</td>\n",
       "      <td>1.00</td>\n",
       "      <td>1.00</td>\n",
       "      <td>1.00</td>\n",
       "      <td>1.00</td>\n",
       "      <td>1.00</td>\n",
       "    </tr>\n",
       "    <tr>\n",
       "      <th>1248</th>\n",
       "      <td>182</td>\n",
       "      <td>2698</td>\n",
       "      <td>178.00</td>\n",
       "      <td>297.00</td>\n",
       "      <td>506.00</td>\n",
       "      <td>235.00</td>\n",
       "      <td>133.00</td>\n",
       "      <td>1,349.00</td>\n",
       "      <td>10762</td>\n",
       "      <td>2698</td>\n",
       "      <td>...</td>\n",
       "      <td>506.00</td>\n",
       "      <td>235.00</td>\n",
       "      <td>133.00</td>\n",
       "      <td>1,349.00</td>\n",
       "      <td>1.00</td>\n",
       "      <td>1.00</td>\n",
       "      <td>1.00</td>\n",
       "      <td>1.00</td>\n",
       "      <td>1.00</td>\n",
       "      <td>1.00</td>\n",
       "    </tr>\n",
       "    <tr>\n",
       "      <th>1248</th>\n",
       "      <td>182</td>\n",
       "      <td>2698</td>\n",
       "      <td>178.00</td>\n",
       "      <td>297.00</td>\n",
       "      <td>506.00</td>\n",
       "      <td>235.00</td>\n",
       "      <td>133.00</td>\n",
       "      <td>1,349.00</td>\n",
       "      <td>10646</td>\n",
       "      <td>2698</td>\n",
       "      <td>...</td>\n",
       "      <td>506.00</td>\n",
       "      <td>235.00</td>\n",
       "      <td>133.00</td>\n",
       "      <td>1,349.00</td>\n",
       "      <td>1.00</td>\n",
       "      <td>1.00</td>\n",
       "      <td>1.00</td>\n",
       "      <td>1.00</td>\n",
       "      <td>1.00</td>\n",
       "      <td>1.00</td>\n",
       "    </tr>\n",
       "    <tr>\n",
       "      <th>1252</th>\n",
       "      <td>182</td>\n",
       "      <td>1312</td>\n",
       "      <td>-1.00</td>\n",
       "      <td>27.00</td>\n",
       "      <td>405.00</td>\n",
       "      <td>152.00</td>\n",
       "      <td>73.00</td>\n",
       "      <td>656.00</td>\n",
       "      <td>10547</td>\n",
       "      <td>2698</td>\n",
       "      <td>...</td>\n",
       "      <td>506.00</td>\n",
       "      <td>235.00</td>\n",
       "      <td>133.00</td>\n",
       "      <td>1,349.00</td>\n",
       "      <td>-0.01</td>\n",
       "      <td>0.09</td>\n",
       "      <td>0.80</td>\n",
       "      <td>0.65</td>\n",
       "      <td>0.55</td>\n",
       "      <td>0.49</td>\n",
       "    </tr>\n",
       "    <tr>\n",
       "      <th>1252</th>\n",
       "      <td>182</td>\n",
       "      <td>1312</td>\n",
       "      <td>-1.00</td>\n",
       "      <td>27.00</td>\n",
       "      <td>405.00</td>\n",
       "      <td>152.00</td>\n",
       "      <td>73.00</td>\n",
       "      <td>656.00</td>\n",
       "      <td>10833</td>\n",
       "      <td>2698</td>\n",
       "      <td>...</td>\n",
       "      <td>506.00</td>\n",
       "      <td>235.00</td>\n",
       "      <td>133.00</td>\n",
       "      <td>1,349.00</td>\n",
       "      <td>-0.01</td>\n",
       "      <td>0.09</td>\n",
       "      <td>0.80</td>\n",
       "      <td>0.65</td>\n",
       "      <td>0.55</td>\n",
       "      <td>0.49</td>\n",
       "    </tr>\n",
       "  </tbody>\n",
       "</table>\n",
       "<p>5 rows × 23 columns</p>\n",
       "</div>"
      ],
      "text/plain": [
       "         game_id  total_score  cat_1  cat_2  cat_3  cat_4  cat_5    cat_6  \\\n",
       "team_id                                                                     \n",
       "1248         182         2698 178.00 297.00 506.00 235.00 133.00 1,349.00   \n",
       "1248         182         2698 178.00 297.00 506.00 235.00 133.00 1,349.00   \n",
       "1248         182         2698 178.00 297.00 506.00 235.00 133.00 1,349.00   \n",
       "1252         182         1312  -1.00  27.00 405.00 152.00  73.00   656.00   \n",
       "1252         182         1312  -1.00  27.00 405.00 152.00  73.00   656.00   \n",
       "\n",
       "         user_id  max_score  ...  rating_3_max  rating_4_max  rating_5_max  \\\n",
       "team_id                      ...                                             \n",
       "1248       10273       2698  ...        506.00        235.00        133.00   \n",
       "1248       10762       2698  ...        506.00        235.00        133.00   \n",
       "1248       10646       2698  ...        506.00        235.00        133.00   \n",
       "1252       10547       2698  ...        506.00        235.00        133.00   \n",
       "1252       10833       2698  ...        506.00        235.00        133.00   \n",
       "\n",
       "         rating_6_max  rating_1  rating_2  rating_3  rating_4  rating_5  \\\n",
       "team_id                                                                   \n",
       "1248         1,349.00      1.00      1.00      1.00      1.00      1.00   \n",
       "1248         1,349.00      1.00      1.00      1.00      1.00      1.00   \n",
       "1248         1,349.00      1.00      1.00      1.00      1.00      1.00   \n",
       "1252         1,349.00     -0.01      0.09      0.80      0.65      0.55   \n",
       "1252         1,349.00     -0.01      0.09      0.80      0.65      0.55   \n",
       "\n",
       "         rating_6  \n",
       "team_id            \n",
       "1248         1.00  \n",
       "1248         1.00  \n",
       "1248         1.00  \n",
       "1252         0.49  \n",
       "1252         0.49  \n",
       "\n",
       "[5 rows x 23 columns]"
      ]
     },
     "execution_count": 2951,
     "metadata": {},
     "output_type": "execute_result"
    }
   ],
   "source": [
    "user_score.head(5)"
   ]
  },
  {
   "cell_type": "code",
   "execution_count": 2952,
   "id": "e13da89c",
   "metadata": {},
   "outputs": [
    {
     "data": {
      "text/plain": [
       "Index(['game_id', 'total_score', 'cat_1', 'cat_2', 'cat_3', 'cat_4', 'cat_5',\n",
       "       'cat_6', 'user_id', 'max_score', 'score_rating', 'rating_1_max',\n",
       "       'rating_2_max', 'rating_3_max', 'rating_4_max', 'rating_5_max',\n",
       "       'rating_6_max', 'rating_1', 'rating_2', 'rating_3', 'rating_4',\n",
       "       'rating_5', 'rating_6'],\n",
       "      dtype='object')"
      ]
     },
     "execution_count": 2952,
     "metadata": {},
     "output_type": "execute_result"
    }
   ],
   "source": [
    "user_score.columns"
   ]
  },
  {
   "cell_type": "code",
   "execution_count": 2953,
   "id": "145a554a",
   "metadata": {},
   "outputs": [],
   "source": [
    "col_drop = ['max_score', 'rating_1_max', 'rating_2_max', 'rating_3_max', 'rating_4_max', 'rating_5_max', 'rating_6_max']"
   ]
  },
  {
   "cell_type": "code",
   "execution_count": 2954,
   "id": "c8cfeb6f",
   "metadata": {},
   "outputs": [],
   "source": [
    "user_score = user_score.drop(col_drop, axis=1).set_index('user_id')"
   ]
  },
  {
   "cell_type": "code",
   "execution_count": 2955,
   "id": "61ad275f",
   "metadata": {},
   "outputs": [
    {
     "data": {
      "text/html": [
       "<div>\n",
       "<style scoped>\n",
       "    .dataframe tbody tr th:only-of-type {\n",
       "        vertical-align: middle;\n",
       "    }\n",
       "\n",
       "    .dataframe tbody tr th {\n",
       "        vertical-align: top;\n",
       "    }\n",
       "\n",
       "    .dataframe thead th {\n",
       "        text-align: right;\n",
       "    }\n",
       "</style>\n",
       "<table border=\"1\" class=\"dataframe\">\n",
       "  <thead>\n",
       "    <tr style=\"text-align: right;\">\n",
       "      <th></th>\n",
       "      <th>game_id</th>\n",
       "      <th>total_score</th>\n",
       "      <th>cat_1</th>\n",
       "      <th>cat_2</th>\n",
       "      <th>cat_3</th>\n",
       "      <th>cat_4</th>\n",
       "      <th>cat_5</th>\n",
       "      <th>cat_6</th>\n",
       "      <th>score_rating</th>\n",
       "      <th>rating_1</th>\n",
       "      <th>rating_2</th>\n",
       "      <th>rating_3</th>\n",
       "      <th>rating_4</th>\n",
       "      <th>rating_5</th>\n",
       "      <th>rating_6</th>\n",
       "    </tr>\n",
       "    <tr>\n",
       "      <th>user_id</th>\n",
       "      <th></th>\n",
       "      <th></th>\n",
       "      <th></th>\n",
       "      <th></th>\n",
       "      <th></th>\n",
       "      <th></th>\n",
       "      <th></th>\n",
       "      <th></th>\n",
       "      <th></th>\n",
       "      <th></th>\n",
       "      <th></th>\n",
       "      <th></th>\n",
       "      <th></th>\n",
       "      <th></th>\n",
       "      <th></th>\n",
       "    </tr>\n",
       "  </thead>\n",
       "  <tbody>\n",
       "    <tr>\n",
       "      <th>10273</th>\n",
       "      <td>182</td>\n",
       "      <td>2698</td>\n",
       "      <td>178.00</td>\n",
       "      <td>297.00</td>\n",
       "      <td>506.00</td>\n",
       "      <td>235.00</td>\n",
       "      <td>133.00</td>\n",
       "      <td>1,349.00</td>\n",
       "      <td>1.00</td>\n",
       "      <td>1.00</td>\n",
       "      <td>1.00</td>\n",
       "      <td>1.00</td>\n",
       "      <td>1.00</td>\n",
       "      <td>1.00</td>\n",
       "      <td>1.00</td>\n",
       "    </tr>\n",
       "    <tr>\n",
       "      <th>10762</th>\n",
       "      <td>182</td>\n",
       "      <td>2698</td>\n",
       "      <td>178.00</td>\n",
       "      <td>297.00</td>\n",
       "      <td>506.00</td>\n",
       "      <td>235.00</td>\n",
       "      <td>133.00</td>\n",
       "      <td>1,349.00</td>\n",
       "      <td>1.00</td>\n",
       "      <td>1.00</td>\n",
       "      <td>1.00</td>\n",
       "      <td>1.00</td>\n",
       "      <td>1.00</td>\n",
       "      <td>1.00</td>\n",
       "      <td>1.00</td>\n",
       "    </tr>\n",
       "    <tr>\n",
       "      <th>10646</th>\n",
       "      <td>182</td>\n",
       "      <td>2698</td>\n",
       "      <td>178.00</td>\n",
       "      <td>297.00</td>\n",
       "      <td>506.00</td>\n",
       "      <td>235.00</td>\n",
       "      <td>133.00</td>\n",
       "      <td>1,349.00</td>\n",
       "      <td>1.00</td>\n",
       "      <td>1.00</td>\n",
       "      <td>1.00</td>\n",
       "      <td>1.00</td>\n",
       "      <td>1.00</td>\n",
       "      <td>1.00</td>\n",
       "      <td>1.00</td>\n",
       "    </tr>\n",
       "    <tr>\n",
       "      <th>10547</th>\n",
       "      <td>182</td>\n",
       "      <td>1312</td>\n",
       "      <td>-1.00</td>\n",
       "      <td>27.00</td>\n",
       "      <td>405.00</td>\n",
       "      <td>152.00</td>\n",
       "      <td>73.00</td>\n",
       "      <td>656.00</td>\n",
       "      <td>0.49</td>\n",
       "      <td>-0.01</td>\n",
       "      <td>0.09</td>\n",
       "      <td>0.80</td>\n",
       "      <td>0.65</td>\n",
       "      <td>0.55</td>\n",
       "      <td>0.49</td>\n",
       "    </tr>\n",
       "    <tr>\n",
       "      <th>10833</th>\n",
       "      <td>182</td>\n",
       "      <td>1312</td>\n",
       "      <td>-1.00</td>\n",
       "      <td>27.00</td>\n",
       "      <td>405.00</td>\n",
       "      <td>152.00</td>\n",
       "      <td>73.00</td>\n",
       "      <td>656.00</td>\n",
       "      <td>0.49</td>\n",
       "      <td>-0.01</td>\n",
       "      <td>0.09</td>\n",
       "      <td>0.80</td>\n",
       "      <td>0.65</td>\n",
       "      <td>0.55</td>\n",
       "      <td>0.49</td>\n",
       "    </tr>\n",
       "  </tbody>\n",
       "</table>\n",
       "</div>"
      ],
      "text/plain": [
       "         game_id  total_score  cat_1  cat_2  cat_3  cat_4  cat_5    cat_6  \\\n",
       "user_id                                                                     \n",
       "10273        182         2698 178.00 297.00 506.00 235.00 133.00 1,349.00   \n",
       "10762        182         2698 178.00 297.00 506.00 235.00 133.00 1,349.00   \n",
       "10646        182         2698 178.00 297.00 506.00 235.00 133.00 1,349.00   \n",
       "10547        182         1312  -1.00  27.00 405.00 152.00  73.00   656.00   \n",
       "10833        182         1312  -1.00  27.00 405.00 152.00  73.00   656.00   \n",
       "\n",
       "         score_rating  rating_1  rating_2  rating_3  rating_4  rating_5  \\\n",
       "user_id                                                                   \n",
       "10273            1.00      1.00      1.00      1.00      1.00      1.00   \n",
       "10762            1.00      1.00      1.00      1.00      1.00      1.00   \n",
       "10646            1.00      1.00      1.00      1.00      1.00      1.00   \n",
       "10547            0.49     -0.01      0.09      0.80      0.65      0.55   \n",
       "10833            0.49     -0.01      0.09      0.80      0.65      0.55   \n",
       "\n",
       "         rating_6  \n",
       "user_id            \n",
       "10273        1.00  \n",
       "10762        1.00  \n",
       "10646        1.00  \n",
       "10547        0.49  \n",
       "10833        0.49  "
      ]
     },
     "execution_count": 2955,
     "metadata": {},
     "output_type": "execute_result"
    }
   ],
   "source": [
    "user_score.head(5)"
   ]
  },
  {
   "cell_type": "code",
   "execution_count": 2956,
   "id": "d2de0b89",
   "metadata": {},
   "outputs": [
    {
     "data": {
      "text/html": [
       "<div>\n",
       "<style scoped>\n",
       "    .dataframe tbody tr th:only-of-type {\n",
       "        vertical-align: middle;\n",
       "    }\n",
       "\n",
       "    .dataframe tbody tr th {\n",
       "        vertical-align: top;\n",
       "    }\n",
       "\n",
       "    .dataframe thead th {\n",
       "        text-align: right;\n",
       "    }\n",
       "</style>\n",
       "<table border=\"1\" class=\"dataframe\">\n",
       "  <thead>\n",
       "    <tr style=\"text-align: right;\">\n",
       "      <th></th>\n",
       "      <th>id</th>\n",
       "      <th>Analytical thinking</th>\n",
       "      <th>Systemic thinking</th>\n",
       "      <th>Adaptability</th>\n",
       "      <th>Focus</th>\n",
       "    </tr>\n",
       "  </thead>\n",
       "  <tbody>\n",
       "    <tr>\n",
       "      <th>0</th>\n",
       "      <td>10884</td>\n",
       "      <td>4.00</td>\n",
       "      <td>4.00</td>\n",
       "      <td>4.00</td>\n",
       "      <td>4.00</td>\n",
       "    </tr>\n",
       "  </tbody>\n",
       "</table>\n",
       "</div>"
      ],
      "text/plain": [
       "      id  Analytical thinking  Systemic thinking  Adaptability  Focus\n",
       "0  10884                 4.00               4.00          4.00   4.00"
      ]
     },
     "execution_count": 2956,
     "metadata": {},
     "output_type": "execute_result"
    }
   ],
   "source": [
    "df.head(1)"
   ]
  },
  {
   "cell_type": "code",
   "execution_count": 2957,
   "id": "ab42f278",
   "metadata": {},
   "outputs": [],
   "source": [
    "df_score = df.set_index('id').join(user_score, how = 'left')"
   ]
  },
  {
   "cell_type": "code",
   "execution_count": 2958,
   "id": "225e8180",
   "metadata": {
    "scrolled": true
   },
   "outputs": [
    {
     "data": {
      "text/html": [
       "<div>\n",
       "<style scoped>\n",
       "    .dataframe tbody tr th:only-of-type {\n",
       "        vertical-align: middle;\n",
       "    }\n",
       "\n",
       "    .dataframe tbody tr th {\n",
       "        vertical-align: top;\n",
       "    }\n",
       "\n",
       "    .dataframe thead th {\n",
       "        text-align: right;\n",
       "    }\n",
       "</style>\n",
       "<table border=\"1\" class=\"dataframe\">\n",
       "  <thead>\n",
       "    <tr style=\"text-align: right;\">\n",
       "      <th></th>\n",
       "      <th>Analytical thinking</th>\n",
       "      <th>Systemic thinking</th>\n",
       "      <th>Adaptability</th>\n",
       "      <th>Focus</th>\n",
       "      <th>game_id</th>\n",
       "      <th>total_score</th>\n",
       "      <th>cat_1</th>\n",
       "      <th>cat_2</th>\n",
       "      <th>cat_3</th>\n",
       "      <th>cat_4</th>\n",
       "      <th>cat_5</th>\n",
       "      <th>cat_6</th>\n",
       "      <th>score_rating</th>\n",
       "      <th>rating_1</th>\n",
       "      <th>rating_2</th>\n",
       "      <th>rating_3</th>\n",
       "      <th>rating_4</th>\n",
       "      <th>rating_5</th>\n",
       "      <th>rating_6</th>\n",
       "    </tr>\n",
       "    <tr>\n",
       "      <th>id</th>\n",
       "      <th></th>\n",
       "      <th></th>\n",
       "      <th></th>\n",
       "      <th></th>\n",
       "      <th></th>\n",
       "      <th></th>\n",
       "      <th></th>\n",
       "      <th></th>\n",
       "      <th></th>\n",
       "      <th></th>\n",
       "      <th></th>\n",
       "      <th></th>\n",
       "      <th></th>\n",
       "      <th></th>\n",
       "      <th></th>\n",
       "      <th></th>\n",
       "      <th></th>\n",
       "      <th></th>\n",
       "      <th></th>\n",
       "    </tr>\n",
       "  </thead>\n",
       "  <tbody>\n",
       "    <tr>\n",
       "      <th>10884</th>\n",
       "      <td>4.00</td>\n",
       "      <td>4.00</td>\n",
       "      <td>4.00</td>\n",
       "      <td>4.00</td>\n",
       "      <td>202</td>\n",
       "      <td>1188</td>\n",
       "      <td>-5.00</td>\n",
       "      <td>-25.00</td>\n",
       "      <td>391.00</td>\n",
       "      <td>128.00</td>\n",
       "      <td>105.00</td>\n",
       "      <td>594.00</td>\n",
       "      <td>0.55</td>\n",
       "      <td>-0.04</td>\n",
       "      <td>-0.13</td>\n",
       "      <td>0.77</td>\n",
       "      <td>0.74</td>\n",
       "      <td>1.00</td>\n",
       "      <td>0.55</td>\n",
       "    </tr>\n",
       "    <tr>\n",
       "      <th>10106</th>\n",
       "      <td>5.00</td>\n",
       "      <td>4.00</td>\n",
       "      <td>5.00</td>\n",
       "      <td>5.00</td>\n",
       "      <td>211</td>\n",
       "      <td>1828</td>\n",
       "      <td>54.00</td>\n",
       "      <td>120.00</td>\n",
       "      <td>467.00</td>\n",
       "      <td>160.00</td>\n",
       "      <td>113.00</td>\n",
       "      <td>914.00</td>\n",
       "      <td>1.00</td>\n",
       "      <td>1.00</td>\n",
       "      <td>0.90</td>\n",
       "      <td>0.99</td>\n",
       "      <td>0.90</td>\n",
       "      <td>1.00</td>\n",
       "      <td>1.00</td>\n",
       "    </tr>\n",
       "    <tr>\n",
       "      <th>10438</th>\n",
       "      <td>6.00</td>\n",
       "      <td>5.00</td>\n",
       "      <td>5.00</td>\n",
       "      <td>5.00</td>\n",
       "      <td>242</td>\n",
       "      <td>1604</td>\n",
       "      <td>55.00</td>\n",
       "      <td>60.00</td>\n",
       "      <td>383.00</td>\n",
       "      <td>158.00</td>\n",
       "      <td>146.00</td>\n",
       "      <td>802.00</td>\n",
       "      <td>1.00</td>\n",
       "      <td>1.00</td>\n",
       "      <td>0.69</td>\n",
       "      <td>0.98</td>\n",
       "      <td>1.00</td>\n",
       "      <td>0.81</td>\n",
       "      <td>1.00</td>\n",
       "    </tr>\n",
       "    <tr>\n",
       "      <th>10130</th>\n",
       "      <td>5.00</td>\n",
       "      <td>4.00</td>\n",
       "      <td>5.00</td>\n",
       "      <td>5.00</td>\n",
       "      <td>184</td>\n",
       "      <td>1334</td>\n",
       "      <td>31.00</td>\n",
       "      <td>24.00</td>\n",
       "      <td>366.00</td>\n",
       "      <td>139.00</td>\n",
       "      <td>107.00</td>\n",
       "      <td>667.00</td>\n",
       "      <td>0.62</td>\n",
       "      <td>0.30</td>\n",
       "      <td>0.12</td>\n",
       "      <td>0.71</td>\n",
       "      <td>0.69</td>\n",
       "      <td>1.00</td>\n",
       "      <td>0.62</td>\n",
       "    </tr>\n",
       "    <tr>\n",
       "      <th>10667</th>\n",
       "      <td>4.00</td>\n",
       "      <td>5.00</td>\n",
       "      <td>5.00</td>\n",
       "      <td>5.00</td>\n",
       "      <td>193</td>\n",
       "      <td>1756</td>\n",
       "      <td>71.00</td>\n",
       "      <td>70.00</td>\n",
       "      <td>416.00</td>\n",
       "      <td>166.00</td>\n",
       "      <td>155.00</td>\n",
       "      <td>878.00</td>\n",
       "      <td>0.72</td>\n",
       "      <td>0.41</td>\n",
       "      <td>0.26</td>\n",
       "      <td>0.97</td>\n",
       "      <td>0.80</td>\n",
       "      <td>0.87</td>\n",
       "      <td>0.72</td>\n",
       "    </tr>\n",
       "  </tbody>\n",
       "</table>\n",
       "</div>"
      ],
      "text/plain": [
       "       Analytical thinking  Systemic thinking  Adaptability  Focus  game_id  \\\n",
       "id                                                                            \n",
       "10884                 4.00               4.00          4.00   4.00      202   \n",
       "10106                 5.00               4.00          5.00   5.00      211   \n",
       "10438                 6.00               5.00          5.00   5.00      242   \n",
       "10130                 5.00               4.00          5.00   5.00      184   \n",
       "10667                 4.00               5.00          5.00   5.00      193   \n",
       "\n",
       "       total_score  cat_1  cat_2  cat_3  cat_4  cat_5  cat_6  score_rating  \\\n",
       "id                                                                           \n",
       "10884         1188  -5.00 -25.00 391.00 128.00 105.00 594.00          0.55   \n",
       "10106         1828  54.00 120.00 467.00 160.00 113.00 914.00          1.00   \n",
       "10438         1604  55.00  60.00 383.00 158.00 146.00 802.00          1.00   \n",
       "10130         1334  31.00  24.00 366.00 139.00 107.00 667.00          0.62   \n",
       "10667         1756  71.00  70.00 416.00 166.00 155.00 878.00          0.72   \n",
       "\n",
       "       rating_1  rating_2  rating_3  rating_4  rating_5  rating_6  \n",
       "id                                                                 \n",
       "10884     -0.04     -0.13      0.77      0.74      1.00      0.55  \n",
       "10106      1.00      0.90      0.99      0.90      1.00      1.00  \n",
       "10438      1.00      0.69      0.98      1.00      0.81      1.00  \n",
       "10130      0.30      0.12      0.71      0.69      1.00      0.62  \n",
       "10667      0.41      0.26      0.97      0.80      0.87      0.72  "
      ]
     },
     "execution_count": 2958,
     "metadata": {},
     "output_type": "execute_result"
    }
   ],
   "source": [
    "df_score.head()"
   ]
  },
  {
   "cell_type": "code",
   "execution_count": 2959,
   "id": "4bba8df1",
   "metadata": {
    "scrolled": false
   },
   "outputs": [
    {
     "data": {
      "text/html": [
       "<div>\n",
       "<style scoped>\n",
       "    .dataframe tbody tr th:only-of-type {\n",
       "        vertical-align: middle;\n",
       "    }\n",
       "\n",
       "    .dataframe tbody tr th {\n",
       "        vertical-align: top;\n",
       "    }\n",
       "\n",
       "    .dataframe thead th {\n",
       "        text-align: right;\n",
       "    }\n",
       "</style>\n",
       "<table border=\"1\" class=\"dataframe\">\n",
       "  <thead>\n",
       "    <tr style=\"text-align: right;\">\n",
       "      <th></th>\n",
       "      <th>Analytical thinking</th>\n",
       "      <th>Systemic thinking</th>\n",
       "      <th>Adaptability</th>\n",
       "      <th>Focus</th>\n",
       "      <th>total_score</th>\n",
       "      <th>cat_1</th>\n",
       "      <th>cat_2</th>\n",
       "      <th>cat_3</th>\n",
       "      <th>cat_4</th>\n",
       "      <th>cat_5</th>\n",
       "      <th>cat_6</th>\n",
       "      <th>score_rating</th>\n",
       "      <th>rating_1</th>\n",
       "      <th>rating_2</th>\n",
       "      <th>rating_3</th>\n",
       "      <th>rating_4</th>\n",
       "      <th>rating_5</th>\n",
       "      <th>rating_6</th>\n",
       "    </tr>\n",
       "  </thead>\n",
       "  <tbody>\n",
       "    <tr>\n",
       "      <th>Analytical thinking</th>\n",
       "      <td>1.00</td>\n",
       "      <td>0.56</td>\n",
       "      <td>0.55</td>\n",
       "      <td>0.54</td>\n",
       "      <td>0.16</td>\n",
       "      <td>0.15</td>\n",
       "      <td>0.18</td>\n",
       "      <td>0.10</td>\n",
       "      <td>0.16</td>\n",
       "      <td>-0.04</td>\n",
       "      <td>0.16</td>\n",
       "      <td>0.16</td>\n",
       "      <td>0.02</td>\n",
       "      <td>0.09</td>\n",
       "      <td>0.08</td>\n",
       "      <td>0.16</td>\n",
       "      <td>-0.01</td>\n",
       "      <td>0.16</td>\n",
       "    </tr>\n",
       "    <tr>\n",
       "      <th>Systemic thinking</th>\n",
       "      <td>0.56</td>\n",
       "      <td>1.00</td>\n",
       "      <td>0.48</td>\n",
       "      <td>0.49</td>\n",
       "      <td>0.19</td>\n",
       "      <td>0.17</td>\n",
       "      <td>0.20</td>\n",
       "      <td>0.12</td>\n",
       "      <td>0.19</td>\n",
       "      <td>-0.05</td>\n",
       "      <td>0.19</td>\n",
       "      <td>0.16</td>\n",
       "      <td>0.05</td>\n",
       "      <td>0.07</td>\n",
       "      <td>0.08</td>\n",
       "      <td>0.15</td>\n",
       "      <td>0.02</td>\n",
       "      <td>0.16</td>\n",
       "    </tr>\n",
       "    <tr>\n",
       "      <th>Adaptability</th>\n",
       "      <td>0.55</td>\n",
       "      <td>0.48</td>\n",
       "      <td>1.00</td>\n",
       "      <td>0.59</td>\n",
       "      <td>0.11</td>\n",
       "      <td>0.11</td>\n",
       "      <td>0.13</td>\n",
       "      <td>0.05</td>\n",
       "      <td>0.11</td>\n",
       "      <td>-0.00</td>\n",
       "      <td>0.11</td>\n",
       "      <td>0.11</td>\n",
       "      <td>-0.01</td>\n",
       "      <td>0.09</td>\n",
       "      <td>-0.01</td>\n",
       "      <td>0.13</td>\n",
       "      <td>0.06</td>\n",
       "      <td>0.11</td>\n",
       "    </tr>\n",
       "    <tr>\n",
       "      <th>Focus</th>\n",
       "      <td>0.54</td>\n",
       "      <td>0.49</td>\n",
       "      <td>0.59</td>\n",
       "      <td>1.00</td>\n",
       "      <td>0.08</td>\n",
       "      <td>0.07</td>\n",
       "      <td>0.09</td>\n",
       "      <td>0.06</td>\n",
       "      <td>0.08</td>\n",
       "      <td>-0.01</td>\n",
       "      <td>0.08</td>\n",
       "      <td>0.11</td>\n",
       "      <td>0.04</td>\n",
       "      <td>0.03</td>\n",
       "      <td>0.06</td>\n",
       "      <td>0.12</td>\n",
       "      <td>0.06</td>\n",
       "      <td>0.11</td>\n",
       "    </tr>\n",
       "    <tr>\n",
       "      <th>total_score</th>\n",
       "      <td>0.16</td>\n",
       "      <td>0.19</td>\n",
       "      <td>0.11</td>\n",
       "      <td>0.08</td>\n",
       "      <td>1.00</td>\n",
       "      <td>0.96</td>\n",
       "      <td>0.97</td>\n",
       "      <td>0.75</td>\n",
       "      <td>0.92</td>\n",
       "      <td>0.02</td>\n",
       "      <td>1.00</td>\n",
       "      <td>0.77</td>\n",
       "      <td>0.27</td>\n",
       "      <td>0.30</td>\n",
       "      <td>0.53</td>\n",
       "      <td>0.67</td>\n",
       "      <td>0.19</td>\n",
       "      <td>0.77</td>\n",
       "    </tr>\n",
       "    <tr>\n",
       "      <th>cat_1</th>\n",
       "      <td>0.15</td>\n",
       "      <td>0.17</td>\n",
       "      <td>0.11</td>\n",
       "      <td>0.07</td>\n",
       "      <td>0.96</td>\n",
       "      <td>1.00</td>\n",
       "      <td>0.93</td>\n",
       "      <td>0.65</td>\n",
       "      <td>0.86</td>\n",
       "      <td>0.06</td>\n",
       "      <td>0.96</td>\n",
       "      <td>0.70</td>\n",
       "      <td>0.25</td>\n",
       "      <td>0.28</td>\n",
       "      <td>0.45</td>\n",
       "      <td>0.58</td>\n",
       "      <td>0.20</td>\n",
       "      <td>0.70</td>\n",
       "    </tr>\n",
       "    <tr>\n",
       "      <th>cat_2</th>\n",
       "      <td>0.18</td>\n",
       "      <td>0.20</td>\n",
       "      <td>0.13</td>\n",
       "      <td>0.09</td>\n",
       "      <td>0.97</td>\n",
       "      <td>0.93</td>\n",
       "      <td>1.00</td>\n",
       "      <td>0.64</td>\n",
       "      <td>0.89</td>\n",
       "      <td>-0.04</td>\n",
       "      <td>0.97</td>\n",
       "      <td>0.78</td>\n",
       "      <td>0.29</td>\n",
       "      <td>0.31</td>\n",
       "      <td>0.44</td>\n",
       "      <td>0.67</td>\n",
       "      <td>0.15</td>\n",
       "      <td>0.78</td>\n",
       "    </tr>\n",
       "    <tr>\n",
       "      <th>cat_3</th>\n",
       "      <td>0.10</td>\n",
       "      <td>0.12</td>\n",
       "      <td>0.05</td>\n",
       "      <td>0.06</td>\n",
       "      <td>0.75</td>\n",
       "      <td>0.65</td>\n",
       "      <td>0.64</td>\n",
       "      <td>1.00</td>\n",
       "      <td>0.61</td>\n",
       "      <td>-0.40</td>\n",
       "      <td>0.75</td>\n",
       "      <td>0.56</td>\n",
       "      <td>0.21</td>\n",
       "      <td>0.18</td>\n",
       "      <td>0.71</td>\n",
       "      <td>0.42</td>\n",
       "      <td>-0.17</td>\n",
       "      <td>0.56</td>\n",
       "    </tr>\n",
       "    <tr>\n",
       "      <th>cat_4</th>\n",
       "      <td>0.16</td>\n",
       "      <td>0.19</td>\n",
       "      <td>0.11</td>\n",
       "      <td>0.08</td>\n",
       "      <td>0.92</td>\n",
       "      <td>0.86</td>\n",
       "      <td>0.89</td>\n",
       "      <td>0.61</td>\n",
       "      <td>1.00</td>\n",
       "      <td>0.03</td>\n",
       "      <td>0.92</td>\n",
       "      <td>0.70</td>\n",
       "      <td>0.24</td>\n",
       "      <td>0.27</td>\n",
       "      <td>0.40</td>\n",
       "      <td>0.74</td>\n",
       "      <td>0.22</td>\n",
       "      <td>0.70</td>\n",
       "    </tr>\n",
       "    <tr>\n",
       "      <th>cat_5</th>\n",
       "      <td>-0.04</td>\n",
       "      <td>-0.05</td>\n",
       "      <td>-0.00</td>\n",
       "      <td>-0.01</td>\n",
       "      <td>0.02</td>\n",
       "      <td>0.06</td>\n",
       "      <td>-0.04</td>\n",
       "      <td>-0.40</td>\n",
       "      <td>0.03</td>\n",
       "      <td>1.00</td>\n",
       "      <td>0.02</td>\n",
       "      <td>0.04</td>\n",
       "      <td>-0.06</td>\n",
       "      <td>0.03</td>\n",
       "      <td>-0.17</td>\n",
       "      <td>0.07</td>\n",
       "      <td>0.66</td>\n",
       "      <td>0.04</td>\n",
       "    </tr>\n",
       "    <tr>\n",
       "      <th>cat_6</th>\n",
       "      <td>0.16</td>\n",
       "      <td>0.19</td>\n",
       "      <td>0.11</td>\n",
       "      <td>0.08</td>\n",
       "      <td>1.00</td>\n",
       "      <td>0.96</td>\n",
       "      <td>0.97</td>\n",
       "      <td>0.75</td>\n",
       "      <td>0.92</td>\n",
       "      <td>0.02</td>\n",
       "      <td>1.00</td>\n",
       "      <td>0.77</td>\n",
       "      <td>0.27</td>\n",
       "      <td>0.30</td>\n",
       "      <td>0.53</td>\n",
       "      <td>0.67</td>\n",
       "      <td>0.19</td>\n",
       "      <td>0.77</td>\n",
       "    </tr>\n",
       "    <tr>\n",
       "      <th>score_rating</th>\n",
       "      <td>0.16</td>\n",
       "      <td>0.16</td>\n",
       "      <td>0.11</td>\n",
       "      <td>0.11</td>\n",
       "      <td>0.77</td>\n",
       "      <td>0.70</td>\n",
       "      <td>0.78</td>\n",
       "      <td>0.56</td>\n",
       "      <td>0.70</td>\n",
       "      <td>0.04</td>\n",
       "      <td>0.77</td>\n",
       "      <td>1.00</td>\n",
       "      <td>0.18</td>\n",
       "      <td>0.43</td>\n",
       "      <td>0.59</td>\n",
       "      <td>0.85</td>\n",
       "      <td>0.16</td>\n",
       "      <td>1.00</td>\n",
       "    </tr>\n",
       "    <tr>\n",
       "      <th>rating_1</th>\n",
       "      <td>0.02</td>\n",
       "      <td>0.05</td>\n",
       "      <td>-0.01</td>\n",
       "      <td>0.04</td>\n",
       "      <td>0.27</td>\n",
       "      <td>0.25</td>\n",
       "      <td>0.29</td>\n",
       "      <td>0.21</td>\n",
       "      <td>0.24</td>\n",
       "      <td>-0.06</td>\n",
       "      <td>0.27</td>\n",
       "      <td>0.18</td>\n",
       "      <td>1.00</td>\n",
       "      <td>-0.77</td>\n",
       "      <td>0.12</td>\n",
       "      <td>0.09</td>\n",
       "      <td>-0.09</td>\n",
       "      <td>0.18</td>\n",
       "    </tr>\n",
       "    <tr>\n",
       "      <th>rating_2</th>\n",
       "      <td>0.09</td>\n",
       "      <td>0.07</td>\n",
       "      <td>0.09</td>\n",
       "      <td>0.03</td>\n",
       "      <td>0.30</td>\n",
       "      <td>0.28</td>\n",
       "      <td>0.31</td>\n",
       "      <td>0.18</td>\n",
       "      <td>0.27</td>\n",
       "      <td>0.03</td>\n",
       "      <td>0.30</td>\n",
       "      <td>0.43</td>\n",
       "      <td>-0.77</td>\n",
       "      <td>1.00</td>\n",
       "      <td>0.18</td>\n",
       "      <td>0.41</td>\n",
       "      <td>0.15</td>\n",
       "      <td>0.43</td>\n",
       "    </tr>\n",
       "    <tr>\n",
       "      <th>rating_3</th>\n",
       "      <td>0.08</td>\n",
       "      <td>0.08</td>\n",
       "      <td>-0.01</td>\n",
       "      <td>0.06</td>\n",
       "      <td>0.53</td>\n",
       "      <td>0.45</td>\n",
       "      <td>0.44</td>\n",
       "      <td>0.71</td>\n",
       "      <td>0.40</td>\n",
       "      <td>-0.17</td>\n",
       "      <td>0.53</td>\n",
       "      <td>0.59</td>\n",
       "      <td>0.12</td>\n",
       "      <td>0.18</td>\n",
       "      <td>1.00</td>\n",
       "      <td>0.38</td>\n",
       "      <td>-0.20</td>\n",
       "      <td>0.59</td>\n",
       "    </tr>\n",
       "    <tr>\n",
       "      <th>rating_4</th>\n",
       "      <td>0.16</td>\n",
       "      <td>0.15</td>\n",
       "      <td>0.13</td>\n",
       "      <td>0.12</td>\n",
       "      <td>0.67</td>\n",
       "      <td>0.58</td>\n",
       "      <td>0.67</td>\n",
       "      <td>0.42</td>\n",
       "      <td>0.74</td>\n",
       "      <td>0.07</td>\n",
       "      <td>0.67</td>\n",
       "      <td>0.85</td>\n",
       "      <td>0.09</td>\n",
       "      <td>0.41</td>\n",
       "      <td>0.38</td>\n",
       "      <td>1.00</td>\n",
       "      <td>0.17</td>\n",
       "      <td>0.85</td>\n",
       "    </tr>\n",
       "    <tr>\n",
       "      <th>rating_5</th>\n",
       "      <td>-0.01</td>\n",
       "      <td>0.02</td>\n",
       "      <td>0.06</td>\n",
       "      <td>0.06</td>\n",
       "      <td>0.19</td>\n",
       "      <td>0.20</td>\n",
       "      <td>0.15</td>\n",
       "      <td>-0.17</td>\n",
       "      <td>0.22</td>\n",
       "      <td>0.66</td>\n",
       "      <td>0.19</td>\n",
       "      <td>0.16</td>\n",
       "      <td>-0.09</td>\n",
       "      <td>0.15</td>\n",
       "      <td>-0.20</td>\n",
       "      <td>0.17</td>\n",
       "      <td>1.00</td>\n",
       "      <td>0.16</td>\n",
       "    </tr>\n",
       "    <tr>\n",
       "      <th>rating_6</th>\n",
       "      <td>0.16</td>\n",
       "      <td>0.16</td>\n",
       "      <td>0.11</td>\n",
       "      <td>0.11</td>\n",
       "      <td>0.77</td>\n",
       "      <td>0.70</td>\n",
       "      <td>0.78</td>\n",
       "      <td>0.56</td>\n",
       "      <td>0.70</td>\n",
       "      <td>0.04</td>\n",
       "      <td>0.77</td>\n",
       "      <td>1.00</td>\n",
       "      <td>0.18</td>\n",
       "      <td>0.43</td>\n",
       "      <td>0.59</td>\n",
       "      <td>0.85</td>\n",
       "      <td>0.16</td>\n",
       "      <td>1.00</td>\n",
       "    </tr>\n",
       "  </tbody>\n",
       "</table>\n",
       "</div>"
      ],
      "text/plain": [
       "                     Analytical thinking  Systemic thinking  Adaptability  \\\n",
       "Analytical thinking                 1.00               0.56          0.55   \n",
       "Systemic thinking                   0.56               1.00          0.48   \n",
       "Adaptability                        0.55               0.48          1.00   \n",
       "Focus                               0.54               0.49          0.59   \n",
       "total_score                         0.16               0.19          0.11   \n",
       "cat_1                               0.15               0.17          0.11   \n",
       "cat_2                               0.18               0.20          0.13   \n",
       "cat_3                               0.10               0.12          0.05   \n",
       "cat_4                               0.16               0.19          0.11   \n",
       "cat_5                              -0.04              -0.05         -0.00   \n",
       "cat_6                               0.16               0.19          0.11   \n",
       "score_rating                        0.16               0.16          0.11   \n",
       "rating_1                            0.02               0.05         -0.01   \n",
       "rating_2                            0.09               0.07          0.09   \n",
       "rating_3                            0.08               0.08         -0.01   \n",
       "rating_4                            0.16               0.15          0.13   \n",
       "rating_5                           -0.01               0.02          0.06   \n",
       "rating_6                            0.16               0.16          0.11   \n",
       "\n",
       "                     Focus  total_score  cat_1  cat_2  cat_3  cat_4  cat_5  \\\n",
       "Analytical thinking   0.54         0.16   0.15   0.18   0.10   0.16  -0.04   \n",
       "Systemic thinking     0.49         0.19   0.17   0.20   0.12   0.19  -0.05   \n",
       "Adaptability          0.59         0.11   0.11   0.13   0.05   0.11  -0.00   \n",
       "Focus                 1.00         0.08   0.07   0.09   0.06   0.08  -0.01   \n",
       "total_score           0.08         1.00   0.96   0.97   0.75   0.92   0.02   \n",
       "cat_1                 0.07         0.96   1.00   0.93   0.65   0.86   0.06   \n",
       "cat_2                 0.09         0.97   0.93   1.00   0.64   0.89  -0.04   \n",
       "cat_3                 0.06         0.75   0.65   0.64   1.00   0.61  -0.40   \n",
       "cat_4                 0.08         0.92   0.86   0.89   0.61   1.00   0.03   \n",
       "cat_5                -0.01         0.02   0.06  -0.04  -0.40   0.03   1.00   \n",
       "cat_6                 0.08         1.00   0.96   0.97   0.75   0.92   0.02   \n",
       "score_rating          0.11         0.77   0.70   0.78   0.56   0.70   0.04   \n",
       "rating_1              0.04         0.27   0.25   0.29   0.21   0.24  -0.06   \n",
       "rating_2              0.03         0.30   0.28   0.31   0.18   0.27   0.03   \n",
       "rating_3              0.06         0.53   0.45   0.44   0.71   0.40  -0.17   \n",
       "rating_4              0.12         0.67   0.58   0.67   0.42   0.74   0.07   \n",
       "rating_5              0.06         0.19   0.20   0.15  -0.17   0.22   0.66   \n",
       "rating_6              0.11         0.77   0.70   0.78   0.56   0.70   0.04   \n",
       "\n",
       "                     cat_6  score_rating  rating_1  rating_2  rating_3  \\\n",
       "Analytical thinking   0.16          0.16      0.02      0.09      0.08   \n",
       "Systemic thinking     0.19          0.16      0.05      0.07      0.08   \n",
       "Adaptability          0.11          0.11     -0.01      0.09     -0.01   \n",
       "Focus                 0.08          0.11      0.04      0.03      0.06   \n",
       "total_score           1.00          0.77      0.27      0.30      0.53   \n",
       "cat_1                 0.96          0.70      0.25      0.28      0.45   \n",
       "cat_2                 0.97          0.78      0.29      0.31      0.44   \n",
       "cat_3                 0.75          0.56      0.21      0.18      0.71   \n",
       "cat_4                 0.92          0.70      0.24      0.27      0.40   \n",
       "cat_5                 0.02          0.04     -0.06      0.03     -0.17   \n",
       "cat_6                 1.00          0.77      0.27      0.30      0.53   \n",
       "score_rating          0.77          1.00      0.18      0.43      0.59   \n",
       "rating_1              0.27          0.18      1.00     -0.77      0.12   \n",
       "rating_2              0.30          0.43     -0.77      1.00      0.18   \n",
       "rating_3              0.53          0.59      0.12      0.18      1.00   \n",
       "rating_4              0.67          0.85      0.09      0.41      0.38   \n",
       "rating_5              0.19          0.16     -0.09      0.15     -0.20   \n",
       "rating_6              0.77          1.00      0.18      0.43      0.59   \n",
       "\n",
       "                     rating_4  rating_5  rating_6  \n",
       "Analytical thinking      0.16     -0.01      0.16  \n",
       "Systemic thinking        0.15      0.02      0.16  \n",
       "Adaptability             0.13      0.06      0.11  \n",
       "Focus                    0.12      0.06      0.11  \n",
       "total_score              0.67      0.19      0.77  \n",
       "cat_1                    0.58      0.20      0.70  \n",
       "cat_2                    0.67      0.15      0.78  \n",
       "cat_3                    0.42     -0.17      0.56  \n",
       "cat_4                    0.74      0.22      0.70  \n",
       "cat_5                    0.07      0.66      0.04  \n",
       "cat_6                    0.67      0.19      0.77  \n",
       "score_rating             0.85      0.16      1.00  \n",
       "rating_1                 0.09     -0.09      0.18  \n",
       "rating_2                 0.41      0.15      0.43  \n",
       "rating_3                 0.38     -0.20      0.59  \n",
       "rating_4                 1.00      0.17      0.85  \n",
       "rating_5                 0.17      1.00      0.16  \n",
       "rating_6                 0.85      0.16      1.00  "
      ]
     },
     "execution_count": 2959,
     "metadata": {},
     "output_type": "execute_result"
    }
   ],
   "source": [
    "df_score.drop('game_id', axis=1).corr()"
   ]
  },
  {
   "cell_type": "code",
   "execution_count": 2960,
   "id": "0ce45a33",
   "metadata": {
    "scrolled": true
   },
   "outputs": [
    {
     "data": {
      "text/plain": [
       "Index(['Analytical thinking', 'Systemic thinking', 'Adaptability', 'Focus',\n",
       "       'game_id', 'total_score', 'cat_1', 'cat_2', 'cat_3', 'cat_4', 'cat_5',\n",
       "       'cat_6', 'score_rating', 'rating_1', 'rating_2', 'rating_3', 'rating_4',\n",
       "       'rating_5', 'rating_6'],\n",
       "      dtype='object')"
      ]
     },
     "execution_count": 2960,
     "metadata": {},
     "output_type": "execute_result"
    }
   ],
   "source": [
    "df_score.columns"
   ]
  },
  {
   "cell_type": "code",
   "execution_count": 2961,
   "id": "efe7024d",
   "metadata": {},
   "outputs": [],
   "source": [
    "col_drop = ['total_score', 'game_id','cat_1','cat_2','cat_3','cat_4','cat_5','cat_6', 'score_rating', 'rating_1', 'rating_2', 'rating_3', 'rating_4',\n",
    "       'rating_5', 'rating_6']"
   ]
  },
  {
   "cell_type": "code",
   "execution_count": 2962,
   "id": "b55e0088",
   "metadata": {
    "scrolled": false
   },
   "outputs": [
    {
     "data": {
      "image/png": "[encoded data removed]",
      "text/plain": [
       "<Figure size 800x600 with 4 Axes>"
      ]
     },
     "metadata": {},
     "output_type": "display_data"
    }
   ],
   "source": [
    "fig, axes = plt.subplots(nrows = 2, ncols =2 )\n",
    "\n",
    "fig .set_size_inches(8, 6)\n",
    "\n",
    "name_score = df_score.drop(col_drop, axis = 1).columns.unique()\n",
    "\n",
    "for k in range(len(name_score)):\n",
    "    i = np.floor(k/2)\n",
    "    i = i.astype(int)\n",
    "    j = k - i*2\n",
    "    j = j.astype(int)\n",
    "        \n",
    "    axes[i,j].set(title=name_score[k])\n",
    "       \n",
    "    axes[i,j].set_xlim(0,3000) #сделаем одну шкалу\n",
    "   \n",
    "    axes[i,j].set_yticks([1, 2, 3, 4, 5, 6])\n",
    "    axes[i,j].scatter(x=df_score['total_score'], y = df_score[name_score[k]], alpha=0.5)\n",
    "    \n",
    "plt.suptitle('Зависимость уровня компетенции от score команды', x=0.5, y=1)\n",
    "plt.show()"
   ]
  },
  {
   "cell_type": "markdown",
   "id": "8b962ca7",
   "metadata": {},
   "source": [
    "Преобразуем score  в места"
   ]
  },
  {
   "cell_type": "code",
   "execution_count": 2963,
   "id": "f6912733",
   "metadata": {},
   "outputs": [],
   "source": [
    "df_score = df.set_index('id').join(user_score, how = 'left')"
   ]
  },
  {
   "cell_type": "code",
   "execution_count": 2964,
   "id": "b0587ad0",
   "metadata": {
    "scrolled": false
   },
   "outputs": [
    {
     "data": {
      "text/html": [
       "<div>\n",
       "<style scoped>\n",
       "    .dataframe tbody tr th:only-of-type {\n",
       "        vertical-align: middle;\n",
       "    }\n",
       "\n",
       "    .dataframe tbody tr th {\n",
       "        vertical-align: top;\n",
       "    }\n",
       "\n",
       "    .dataframe thead th {\n",
       "        text-align: right;\n",
       "    }\n",
       "</style>\n",
       "<table border=\"1\" class=\"dataframe\">\n",
       "  <thead>\n",
       "    <tr style=\"text-align: right;\">\n",
       "      <th></th>\n",
       "      <th>Analytical thinking</th>\n",
       "      <th>Systemic thinking</th>\n",
       "      <th>Adaptability</th>\n",
       "      <th>Focus</th>\n",
       "      <th>game_id</th>\n",
       "      <th>total_score</th>\n",
       "      <th>cat_1</th>\n",
       "      <th>cat_2</th>\n",
       "      <th>cat_3</th>\n",
       "      <th>cat_4</th>\n",
       "      <th>cat_5</th>\n",
       "      <th>cat_6</th>\n",
       "      <th>score_rating</th>\n",
       "      <th>rating_1</th>\n",
       "      <th>rating_2</th>\n",
       "      <th>rating_3</th>\n",
       "      <th>rating_4</th>\n",
       "      <th>rating_5</th>\n",
       "      <th>rating_6</th>\n",
       "    </tr>\n",
       "    <tr>\n",
       "      <th>id</th>\n",
       "      <th></th>\n",
       "      <th></th>\n",
       "      <th></th>\n",
       "      <th></th>\n",
       "      <th></th>\n",
       "      <th></th>\n",
       "      <th></th>\n",
       "      <th></th>\n",
       "      <th></th>\n",
       "      <th></th>\n",
       "      <th></th>\n",
       "      <th></th>\n",
       "      <th></th>\n",
       "      <th></th>\n",
       "      <th></th>\n",
       "      <th></th>\n",
       "      <th></th>\n",
       "      <th></th>\n",
       "      <th></th>\n",
       "    </tr>\n",
       "  </thead>\n",
       "  <tbody>\n",
       "    <tr>\n",
       "      <th>10884</th>\n",
       "      <td>4.00</td>\n",
       "      <td>4.00</td>\n",
       "      <td>4.00</td>\n",
       "      <td>4.00</td>\n",
       "      <td>202</td>\n",
       "      <td>1188</td>\n",
       "      <td>-5.00</td>\n",
       "      <td>-25.00</td>\n",
       "      <td>391.00</td>\n",
       "      <td>128.00</td>\n",
       "      <td>105.00</td>\n",
       "      <td>594.00</td>\n",
       "      <td>0.55</td>\n",
       "      <td>-0.04</td>\n",
       "      <td>-0.13</td>\n",
       "      <td>0.77</td>\n",
       "      <td>0.74</td>\n",
       "      <td>1.00</td>\n",
       "      <td>0.55</td>\n",
       "    </tr>\n",
       "    <tr>\n",
       "      <th>10106</th>\n",
       "      <td>5.00</td>\n",
       "      <td>4.00</td>\n",
       "      <td>5.00</td>\n",
       "      <td>5.00</td>\n",
       "      <td>211</td>\n",
       "      <td>1828</td>\n",
       "      <td>54.00</td>\n",
       "      <td>120.00</td>\n",
       "      <td>467.00</td>\n",
       "      <td>160.00</td>\n",
       "      <td>113.00</td>\n",
       "      <td>914.00</td>\n",
       "      <td>1.00</td>\n",
       "      <td>1.00</td>\n",
       "      <td>0.90</td>\n",
       "      <td>0.99</td>\n",
       "      <td>0.90</td>\n",
       "      <td>1.00</td>\n",
       "      <td>1.00</td>\n",
       "    </tr>\n",
       "    <tr>\n",
       "      <th>10438</th>\n",
       "      <td>6.00</td>\n",
       "      <td>5.00</td>\n",
       "      <td>5.00</td>\n",
       "      <td>5.00</td>\n",
       "      <td>242</td>\n",
       "      <td>1604</td>\n",
       "      <td>55.00</td>\n",
       "      <td>60.00</td>\n",
       "      <td>383.00</td>\n",
       "      <td>158.00</td>\n",
       "      <td>146.00</td>\n",
       "      <td>802.00</td>\n",
       "      <td>1.00</td>\n",
       "      <td>1.00</td>\n",
       "      <td>0.69</td>\n",
       "      <td>0.98</td>\n",
       "      <td>1.00</td>\n",
       "      <td>0.81</td>\n",
       "      <td>1.00</td>\n",
       "    </tr>\n",
       "    <tr>\n",
       "      <th>10130</th>\n",
       "      <td>5.00</td>\n",
       "      <td>4.00</td>\n",
       "      <td>5.00</td>\n",
       "      <td>5.00</td>\n",
       "      <td>184</td>\n",
       "      <td>1334</td>\n",
       "      <td>31.00</td>\n",
       "      <td>24.00</td>\n",
       "      <td>366.00</td>\n",
       "      <td>139.00</td>\n",
       "      <td>107.00</td>\n",
       "      <td>667.00</td>\n",
       "      <td>0.62</td>\n",
       "      <td>0.30</td>\n",
       "      <td>0.12</td>\n",
       "      <td>0.71</td>\n",
       "      <td>0.69</td>\n",
       "      <td>1.00</td>\n",
       "      <td>0.62</td>\n",
       "    </tr>\n",
       "    <tr>\n",
       "      <th>10667</th>\n",
       "      <td>4.00</td>\n",
       "      <td>5.00</td>\n",
       "      <td>5.00</td>\n",
       "      <td>5.00</td>\n",
       "      <td>193</td>\n",
       "      <td>1756</td>\n",
       "      <td>71.00</td>\n",
       "      <td>70.00</td>\n",
       "      <td>416.00</td>\n",
       "      <td>166.00</td>\n",
       "      <td>155.00</td>\n",
       "      <td>878.00</td>\n",
       "      <td>0.72</td>\n",
       "      <td>0.41</td>\n",
       "      <td>0.26</td>\n",
       "      <td>0.97</td>\n",
       "      <td>0.80</td>\n",
       "      <td>0.87</td>\n",
       "      <td>0.72</td>\n",
       "    </tr>\n",
       "  </tbody>\n",
       "</table>\n",
       "</div>"
      ],
      "text/plain": [
       "       Analytical thinking  Systemic thinking  Adaptability  Focus  game_id  \\\n",
       "id                                                                            \n",
       "10884                 4.00               4.00          4.00   4.00      202   \n",
       "10106                 5.00               4.00          5.00   5.00      211   \n",
       "10438                 6.00               5.00          5.00   5.00      242   \n",
       "10130                 5.00               4.00          5.00   5.00      184   \n",
       "10667                 4.00               5.00          5.00   5.00      193   \n",
       "\n",
       "       total_score  cat_1  cat_2  cat_3  cat_4  cat_5  cat_6  score_rating  \\\n",
       "id                                                                           \n",
       "10884         1188  -5.00 -25.00 391.00 128.00 105.00 594.00          0.55   \n",
       "10106         1828  54.00 120.00 467.00 160.00 113.00 914.00          1.00   \n",
       "10438         1604  55.00  60.00 383.00 158.00 146.00 802.00          1.00   \n",
       "10130         1334  31.00  24.00 366.00 139.00 107.00 667.00          0.62   \n",
       "10667         1756  71.00  70.00 416.00 166.00 155.00 878.00          0.72   \n",
       "\n",
       "       rating_1  rating_2  rating_3  rating_4  rating_5  rating_6  \n",
       "id                                                                 \n",
       "10884     -0.04     -0.13      0.77      0.74      1.00      0.55  \n",
       "10106      1.00      0.90      0.99      0.90      1.00      1.00  \n",
       "10438      1.00      0.69      0.98      1.00      0.81      1.00  \n",
       "10130      0.30      0.12      0.71      0.69      1.00      0.62  \n",
       "10667      0.41      0.26      0.97      0.80      0.87      0.72  "
      ]
     },
     "execution_count": 2964,
     "metadata": {},
     "output_type": "execute_result"
    }
   ],
   "source": [
    "df_score.head()"
   ]
  },
  {
   "cell_type": "code",
   "execution_count": null,
   "id": "74e293b4",
   "metadata": {},
   "outputs": [],
   "source": []
  },
  {
   "cell_type": "code",
   "execution_count": 2965,
   "id": "e6ff4afa",
   "metadata": {
    "scrolled": false
   },
   "outputs": [
    {
     "data": {
      "text/html": [
       "<div>\n",
       "<style scoped>\n",
       "    .dataframe tbody tr th:only-of-type {\n",
       "        vertical-align: middle;\n",
       "    }\n",
       "\n",
       "    .dataframe tbody tr th {\n",
       "        vertical-align: top;\n",
       "    }\n",
       "\n",
       "    .dataframe thead th {\n",
       "        text-align: right;\n",
       "    }\n",
       "</style>\n",
       "<table border=\"1\" class=\"dataframe\">\n",
       "  <thead>\n",
       "    <tr style=\"text-align: right;\">\n",
       "      <th></th>\n",
       "      <th>Analytical thinking</th>\n",
       "      <th>Systemic thinking</th>\n",
       "      <th>Adaptability</th>\n",
       "      <th>Focus</th>\n",
       "      <th>total_score</th>\n",
       "      <th>cat_1</th>\n",
       "      <th>cat_2</th>\n",
       "      <th>cat_3</th>\n",
       "      <th>cat_4</th>\n",
       "      <th>cat_5</th>\n",
       "      <th>cat_6</th>\n",
       "      <th>score_rating</th>\n",
       "      <th>rating_1</th>\n",
       "      <th>rating_2</th>\n",
       "      <th>rating_3</th>\n",
       "      <th>rating_4</th>\n",
       "      <th>rating_5</th>\n",
       "      <th>rating_6</th>\n",
       "    </tr>\n",
       "  </thead>\n",
       "  <tbody>\n",
       "    <tr>\n",
       "      <th>Analytical thinking</th>\n",
       "      <td>1.00</td>\n",
       "      <td>0.56</td>\n",
       "      <td>0.55</td>\n",
       "      <td>0.54</td>\n",
       "      <td>0.16</td>\n",
       "      <td>0.15</td>\n",
       "      <td>0.18</td>\n",
       "      <td>0.10</td>\n",
       "      <td>0.16</td>\n",
       "      <td>-0.04</td>\n",
       "      <td>0.16</td>\n",
       "      <td>0.16</td>\n",
       "      <td>0.02</td>\n",
       "      <td>0.09</td>\n",
       "      <td>0.08</td>\n",
       "      <td>0.16</td>\n",
       "      <td>-0.01</td>\n",
       "      <td>0.16</td>\n",
       "    </tr>\n",
       "    <tr>\n",
       "      <th>Systemic thinking</th>\n",
       "      <td>0.56</td>\n",
       "      <td>1.00</td>\n",
       "      <td>0.48</td>\n",
       "      <td>0.49</td>\n",
       "      <td>0.19</td>\n",
       "      <td>0.17</td>\n",
       "      <td>0.20</td>\n",
       "      <td>0.12</td>\n",
       "      <td>0.19</td>\n",
       "      <td>-0.05</td>\n",
       "      <td>0.19</td>\n",
       "      <td>0.16</td>\n",
       "      <td>0.05</td>\n",
       "      <td>0.07</td>\n",
       "      <td>0.08</td>\n",
       "      <td>0.15</td>\n",
       "      <td>0.02</td>\n",
       "      <td>0.16</td>\n",
       "    </tr>\n",
       "    <tr>\n",
       "      <th>Adaptability</th>\n",
       "      <td>0.55</td>\n",
       "      <td>0.48</td>\n",
       "      <td>1.00</td>\n",
       "      <td>0.59</td>\n",
       "      <td>0.11</td>\n",
       "      <td>0.11</td>\n",
       "      <td>0.13</td>\n",
       "      <td>0.05</td>\n",
       "      <td>0.11</td>\n",
       "      <td>-0.00</td>\n",
       "      <td>0.11</td>\n",
       "      <td>0.11</td>\n",
       "      <td>-0.01</td>\n",
       "      <td>0.09</td>\n",
       "      <td>-0.01</td>\n",
       "      <td>0.13</td>\n",
       "      <td>0.06</td>\n",
       "      <td>0.11</td>\n",
       "    </tr>\n",
       "    <tr>\n",
       "      <th>Focus</th>\n",
       "      <td>0.54</td>\n",
       "      <td>0.49</td>\n",
       "      <td>0.59</td>\n",
       "      <td>1.00</td>\n",
       "      <td>0.08</td>\n",
       "      <td>0.07</td>\n",
       "      <td>0.09</td>\n",
       "      <td>0.06</td>\n",
       "      <td>0.08</td>\n",
       "      <td>-0.01</td>\n",
       "      <td>0.08</td>\n",
       "      <td>0.11</td>\n",
       "      <td>0.04</td>\n",
       "      <td>0.03</td>\n",
       "      <td>0.06</td>\n",
       "      <td>0.12</td>\n",
       "      <td>0.06</td>\n",
       "      <td>0.11</td>\n",
       "    </tr>\n",
       "    <tr>\n",
       "      <th>total_score</th>\n",
       "      <td>0.16</td>\n",
       "      <td>0.19</td>\n",
       "      <td>0.11</td>\n",
       "      <td>0.08</td>\n",
       "      <td>1.00</td>\n",
       "      <td>0.96</td>\n",
       "      <td>0.97</td>\n",
       "      <td>0.75</td>\n",
       "      <td>0.92</td>\n",
       "      <td>0.02</td>\n",
       "      <td>1.00</td>\n",
       "      <td>0.77</td>\n",
       "      <td>0.27</td>\n",
       "      <td>0.30</td>\n",
       "      <td>0.53</td>\n",
       "      <td>0.67</td>\n",
       "      <td>0.19</td>\n",
       "      <td>0.77</td>\n",
       "    </tr>\n",
       "    <tr>\n",
       "      <th>cat_1</th>\n",
       "      <td>0.15</td>\n",
       "      <td>0.17</td>\n",
       "      <td>0.11</td>\n",
       "      <td>0.07</td>\n",
       "      <td>0.96</td>\n",
       "      <td>1.00</td>\n",
       "      <td>0.93</td>\n",
       "      <td>0.65</td>\n",
       "      <td>0.86</td>\n",
       "      <td>0.06</td>\n",
       "      <td>0.96</td>\n",
       "      <td>0.70</td>\n",
       "      <td>0.25</td>\n",
       "      <td>0.28</td>\n",
       "      <td>0.45</td>\n",
       "      <td>0.58</td>\n",
       "      <td>0.20</td>\n",
       "      <td>0.70</td>\n",
       "    </tr>\n",
       "    <tr>\n",
       "      <th>cat_2</th>\n",
       "      <td>0.18</td>\n",
       "      <td>0.20</td>\n",
       "      <td>0.13</td>\n",
       "      <td>0.09</td>\n",
       "      <td>0.97</td>\n",
       "      <td>0.93</td>\n",
       "      <td>1.00</td>\n",
       "      <td>0.64</td>\n",
       "      <td>0.89</td>\n",
       "      <td>-0.04</td>\n",
       "      <td>0.97</td>\n",
       "      <td>0.78</td>\n",
       "      <td>0.29</td>\n",
       "      <td>0.31</td>\n",
       "      <td>0.44</td>\n",
       "      <td>0.67</td>\n",
       "      <td>0.15</td>\n",
       "      <td>0.78</td>\n",
       "    </tr>\n",
       "    <tr>\n",
       "      <th>cat_3</th>\n",
       "      <td>0.10</td>\n",
       "      <td>0.12</td>\n",
       "      <td>0.05</td>\n",
       "      <td>0.06</td>\n",
       "      <td>0.75</td>\n",
       "      <td>0.65</td>\n",
       "      <td>0.64</td>\n",
       "      <td>1.00</td>\n",
       "      <td>0.61</td>\n",
       "      <td>-0.40</td>\n",
       "      <td>0.75</td>\n",
       "      <td>0.56</td>\n",
       "      <td>0.21</td>\n",
       "      <td>0.18</td>\n",
       "      <td>0.71</td>\n",
       "      <td>0.42</td>\n",
       "      <td>-0.17</td>\n",
       "      <td>0.56</td>\n",
       "    </tr>\n",
       "    <tr>\n",
       "      <th>cat_4</th>\n",
       "      <td>0.16</td>\n",
       "      <td>0.19</td>\n",
       "      <td>0.11</td>\n",
       "      <td>0.08</td>\n",
       "      <td>0.92</td>\n",
       "      <td>0.86</td>\n",
       "      <td>0.89</td>\n",
       "      <td>0.61</td>\n",
       "      <td>1.00</td>\n",
       "      <td>0.03</td>\n",
       "      <td>0.92</td>\n",
       "      <td>0.70</td>\n",
       "      <td>0.24</td>\n",
       "      <td>0.27</td>\n",
       "      <td>0.40</td>\n",
       "      <td>0.74</td>\n",
       "      <td>0.22</td>\n",
       "      <td>0.70</td>\n",
       "    </tr>\n",
       "    <tr>\n",
       "      <th>cat_5</th>\n",
       "      <td>-0.04</td>\n",
       "      <td>-0.05</td>\n",
       "      <td>-0.00</td>\n",
       "      <td>-0.01</td>\n",
       "      <td>0.02</td>\n",
       "      <td>0.06</td>\n",
       "      <td>-0.04</td>\n",
       "      <td>-0.40</td>\n",
       "      <td>0.03</td>\n",
       "      <td>1.00</td>\n",
       "      <td>0.02</td>\n",
       "      <td>0.04</td>\n",
       "      <td>-0.06</td>\n",
       "      <td>0.03</td>\n",
       "      <td>-0.17</td>\n",
       "      <td>0.07</td>\n",
       "      <td>0.66</td>\n",
       "      <td>0.04</td>\n",
       "    </tr>\n",
       "    <tr>\n",
       "      <th>cat_6</th>\n",
       "      <td>0.16</td>\n",
       "      <td>0.19</td>\n",
       "      <td>0.11</td>\n",
       "      <td>0.08</td>\n",
       "      <td>1.00</td>\n",
       "      <td>0.96</td>\n",
       "      <td>0.97</td>\n",
       "      <td>0.75</td>\n",
       "      <td>0.92</td>\n",
       "      <td>0.02</td>\n",
       "      <td>1.00</td>\n",
       "      <td>0.77</td>\n",
       "      <td>0.27</td>\n",
       "      <td>0.30</td>\n",
       "      <td>0.53</td>\n",
       "      <td>0.67</td>\n",
       "      <td>0.19</td>\n",
       "      <td>0.77</td>\n",
       "    </tr>\n",
       "    <tr>\n",
       "      <th>score_rating</th>\n",
       "      <td>0.16</td>\n",
       "      <td>0.16</td>\n",
       "      <td>0.11</td>\n",
       "      <td>0.11</td>\n",
       "      <td>0.77</td>\n",
       "      <td>0.70</td>\n",
       "      <td>0.78</td>\n",
       "      <td>0.56</td>\n",
       "      <td>0.70</td>\n",
       "      <td>0.04</td>\n",
       "      <td>0.77</td>\n",
       "      <td>1.00</td>\n",
       "      <td>0.18</td>\n",
       "      <td>0.43</td>\n",
       "      <td>0.59</td>\n",
       "      <td>0.85</td>\n",
       "      <td>0.16</td>\n",
       "      <td>1.00</td>\n",
       "    </tr>\n",
       "    <tr>\n",
       "      <th>rating_1</th>\n",
       "      <td>0.02</td>\n",
       "      <td>0.05</td>\n",
       "      <td>-0.01</td>\n",
       "      <td>0.04</td>\n",
       "      <td>0.27</td>\n",
       "      <td>0.25</td>\n",
       "      <td>0.29</td>\n",
       "      <td>0.21</td>\n",
       "      <td>0.24</td>\n",
       "      <td>-0.06</td>\n",
       "      <td>0.27</td>\n",
       "      <td>0.18</td>\n",
       "      <td>1.00</td>\n",
       "      <td>-0.77</td>\n",
       "      <td>0.12</td>\n",
       "      <td>0.09</td>\n",
       "      <td>-0.09</td>\n",
       "      <td>0.18</td>\n",
       "    </tr>\n",
       "    <tr>\n",
       "      <th>rating_2</th>\n",
       "      <td>0.09</td>\n",
       "      <td>0.07</td>\n",
       "      <td>0.09</td>\n",
       "      <td>0.03</td>\n",
       "      <td>0.30</td>\n",
       "      <td>0.28</td>\n",
       "      <td>0.31</td>\n",
       "      <td>0.18</td>\n",
       "      <td>0.27</td>\n",
       "      <td>0.03</td>\n",
       "      <td>0.30</td>\n",
       "      <td>0.43</td>\n",
       "      <td>-0.77</td>\n",
       "      <td>1.00</td>\n",
       "      <td>0.18</td>\n",
       "      <td>0.41</td>\n",
       "      <td>0.15</td>\n",
       "      <td>0.43</td>\n",
       "    </tr>\n",
       "    <tr>\n",
       "      <th>rating_3</th>\n",
       "      <td>0.08</td>\n",
       "      <td>0.08</td>\n",
       "      <td>-0.01</td>\n",
       "      <td>0.06</td>\n",
       "      <td>0.53</td>\n",
       "      <td>0.45</td>\n",
       "      <td>0.44</td>\n",
       "      <td>0.71</td>\n",
       "      <td>0.40</td>\n",
       "      <td>-0.17</td>\n",
       "      <td>0.53</td>\n",
       "      <td>0.59</td>\n",
       "      <td>0.12</td>\n",
       "      <td>0.18</td>\n",
       "      <td>1.00</td>\n",
       "      <td>0.38</td>\n",
       "      <td>-0.20</td>\n",
       "      <td>0.59</td>\n",
       "    </tr>\n",
       "    <tr>\n",
       "      <th>rating_4</th>\n",
       "      <td>0.16</td>\n",
       "      <td>0.15</td>\n",
       "      <td>0.13</td>\n",
       "      <td>0.12</td>\n",
       "      <td>0.67</td>\n",
       "      <td>0.58</td>\n",
       "      <td>0.67</td>\n",
       "      <td>0.42</td>\n",
       "      <td>0.74</td>\n",
       "      <td>0.07</td>\n",
       "      <td>0.67</td>\n",
       "      <td>0.85</td>\n",
       "      <td>0.09</td>\n",
       "      <td>0.41</td>\n",
       "      <td>0.38</td>\n",
       "      <td>1.00</td>\n",
       "      <td>0.17</td>\n",
       "      <td>0.85</td>\n",
       "    </tr>\n",
       "    <tr>\n",
       "      <th>rating_5</th>\n",
       "      <td>-0.01</td>\n",
       "      <td>0.02</td>\n",
       "      <td>0.06</td>\n",
       "      <td>0.06</td>\n",
       "      <td>0.19</td>\n",
       "      <td>0.20</td>\n",
       "      <td>0.15</td>\n",
       "      <td>-0.17</td>\n",
       "      <td>0.22</td>\n",
       "      <td>0.66</td>\n",
       "      <td>0.19</td>\n",
       "      <td>0.16</td>\n",
       "      <td>-0.09</td>\n",
       "      <td>0.15</td>\n",
       "      <td>-0.20</td>\n",
       "      <td>0.17</td>\n",
       "      <td>1.00</td>\n",
       "      <td>0.16</td>\n",
       "    </tr>\n",
       "    <tr>\n",
       "      <th>rating_6</th>\n",
       "      <td>0.16</td>\n",
       "      <td>0.16</td>\n",
       "      <td>0.11</td>\n",
       "      <td>0.11</td>\n",
       "      <td>0.77</td>\n",
       "      <td>0.70</td>\n",
       "      <td>0.78</td>\n",
       "      <td>0.56</td>\n",
       "      <td>0.70</td>\n",
       "      <td>0.04</td>\n",
       "      <td>0.77</td>\n",
       "      <td>1.00</td>\n",
       "      <td>0.18</td>\n",
       "      <td>0.43</td>\n",
       "      <td>0.59</td>\n",
       "      <td>0.85</td>\n",
       "      <td>0.16</td>\n",
       "      <td>1.00</td>\n",
       "    </tr>\n",
       "  </tbody>\n",
       "</table>\n",
       "</div>"
      ],
      "text/plain": [
       "                     Analytical thinking  Systemic thinking  Adaptability  \\\n",
       "Analytical thinking                 1.00               0.56          0.55   \n",
       "Systemic thinking                   0.56               1.00          0.48   \n",
       "Adaptability                        0.55               0.48          1.00   \n",
       "Focus                               0.54               0.49          0.59   \n",
       "total_score                         0.16               0.19          0.11   \n",
       "cat_1                               0.15               0.17          0.11   \n",
       "cat_2                               0.18               0.20          0.13   \n",
       "cat_3                               0.10               0.12          0.05   \n",
       "cat_4                               0.16               0.19          0.11   \n",
       "cat_5                              -0.04              -0.05         -0.00   \n",
       "cat_6                               0.16               0.19          0.11   \n",
       "score_rating                        0.16               0.16          0.11   \n",
       "rating_1                            0.02               0.05         -0.01   \n",
       "rating_2                            0.09               0.07          0.09   \n",
       "rating_3                            0.08               0.08         -0.01   \n",
       "rating_4                            0.16               0.15          0.13   \n",
       "rating_5                           -0.01               0.02          0.06   \n",
       "rating_6                            0.16               0.16          0.11   \n",
       "\n",
       "                     Focus  total_score  cat_1  cat_2  cat_3  cat_4  cat_5  \\\n",
       "Analytical thinking   0.54         0.16   0.15   0.18   0.10   0.16  -0.04   \n",
       "Systemic thinking     0.49         0.19   0.17   0.20   0.12   0.19  -0.05   \n",
       "Adaptability          0.59         0.11   0.11   0.13   0.05   0.11  -0.00   \n",
       "Focus                 1.00         0.08   0.07   0.09   0.06   0.08  -0.01   \n",
       "total_score           0.08         1.00   0.96   0.97   0.75   0.92   0.02   \n",
       "cat_1                 0.07         0.96   1.00   0.93   0.65   0.86   0.06   \n",
       "cat_2                 0.09         0.97   0.93   1.00   0.64   0.89  -0.04   \n",
       "cat_3                 0.06         0.75   0.65   0.64   1.00   0.61  -0.40   \n",
       "cat_4                 0.08         0.92   0.86   0.89   0.61   1.00   0.03   \n",
       "cat_5                -0.01         0.02   0.06  -0.04  -0.40   0.03   1.00   \n",
       "cat_6                 0.08         1.00   0.96   0.97   0.75   0.92   0.02   \n",
       "score_rating          0.11         0.77   0.70   0.78   0.56   0.70   0.04   \n",
       "rating_1              0.04         0.27   0.25   0.29   0.21   0.24  -0.06   \n",
       "rating_2              0.03         0.30   0.28   0.31   0.18   0.27   0.03   \n",
       "rating_3              0.06         0.53   0.45   0.44   0.71   0.40  -0.17   \n",
       "rating_4              0.12         0.67   0.58   0.67   0.42   0.74   0.07   \n",
       "rating_5              0.06         0.19   0.20   0.15  -0.17   0.22   0.66   \n",
       "rating_6              0.11         0.77   0.70   0.78   0.56   0.70   0.04   \n",
       "\n",
       "                     cat_6  score_rating  rating_1  rating_2  rating_3  \\\n",
       "Analytical thinking   0.16          0.16      0.02      0.09      0.08   \n",
       "Systemic thinking     0.19          0.16      0.05      0.07      0.08   \n",
       "Adaptability          0.11          0.11     -0.01      0.09     -0.01   \n",
       "Focus                 0.08          0.11      0.04      0.03      0.06   \n",
       "total_score           1.00          0.77      0.27      0.30      0.53   \n",
       "cat_1                 0.96          0.70      0.25      0.28      0.45   \n",
       "cat_2                 0.97          0.78      0.29      0.31      0.44   \n",
       "cat_3                 0.75          0.56      0.21      0.18      0.71   \n",
       "cat_4                 0.92          0.70      0.24      0.27      0.40   \n",
       "cat_5                 0.02          0.04     -0.06      0.03     -0.17   \n",
       "cat_6                 1.00          0.77      0.27      0.30      0.53   \n",
       "score_rating          0.77          1.00      0.18      0.43      0.59   \n",
       "rating_1              0.27          0.18      1.00     -0.77      0.12   \n",
       "rating_2              0.30          0.43     -0.77      1.00      0.18   \n",
       "rating_3              0.53          0.59      0.12      0.18      1.00   \n",
       "rating_4              0.67          0.85      0.09      0.41      0.38   \n",
       "rating_5              0.19          0.16     -0.09      0.15     -0.20   \n",
       "rating_6              0.77          1.00      0.18      0.43      0.59   \n",
       "\n",
       "                     rating_4  rating_5  rating_6  \n",
       "Analytical thinking      0.16     -0.01      0.16  \n",
       "Systemic thinking        0.15      0.02      0.16  \n",
       "Adaptability             0.13      0.06      0.11  \n",
       "Focus                    0.12      0.06      0.11  \n",
       "total_score              0.67      0.19      0.77  \n",
       "cat_1                    0.58      0.20      0.70  \n",
       "cat_2                    0.67      0.15      0.78  \n",
       "cat_3                    0.42     -0.17      0.56  \n",
       "cat_4                    0.74      0.22      0.70  \n",
       "cat_5                    0.07      0.66      0.04  \n",
       "cat_6                    0.67      0.19      0.77  \n",
       "score_rating             0.85      0.16      1.00  \n",
       "rating_1                 0.09     -0.09      0.18  \n",
       "rating_2                 0.41      0.15      0.43  \n",
       "rating_3                 0.38     -0.20      0.59  \n",
       "rating_4                 1.00      0.17      0.85  \n",
       "rating_5                 0.17      1.00      0.16  \n",
       "rating_6                 0.85      0.16      1.00  "
      ]
     },
     "execution_count": 2965,
     "metadata": {},
     "output_type": "execute_result"
    }
   ],
   "source": [
    "df_score.drop(['game_id'], axis=1).corr()"
   ]
  },
  {
   "cell_type": "code",
   "execution_count": 2966,
   "id": "22a25920",
   "metadata": {
    "scrolled": true
   },
   "outputs": [
    {
     "data": {
      "image/png": "[encoded data removed]",
      "text/plain": [
       "<Figure size 800x600 with 4 Axes>"
      ]
     },
     "metadata": {},
     "output_type": "display_data"
    }
   ],
   "source": [
    "fig, axes = plt.subplots(nrows = 2, ncols =2 )\n",
    "\n",
    "fig .set_size_inches(8, 6)\n",
    "\n",
    "name_score = df_score.drop(col_drop, axis = 1).columns.unique()\n",
    "\n",
    "for k in range(len(name_score)):\n",
    "    i = np.floor(k/2)\n",
    "    i = i.astype(int)\n",
    "    j = k - i*2\n",
    "    j = j.astype(int)\n",
    "        \n",
    "    axes[i,j].set(title=name_score[k])\n",
    "       \n",
    "    axes[i,j].set_xlim(0,1.1) #сделаем одну шкалу\n",
    "   \n",
    "    axes[i,j].set_yticks([1, 2, 3, 4, 5, 6])\n",
    "    axes[i,j].scatter(x=df_score['score_rating'], y = df_score[name_score[k]], alpha=0.5)\n",
    "    \n",
    "plt.suptitle('Зависимость уровня компетенции от рейтинга команды в игре', x=0.5, y=1)\n",
    "plt.show()"
   ]
  },
  {
   "cell_type": "code",
   "execution_count": null,
   "id": "da3968c4",
   "metadata": {},
   "outputs": [],
   "source": []
  },
  {
   "cell_type": "markdown",
   "id": "ae87ebfd",
   "metadata": {},
   "source": [
    "**Распределение таргета**"
   ]
  },
  {
   "cell_type": "code",
   "execution_count": 2967,
   "id": "bac7a288",
   "metadata": {},
   "outputs": [
    {
     "data": {
      "image/png": "[encoded data removed]",
      "text/plain": [
       "<Figure size 800x600 with 4 Axes>"
      ]
     },
     "metadata": {},
     "output_type": "display_data"
    }
   ],
   "source": [
    "fig, axes = plt.subplots(nrows = 2, ncols =2 )\n",
    "\n",
    "fig .set_size_inches(8, 6)\n",
    "\n",
    "name_score = df.drop('id', axis = 1).columns.unique()\n",
    "\n",
    "for k in range(len(name_score)):\n",
    "    i = np.floor(k/2)\n",
    "    i = i.astype(int)\n",
    "    j = k - i*2\n",
    "    j = j.astype(int)\n",
    "        \n",
    "    axes[i,j].set(title=name_score[k])\n",
    "       \n",
    "    axes[i,j].set_ylim(0,500) #сделаем одну шкалу\n",
    "   \n",
    "    axes[i,j].set_xticks([1, 2, 3, 4, 5, 6])\n",
    "    axes[i,j].hist(df[name_score[k]])\n",
    "    \n",
    "plt.suptitle('Оценки по компетенциям', x=0.5, y=1)\n",
    "plt.show()"
   ]
  },
  {
   "cell_type": "markdown",
   "id": "23bcafe9",
   "metadata": {},
   "source": [
    "## Модель OHE-решений"
   ]
  },
  {
   "cell_type": "code",
   "execution_count": 2968,
   "id": "e4cb8e4d",
   "metadata": {
    "scrolled": true
   },
   "outputs": [
    {
     "data": {
      "text/plain": [
       "count   60,228.00\n",
       "mean       210.20\n",
       "std        130.66\n",
       "min          1.00\n",
       "25%         92.00\n",
       "50%        181.00\n",
       "75%        326.00\n",
       "max        437.00\n",
       "Name: decision_id, dtype: float64"
      ]
     },
     "execution_count": 2968,
     "metadata": {},
     "output_type": "execute_result"
    }
   ],
   "source": [
    "user_decision['decision_id'].describe()"
   ]
  },
  {
   "cell_type": "code",
   "execution_count": 2969,
   "id": "8a6a2bb9",
   "metadata": {
    "scrolled": true
   },
   "outputs": [
    {
     "data": {
      "text/html": [
       "<div>\n",
       "<style scoped>\n",
       "    .dataframe tbody tr th:only-of-type {\n",
       "        vertical-align: middle;\n",
       "    }\n",
       "\n",
       "    .dataframe tbody tr th {\n",
       "        vertical-align: top;\n",
       "    }\n",
       "\n",
       "    .dataframe thead th {\n",
       "        text-align: right;\n",
       "    }\n",
       "</style>\n",
       "<table border=\"1\" class=\"dataframe\">\n",
       "  <thead>\n",
       "    <tr style=\"text-align: right;\">\n",
       "      <th></th>\n",
       "      <th>user_id</th>\n",
       "      <th>period</th>\n",
       "      <th>decision_id</th>\n",
       "    </tr>\n",
       "  </thead>\n",
       "  <tbody>\n",
       "    <tr>\n",
       "      <th>0</th>\n",
       "      <td>10625</td>\n",
       "      <td>1</td>\n",
       "      <td>409</td>\n",
       "    </tr>\n",
       "    <tr>\n",
       "      <th>1</th>\n",
       "      <td>10318</td>\n",
       "      <td>3</td>\n",
       "      <td>203</td>\n",
       "    </tr>\n",
       "    <tr>\n",
       "      <th>2</th>\n",
       "      <td>10775</td>\n",
       "      <td>4</td>\n",
       "      <td>420</td>\n",
       "    </tr>\n",
       "    <tr>\n",
       "      <th>3</th>\n",
       "      <td>10236</td>\n",
       "      <td>2</td>\n",
       "      <td>284</td>\n",
       "    </tr>\n",
       "    <tr>\n",
       "      <th>4</th>\n",
       "      <td>10130</td>\n",
       "      <td>3</td>\n",
       "      <td>72</td>\n",
       "    </tr>\n",
       "  </tbody>\n",
       "</table>\n",
       "</div>"
      ],
      "text/plain": [
       "   user_id  period  decision_id\n",
       "0    10625       1          409\n",
       "1    10318       3          203\n",
       "2    10775       4          420\n",
       "3    10236       2          284\n",
       "4    10130       3           72"
      ]
     },
     "execution_count": 2969,
     "metadata": {},
     "output_type": "execute_result"
    }
   ],
   "source": [
    "user_decision.head()"
   ]
  },
  {
   "cell_type": "code",
   "execution_count": 2970,
   "id": "1ba6543c",
   "metadata": {},
   "outputs": [],
   "source": [
    "ud = user_decision"
   ]
  },
  {
   "cell_type": "code",
   "execution_count": 2971,
   "id": "18444d59",
   "metadata": {},
   "outputs": [],
   "source": [
    "ud = ud.set_index('decision_id').join(decision.set_index('decision_id'), on = 'decision_id', how = 'left').reset_index()"
   ]
  },
  {
   "cell_type": "code",
   "execution_count": 2972,
   "id": "85d76a47",
   "metadata": {
    "scrolled": true
   },
   "outputs": [
    {
     "data": {
      "text/html": [
       "<div>\n",
       "<style scoped>\n",
       "    .dataframe tbody tr th:only-of-type {\n",
       "        vertical-align: middle;\n",
       "    }\n",
       "\n",
       "    .dataframe tbody tr th {\n",
       "        vertical-align: top;\n",
       "    }\n",
       "\n",
       "    .dataframe thead th {\n",
       "        text-align: right;\n",
       "    }\n",
       "</style>\n",
       "<table border=\"1\" class=\"dataframe\">\n",
       "  <thead>\n",
       "    <tr style=\"text-align: right;\">\n",
       "      <th></th>\n",
       "      <th>decision_id</th>\n",
       "      <th>user_id</th>\n",
       "      <th>period</th>\n",
       "      <th>decision_name</th>\n",
       "    </tr>\n",
       "  </thead>\n",
       "  <tbody>\n",
       "    <tr>\n",
       "      <th>0</th>\n",
       "      <td>409</td>\n",
       "      <td>10625</td>\n",
       "      <td>1</td>\n",
       "      <td>Sending Engineers on training courses</td>\n",
       "    </tr>\n",
       "    <tr>\n",
       "      <th>1</th>\n",
       "      <td>203</td>\n",
       "      <td>10318</td>\n",
       "      <td>3</td>\n",
       "      <td>Sell overdue 30&gt;d accounts receivable, which a...</td>\n",
       "    </tr>\n",
       "    <tr>\n",
       "      <th>2</th>\n",
       "      <td>420</td>\n",
       "      <td>10775</td>\n",
       "      <td>4</td>\n",
       "      <td>Quality of the purchased materials Packing mat...</td>\n",
       "    </tr>\n",
       "    <tr>\n",
       "      <th>3</th>\n",
       "      <td>284</td>\n",
       "      <td>10236</td>\n",
       "      <td>2</td>\n",
       "      <td>Improvement of the technology of entrance control</td>\n",
       "    </tr>\n",
       "    <tr>\n",
       "      <th>4</th>\n",
       "      <td>72</td>\n",
       "      <td>10130</td>\n",
       "      <td>3</td>\n",
       "      <td>Education of the dealersвЂ™ sales staff</td>\n",
       "    </tr>\n",
       "  </tbody>\n",
       "</table>\n",
       "</div>"
      ],
      "text/plain": [
       "   decision_id  user_id  period  \\\n",
       "0          409    10625       1   \n",
       "1          203    10318       3   \n",
       "2          420    10775       4   \n",
       "3          284    10236       2   \n",
       "4           72    10130       3   \n",
       "\n",
       "                                       decision_name  \n",
       "0              Sending Engineers on training courses  \n",
       "1  Sell overdue 30>d accounts receivable, which a...  \n",
       "2  Quality of the purchased materials Packing mat...  \n",
       "3  Improvement of the technology of entrance control  \n",
       "4            Education of the dealersвЂ™ sales staff  "
      ]
     },
     "execution_count": 2972,
     "metadata": {},
     "output_type": "execute_result"
    }
   ],
   "source": [
    "ud.head()"
   ]
  },
  {
   "cell_type": "code",
   "execution_count": 2973,
   "id": "7e6be893",
   "metadata": {},
   "outputs": [
    {
     "data": {
      "text/plain": [
       "(60228, 4)"
      ]
     },
     "execution_count": 2973,
     "metadata": {},
     "output_type": "execute_result"
    }
   ],
   "source": [
    "ud.shape"
   ]
  },
  {
   "cell_type": "code",
   "execution_count": 2974,
   "id": "a22ffafa",
   "metadata": {},
   "outputs": [],
   "source": [
    "for col in range(1, 439):\n",
    "    col_name = str(col)\n",
    "    ud[col_name] = col\n",
    "    "
   ]
  },
  {
   "cell_type": "code",
   "execution_count": 2975,
   "id": "34c47699",
   "metadata": {
    "scrolled": true
   },
   "outputs": [],
   "source": [
    "def ohe(col_name):\n",
    "    if col_name == number_decision:\n",
    "        return 1\n",
    "    else:\n",
    "        return 0"
   ]
  },
  {
   "cell_type": "code",
   "execution_count": 2976,
   "id": "9b8381f4",
   "metadata": {},
   "outputs": [],
   "source": [
    "for col in range(1, 439):\n",
    "    col_name = str(col)\n",
    "    number_decision = col\n",
    "    ud[col_name] = ud['decision_id'].apply(ohe)"
   ]
  },
  {
   "cell_type": "code",
   "execution_count": 2977,
   "id": "ff9f6e9c",
   "metadata": {
    "scrolled": true
   },
   "outputs": [
    {
     "data": {
      "text/plain": [
       "decision_id      0\n",
       "user_id          0\n",
       "period           0\n",
       "decision_name    0\n",
       "1                0\n",
       "                ..\n",
       "434              0\n",
       "435              0\n",
       "436              0\n",
       "437              0\n",
       "438              0\n",
       "Length: 442, dtype: int64"
      ]
     },
     "execution_count": 2977,
     "metadata": {},
     "output_type": "execute_result"
    }
   ],
   "source": [
    "ud.isna().sum()"
   ]
  },
  {
   "cell_type": "code",
   "execution_count": 2978,
   "id": "fdc3aaf8",
   "metadata": {},
   "outputs": [
    {
     "data": {
      "text/plain": [
       "(60228, 442)"
      ]
     },
     "execution_count": 2978,
     "metadata": {},
     "output_type": "execute_result"
    }
   ],
   "source": [
    "ud.shape"
   ]
  },
  {
   "cell_type": "code",
   "execution_count": 2979,
   "id": "d62f3191",
   "metadata": {
    "scrolled": false
   },
   "outputs": [
    {
     "data": {
      "text/html": [
       "<div>\n",
       "<style scoped>\n",
       "    .dataframe tbody tr th:only-of-type {\n",
       "        vertical-align: middle;\n",
       "    }\n",
       "\n",
       "    .dataframe tbody tr th {\n",
       "        vertical-align: top;\n",
       "    }\n",
       "\n",
       "    .dataframe thead th {\n",
       "        text-align: right;\n",
       "    }\n",
       "</style>\n",
       "<table border=\"1\" class=\"dataframe\">\n",
       "  <thead>\n",
       "    <tr style=\"text-align: right;\">\n",
       "      <th></th>\n",
       "      <th>decision_id</th>\n",
       "      <th>user_id</th>\n",
       "      <th>period</th>\n",
       "      <th>decision_name</th>\n",
       "      <th>1</th>\n",
       "      <th>2</th>\n",
       "      <th>3</th>\n",
       "      <th>4</th>\n",
       "      <th>5</th>\n",
       "      <th>6</th>\n",
       "      <th>...</th>\n",
       "      <th>429</th>\n",
       "      <th>430</th>\n",
       "      <th>431</th>\n",
       "      <th>432</th>\n",
       "      <th>433</th>\n",
       "      <th>434</th>\n",
       "      <th>435</th>\n",
       "      <th>436</th>\n",
       "      <th>437</th>\n",
       "      <th>438</th>\n",
       "    </tr>\n",
       "  </thead>\n",
       "  <tbody>\n",
       "    <tr>\n",
       "      <th>60223</th>\n",
       "      <td>329</td>\n",
       "      <td>10312</td>\n",
       "      <td>3</td>\n",
       "      <td>Increase in energy efficiency of equipment</td>\n",
       "      <td>0</td>\n",
       "      <td>0</td>\n",
       "      <td>0</td>\n",
       "      <td>0</td>\n",
       "      <td>0</td>\n",
       "      <td>0</td>\n",
       "      <td>...</td>\n",
       "      <td>0</td>\n",
       "      <td>0</td>\n",
       "      <td>0</td>\n",
       "      <td>0</td>\n",
       "      <td>0</td>\n",
       "      <td>0</td>\n",
       "      <td>0</td>\n",
       "      <td>0</td>\n",
       "      <td>0</td>\n",
       "      <td>0</td>\n",
       "    </tr>\n",
       "    <tr>\n",
       "      <th>60224</th>\n",
       "      <td>33</td>\n",
       "      <td>10189</td>\n",
       "      <td>1</td>\n",
       "      <td>[Ltd вЂњAdvrt AgencyвЂќ] Audit of companyвЂ™s ...</td>\n",
       "      <td>0</td>\n",
       "      <td>0</td>\n",
       "      <td>0</td>\n",
       "      <td>0</td>\n",
       "      <td>0</td>\n",
       "      <td>0</td>\n",
       "      <td>...</td>\n",
       "      <td>0</td>\n",
       "      <td>0</td>\n",
       "      <td>0</td>\n",
       "      <td>0</td>\n",
       "      <td>0</td>\n",
       "      <td>0</td>\n",
       "      <td>0</td>\n",
       "      <td>0</td>\n",
       "      <td>0</td>\n",
       "      <td>0</td>\n",
       "    </tr>\n",
       "    <tr>\n",
       "      <th>60225</th>\n",
       "      <td>123</td>\n",
       "      <td>10346</td>\n",
       "      <td>3</td>\n",
       "      <td>Hiring engineers among university graduates</td>\n",
       "      <td>0</td>\n",
       "      <td>0</td>\n",
       "      <td>0</td>\n",
       "      <td>0</td>\n",
       "      <td>0</td>\n",
       "      <td>0</td>\n",
       "      <td>...</td>\n",
       "      <td>0</td>\n",
       "      <td>0</td>\n",
       "      <td>0</td>\n",
       "      <td>0</td>\n",
       "      <td>0</td>\n",
       "      <td>0</td>\n",
       "      <td>0</td>\n",
       "      <td>0</td>\n",
       "      <td>0</td>\n",
       "      <td>0</td>\n",
       "    </tr>\n",
       "    <tr>\n",
       "      <th>60226</th>\n",
       "      <td>140</td>\n",
       "      <td>10424</td>\n",
       "      <td>2</td>\n",
       "      <td>Bonuses for innovation and rationalization of ...</td>\n",
       "      <td>0</td>\n",
       "      <td>0</td>\n",
       "      <td>0</td>\n",
       "      <td>0</td>\n",
       "      <td>0</td>\n",
       "      <td>0</td>\n",
       "      <td>...</td>\n",
       "      <td>0</td>\n",
       "      <td>0</td>\n",
       "      <td>0</td>\n",
       "      <td>0</td>\n",
       "      <td>0</td>\n",
       "      <td>0</td>\n",
       "      <td>0</td>\n",
       "      <td>0</td>\n",
       "      <td>0</td>\n",
       "      <td>0</td>\n",
       "    </tr>\n",
       "    <tr>\n",
       "      <th>60227</th>\n",
       "      <td>405</td>\n",
       "      <td>10050</td>\n",
       "      <td>3</td>\n",
       "      <td>Managers salary</td>\n",
       "      <td>0</td>\n",
       "      <td>0</td>\n",
       "      <td>0</td>\n",
       "      <td>0</td>\n",
       "      <td>0</td>\n",
       "      <td>0</td>\n",
       "      <td>...</td>\n",
       "      <td>0</td>\n",
       "      <td>0</td>\n",
       "      <td>0</td>\n",
       "      <td>0</td>\n",
       "      <td>0</td>\n",
       "      <td>0</td>\n",
       "      <td>0</td>\n",
       "      <td>0</td>\n",
       "      <td>0</td>\n",
       "      <td>0</td>\n",
       "    </tr>\n",
       "  </tbody>\n",
       "</table>\n",
       "<p>5 rows × 442 columns</p>\n",
       "</div>"
      ],
      "text/plain": [
       "       decision_id  user_id  period  \\\n",
       "60223          329    10312       3   \n",
       "60224           33    10189       1   \n",
       "60225          123    10346       3   \n",
       "60226          140    10424       2   \n",
       "60227          405    10050       3   \n",
       "\n",
       "                                           decision_name  1  2  3  4  5  6  \\\n",
       "60223         Increase in energy efficiency of equipment  0  0  0  0  0  0   \n",
       "60224  [Ltd вЂњAdvrt AgencyвЂќ] Audit of companyвЂ™s ...  0  0  0  0  0  0   \n",
       "60225        Hiring engineers among university graduates  0  0  0  0  0  0   \n",
       "60226  Bonuses for innovation and rationalization of ...  0  0  0  0  0  0   \n",
       "60227                                    Managers salary  0  0  0  0  0  0   \n",
       "\n",
       "       ...  429  430  431  432  433  434  435  436  437  438  \n",
       "60223  ...    0    0    0    0    0    0    0    0    0    0  \n",
       "60224  ...    0    0    0    0    0    0    0    0    0    0  \n",
       "60225  ...    0    0    0    0    0    0    0    0    0    0  \n",
       "60226  ...    0    0    0    0    0    0    0    0    0    0  \n",
       "60227  ...    0    0    0    0    0    0    0    0    0    0  \n",
       "\n",
       "[5 rows x 442 columns]"
      ]
     },
     "execution_count": 2979,
     "metadata": {},
     "output_type": "execute_result"
    }
   ],
   "source": [
    "ud.tail()"
   ]
  },
  {
   "cell_type": "code",
   "execution_count": 2980,
   "id": "c0106acc",
   "metadata": {},
   "outputs": [],
   "source": [
    "df_1 = df.set_index('id').join(ud.set_index('user_id'), how = 'left').reset_index()"
   ]
  },
  {
   "cell_type": "code",
   "execution_count": 2981,
   "id": "e54e38e9",
   "metadata": {},
   "outputs": [
    {
     "data": {
      "text/html": [
       "<div>\n",
       "<style scoped>\n",
       "    .dataframe tbody tr th:only-of-type {\n",
       "        vertical-align: middle;\n",
       "    }\n",
       "\n",
       "    .dataframe tbody tr th {\n",
       "        vertical-align: top;\n",
       "    }\n",
       "\n",
       "    .dataframe thead th {\n",
       "        text-align: right;\n",
       "    }\n",
       "</style>\n",
       "<table border=\"1\" class=\"dataframe\">\n",
       "  <thead>\n",
       "    <tr style=\"text-align: right;\">\n",
       "      <th></th>\n",
       "      <th>index</th>\n",
       "      <th>Analytical thinking</th>\n",
       "      <th>Systemic thinking</th>\n",
       "      <th>Adaptability</th>\n",
       "      <th>Focus</th>\n",
       "      <th>decision_id</th>\n",
       "      <th>period</th>\n",
       "      <th>decision_name</th>\n",
       "      <th>1</th>\n",
       "      <th>2</th>\n",
       "      <th>...</th>\n",
       "      <th>429</th>\n",
       "      <th>430</th>\n",
       "      <th>431</th>\n",
       "      <th>432</th>\n",
       "      <th>433</th>\n",
       "      <th>434</th>\n",
       "      <th>435</th>\n",
       "      <th>436</th>\n",
       "      <th>437</th>\n",
       "      <th>438</th>\n",
       "    </tr>\n",
       "  </thead>\n",
       "  <tbody>\n",
       "    <tr>\n",
       "      <th>0</th>\n",
       "      <td>10001</td>\n",
       "      <td>4.00</td>\n",
       "      <td>4.00</td>\n",
       "      <td>5.00</td>\n",
       "      <td>4.00</td>\n",
       "      <td>126</td>\n",
       "      <td>4</td>\n",
       "      <td>Engineers qualification</td>\n",
       "      <td>0</td>\n",
       "      <td>0</td>\n",
       "      <td>...</td>\n",
       "      <td>0</td>\n",
       "      <td>0</td>\n",
       "      <td>0</td>\n",
       "      <td>0</td>\n",
       "      <td>0</td>\n",
       "      <td>0</td>\n",
       "      <td>0</td>\n",
       "      <td>0</td>\n",
       "      <td>0</td>\n",
       "      <td>0</td>\n",
       "    </tr>\n",
       "    <tr>\n",
       "      <th>1</th>\n",
       "      <td>10001</td>\n",
       "      <td>4.00</td>\n",
       "      <td>4.00</td>\n",
       "      <td>5.00</td>\n",
       "      <td>4.00</td>\n",
       "      <td>175</td>\n",
       "      <td>3</td>\n",
       "      <td>Evaluation of the characteristic Moral qualiti...</td>\n",
       "      <td>0</td>\n",
       "      <td>0</td>\n",
       "      <td>...</td>\n",
       "      <td>0</td>\n",
       "      <td>0</td>\n",
       "      <td>0</td>\n",
       "      <td>0</td>\n",
       "      <td>0</td>\n",
       "      <td>0</td>\n",
       "      <td>0</td>\n",
       "      <td>0</td>\n",
       "      <td>0</td>\n",
       "      <td>0</td>\n",
       "    </tr>\n",
       "    <tr>\n",
       "      <th>2</th>\n",
       "      <td>10001</td>\n",
       "      <td>4.00</td>\n",
       "      <td>4.00</td>\n",
       "      <td>5.00</td>\n",
       "      <td>4.00</td>\n",
       "      <td>165</td>\n",
       "      <td>3</td>\n",
       "      <td>Sending staff on short-term courses of time ma...</td>\n",
       "      <td>0</td>\n",
       "      <td>0</td>\n",
       "      <td>...</td>\n",
       "      <td>0</td>\n",
       "      <td>0</td>\n",
       "      <td>0</td>\n",
       "      <td>0</td>\n",
       "      <td>0</td>\n",
       "      <td>0</td>\n",
       "      <td>0</td>\n",
       "      <td>0</td>\n",
       "      <td>0</td>\n",
       "      <td>0</td>\n",
       "    </tr>\n",
       "  </tbody>\n",
       "</table>\n",
       "<p>3 rows × 446 columns</p>\n",
       "</div>"
      ],
      "text/plain": [
       "   index  Analytical thinking  Systemic thinking  Adaptability  Focus  \\\n",
       "0  10001                 4.00               4.00          5.00   4.00   \n",
       "1  10001                 4.00               4.00          5.00   4.00   \n",
       "2  10001                 4.00               4.00          5.00   4.00   \n",
       "\n",
       "   decision_id  period                                      decision_name  1  \\\n",
       "0          126       4                            Engineers qualification  0   \n",
       "1          175       3  Evaluation of the characteristic Moral qualiti...  0   \n",
       "2          165       3  Sending staff on short-term courses of time ma...  0   \n",
       "\n",
       "   2  ...  429  430  431  432  433  434  435  436  437  438  \n",
       "0  0  ...    0    0    0    0    0    0    0    0    0    0  \n",
       "1  0  ...    0    0    0    0    0    0    0    0    0    0  \n",
       "2  0  ...    0    0    0    0    0    0    0    0    0    0  \n",
       "\n",
       "[3 rows x 446 columns]"
      ]
     },
     "execution_count": 2981,
     "metadata": {},
     "output_type": "execute_result"
    }
   ],
   "source": [
    "df_1.head(3)"
   ]
  },
  {
   "cell_type": "code",
   "execution_count": 2982,
   "id": "ba8d3678",
   "metadata": {},
   "outputs": [],
   "source": [
    "df_1 = df_1.groupby('index').max()"
   ]
  },
  {
   "cell_type": "code",
   "execution_count": 2983,
   "id": "422e399b",
   "metadata": {
    "scrolled": false
   },
   "outputs": [
    {
     "data": {
      "text/html": [
       "<div>\n",
       "<style scoped>\n",
       "    .dataframe tbody tr th:only-of-type {\n",
       "        vertical-align: middle;\n",
       "    }\n",
       "\n",
       "    .dataframe tbody tr th {\n",
       "        vertical-align: top;\n",
       "    }\n",
       "\n",
       "    .dataframe thead th {\n",
       "        text-align: right;\n",
       "    }\n",
       "</style>\n",
       "<table border=\"1\" class=\"dataframe\">\n",
       "  <thead>\n",
       "    <tr style=\"text-align: right;\">\n",
       "      <th></th>\n",
       "      <th>Analytical thinking</th>\n",
       "      <th>Systemic thinking</th>\n",
       "      <th>Adaptability</th>\n",
       "      <th>Focus</th>\n",
       "      <th>1</th>\n",
       "      <th>2</th>\n",
       "      <th>3</th>\n",
       "      <th>4</th>\n",
       "      <th>5</th>\n",
       "      <th>6</th>\n",
       "      <th>...</th>\n",
       "      <th>429</th>\n",
       "      <th>430</th>\n",
       "      <th>431</th>\n",
       "      <th>432</th>\n",
       "      <th>433</th>\n",
       "      <th>434</th>\n",
       "      <th>435</th>\n",
       "      <th>436</th>\n",
       "      <th>437</th>\n",
       "      <th>438</th>\n",
       "    </tr>\n",
       "    <tr>\n",
       "      <th>index</th>\n",
       "      <th></th>\n",
       "      <th></th>\n",
       "      <th></th>\n",
       "      <th></th>\n",
       "      <th></th>\n",
       "      <th></th>\n",
       "      <th></th>\n",
       "      <th></th>\n",
       "      <th></th>\n",
       "      <th></th>\n",
       "      <th></th>\n",
       "      <th></th>\n",
       "      <th></th>\n",
       "      <th></th>\n",
       "      <th></th>\n",
       "      <th></th>\n",
       "      <th></th>\n",
       "      <th></th>\n",
       "      <th></th>\n",
       "      <th></th>\n",
       "      <th></th>\n",
       "    </tr>\n",
       "  </thead>\n",
       "  <tbody>\n",
       "    <tr>\n",
       "      <th>10001</th>\n",
       "      <td>4.00</td>\n",
       "      <td>4.00</td>\n",
       "      <td>5.00</td>\n",
       "      <td>4.00</td>\n",
       "      <td>1</td>\n",
       "      <td>0</td>\n",
       "      <td>0</td>\n",
       "      <td>1</td>\n",
       "      <td>0</td>\n",
       "      <td>1</td>\n",
       "      <td>...</td>\n",
       "      <td>0</td>\n",
       "      <td>0</td>\n",
       "      <td>0</td>\n",
       "      <td>0</td>\n",
       "      <td>0</td>\n",
       "      <td>0</td>\n",
       "      <td>0</td>\n",
       "      <td>0</td>\n",
       "      <td>0</td>\n",
       "      <td>0</td>\n",
       "    </tr>\n",
       "  </tbody>\n",
       "</table>\n",
       "<p>1 rows × 442 columns</p>\n",
       "</div>"
      ],
      "text/plain": [
       "       Analytical thinking  Systemic thinking  Adaptability  Focus  1  2  3  \\\n",
       "index                                                                         \n",
       "10001                 4.00               4.00          5.00   4.00  1  0  0   \n",
       "\n",
       "       4  5  6  ...  429  430  431  432  433  434  435  436  437  438  \n",
       "index           ...                                                    \n",
       "10001  1  0  1  ...    0    0    0    0    0    0    0    0    0    0  \n",
       "\n",
       "[1 rows x 442 columns]"
      ]
     },
     "execution_count": 2983,
     "metadata": {},
     "output_type": "execute_result"
    }
   ],
   "source": [
    "df_1 = df_1.drop(['decision_id','period','decision_name'], axis=1)\n",
    "df_1.head(1)"
   ]
  },
  {
   "cell_type": "markdown",
   "id": "b9c97109",
   "metadata": {},
   "source": [
    "**Подбор весов для индивидуальных решений**"
   ]
  },
  {
   "cell_type": "code",
   "execution_count": 2984,
   "id": "d1f5348f",
   "metadata": {},
   "outputs": [],
   "source": [
    "df_2 = df_1\n",
    "df_3 = df_1\n",
    "df_4 = df_1"
   ]
  },
  {
   "cell_type": "markdown",
   "id": "7aaf279f",
   "metadata": {},
   "source": [
    "**Analytical thinking**"
   ]
  },
  {
   "cell_type": "code",
   "execution_count": 2985,
   "id": "1302bfc8",
   "metadata": {
    "scrolled": true
   },
   "outputs": [],
   "source": [
    "list_dec_1 = []\n",
    "for i in range(1, 438):\n",
    "    cor = df_1['Analytical thinking'].corr(df_1[str(i)]) ** 2\n",
    "    list_dec_1.append({'i': i, \n",
    "                   'corr' : cor})\n",
    "list_dec_1 = pd.DataFrame(list_dec_1).set_index('i')\n",
    "list_dec_1['corr'] = list_dec_1['corr'].fillna(0)"
   ]
  },
  {
   "cell_type": "code",
   "execution_count": 2986,
   "id": "2dd04e8b",
   "metadata": {},
   "outputs": [],
   "source": [
    "for i in range(1, 438):\n",
    "    if i in list_dec_1.index:\n",
    "        corr = list_dec_1['corr'].loc[i]\n",
    "        df_1[str(i)] = df_1[str(i)] * corr  \n",
    "    else:\n",
    "        continue    "
   ]
  },
  {
   "cell_type": "markdown",
   "id": "6626a474",
   "metadata": {},
   "source": [
    "**Systemic thinking**"
   ]
  },
  {
   "cell_type": "code",
   "execution_count": 2987,
   "id": "e55c4aa9",
   "metadata": {
    "scrolled": true
   },
   "outputs": [],
   "source": [
    "list_dec_2 = []\n",
    "for i in range(1, 438):\n",
    "    cor = df_2['Systemic thinking'].corr(df_2[str(i)]) ** 2\n",
    "    list_dec_2.append({'i': i, \n",
    "                   'corr' : cor})\n",
    "list_dec_2 = pd.DataFrame(list_dec_2).set_index('i')\n",
    "list_dec_2['corr'] = list_dec_2['corr'].fillna(0)"
   ]
  },
  {
   "cell_type": "code",
   "execution_count": 2988,
   "id": "ff131c8f",
   "metadata": {},
   "outputs": [],
   "source": [
    "for i in range(1, 438):\n",
    "    if i in list_dec_2.index:\n",
    "        corr = list_dec_2['corr'].loc[i]\n",
    "        df_2[str(i)] = df_2[str(i)] * corr  \n",
    "    else:\n",
    "        continue    "
   ]
  },
  {
   "cell_type": "markdown",
   "id": "ca7af47a",
   "metadata": {},
   "source": [
    "**Adaptability**"
   ]
  },
  {
   "cell_type": "code",
   "execution_count": 2989,
   "id": "6e8b349d",
   "metadata": {
    "scrolled": true
   },
   "outputs": [],
   "source": [
    "list_dec_3 = []\n",
    "for i in range(1, 438):\n",
    "    cor = df_3['Adaptability'].corr(df_3[str(i)]) ** 2\n",
    "    list_dec_3.append({'i': i, \n",
    "                   'corr' : cor})\n",
    "list_dec_3 = pd.DataFrame(list_dec_3).set_index('i')\n",
    "list_dec_3['corr'] = list_dec_3['corr'].fillna(0)"
   ]
  },
  {
   "cell_type": "code",
   "execution_count": 2990,
   "id": "63020537",
   "metadata": {},
   "outputs": [],
   "source": [
    "for i in range(1, 438):\n",
    "    if i in list_dec_3.index:\n",
    "        corr = list_dec_3['corr'].loc[i]\n",
    "        df_3[str(i)] = df_3[str(i)] * corr  \n",
    "    else:\n",
    "        continue    "
   ]
  },
  {
   "cell_type": "markdown",
   "id": "b8c6a3e2",
   "metadata": {},
   "source": [
    "**Focus**"
   ]
  },
  {
   "cell_type": "code",
   "execution_count": 2991,
   "id": "67a055ab",
   "metadata": {
    "scrolled": true
   },
   "outputs": [],
   "source": [
    "list_dec_4 = []\n",
    "for i in range(1, 438):\n",
    "    cor = df_4['Focus'].corr(df_4[str(i)]) ** 2\n",
    "    list_dec_4.append({'i': i, \n",
    "                   'corr' : cor})\n",
    "list_dec_4 = pd.DataFrame(list_dec_4).set_index('i')\n",
    "list_dec_4['corr'] = list_dec_4['corr'].fillna(0)"
   ]
  },
  {
   "cell_type": "code",
   "execution_count": 2992,
   "id": "5f380b94",
   "metadata": {},
   "outputs": [],
   "source": [
    "for i in range(1, 438):\n",
    "    if i in list_dec_4.index:\n",
    "        corr = list_dec_4['corr'].loc[i]\n",
    "        df_4[str(i)] = df_4[str(i)] * corr  \n",
    "    else:\n",
    "        continue    "
   ]
  },
  {
   "cell_type": "code",
   "execution_count": 2993,
   "id": "e3e9b8fe",
   "metadata": {
    "scrolled": false
   },
   "outputs": [
    {
     "data": {
      "text/html": [
       "<div>\n",
       "<style scoped>\n",
       "    .dataframe tbody tr th:only-of-type {\n",
       "        vertical-align: middle;\n",
       "    }\n",
       "\n",
       "    .dataframe tbody tr th {\n",
       "        vertical-align: top;\n",
       "    }\n",
       "\n",
       "    .dataframe thead th {\n",
       "        text-align: right;\n",
       "    }\n",
       "</style>\n",
       "<table border=\"1\" class=\"dataframe\">\n",
       "  <thead>\n",
       "    <tr style=\"text-align: right;\">\n",
       "      <th></th>\n",
       "      <th>Analytical thinking</th>\n",
       "      <th>Systemic thinking</th>\n",
       "      <th>Adaptability</th>\n",
       "      <th>Focus</th>\n",
       "      <th>1</th>\n",
       "      <th>2</th>\n",
       "      <th>3</th>\n",
       "      <th>4</th>\n",
       "      <th>5</th>\n",
       "      <th>6</th>\n",
       "      <th>...</th>\n",
       "      <th>429</th>\n",
       "      <th>430</th>\n",
       "      <th>431</th>\n",
       "      <th>432</th>\n",
       "      <th>433</th>\n",
       "      <th>434</th>\n",
       "      <th>435</th>\n",
       "      <th>436</th>\n",
       "      <th>437</th>\n",
       "      <th>438</th>\n",
       "    </tr>\n",
       "    <tr>\n",
       "      <th>index</th>\n",
       "      <th></th>\n",
       "      <th></th>\n",
       "      <th></th>\n",
       "      <th></th>\n",
       "      <th></th>\n",
       "      <th></th>\n",
       "      <th></th>\n",
       "      <th></th>\n",
       "      <th></th>\n",
       "      <th></th>\n",
       "      <th></th>\n",
       "      <th></th>\n",
       "      <th></th>\n",
       "      <th></th>\n",
       "      <th></th>\n",
       "      <th></th>\n",
       "      <th></th>\n",
       "      <th></th>\n",
       "      <th></th>\n",
       "      <th></th>\n",
       "      <th></th>\n",
       "    </tr>\n",
       "  </thead>\n",
       "  <tbody>\n",
       "    <tr>\n",
       "      <th>10001</th>\n",
       "      <td>4.00</td>\n",
       "      <td>4.00</td>\n",
       "      <td>5.00</td>\n",
       "      <td>4.00</td>\n",
       "      <td>0.00</td>\n",
       "      <td>0.00</td>\n",
       "      <td>0.00</td>\n",
       "      <td>0.00</td>\n",
       "      <td>0.00</td>\n",
       "      <td>0.00</td>\n",
       "      <td>...</td>\n",
       "      <td>0.00</td>\n",
       "      <td>0.00</td>\n",
       "      <td>0.00</td>\n",
       "      <td>0.00</td>\n",
       "      <td>0.00</td>\n",
       "      <td>0.00</td>\n",
       "      <td>0.00</td>\n",
       "      <td>0.00</td>\n",
       "      <td>0.00</td>\n",
       "      <td>0</td>\n",
       "    </tr>\n",
       "    <tr>\n",
       "      <th>10003</th>\n",
       "      <td>5.00</td>\n",
       "      <td>5.00</td>\n",
       "      <td>5.00</td>\n",
       "      <td>5.00</td>\n",
       "      <td>0.00</td>\n",
       "      <td>0.00</td>\n",
       "      <td>0.00</td>\n",
       "      <td>0.00</td>\n",
       "      <td>0.00</td>\n",
       "      <td>0.00</td>\n",
       "      <td>...</td>\n",
       "      <td>0.00</td>\n",
       "      <td>0.00</td>\n",
       "      <td>0.00</td>\n",
       "      <td>0.00</td>\n",
       "      <td>0.00</td>\n",
       "      <td>0.00</td>\n",
       "      <td>0.00</td>\n",
       "      <td>0.00</td>\n",
       "      <td>0.00</td>\n",
       "      <td>0</td>\n",
       "    </tr>\n",
       "    <tr>\n",
       "      <th>10004</th>\n",
       "      <td>4.00</td>\n",
       "      <td>4.00</td>\n",
       "      <td>5.00</td>\n",
       "      <td>4.00</td>\n",
       "      <td>0.00</td>\n",
       "      <td>0.00</td>\n",
       "      <td>0.00</td>\n",
       "      <td>0.00</td>\n",
       "      <td>0.00</td>\n",
       "      <td>0.00</td>\n",
       "      <td>...</td>\n",
       "      <td>0.00</td>\n",
       "      <td>0.00</td>\n",
       "      <td>0.00</td>\n",
       "      <td>0.00</td>\n",
       "      <td>0.00</td>\n",
       "      <td>0.00</td>\n",
       "      <td>0.00</td>\n",
       "      <td>0.00</td>\n",
       "      <td>0.00</td>\n",
       "      <td>0</td>\n",
       "    </tr>\n",
       "    <tr>\n",
       "      <th>10006</th>\n",
       "      <td>4.00</td>\n",
       "      <td>4.00</td>\n",
       "      <td>5.00</td>\n",
       "      <td>4.00</td>\n",
       "      <td>0.00</td>\n",
       "      <td>0.00</td>\n",
       "      <td>0.00</td>\n",
       "      <td>0.00</td>\n",
       "      <td>0.00</td>\n",
       "      <td>0.00</td>\n",
       "      <td>...</td>\n",
       "      <td>0.00</td>\n",
       "      <td>0.00</td>\n",
       "      <td>0.00</td>\n",
       "      <td>0.00</td>\n",
       "      <td>0.00</td>\n",
       "      <td>0.00</td>\n",
       "      <td>0.00</td>\n",
       "      <td>0.00</td>\n",
       "      <td>0.00</td>\n",
       "      <td>0</td>\n",
       "    </tr>\n",
       "    <tr>\n",
       "      <th>10008</th>\n",
       "      <td>5.00</td>\n",
       "      <td>4.00</td>\n",
       "      <td>5.00</td>\n",
       "      <td>5.00</td>\n",
       "      <td>0.00</td>\n",
       "      <td>0.00</td>\n",
       "      <td>0.00</td>\n",
       "      <td>0.00</td>\n",
       "      <td>0.00</td>\n",
       "      <td>0.00</td>\n",
       "      <td>...</td>\n",
       "      <td>0.00</td>\n",
       "      <td>0.00</td>\n",
       "      <td>0.00</td>\n",
       "      <td>0.00</td>\n",
       "      <td>0.00</td>\n",
       "      <td>0.00</td>\n",
       "      <td>0.00</td>\n",
       "      <td>0.00</td>\n",
       "      <td>0.00</td>\n",
       "      <td>0</td>\n",
       "    </tr>\n",
       "  </tbody>\n",
       "</table>\n",
       "<p>5 rows × 442 columns</p>\n",
       "</div>"
      ],
      "text/plain": [
       "       Analytical thinking  Systemic thinking  Adaptability  Focus    1    2  \\\n",
       "index                                                                          \n",
       "10001                 4.00               4.00          5.00   4.00 0.00 0.00   \n",
       "10003                 5.00               5.00          5.00   5.00 0.00 0.00   \n",
       "10004                 4.00               4.00          5.00   4.00 0.00 0.00   \n",
       "10006                 4.00               4.00          5.00   4.00 0.00 0.00   \n",
       "10008                 5.00               4.00          5.00   5.00 0.00 0.00   \n",
       "\n",
       "         3    4    5    6  ...  429  430  431  432  433  434  435  436  437  \\\n",
       "index                      ...                                                \n",
       "10001 0.00 0.00 0.00 0.00  ... 0.00 0.00 0.00 0.00 0.00 0.00 0.00 0.00 0.00   \n",
       "10003 0.00 0.00 0.00 0.00  ... 0.00 0.00 0.00 0.00 0.00 0.00 0.00 0.00 0.00   \n",
       "10004 0.00 0.00 0.00 0.00  ... 0.00 0.00 0.00 0.00 0.00 0.00 0.00 0.00 0.00   \n",
       "10006 0.00 0.00 0.00 0.00  ... 0.00 0.00 0.00 0.00 0.00 0.00 0.00 0.00 0.00   \n",
       "10008 0.00 0.00 0.00 0.00  ... 0.00 0.00 0.00 0.00 0.00 0.00 0.00 0.00 0.00   \n",
       "\n",
       "       438  \n",
       "index       \n",
       "10001    0  \n",
       "10003    0  \n",
       "10004    0  \n",
       "10006    0  \n",
       "10008    0  \n",
       "\n",
       "[5 rows x 442 columns]"
      ]
     },
     "execution_count": 2993,
     "metadata": {},
     "output_type": "execute_result"
    }
   ],
   "source": [
    "df_1.head()"
   ]
  },
  {
   "cell_type": "code",
   "execution_count": 2994,
   "id": "4d7c1a68",
   "metadata": {},
   "outputs": [],
   "source": [
    "col_drop = ['Analytical thinking', 'Systemic thinking', 'Adaptability', 'Focus']"
   ]
  },
  {
   "cell_type": "code",
   "execution_count": 2995,
   "id": "f797b8d3",
   "metadata": {},
   "outputs": [],
   "source": [
    "df_1['total'] = df_1.drop(col_drop, axis=1).sum(axis=1)"
   ]
  },
  {
   "cell_type": "code",
   "execution_count": 2996,
   "id": "41383f9a",
   "metadata": {
    "scrolled": true
   },
   "outputs": [
    {
     "data": {
      "text/plain": [
       "(680, 443)"
      ]
     },
     "execution_count": 2996,
     "metadata": {},
     "output_type": "execute_result"
    }
   ],
   "source": [
    "df_1.shape"
   ]
  },
  {
   "cell_type": "markdown",
   "id": "55616885",
   "metadata": {},
   "source": [
    "## 'Analytical thinking' (в трейне: ОНЕ-решений, баллы и рейтинги)"
   ]
  },
  {
   "cell_type": "code",
   "execution_count": 2997,
   "id": "d30180c7",
   "metadata": {},
   "outputs": [
    {
     "data": {
      "text/html": [
       "<div>\n",
       "<style scoped>\n",
       "    .dataframe tbody tr th:only-of-type {\n",
       "        vertical-align: middle;\n",
       "    }\n",
       "\n",
       "    .dataframe tbody tr th {\n",
       "        vertical-align: top;\n",
       "    }\n",
       "\n",
       "    .dataframe thead th {\n",
       "        text-align: right;\n",
       "    }\n",
       "</style>\n",
       "<table border=\"1\" class=\"dataframe\">\n",
       "  <thead>\n",
       "    <tr style=\"text-align: right;\">\n",
       "      <th></th>\n",
       "      <th>Analytical thinking</th>\n",
       "      <th>Systemic thinking</th>\n",
       "      <th>Adaptability</th>\n",
       "      <th>Focus</th>\n",
       "      <th>game_id</th>\n",
       "      <th>total_score</th>\n",
       "      <th>cat_1</th>\n",
       "      <th>cat_2</th>\n",
       "      <th>cat_3</th>\n",
       "      <th>cat_4</th>\n",
       "      <th>cat_5</th>\n",
       "      <th>cat_6</th>\n",
       "      <th>score_rating</th>\n",
       "      <th>rating_1</th>\n",
       "      <th>rating_2</th>\n",
       "      <th>rating_3</th>\n",
       "      <th>rating_4</th>\n",
       "      <th>rating_5</th>\n",
       "      <th>rating_6</th>\n",
       "    </tr>\n",
       "    <tr>\n",
       "      <th>id</th>\n",
       "      <th></th>\n",
       "      <th></th>\n",
       "      <th></th>\n",
       "      <th></th>\n",
       "      <th></th>\n",
       "      <th></th>\n",
       "      <th></th>\n",
       "      <th></th>\n",
       "      <th></th>\n",
       "      <th></th>\n",
       "      <th></th>\n",
       "      <th></th>\n",
       "      <th></th>\n",
       "      <th></th>\n",
       "      <th></th>\n",
       "      <th></th>\n",
       "      <th></th>\n",
       "      <th></th>\n",
       "      <th></th>\n",
       "    </tr>\n",
       "  </thead>\n",
       "  <tbody>\n",
       "    <tr>\n",
       "      <th>10884</th>\n",
       "      <td>4.00</td>\n",
       "      <td>4.00</td>\n",
       "      <td>4.00</td>\n",
       "      <td>4.00</td>\n",
       "      <td>202</td>\n",
       "      <td>1188</td>\n",
       "      <td>-5.00</td>\n",
       "      <td>-25.00</td>\n",
       "      <td>391.00</td>\n",
       "      <td>128.00</td>\n",
       "      <td>105.00</td>\n",
       "      <td>594.00</td>\n",
       "      <td>0.55</td>\n",
       "      <td>-0.04</td>\n",
       "      <td>-0.13</td>\n",
       "      <td>0.77</td>\n",
       "      <td>0.74</td>\n",
       "      <td>1.00</td>\n",
       "      <td>0.55</td>\n",
       "    </tr>\n",
       "    <tr>\n",
       "      <th>10106</th>\n",
       "      <td>5.00</td>\n",
       "      <td>4.00</td>\n",
       "      <td>5.00</td>\n",
       "      <td>5.00</td>\n",
       "      <td>211</td>\n",
       "      <td>1828</td>\n",
       "      <td>54.00</td>\n",
       "      <td>120.00</td>\n",
       "      <td>467.00</td>\n",
       "      <td>160.00</td>\n",
       "      <td>113.00</td>\n",
       "      <td>914.00</td>\n",
       "      <td>1.00</td>\n",
       "      <td>1.00</td>\n",
       "      <td>0.90</td>\n",
       "      <td>0.99</td>\n",
       "      <td>0.90</td>\n",
       "      <td>1.00</td>\n",
       "      <td>1.00</td>\n",
       "    </tr>\n",
       "    <tr>\n",
       "      <th>10438</th>\n",
       "      <td>6.00</td>\n",
       "      <td>5.00</td>\n",
       "      <td>5.00</td>\n",
       "      <td>5.00</td>\n",
       "      <td>242</td>\n",
       "      <td>1604</td>\n",
       "      <td>55.00</td>\n",
       "      <td>60.00</td>\n",
       "      <td>383.00</td>\n",
       "      <td>158.00</td>\n",
       "      <td>146.00</td>\n",
       "      <td>802.00</td>\n",
       "      <td>1.00</td>\n",
       "      <td>1.00</td>\n",
       "      <td>0.69</td>\n",
       "      <td>0.98</td>\n",
       "      <td>1.00</td>\n",
       "      <td>0.81</td>\n",
       "      <td>1.00</td>\n",
       "    </tr>\n",
       "    <tr>\n",
       "      <th>10130</th>\n",
       "      <td>5.00</td>\n",
       "      <td>4.00</td>\n",
       "      <td>5.00</td>\n",
       "      <td>5.00</td>\n",
       "      <td>184</td>\n",
       "      <td>1334</td>\n",
       "      <td>31.00</td>\n",
       "      <td>24.00</td>\n",
       "      <td>366.00</td>\n",
       "      <td>139.00</td>\n",
       "      <td>107.00</td>\n",
       "      <td>667.00</td>\n",
       "      <td>0.62</td>\n",
       "      <td>0.30</td>\n",
       "      <td>0.12</td>\n",
       "      <td>0.71</td>\n",
       "      <td>0.69</td>\n",
       "      <td>1.00</td>\n",
       "      <td>0.62</td>\n",
       "    </tr>\n",
       "    <tr>\n",
       "      <th>10667</th>\n",
       "      <td>4.00</td>\n",
       "      <td>5.00</td>\n",
       "      <td>5.00</td>\n",
       "      <td>5.00</td>\n",
       "      <td>193</td>\n",
       "      <td>1756</td>\n",
       "      <td>71.00</td>\n",
       "      <td>70.00</td>\n",
       "      <td>416.00</td>\n",
       "      <td>166.00</td>\n",
       "      <td>155.00</td>\n",
       "      <td>878.00</td>\n",
       "      <td>0.72</td>\n",
       "      <td>0.41</td>\n",
       "      <td>0.26</td>\n",
       "      <td>0.97</td>\n",
       "      <td>0.80</td>\n",
       "      <td>0.87</td>\n",
       "      <td>0.72</td>\n",
       "    </tr>\n",
       "  </tbody>\n",
       "</table>\n",
       "</div>"
      ],
      "text/plain": [
       "       Analytical thinking  Systemic thinking  Adaptability  Focus  game_id  \\\n",
       "id                                                                            \n",
       "10884                 4.00               4.00          4.00   4.00      202   \n",
       "10106                 5.00               4.00          5.00   5.00      211   \n",
       "10438                 6.00               5.00          5.00   5.00      242   \n",
       "10130                 5.00               4.00          5.00   5.00      184   \n",
       "10667                 4.00               5.00          5.00   5.00      193   \n",
       "\n",
       "       total_score  cat_1  cat_2  cat_3  cat_4  cat_5  cat_6  score_rating  \\\n",
       "id                                                                           \n",
       "10884         1188  -5.00 -25.00 391.00 128.00 105.00 594.00          0.55   \n",
       "10106         1828  54.00 120.00 467.00 160.00 113.00 914.00          1.00   \n",
       "10438         1604  55.00  60.00 383.00 158.00 146.00 802.00          1.00   \n",
       "10130         1334  31.00  24.00 366.00 139.00 107.00 667.00          0.62   \n",
       "10667         1756  71.00  70.00 416.00 166.00 155.00 878.00          0.72   \n",
       "\n",
       "       rating_1  rating_2  rating_3  rating_4  rating_5  rating_6  \n",
       "id                                                                 \n",
       "10884     -0.04     -0.13      0.77      0.74      1.00      0.55  \n",
       "10106      1.00      0.90      0.99      0.90      1.00      1.00  \n",
       "10438      1.00      0.69      0.98      1.00      0.81      1.00  \n",
       "10130      0.30      0.12      0.71      0.69      1.00      0.62  \n",
       "10667      0.41      0.26      0.97      0.80      0.87      0.72  "
      ]
     },
     "execution_count": 2997,
     "metadata": {},
     "output_type": "execute_result"
    }
   ],
   "source": [
    "df_score.head()"
   ]
  },
  {
   "cell_type": "code",
   "execution_count": 2998,
   "id": "d795c3a2",
   "metadata": {
    "scrolled": false
   },
   "outputs": [
    {
     "data": {
      "text/html": [
       "<div>\n",
       "<style scoped>\n",
       "    .dataframe tbody tr th:only-of-type {\n",
       "        vertical-align: middle;\n",
       "    }\n",
       "\n",
       "    .dataframe tbody tr th {\n",
       "        vertical-align: top;\n",
       "    }\n",
       "\n",
       "    .dataframe thead th {\n",
       "        text-align: right;\n",
       "    }\n",
       "</style>\n",
       "<table border=\"1\" class=\"dataframe\">\n",
       "  <thead>\n",
       "    <tr style=\"text-align: right;\">\n",
       "      <th></th>\n",
       "      <th>Analytical thinking</th>\n",
       "      <th>Systemic thinking</th>\n",
       "      <th>Adaptability</th>\n",
       "      <th>Focus</th>\n",
       "      <th>1</th>\n",
       "      <th>2</th>\n",
       "      <th>3</th>\n",
       "      <th>4</th>\n",
       "      <th>5</th>\n",
       "      <th>6</th>\n",
       "      <th>...</th>\n",
       "      <th>430</th>\n",
       "      <th>431</th>\n",
       "      <th>432</th>\n",
       "      <th>433</th>\n",
       "      <th>434</th>\n",
       "      <th>435</th>\n",
       "      <th>436</th>\n",
       "      <th>437</th>\n",
       "      <th>438</th>\n",
       "      <th>total</th>\n",
       "    </tr>\n",
       "    <tr>\n",
       "      <th>index</th>\n",
       "      <th></th>\n",
       "      <th></th>\n",
       "      <th></th>\n",
       "      <th></th>\n",
       "      <th></th>\n",
       "      <th></th>\n",
       "      <th></th>\n",
       "      <th></th>\n",
       "      <th></th>\n",
       "      <th></th>\n",
       "      <th></th>\n",
       "      <th></th>\n",
       "      <th></th>\n",
       "      <th></th>\n",
       "      <th></th>\n",
       "      <th></th>\n",
       "      <th></th>\n",
       "      <th></th>\n",
       "      <th></th>\n",
       "      <th></th>\n",
       "      <th></th>\n",
       "    </tr>\n",
       "  </thead>\n",
       "  <tbody>\n",
       "    <tr>\n",
       "      <th>10001</th>\n",
       "      <td>4.00</td>\n",
       "      <td>4.00</td>\n",
       "      <td>5.00</td>\n",
       "      <td>4.00</td>\n",
       "      <td>0.00</td>\n",
       "      <td>0.00</td>\n",
       "      <td>0.00</td>\n",
       "      <td>0.00</td>\n",
       "      <td>0.00</td>\n",
       "      <td>0.00</td>\n",
       "      <td>...</td>\n",
       "      <td>0.00</td>\n",
       "      <td>0.00</td>\n",
       "      <td>0.00</td>\n",
       "      <td>0.00</td>\n",
       "      <td>0.00</td>\n",
       "      <td>0.00</td>\n",
       "      <td>0.00</td>\n",
       "      <td>0.00</td>\n",
       "      <td>0</td>\n",
       "      <td>0.00</td>\n",
       "    </tr>\n",
       "  </tbody>\n",
       "</table>\n",
       "<p>1 rows × 443 columns</p>\n",
       "</div>"
      ],
      "text/plain": [
       "       Analytical thinking  Systemic thinking  Adaptability  Focus    1    2  \\\n",
       "index                                                                          \n",
       "10001                 4.00               4.00          5.00   4.00 0.00 0.00   \n",
       "\n",
       "         3    4    5    6  ...  430  431  432  433  434  435  436  437  438  \\\n",
       "index                      ...                                                \n",
       "10001 0.00 0.00 0.00 0.00  ... 0.00 0.00 0.00 0.00 0.00 0.00 0.00 0.00    0   \n",
       "\n",
       "       total  \n",
       "index         \n",
       "10001   0.00  \n",
       "\n",
       "[1 rows x 443 columns]"
      ]
     },
     "execution_count": 2998,
     "metadata": {},
     "output_type": "execute_result"
    }
   ],
   "source": [
    "df_1.head(1)"
   ]
  },
  {
   "cell_type": "code",
   "execution_count": 2999,
   "id": "16a0fcb7",
   "metadata": {},
   "outputs": [],
   "source": [
    "col_drop = ['Analytical thinking', 'Systemic thinking', 'Adaptability','Focus']"
   ]
  },
  {
   "cell_type": "code",
   "execution_count": 3000,
   "id": "62791d8a",
   "metadata": {},
   "outputs": [],
   "source": [
    "df_7 = df_score.join(df_1.drop(col_drop, axis=1))"
   ]
  },
  {
   "cell_type": "code",
   "execution_count": 3001,
   "id": "9a791c7f",
   "metadata": {
    "scrolled": true
   },
   "outputs": [
    {
     "data": {
      "text/html": [
       "<div>\n",
       "<style scoped>\n",
       "    .dataframe tbody tr th:only-of-type {\n",
       "        vertical-align: middle;\n",
       "    }\n",
       "\n",
       "    .dataframe tbody tr th {\n",
       "        vertical-align: top;\n",
       "    }\n",
       "\n",
       "    .dataframe thead th {\n",
       "        text-align: right;\n",
       "    }\n",
       "</style>\n",
       "<table border=\"1\" class=\"dataframe\">\n",
       "  <thead>\n",
       "    <tr style=\"text-align: right;\">\n",
       "      <th></th>\n",
       "      <th>Analytical thinking</th>\n",
       "      <th>Systemic thinking</th>\n",
       "      <th>Adaptability</th>\n",
       "      <th>Focus</th>\n",
       "      <th>game_id</th>\n",
       "      <th>total_score</th>\n",
       "      <th>cat_1</th>\n",
       "      <th>cat_2</th>\n",
       "      <th>cat_3</th>\n",
       "      <th>cat_4</th>\n",
       "      <th>...</th>\n",
       "      <th>430</th>\n",
       "      <th>431</th>\n",
       "      <th>432</th>\n",
       "      <th>433</th>\n",
       "      <th>434</th>\n",
       "      <th>435</th>\n",
       "      <th>436</th>\n",
       "      <th>437</th>\n",
       "      <th>438</th>\n",
       "      <th>total</th>\n",
       "    </tr>\n",
       "    <tr>\n",
       "      <th>id</th>\n",
       "      <th></th>\n",
       "      <th></th>\n",
       "      <th></th>\n",
       "      <th></th>\n",
       "      <th></th>\n",
       "      <th></th>\n",
       "      <th></th>\n",
       "      <th></th>\n",
       "      <th></th>\n",
       "      <th></th>\n",
       "      <th></th>\n",
       "      <th></th>\n",
       "      <th></th>\n",
       "      <th></th>\n",
       "      <th></th>\n",
       "      <th></th>\n",
       "      <th></th>\n",
       "      <th></th>\n",
       "      <th></th>\n",
       "      <th></th>\n",
       "      <th></th>\n",
       "    </tr>\n",
       "  </thead>\n",
       "  <tbody>\n",
       "    <tr>\n",
       "      <th>10884</th>\n",
       "      <td>4.00</td>\n",
       "      <td>4.00</td>\n",
       "      <td>4.00</td>\n",
       "      <td>4.00</td>\n",
       "      <td>202</td>\n",
       "      <td>1188</td>\n",
       "      <td>-5.00</td>\n",
       "      <td>-25.00</td>\n",
       "      <td>391.00</td>\n",
       "      <td>128.00</td>\n",
       "      <td>...</td>\n",
       "      <td>0.00</td>\n",
       "      <td>0.00</td>\n",
       "      <td>0.00</td>\n",
       "      <td>0.00</td>\n",
       "      <td>0.00</td>\n",
       "      <td>0.00</td>\n",
       "      <td>0.00</td>\n",
       "      <td>0.00</td>\n",
       "      <td>0</td>\n",
       "      <td>0.00</td>\n",
       "    </tr>\n",
       "  </tbody>\n",
       "</table>\n",
       "<p>1 rows × 458 columns</p>\n",
       "</div>"
      ],
      "text/plain": [
       "       Analytical thinking  Systemic thinking  Adaptability  Focus  game_id  \\\n",
       "id                                                                            \n",
       "10884                 4.00               4.00          4.00   4.00      202   \n",
       "\n",
       "       total_score  cat_1  cat_2  cat_3  cat_4  ...  430  431  432  433  434  \\\n",
       "id                                              ...                            \n",
       "10884         1188  -5.00 -25.00 391.00 128.00  ... 0.00 0.00 0.00 0.00 0.00   \n",
       "\n",
       "       435  436  437  438  total  \n",
       "id                                \n",
       "10884 0.00 0.00 0.00    0   0.00  \n",
       "\n",
       "[1 rows x 458 columns]"
      ]
     },
     "execution_count": 3001,
     "metadata": {},
     "output_type": "execute_result"
    }
   ],
   "source": [
    "df_7.head(1)"
   ]
  },
  {
   "cell_type": "code",
   "execution_count": 3002,
   "id": "20bb9fdd",
   "metadata": {},
   "outputs": [],
   "source": [
    "df_7['max_total'] = df_7.groupby('game_id')['total'].transform('max')"
   ]
  },
  {
   "cell_type": "code",
   "execution_count": 3003,
   "id": "7bf5fd33",
   "metadata": {},
   "outputs": [],
   "source": [
    "df_7['rating_user'] = df_7['total'] / df_7['max_total']"
   ]
  },
  {
   "cell_type": "code",
   "execution_count": 3004,
   "id": "36a78fcf",
   "metadata": {},
   "outputs": [
    {
     "data": {
      "text/plain": [
       "(674, 460)"
      ]
     },
     "execution_count": 3004,
     "metadata": {},
     "output_type": "execute_result"
    }
   ],
   "source": [
    "df_7 = df_7[df_7['Analytical thinking']>2]\n",
    "df_7 = df_7[df_7['Systemic thinking']>2]\n",
    "df_7 = df_7[df_7['Adaptability']>2]\n",
    "df_7 = df_7[df_7['Focus']>2]\n",
    "df_7.shape"
   ]
  },
  {
   "cell_type": "code",
   "execution_count": 3005,
   "id": "374c9cd1",
   "metadata": {},
   "outputs": [],
   "source": [
    "for i in range(1, 439):\n",
    "    df_7 = df_7.drop(str(i), axis=1)    "
   ]
  },
  {
   "cell_type": "code",
   "execution_count": 3006,
   "id": "9a30a507",
   "metadata": {},
   "outputs": [
    {
     "data": {
      "text/html": [
       "<div>\n",
       "<style scoped>\n",
       "    .dataframe tbody tr th:only-of-type {\n",
       "        vertical-align: middle;\n",
       "    }\n",
       "\n",
       "    .dataframe tbody tr th {\n",
       "        vertical-align: top;\n",
       "    }\n",
       "\n",
       "    .dataframe thead th {\n",
       "        text-align: right;\n",
       "    }\n",
       "</style>\n",
       "<table border=\"1\" class=\"dataframe\">\n",
       "  <thead>\n",
       "    <tr style=\"text-align: right;\">\n",
       "      <th></th>\n",
       "      <th>Analytical thinking</th>\n",
       "      <th>Systemic thinking</th>\n",
       "      <th>Adaptability</th>\n",
       "      <th>Focus</th>\n",
       "      <th>game_id</th>\n",
       "      <th>total_score</th>\n",
       "      <th>cat_1</th>\n",
       "      <th>cat_2</th>\n",
       "      <th>cat_3</th>\n",
       "      <th>cat_4</th>\n",
       "      <th>...</th>\n",
       "      <th>score_rating</th>\n",
       "      <th>rating_1</th>\n",
       "      <th>rating_2</th>\n",
       "      <th>rating_3</th>\n",
       "      <th>rating_4</th>\n",
       "      <th>rating_5</th>\n",
       "      <th>rating_6</th>\n",
       "      <th>total</th>\n",
       "      <th>max_total</th>\n",
       "      <th>rating_user</th>\n",
       "    </tr>\n",
       "    <tr>\n",
       "      <th>id</th>\n",
       "      <th></th>\n",
       "      <th></th>\n",
       "      <th></th>\n",
       "      <th></th>\n",
       "      <th></th>\n",
       "      <th></th>\n",
       "      <th></th>\n",
       "      <th></th>\n",
       "      <th></th>\n",
       "      <th></th>\n",
       "      <th></th>\n",
       "      <th></th>\n",
       "      <th></th>\n",
       "      <th></th>\n",
       "      <th></th>\n",
       "      <th></th>\n",
       "      <th></th>\n",
       "      <th></th>\n",
       "      <th></th>\n",
       "      <th></th>\n",
       "      <th></th>\n",
       "    </tr>\n",
       "  </thead>\n",
       "  <tbody>\n",
       "    <tr>\n",
       "      <th>10884</th>\n",
       "      <td>4.00</td>\n",
       "      <td>4.00</td>\n",
       "      <td>4.00</td>\n",
       "      <td>4.00</td>\n",
       "      <td>202</td>\n",
       "      <td>1188</td>\n",
       "      <td>-5.00</td>\n",
       "      <td>-25.00</td>\n",
       "      <td>391.00</td>\n",
       "      <td>128.00</td>\n",
       "      <td>...</td>\n",
       "      <td>0.55</td>\n",
       "      <td>-0.04</td>\n",
       "      <td>-0.13</td>\n",
       "      <td>0.77</td>\n",
       "      <td>0.74</td>\n",
       "      <td>1.00</td>\n",
       "      <td>0.55</td>\n",
       "      <td>0.00</td>\n",
       "      <td>0.00</td>\n",
       "      <td>0.39</td>\n",
       "    </tr>\n",
       "  </tbody>\n",
       "</table>\n",
       "<p>1 rows × 22 columns</p>\n",
       "</div>"
      ],
      "text/plain": [
       "       Analytical thinking  Systemic thinking  Adaptability  Focus  game_id  \\\n",
       "id                                                                            \n",
       "10884                 4.00               4.00          4.00   4.00      202   \n",
       "\n",
       "       total_score  cat_1  cat_2  cat_3  cat_4  ...  score_rating  rating_1  \\\n",
       "id                                              ...                           \n",
       "10884         1188  -5.00 -25.00 391.00 128.00  ...          0.55     -0.04   \n",
       "\n",
       "       rating_2  rating_3  rating_4  rating_5  rating_6  total  max_total  \\\n",
       "id                                                                          \n",
       "10884     -0.13      0.77      0.74      1.00      0.55   0.00       0.00   \n",
       "\n",
       "       rating_user  \n",
       "id                  \n",
       "10884         0.39  \n",
       "\n",
       "[1 rows x 22 columns]"
      ]
     },
     "execution_count": 3006,
     "metadata": {},
     "output_type": "execute_result"
    }
   ],
   "source": [
    "df_7.head(1)"
   ]
  },
  {
   "cell_type": "code",
   "execution_count": 3007,
   "id": "9471656e",
   "metadata": {},
   "outputs": [],
   "source": [
    "col_drop = ['Analytical thinking', 'Systemic thinking', 'Adaptability', \n",
    "            'Focus', 'max_total']"
   ]
  },
  {
   "cell_type": "code",
   "execution_count": 3008,
   "id": "22add9b8",
   "metadata": {},
   "outputs": [],
   "source": [
    "X_train, X_test, y_train, y_test = train_test_split(\n",
    "    df_7.drop(col_drop, axis=1), df_7['Analytical thinking'], stratify = df_7['Analytical thinking'], test_size=0.25, random_state=12345)"
   ]
  },
  {
   "cell_type": "code",
   "execution_count": 3009,
   "id": "2593240b",
   "metadata": {
    "scrolled": true
   },
   "outputs": [
    {
     "name": "stdout",
     "output_type": "stream",
     "text": [
      "(505, 17)\n",
      "(505,)\n"
     ]
    }
   ],
   "source": [
    "print(X_train.shape)\n",
    "print(y_train.shape)"
   ]
  },
  {
   "cell_type": "code",
   "execution_count": 3010,
   "id": "29ab848d",
   "metadata": {
    "scrolled": false
   },
   "outputs": [
    {
     "data": {
      "text/html": [
       "<div>\n",
       "<style scoped>\n",
       "    .dataframe tbody tr th:only-of-type {\n",
       "        vertical-align: middle;\n",
       "    }\n",
       "\n",
       "    .dataframe tbody tr th {\n",
       "        vertical-align: top;\n",
       "    }\n",
       "\n",
       "    .dataframe thead th {\n",
       "        text-align: right;\n",
       "    }\n",
       "</style>\n",
       "<table border=\"1\" class=\"dataframe\">\n",
       "  <thead>\n",
       "    <tr style=\"text-align: right;\">\n",
       "      <th></th>\n",
       "      <th>game_id</th>\n",
       "      <th>total_score</th>\n",
       "      <th>cat_1</th>\n",
       "      <th>cat_2</th>\n",
       "      <th>cat_3</th>\n",
       "      <th>cat_4</th>\n",
       "      <th>cat_5</th>\n",
       "      <th>cat_6</th>\n",
       "      <th>score_rating</th>\n",
       "      <th>rating_1</th>\n",
       "      <th>rating_2</th>\n",
       "      <th>rating_3</th>\n",
       "      <th>rating_4</th>\n",
       "      <th>rating_5</th>\n",
       "      <th>rating_6</th>\n",
       "      <th>total</th>\n",
       "      <th>rating_user</th>\n",
       "    </tr>\n",
       "    <tr>\n",
       "      <th>id</th>\n",
       "      <th></th>\n",
       "      <th></th>\n",
       "      <th></th>\n",
       "      <th></th>\n",
       "      <th></th>\n",
       "      <th></th>\n",
       "      <th></th>\n",
       "      <th></th>\n",
       "      <th></th>\n",
       "      <th></th>\n",
       "      <th></th>\n",
       "      <th></th>\n",
       "      <th></th>\n",
       "      <th></th>\n",
       "      <th></th>\n",
       "      <th></th>\n",
       "      <th></th>\n",
       "    </tr>\n",
       "  </thead>\n",
       "  <tbody>\n",
       "    <tr>\n",
       "      <th>10732</th>\n",
       "      <td>252</td>\n",
       "      <td>2090</td>\n",
       "      <td>86.00</td>\n",
       "      <td>174.00</td>\n",
       "      <td>487.00</td>\n",
       "      <td>197.00</td>\n",
       "      <td>101.00</td>\n",
       "      <td>1,045.00</td>\n",
       "      <td>0.95</td>\n",
       "      <td>0.80</td>\n",
       "      <td>0.73</td>\n",
       "      <td>1.00</td>\n",
       "      <td>0.99</td>\n",
       "      <td>1.00</td>\n",
       "      <td>0.95</td>\n",
       "      <td>0.00</td>\n",
       "      <td>0.03</td>\n",
       "    </tr>\n",
       "    <tr>\n",
       "      <th>10804</th>\n",
       "      <td>244</td>\n",
       "      <td>2130</td>\n",
       "      <td>114.00</td>\n",
       "      <td>253.00</td>\n",
       "      <td>337.00</td>\n",
       "      <td>201.00</td>\n",
       "      <td>160.00</td>\n",
       "      <td>1,065.00</td>\n",
       "      <td>1.00</td>\n",
       "      <td>1.00</td>\n",
       "      <td>1.00</td>\n",
       "      <td>0.75</td>\n",
       "      <td>1.00</td>\n",
       "      <td>1.00</td>\n",
       "      <td>1.00</td>\n",
       "      <td>0.00</td>\n",
       "      <td>0.74</td>\n",
       "    </tr>\n",
       "    <tr>\n",
       "      <th>10508</th>\n",
       "      <td>252</td>\n",
       "      <td>1492</td>\n",
       "      <td>39.00</td>\n",
       "      <td>51.00</td>\n",
       "      <td>440.00</td>\n",
       "      <td>129.00</td>\n",
       "      <td>87.00</td>\n",
       "      <td>746.00</td>\n",
       "      <td>0.68</td>\n",
       "      <td>0.36</td>\n",
       "      <td>0.21</td>\n",
       "      <td>0.90</td>\n",
       "      <td>0.65</td>\n",
       "      <td>0.86</td>\n",
       "      <td>0.68</td>\n",
       "      <td>0.00</td>\n",
       "      <td>0.97</td>\n",
       "    </tr>\n",
       "    <tr>\n",
       "      <th>10219</th>\n",
       "      <td>244</td>\n",
       "      <td>1282</td>\n",
       "      <td>-3.00</td>\n",
       "      <td>15.00</td>\n",
       "      <td>353.00</td>\n",
       "      <td>149.00</td>\n",
       "      <td>127.00</td>\n",
       "      <td>641.00</td>\n",
       "      <td>0.60</td>\n",
       "      <td>-0.03</td>\n",
       "      <td>0.06</td>\n",
       "      <td>0.78</td>\n",
       "      <td>0.74</td>\n",
       "      <td>0.79</td>\n",
       "      <td>0.60</td>\n",
       "      <td>0.00</td>\n",
       "      <td>0.02</td>\n",
       "    </tr>\n",
       "    <tr>\n",
       "      <th>10426</th>\n",
       "      <td>182</td>\n",
       "      <td>1188</td>\n",
       "      <td>-9.00</td>\n",
       "      <td>-21.00</td>\n",
       "      <td>443.00</td>\n",
       "      <td>124.00</td>\n",
       "      <td>57.00</td>\n",
       "      <td>594.00</td>\n",
       "      <td>0.44</td>\n",
       "      <td>-0.05</td>\n",
       "      <td>-0.07</td>\n",
       "      <td>0.88</td>\n",
       "      <td>0.53</td>\n",
       "      <td>0.43</td>\n",
       "      <td>0.44</td>\n",
       "      <td>0.00</td>\n",
       "      <td>0.75</td>\n",
       "    </tr>\n",
       "  </tbody>\n",
       "</table>\n",
       "</div>"
      ],
      "text/plain": [
       "       game_id  total_score  cat_1  cat_2  cat_3  cat_4  cat_5    cat_6  \\\n",
       "id                                                                        \n",
       "10732      252         2090  86.00 174.00 487.00 197.00 101.00 1,045.00   \n",
       "10804      244         2130 114.00 253.00 337.00 201.00 160.00 1,065.00   \n",
       "10508      252         1492  39.00  51.00 440.00 129.00  87.00   746.00   \n",
       "10219      244         1282  -3.00  15.00 353.00 149.00 127.00   641.00   \n",
       "10426      182         1188  -9.00 -21.00 443.00 124.00  57.00   594.00   \n",
       "\n",
       "       score_rating  rating_1  rating_2  rating_3  rating_4  rating_5  \\\n",
       "id                                                                      \n",
       "10732          0.95      0.80      0.73      1.00      0.99      1.00   \n",
       "10804          1.00      1.00      1.00      0.75      1.00      1.00   \n",
       "10508          0.68      0.36      0.21      0.90      0.65      0.86   \n",
       "10219          0.60     -0.03      0.06      0.78      0.74      0.79   \n",
       "10426          0.44     -0.05     -0.07      0.88      0.53      0.43   \n",
       "\n",
       "       rating_6  total  rating_user  \n",
       "id                                   \n",
       "10732      0.95   0.00         0.03  \n",
       "10804      1.00   0.00         0.74  \n",
       "10508      0.68   0.00         0.97  \n",
       "10219      0.60   0.00         0.02  \n",
       "10426      0.44   0.00         0.75  "
      ]
     },
     "execution_count": 3010,
     "metadata": {},
     "output_type": "execute_result"
    }
   ],
   "source": [
    "X_train.head()"
   ]
  },
  {
   "cell_type": "code",
   "execution_count": 3011,
   "id": "5ebad26e",
   "metadata": {},
   "outputs": [],
   "source": [
    "scaler_1 = StandardScaler()\n",
    "scaler_1.fit(X_train)\n",
    "X_train = scaler_1.transform(X_train)\n",
    "X_test = scaler_1.transform(X_test)"
   ]
  },
  {
   "cell_type": "markdown",
   "id": "060e1046",
   "metadata": {},
   "source": [
    "**LogReg**"
   ]
  },
  {
   "cell_type": "code",
   "execution_count": 3012,
   "id": "291cb6fe",
   "metadata": {
    "scrolled": true
   },
   "outputs": [
    {
     "data": {
      "text/plain": [
       "LogisticRegression()"
      ]
     },
     "execution_count": 3012,
     "metadata": {},
     "output_type": "execute_result"
    }
   ],
   "source": [
    "model = LogisticRegression()\n",
    "model.fit(X_train, y_train)"
   ]
  },
  {
   "cell_type": "code",
   "execution_count": 3013,
   "id": "ecdd7cb0",
   "metadata": {},
   "outputs": [],
   "source": [
    "pred_train = model.predict(X_train)\n",
    "pred_test = model.predict(X_test)"
   ]
  },
  {
   "cell_type": "code",
   "execution_count": 3014,
   "id": "ba1bc6c2",
   "metadata": {
    "scrolled": true
   },
   "outputs": [
    {
     "data": {
      "text/plain": [
       "0.293474149320498"
      ]
     },
     "execution_count": 3014,
     "metadata": {},
     "output_type": "execute_result"
    }
   ],
   "source": [
    "f1_score(y_train, pred_train, average='macro', zero_division = 0)"
   ]
  },
  {
   "cell_type": "code",
   "execution_count": 3015,
   "id": "f2abea51",
   "metadata": {},
   "outputs": [
    {
     "data": {
      "text/plain": [
       "array([0.6039604 , 0.52475248, 0.69306931, 0.61386139, 0.62376238])"
      ]
     },
     "execution_count": 3015,
     "metadata": {},
     "output_type": "execute_result"
    }
   ],
   "source": [
    "scores = cross_val_score(model, X_train, y_train, cv=5)\n",
    "scores"
   ]
  },
  {
   "cell_type": "code",
   "execution_count": 3016,
   "id": "299add78",
   "metadata": {
    "scrolled": false
   },
   "outputs": [
    {
     "data": {
      "text/plain": [
       "0.28979591836734697"
      ]
     },
     "execution_count": 3016,
     "metadata": {},
     "output_type": "execute_result"
    }
   ],
   "source": [
    "f1_score(y_test, pred_test, average='macro', zero_division = 0)"
   ]
  },
  {
   "cell_type": "code",
   "execution_count": 3017,
   "id": "02be9b55",
   "metadata": {},
   "outputs": [
    {
     "data": {
      "text/plain": [
       "0.3004807692307693"
      ]
     },
     "execution_count": 3017,
     "metadata": {},
     "output_type": "execute_result"
    }
   ],
   "source": [
    "r_s = recall_score(y_test, pred_test, average = 'macro', zero_division = 0)\n",
    "r_s"
   ]
  },
  {
   "cell_type": "code",
   "execution_count": 3018,
   "id": "5b0694f6",
   "metadata": {
    "scrolled": false
   },
   "outputs": [
    {
     "name": "stdout",
     "output_type": "stream",
     "text": [
      "              precision    recall  f1-score   support\n",
      "\n",
      "         3.0       0.00      0.00      0.00         9\n",
      "         4.0       0.66      0.89      0.76       104\n",
      "         5.0       0.57      0.31      0.40        52\n",
      "         6.0       0.00      0.00      0.00         4\n",
      "\n",
      "    accuracy                           0.64       169\n",
      "   macro avg       0.31      0.30      0.29       169\n",
      "weighted avg       0.58      0.64      0.59       169\n",
      "\n"
     ]
    }
   ],
   "source": [
    "print(classification_report(y_test, pred_test))"
   ]
  },
  {
   "cell_type": "code",
   "execution_count": 3019,
   "id": "e2768902",
   "metadata": {},
   "outputs": [
    {
     "data": {
      "text/html": [
       "<div>\n",
       "<style scoped>\n",
       "    .dataframe tbody tr th:only-of-type {\n",
       "        vertical-align: middle;\n",
       "    }\n",
       "\n",
       "    .dataframe tbody tr th {\n",
       "        vertical-align: top;\n",
       "    }\n",
       "\n",
       "    .dataframe thead th {\n",
       "        text-align: right;\n",
       "    }\n",
       "</style>\n",
       "<table border=\"1\" class=\"dataframe\">\n",
       "  <thead>\n",
       "    <tr style=\"text-align: right;\">\n",
       "      <th></th>\n",
       "      <th>model</th>\n",
       "      <th>recall</th>\n",
       "    </tr>\n",
       "  </thead>\n",
       "  <tbody>\n",
       "    <tr>\n",
       "      <th>0</th>\n",
       "      <td>log_reg</td>\n",
       "      <td>0.30</td>\n",
       "    </tr>\n",
       "  </tbody>\n",
       "</table>\n",
       "</div>"
      ],
      "text/plain": [
       "     model  recall\n",
       "0  log_reg    0.30"
      ]
     },
     "execution_count": 3019,
     "metadata": {},
     "output_type": "execute_result"
    }
   ],
   "source": [
    "total_score_1 = []\n",
    "total_score_1.append({      'model': 'log_reg',\n",
    "                           'recall': r_s})\n",
    "pd.DataFrame(total_score_1)"
   ]
  },
  {
   "cell_type": "markdown",
   "id": "ef8dd1e5",
   "metadata": {},
   "source": [
    "**RFC**"
   ]
  },
  {
   "cell_type": "code",
   "execution_count": 3020,
   "id": "6447f838",
   "metadata": {},
   "outputs": [
    {
     "data": {
      "text/plain": [
       "RandomForestClassifier(random_state=12345)"
      ]
     },
     "execution_count": 3020,
     "metadata": {},
     "output_type": "execute_result"
    }
   ],
   "source": [
    "clf = RandomForestClassifier(random_state=12345)\n",
    "clf.fit(X_train, y_train)"
   ]
  },
  {
   "cell_type": "code",
   "execution_count": 3021,
   "id": "92ef15a1",
   "metadata": {},
   "outputs": [],
   "source": [
    "pred_train = clf.predict(X_train)\n",
    "pred_test = clf.predict(X_test)"
   ]
  },
  {
   "cell_type": "code",
   "execution_count": 3022,
   "id": "9d8c2d5d",
   "metadata": {
    "scrolled": true
   },
   "outputs": [
    {
     "data": {
      "text/plain": [
       "1.0"
      ]
     },
     "execution_count": 3022,
     "metadata": {},
     "output_type": "execute_result"
    }
   ],
   "source": [
    "f1_score(y_train, pred_train, average='macro', zero_division = 0)"
   ]
  },
  {
   "cell_type": "code",
   "execution_count": 3023,
   "id": "9f5e70ed",
   "metadata": {},
   "outputs": [
    {
     "data": {
      "text/plain": [
       "array([0.54455446, 0.58415842, 0.66336634, 0.65346535, 0.62376238])"
      ]
     },
     "execution_count": 3023,
     "metadata": {},
     "output_type": "execute_result"
    }
   ],
   "source": [
    "scores = cross_val_score(clf, X_train, y_train, cv=5)\n",
    "scores"
   ]
  },
  {
   "cell_type": "code",
   "execution_count": 3024,
   "id": "4d4562b6",
   "metadata": {
    "scrolled": true
   },
   "outputs": [
    {
     "data": {
      "text/plain": [
       "0.3580131084273215"
      ]
     },
     "execution_count": 3024,
     "metadata": {},
     "output_type": "execute_result"
    }
   ],
   "source": [
    "f1_score(y_test, pred_test, average='macro', zero_division = 0)"
   ]
  },
  {
   "cell_type": "code",
   "execution_count": 3025,
   "id": "f048d8d6",
   "metadata": {},
   "outputs": [
    {
     "data": {
      "text/plain": [
       "0.35122863247863245"
      ]
     },
     "execution_count": 3025,
     "metadata": {},
     "output_type": "execute_result"
    }
   ],
   "source": [
    "r_s = recall_score(y_test, pred_test, average = 'macro', zero_division = 0)\n",
    "r_s"
   ]
  },
  {
   "cell_type": "code",
   "execution_count": 3026,
   "id": "72f849d5",
   "metadata": {
    "scrolled": false
   },
   "outputs": [
    {
     "name": "stdout",
     "output_type": "stream",
     "text": [
      "              precision    recall  f1-score   support\n",
      "\n",
      "         3.0       0.33      0.22      0.27         9\n",
      "         4.0       0.67      0.84      0.75       104\n",
      "         5.0       0.53      0.35      0.42        52\n",
      "         6.0       0.00      0.00      0.00         4\n",
      "\n",
      "    accuracy                           0.63       169\n",
      "   macro avg       0.38      0.35      0.36       169\n",
      "weighted avg       0.60      0.63      0.60       169\n",
      "\n"
     ]
    }
   ],
   "source": [
    "print(classification_report(y_test, pred_test))"
   ]
  },
  {
   "cell_type": "code",
   "execution_count": 3027,
   "id": "845a72ad",
   "metadata": {},
   "outputs": [
    {
     "data": {
      "text/html": [
       "<div>\n",
       "<style scoped>\n",
       "    .dataframe tbody tr th:only-of-type {\n",
       "        vertical-align: middle;\n",
       "    }\n",
       "\n",
       "    .dataframe tbody tr th {\n",
       "        vertical-align: top;\n",
       "    }\n",
       "\n",
       "    .dataframe thead th {\n",
       "        text-align: right;\n",
       "    }\n",
       "</style>\n",
       "<table border=\"1\" class=\"dataframe\">\n",
       "  <thead>\n",
       "    <tr style=\"text-align: right;\">\n",
       "      <th></th>\n",
       "      <th>model</th>\n",
       "      <th>recall</th>\n",
       "    </tr>\n",
       "  </thead>\n",
       "  <tbody>\n",
       "    <tr>\n",
       "      <th>0</th>\n",
       "      <td>log_reg</td>\n",
       "      <td>0.30</td>\n",
       "    </tr>\n",
       "    <tr>\n",
       "      <th>1</th>\n",
       "      <td>RFC</td>\n",
       "      <td>0.35</td>\n",
       "    </tr>\n",
       "  </tbody>\n",
       "</table>\n",
       "</div>"
      ],
      "text/plain": [
       "     model  recall\n",
       "0  log_reg    0.30\n",
       "1      RFC    0.35"
      ]
     },
     "execution_count": 3027,
     "metadata": {},
     "output_type": "execute_result"
    }
   ],
   "source": [
    "total_score_1.append({\n",
    "                           'model': 'RFC',\n",
    "                           'recall': r_s})\n",
    "pd.DataFrame(total_score_1)"
   ]
  },
  {
   "cell_type": "markdown",
   "id": "f353bde9",
   "metadata": {},
   "source": [
    "**LGBM**"
   ]
  },
  {
   "cell_type": "code",
   "execution_count": 3028,
   "id": "9b0d855e",
   "metadata": {},
   "outputs": [],
   "source": [
    "lgbm = LGBMClassifier()"
   ]
  },
  {
   "cell_type": "code",
   "execution_count": 3029,
   "id": "e2586618",
   "metadata": {},
   "outputs": [],
   "source": [
    "parameters_lgbm = {'max_depth': [3, 6, 12],\n",
    "                  'learning_rate':[0.005, 0.01, 0.03]}"
   ]
  },
  {
   "cell_type": "code",
   "execution_count": 3030,
   "id": "52345fca",
   "metadata": {},
   "outputs": [],
   "source": [
    "lgbm = GridSearchCV(lgbm, parameters_lgbm)"
   ]
  },
  {
   "cell_type": "code",
   "execution_count": 3031,
   "id": "5845d207",
   "metadata": {},
   "outputs": [
    {
     "name": "stdout",
     "output_type": "stream",
     "text": [
      "CPU times: total: 20.7 s\n",
      "Wall time: 2.68 s\n"
     ]
    },
    {
     "data": {
      "text/plain": [
       "GridSearchCV(estimator=LGBMClassifier(),\n",
       "             param_grid={'learning_rate': [0.005, 0.01, 0.03],\n",
       "                         'max_depth': [3, 6, 12]})"
      ]
     },
     "execution_count": 3031,
     "metadata": {},
     "output_type": "execute_result"
    }
   ],
   "source": [
    "%%time\n",
    "lgbm.fit(X_train, y_train)"
   ]
  },
  {
   "cell_type": "code",
   "execution_count": 3032,
   "id": "2a903143",
   "metadata": {},
   "outputs": [
    {
     "data": {
      "text/plain": [
       "{'learning_rate': 0.005, 'max_depth': 3}"
      ]
     },
     "execution_count": 3032,
     "metadata": {},
     "output_type": "execute_result"
    }
   ],
   "source": [
    "lgbm.best_params_"
   ]
  },
  {
   "cell_type": "code",
   "execution_count": 3033,
   "id": "7309b146",
   "metadata": {},
   "outputs": [],
   "source": [
    "pred_train = lgbm.predict(X_train)\n",
    "pred_test = lgbm.predict(X_test)"
   ]
  },
  {
   "cell_type": "code",
   "execution_count": 3034,
   "id": "e716ce09",
   "metadata": {
    "scrolled": true
   },
   "outputs": [
    {
     "data": {
      "text/plain": [
       "0.25952519702519705"
      ]
     },
     "execution_count": 3034,
     "metadata": {},
     "output_type": "execute_result"
    }
   ],
   "source": [
    "f1_score(y_train, pred_train, average='macro', zero_division = 0)"
   ]
  },
  {
   "cell_type": "code",
   "execution_count": 3035,
   "id": "b2b80ec4",
   "metadata": {},
   "outputs": [
    {
     "data": {
      "text/plain": [
       "array([0.58415842, 0.55445545, 0.6039604 , 0.59405941, 0.59405941])"
      ]
     },
     "execution_count": 3035,
     "metadata": {},
     "output_type": "execute_result"
    }
   ],
   "source": [
    "scores = cross_val_score(lgbm, X_train, y_train, cv=5)\n",
    "scores"
   ]
  },
  {
   "cell_type": "code",
   "execution_count": 3036,
   "id": "907bc6b6",
   "metadata": {
    "scrolled": false
   },
   "outputs": [
    {
     "data": {
      "text/plain": [
       "0.2078423671118094"
      ]
     },
     "execution_count": 3036,
     "metadata": {},
     "output_type": "execute_result"
    }
   ],
   "source": [
    "f1_score(y_test, pred_test, average='macro', zero_division = 0)"
   ]
  },
  {
   "cell_type": "code",
   "execution_count": 3037,
   "id": "e081ebc4",
   "metadata": {},
   "outputs": [
    {
     "data": {
      "text/plain": [
       "0.2548076923076923"
      ]
     },
     "execution_count": 3037,
     "metadata": {},
     "output_type": "execute_result"
    }
   ],
   "source": [
    "r_s = recall_score(y_test, pred_test, average = 'macro', zero_division = 0)\n",
    "r_s"
   ]
  },
  {
   "cell_type": "code",
   "execution_count": 3038,
   "id": "0ce67c6b",
   "metadata": {
    "scrolled": false
   },
   "outputs": [
    {
     "name": "stdout",
     "output_type": "stream",
     "text": [
      "              precision    recall  f1-score   support\n",
      "\n",
      "         3.0       0.00      0.00      0.00         9\n",
      "         4.0       0.62      0.98      0.76       104\n",
      "         5.0       0.40      0.04      0.07        52\n",
      "         6.0       0.00      0.00      0.00         4\n",
      "\n",
      "    accuracy                           0.62       169\n",
      "   macro avg       0.26      0.25      0.21       169\n",
      "weighted avg       0.51      0.62      0.49       169\n",
      "\n"
     ]
    }
   ],
   "source": [
    "print(classification_report(y_test, pred_test))"
   ]
  },
  {
   "cell_type": "code",
   "execution_count": 3039,
   "id": "25fc77c8",
   "metadata": {},
   "outputs": [
    {
     "data": {
      "text/html": [
       "<div>\n",
       "<style scoped>\n",
       "    .dataframe tbody tr th:only-of-type {\n",
       "        vertical-align: middle;\n",
       "    }\n",
       "\n",
       "    .dataframe tbody tr th {\n",
       "        vertical-align: top;\n",
       "    }\n",
       "\n",
       "    .dataframe thead th {\n",
       "        text-align: right;\n",
       "    }\n",
       "</style>\n",
       "<table border=\"1\" class=\"dataframe\">\n",
       "  <thead>\n",
       "    <tr style=\"text-align: right;\">\n",
       "      <th></th>\n",
       "      <th>model</th>\n",
       "      <th>recall</th>\n",
       "    </tr>\n",
       "  </thead>\n",
       "  <tbody>\n",
       "    <tr>\n",
       "      <th>0</th>\n",
       "      <td>log_reg</td>\n",
       "      <td>0.30</td>\n",
       "    </tr>\n",
       "    <tr>\n",
       "      <th>1</th>\n",
       "      <td>RFC</td>\n",
       "      <td>0.35</td>\n",
       "    </tr>\n",
       "    <tr>\n",
       "      <th>2</th>\n",
       "      <td>LGBM</td>\n",
       "      <td>0.25</td>\n",
       "    </tr>\n",
       "  </tbody>\n",
       "</table>\n",
       "</div>"
      ],
      "text/plain": [
       "     model  recall\n",
       "0  log_reg    0.30\n",
       "1      RFC    0.35\n",
       "2     LGBM    0.25"
      ]
     },
     "execution_count": 3039,
     "metadata": {},
     "output_type": "execute_result"
    }
   ],
   "source": [
    "total_score_1.append({\n",
    "                           'model': 'LGBM',\n",
    "                           'recall': r_s})\n",
    "pd.DataFrame(total_score_1)"
   ]
  },
  {
   "cell_type": "code",
   "execution_count": 3040,
   "id": "7ab9819f",
   "metadata": {},
   "outputs": [],
   "source": [
    "X_train = df_7.drop(col_drop, axis=1) \n",
    "y_train = df_7['Analytical thinking']\n",
    "lgbm.fit(X_train, y_train)\n",
    "model_1 = lgbm"
   ]
  },
  {
   "cell_type": "markdown",
   "id": "9deb7b12",
   "metadata": {},
   "source": [
    "## 'Systemic thinking' (в трейне: ОНЕ-решений, баллы и рейтинги)"
   ]
  },
  {
   "cell_type": "code",
   "execution_count": 3041,
   "id": "889d023b",
   "metadata": {},
   "outputs": [
    {
     "data": {
      "text/html": [
       "<div>\n",
       "<style scoped>\n",
       "    .dataframe tbody tr th:only-of-type {\n",
       "        vertical-align: middle;\n",
       "    }\n",
       "\n",
       "    .dataframe tbody tr th {\n",
       "        vertical-align: top;\n",
       "    }\n",
       "\n",
       "    .dataframe thead th {\n",
       "        text-align: right;\n",
       "    }\n",
       "</style>\n",
       "<table border=\"1\" class=\"dataframe\">\n",
       "  <thead>\n",
       "    <tr style=\"text-align: right;\">\n",
       "      <th></th>\n",
       "      <th>Analytical thinking</th>\n",
       "      <th>Systemic thinking</th>\n",
       "      <th>Adaptability</th>\n",
       "      <th>Focus</th>\n",
       "      <th>game_id</th>\n",
       "      <th>total_score</th>\n",
       "      <th>cat_1</th>\n",
       "      <th>cat_2</th>\n",
       "      <th>cat_3</th>\n",
       "      <th>cat_4</th>\n",
       "      <th>cat_5</th>\n",
       "      <th>cat_6</th>\n",
       "      <th>score_rating</th>\n",
       "      <th>rating_1</th>\n",
       "      <th>rating_2</th>\n",
       "      <th>rating_3</th>\n",
       "      <th>rating_4</th>\n",
       "      <th>rating_5</th>\n",
       "      <th>rating_6</th>\n",
       "    </tr>\n",
       "    <tr>\n",
       "      <th>id</th>\n",
       "      <th></th>\n",
       "      <th></th>\n",
       "      <th></th>\n",
       "      <th></th>\n",
       "      <th></th>\n",
       "      <th></th>\n",
       "      <th></th>\n",
       "      <th></th>\n",
       "      <th></th>\n",
       "      <th></th>\n",
       "      <th></th>\n",
       "      <th></th>\n",
       "      <th></th>\n",
       "      <th></th>\n",
       "      <th></th>\n",
       "      <th></th>\n",
       "      <th></th>\n",
       "      <th></th>\n",
       "      <th></th>\n",
       "    </tr>\n",
       "  </thead>\n",
       "  <tbody>\n",
       "    <tr>\n",
       "      <th>10884</th>\n",
       "      <td>4.00</td>\n",
       "      <td>4.00</td>\n",
       "      <td>4.00</td>\n",
       "      <td>4.00</td>\n",
       "      <td>202</td>\n",
       "      <td>1188</td>\n",
       "      <td>-5.00</td>\n",
       "      <td>-25.00</td>\n",
       "      <td>391.00</td>\n",
       "      <td>128.00</td>\n",
       "      <td>105.00</td>\n",
       "      <td>594.00</td>\n",
       "      <td>0.55</td>\n",
       "      <td>-0.04</td>\n",
       "      <td>-0.13</td>\n",
       "      <td>0.77</td>\n",
       "      <td>0.74</td>\n",
       "      <td>1.00</td>\n",
       "      <td>0.55</td>\n",
       "    </tr>\n",
       "    <tr>\n",
       "      <th>10106</th>\n",
       "      <td>5.00</td>\n",
       "      <td>4.00</td>\n",
       "      <td>5.00</td>\n",
       "      <td>5.00</td>\n",
       "      <td>211</td>\n",
       "      <td>1828</td>\n",
       "      <td>54.00</td>\n",
       "      <td>120.00</td>\n",
       "      <td>467.00</td>\n",
       "      <td>160.00</td>\n",
       "      <td>113.00</td>\n",
       "      <td>914.00</td>\n",
       "      <td>1.00</td>\n",
       "      <td>1.00</td>\n",
       "      <td>0.90</td>\n",
       "      <td>0.99</td>\n",
       "      <td>0.90</td>\n",
       "      <td>1.00</td>\n",
       "      <td>1.00</td>\n",
       "    </tr>\n",
       "    <tr>\n",
       "      <th>10438</th>\n",
       "      <td>6.00</td>\n",
       "      <td>5.00</td>\n",
       "      <td>5.00</td>\n",
       "      <td>5.00</td>\n",
       "      <td>242</td>\n",
       "      <td>1604</td>\n",
       "      <td>55.00</td>\n",
       "      <td>60.00</td>\n",
       "      <td>383.00</td>\n",
       "      <td>158.00</td>\n",
       "      <td>146.00</td>\n",
       "      <td>802.00</td>\n",
       "      <td>1.00</td>\n",
       "      <td>1.00</td>\n",
       "      <td>0.69</td>\n",
       "      <td>0.98</td>\n",
       "      <td>1.00</td>\n",
       "      <td>0.81</td>\n",
       "      <td>1.00</td>\n",
       "    </tr>\n",
       "    <tr>\n",
       "      <th>10130</th>\n",
       "      <td>5.00</td>\n",
       "      <td>4.00</td>\n",
       "      <td>5.00</td>\n",
       "      <td>5.00</td>\n",
       "      <td>184</td>\n",
       "      <td>1334</td>\n",
       "      <td>31.00</td>\n",
       "      <td>24.00</td>\n",
       "      <td>366.00</td>\n",
       "      <td>139.00</td>\n",
       "      <td>107.00</td>\n",
       "      <td>667.00</td>\n",
       "      <td>0.62</td>\n",
       "      <td>0.30</td>\n",
       "      <td>0.12</td>\n",
       "      <td>0.71</td>\n",
       "      <td>0.69</td>\n",
       "      <td>1.00</td>\n",
       "      <td>0.62</td>\n",
       "    </tr>\n",
       "    <tr>\n",
       "      <th>10667</th>\n",
       "      <td>4.00</td>\n",
       "      <td>5.00</td>\n",
       "      <td>5.00</td>\n",
       "      <td>5.00</td>\n",
       "      <td>193</td>\n",
       "      <td>1756</td>\n",
       "      <td>71.00</td>\n",
       "      <td>70.00</td>\n",
       "      <td>416.00</td>\n",
       "      <td>166.00</td>\n",
       "      <td>155.00</td>\n",
       "      <td>878.00</td>\n",
       "      <td>0.72</td>\n",
       "      <td>0.41</td>\n",
       "      <td>0.26</td>\n",
       "      <td>0.97</td>\n",
       "      <td>0.80</td>\n",
       "      <td>0.87</td>\n",
       "      <td>0.72</td>\n",
       "    </tr>\n",
       "  </tbody>\n",
       "</table>\n",
       "</div>"
      ],
      "text/plain": [
       "       Analytical thinking  Systemic thinking  Adaptability  Focus  game_id  \\\n",
       "id                                                                            \n",
       "10884                 4.00               4.00          4.00   4.00      202   \n",
       "10106                 5.00               4.00          5.00   5.00      211   \n",
       "10438                 6.00               5.00          5.00   5.00      242   \n",
       "10130                 5.00               4.00          5.00   5.00      184   \n",
       "10667                 4.00               5.00          5.00   5.00      193   \n",
       "\n",
       "       total_score  cat_1  cat_2  cat_3  cat_4  cat_5  cat_6  score_rating  \\\n",
       "id                                                                           \n",
       "10884         1188  -5.00 -25.00 391.00 128.00 105.00 594.00          0.55   \n",
       "10106         1828  54.00 120.00 467.00 160.00 113.00 914.00          1.00   \n",
       "10438         1604  55.00  60.00 383.00 158.00 146.00 802.00          1.00   \n",
       "10130         1334  31.00  24.00 366.00 139.00 107.00 667.00          0.62   \n",
       "10667         1756  71.00  70.00 416.00 166.00 155.00 878.00          0.72   \n",
       "\n",
       "       rating_1  rating_2  rating_3  rating_4  rating_5  rating_6  \n",
       "id                                                                 \n",
       "10884     -0.04     -0.13      0.77      0.74      1.00      0.55  \n",
       "10106      1.00      0.90      0.99      0.90      1.00      1.00  \n",
       "10438      1.00      0.69      0.98      1.00      0.81      1.00  \n",
       "10130      0.30      0.12      0.71      0.69      1.00      0.62  \n",
       "10667      0.41      0.26      0.97      0.80      0.87      0.72  "
      ]
     },
     "execution_count": 3041,
     "metadata": {},
     "output_type": "execute_result"
    }
   ],
   "source": [
    "df_score.head()"
   ]
  },
  {
   "cell_type": "code",
   "execution_count": 3042,
   "id": "6e103772",
   "metadata": {
    "scrolled": false
   },
   "outputs": [
    {
     "data": {
      "text/html": [
       "<div>\n",
       "<style scoped>\n",
       "    .dataframe tbody tr th:only-of-type {\n",
       "        vertical-align: middle;\n",
       "    }\n",
       "\n",
       "    .dataframe tbody tr th {\n",
       "        vertical-align: top;\n",
       "    }\n",
       "\n",
       "    .dataframe thead th {\n",
       "        text-align: right;\n",
       "    }\n",
       "</style>\n",
       "<table border=\"1\" class=\"dataframe\">\n",
       "  <thead>\n",
       "    <tr style=\"text-align: right;\">\n",
       "      <th></th>\n",
       "      <th>Analytical thinking</th>\n",
       "      <th>Systemic thinking</th>\n",
       "      <th>Adaptability</th>\n",
       "      <th>Focus</th>\n",
       "      <th>1</th>\n",
       "      <th>2</th>\n",
       "      <th>3</th>\n",
       "      <th>4</th>\n",
       "      <th>5</th>\n",
       "      <th>6</th>\n",
       "      <th>...</th>\n",
       "      <th>430</th>\n",
       "      <th>431</th>\n",
       "      <th>432</th>\n",
       "      <th>433</th>\n",
       "      <th>434</th>\n",
       "      <th>435</th>\n",
       "      <th>436</th>\n",
       "      <th>437</th>\n",
       "      <th>438</th>\n",
       "      <th>total</th>\n",
       "    </tr>\n",
       "    <tr>\n",
       "      <th>index</th>\n",
       "      <th></th>\n",
       "      <th></th>\n",
       "      <th></th>\n",
       "      <th></th>\n",
       "      <th></th>\n",
       "      <th></th>\n",
       "      <th></th>\n",
       "      <th></th>\n",
       "      <th></th>\n",
       "      <th></th>\n",
       "      <th></th>\n",
       "      <th></th>\n",
       "      <th></th>\n",
       "      <th></th>\n",
       "      <th></th>\n",
       "      <th></th>\n",
       "      <th></th>\n",
       "      <th></th>\n",
       "      <th></th>\n",
       "      <th></th>\n",
       "      <th></th>\n",
       "    </tr>\n",
       "  </thead>\n",
       "  <tbody>\n",
       "    <tr>\n",
       "      <th>10001</th>\n",
       "      <td>4.00</td>\n",
       "      <td>4.00</td>\n",
       "      <td>5.00</td>\n",
       "      <td>4.00</td>\n",
       "      <td>0.00</td>\n",
       "      <td>0.00</td>\n",
       "      <td>0.00</td>\n",
       "      <td>0.00</td>\n",
       "      <td>0.00</td>\n",
       "      <td>0.00</td>\n",
       "      <td>...</td>\n",
       "      <td>0.00</td>\n",
       "      <td>0.00</td>\n",
       "      <td>0.00</td>\n",
       "      <td>0.00</td>\n",
       "      <td>0.00</td>\n",
       "      <td>0.00</td>\n",
       "      <td>0.00</td>\n",
       "      <td>0.00</td>\n",
       "      <td>0</td>\n",
       "      <td>0.00</td>\n",
       "    </tr>\n",
       "  </tbody>\n",
       "</table>\n",
       "<p>1 rows × 443 columns</p>\n",
       "</div>"
      ],
      "text/plain": [
       "       Analytical thinking  Systemic thinking  Adaptability  Focus    1    2  \\\n",
       "index                                                                          \n",
       "10001                 4.00               4.00          5.00   4.00 0.00 0.00   \n",
       "\n",
       "         3    4    5    6  ...  430  431  432  433  434  435  436  437  438  \\\n",
       "index                      ...                                                \n",
       "10001 0.00 0.00 0.00 0.00  ... 0.00 0.00 0.00 0.00 0.00 0.00 0.00 0.00    0   \n",
       "\n",
       "       total  \n",
       "index         \n",
       "10001   0.00  \n",
       "\n",
       "[1 rows x 443 columns]"
      ]
     },
     "execution_count": 3042,
     "metadata": {},
     "output_type": "execute_result"
    }
   ],
   "source": [
    "df_2.head(1)"
   ]
  },
  {
   "cell_type": "code",
   "execution_count": 3043,
   "id": "88ee21dc",
   "metadata": {},
   "outputs": [],
   "source": [
    "col_drop = ['Analytical thinking', 'Systemic thinking', 'Adaptability','Focus']"
   ]
  },
  {
   "cell_type": "code",
   "execution_count": 3044,
   "id": "1410e633",
   "metadata": {},
   "outputs": [],
   "source": [
    "df_7 = df_score.join(df_2.drop(col_drop, axis=1))"
   ]
  },
  {
   "cell_type": "code",
   "execution_count": 3045,
   "id": "29ec4bbd",
   "metadata": {
    "scrolled": true
   },
   "outputs": [
    {
     "data": {
      "text/html": [
       "<div>\n",
       "<style scoped>\n",
       "    .dataframe tbody tr th:only-of-type {\n",
       "        vertical-align: middle;\n",
       "    }\n",
       "\n",
       "    .dataframe tbody tr th {\n",
       "        vertical-align: top;\n",
       "    }\n",
       "\n",
       "    .dataframe thead th {\n",
       "        text-align: right;\n",
       "    }\n",
       "</style>\n",
       "<table border=\"1\" class=\"dataframe\">\n",
       "  <thead>\n",
       "    <tr style=\"text-align: right;\">\n",
       "      <th></th>\n",
       "      <th>Analytical thinking</th>\n",
       "      <th>Systemic thinking</th>\n",
       "      <th>Adaptability</th>\n",
       "      <th>Focus</th>\n",
       "      <th>game_id</th>\n",
       "      <th>total_score</th>\n",
       "      <th>cat_1</th>\n",
       "      <th>cat_2</th>\n",
       "      <th>cat_3</th>\n",
       "      <th>cat_4</th>\n",
       "      <th>...</th>\n",
       "      <th>430</th>\n",
       "      <th>431</th>\n",
       "      <th>432</th>\n",
       "      <th>433</th>\n",
       "      <th>434</th>\n",
       "      <th>435</th>\n",
       "      <th>436</th>\n",
       "      <th>437</th>\n",
       "      <th>438</th>\n",
       "      <th>total</th>\n",
       "    </tr>\n",
       "    <tr>\n",
       "      <th>id</th>\n",
       "      <th></th>\n",
       "      <th></th>\n",
       "      <th></th>\n",
       "      <th></th>\n",
       "      <th></th>\n",
       "      <th></th>\n",
       "      <th></th>\n",
       "      <th></th>\n",
       "      <th></th>\n",
       "      <th></th>\n",
       "      <th></th>\n",
       "      <th></th>\n",
       "      <th></th>\n",
       "      <th></th>\n",
       "      <th></th>\n",
       "      <th></th>\n",
       "      <th></th>\n",
       "      <th></th>\n",
       "      <th></th>\n",
       "      <th></th>\n",
       "      <th></th>\n",
       "    </tr>\n",
       "  </thead>\n",
       "  <tbody>\n",
       "    <tr>\n",
       "      <th>10884</th>\n",
       "      <td>4.00</td>\n",
       "      <td>4.00</td>\n",
       "      <td>4.00</td>\n",
       "      <td>4.00</td>\n",
       "      <td>202</td>\n",
       "      <td>1188</td>\n",
       "      <td>-5.00</td>\n",
       "      <td>-25.00</td>\n",
       "      <td>391.00</td>\n",
       "      <td>128.00</td>\n",
       "      <td>...</td>\n",
       "      <td>0.00</td>\n",
       "      <td>0.00</td>\n",
       "      <td>0.00</td>\n",
       "      <td>0.00</td>\n",
       "      <td>0.00</td>\n",
       "      <td>0.00</td>\n",
       "      <td>0.00</td>\n",
       "      <td>0.00</td>\n",
       "      <td>0</td>\n",
       "      <td>0.00</td>\n",
       "    </tr>\n",
       "  </tbody>\n",
       "</table>\n",
       "<p>1 rows × 458 columns</p>\n",
       "</div>"
      ],
      "text/plain": [
       "       Analytical thinking  Systemic thinking  Adaptability  Focus  game_id  \\\n",
       "id                                                                            \n",
       "10884                 4.00               4.00          4.00   4.00      202   \n",
       "\n",
       "       total_score  cat_1  cat_2  cat_3  cat_4  ...  430  431  432  433  434  \\\n",
       "id                                              ...                            \n",
       "10884         1188  -5.00 -25.00 391.00 128.00  ... 0.00 0.00 0.00 0.00 0.00   \n",
       "\n",
       "       435  436  437  438  total  \n",
       "id                                \n",
       "10884 0.00 0.00 0.00    0   0.00  \n",
       "\n",
       "[1 rows x 458 columns]"
      ]
     },
     "execution_count": 3045,
     "metadata": {},
     "output_type": "execute_result"
    }
   ],
   "source": [
    "df_7.head(1)"
   ]
  },
  {
   "cell_type": "code",
   "execution_count": 3046,
   "id": "a70234e8",
   "metadata": {},
   "outputs": [],
   "source": [
    "df_7['max_total'] = df_7.groupby('game_id')['total'].transform('max')"
   ]
  },
  {
   "cell_type": "code",
   "execution_count": 3047,
   "id": "03b12929",
   "metadata": {},
   "outputs": [],
   "source": [
    "df_7['rating_user'] = df_7['total'] / df_7['max_total']"
   ]
  },
  {
   "cell_type": "code",
   "execution_count": 3048,
   "id": "cfe9179e",
   "metadata": {},
   "outputs": [
    {
     "data": {
      "text/plain": [
       "(674, 460)"
      ]
     },
     "execution_count": 3048,
     "metadata": {},
     "output_type": "execute_result"
    }
   ],
   "source": [
    "df_7 = df_7[df_7['Analytical thinking']>2]\n",
    "df_7 = df_7[df_7['Systemic thinking']>2]\n",
    "df_7 = df_7[df_7['Adaptability']>2]\n",
    "df_7 = df_7[df_7['Focus']>2]\n",
    "df_7.shape"
   ]
  },
  {
   "cell_type": "code",
   "execution_count": 3049,
   "id": "be220c5e",
   "metadata": {},
   "outputs": [],
   "source": [
    "for i in range(1, 439):\n",
    "    df_7 = df_7.drop(str(i), axis=1)    "
   ]
  },
  {
   "cell_type": "code",
   "execution_count": 3050,
   "id": "923fa518",
   "metadata": {},
   "outputs": [
    {
     "data": {
      "text/html": [
       "<div>\n",
       "<style scoped>\n",
       "    .dataframe tbody tr th:only-of-type {\n",
       "        vertical-align: middle;\n",
       "    }\n",
       "\n",
       "    .dataframe tbody tr th {\n",
       "        vertical-align: top;\n",
       "    }\n",
       "\n",
       "    .dataframe thead th {\n",
       "        text-align: right;\n",
       "    }\n",
       "</style>\n",
       "<table border=\"1\" class=\"dataframe\">\n",
       "  <thead>\n",
       "    <tr style=\"text-align: right;\">\n",
       "      <th></th>\n",
       "      <th>Analytical thinking</th>\n",
       "      <th>Systemic thinking</th>\n",
       "      <th>Adaptability</th>\n",
       "      <th>Focus</th>\n",
       "      <th>game_id</th>\n",
       "      <th>total_score</th>\n",
       "      <th>cat_1</th>\n",
       "      <th>cat_2</th>\n",
       "      <th>cat_3</th>\n",
       "      <th>cat_4</th>\n",
       "      <th>...</th>\n",
       "      <th>score_rating</th>\n",
       "      <th>rating_1</th>\n",
       "      <th>rating_2</th>\n",
       "      <th>rating_3</th>\n",
       "      <th>rating_4</th>\n",
       "      <th>rating_5</th>\n",
       "      <th>rating_6</th>\n",
       "      <th>total</th>\n",
       "      <th>max_total</th>\n",
       "      <th>rating_user</th>\n",
       "    </tr>\n",
       "    <tr>\n",
       "      <th>id</th>\n",
       "      <th></th>\n",
       "      <th></th>\n",
       "      <th></th>\n",
       "      <th></th>\n",
       "      <th></th>\n",
       "      <th></th>\n",
       "      <th></th>\n",
       "      <th></th>\n",
       "      <th></th>\n",
       "      <th></th>\n",
       "      <th></th>\n",
       "      <th></th>\n",
       "      <th></th>\n",
       "      <th></th>\n",
       "      <th></th>\n",
       "      <th></th>\n",
       "      <th></th>\n",
       "      <th></th>\n",
       "      <th></th>\n",
       "      <th></th>\n",
       "      <th></th>\n",
       "    </tr>\n",
       "  </thead>\n",
       "  <tbody>\n",
       "    <tr>\n",
       "      <th>10884</th>\n",
       "      <td>4.00</td>\n",
       "      <td>4.00</td>\n",
       "      <td>4.00</td>\n",
       "      <td>4.00</td>\n",
       "      <td>202</td>\n",
       "      <td>1188</td>\n",
       "      <td>-5.00</td>\n",
       "      <td>-25.00</td>\n",
       "      <td>391.00</td>\n",
       "      <td>128.00</td>\n",
       "      <td>...</td>\n",
       "      <td>0.55</td>\n",
       "      <td>-0.04</td>\n",
       "      <td>-0.13</td>\n",
       "      <td>0.77</td>\n",
       "      <td>0.74</td>\n",
       "      <td>1.00</td>\n",
       "      <td>0.55</td>\n",
       "      <td>0.00</td>\n",
       "      <td>0.00</td>\n",
       "      <td>0.39</td>\n",
       "    </tr>\n",
       "  </tbody>\n",
       "</table>\n",
       "<p>1 rows × 22 columns</p>\n",
       "</div>"
      ],
      "text/plain": [
       "       Analytical thinking  Systemic thinking  Adaptability  Focus  game_id  \\\n",
       "id                                                                            \n",
       "10884                 4.00               4.00          4.00   4.00      202   \n",
       "\n",
       "       total_score  cat_1  cat_2  cat_3  cat_4  ...  score_rating  rating_1  \\\n",
       "id                                              ...                           \n",
       "10884         1188  -5.00 -25.00 391.00 128.00  ...          0.55     -0.04   \n",
       "\n",
       "       rating_2  rating_3  rating_4  rating_5  rating_6  total  max_total  \\\n",
       "id                                                                          \n",
       "10884     -0.13      0.77      0.74      1.00      0.55   0.00       0.00   \n",
       "\n",
       "       rating_user  \n",
       "id                  \n",
       "10884         0.39  \n",
       "\n",
       "[1 rows x 22 columns]"
      ]
     },
     "execution_count": 3050,
     "metadata": {},
     "output_type": "execute_result"
    }
   ],
   "source": [
    "df_7.head(1)"
   ]
  },
  {
   "cell_type": "code",
   "execution_count": 3051,
   "id": "f48990e6",
   "metadata": {},
   "outputs": [],
   "source": [
    "col_drop = ['Analytical thinking', 'Systemic thinking', 'Adaptability', \n",
    "            'Focus', 'max_total']"
   ]
  },
  {
   "cell_type": "code",
   "execution_count": 3052,
   "id": "186f4298",
   "metadata": {},
   "outputs": [],
   "source": [
    "X_train, X_test, y_train, y_test = train_test_split(\n",
    "    df_7.drop(col_drop, axis=1), df_7['Systemic thinking'], stratify = df_7['Systemic thinking'], test_size=0.25, random_state=12345)"
   ]
  },
  {
   "cell_type": "code",
   "execution_count": 3053,
   "id": "5dd58367",
   "metadata": {
    "scrolled": true
   },
   "outputs": [
    {
     "name": "stdout",
     "output_type": "stream",
     "text": [
      "(505, 17)\n",
      "(505,)\n"
     ]
    }
   ],
   "source": [
    "print(X_train.shape)\n",
    "print(y_train.shape)"
   ]
  },
  {
   "cell_type": "code",
   "execution_count": 3054,
   "id": "4fa8c73c",
   "metadata": {
    "scrolled": false
   },
   "outputs": [
    {
     "data": {
      "text/html": [
       "<div>\n",
       "<style scoped>\n",
       "    .dataframe tbody tr th:only-of-type {\n",
       "        vertical-align: middle;\n",
       "    }\n",
       "\n",
       "    .dataframe tbody tr th {\n",
       "        vertical-align: top;\n",
       "    }\n",
       "\n",
       "    .dataframe thead th {\n",
       "        text-align: right;\n",
       "    }\n",
       "</style>\n",
       "<table border=\"1\" class=\"dataframe\">\n",
       "  <thead>\n",
       "    <tr style=\"text-align: right;\">\n",
       "      <th></th>\n",
       "      <th>game_id</th>\n",
       "      <th>total_score</th>\n",
       "      <th>cat_1</th>\n",
       "      <th>cat_2</th>\n",
       "      <th>cat_3</th>\n",
       "      <th>cat_4</th>\n",
       "      <th>cat_5</th>\n",
       "      <th>cat_6</th>\n",
       "      <th>score_rating</th>\n",
       "      <th>rating_1</th>\n",
       "      <th>rating_2</th>\n",
       "      <th>rating_3</th>\n",
       "      <th>rating_4</th>\n",
       "      <th>rating_5</th>\n",
       "      <th>rating_6</th>\n",
       "      <th>total</th>\n",
       "      <th>rating_user</th>\n",
       "    </tr>\n",
       "    <tr>\n",
       "      <th>id</th>\n",
       "      <th></th>\n",
       "      <th></th>\n",
       "      <th></th>\n",
       "      <th></th>\n",
       "      <th></th>\n",
       "      <th></th>\n",
       "      <th></th>\n",
       "      <th></th>\n",
       "      <th></th>\n",
       "      <th></th>\n",
       "      <th></th>\n",
       "      <th></th>\n",
       "      <th></th>\n",
       "      <th></th>\n",
       "      <th></th>\n",
       "      <th></th>\n",
       "      <th></th>\n",
       "    </tr>\n",
       "  </thead>\n",
       "  <tbody>\n",
       "    <tr>\n",
       "      <th>10561</th>\n",
       "      <td>247</td>\n",
       "      <td>1004</td>\n",
       "      <td>-21.00</td>\n",
       "      <td>-14.00</td>\n",
       "      <td>312.00</td>\n",
       "      <td>112.00</td>\n",
       "      <td>113.00</td>\n",
       "      <td>502.00</td>\n",
       "      <td>0.37</td>\n",
       "      <td>-0.11</td>\n",
       "      <td>-0.05</td>\n",
       "      <td>0.59</td>\n",
       "      <td>0.48</td>\n",
       "      <td>0.93</td>\n",
       "      <td>0.37</td>\n",
       "      <td>0.00</td>\n",
       "      <td>0.04</td>\n",
       "    </tr>\n",
       "    <tr>\n",
       "      <th>10222</th>\n",
       "      <td>235</td>\n",
       "      <td>1498</td>\n",
       "      <td>25.00</td>\n",
       "      <td>80.00</td>\n",
       "      <td>440.00</td>\n",
       "      <td>139.00</td>\n",
       "      <td>65.00</td>\n",
       "      <td>749.00</td>\n",
       "      <td>0.87</td>\n",
       "      <td>0.61</td>\n",
       "      <td>0.62</td>\n",
       "      <td>0.87</td>\n",
       "      <td>0.90</td>\n",
       "      <td>0.62</td>\n",
       "      <td>0.87</td>\n",
       "      <td>0.00</td>\n",
       "      <td>0.25</td>\n",
       "    </tr>\n",
       "    <tr>\n",
       "      <th>10234</th>\n",
       "      <td>234</td>\n",
       "      <td>1640</td>\n",
       "      <td>48.00</td>\n",
       "      <td>119.00</td>\n",
       "      <td>367.00</td>\n",
       "      <td>144.00</td>\n",
       "      <td>142.00</td>\n",
       "      <td>820.00</td>\n",
       "      <td>0.93</td>\n",
       "      <td>0.83</td>\n",
       "      <td>0.73</td>\n",
       "      <td>0.94</td>\n",
       "      <td>0.97</td>\n",
       "      <td>0.85</td>\n",
       "      <td>0.93</td>\n",
       "      <td>0.00</td>\n",
       "      <td>0.02</td>\n",
       "    </tr>\n",
       "    <tr>\n",
       "      <th>10182</th>\n",
       "      <td>239</td>\n",
       "      <td>1658</td>\n",
       "      <td>34.00</td>\n",
       "      <td>129.00</td>\n",
       "      <td>357.00</td>\n",
       "      <td>153.00</td>\n",
       "      <td>156.00</td>\n",
       "      <td>829.00</td>\n",
       "      <td>1.00</td>\n",
       "      <td>0.79</td>\n",
       "      <td>1.00</td>\n",
       "      <td>0.86</td>\n",
       "      <td>1.00</td>\n",
       "      <td>1.00</td>\n",
       "      <td>1.00</td>\n",
       "      <td>0.00</td>\n",
       "      <td>0.03</td>\n",
       "    </tr>\n",
       "    <tr>\n",
       "      <th>10699</th>\n",
       "      <td>184</td>\n",
       "      <td>1866</td>\n",
       "      <td>58.00</td>\n",
       "      <td>157.00</td>\n",
       "      <td>413.00</td>\n",
       "      <td>200.00</td>\n",
       "      <td>105.00</td>\n",
       "      <td>933.00</td>\n",
       "      <td>0.87</td>\n",
       "      <td>0.57</td>\n",
       "      <td>0.79</td>\n",
       "      <td>0.81</td>\n",
       "      <td>1.00</td>\n",
       "      <td>0.98</td>\n",
       "      <td>0.87</td>\n",
       "      <td>0.00</td>\n",
       "      <td>0.68</td>\n",
       "    </tr>\n",
       "  </tbody>\n",
       "</table>\n",
       "</div>"
      ],
      "text/plain": [
       "       game_id  total_score  cat_1  cat_2  cat_3  cat_4  cat_5  cat_6  \\\n",
       "id                                                                      \n",
       "10561      247         1004 -21.00 -14.00 312.00 112.00 113.00 502.00   \n",
       "10222      235         1498  25.00  80.00 440.00 139.00  65.00 749.00   \n",
       "10234      234         1640  48.00 119.00 367.00 144.00 142.00 820.00   \n",
       "10182      239         1658  34.00 129.00 357.00 153.00 156.00 829.00   \n",
       "10699      184         1866  58.00 157.00 413.00 200.00 105.00 933.00   \n",
       "\n",
       "       score_rating  rating_1  rating_2  rating_3  rating_4  rating_5  \\\n",
       "id                                                                      \n",
       "10561          0.37     -0.11     -0.05      0.59      0.48      0.93   \n",
       "10222          0.87      0.61      0.62      0.87      0.90      0.62   \n",
       "10234          0.93      0.83      0.73      0.94      0.97      0.85   \n",
       "10182          1.00      0.79      1.00      0.86      1.00      1.00   \n",
       "10699          0.87      0.57      0.79      0.81      1.00      0.98   \n",
       "\n",
       "       rating_6  total  rating_user  \n",
       "id                                   \n",
       "10561      0.37   0.00         0.04  \n",
       "10222      0.87   0.00         0.25  \n",
       "10234      0.93   0.00         0.02  \n",
       "10182      1.00   0.00         0.03  \n",
       "10699      0.87   0.00         0.68  "
      ]
     },
     "execution_count": 3054,
     "metadata": {},
     "output_type": "execute_result"
    }
   ],
   "source": [
    "X_train.head()"
   ]
  },
  {
   "cell_type": "code",
   "execution_count": 3055,
   "id": "a13c69a4",
   "metadata": {},
   "outputs": [],
   "source": [
    "scaler_2 = StandardScaler()\n",
    "scaler_2.fit(X_train)\n",
    "X_train = scaler_2.transform(X_train)\n",
    "X_test = scaler_2.transform(X_test)"
   ]
  },
  {
   "cell_type": "markdown",
   "id": "58916598",
   "metadata": {},
   "source": [
    "**LogReg**"
   ]
  },
  {
   "cell_type": "code",
   "execution_count": 3056,
   "id": "6da8fa29",
   "metadata": {
    "scrolled": true
   },
   "outputs": [
    {
     "data": {
      "text/plain": [
       "LogisticRegression()"
      ]
     },
     "execution_count": 3056,
     "metadata": {},
     "output_type": "execute_result"
    }
   ],
   "source": [
    "model = LogisticRegression()\n",
    "model.fit(X_train, y_train)"
   ]
  },
  {
   "cell_type": "code",
   "execution_count": 3057,
   "id": "efca8e19",
   "metadata": {},
   "outputs": [],
   "source": [
    "pred_train = model.predict(X_train)\n",
    "pred_test = model.predict(X_test)"
   ]
  },
  {
   "cell_type": "code",
   "execution_count": 3058,
   "id": "3e3b5727",
   "metadata": {
    "scrolled": true
   },
   "outputs": [
    {
     "data": {
      "text/plain": [
       "0.24991403632516312"
      ]
     },
     "execution_count": 3058,
     "metadata": {},
     "output_type": "execute_result"
    }
   ],
   "source": [
    "f1_score(y_train, pred_train, average='macro', zero_division = 0)"
   ]
  },
  {
   "cell_type": "code",
   "execution_count": 3059,
   "id": "cdcde558",
   "metadata": {},
   "outputs": [
    {
     "data": {
      "text/plain": [
       "array([0.74257426, 0.65346535, 0.71287129, 0.69306931, 0.71287129])"
      ]
     },
     "execution_count": 3059,
     "metadata": {},
     "output_type": "execute_result"
    }
   ],
   "source": [
    "scores = cross_val_score(model, X_train, y_train, cv=5)\n",
    "scores"
   ]
  },
  {
   "cell_type": "code",
   "execution_count": 3060,
   "id": "f0a87868",
   "metadata": {
    "scrolled": false
   },
   "outputs": [
    {
     "data": {
      "text/plain": [
       "0.2670940170940171"
      ]
     },
     "execution_count": 3060,
     "metadata": {},
     "output_type": "execute_result"
    }
   ],
   "source": [
    "f1_score(y_test, pred_test, average='macro', zero_division = 0)"
   ]
  },
  {
   "cell_type": "code",
   "execution_count": 3061,
   "id": "3450999a",
   "metadata": {},
   "outputs": [
    {
     "data": {
      "text/plain": [
       "0.27819302386572253"
      ]
     },
     "execution_count": 3061,
     "metadata": {},
     "output_type": "execute_result"
    }
   ],
   "source": [
    "r_s = recall_score(y_test, pred_test, average = 'macro', zero_division = 0)\n",
    "r_s"
   ]
  },
  {
   "cell_type": "code",
   "execution_count": 3062,
   "id": "7c7a98e2",
   "metadata": {
    "scrolled": false
   },
   "outputs": [
    {
     "name": "stdout",
     "output_type": "stream",
     "text": [
      "              precision    recall  f1-score   support\n",
      "\n",
      "         3.0       0.00      0.00      0.00        13\n",
      "         4.0       0.74      0.98      0.85       123\n",
      "         5.0       0.80      0.13      0.22        31\n",
      "         6.0       0.00      0.00      0.00         2\n",
      "\n",
      "    accuracy                           0.74       169\n",
      "   macro avg       0.39      0.28      0.27       169\n",
      "weighted avg       0.69      0.74      0.66       169\n",
      "\n"
     ]
    }
   ],
   "source": [
    "print(classification_report(y_test, pred_test))"
   ]
  },
  {
   "cell_type": "code",
   "execution_count": 3063,
   "id": "513e3da0",
   "metadata": {},
   "outputs": [
    {
     "data": {
      "text/html": [
       "<div>\n",
       "<style scoped>\n",
       "    .dataframe tbody tr th:only-of-type {\n",
       "        vertical-align: middle;\n",
       "    }\n",
       "\n",
       "    .dataframe tbody tr th {\n",
       "        vertical-align: top;\n",
       "    }\n",
       "\n",
       "    .dataframe thead th {\n",
       "        text-align: right;\n",
       "    }\n",
       "</style>\n",
       "<table border=\"1\" class=\"dataframe\">\n",
       "  <thead>\n",
       "    <tr style=\"text-align: right;\">\n",
       "      <th></th>\n",
       "      <th>model</th>\n",
       "      <th>recall</th>\n",
       "    </tr>\n",
       "  </thead>\n",
       "  <tbody>\n",
       "    <tr>\n",
       "      <th>0</th>\n",
       "      <td>log_reg</td>\n",
       "      <td>0.28</td>\n",
       "    </tr>\n",
       "  </tbody>\n",
       "</table>\n",
       "</div>"
      ],
      "text/plain": [
       "     model  recall\n",
       "0  log_reg    0.28"
      ]
     },
     "execution_count": 3063,
     "metadata": {},
     "output_type": "execute_result"
    }
   ],
   "source": [
    "total_score_2 = []\n",
    "total_score_2.append({      'model': 'log_reg',\n",
    "                           'recall': r_s})\n",
    "pd.DataFrame(total_score_2)"
   ]
  },
  {
   "cell_type": "markdown",
   "id": "2cb93954",
   "metadata": {},
   "source": [
    "**RFC**"
   ]
  },
  {
   "cell_type": "code",
   "execution_count": 3064,
   "id": "d771c2c9",
   "metadata": {},
   "outputs": [
    {
     "data": {
      "text/plain": [
       "RandomForestClassifier(random_state=12345)"
      ]
     },
     "execution_count": 3064,
     "metadata": {},
     "output_type": "execute_result"
    }
   ],
   "source": [
    "clf = RandomForestClassifier(random_state=12345)\n",
    "clf.fit(X_train, y_train)"
   ]
  },
  {
   "cell_type": "code",
   "execution_count": 3065,
   "id": "51149ce7",
   "metadata": {},
   "outputs": [],
   "source": [
    "pred_train = clf.predict(X_train)\n",
    "pred_test = clf.predict(X_test)"
   ]
  },
  {
   "cell_type": "code",
   "execution_count": 3066,
   "id": "2ca868a7",
   "metadata": {
    "scrolled": true
   },
   "outputs": [
    {
     "data": {
      "text/plain": [
       "1.0"
      ]
     },
     "execution_count": 3066,
     "metadata": {},
     "output_type": "execute_result"
    }
   ],
   "source": [
    "f1_score(y_train, pred_train, average='macro', zero_division = 0)"
   ]
  },
  {
   "cell_type": "code",
   "execution_count": 3067,
   "id": "9a02d5d8",
   "metadata": {},
   "outputs": [
    {
     "data": {
      "text/plain": [
       "array([0.63366337, 0.66336634, 0.65346535, 0.63366337, 0.7029703 ])"
      ]
     },
     "execution_count": 3067,
     "metadata": {},
     "output_type": "execute_result"
    }
   ],
   "source": [
    "scores = cross_val_score(clf, X_train, y_train, cv=5)\n",
    "scores"
   ]
  },
  {
   "cell_type": "code",
   "execution_count": 3068,
   "id": "6fb38cb8",
   "metadata": {
    "scrolled": true
   },
   "outputs": [
    {
     "data": {
      "text/plain": [
       "0.30750164690382087"
      ]
     },
     "execution_count": 3068,
     "metadata": {},
     "output_type": "execute_result"
    }
   ],
   "source": [
    "f1_score(y_test, pred_test, average='macro', zero_division = 0)"
   ]
  },
  {
   "cell_type": "code",
   "execution_count": 3069,
   "id": "ff2129d5",
   "metadata": {},
   "outputs": [
    {
     "data": {
      "text/plain": [
       "0.30406604934535697"
      ]
     },
     "execution_count": 3069,
     "metadata": {},
     "output_type": "execute_result"
    }
   ],
   "source": [
    "r_s = recall_score(y_test, pred_test, average = 'macro', zero_division = 0)\n",
    "r_s"
   ]
  },
  {
   "cell_type": "code",
   "execution_count": 3070,
   "id": "b0cd8b2a",
   "metadata": {
    "scrolled": false
   },
   "outputs": [
    {
     "name": "stdout",
     "output_type": "stream",
     "text": [
      "              precision    recall  f1-score   support\n",
      "\n",
      "         3.0       0.22      0.15      0.18        13\n",
      "         4.0       0.78      0.74      0.76       123\n",
      "         5.0       0.26      0.32      0.29        31\n",
      "         6.0       0.00      0.00      0.00         2\n",
      "\n",
      "    accuracy                           0.61       169\n",
      "   macro avg       0.32      0.30      0.31       169\n",
      "weighted avg       0.63      0.61      0.62       169\n",
      "\n"
     ]
    }
   ],
   "source": [
    "print(classification_report(y_test, pred_test))"
   ]
  },
  {
   "cell_type": "code",
   "execution_count": 3071,
   "id": "ad072fa3",
   "metadata": {},
   "outputs": [
    {
     "data": {
      "text/html": [
       "<div>\n",
       "<style scoped>\n",
       "    .dataframe tbody tr th:only-of-type {\n",
       "        vertical-align: middle;\n",
       "    }\n",
       "\n",
       "    .dataframe tbody tr th {\n",
       "        vertical-align: top;\n",
       "    }\n",
       "\n",
       "    .dataframe thead th {\n",
       "        text-align: right;\n",
       "    }\n",
       "</style>\n",
       "<table border=\"1\" class=\"dataframe\">\n",
       "  <thead>\n",
       "    <tr style=\"text-align: right;\">\n",
       "      <th></th>\n",
       "      <th>model</th>\n",
       "      <th>recall</th>\n",
       "    </tr>\n",
       "  </thead>\n",
       "  <tbody>\n",
       "    <tr>\n",
       "      <th>0</th>\n",
       "      <td>log_reg</td>\n",
       "      <td>0.28</td>\n",
       "    </tr>\n",
       "    <tr>\n",
       "      <th>1</th>\n",
       "      <td>RFC</td>\n",
       "      <td>0.30</td>\n",
       "    </tr>\n",
       "  </tbody>\n",
       "</table>\n",
       "</div>"
      ],
      "text/plain": [
       "     model  recall\n",
       "0  log_reg    0.28\n",
       "1      RFC    0.30"
      ]
     },
     "execution_count": 3071,
     "metadata": {},
     "output_type": "execute_result"
    }
   ],
   "source": [
    "total_score_2.append({\n",
    "                           'model': 'RFC',\n",
    "                           'recall': r_s})\n",
    "pd.DataFrame(total_score_2)"
   ]
  },
  {
   "cell_type": "markdown",
   "id": "93dba5b4",
   "metadata": {},
   "source": [
    "**LGBM**"
   ]
  },
  {
   "cell_type": "code",
   "execution_count": 3072,
   "id": "bacdfff9",
   "metadata": {},
   "outputs": [],
   "source": [
    "lgbm = LGBMClassifier()"
   ]
  },
  {
   "cell_type": "code",
   "execution_count": 3073,
   "id": "35f61ba8",
   "metadata": {},
   "outputs": [],
   "source": [
    "parameters_lgbm = {'max_depth': [3, 6, 12],\n",
    "                  'learning_rate':[0.001, 0.003, 0.005, 0.01]}"
   ]
  },
  {
   "cell_type": "code",
   "execution_count": 3074,
   "id": "045a3287",
   "metadata": {},
   "outputs": [],
   "source": [
    "lgbm = GridSearchCV(lgbm, parameters_lgbm)"
   ]
  },
  {
   "cell_type": "code",
   "execution_count": 3075,
   "id": "149fa39e",
   "metadata": {},
   "outputs": [
    {
     "name": "stdout",
     "output_type": "stream",
     "text": [
      "CPU times: total: 26.9 s\n",
      "Wall time: 3.55 s\n"
     ]
    },
    {
     "data": {
      "text/plain": [
       "GridSearchCV(estimator=LGBMClassifier(),\n",
       "             param_grid={'learning_rate': [0.001, 0.003, 0.005, 0.01],\n",
       "                         'max_depth': [3, 6, 12]})"
      ]
     },
     "execution_count": 3075,
     "metadata": {},
     "output_type": "execute_result"
    }
   ],
   "source": [
    "%%time\n",
    "lgbm.fit(X_train, y_train)"
   ]
  },
  {
   "cell_type": "code",
   "execution_count": 3076,
   "id": "bcf46a3c",
   "metadata": {},
   "outputs": [
    {
     "data": {
      "text/plain": [
       "{'learning_rate': 0.001, 'max_depth': 3}"
      ]
     },
     "execution_count": 3076,
     "metadata": {},
     "output_type": "execute_result"
    }
   ],
   "source": [
    "lgbm.best_params_"
   ]
  },
  {
   "cell_type": "code",
   "execution_count": 3077,
   "id": "cc4314d4",
   "metadata": {},
   "outputs": [],
   "source": [
    "pred_train = lgbm.predict(X_train)\n",
    "pred_test = lgbm.predict(X_test)"
   ]
  },
  {
   "cell_type": "code",
   "execution_count": 3078,
   "id": "c11b3c83",
   "metadata": {
    "scrolled": true
   },
   "outputs": [
    {
     "data": {
      "text/plain": [
       "0.21010332950631458"
      ]
     },
     "execution_count": 3078,
     "metadata": {},
     "output_type": "execute_result"
    }
   ],
   "source": [
    "f1_score(y_train, pred_train, average='macro', zero_division = 0)"
   ]
  },
  {
   "cell_type": "code",
   "execution_count": 3079,
   "id": "8d42f98a",
   "metadata": {},
   "outputs": [
    {
     "data": {
      "text/plain": [
       "array([0.73267327, 0.72277228, 0.72277228, 0.72277228, 0.72277228])"
      ]
     },
     "execution_count": 3079,
     "metadata": {},
     "output_type": "execute_result"
    }
   ],
   "source": [
    "scores = cross_val_score(lgbm, X_train, y_train, cv=5)\n",
    "scores"
   ]
  },
  {
   "cell_type": "code",
   "execution_count": 3080,
   "id": "21799ddb",
   "metadata": {
    "scrolled": false
   },
   "outputs": [
    {
     "data": {
      "text/plain": [
       "0.2106164383561644"
      ]
     },
     "execution_count": 3080,
     "metadata": {},
     "output_type": "execute_result"
    }
   ],
   "source": [
    "f1_score(y_test, pred_test, average='macro', zero_division = 0)"
   ]
  },
  {
   "cell_type": "code",
   "execution_count": 3081,
   "id": "c477c758",
   "metadata": {},
   "outputs": [
    {
     "data": {
      "text/plain": [
       "0.25"
      ]
     },
     "execution_count": 3081,
     "metadata": {},
     "output_type": "execute_result"
    }
   ],
   "source": [
    "r_s = recall_score(y_test, pred_test, average = 'macro', zero_division = 0)\n",
    "r_s"
   ]
  },
  {
   "cell_type": "code",
   "execution_count": 3082,
   "id": "a84fbe42",
   "metadata": {
    "scrolled": false
   },
   "outputs": [
    {
     "name": "stdout",
     "output_type": "stream",
     "text": [
      "              precision    recall  f1-score   support\n",
      "\n",
      "         3.0       0.00      0.00      0.00        13\n",
      "         4.0       0.73      1.00      0.84       123\n",
      "         5.0       0.00      0.00      0.00        31\n",
      "         6.0       0.00      0.00      0.00         2\n",
      "\n",
      "    accuracy                           0.73       169\n",
      "   macro avg       0.18      0.25      0.21       169\n",
      "weighted avg       0.53      0.73      0.61       169\n",
      "\n"
     ]
    }
   ],
   "source": [
    "print(classification_report(y_test, pred_test))"
   ]
  },
  {
   "cell_type": "code",
   "execution_count": 3083,
   "id": "3a31821c",
   "metadata": {
    "scrolled": true
   },
   "outputs": [
    {
     "data": {
      "text/html": [
       "<div>\n",
       "<style scoped>\n",
       "    .dataframe tbody tr th:only-of-type {\n",
       "        vertical-align: middle;\n",
       "    }\n",
       "\n",
       "    .dataframe tbody tr th {\n",
       "        vertical-align: top;\n",
       "    }\n",
       "\n",
       "    .dataframe thead th {\n",
       "        text-align: right;\n",
       "    }\n",
       "</style>\n",
       "<table border=\"1\" class=\"dataframe\">\n",
       "  <thead>\n",
       "    <tr style=\"text-align: right;\">\n",
       "      <th></th>\n",
       "      <th>model</th>\n",
       "      <th>recall</th>\n",
       "    </tr>\n",
       "  </thead>\n",
       "  <tbody>\n",
       "    <tr>\n",
       "      <th>0</th>\n",
       "      <td>log_reg</td>\n",
       "      <td>0.28</td>\n",
       "    </tr>\n",
       "    <tr>\n",
       "      <th>1</th>\n",
       "      <td>RFC</td>\n",
       "      <td>0.30</td>\n",
       "    </tr>\n",
       "    <tr>\n",
       "      <th>2</th>\n",
       "      <td>LGBM</td>\n",
       "      <td>0.25</td>\n",
       "    </tr>\n",
       "  </tbody>\n",
       "</table>\n",
       "</div>"
      ],
      "text/plain": [
       "     model  recall\n",
       "0  log_reg    0.28\n",
       "1      RFC    0.30\n",
       "2     LGBM    0.25"
      ]
     },
     "execution_count": 3083,
     "metadata": {},
     "output_type": "execute_result"
    }
   ],
   "source": [
    "total_score_2.append({\n",
    "                           'model': 'LGBM',\n",
    "                           'recall': r_s})\n",
    "pd.DataFrame(total_score_2)"
   ]
  },
  {
   "cell_type": "code",
   "execution_count": 3084,
   "id": "8edef86d",
   "metadata": {},
   "outputs": [],
   "source": [
    "X_train = df_7.drop(col_drop, axis=1) \n",
    "y_train = df_7['Systemic thinking']\n",
    "lgbm.fit(X_train, y_train)\n",
    "model_2 = lgbm"
   ]
  },
  {
   "cell_type": "markdown",
   "id": "9408fed9",
   "metadata": {},
   "source": [
    "## 'Adaptability' (в трейне: ОНЕ-решений, баллы и рейтинги)"
   ]
  },
  {
   "cell_type": "code",
   "execution_count": 3085,
   "id": "2f86a269",
   "metadata": {},
   "outputs": [
    {
     "data": {
      "text/html": [
       "<div>\n",
       "<style scoped>\n",
       "    .dataframe tbody tr th:only-of-type {\n",
       "        vertical-align: middle;\n",
       "    }\n",
       "\n",
       "    .dataframe tbody tr th {\n",
       "        vertical-align: top;\n",
       "    }\n",
       "\n",
       "    .dataframe thead th {\n",
       "        text-align: right;\n",
       "    }\n",
       "</style>\n",
       "<table border=\"1\" class=\"dataframe\">\n",
       "  <thead>\n",
       "    <tr style=\"text-align: right;\">\n",
       "      <th></th>\n",
       "      <th>Analytical thinking</th>\n",
       "      <th>Systemic thinking</th>\n",
       "      <th>Adaptability</th>\n",
       "      <th>Focus</th>\n",
       "      <th>game_id</th>\n",
       "      <th>total_score</th>\n",
       "      <th>cat_1</th>\n",
       "      <th>cat_2</th>\n",
       "      <th>cat_3</th>\n",
       "      <th>cat_4</th>\n",
       "      <th>cat_5</th>\n",
       "      <th>cat_6</th>\n",
       "      <th>score_rating</th>\n",
       "      <th>rating_1</th>\n",
       "      <th>rating_2</th>\n",
       "      <th>rating_3</th>\n",
       "      <th>rating_4</th>\n",
       "      <th>rating_5</th>\n",
       "      <th>rating_6</th>\n",
       "    </tr>\n",
       "    <tr>\n",
       "      <th>id</th>\n",
       "      <th></th>\n",
       "      <th></th>\n",
       "      <th></th>\n",
       "      <th></th>\n",
       "      <th></th>\n",
       "      <th></th>\n",
       "      <th></th>\n",
       "      <th></th>\n",
       "      <th></th>\n",
       "      <th></th>\n",
       "      <th></th>\n",
       "      <th></th>\n",
       "      <th></th>\n",
       "      <th></th>\n",
       "      <th></th>\n",
       "      <th></th>\n",
       "      <th></th>\n",
       "      <th></th>\n",
       "      <th></th>\n",
       "    </tr>\n",
       "  </thead>\n",
       "  <tbody>\n",
       "    <tr>\n",
       "      <th>10884</th>\n",
       "      <td>4.00</td>\n",
       "      <td>4.00</td>\n",
       "      <td>4.00</td>\n",
       "      <td>4.00</td>\n",
       "      <td>202</td>\n",
       "      <td>1188</td>\n",
       "      <td>-5.00</td>\n",
       "      <td>-25.00</td>\n",
       "      <td>391.00</td>\n",
       "      <td>128.00</td>\n",
       "      <td>105.00</td>\n",
       "      <td>594.00</td>\n",
       "      <td>0.55</td>\n",
       "      <td>-0.04</td>\n",
       "      <td>-0.13</td>\n",
       "      <td>0.77</td>\n",
       "      <td>0.74</td>\n",
       "      <td>1.00</td>\n",
       "      <td>0.55</td>\n",
       "    </tr>\n",
       "    <tr>\n",
       "      <th>10106</th>\n",
       "      <td>5.00</td>\n",
       "      <td>4.00</td>\n",
       "      <td>5.00</td>\n",
       "      <td>5.00</td>\n",
       "      <td>211</td>\n",
       "      <td>1828</td>\n",
       "      <td>54.00</td>\n",
       "      <td>120.00</td>\n",
       "      <td>467.00</td>\n",
       "      <td>160.00</td>\n",
       "      <td>113.00</td>\n",
       "      <td>914.00</td>\n",
       "      <td>1.00</td>\n",
       "      <td>1.00</td>\n",
       "      <td>0.90</td>\n",
       "      <td>0.99</td>\n",
       "      <td>0.90</td>\n",
       "      <td>1.00</td>\n",
       "      <td>1.00</td>\n",
       "    </tr>\n",
       "    <tr>\n",
       "      <th>10438</th>\n",
       "      <td>6.00</td>\n",
       "      <td>5.00</td>\n",
       "      <td>5.00</td>\n",
       "      <td>5.00</td>\n",
       "      <td>242</td>\n",
       "      <td>1604</td>\n",
       "      <td>55.00</td>\n",
       "      <td>60.00</td>\n",
       "      <td>383.00</td>\n",
       "      <td>158.00</td>\n",
       "      <td>146.00</td>\n",
       "      <td>802.00</td>\n",
       "      <td>1.00</td>\n",
       "      <td>1.00</td>\n",
       "      <td>0.69</td>\n",
       "      <td>0.98</td>\n",
       "      <td>1.00</td>\n",
       "      <td>0.81</td>\n",
       "      <td>1.00</td>\n",
       "    </tr>\n",
       "    <tr>\n",
       "      <th>10130</th>\n",
       "      <td>5.00</td>\n",
       "      <td>4.00</td>\n",
       "      <td>5.00</td>\n",
       "      <td>5.00</td>\n",
       "      <td>184</td>\n",
       "      <td>1334</td>\n",
       "      <td>31.00</td>\n",
       "      <td>24.00</td>\n",
       "      <td>366.00</td>\n",
       "      <td>139.00</td>\n",
       "      <td>107.00</td>\n",
       "      <td>667.00</td>\n",
       "      <td>0.62</td>\n",
       "      <td>0.30</td>\n",
       "      <td>0.12</td>\n",
       "      <td>0.71</td>\n",
       "      <td>0.69</td>\n",
       "      <td>1.00</td>\n",
       "      <td>0.62</td>\n",
       "    </tr>\n",
       "    <tr>\n",
       "      <th>10667</th>\n",
       "      <td>4.00</td>\n",
       "      <td>5.00</td>\n",
       "      <td>5.00</td>\n",
       "      <td>5.00</td>\n",
       "      <td>193</td>\n",
       "      <td>1756</td>\n",
       "      <td>71.00</td>\n",
       "      <td>70.00</td>\n",
       "      <td>416.00</td>\n",
       "      <td>166.00</td>\n",
       "      <td>155.00</td>\n",
       "      <td>878.00</td>\n",
       "      <td>0.72</td>\n",
       "      <td>0.41</td>\n",
       "      <td>0.26</td>\n",
       "      <td>0.97</td>\n",
       "      <td>0.80</td>\n",
       "      <td>0.87</td>\n",
       "      <td>0.72</td>\n",
       "    </tr>\n",
       "  </tbody>\n",
       "</table>\n",
       "</div>"
      ],
      "text/plain": [
       "       Analytical thinking  Systemic thinking  Adaptability  Focus  game_id  \\\n",
       "id                                                                            \n",
       "10884                 4.00               4.00          4.00   4.00      202   \n",
       "10106                 5.00               4.00          5.00   5.00      211   \n",
       "10438                 6.00               5.00          5.00   5.00      242   \n",
       "10130                 5.00               4.00          5.00   5.00      184   \n",
       "10667                 4.00               5.00          5.00   5.00      193   \n",
       "\n",
       "       total_score  cat_1  cat_2  cat_3  cat_4  cat_5  cat_6  score_rating  \\\n",
       "id                                                                           \n",
       "10884         1188  -5.00 -25.00 391.00 128.00 105.00 594.00          0.55   \n",
       "10106         1828  54.00 120.00 467.00 160.00 113.00 914.00          1.00   \n",
       "10438         1604  55.00  60.00 383.00 158.00 146.00 802.00          1.00   \n",
       "10130         1334  31.00  24.00 366.00 139.00 107.00 667.00          0.62   \n",
       "10667         1756  71.00  70.00 416.00 166.00 155.00 878.00          0.72   \n",
       "\n",
       "       rating_1  rating_2  rating_3  rating_4  rating_5  rating_6  \n",
       "id                                                                 \n",
       "10884     -0.04     -0.13      0.77      0.74      1.00      0.55  \n",
       "10106      1.00      0.90      0.99      0.90      1.00      1.00  \n",
       "10438      1.00      0.69      0.98      1.00      0.81      1.00  \n",
       "10130      0.30      0.12      0.71      0.69      1.00      0.62  \n",
       "10667      0.41      0.26      0.97      0.80      0.87      0.72  "
      ]
     },
     "execution_count": 3085,
     "metadata": {},
     "output_type": "execute_result"
    }
   ],
   "source": [
    "df_score.head()"
   ]
  },
  {
   "cell_type": "code",
   "execution_count": 3086,
   "id": "50aad21b",
   "metadata": {
    "scrolled": false
   },
   "outputs": [
    {
     "data": {
      "text/html": [
       "<div>\n",
       "<style scoped>\n",
       "    .dataframe tbody tr th:only-of-type {\n",
       "        vertical-align: middle;\n",
       "    }\n",
       "\n",
       "    .dataframe tbody tr th {\n",
       "        vertical-align: top;\n",
       "    }\n",
       "\n",
       "    .dataframe thead th {\n",
       "        text-align: right;\n",
       "    }\n",
       "</style>\n",
       "<table border=\"1\" class=\"dataframe\">\n",
       "  <thead>\n",
       "    <tr style=\"text-align: right;\">\n",
       "      <th></th>\n",
       "      <th>Analytical thinking</th>\n",
       "      <th>Systemic thinking</th>\n",
       "      <th>Adaptability</th>\n",
       "      <th>Focus</th>\n",
       "      <th>1</th>\n",
       "      <th>2</th>\n",
       "      <th>3</th>\n",
       "      <th>4</th>\n",
       "      <th>5</th>\n",
       "      <th>6</th>\n",
       "      <th>...</th>\n",
       "      <th>430</th>\n",
       "      <th>431</th>\n",
       "      <th>432</th>\n",
       "      <th>433</th>\n",
       "      <th>434</th>\n",
       "      <th>435</th>\n",
       "      <th>436</th>\n",
       "      <th>437</th>\n",
       "      <th>438</th>\n",
       "      <th>total</th>\n",
       "    </tr>\n",
       "    <tr>\n",
       "      <th>index</th>\n",
       "      <th></th>\n",
       "      <th></th>\n",
       "      <th></th>\n",
       "      <th></th>\n",
       "      <th></th>\n",
       "      <th></th>\n",
       "      <th></th>\n",
       "      <th></th>\n",
       "      <th></th>\n",
       "      <th></th>\n",
       "      <th></th>\n",
       "      <th></th>\n",
       "      <th></th>\n",
       "      <th></th>\n",
       "      <th></th>\n",
       "      <th></th>\n",
       "      <th></th>\n",
       "      <th></th>\n",
       "      <th></th>\n",
       "      <th></th>\n",
       "      <th></th>\n",
       "    </tr>\n",
       "  </thead>\n",
       "  <tbody>\n",
       "    <tr>\n",
       "      <th>10001</th>\n",
       "      <td>4.00</td>\n",
       "      <td>4.00</td>\n",
       "      <td>5.00</td>\n",
       "      <td>4.00</td>\n",
       "      <td>0.00</td>\n",
       "      <td>0.00</td>\n",
       "      <td>0.00</td>\n",
       "      <td>0.00</td>\n",
       "      <td>0.00</td>\n",
       "      <td>0.00</td>\n",
       "      <td>...</td>\n",
       "      <td>0.00</td>\n",
       "      <td>0.00</td>\n",
       "      <td>0.00</td>\n",
       "      <td>0.00</td>\n",
       "      <td>0.00</td>\n",
       "      <td>0.00</td>\n",
       "      <td>0.00</td>\n",
       "      <td>0.00</td>\n",
       "      <td>0</td>\n",
       "      <td>0.00</td>\n",
       "    </tr>\n",
       "  </tbody>\n",
       "</table>\n",
       "<p>1 rows × 443 columns</p>\n",
       "</div>"
      ],
      "text/plain": [
       "       Analytical thinking  Systemic thinking  Adaptability  Focus    1    2  \\\n",
       "index                                                                          \n",
       "10001                 4.00               4.00          5.00   4.00 0.00 0.00   \n",
       "\n",
       "         3    4    5    6  ...  430  431  432  433  434  435  436  437  438  \\\n",
       "index                      ...                                                \n",
       "10001 0.00 0.00 0.00 0.00  ... 0.00 0.00 0.00 0.00 0.00 0.00 0.00 0.00    0   \n",
       "\n",
       "       total  \n",
       "index         \n",
       "10001   0.00  \n",
       "\n",
       "[1 rows x 443 columns]"
      ]
     },
     "execution_count": 3086,
     "metadata": {},
     "output_type": "execute_result"
    }
   ],
   "source": [
    "df_3.head(1)"
   ]
  },
  {
   "cell_type": "code",
   "execution_count": 3087,
   "id": "96894851",
   "metadata": {},
   "outputs": [],
   "source": [
    "col_drop = ['Analytical thinking', 'Systemic thinking', 'Adaptability','Focus']"
   ]
  },
  {
   "cell_type": "code",
   "execution_count": 3088,
   "id": "eb4b966c",
   "metadata": {},
   "outputs": [],
   "source": [
    "df_7 = df_score.join(df_3.drop(col_drop, axis=1))"
   ]
  },
  {
   "cell_type": "code",
   "execution_count": 3089,
   "id": "70f7111d",
   "metadata": {
    "scrolled": true
   },
   "outputs": [
    {
     "data": {
      "text/html": [
       "<div>\n",
       "<style scoped>\n",
       "    .dataframe tbody tr th:only-of-type {\n",
       "        vertical-align: middle;\n",
       "    }\n",
       "\n",
       "    .dataframe tbody tr th {\n",
       "        vertical-align: top;\n",
       "    }\n",
       "\n",
       "    .dataframe thead th {\n",
       "        text-align: right;\n",
       "    }\n",
       "</style>\n",
       "<table border=\"1\" class=\"dataframe\">\n",
       "  <thead>\n",
       "    <tr style=\"text-align: right;\">\n",
       "      <th></th>\n",
       "      <th>Analytical thinking</th>\n",
       "      <th>Systemic thinking</th>\n",
       "      <th>Adaptability</th>\n",
       "      <th>Focus</th>\n",
       "      <th>game_id</th>\n",
       "      <th>total_score</th>\n",
       "      <th>cat_1</th>\n",
       "      <th>cat_2</th>\n",
       "      <th>cat_3</th>\n",
       "      <th>cat_4</th>\n",
       "      <th>...</th>\n",
       "      <th>430</th>\n",
       "      <th>431</th>\n",
       "      <th>432</th>\n",
       "      <th>433</th>\n",
       "      <th>434</th>\n",
       "      <th>435</th>\n",
       "      <th>436</th>\n",
       "      <th>437</th>\n",
       "      <th>438</th>\n",
       "      <th>total</th>\n",
       "    </tr>\n",
       "    <tr>\n",
       "      <th>id</th>\n",
       "      <th></th>\n",
       "      <th></th>\n",
       "      <th></th>\n",
       "      <th></th>\n",
       "      <th></th>\n",
       "      <th></th>\n",
       "      <th></th>\n",
       "      <th></th>\n",
       "      <th></th>\n",
       "      <th></th>\n",
       "      <th></th>\n",
       "      <th></th>\n",
       "      <th></th>\n",
       "      <th></th>\n",
       "      <th></th>\n",
       "      <th></th>\n",
       "      <th></th>\n",
       "      <th></th>\n",
       "      <th></th>\n",
       "      <th></th>\n",
       "      <th></th>\n",
       "    </tr>\n",
       "  </thead>\n",
       "  <tbody>\n",
       "    <tr>\n",
       "      <th>10884</th>\n",
       "      <td>4.00</td>\n",
       "      <td>4.00</td>\n",
       "      <td>4.00</td>\n",
       "      <td>4.00</td>\n",
       "      <td>202</td>\n",
       "      <td>1188</td>\n",
       "      <td>-5.00</td>\n",
       "      <td>-25.00</td>\n",
       "      <td>391.00</td>\n",
       "      <td>128.00</td>\n",
       "      <td>...</td>\n",
       "      <td>0.00</td>\n",
       "      <td>0.00</td>\n",
       "      <td>0.00</td>\n",
       "      <td>0.00</td>\n",
       "      <td>0.00</td>\n",
       "      <td>0.00</td>\n",
       "      <td>0.00</td>\n",
       "      <td>0.00</td>\n",
       "      <td>0</td>\n",
       "      <td>0.00</td>\n",
       "    </tr>\n",
       "  </tbody>\n",
       "</table>\n",
       "<p>1 rows × 458 columns</p>\n",
       "</div>"
      ],
      "text/plain": [
       "       Analytical thinking  Systemic thinking  Adaptability  Focus  game_id  \\\n",
       "id                                                                            \n",
       "10884                 4.00               4.00          4.00   4.00      202   \n",
       "\n",
       "       total_score  cat_1  cat_2  cat_3  cat_4  ...  430  431  432  433  434  \\\n",
       "id                                              ...                            \n",
       "10884         1188  -5.00 -25.00 391.00 128.00  ... 0.00 0.00 0.00 0.00 0.00   \n",
       "\n",
       "       435  436  437  438  total  \n",
       "id                                \n",
       "10884 0.00 0.00 0.00    0   0.00  \n",
       "\n",
       "[1 rows x 458 columns]"
      ]
     },
     "execution_count": 3089,
     "metadata": {},
     "output_type": "execute_result"
    }
   ],
   "source": [
    "df_7.head(1)"
   ]
  },
  {
   "cell_type": "code",
   "execution_count": 3090,
   "id": "637e56f8",
   "metadata": {},
   "outputs": [],
   "source": [
    "df_7['max_total'] = df_7.groupby('game_id')['total'].transform('max')"
   ]
  },
  {
   "cell_type": "code",
   "execution_count": 3091,
   "id": "7d42467d",
   "metadata": {},
   "outputs": [],
   "source": [
    "df_7['rating_user'] = df_7['total'] / df_7['max_total']"
   ]
  },
  {
   "cell_type": "code",
   "execution_count": 3092,
   "id": "ec459d12",
   "metadata": {},
   "outputs": [
    {
     "data": {
      "text/plain": [
       "(674, 460)"
      ]
     },
     "execution_count": 3092,
     "metadata": {},
     "output_type": "execute_result"
    }
   ],
   "source": [
    "df_7 = df_7[df_7['Analytical thinking']>2]\n",
    "df_7 = df_7[df_7['Systemic thinking']>2]\n",
    "df_7 = df_7[df_7['Adaptability']>2]\n",
    "df_7 = df_7[df_7['Focus']>2]\n",
    "df_7.shape"
   ]
  },
  {
   "cell_type": "code",
   "execution_count": 3093,
   "id": "2512abd0",
   "metadata": {},
   "outputs": [],
   "source": [
    "for i in range(1, 439):\n",
    "    df_7 = df_7.drop(str(i), axis=1)    "
   ]
  },
  {
   "cell_type": "code",
   "execution_count": 3094,
   "id": "514e47f9",
   "metadata": {},
   "outputs": [
    {
     "data": {
      "text/html": [
       "<div>\n",
       "<style scoped>\n",
       "    .dataframe tbody tr th:only-of-type {\n",
       "        vertical-align: middle;\n",
       "    }\n",
       "\n",
       "    .dataframe tbody tr th {\n",
       "        vertical-align: top;\n",
       "    }\n",
       "\n",
       "    .dataframe thead th {\n",
       "        text-align: right;\n",
       "    }\n",
       "</style>\n",
       "<table border=\"1\" class=\"dataframe\">\n",
       "  <thead>\n",
       "    <tr style=\"text-align: right;\">\n",
       "      <th></th>\n",
       "      <th>Analytical thinking</th>\n",
       "      <th>Systemic thinking</th>\n",
       "      <th>Adaptability</th>\n",
       "      <th>Focus</th>\n",
       "      <th>game_id</th>\n",
       "      <th>total_score</th>\n",
       "      <th>cat_1</th>\n",
       "      <th>cat_2</th>\n",
       "      <th>cat_3</th>\n",
       "      <th>cat_4</th>\n",
       "      <th>...</th>\n",
       "      <th>score_rating</th>\n",
       "      <th>rating_1</th>\n",
       "      <th>rating_2</th>\n",
       "      <th>rating_3</th>\n",
       "      <th>rating_4</th>\n",
       "      <th>rating_5</th>\n",
       "      <th>rating_6</th>\n",
       "      <th>total</th>\n",
       "      <th>max_total</th>\n",
       "      <th>rating_user</th>\n",
       "    </tr>\n",
       "    <tr>\n",
       "      <th>id</th>\n",
       "      <th></th>\n",
       "      <th></th>\n",
       "      <th></th>\n",
       "      <th></th>\n",
       "      <th></th>\n",
       "      <th></th>\n",
       "      <th></th>\n",
       "      <th></th>\n",
       "      <th></th>\n",
       "      <th></th>\n",
       "      <th></th>\n",
       "      <th></th>\n",
       "      <th></th>\n",
       "      <th></th>\n",
       "      <th></th>\n",
       "      <th></th>\n",
       "      <th></th>\n",
       "      <th></th>\n",
       "      <th></th>\n",
       "      <th></th>\n",
       "      <th></th>\n",
       "    </tr>\n",
       "  </thead>\n",
       "  <tbody>\n",
       "    <tr>\n",
       "      <th>10884</th>\n",
       "      <td>4.00</td>\n",
       "      <td>4.00</td>\n",
       "      <td>4.00</td>\n",
       "      <td>4.00</td>\n",
       "      <td>202</td>\n",
       "      <td>1188</td>\n",
       "      <td>-5.00</td>\n",
       "      <td>-25.00</td>\n",
       "      <td>391.00</td>\n",
       "      <td>128.00</td>\n",
       "      <td>...</td>\n",
       "      <td>0.55</td>\n",
       "      <td>-0.04</td>\n",
       "      <td>-0.13</td>\n",
       "      <td>0.77</td>\n",
       "      <td>0.74</td>\n",
       "      <td>1.00</td>\n",
       "      <td>0.55</td>\n",
       "      <td>0.00</td>\n",
       "      <td>0.00</td>\n",
       "      <td>0.39</td>\n",
       "    </tr>\n",
       "  </tbody>\n",
       "</table>\n",
       "<p>1 rows × 22 columns</p>\n",
       "</div>"
      ],
      "text/plain": [
       "       Analytical thinking  Systemic thinking  Adaptability  Focus  game_id  \\\n",
       "id                                                                            \n",
       "10884                 4.00               4.00          4.00   4.00      202   \n",
       "\n",
       "       total_score  cat_1  cat_2  cat_3  cat_4  ...  score_rating  rating_1  \\\n",
       "id                                              ...                           \n",
       "10884         1188  -5.00 -25.00 391.00 128.00  ...          0.55     -0.04   \n",
       "\n",
       "       rating_2  rating_3  rating_4  rating_5  rating_6  total  max_total  \\\n",
       "id                                                                          \n",
       "10884     -0.13      0.77      0.74      1.00      0.55   0.00       0.00   \n",
       "\n",
       "       rating_user  \n",
       "id                  \n",
       "10884         0.39  \n",
       "\n",
       "[1 rows x 22 columns]"
      ]
     },
     "execution_count": 3094,
     "metadata": {},
     "output_type": "execute_result"
    }
   ],
   "source": [
    "df_7.head(1)"
   ]
  },
  {
   "cell_type": "code",
   "execution_count": 3095,
   "id": "8d798776",
   "metadata": {},
   "outputs": [],
   "source": [
    "col_drop = ['Analytical thinking', 'Systemic thinking', 'Adaptability', \n",
    "            'Focus', 'max_total']"
   ]
  },
  {
   "cell_type": "code",
   "execution_count": 3096,
   "id": "b53e1d5d",
   "metadata": {},
   "outputs": [],
   "source": [
    "X_train, X_test, y_train, y_test = train_test_split(\n",
    "    df_7.drop(col_drop, axis=1), df_7['Adaptability'], stratify = df_7['Adaptability'], test_size=0.25, random_state=12345)"
   ]
  },
  {
   "cell_type": "code",
   "execution_count": 3097,
   "id": "3a4de929",
   "metadata": {
    "scrolled": true
   },
   "outputs": [
    {
     "name": "stdout",
     "output_type": "stream",
     "text": [
      "(505, 17)\n",
      "(505,)\n"
     ]
    }
   ],
   "source": [
    "print(X_train.shape)\n",
    "print(y_train.shape)"
   ]
  },
  {
   "cell_type": "code",
   "execution_count": 3098,
   "id": "af2d335e",
   "metadata": {
    "scrolled": false
   },
   "outputs": [
    {
     "data": {
      "text/html": [
       "<div>\n",
       "<style scoped>\n",
       "    .dataframe tbody tr th:only-of-type {\n",
       "        vertical-align: middle;\n",
       "    }\n",
       "\n",
       "    .dataframe tbody tr th {\n",
       "        vertical-align: top;\n",
       "    }\n",
       "\n",
       "    .dataframe thead th {\n",
       "        text-align: right;\n",
       "    }\n",
       "</style>\n",
       "<table border=\"1\" class=\"dataframe\">\n",
       "  <thead>\n",
       "    <tr style=\"text-align: right;\">\n",
       "      <th></th>\n",
       "      <th>game_id</th>\n",
       "      <th>total_score</th>\n",
       "      <th>cat_1</th>\n",
       "      <th>cat_2</th>\n",
       "      <th>cat_3</th>\n",
       "      <th>cat_4</th>\n",
       "      <th>cat_5</th>\n",
       "      <th>cat_6</th>\n",
       "      <th>score_rating</th>\n",
       "      <th>rating_1</th>\n",
       "      <th>rating_2</th>\n",
       "      <th>rating_3</th>\n",
       "      <th>rating_4</th>\n",
       "      <th>rating_5</th>\n",
       "      <th>rating_6</th>\n",
       "      <th>total</th>\n",
       "      <th>rating_user</th>\n",
       "    </tr>\n",
       "    <tr>\n",
       "      <th>id</th>\n",
       "      <th></th>\n",
       "      <th></th>\n",
       "      <th></th>\n",
       "      <th></th>\n",
       "      <th></th>\n",
       "      <th></th>\n",
       "      <th></th>\n",
       "      <th></th>\n",
       "      <th></th>\n",
       "      <th></th>\n",
       "      <th></th>\n",
       "      <th></th>\n",
       "      <th></th>\n",
       "      <th></th>\n",
       "      <th></th>\n",
       "      <th></th>\n",
       "      <th></th>\n",
       "    </tr>\n",
       "  </thead>\n",
       "  <tbody>\n",
       "    <tr>\n",
       "      <th>10954</th>\n",
       "      <td>262</td>\n",
       "      <td>1130</td>\n",
       "      <td>-9.00</td>\n",
       "      <td>-17.00</td>\n",
       "      <td>368.00</td>\n",
       "      <td>140.00</td>\n",
       "      <td>83.00</td>\n",
       "      <td>565.00</td>\n",
       "      <td>0.72</td>\n",
       "      <td>-0.30</td>\n",
       "      <td>-0.13</td>\n",
       "      <td>0.84</td>\n",
       "      <td>0.79</td>\n",
       "      <td>0.74</td>\n",
       "      <td>0.72</td>\n",
       "      <td>0.00</td>\n",
       "      <td>0.84</td>\n",
       "    </tr>\n",
       "    <tr>\n",
       "      <th>10721</th>\n",
       "      <td>192</td>\n",
       "      <td>1224</td>\n",
       "      <td>10.00</td>\n",
       "      <td>22.00</td>\n",
       "      <td>379.00</td>\n",
       "      <td>129.00</td>\n",
       "      <td>72.00</td>\n",
       "      <td>612.00</td>\n",
       "      <td>0.51</td>\n",
       "      <td>0.05</td>\n",
       "      <td>0.15</td>\n",
       "      <td>0.72</td>\n",
       "      <td>0.70</td>\n",
       "      <td>0.43</td>\n",
       "      <td>0.51</td>\n",
       "      <td>0.00</td>\n",
       "      <td>0.36</td>\n",
       "    </tr>\n",
       "    <tr>\n",
       "      <th>10220</th>\n",
       "      <td>235</td>\n",
       "      <td>1498</td>\n",
       "      <td>25.00</td>\n",
       "      <td>80.00</td>\n",
       "      <td>440.00</td>\n",
       "      <td>139.00</td>\n",
       "      <td>65.00</td>\n",
       "      <td>749.00</td>\n",
       "      <td>0.87</td>\n",
       "      <td>0.61</td>\n",
       "      <td>0.62</td>\n",
       "      <td>0.87</td>\n",
       "      <td>0.90</td>\n",
       "      <td>0.62</td>\n",
       "      <td>0.87</td>\n",
       "      <td>0.00</td>\n",
       "      <td>0.18</td>\n",
       "    </tr>\n",
       "    <tr>\n",
       "      <th>10171</th>\n",
       "      <td>252</td>\n",
       "      <td>1586</td>\n",
       "      <td>35.00</td>\n",
       "      <td>133.00</td>\n",
       "      <td>344.00</td>\n",
       "      <td>183.00</td>\n",
       "      <td>98.00</td>\n",
       "      <td>793.00</td>\n",
       "      <td>0.72</td>\n",
       "      <td>0.33</td>\n",
       "      <td>0.56</td>\n",
       "      <td>0.71</td>\n",
       "      <td>0.92</td>\n",
       "      <td>0.97</td>\n",
       "      <td>0.72</td>\n",
       "      <td>0.00</td>\n",
       "      <td>0.04</td>\n",
       "    </tr>\n",
       "    <tr>\n",
       "      <th>10126</th>\n",
       "      <td>209</td>\n",
       "      <td>1898</td>\n",
       "      <td>89.00</td>\n",
       "      <td>119.00</td>\n",
       "      <td>468.00</td>\n",
       "      <td>165.00</td>\n",
       "      <td>108.00</td>\n",
       "      <td>949.00</td>\n",
       "      <td>1.00</td>\n",
       "      <td>1.00</td>\n",
       "      <td>0.79</td>\n",
       "      <td>1.00</td>\n",
       "      <td>0.87</td>\n",
       "      <td>0.71</td>\n",
       "      <td>1.00</td>\n",
       "      <td>0.00</td>\n",
       "      <td>0.07</td>\n",
       "    </tr>\n",
       "  </tbody>\n",
       "</table>\n",
       "</div>"
      ],
      "text/plain": [
       "       game_id  total_score  cat_1  cat_2  cat_3  cat_4  cat_5  cat_6  \\\n",
       "id                                                                      \n",
       "10954      262         1130  -9.00 -17.00 368.00 140.00  83.00 565.00   \n",
       "10721      192         1224  10.00  22.00 379.00 129.00  72.00 612.00   \n",
       "10220      235         1498  25.00  80.00 440.00 139.00  65.00 749.00   \n",
       "10171      252         1586  35.00 133.00 344.00 183.00  98.00 793.00   \n",
       "10126      209         1898  89.00 119.00 468.00 165.00 108.00 949.00   \n",
       "\n",
       "       score_rating  rating_1  rating_2  rating_3  rating_4  rating_5  \\\n",
       "id                                                                      \n",
       "10954          0.72     -0.30     -0.13      0.84      0.79      0.74   \n",
       "10721          0.51      0.05      0.15      0.72      0.70      0.43   \n",
       "10220          0.87      0.61      0.62      0.87      0.90      0.62   \n",
       "10171          0.72      0.33      0.56      0.71      0.92      0.97   \n",
       "10126          1.00      1.00      0.79      1.00      0.87      0.71   \n",
       "\n",
       "       rating_6  total  rating_user  \n",
       "id                                   \n",
       "10954      0.72   0.00         0.84  \n",
       "10721      0.51   0.00         0.36  \n",
       "10220      0.87   0.00         0.18  \n",
       "10171      0.72   0.00         0.04  \n",
       "10126      1.00   0.00         0.07  "
      ]
     },
     "execution_count": 3098,
     "metadata": {},
     "output_type": "execute_result"
    }
   ],
   "source": [
    "X_train.head()"
   ]
  },
  {
   "cell_type": "code",
   "execution_count": 3099,
   "id": "baeed682",
   "metadata": {},
   "outputs": [],
   "source": [
    "scaler_3 = StandardScaler()\n",
    "scaler_3.fit(X_train)\n",
    "X_train = scaler_3.transform(X_train)\n",
    "X_test = scaler_3.transform(X_test)"
   ]
  },
  {
   "cell_type": "markdown",
   "id": "649bcf4e",
   "metadata": {},
   "source": [
    "**LogReg**"
   ]
  },
  {
   "cell_type": "code",
   "execution_count": 3100,
   "id": "d266e608",
   "metadata": {
    "scrolled": true
   },
   "outputs": [
    {
     "data": {
      "text/plain": [
       "LogisticRegression()"
      ]
     },
     "execution_count": 3100,
     "metadata": {},
     "output_type": "execute_result"
    }
   ],
   "source": [
    "model = LogisticRegression()\n",
    "model.fit(X_train, y_train)"
   ]
  },
  {
   "cell_type": "code",
   "execution_count": 3101,
   "id": "03132bd2",
   "metadata": {},
   "outputs": [],
   "source": [
    "pred_train = model.predict(X_train)\n",
    "pred_test = model.predict(X_test)"
   ]
  },
  {
   "cell_type": "code",
   "execution_count": 3102,
   "id": "fdc08b22",
   "metadata": {
    "scrolled": true
   },
   "outputs": [
    {
     "data": {
      "text/plain": [
       "0.30828009599621425"
      ]
     },
     "execution_count": 3102,
     "metadata": {},
     "output_type": "execute_result"
    }
   ],
   "source": [
    "f1_score(y_train, pred_train, average='macro', zero_division = 0)"
   ]
  },
  {
   "cell_type": "code",
   "execution_count": 3103,
   "id": "73149fd0",
   "metadata": {},
   "outputs": [
    {
     "data": {
      "text/plain": [
       "array([0.59405941, 0.52475248, 0.53465347, 0.4950495 , 0.56435644])"
      ]
     },
     "execution_count": 3103,
     "metadata": {},
     "output_type": "execute_result"
    }
   ],
   "source": [
    "scores = cross_val_score(model, X_train, y_train, cv=5)\n",
    "scores"
   ]
  },
  {
   "cell_type": "code",
   "execution_count": 3104,
   "id": "2968d620",
   "metadata": {
    "scrolled": false
   },
   "outputs": [
    {
     "data": {
      "text/plain": [
       "0.3098644578313253"
      ]
     },
     "execution_count": 3104,
     "metadata": {},
     "output_type": "execute_result"
    }
   ],
   "source": [
    "f1_score(y_test, pred_test, average='macro', zero_division = 0)"
   ]
  },
  {
   "cell_type": "code",
   "execution_count": 3105,
   "id": "cd4c6c0e",
   "metadata": {},
   "outputs": [
    {
     "data": {
      "text/plain": [
       "0.3218344155844156"
      ]
     },
     "execution_count": 3105,
     "metadata": {},
     "output_type": "execute_result"
    }
   ],
   "source": [
    "r_s = recall_score(y_test, pred_test, average = 'macro', zero_division = 0)\n",
    "r_s"
   ]
  },
  {
   "cell_type": "code",
   "execution_count": 3106,
   "id": "7b6779bc",
   "metadata": {
    "scrolled": false
   },
   "outputs": [
    {
     "name": "stdout",
     "output_type": "stream",
     "text": [
      "              precision    recall  f1-score   support\n",
      "\n",
      "         3.0       0.00      0.00      0.00         8\n",
      "         4.0       0.57      0.66      0.61        77\n",
      "         5.0       0.62      0.62      0.62        80\n",
      "         6.0       0.00      0.00      0.00         4\n",
      "\n",
      "    accuracy                           0.60       169\n",
      "   macro avg       0.30      0.32      0.31       169\n",
      "weighted avg       0.56      0.60      0.58       169\n",
      "\n"
     ]
    }
   ],
   "source": [
    "print(classification_report(y_test, pred_test))"
   ]
  },
  {
   "cell_type": "code",
   "execution_count": 3107,
   "id": "04fb5743",
   "metadata": {},
   "outputs": [
    {
     "data": {
      "text/html": [
       "<div>\n",
       "<style scoped>\n",
       "    .dataframe tbody tr th:only-of-type {\n",
       "        vertical-align: middle;\n",
       "    }\n",
       "\n",
       "    .dataframe tbody tr th {\n",
       "        vertical-align: top;\n",
       "    }\n",
       "\n",
       "    .dataframe thead th {\n",
       "        text-align: right;\n",
       "    }\n",
       "</style>\n",
       "<table border=\"1\" class=\"dataframe\">\n",
       "  <thead>\n",
       "    <tr style=\"text-align: right;\">\n",
       "      <th></th>\n",
       "      <th>model</th>\n",
       "      <th>recall</th>\n",
       "    </tr>\n",
       "  </thead>\n",
       "  <tbody>\n",
       "    <tr>\n",
       "      <th>0</th>\n",
       "      <td>log_reg</td>\n",
       "      <td>0.32</td>\n",
       "    </tr>\n",
       "  </tbody>\n",
       "</table>\n",
       "</div>"
      ],
      "text/plain": [
       "     model  recall\n",
       "0  log_reg    0.32"
      ]
     },
     "execution_count": 3107,
     "metadata": {},
     "output_type": "execute_result"
    }
   ],
   "source": [
    "total_score_3 = []\n",
    "total_score_3.append({      'model': 'log_reg',\n",
    "                           'recall': r_s})\n",
    "pd.DataFrame(total_score_3)"
   ]
  },
  {
   "cell_type": "markdown",
   "id": "a2933f78",
   "metadata": {},
   "source": [
    "**RFC**"
   ]
  },
  {
   "cell_type": "code",
   "execution_count": 3108,
   "id": "110a0892",
   "metadata": {},
   "outputs": [
    {
     "data": {
      "text/plain": [
       "RandomForestClassifier(random_state=12345)"
      ]
     },
     "execution_count": 3108,
     "metadata": {},
     "output_type": "execute_result"
    }
   ],
   "source": [
    "clf = RandomForestClassifier(random_state=12345)\n",
    "clf.fit(X_train, y_train)"
   ]
  },
  {
   "cell_type": "code",
   "execution_count": 3109,
   "id": "728fb882",
   "metadata": {},
   "outputs": [],
   "source": [
    "pred_train = clf.predict(X_train)\n",
    "pred_test = clf.predict(X_test)"
   ]
  },
  {
   "cell_type": "code",
   "execution_count": 3110,
   "id": "9a8609c5",
   "metadata": {
    "scrolled": true
   },
   "outputs": [
    {
     "data": {
      "text/plain": [
       "1.0"
      ]
     },
     "execution_count": 3110,
     "metadata": {},
     "output_type": "execute_result"
    }
   ],
   "source": [
    "f1_score(y_train, pred_train, average='macro', zero_division = 0)"
   ]
  },
  {
   "cell_type": "code",
   "execution_count": 3111,
   "id": "bdea1b25",
   "metadata": {},
   "outputs": [
    {
     "data": {
      "text/plain": [
       "array([0.56435644, 0.5049505 , 0.53465347, 0.56435644, 0.4950495 ])"
      ]
     },
     "execution_count": 3111,
     "metadata": {},
     "output_type": "execute_result"
    }
   ],
   "source": [
    "scores = cross_val_score(clf, X_train, y_train, cv=5)\n",
    "scores"
   ]
  },
  {
   "cell_type": "code",
   "execution_count": 3112,
   "id": "fdb38d81",
   "metadata": {
    "scrolled": true
   },
   "outputs": [
    {
     "data": {
      "text/plain": [
       "0.3148268109591129"
      ]
     },
     "execution_count": 3112,
     "metadata": {},
     "output_type": "execute_result"
    }
   ],
   "source": [
    "f1_score(y_test, pred_test, average='macro', zero_division = 0)"
   ]
  },
  {
   "cell_type": "code",
   "execution_count": 3113,
   "id": "b8eacabd",
   "metadata": {},
   "outputs": [
    {
     "data": {
      "text/plain": [
       "0.32495941558441555"
      ]
     },
     "execution_count": 3113,
     "metadata": {},
     "output_type": "execute_result"
    }
   ],
   "source": [
    "r_s = recall_score(y_test, pred_test, average = 'macro', zero_division = 0)\n",
    "r_s"
   ]
  },
  {
   "cell_type": "code",
   "execution_count": 3114,
   "id": "f950b982",
   "metadata": {
    "scrolled": false
   },
   "outputs": [
    {
     "name": "stdout",
     "output_type": "stream",
     "text": [
      "              precision    recall  f1-score   support\n",
      "\n",
      "         3.0       0.00      0.00      0.00         8\n",
      "         4.0       0.59      0.66      0.63        77\n",
      "         5.0       0.63      0.64      0.63        80\n",
      "         6.0       0.00      0.00      0.00         4\n",
      "\n",
      "    accuracy                           0.60       169\n",
      "   macro avg       0.31      0.32      0.31       169\n",
      "weighted avg       0.57      0.60      0.59       169\n",
      "\n"
     ]
    }
   ],
   "source": [
    "print(classification_report(y_test, pred_test))"
   ]
  },
  {
   "cell_type": "code",
   "execution_count": 3115,
   "id": "3ae1d3f2",
   "metadata": {},
   "outputs": [
    {
     "data": {
      "text/html": [
       "<div>\n",
       "<style scoped>\n",
       "    .dataframe tbody tr th:only-of-type {\n",
       "        vertical-align: middle;\n",
       "    }\n",
       "\n",
       "    .dataframe tbody tr th {\n",
       "        vertical-align: top;\n",
       "    }\n",
       "\n",
       "    .dataframe thead th {\n",
       "        text-align: right;\n",
       "    }\n",
       "</style>\n",
       "<table border=\"1\" class=\"dataframe\">\n",
       "  <thead>\n",
       "    <tr style=\"text-align: right;\">\n",
       "      <th></th>\n",
       "      <th>model</th>\n",
       "      <th>recall</th>\n",
       "    </tr>\n",
       "  </thead>\n",
       "  <tbody>\n",
       "    <tr>\n",
       "      <th>0</th>\n",
       "      <td>log_reg</td>\n",
       "      <td>0.32</td>\n",
       "    </tr>\n",
       "    <tr>\n",
       "      <th>1</th>\n",
       "      <td>RFC</td>\n",
       "      <td>0.32</td>\n",
       "    </tr>\n",
       "  </tbody>\n",
       "</table>\n",
       "</div>"
      ],
      "text/plain": [
       "     model  recall\n",
       "0  log_reg    0.32\n",
       "1      RFC    0.32"
      ]
     },
     "execution_count": 3115,
     "metadata": {},
     "output_type": "execute_result"
    }
   ],
   "source": [
    "total_score_3.append({\n",
    "                           'model': 'RFC',\n",
    "                           'recall': r_s})\n",
    "pd.DataFrame(total_score_3)"
   ]
  },
  {
   "cell_type": "markdown",
   "id": "888461dc",
   "metadata": {},
   "source": [
    "**LGBM**"
   ]
  },
  {
   "cell_type": "code",
   "execution_count": 3116,
   "id": "f78939c6",
   "metadata": {},
   "outputs": [],
   "source": [
    "lgbm = LGBMClassifier()"
   ]
  },
  {
   "cell_type": "code",
   "execution_count": 3117,
   "id": "28e8abca",
   "metadata": {},
   "outputs": [],
   "source": [
    "parameters_lgbm = {'max_depth': [3, 6, 12],\n",
    "                  'learning_rate':[0.01, 0.03, 0.1]}"
   ]
  },
  {
   "cell_type": "code",
   "execution_count": 3118,
   "id": "4106cc73",
   "metadata": {},
   "outputs": [],
   "source": [
    "lgbm = GridSearchCV(lgbm, parameters_lgbm)"
   ]
  },
  {
   "cell_type": "code",
   "execution_count": 3119,
   "id": "d923931f",
   "metadata": {},
   "outputs": [
    {
     "name": "stdout",
     "output_type": "stream",
     "text": [
      "CPU times: total: 20.6 s\n",
      "Wall time: 2.72 s\n"
     ]
    },
    {
     "data": {
      "text/plain": [
       "GridSearchCV(estimator=LGBMClassifier(),\n",
       "             param_grid={'learning_rate': [0.01, 0.03, 0.1],\n",
       "                         'max_depth': [3, 6, 12]})"
      ]
     },
     "execution_count": 3119,
     "metadata": {},
     "output_type": "execute_result"
    }
   ],
   "source": [
    "%%time\n",
    "lgbm.fit(X_train, y_train)"
   ]
  },
  {
   "cell_type": "code",
   "execution_count": 3120,
   "id": "4089e894",
   "metadata": {},
   "outputs": [
    {
     "data": {
      "text/plain": [
       "{'learning_rate': 0.03, 'max_depth': 6}"
      ]
     },
     "execution_count": 3120,
     "metadata": {},
     "output_type": "execute_result"
    }
   ],
   "source": [
    "lgbm.best_params_"
   ]
  },
  {
   "cell_type": "code",
   "execution_count": 3121,
   "id": "0d832136",
   "metadata": {},
   "outputs": [],
   "source": [
    "pred_train = lgbm.predict(X_train)\n",
    "pred_test = lgbm.predict(X_test)"
   ]
  },
  {
   "cell_type": "code",
   "execution_count": 3122,
   "id": "97d57bdb",
   "metadata": {
    "scrolled": true
   },
   "outputs": [
    {
     "data": {
      "text/plain": [
       "0.8472953859693236"
      ]
     },
     "execution_count": 3122,
     "metadata": {},
     "output_type": "execute_result"
    }
   ],
   "source": [
    "f1_score(y_train, pred_train, average='macro', zero_division = 0)"
   ]
  },
  {
   "cell_type": "code",
   "execution_count": 3123,
   "id": "f43a083c",
   "metadata": {},
   "outputs": [
    {
     "data": {
      "text/plain": [
       "array([0.57425743, 0.57425743, 0.46534653, 0.4950495 , 0.53465347])"
      ]
     },
     "execution_count": 3123,
     "metadata": {},
     "output_type": "execute_result"
    }
   ],
   "source": [
    "scores = cross_val_score(lgbm, X_train, y_train, cv=5)\n",
    "scores"
   ]
  },
  {
   "cell_type": "code",
   "execution_count": 3124,
   "id": "1b3e21a7",
   "metadata": {
    "scrolled": false
   },
   "outputs": [
    {
     "data": {
      "text/plain": [
       "0.3354166666666667"
      ]
     },
     "execution_count": 3124,
     "metadata": {},
     "output_type": "execute_result"
    }
   ],
   "source": [
    "f1_score(y_test, pred_test, average='macro', zero_division = 0)"
   ]
  },
  {
   "cell_type": "code",
   "execution_count": 3125,
   "id": "f4262384",
   "metadata": {},
   "outputs": [
    {
     "data": {
      "text/plain": [
       "0.34732142857142856"
      ]
     },
     "execution_count": 3125,
     "metadata": {},
     "output_type": "execute_result"
    }
   ],
   "source": [
    "r_s = recall_score(y_test, pred_test, average = 'macro', zero_division = 0)\n",
    "r_s"
   ]
  },
  {
   "cell_type": "code",
   "execution_count": 3126,
   "id": "b7cb9317",
   "metadata": {
    "scrolled": false
   },
   "outputs": [
    {
     "name": "stdout",
     "output_type": "stream",
     "text": [
      "              precision    recall  f1-score   support\n",
      "\n",
      "         3.0       0.00      0.00      0.00         8\n",
      "         4.0       0.62      0.71      0.67        77\n",
      "         5.0       0.68      0.68      0.68        80\n",
      "         6.0       0.00      0.00      0.00         4\n",
      "\n",
      "    accuracy                           0.64       169\n",
      "   macro avg       0.33      0.35      0.34       169\n",
      "weighted avg       0.60      0.64      0.62       169\n",
      "\n"
     ]
    }
   ],
   "source": [
    "print(classification_report(y_test, pred_test))"
   ]
  },
  {
   "cell_type": "code",
   "execution_count": 3127,
   "id": "4ee2c11b",
   "metadata": {
    "scrolled": false
   },
   "outputs": [
    {
     "data": {
      "text/html": [
       "<div>\n",
       "<style scoped>\n",
       "    .dataframe tbody tr th:only-of-type {\n",
       "        vertical-align: middle;\n",
       "    }\n",
       "\n",
       "    .dataframe tbody tr th {\n",
       "        vertical-align: top;\n",
       "    }\n",
       "\n",
       "    .dataframe thead th {\n",
       "        text-align: right;\n",
       "    }\n",
       "</style>\n",
       "<table border=\"1\" class=\"dataframe\">\n",
       "  <thead>\n",
       "    <tr style=\"text-align: right;\">\n",
       "      <th></th>\n",
       "      <th>model</th>\n",
       "      <th>recall</th>\n",
       "    </tr>\n",
       "  </thead>\n",
       "  <tbody>\n",
       "    <tr>\n",
       "      <th>0</th>\n",
       "      <td>log_reg</td>\n",
       "      <td>0.32</td>\n",
       "    </tr>\n",
       "    <tr>\n",
       "      <th>1</th>\n",
       "      <td>RFC</td>\n",
       "      <td>0.32</td>\n",
       "    </tr>\n",
       "    <tr>\n",
       "      <th>2</th>\n",
       "      <td>LGBM</td>\n",
       "      <td>0.35</td>\n",
       "    </tr>\n",
       "  </tbody>\n",
       "</table>\n",
       "</div>"
      ],
      "text/plain": [
       "     model  recall\n",
       "0  log_reg    0.32\n",
       "1      RFC    0.32\n",
       "2     LGBM    0.35"
      ]
     },
     "execution_count": 3127,
     "metadata": {},
     "output_type": "execute_result"
    }
   ],
   "source": [
    "total_score_3.append({\n",
    "                           'model': 'LGBM',\n",
    "                           'recall': r_s})\n",
    "pd.DataFrame(total_score_3)"
   ]
  },
  {
   "cell_type": "code",
   "execution_count": 3128,
   "id": "0974da4a",
   "metadata": {},
   "outputs": [],
   "source": [
    "X_train = df_7.drop(col_drop, axis=1) \n",
    "y_train = df_7['Adaptability']\n",
    "lgbm.fit(X_train, y_train)\n",
    "model_3 = lgbm"
   ]
  },
  {
   "cell_type": "markdown",
   "id": "b3111784",
   "metadata": {},
   "source": [
    "## 'Focus' (в трейне: ОНЕ-решений, баллы и рейтинги)"
   ]
  },
  {
   "cell_type": "code",
   "execution_count": 3129,
   "id": "a39643b3",
   "metadata": {},
   "outputs": [
    {
     "data": {
      "text/html": [
       "<div>\n",
       "<style scoped>\n",
       "    .dataframe tbody tr th:only-of-type {\n",
       "        vertical-align: middle;\n",
       "    }\n",
       "\n",
       "    .dataframe tbody tr th {\n",
       "        vertical-align: top;\n",
       "    }\n",
       "\n",
       "    .dataframe thead th {\n",
       "        text-align: right;\n",
       "    }\n",
       "</style>\n",
       "<table border=\"1\" class=\"dataframe\">\n",
       "  <thead>\n",
       "    <tr style=\"text-align: right;\">\n",
       "      <th></th>\n",
       "      <th>Analytical thinking</th>\n",
       "      <th>Systemic thinking</th>\n",
       "      <th>Adaptability</th>\n",
       "      <th>Focus</th>\n",
       "      <th>game_id</th>\n",
       "      <th>total_score</th>\n",
       "      <th>cat_1</th>\n",
       "      <th>cat_2</th>\n",
       "      <th>cat_3</th>\n",
       "      <th>cat_4</th>\n",
       "      <th>cat_5</th>\n",
       "      <th>cat_6</th>\n",
       "      <th>score_rating</th>\n",
       "      <th>rating_1</th>\n",
       "      <th>rating_2</th>\n",
       "      <th>rating_3</th>\n",
       "      <th>rating_4</th>\n",
       "      <th>rating_5</th>\n",
       "      <th>rating_6</th>\n",
       "    </tr>\n",
       "    <tr>\n",
       "      <th>id</th>\n",
       "      <th></th>\n",
       "      <th></th>\n",
       "      <th></th>\n",
       "      <th></th>\n",
       "      <th></th>\n",
       "      <th></th>\n",
       "      <th></th>\n",
       "      <th></th>\n",
       "      <th></th>\n",
       "      <th></th>\n",
       "      <th></th>\n",
       "      <th></th>\n",
       "      <th></th>\n",
       "      <th></th>\n",
       "      <th></th>\n",
       "      <th></th>\n",
       "      <th></th>\n",
       "      <th></th>\n",
       "      <th></th>\n",
       "    </tr>\n",
       "  </thead>\n",
       "  <tbody>\n",
       "    <tr>\n",
       "      <th>10884</th>\n",
       "      <td>4.00</td>\n",
       "      <td>4.00</td>\n",
       "      <td>4.00</td>\n",
       "      <td>4.00</td>\n",
       "      <td>202</td>\n",
       "      <td>1188</td>\n",
       "      <td>-5.00</td>\n",
       "      <td>-25.00</td>\n",
       "      <td>391.00</td>\n",
       "      <td>128.00</td>\n",
       "      <td>105.00</td>\n",
       "      <td>594.00</td>\n",
       "      <td>0.55</td>\n",
       "      <td>-0.04</td>\n",
       "      <td>-0.13</td>\n",
       "      <td>0.77</td>\n",
       "      <td>0.74</td>\n",
       "      <td>1.00</td>\n",
       "      <td>0.55</td>\n",
       "    </tr>\n",
       "    <tr>\n",
       "      <th>10106</th>\n",
       "      <td>5.00</td>\n",
       "      <td>4.00</td>\n",
       "      <td>5.00</td>\n",
       "      <td>5.00</td>\n",
       "      <td>211</td>\n",
       "      <td>1828</td>\n",
       "      <td>54.00</td>\n",
       "      <td>120.00</td>\n",
       "      <td>467.00</td>\n",
       "      <td>160.00</td>\n",
       "      <td>113.00</td>\n",
       "      <td>914.00</td>\n",
       "      <td>1.00</td>\n",
       "      <td>1.00</td>\n",
       "      <td>0.90</td>\n",
       "      <td>0.99</td>\n",
       "      <td>0.90</td>\n",
       "      <td>1.00</td>\n",
       "      <td>1.00</td>\n",
       "    </tr>\n",
       "    <tr>\n",
       "      <th>10438</th>\n",
       "      <td>6.00</td>\n",
       "      <td>5.00</td>\n",
       "      <td>5.00</td>\n",
       "      <td>5.00</td>\n",
       "      <td>242</td>\n",
       "      <td>1604</td>\n",
       "      <td>55.00</td>\n",
       "      <td>60.00</td>\n",
       "      <td>383.00</td>\n",
       "      <td>158.00</td>\n",
       "      <td>146.00</td>\n",
       "      <td>802.00</td>\n",
       "      <td>1.00</td>\n",
       "      <td>1.00</td>\n",
       "      <td>0.69</td>\n",
       "      <td>0.98</td>\n",
       "      <td>1.00</td>\n",
       "      <td>0.81</td>\n",
       "      <td>1.00</td>\n",
       "    </tr>\n",
       "    <tr>\n",
       "      <th>10130</th>\n",
       "      <td>5.00</td>\n",
       "      <td>4.00</td>\n",
       "      <td>5.00</td>\n",
       "      <td>5.00</td>\n",
       "      <td>184</td>\n",
       "      <td>1334</td>\n",
       "      <td>31.00</td>\n",
       "      <td>24.00</td>\n",
       "      <td>366.00</td>\n",
       "      <td>139.00</td>\n",
       "      <td>107.00</td>\n",
       "      <td>667.00</td>\n",
       "      <td>0.62</td>\n",
       "      <td>0.30</td>\n",
       "      <td>0.12</td>\n",
       "      <td>0.71</td>\n",
       "      <td>0.69</td>\n",
       "      <td>1.00</td>\n",
       "      <td>0.62</td>\n",
       "    </tr>\n",
       "    <tr>\n",
       "      <th>10667</th>\n",
       "      <td>4.00</td>\n",
       "      <td>5.00</td>\n",
       "      <td>5.00</td>\n",
       "      <td>5.00</td>\n",
       "      <td>193</td>\n",
       "      <td>1756</td>\n",
       "      <td>71.00</td>\n",
       "      <td>70.00</td>\n",
       "      <td>416.00</td>\n",
       "      <td>166.00</td>\n",
       "      <td>155.00</td>\n",
       "      <td>878.00</td>\n",
       "      <td>0.72</td>\n",
       "      <td>0.41</td>\n",
       "      <td>0.26</td>\n",
       "      <td>0.97</td>\n",
       "      <td>0.80</td>\n",
       "      <td>0.87</td>\n",
       "      <td>0.72</td>\n",
       "    </tr>\n",
       "  </tbody>\n",
       "</table>\n",
       "</div>"
      ],
      "text/plain": [
       "       Analytical thinking  Systemic thinking  Adaptability  Focus  game_id  \\\n",
       "id                                                                            \n",
       "10884                 4.00               4.00          4.00   4.00      202   \n",
       "10106                 5.00               4.00          5.00   5.00      211   \n",
       "10438                 6.00               5.00          5.00   5.00      242   \n",
       "10130                 5.00               4.00          5.00   5.00      184   \n",
       "10667                 4.00               5.00          5.00   5.00      193   \n",
       "\n",
       "       total_score  cat_1  cat_2  cat_3  cat_4  cat_5  cat_6  score_rating  \\\n",
       "id                                                                           \n",
       "10884         1188  -5.00 -25.00 391.00 128.00 105.00 594.00          0.55   \n",
       "10106         1828  54.00 120.00 467.00 160.00 113.00 914.00          1.00   \n",
       "10438         1604  55.00  60.00 383.00 158.00 146.00 802.00          1.00   \n",
       "10130         1334  31.00  24.00 366.00 139.00 107.00 667.00          0.62   \n",
       "10667         1756  71.00  70.00 416.00 166.00 155.00 878.00          0.72   \n",
       "\n",
       "       rating_1  rating_2  rating_3  rating_4  rating_5  rating_6  \n",
       "id                                                                 \n",
       "10884     -0.04     -0.13      0.77      0.74      1.00      0.55  \n",
       "10106      1.00      0.90      0.99      0.90      1.00      1.00  \n",
       "10438      1.00      0.69      0.98      1.00      0.81      1.00  \n",
       "10130      0.30      0.12      0.71      0.69      1.00      0.62  \n",
       "10667      0.41      0.26      0.97      0.80      0.87      0.72  "
      ]
     },
     "execution_count": 3129,
     "metadata": {},
     "output_type": "execute_result"
    }
   ],
   "source": [
    "df_score.head()"
   ]
  },
  {
   "cell_type": "code",
   "execution_count": 3130,
   "id": "ad5898a7",
   "metadata": {
    "scrolled": false
   },
   "outputs": [
    {
     "data": {
      "text/html": [
       "<div>\n",
       "<style scoped>\n",
       "    .dataframe tbody tr th:only-of-type {\n",
       "        vertical-align: middle;\n",
       "    }\n",
       "\n",
       "    .dataframe tbody tr th {\n",
       "        vertical-align: top;\n",
       "    }\n",
       "\n",
       "    .dataframe thead th {\n",
       "        text-align: right;\n",
       "    }\n",
       "</style>\n",
       "<table border=\"1\" class=\"dataframe\">\n",
       "  <thead>\n",
       "    <tr style=\"text-align: right;\">\n",
       "      <th></th>\n",
       "      <th>Analytical thinking</th>\n",
       "      <th>Systemic thinking</th>\n",
       "      <th>Adaptability</th>\n",
       "      <th>Focus</th>\n",
       "      <th>1</th>\n",
       "      <th>2</th>\n",
       "      <th>3</th>\n",
       "      <th>4</th>\n",
       "      <th>5</th>\n",
       "      <th>6</th>\n",
       "      <th>...</th>\n",
       "      <th>430</th>\n",
       "      <th>431</th>\n",
       "      <th>432</th>\n",
       "      <th>433</th>\n",
       "      <th>434</th>\n",
       "      <th>435</th>\n",
       "      <th>436</th>\n",
       "      <th>437</th>\n",
       "      <th>438</th>\n",
       "      <th>total</th>\n",
       "    </tr>\n",
       "    <tr>\n",
       "      <th>index</th>\n",
       "      <th></th>\n",
       "      <th></th>\n",
       "      <th></th>\n",
       "      <th></th>\n",
       "      <th></th>\n",
       "      <th></th>\n",
       "      <th></th>\n",
       "      <th></th>\n",
       "      <th></th>\n",
       "      <th></th>\n",
       "      <th></th>\n",
       "      <th></th>\n",
       "      <th></th>\n",
       "      <th></th>\n",
       "      <th></th>\n",
       "      <th></th>\n",
       "      <th></th>\n",
       "      <th></th>\n",
       "      <th></th>\n",
       "      <th></th>\n",
       "      <th></th>\n",
       "    </tr>\n",
       "  </thead>\n",
       "  <tbody>\n",
       "    <tr>\n",
       "      <th>10001</th>\n",
       "      <td>4.00</td>\n",
       "      <td>4.00</td>\n",
       "      <td>5.00</td>\n",
       "      <td>4.00</td>\n",
       "      <td>0.00</td>\n",
       "      <td>0.00</td>\n",
       "      <td>0.00</td>\n",
       "      <td>0.00</td>\n",
       "      <td>0.00</td>\n",
       "      <td>0.00</td>\n",
       "      <td>...</td>\n",
       "      <td>0.00</td>\n",
       "      <td>0.00</td>\n",
       "      <td>0.00</td>\n",
       "      <td>0.00</td>\n",
       "      <td>0.00</td>\n",
       "      <td>0.00</td>\n",
       "      <td>0.00</td>\n",
       "      <td>0.00</td>\n",
       "      <td>0</td>\n",
       "      <td>0.00</td>\n",
       "    </tr>\n",
       "  </tbody>\n",
       "</table>\n",
       "<p>1 rows × 443 columns</p>\n",
       "</div>"
      ],
      "text/plain": [
       "       Analytical thinking  Systemic thinking  Adaptability  Focus    1    2  \\\n",
       "index                                                                          \n",
       "10001                 4.00               4.00          5.00   4.00 0.00 0.00   \n",
       "\n",
       "         3    4    5    6  ...  430  431  432  433  434  435  436  437  438  \\\n",
       "index                      ...                                                \n",
       "10001 0.00 0.00 0.00 0.00  ... 0.00 0.00 0.00 0.00 0.00 0.00 0.00 0.00    0   \n",
       "\n",
       "       total  \n",
       "index         \n",
       "10001   0.00  \n",
       "\n",
       "[1 rows x 443 columns]"
      ]
     },
     "execution_count": 3130,
     "metadata": {},
     "output_type": "execute_result"
    }
   ],
   "source": [
    "df_4.head(1)"
   ]
  },
  {
   "cell_type": "code",
   "execution_count": 3131,
   "id": "97d422db",
   "metadata": {},
   "outputs": [],
   "source": [
    "col_drop = ['Analytical thinking', 'Systemic thinking', 'Adaptability','Focus']"
   ]
  },
  {
   "cell_type": "code",
   "execution_count": 3132,
   "id": "4f41a38e",
   "metadata": {},
   "outputs": [],
   "source": [
    "df_7 = df_score.join(df_4.drop(col_drop, axis=1))"
   ]
  },
  {
   "cell_type": "code",
   "execution_count": 3133,
   "id": "64bd01b0",
   "metadata": {
    "scrolled": true
   },
   "outputs": [
    {
     "data": {
      "text/html": [
       "<div>\n",
       "<style scoped>\n",
       "    .dataframe tbody tr th:only-of-type {\n",
       "        vertical-align: middle;\n",
       "    }\n",
       "\n",
       "    .dataframe tbody tr th {\n",
       "        vertical-align: top;\n",
       "    }\n",
       "\n",
       "    .dataframe thead th {\n",
       "        text-align: right;\n",
       "    }\n",
       "</style>\n",
       "<table border=\"1\" class=\"dataframe\">\n",
       "  <thead>\n",
       "    <tr style=\"text-align: right;\">\n",
       "      <th></th>\n",
       "      <th>Analytical thinking</th>\n",
       "      <th>Systemic thinking</th>\n",
       "      <th>Adaptability</th>\n",
       "      <th>Focus</th>\n",
       "      <th>game_id</th>\n",
       "      <th>total_score</th>\n",
       "      <th>cat_1</th>\n",
       "      <th>cat_2</th>\n",
       "      <th>cat_3</th>\n",
       "      <th>cat_4</th>\n",
       "      <th>...</th>\n",
       "      <th>430</th>\n",
       "      <th>431</th>\n",
       "      <th>432</th>\n",
       "      <th>433</th>\n",
       "      <th>434</th>\n",
       "      <th>435</th>\n",
       "      <th>436</th>\n",
       "      <th>437</th>\n",
       "      <th>438</th>\n",
       "      <th>total</th>\n",
       "    </tr>\n",
       "    <tr>\n",
       "      <th>id</th>\n",
       "      <th></th>\n",
       "      <th></th>\n",
       "      <th></th>\n",
       "      <th></th>\n",
       "      <th></th>\n",
       "      <th></th>\n",
       "      <th></th>\n",
       "      <th></th>\n",
       "      <th></th>\n",
       "      <th></th>\n",
       "      <th></th>\n",
       "      <th></th>\n",
       "      <th></th>\n",
       "      <th></th>\n",
       "      <th></th>\n",
       "      <th></th>\n",
       "      <th></th>\n",
       "      <th></th>\n",
       "      <th></th>\n",
       "      <th></th>\n",
       "      <th></th>\n",
       "    </tr>\n",
       "  </thead>\n",
       "  <tbody>\n",
       "    <tr>\n",
       "      <th>10884</th>\n",
       "      <td>4.00</td>\n",
       "      <td>4.00</td>\n",
       "      <td>4.00</td>\n",
       "      <td>4.00</td>\n",
       "      <td>202</td>\n",
       "      <td>1188</td>\n",
       "      <td>-5.00</td>\n",
       "      <td>-25.00</td>\n",
       "      <td>391.00</td>\n",
       "      <td>128.00</td>\n",
       "      <td>...</td>\n",
       "      <td>0.00</td>\n",
       "      <td>0.00</td>\n",
       "      <td>0.00</td>\n",
       "      <td>0.00</td>\n",
       "      <td>0.00</td>\n",
       "      <td>0.00</td>\n",
       "      <td>0.00</td>\n",
       "      <td>0.00</td>\n",
       "      <td>0</td>\n",
       "      <td>0.00</td>\n",
       "    </tr>\n",
       "  </tbody>\n",
       "</table>\n",
       "<p>1 rows × 458 columns</p>\n",
       "</div>"
      ],
      "text/plain": [
       "       Analytical thinking  Systemic thinking  Adaptability  Focus  game_id  \\\n",
       "id                                                                            \n",
       "10884                 4.00               4.00          4.00   4.00      202   \n",
       "\n",
       "       total_score  cat_1  cat_2  cat_3  cat_4  ...  430  431  432  433  434  \\\n",
       "id                                              ...                            \n",
       "10884         1188  -5.00 -25.00 391.00 128.00  ... 0.00 0.00 0.00 0.00 0.00   \n",
       "\n",
       "       435  436  437  438  total  \n",
       "id                                \n",
       "10884 0.00 0.00 0.00    0   0.00  \n",
       "\n",
       "[1 rows x 458 columns]"
      ]
     },
     "execution_count": 3133,
     "metadata": {},
     "output_type": "execute_result"
    }
   ],
   "source": [
    "df_7.head(1)"
   ]
  },
  {
   "cell_type": "code",
   "execution_count": 3134,
   "id": "d31829ec",
   "metadata": {},
   "outputs": [],
   "source": [
    "df_7['max_total'] = df_7.groupby('game_id')['total'].transform('max')"
   ]
  },
  {
   "cell_type": "code",
   "execution_count": 3135,
   "id": "86dd28a2",
   "metadata": {},
   "outputs": [],
   "source": [
    "df_7['rating_user'] = df_7['total'] / df_7['max_total']"
   ]
  },
  {
   "cell_type": "code",
   "execution_count": 3136,
   "id": "99dd1cac",
   "metadata": {},
   "outputs": [
    {
     "data": {
      "text/plain": [
       "(674, 460)"
      ]
     },
     "execution_count": 3136,
     "metadata": {},
     "output_type": "execute_result"
    }
   ],
   "source": [
    "df_7 = df_7[df_7['Analytical thinking']>2]\n",
    "df_7 = df_7[df_7['Systemic thinking']>2]\n",
    "df_7 = df_7[df_7['Adaptability']>2]\n",
    "df_7 = df_7[df_7['Focus']>2]\n",
    "df_7.shape"
   ]
  },
  {
   "cell_type": "code",
   "execution_count": 3137,
   "id": "0c6a7238",
   "metadata": {},
   "outputs": [],
   "source": [
    "for i in range(1, 439):\n",
    "    df_7 = df_7.drop(str(i), axis=1)    "
   ]
  },
  {
   "cell_type": "code",
   "execution_count": 3138,
   "id": "fad8b2ad",
   "metadata": {},
   "outputs": [
    {
     "data": {
      "text/html": [
       "<div>\n",
       "<style scoped>\n",
       "    .dataframe tbody tr th:only-of-type {\n",
       "        vertical-align: middle;\n",
       "    }\n",
       "\n",
       "    .dataframe tbody tr th {\n",
       "        vertical-align: top;\n",
       "    }\n",
       "\n",
       "    .dataframe thead th {\n",
       "        text-align: right;\n",
       "    }\n",
       "</style>\n",
       "<table border=\"1\" class=\"dataframe\">\n",
       "  <thead>\n",
       "    <tr style=\"text-align: right;\">\n",
       "      <th></th>\n",
       "      <th>Analytical thinking</th>\n",
       "      <th>Systemic thinking</th>\n",
       "      <th>Adaptability</th>\n",
       "      <th>Focus</th>\n",
       "      <th>game_id</th>\n",
       "      <th>total_score</th>\n",
       "      <th>cat_1</th>\n",
       "      <th>cat_2</th>\n",
       "      <th>cat_3</th>\n",
       "      <th>cat_4</th>\n",
       "      <th>...</th>\n",
       "      <th>score_rating</th>\n",
       "      <th>rating_1</th>\n",
       "      <th>rating_2</th>\n",
       "      <th>rating_3</th>\n",
       "      <th>rating_4</th>\n",
       "      <th>rating_5</th>\n",
       "      <th>rating_6</th>\n",
       "      <th>total</th>\n",
       "      <th>max_total</th>\n",
       "      <th>rating_user</th>\n",
       "    </tr>\n",
       "    <tr>\n",
       "      <th>id</th>\n",
       "      <th></th>\n",
       "      <th></th>\n",
       "      <th></th>\n",
       "      <th></th>\n",
       "      <th></th>\n",
       "      <th></th>\n",
       "      <th></th>\n",
       "      <th></th>\n",
       "      <th></th>\n",
       "      <th></th>\n",
       "      <th></th>\n",
       "      <th></th>\n",
       "      <th></th>\n",
       "      <th></th>\n",
       "      <th></th>\n",
       "      <th></th>\n",
       "      <th></th>\n",
       "      <th></th>\n",
       "      <th></th>\n",
       "      <th></th>\n",
       "      <th></th>\n",
       "    </tr>\n",
       "  </thead>\n",
       "  <tbody>\n",
       "    <tr>\n",
       "      <th>10884</th>\n",
       "      <td>4.00</td>\n",
       "      <td>4.00</td>\n",
       "      <td>4.00</td>\n",
       "      <td>4.00</td>\n",
       "      <td>202</td>\n",
       "      <td>1188</td>\n",
       "      <td>-5.00</td>\n",
       "      <td>-25.00</td>\n",
       "      <td>391.00</td>\n",
       "      <td>128.00</td>\n",
       "      <td>...</td>\n",
       "      <td>0.55</td>\n",
       "      <td>-0.04</td>\n",
       "      <td>-0.13</td>\n",
       "      <td>0.77</td>\n",
       "      <td>0.74</td>\n",
       "      <td>1.00</td>\n",
       "      <td>0.55</td>\n",
       "      <td>0.00</td>\n",
       "      <td>0.00</td>\n",
       "      <td>0.39</td>\n",
       "    </tr>\n",
       "  </tbody>\n",
       "</table>\n",
       "<p>1 rows × 22 columns</p>\n",
       "</div>"
      ],
      "text/plain": [
       "       Analytical thinking  Systemic thinking  Adaptability  Focus  game_id  \\\n",
       "id                                                                            \n",
       "10884                 4.00               4.00          4.00   4.00      202   \n",
       "\n",
       "       total_score  cat_1  cat_2  cat_3  cat_4  ...  score_rating  rating_1  \\\n",
       "id                                              ...                           \n",
       "10884         1188  -5.00 -25.00 391.00 128.00  ...          0.55     -0.04   \n",
       "\n",
       "       rating_2  rating_3  rating_4  rating_5  rating_6  total  max_total  \\\n",
       "id                                                                          \n",
       "10884     -0.13      0.77      0.74      1.00      0.55   0.00       0.00   \n",
       "\n",
       "       rating_user  \n",
       "id                  \n",
       "10884         0.39  \n",
       "\n",
       "[1 rows x 22 columns]"
      ]
     },
     "execution_count": 3138,
     "metadata": {},
     "output_type": "execute_result"
    }
   ],
   "source": [
    "df_7.head(1)"
   ]
  },
  {
   "cell_type": "code",
   "execution_count": 3139,
   "id": "f956cf05",
   "metadata": {},
   "outputs": [],
   "source": [
    "col_drop = ['Analytical thinking', 'Systemic thinking', 'Adaptability', \n",
    "            'Focus', 'max_total']"
   ]
  },
  {
   "cell_type": "code",
   "execution_count": 3140,
   "id": "dd495ac1",
   "metadata": {},
   "outputs": [],
   "source": [
    "X_train, X_test, y_train, y_test = train_test_split(\n",
    "    df_7.drop(col_drop, axis=1), df_7['Focus'], stratify = df_7['Focus'], test_size=0.25, random_state=12345)"
   ]
  },
  {
   "cell_type": "code",
   "execution_count": 3141,
   "id": "02c621cb",
   "metadata": {
    "scrolled": true
   },
   "outputs": [
    {
     "name": "stdout",
     "output_type": "stream",
     "text": [
      "(505, 17)\n",
      "(505,)\n"
     ]
    }
   ],
   "source": [
    "print(X_train.shape)\n",
    "print(y_train.shape)"
   ]
  },
  {
   "cell_type": "code",
   "execution_count": 3142,
   "id": "44f4bdc7",
   "metadata": {
    "scrolled": false
   },
   "outputs": [
    {
     "data": {
      "text/html": [
       "<div>\n",
       "<style scoped>\n",
       "    .dataframe tbody tr th:only-of-type {\n",
       "        vertical-align: middle;\n",
       "    }\n",
       "\n",
       "    .dataframe tbody tr th {\n",
       "        vertical-align: top;\n",
       "    }\n",
       "\n",
       "    .dataframe thead th {\n",
       "        text-align: right;\n",
       "    }\n",
       "</style>\n",
       "<table border=\"1\" class=\"dataframe\">\n",
       "  <thead>\n",
       "    <tr style=\"text-align: right;\">\n",
       "      <th></th>\n",
       "      <th>game_id</th>\n",
       "      <th>total_score</th>\n",
       "      <th>cat_1</th>\n",
       "      <th>cat_2</th>\n",
       "      <th>cat_3</th>\n",
       "      <th>cat_4</th>\n",
       "      <th>cat_5</th>\n",
       "      <th>cat_6</th>\n",
       "      <th>score_rating</th>\n",
       "      <th>rating_1</th>\n",
       "      <th>rating_2</th>\n",
       "      <th>rating_3</th>\n",
       "      <th>rating_4</th>\n",
       "      <th>rating_5</th>\n",
       "      <th>rating_6</th>\n",
       "      <th>total</th>\n",
       "      <th>rating_user</th>\n",
       "    </tr>\n",
       "    <tr>\n",
       "      <th>id</th>\n",
       "      <th></th>\n",
       "      <th></th>\n",
       "      <th></th>\n",
       "      <th></th>\n",
       "      <th></th>\n",
       "      <th></th>\n",
       "      <th></th>\n",
       "      <th></th>\n",
       "      <th></th>\n",
       "      <th></th>\n",
       "      <th></th>\n",
       "      <th></th>\n",
       "      <th></th>\n",
       "      <th></th>\n",
       "      <th></th>\n",
       "      <th></th>\n",
       "      <th></th>\n",
       "    </tr>\n",
       "  </thead>\n",
       "  <tbody>\n",
       "    <tr>\n",
       "      <th>10390</th>\n",
       "      <td>236</td>\n",
       "      <td>2334</td>\n",
       "      <td>132.00</td>\n",
       "      <td>224.00</td>\n",
       "      <td>535.00</td>\n",
       "      <td>188.00</td>\n",
       "      <td>88.00</td>\n",
       "      <td>1,167.00</td>\n",
       "      <td>0.77</td>\n",
       "      <td>0.56</td>\n",
       "      <td>0.61</td>\n",
       "      <td>1.00</td>\n",
       "      <td>0.67</td>\n",
       "      <td>0.86</td>\n",
       "      <td>0.77</td>\n",
       "      <td>0.00</td>\n",
       "      <td>0.00</td>\n",
       "    </tr>\n",
       "    <tr>\n",
       "      <th>10694</th>\n",
       "      <td>238</td>\n",
       "      <td>1918</td>\n",
       "      <td>71.00</td>\n",
       "      <td>115.00</td>\n",
       "      <td>495.00</td>\n",
       "      <td>173.00</td>\n",
       "      <td>105.00</td>\n",
       "      <td>959.00</td>\n",
       "      <td>0.91</td>\n",
       "      <td>0.71</td>\n",
       "      <td>0.53</td>\n",
       "      <td>1.00</td>\n",
       "      <td>0.95</td>\n",
       "      <td>0.80</td>\n",
       "      <td>0.91</td>\n",
       "      <td>0.00</td>\n",
       "      <td>0.75</td>\n",
       "    </tr>\n",
       "    <tr>\n",
       "      <th>10811</th>\n",
       "      <td>237</td>\n",
       "      <td>1666</td>\n",
       "      <td>52.00</td>\n",
       "      <td>89.00</td>\n",
       "      <td>392.00</td>\n",
       "      <td>165.00</td>\n",
       "      <td>135.00</td>\n",
       "      <td>833.00</td>\n",
       "      <td>0.93</td>\n",
       "      <td>0.65</td>\n",
       "      <td>0.53</td>\n",
       "      <td>0.94</td>\n",
       "      <td>0.88</td>\n",
       "      <td>0.98</td>\n",
       "      <td>0.93</td>\n",
       "      <td>0.00</td>\n",
       "      <td>0.02</td>\n",
       "    </tr>\n",
       "    <tr>\n",
       "      <th>10140</th>\n",
       "      <td>233</td>\n",
       "      <td>2022</td>\n",
       "      <td>93.00</td>\n",
       "      <td>182.00</td>\n",
       "      <td>446.00</td>\n",
       "      <td>191.00</td>\n",
       "      <td>99.00</td>\n",
       "      <td>1,011.00</td>\n",
       "      <td>1.00</td>\n",
       "      <td>1.00</td>\n",
       "      <td>1.00</td>\n",
       "      <td>1.00</td>\n",
       "      <td>1.00</td>\n",
       "      <td>0.98</td>\n",
       "      <td>1.00</td>\n",
       "      <td>0.00</td>\n",
       "      <td>1.00</td>\n",
       "    </tr>\n",
       "    <tr>\n",
       "      <th>10903</th>\n",
       "      <td>243</td>\n",
       "      <td>1180</td>\n",
       "      <td>-21.00</td>\n",
       "      <td>9.00</td>\n",
       "      <td>373.00</td>\n",
       "      <td>118.00</td>\n",
       "      <td>111.00</td>\n",
       "      <td>590.00</td>\n",
       "      <td>0.69</td>\n",
       "      <td>-0.64</td>\n",
       "      <td>0.07</td>\n",
       "      <td>0.78</td>\n",
       "      <td>0.73</td>\n",
       "      <td>0.97</td>\n",
       "      <td>0.69</td>\n",
       "      <td>0.00</td>\n",
       "      <td>0.07</td>\n",
       "    </tr>\n",
       "  </tbody>\n",
       "</table>\n",
       "</div>"
      ],
      "text/plain": [
       "       game_id  total_score  cat_1  cat_2  cat_3  cat_4  cat_5    cat_6  \\\n",
       "id                                                                        \n",
       "10390      236         2334 132.00 224.00 535.00 188.00  88.00 1,167.00   \n",
       "10694      238         1918  71.00 115.00 495.00 173.00 105.00   959.00   \n",
       "10811      237         1666  52.00  89.00 392.00 165.00 135.00   833.00   \n",
       "10140      233         2022  93.00 182.00 446.00 191.00  99.00 1,011.00   \n",
       "10903      243         1180 -21.00   9.00 373.00 118.00 111.00   590.00   \n",
       "\n",
       "       score_rating  rating_1  rating_2  rating_3  rating_4  rating_5  \\\n",
       "id                                                                      \n",
       "10390          0.77      0.56      0.61      1.00      0.67      0.86   \n",
       "10694          0.91      0.71      0.53      1.00      0.95      0.80   \n",
       "10811          0.93      0.65      0.53      0.94      0.88      0.98   \n",
       "10140          1.00      1.00      1.00      1.00      1.00      0.98   \n",
       "10903          0.69     -0.64      0.07      0.78      0.73      0.97   \n",
       "\n",
       "       rating_6  total  rating_user  \n",
       "id                                   \n",
       "10390      0.77   0.00         0.00  \n",
       "10694      0.91   0.00         0.75  \n",
       "10811      0.93   0.00         0.02  \n",
       "10140      1.00   0.00         1.00  \n",
       "10903      0.69   0.00         0.07  "
      ]
     },
     "execution_count": 3142,
     "metadata": {},
     "output_type": "execute_result"
    }
   ],
   "source": [
    "X_train.head()"
   ]
  },
  {
   "cell_type": "code",
   "execution_count": 3143,
   "id": "be42d72f",
   "metadata": {},
   "outputs": [],
   "source": [
    "scaler_4 = StandardScaler()\n",
    "scaler_4.fit(X_train)\n",
    "X_train = scaler_4.transform(X_train)\n",
    "X_test = scaler_4.transform(X_test)"
   ]
  },
  {
   "cell_type": "markdown",
   "id": "ec22a4ca",
   "metadata": {},
   "source": [
    "**LogReg**"
   ]
  },
  {
   "cell_type": "code",
   "execution_count": 3144,
   "id": "b901fe84",
   "metadata": {
    "scrolled": true
   },
   "outputs": [
    {
     "data": {
      "text/plain": [
       "LogisticRegression()"
      ]
     },
     "execution_count": 3144,
     "metadata": {},
     "output_type": "execute_result"
    }
   ],
   "source": [
    "model = LogisticRegression()\n",
    "model.fit(X_train, y_train)"
   ]
  },
  {
   "cell_type": "code",
   "execution_count": 3145,
   "id": "8f6c677c",
   "metadata": {},
   "outputs": [],
   "source": [
    "pred_train = model.predict(X_train)\n",
    "pred_test = model.predict(X_test)"
   ]
  },
  {
   "cell_type": "code",
   "execution_count": 3146,
   "id": "9c1a5898",
   "metadata": {
    "scrolled": true
   },
   "outputs": [
    {
     "data": {
      "text/plain": [
       "0.3177946451386983"
      ]
     },
     "execution_count": 3146,
     "metadata": {},
     "output_type": "execute_result"
    }
   ],
   "source": [
    "f1_score(y_train, pred_train, average='macro', zero_division = 0)"
   ]
  },
  {
   "cell_type": "code",
   "execution_count": 3147,
   "id": "342c7cea",
   "metadata": {},
   "outputs": [
    {
     "data": {
      "text/plain": [
       "array([0.6039604 , 0.59405941, 0.68316832, 0.61386139, 0.62376238])"
      ]
     },
     "execution_count": 3147,
     "metadata": {},
     "output_type": "execute_result"
    }
   ],
   "source": [
    "scores = cross_val_score(model, X_train, y_train, cv=5)\n",
    "scores"
   ]
  },
  {
   "cell_type": "code",
   "execution_count": 3148,
   "id": "9f34ee99",
   "metadata": {
    "scrolled": false
   },
   "outputs": [
    {
     "data": {
      "text/plain": [
       "0.2745349433540025"
      ]
     },
     "execution_count": 3148,
     "metadata": {},
     "output_type": "execute_result"
    }
   ],
   "source": [
    "f1_score(y_test, pred_test, average='macro', zero_division = 0)"
   ]
  },
  {
   "cell_type": "code",
   "execution_count": 3149,
   "id": "a31ec5c3",
   "metadata": {},
   "outputs": [
    {
     "data": {
      "text/plain": [
       "0.28807377049180327"
      ]
     },
     "execution_count": 3149,
     "metadata": {},
     "output_type": "execute_result"
    }
   ],
   "source": [
    "r_s = recall_score(y_test, pred_test, average = 'macro', zero_division = 0)\n",
    "r_s"
   ]
  },
  {
   "cell_type": "code",
   "execution_count": 3150,
   "id": "2a2554cd",
   "metadata": {
    "scrolled": false
   },
   "outputs": [
    {
     "name": "stdout",
     "output_type": "stream",
     "text": [
      "              precision    recall  f1-score   support\n",
      "\n",
      "         3.0       0.00      0.00      0.00         7\n",
      "         4.0       0.63      0.89      0.74       100\n",
      "         5.0       0.57      0.26      0.36        61\n",
      "         6.0       0.00      0.00      0.00         1\n",
      "\n",
      "    accuracy                           0.62       169\n",
      "   macro avg       0.30      0.29      0.27       169\n",
      "weighted avg       0.58      0.62      0.57       169\n",
      "\n"
     ]
    }
   ],
   "source": [
    "print(classification_report(y_test, pred_test))"
   ]
  },
  {
   "cell_type": "code",
   "execution_count": 3151,
   "id": "964cd407",
   "metadata": {},
   "outputs": [
    {
     "data": {
      "text/html": [
       "<div>\n",
       "<style scoped>\n",
       "    .dataframe tbody tr th:only-of-type {\n",
       "        vertical-align: middle;\n",
       "    }\n",
       "\n",
       "    .dataframe tbody tr th {\n",
       "        vertical-align: top;\n",
       "    }\n",
       "\n",
       "    .dataframe thead th {\n",
       "        text-align: right;\n",
       "    }\n",
       "</style>\n",
       "<table border=\"1\" class=\"dataframe\">\n",
       "  <thead>\n",
       "    <tr style=\"text-align: right;\">\n",
       "      <th></th>\n",
       "      <th>model</th>\n",
       "      <th>recall</th>\n",
       "    </tr>\n",
       "  </thead>\n",
       "  <tbody>\n",
       "    <tr>\n",
       "      <th>0</th>\n",
       "      <td>log_reg</td>\n",
       "      <td>0.29</td>\n",
       "    </tr>\n",
       "  </tbody>\n",
       "</table>\n",
       "</div>"
      ],
      "text/plain": [
       "     model  recall\n",
       "0  log_reg    0.29"
      ]
     },
     "execution_count": 3151,
     "metadata": {},
     "output_type": "execute_result"
    }
   ],
   "source": [
    "total_score_4 = []\n",
    "total_score_4.append({      'model': 'log_reg',\n",
    "                           'recall': r_s})\n",
    "pd.DataFrame(total_score_4)"
   ]
  },
  {
   "cell_type": "markdown",
   "id": "49d3de28",
   "metadata": {},
   "source": [
    "**RFC**"
   ]
  },
  {
   "cell_type": "code",
   "execution_count": 3152,
   "id": "6d85a0e0",
   "metadata": {},
   "outputs": [
    {
     "data": {
      "text/plain": [
       "RandomForestClassifier(random_state=12345)"
      ]
     },
     "execution_count": 3152,
     "metadata": {},
     "output_type": "execute_result"
    }
   ],
   "source": [
    "clf = RandomForestClassifier(random_state=12345)\n",
    "clf.fit(X_train, y_train)"
   ]
  },
  {
   "cell_type": "code",
   "execution_count": 3153,
   "id": "ef5305ec",
   "metadata": {},
   "outputs": [],
   "source": [
    "pred_train = clf.predict(X_train)\n",
    "pred_test = clf.predict(X_test)"
   ]
  },
  {
   "cell_type": "code",
   "execution_count": 3154,
   "id": "00dc0610",
   "metadata": {
    "scrolled": true
   },
   "outputs": [
    {
     "data": {
      "text/plain": [
       "1.0"
      ]
     },
     "execution_count": 3154,
     "metadata": {},
     "output_type": "execute_result"
    }
   ],
   "source": [
    "f1_score(y_train, pred_train, average='macro', zero_division = 0)"
   ]
  },
  {
   "cell_type": "code",
   "execution_count": 3155,
   "id": "d8d0c6a7",
   "metadata": {},
   "outputs": [
    {
     "data": {
      "text/plain": [
       "array([0.54455446, 0.56435644, 0.58415842, 0.56435644, 0.54455446])"
      ]
     },
     "execution_count": 3155,
     "metadata": {},
     "output_type": "execute_result"
    }
   ],
   "source": [
    "scores = cross_val_score(clf, X_train, y_train, cv=5)\n",
    "scores"
   ]
  },
  {
   "cell_type": "code",
   "execution_count": 3156,
   "id": "18c6813b",
   "metadata": {
    "scrolled": true
   },
   "outputs": [
    {
     "data": {
      "text/plain": [
       "0.2941610272427555"
      ]
     },
     "execution_count": 3156,
     "metadata": {},
     "output_type": "execute_result"
    }
   ],
   "source": [
    "f1_score(y_test, pred_test, average='macro', zero_division = 0)"
   ]
  },
  {
   "cell_type": "code",
   "execution_count": 3157,
   "id": "ce6a95df",
   "metadata": {},
   "outputs": [
    {
     "data": {
      "text/plain": [
       "0.2992622950819672"
      ]
     },
     "execution_count": 3157,
     "metadata": {},
     "output_type": "execute_result"
    }
   ],
   "source": [
    "r_s = recall_score(y_test, pred_test, average = 'macro', zero_division = 0)\n",
    "r_s"
   ]
  },
  {
   "cell_type": "code",
   "execution_count": 3158,
   "id": "554a8230",
   "metadata": {
    "scrolled": false
   },
   "outputs": [
    {
     "name": "stdout",
     "output_type": "stream",
     "text": [
      "              precision    recall  f1-score   support\n",
      "\n",
      "         3.0       0.00      0.00      0.00         7\n",
      "         4.0       0.65      0.82      0.73       100\n",
      "         5.0       0.56      0.38      0.45        61\n",
      "         6.0       0.00      0.00      0.00         1\n",
      "\n",
      "    accuracy                           0.62       169\n",
      "   macro avg       0.30      0.30      0.29       169\n",
      "weighted avg       0.59      0.62      0.59       169\n",
      "\n"
     ]
    }
   ],
   "source": [
    "print(classification_report(y_test, pred_test))"
   ]
  },
  {
   "cell_type": "code",
   "execution_count": 3159,
   "id": "08622d89",
   "metadata": {},
   "outputs": [
    {
     "data": {
      "text/html": [
       "<div>\n",
       "<style scoped>\n",
       "    .dataframe tbody tr th:only-of-type {\n",
       "        vertical-align: middle;\n",
       "    }\n",
       "\n",
       "    .dataframe tbody tr th {\n",
       "        vertical-align: top;\n",
       "    }\n",
       "\n",
       "    .dataframe thead th {\n",
       "        text-align: right;\n",
       "    }\n",
       "</style>\n",
       "<table border=\"1\" class=\"dataframe\">\n",
       "  <thead>\n",
       "    <tr style=\"text-align: right;\">\n",
       "      <th></th>\n",
       "      <th>model</th>\n",
       "      <th>recall</th>\n",
       "    </tr>\n",
       "  </thead>\n",
       "  <tbody>\n",
       "    <tr>\n",
       "      <th>0</th>\n",
       "      <td>log_reg</td>\n",
       "      <td>0.29</td>\n",
       "    </tr>\n",
       "    <tr>\n",
       "      <th>1</th>\n",
       "      <td>RFC</td>\n",
       "      <td>0.30</td>\n",
       "    </tr>\n",
       "  </tbody>\n",
       "</table>\n",
       "</div>"
      ],
      "text/plain": [
       "     model  recall\n",
       "0  log_reg    0.29\n",
       "1      RFC    0.30"
      ]
     },
     "execution_count": 3159,
     "metadata": {},
     "output_type": "execute_result"
    }
   ],
   "source": [
    "total_score_4.append({\n",
    "                           'model': 'RFC',\n",
    "                           'recall': r_s})\n",
    "pd.DataFrame(total_score_4)"
   ]
  },
  {
   "cell_type": "markdown",
   "id": "9a42a2c1",
   "metadata": {},
   "source": [
    "**LGBM**"
   ]
  },
  {
   "cell_type": "code",
   "execution_count": 3160,
   "id": "501f5a95",
   "metadata": {},
   "outputs": [],
   "source": [
    "lgbm = LGBMClassifier()"
   ]
  },
  {
   "cell_type": "code",
   "execution_count": 3161,
   "id": "e6e591e9",
   "metadata": {},
   "outputs": [],
   "source": [
    "parameters_lgbm = {'max_depth': [3, 6, 12],\n",
    "                  'learning_rate':[0.01, 0.03, 0.1]}"
   ]
  },
  {
   "cell_type": "code",
   "execution_count": 3162,
   "id": "fa9998a5",
   "metadata": {},
   "outputs": [],
   "source": [
    "lgbm = GridSearchCV(lgbm, parameters_lgbm)"
   ]
  },
  {
   "cell_type": "code",
   "execution_count": 3163,
   "id": "6910b07e",
   "metadata": {},
   "outputs": [
    {
     "name": "stdout",
     "output_type": "stream",
     "text": [
      "CPU times: total: 19.4 s\n",
      "Wall time: 2.55 s\n"
     ]
    },
    {
     "data": {
      "text/plain": [
       "GridSearchCV(estimator=LGBMClassifier(),\n",
       "             param_grid={'learning_rate': [0.01, 0.03, 0.1],\n",
       "                         'max_depth': [3, 6, 12]})"
      ]
     },
     "execution_count": 3163,
     "metadata": {},
     "output_type": "execute_result"
    }
   ],
   "source": [
    "%%time\n",
    "lgbm.fit(X_train, y_train)"
   ]
  },
  {
   "cell_type": "code",
   "execution_count": 3164,
   "id": "fef59d20",
   "metadata": {},
   "outputs": [
    {
     "data": {
      "text/plain": [
       "{'learning_rate': 0.03, 'max_depth': 3}"
      ]
     },
     "execution_count": 3164,
     "metadata": {},
     "output_type": "execute_result"
    }
   ],
   "source": [
    "lgbm.best_params_"
   ]
  },
  {
   "cell_type": "code",
   "execution_count": 3165,
   "id": "94d624be",
   "metadata": {},
   "outputs": [],
   "source": [
    "pred_train = lgbm.predict(X_train)\n",
    "pred_test = lgbm.predict(X_test)"
   ]
  },
  {
   "cell_type": "code",
   "execution_count": 3166,
   "id": "2e1ca89a",
   "metadata": {
    "scrolled": true
   },
   "outputs": [
    {
     "data": {
      "text/plain": [
       "0.6787500325984503"
      ]
     },
     "execution_count": 3166,
     "metadata": {},
     "output_type": "execute_result"
    }
   ],
   "source": [
    "f1_score(y_train, pred_train, average='macro', zero_division = 0)"
   ]
  },
  {
   "cell_type": "code",
   "execution_count": 3167,
   "id": "fe365e6d",
   "metadata": {},
   "outputs": [
    {
     "data": {
      "text/plain": [
       "array([0.69306931, 0.58415842, 0.6039604 , 0.59405941, 0.63366337])"
      ]
     },
     "execution_count": 3167,
     "metadata": {},
     "output_type": "execute_result"
    }
   ],
   "source": [
    "scores = cross_val_score(lgbm, X_train, y_train, cv=5)\n",
    "scores"
   ]
  },
  {
   "cell_type": "code",
   "execution_count": 3168,
   "id": "13a0ec0e",
   "metadata": {
    "scrolled": false
   },
   "outputs": [
    {
     "data": {
      "text/plain": [
       "0.2882978723404256"
      ]
     },
     "execution_count": 3168,
     "metadata": {},
     "output_type": "execute_result"
    }
   ],
   "source": [
    "f1_score(y_test, pred_test, average='macro', zero_division = 0)"
   ]
  },
  {
   "cell_type": "code",
   "execution_count": 3169,
   "id": "8b2ad775",
   "metadata": {},
   "outputs": [
    {
     "data": {
      "text/plain": [
       "0.2978688524590164"
      ]
     },
     "execution_count": 3169,
     "metadata": {},
     "output_type": "execute_result"
    }
   ],
   "source": [
    "r_s = recall_score(y_test, pred_test, average = 'macro', zero_division = 0)\n",
    "r_s"
   ]
  },
  {
   "cell_type": "code",
   "execution_count": 3170,
   "id": "d476b839",
   "metadata": {
    "scrolled": false
   },
   "outputs": [
    {
     "name": "stdout",
     "output_type": "stream",
     "text": [
      "              precision    recall  f1-score   support\n",
      "\n",
      "         3.0       0.00      0.00      0.00         7\n",
      "         4.0       0.65      0.88      0.75       100\n",
      "         5.0       0.58      0.31      0.40        61\n",
      "         6.0       0.00      0.00      0.00         1\n",
      "\n",
      "    accuracy                           0.63       169\n",
      "   macro avg       0.31      0.30      0.29       169\n",
      "weighted avg       0.59      0.63      0.59       169\n",
      "\n"
     ]
    }
   ],
   "source": [
    "print(classification_report(y_test, pred_test))"
   ]
  },
  {
   "cell_type": "code",
   "execution_count": 3171,
   "id": "640db05f",
   "metadata": {
    "scrolled": true
   },
   "outputs": [
    {
     "data": {
      "text/html": [
       "<div>\n",
       "<style scoped>\n",
       "    .dataframe tbody tr th:only-of-type {\n",
       "        vertical-align: middle;\n",
       "    }\n",
       "\n",
       "    .dataframe tbody tr th {\n",
       "        vertical-align: top;\n",
       "    }\n",
       "\n",
       "    .dataframe thead th {\n",
       "        text-align: right;\n",
       "    }\n",
       "</style>\n",
       "<table border=\"1\" class=\"dataframe\">\n",
       "  <thead>\n",
       "    <tr style=\"text-align: right;\">\n",
       "      <th></th>\n",
       "      <th>model</th>\n",
       "      <th>recall</th>\n",
       "    </tr>\n",
       "  </thead>\n",
       "  <tbody>\n",
       "    <tr>\n",
       "      <th>0</th>\n",
       "      <td>log_reg</td>\n",
       "      <td>0.29</td>\n",
       "    </tr>\n",
       "    <tr>\n",
       "      <th>1</th>\n",
       "      <td>RFC</td>\n",
       "      <td>0.30</td>\n",
       "    </tr>\n",
       "    <tr>\n",
       "      <th>2</th>\n",
       "      <td>LGBM</td>\n",
       "      <td>0.30</td>\n",
       "    </tr>\n",
       "  </tbody>\n",
       "</table>\n",
       "</div>"
      ],
      "text/plain": [
       "     model  recall\n",
       "0  log_reg    0.29\n",
       "1      RFC    0.30\n",
       "2     LGBM    0.30"
      ]
     },
     "execution_count": 3171,
     "metadata": {},
     "output_type": "execute_result"
    }
   ],
   "source": [
    "total_score_4.append({\n",
    "                           'model': 'LGBM',\n",
    "                           'recall': r_s})\n",
    "pd.DataFrame(total_score_4)"
   ]
  },
  {
   "cell_type": "code",
   "execution_count": 3172,
   "id": "b2b6f748",
   "metadata": {},
   "outputs": [],
   "source": [
    "X_train = df_7.drop(col_drop, axis=1) \n",
    "y_train = df_7['Focus']\n",
    "lgbm.fit(X_train, y_train)\n",
    "model_4 = lgbm"
   ]
  },
  {
   "cell_type": "markdown",
   "id": "299b2a61",
   "metadata": {},
   "source": [
    "## Обработка тестовой выборки"
   ]
  },
  {
   "cell_type": "code",
   "execution_count": 3173,
   "id": "fec9fa4b",
   "metadata": {
    "scrolled": true
   },
   "outputs": [
    {
     "name": "stdout",
     "output_type": "stream",
     "text": [
      "<class 'pandas.core.frame.DataFrame'>\n",
      "RangeIndex: 293 entries, 0 to 292\n",
      "Data columns (total 5 columns):\n",
      " #   Column               Non-Null Count  Dtype\n",
      "---  ------               --------------  -----\n",
      " 0   id                   293 non-null    int64\n",
      " 1   Analytical thinking  293 non-null    int64\n",
      " 2   Systemic thinking    293 non-null    int64\n",
      " 3   Adaptability         293 non-null    int64\n",
      " 4   Focus                293 non-null    int64\n",
      "dtypes: int64(5)\n",
      "memory usage: 11.6 KB\n"
     ]
    }
   ],
   "source": [
    "sample_solution.info()"
   ]
  },
  {
   "cell_type": "code",
   "execution_count": 3174,
   "id": "cd7fb553",
   "metadata": {
    "scrolled": false
   },
   "outputs": [
    {
     "data": {
      "text/html": [
       "<div>\n",
       "<style scoped>\n",
       "    .dataframe tbody tr th:only-of-type {\n",
       "        vertical-align: middle;\n",
       "    }\n",
       "\n",
       "    .dataframe tbody tr th {\n",
       "        vertical-align: top;\n",
       "    }\n",
       "\n",
       "    .dataframe thead th {\n",
       "        text-align: right;\n",
       "    }\n",
       "</style>\n",
       "<table border=\"1\" class=\"dataframe\">\n",
       "  <thead>\n",
       "    <tr style=\"text-align: right;\">\n",
       "      <th></th>\n",
       "      <th>id</th>\n",
       "      <th>Analytical thinking</th>\n",
       "      <th>Systemic thinking</th>\n",
       "      <th>Adaptability</th>\n",
       "      <th>Focus</th>\n",
       "    </tr>\n",
       "  </thead>\n",
       "  <tbody>\n",
       "    <tr>\n",
       "      <th>0</th>\n",
       "      <td>10199</td>\n",
       "      <td>0</td>\n",
       "      <td>0</td>\n",
       "      <td>0</td>\n",
       "      <td>0</td>\n",
       "    </tr>\n",
       "    <tr>\n",
       "      <th>1</th>\n",
       "      <td>10539</td>\n",
       "      <td>0</td>\n",
       "      <td>0</td>\n",
       "      <td>0</td>\n",
       "      <td>0</td>\n",
       "    </tr>\n",
       "    <tr>\n",
       "      <th>2</th>\n",
       "      <td>10174</td>\n",
       "      <td>0</td>\n",
       "      <td>0</td>\n",
       "      <td>0</td>\n",
       "      <td>0</td>\n",
       "    </tr>\n",
       "    <tr>\n",
       "      <th>3</th>\n",
       "      <td>10465</td>\n",
       "      <td>0</td>\n",
       "      <td>0</td>\n",
       "      <td>0</td>\n",
       "      <td>0</td>\n",
       "    </tr>\n",
       "    <tr>\n",
       "      <th>4</th>\n",
       "      <td>10066</td>\n",
       "      <td>0</td>\n",
       "      <td>0</td>\n",
       "      <td>0</td>\n",
       "      <td>0</td>\n",
       "    </tr>\n",
       "  </tbody>\n",
       "</table>\n",
       "</div>"
      ],
      "text/plain": [
       "      id  Analytical thinking  Systemic thinking  Adaptability  Focus\n",
       "0  10199                    0                  0             0      0\n",
       "1  10539                    0                  0             0      0\n",
       "2  10174                    0                  0             0      0\n",
       "3  10465                    0                  0             0      0\n",
       "4  10066                    0                  0             0      0"
      ]
     },
     "execution_count": 3174,
     "metadata": {},
     "output_type": "execute_result"
    }
   ],
   "source": [
    "sample_solution.head()"
   ]
  },
  {
   "cell_type": "code",
   "execution_count": 3175,
   "id": "2d12f936",
   "metadata": {},
   "outputs": [
    {
     "data": {
      "text/html": [
       "<div>\n",
       "<style scoped>\n",
       "    .dataframe tbody tr th:only-of-type {\n",
       "        vertical-align: middle;\n",
       "    }\n",
       "\n",
       "    .dataframe tbody tr th {\n",
       "        vertical-align: top;\n",
       "    }\n",
       "\n",
       "    .dataframe thead th {\n",
       "        text-align: right;\n",
       "    }\n",
       "</style>\n",
       "<table border=\"1\" class=\"dataframe\">\n",
       "  <thead>\n",
       "    <tr style=\"text-align: right;\">\n",
       "      <th></th>\n",
       "      <th>game_id</th>\n",
       "      <th>total_score</th>\n",
       "      <th>cat_1</th>\n",
       "      <th>cat_2</th>\n",
       "      <th>cat_3</th>\n",
       "      <th>cat_4</th>\n",
       "      <th>cat_5</th>\n",
       "      <th>cat_6</th>\n",
       "      <th>score_rating</th>\n",
       "      <th>rating_1</th>\n",
       "      <th>rating_2</th>\n",
       "      <th>rating_3</th>\n",
       "      <th>rating_4</th>\n",
       "      <th>rating_5</th>\n",
       "      <th>rating_6</th>\n",
       "    </tr>\n",
       "    <tr>\n",
       "      <th>user_id</th>\n",
       "      <th></th>\n",
       "      <th></th>\n",
       "      <th></th>\n",
       "      <th></th>\n",
       "      <th></th>\n",
       "      <th></th>\n",
       "      <th></th>\n",
       "      <th></th>\n",
       "      <th></th>\n",
       "      <th></th>\n",
       "      <th></th>\n",
       "      <th></th>\n",
       "      <th></th>\n",
       "      <th></th>\n",
       "      <th></th>\n",
       "    </tr>\n",
       "  </thead>\n",
       "  <tbody>\n",
       "    <tr>\n",
       "      <th>10273</th>\n",
       "      <td>182</td>\n",
       "      <td>2698</td>\n",
       "      <td>178.00</td>\n",
       "      <td>297.00</td>\n",
       "      <td>506.00</td>\n",
       "      <td>235.00</td>\n",
       "      <td>133.00</td>\n",
       "      <td>1,349.00</td>\n",
       "      <td>1.00</td>\n",
       "      <td>1.00</td>\n",
       "      <td>1.00</td>\n",
       "      <td>1.00</td>\n",
       "      <td>1.00</td>\n",
       "      <td>1.00</td>\n",
       "      <td>1.00</td>\n",
       "    </tr>\n",
       "  </tbody>\n",
       "</table>\n",
       "</div>"
      ],
      "text/plain": [
       "         game_id  total_score  cat_1  cat_2  cat_3  cat_4  cat_5    cat_6  \\\n",
       "user_id                                                                     \n",
       "10273        182         2698 178.00 297.00 506.00 235.00 133.00 1,349.00   \n",
       "\n",
       "         score_rating  rating_1  rating_2  rating_3  rating_4  rating_5  \\\n",
       "user_id                                                                   \n",
       "10273            1.00      1.00      1.00      1.00      1.00      1.00   \n",
       "\n",
       "         rating_6  \n",
       "user_id            \n",
       "10273        1.00  "
      ]
     },
     "execution_count": 3175,
     "metadata": {},
     "output_type": "execute_result"
    }
   ],
   "source": [
    "user_score.head(1)"
   ]
  },
  {
   "cell_type": "code",
   "execution_count": 3176,
   "id": "2296e03c",
   "metadata": {},
   "outputs": [],
   "source": [
    "df_sample = sample_solution.set_index('id').join(user_score, how = 'left')"
   ]
  },
  {
   "cell_type": "code",
   "execution_count": 3177,
   "id": "22b6c2d1",
   "metadata": {
    "scrolled": false
   },
   "outputs": [
    {
     "data": {
      "text/html": [
       "<div>\n",
       "<style scoped>\n",
       "    .dataframe tbody tr th:only-of-type {\n",
       "        vertical-align: middle;\n",
       "    }\n",
       "\n",
       "    .dataframe tbody tr th {\n",
       "        vertical-align: top;\n",
       "    }\n",
       "\n",
       "    .dataframe thead th {\n",
       "        text-align: right;\n",
       "    }\n",
       "</style>\n",
       "<table border=\"1\" class=\"dataframe\">\n",
       "  <thead>\n",
       "    <tr style=\"text-align: right;\">\n",
       "      <th></th>\n",
       "      <th>Analytical thinking</th>\n",
       "      <th>Systemic thinking</th>\n",
       "      <th>Adaptability</th>\n",
       "      <th>Focus</th>\n",
       "      <th>game_id</th>\n",
       "      <th>total_score</th>\n",
       "      <th>cat_1</th>\n",
       "      <th>cat_2</th>\n",
       "      <th>cat_3</th>\n",
       "      <th>cat_4</th>\n",
       "      <th>cat_5</th>\n",
       "      <th>cat_6</th>\n",
       "      <th>score_rating</th>\n",
       "      <th>rating_1</th>\n",
       "      <th>rating_2</th>\n",
       "      <th>rating_3</th>\n",
       "      <th>rating_4</th>\n",
       "      <th>rating_5</th>\n",
       "      <th>rating_6</th>\n",
       "    </tr>\n",
       "    <tr>\n",
       "      <th>id</th>\n",
       "      <th></th>\n",
       "      <th></th>\n",
       "      <th></th>\n",
       "      <th></th>\n",
       "      <th></th>\n",
       "      <th></th>\n",
       "      <th></th>\n",
       "      <th></th>\n",
       "      <th></th>\n",
       "      <th></th>\n",
       "      <th></th>\n",
       "      <th></th>\n",
       "      <th></th>\n",
       "      <th></th>\n",
       "      <th></th>\n",
       "      <th></th>\n",
       "      <th></th>\n",
       "      <th></th>\n",
       "      <th></th>\n",
       "    </tr>\n",
       "  </thead>\n",
       "  <tbody>\n",
       "    <tr>\n",
       "      <th>10199</th>\n",
       "      <td>0</td>\n",
       "      <td>0</td>\n",
       "      <td>0</td>\n",
       "      <td>0</td>\n",
       "      <td>262</td>\n",
       "      <td>1424</td>\n",
       "      <td>11.00</td>\n",
       "      <td>56.00</td>\n",
       "      <td>387.00</td>\n",
       "      <td>151.00</td>\n",
       "      <td>107.00</td>\n",
       "      <td>712.00</td>\n",
       "      <td>0.91</td>\n",
       "      <td>0.37</td>\n",
       "      <td>0.42</td>\n",
       "      <td>0.88</td>\n",
       "      <td>0.85</td>\n",
       "      <td>0.96</td>\n",
       "      <td>0.91</td>\n",
       "    </tr>\n",
       "  </tbody>\n",
       "</table>\n",
       "</div>"
      ],
      "text/plain": [
       "       Analytical thinking  Systemic thinking  Adaptability  Focus  game_id  \\\n",
       "id                                                                            \n",
       "10199                    0                  0             0      0      262   \n",
       "\n",
       "       total_score  cat_1  cat_2  cat_3  cat_4  cat_5  cat_6  score_rating  \\\n",
       "id                                                                           \n",
       "10199         1424  11.00  56.00 387.00 151.00 107.00 712.00          0.91   \n",
       "\n",
       "       rating_1  rating_2  rating_3  rating_4  rating_5  rating_6  \n",
       "id                                                                 \n",
       "10199      0.37      0.42      0.88      0.85      0.96      0.91  "
      ]
     },
     "execution_count": 3177,
     "metadata": {},
     "output_type": "execute_result"
    }
   ],
   "source": [
    "df_sample.head(1)"
   ]
  },
  {
   "cell_type": "code",
   "execution_count": 3178,
   "id": "2dda0ab5",
   "metadata": {
    "scrolled": false
   },
   "outputs": [
    {
     "data": {
      "text/html": [
       "<div>\n",
       "<style scoped>\n",
       "    .dataframe tbody tr th:only-of-type {\n",
       "        vertical-align: middle;\n",
       "    }\n",
       "\n",
       "    .dataframe tbody tr th {\n",
       "        vertical-align: top;\n",
       "    }\n",
       "\n",
       "    .dataframe thead th {\n",
       "        text-align: right;\n",
       "    }\n",
       "</style>\n",
       "<table border=\"1\" class=\"dataframe\">\n",
       "  <thead>\n",
       "    <tr style=\"text-align: right;\">\n",
       "      <th></th>\n",
       "      <th>decision_id</th>\n",
       "      <th>user_id</th>\n",
       "      <th>period</th>\n",
       "      <th>decision_name</th>\n",
       "      <th>1</th>\n",
       "      <th>2</th>\n",
       "      <th>3</th>\n",
       "      <th>4</th>\n",
       "      <th>5</th>\n",
       "      <th>6</th>\n",
       "      <th>...</th>\n",
       "      <th>429</th>\n",
       "      <th>430</th>\n",
       "      <th>431</th>\n",
       "      <th>432</th>\n",
       "      <th>433</th>\n",
       "      <th>434</th>\n",
       "      <th>435</th>\n",
       "      <th>436</th>\n",
       "      <th>437</th>\n",
       "      <th>438</th>\n",
       "    </tr>\n",
       "  </thead>\n",
       "  <tbody>\n",
       "    <tr>\n",
       "      <th>0</th>\n",
       "      <td>409</td>\n",
       "      <td>10625</td>\n",
       "      <td>1</td>\n",
       "      <td>Sending Engineers on training courses</td>\n",
       "      <td>0</td>\n",
       "      <td>0</td>\n",
       "      <td>0</td>\n",
       "      <td>0</td>\n",
       "      <td>0</td>\n",
       "      <td>0</td>\n",
       "      <td>...</td>\n",
       "      <td>0</td>\n",
       "      <td>0</td>\n",
       "      <td>0</td>\n",
       "      <td>0</td>\n",
       "      <td>0</td>\n",
       "      <td>0</td>\n",
       "      <td>0</td>\n",
       "      <td>0</td>\n",
       "      <td>0</td>\n",
       "      <td>0</td>\n",
       "    </tr>\n",
       "  </tbody>\n",
       "</table>\n",
       "<p>1 rows × 442 columns</p>\n",
       "</div>"
      ],
      "text/plain": [
       "   decision_id  user_id  period                          decision_name  1  2  \\\n",
       "0          409    10625       1  Sending Engineers on training courses  0  0   \n",
       "\n",
       "   3  4  5  6  ...  429  430  431  432  433  434  435  436  437  438  \n",
       "0  0  0  0  0  ...    0    0    0    0    0    0    0    0    0    0  \n",
       "\n",
       "[1 rows x 442 columns]"
      ]
     },
     "execution_count": 3178,
     "metadata": {},
     "output_type": "execute_result"
    }
   ],
   "source": [
    "ud.head(1)"
   ]
  },
  {
   "cell_type": "code",
   "execution_count": 3179,
   "id": "6c30dcec",
   "metadata": {},
   "outputs": [
    {
     "data": {
      "text/plain": [
       "(60228, 442)"
      ]
     },
     "execution_count": 3179,
     "metadata": {},
     "output_type": "execute_result"
    }
   ],
   "source": [
    "ud.shape"
   ]
  },
  {
   "cell_type": "code",
   "execution_count": 3180,
   "id": "677c01d3",
   "metadata": {},
   "outputs": [],
   "source": [
    "ud = ud.groupby('user_id').max()"
   ]
  },
  {
   "cell_type": "code",
   "execution_count": 3181,
   "id": "25c37512",
   "metadata": {},
   "outputs": [],
   "source": [
    "ud = ud.drop(['decision_id', 'period', 'decision_name'], axis=1)"
   ]
  },
  {
   "cell_type": "code",
   "execution_count": 3182,
   "id": "4520a5ad",
   "metadata": {
    "scrolled": true
   },
   "outputs": [
    {
     "data": {
      "text/html": [
       "<div>\n",
       "<style scoped>\n",
       "    .dataframe tbody tr th:only-of-type {\n",
       "        vertical-align: middle;\n",
       "    }\n",
       "\n",
       "    .dataframe tbody tr th {\n",
       "        vertical-align: top;\n",
       "    }\n",
       "\n",
       "    .dataframe thead th {\n",
       "        text-align: right;\n",
       "    }\n",
       "</style>\n",
       "<table border=\"1\" class=\"dataframe\">\n",
       "  <thead>\n",
       "    <tr style=\"text-align: right;\">\n",
       "      <th></th>\n",
       "      <th>1</th>\n",
       "      <th>2</th>\n",
       "      <th>3</th>\n",
       "      <th>4</th>\n",
       "      <th>5</th>\n",
       "      <th>6</th>\n",
       "      <th>7</th>\n",
       "      <th>8</th>\n",
       "      <th>9</th>\n",
       "      <th>10</th>\n",
       "      <th>...</th>\n",
       "      <th>429</th>\n",
       "      <th>430</th>\n",
       "      <th>431</th>\n",
       "      <th>432</th>\n",
       "      <th>433</th>\n",
       "      <th>434</th>\n",
       "      <th>435</th>\n",
       "      <th>436</th>\n",
       "      <th>437</th>\n",
       "      <th>438</th>\n",
       "    </tr>\n",
       "    <tr>\n",
       "      <th>user_id</th>\n",
       "      <th></th>\n",
       "      <th></th>\n",
       "      <th></th>\n",
       "      <th></th>\n",
       "      <th></th>\n",
       "      <th></th>\n",
       "      <th></th>\n",
       "      <th></th>\n",
       "      <th></th>\n",
       "      <th></th>\n",
       "      <th></th>\n",
       "      <th></th>\n",
       "      <th></th>\n",
       "      <th></th>\n",
       "      <th></th>\n",
       "      <th></th>\n",
       "      <th></th>\n",
       "      <th></th>\n",
       "      <th></th>\n",
       "      <th></th>\n",
       "      <th></th>\n",
       "    </tr>\n",
       "  </thead>\n",
       "  <tbody>\n",
       "    <tr>\n",
       "      <th>10001</th>\n",
       "      <td>1</td>\n",
       "      <td>0</td>\n",
       "      <td>0</td>\n",
       "      <td>1</td>\n",
       "      <td>0</td>\n",
       "      <td>1</td>\n",
       "      <td>0</td>\n",
       "      <td>0</td>\n",
       "      <td>0</td>\n",
       "      <td>0</td>\n",
       "      <td>...</td>\n",
       "      <td>0</td>\n",
       "      <td>0</td>\n",
       "      <td>0</td>\n",
       "      <td>0</td>\n",
       "      <td>0</td>\n",
       "      <td>0</td>\n",
       "      <td>0</td>\n",
       "      <td>0</td>\n",
       "      <td>0</td>\n",
       "      <td>0</td>\n",
       "    </tr>\n",
       "  </tbody>\n",
       "</table>\n",
       "<p>1 rows × 438 columns</p>\n",
       "</div>"
      ],
      "text/plain": [
       "         1  2  3  4  5  6  7  8  9  10  ...  429  430  431  432  433  434  \\\n",
       "user_id                                 ...                                 \n",
       "10001    1  0  0  1  0  1  0  0  0   0  ...    0    0    0    0    0    0   \n",
       "\n",
       "         435  436  437  438  \n",
       "user_id                      \n",
       "10001      0    0    0    0  \n",
       "\n",
       "[1 rows x 438 columns]"
      ]
     },
     "execution_count": 3182,
     "metadata": {},
     "output_type": "execute_result"
    }
   ],
   "source": [
    "ud.head(1)"
   ]
  },
  {
   "cell_type": "code",
   "execution_count": 3183,
   "id": "8f641214",
   "metadata": {},
   "outputs": [
    {
     "data": {
      "text/plain": [
       "(973, 438)"
      ]
     },
     "execution_count": 3183,
     "metadata": {},
     "output_type": "execute_result"
    }
   ],
   "source": [
    "ud.shape"
   ]
  },
  {
   "cell_type": "markdown",
   "id": "1915f3e1",
   "metadata": {},
   "source": [
    "**Analytical thinking**"
   ]
  },
  {
   "cell_type": "code",
   "execution_count": 3184,
   "id": "940acced",
   "metadata": {},
   "outputs": [],
   "source": [
    "ud_1 = ud\n",
    "ud_2 = ud\n",
    "ud_3 = ud\n",
    "ud_4 = ud"
   ]
  },
  {
   "cell_type": "code",
   "execution_count": 3185,
   "id": "e64d9aa9",
   "metadata": {},
   "outputs": [],
   "source": [
    "for i in range(1, 438):\n",
    "    if i in list_dec_1.index:\n",
    "        corr = list_dec_1['corr'].loc[i]\n",
    "        ud_1[str(i)] = ud_1[str(i)] * corr  \n",
    "    else:\n",
    "        continue    "
   ]
  },
  {
   "cell_type": "code",
   "execution_count": 3186,
   "id": "9cc90d7c",
   "metadata": {
    "scrolled": true
   },
   "outputs": [
    {
     "data": {
      "text/html": [
       "<div>\n",
       "<style scoped>\n",
       "    .dataframe tbody tr th:only-of-type {\n",
       "        vertical-align: middle;\n",
       "    }\n",
       "\n",
       "    .dataframe tbody tr th {\n",
       "        vertical-align: top;\n",
       "    }\n",
       "\n",
       "    .dataframe thead th {\n",
       "        text-align: right;\n",
       "    }\n",
       "</style>\n",
       "<table border=\"1\" class=\"dataframe\">\n",
       "  <thead>\n",
       "    <tr style=\"text-align: right;\">\n",
       "      <th></th>\n",
       "      <th>1</th>\n",
       "      <th>2</th>\n",
       "      <th>3</th>\n",
       "      <th>4</th>\n",
       "      <th>5</th>\n",
       "      <th>6</th>\n",
       "      <th>7</th>\n",
       "      <th>8</th>\n",
       "      <th>9</th>\n",
       "      <th>10</th>\n",
       "      <th>...</th>\n",
       "      <th>429</th>\n",
       "      <th>430</th>\n",
       "      <th>431</th>\n",
       "      <th>432</th>\n",
       "      <th>433</th>\n",
       "      <th>434</th>\n",
       "      <th>435</th>\n",
       "      <th>436</th>\n",
       "      <th>437</th>\n",
       "      <th>438</th>\n",
       "    </tr>\n",
       "    <tr>\n",
       "      <th>user_id</th>\n",
       "      <th></th>\n",
       "      <th></th>\n",
       "      <th></th>\n",
       "      <th></th>\n",
       "      <th></th>\n",
       "      <th></th>\n",
       "      <th></th>\n",
       "      <th></th>\n",
       "      <th></th>\n",
       "      <th></th>\n",
       "      <th></th>\n",
       "      <th></th>\n",
       "      <th></th>\n",
       "      <th></th>\n",
       "      <th></th>\n",
       "      <th></th>\n",
       "      <th></th>\n",
       "      <th></th>\n",
       "      <th></th>\n",
       "      <th></th>\n",
       "      <th></th>\n",
       "    </tr>\n",
       "  </thead>\n",
       "  <tbody>\n",
       "    <tr>\n",
       "      <th>10001</th>\n",
       "      <td>0.00</td>\n",
       "      <td>0.00</td>\n",
       "      <td>0.00</td>\n",
       "      <td>0.00</td>\n",
       "      <td>0.00</td>\n",
       "      <td>0.01</td>\n",
       "      <td>0.00</td>\n",
       "      <td>0.00</td>\n",
       "      <td>0.00</td>\n",
       "      <td>0.00</td>\n",
       "      <td>...</td>\n",
       "      <td>0.00</td>\n",
       "      <td>0.00</td>\n",
       "      <td>0.00</td>\n",
       "      <td>0.00</td>\n",
       "      <td>0.00</td>\n",
       "      <td>0.00</td>\n",
       "      <td>0.00</td>\n",
       "      <td>0.00</td>\n",
       "      <td>0.00</td>\n",
       "      <td>0</td>\n",
       "    </tr>\n",
       "  </tbody>\n",
       "</table>\n",
       "<p>1 rows × 438 columns</p>\n",
       "</div>"
      ],
      "text/plain": [
       "           1    2    3    4    5    6    7    8    9   10  ...  429  430  431  \\\n",
       "user_id                                                    ...                  \n",
       "10001   0.00 0.00 0.00 0.00 0.00 0.01 0.00 0.00 0.00 0.00  ... 0.00 0.00 0.00   \n",
       "\n",
       "         432  433  434  435  436  437  438  \n",
       "user_id                                     \n",
       "10001   0.00 0.00 0.00 0.00 0.00 0.00    0  \n",
       "\n",
       "[1 rows x 438 columns]"
      ]
     },
     "execution_count": 3186,
     "metadata": {},
     "output_type": "execute_result"
    }
   ],
   "source": [
    "ud_1.head(1)"
   ]
  },
  {
   "cell_type": "code",
   "execution_count": 3187,
   "id": "4ef51c8c",
   "metadata": {},
   "outputs": [],
   "source": [
    "ud_1['total'] = ud_1.sum(axis=1)"
   ]
  },
  {
   "cell_type": "code",
   "execution_count": 3188,
   "id": "60989e37",
   "metadata": {},
   "outputs": [],
   "source": [
    "col_drop = ['Analytical thinking', 'Systemic thinking', 'Adaptability','Focus']"
   ]
  },
  {
   "cell_type": "code",
   "execution_count": 3189,
   "id": "55d424c8",
   "metadata": {},
   "outputs": [],
   "source": [
    "df_sample_1 = df_sample.join(ud_1)"
   ]
  },
  {
   "cell_type": "code",
   "execution_count": 3190,
   "id": "d7027b07",
   "metadata": {},
   "outputs": [
    {
     "data": {
      "text/plain": [
       "(293, 458)"
      ]
     },
     "execution_count": 3190,
     "metadata": {},
     "output_type": "execute_result"
    }
   ],
   "source": [
    "df_sample_1.shape"
   ]
  },
  {
   "cell_type": "code",
   "execution_count": 3191,
   "id": "ed4dded0",
   "metadata": {
    "scrolled": true
   },
   "outputs": [
    {
     "data": {
      "text/html": [
       "<div>\n",
       "<style scoped>\n",
       "    .dataframe tbody tr th:only-of-type {\n",
       "        vertical-align: middle;\n",
       "    }\n",
       "\n",
       "    .dataframe tbody tr th {\n",
       "        vertical-align: top;\n",
       "    }\n",
       "\n",
       "    .dataframe thead th {\n",
       "        text-align: right;\n",
       "    }\n",
       "</style>\n",
       "<table border=\"1\" class=\"dataframe\">\n",
       "  <thead>\n",
       "    <tr style=\"text-align: right;\">\n",
       "      <th></th>\n",
       "      <th>Analytical thinking</th>\n",
       "      <th>Systemic thinking</th>\n",
       "      <th>Adaptability</th>\n",
       "      <th>Focus</th>\n",
       "      <th>game_id</th>\n",
       "      <th>total_score</th>\n",
       "      <th>cat_1</th>\n",
       "      <th>cat_2</th>\n",
       "      <th>cat_3</th>\n",
       "      <th>cat_4</th>\n",
       "      <th>...</th>\n",
       "      <th>430</th>\n",
       "      <th>431</th>\n",
       "      <th>432</th>\n",
       "      <th>433</th>\n",
       "      <th>434</th>\n",
       "      <th>435</th>\n",
       "      <th>436</th>\n",
       "      <th>437</th>\n",
       "      <th>438</th>\n",
       "      <th>total</th>\n",
       "    </tr>\n",
       "    <tr>\n",
       "      <th>id</th>\n",
       "      <th></th>\n",
       "      <th></th>\n",
       "      <th></th>\n",
       "      <th></th>\n",
       "      <th></th>\n",
       "      <th></th>\n",
       "      <th></th>\n",
       "      <th></th>\n",
       "      <th></th>\n",
       "      <th></th>\n",
       "      <th></th>\n",
       "      <th></th>\n",
       "      <th></th>\n",
       "      <th></th>\n",
       "      <th></th>\n",
       "      <th></th>\n",
       "      <th></th>\n",
       "      <th></th>\n",
       "      <th></th>\n",
       "      <th></th>\n",
       "      <th></th>\n",
       "    </tr>\n",
       "  </thead>\n",
       "  <tbody>\n",
       "    <tr>\n",
       "      <th>10199</th>\n",
       "      <td>0</td>\n",
       "      <td>0</td>\n",
       "      <td>0</td>\n",
       "      <td>0</td>\n",
       "      <td>262</td>\n",
       "      <td>1424</td>\n",
       "      <td>11.00</td>\n",
       "      <td>56.00</td>\n",
       "      <td>387.00</td>\n",
       "      <td>151.00</td>\n",
       "      <td>...</td>\n",
       "      <td>0.00</td>\n",
       "      <td>0.00</td>\n",
       "      <td>0.00</td>\n",
       "      <td>0.00</td>\n",
       "      <td>0.00</td>\n",
       "      <td>0.00</td>\n",
       "      <td>0.00</td>\n",
       "      <td>0.00</td>\n",
       "      <td>0</td>\n",
       "      <td>0.06</td>\n",
       "    </tr>\n",
       "  </tbody>\n",
       "</table>\n",
       "<p>1 rows × 458 columns</p>\n",
       "</div>"
      ],
      "text/plain": [
       "       Analytical thinking  Systemic thinking  Adaptability  Focus  game_id  \\\n",
       "id                                                                            \n",
       "10199                    0                  0             0      0      262   \n",
       "\n",
       "       total_score  cat_1  cat_2  cat_3  cat_4  ...  430  431  432  433  434  \\\n",
       "id                                              ...                            \n",
       "10199         1424  11.00  56.00 387.00 151.00  ... 0.00 0.00 0.00 0.00 0.00   \n",
       "\n",
       "       435  436  437  438  total  \n",
       "id                                \n",
       "10199 0.00 0.00 0.00    0   0.06  \n",
       "\n",
       "[1 rows x 458 columns]"
      ]
     },
     "execution_count": 3191,
     "metadata": {},
     "output_type": "execute_result"
    }
   ],
   "source": [
    "df_sample_1.head(1)"
   ]
  },
  {
   "cell_type": "code",
   "execution_count": 3192,
   "id": "854f0022",
   "metadata": {},
   "outputs": [],
   "source": [
    "df_sample_1['max_total'] = df_sample_1.groupby('game_id')['total'].transform('max')"
   ]
  },
  {
   "cell_type": "code",
   "execution_count": 3193,
   "id": "672ef1f8",
   "metadata": {},
   "outputs": [],
   "source": [
    "df_sample_1['rating_user'] = df_sample_1['total'] / df_sample_1['max_total']"
   ]
  },
  {
   "cell_type": "code",
   "execution_count": 3194,
   "id": "e2b0e0a9",
   "metadata": {},
   "outputs": [],
   "source": [
    "for i in range(1, 439):\n",
    "    df_sample_1 = df_sample_1.drop(str(i), axis=1)    "
   ]
  },
  {
   "cell_type": "code",
   "execution_count": 3195,
   "id": "5ba270dd",
   "metadata": {},
   "outputs": [],
   "source": [
    "df_sample_1 = df_sample_1.drop('max_total', axis=1)"
   ]
  },
  {
   "cell_type": "code",
   "execution_count": 3196,
   "id": "63226f87",
   "metadata": {
    "scrolled": true
   },
   "outputs": [
    {
     "data": {
      "text/plain": [
       "(293, 21)"
      ]
     },
     "execution_count": 3196,
     "metadata": {},
     "output_type": "execute_result"
    }
   ],
   "source": [
    "df_sample_1.shape"
   ]
  },
  {
   "cell_type": "code",
   "execution_count": 3197,
   "id": "12c5f614",
   "metadata": {},
   "outputs": [
    {
     "data": {
      "text/html": [
       "<div>\n",
       "<style scoped>\n",
       "    .dataframe tbody tr th:only-of-type {\n",
       "        vertical-align: middle;\n",
       "    }\n",
       "\n",
       "    .dataframe tbody tr th {\n",
       "        vertical-align: top;\n",
       "    }\n",
       "\n",
       "    .dataframe thead th {\n",
       "        text-align: right;\n",
       "    }\n",
       "</style>\n",
       "<table border=\"1\" class=\"dataframe\">\n",
       "  <thead>\n",
       "    <tr style=\"text-align: right;\">\n",
       "      <th></th>\n",
       "      <th>Analytical thinking</th>\n",
       "      <th>Systemic thinking</th>\n",
       "      <th>Adaptability</th>\n",
       "      <th>Focus</th>\n",
       "      <th>game_id</th>\n",
       "      <th>total_score</th>\n",
       "      <th>cat_1</th>\n",
       "      <th>cat_2</th>\n",
       "      <th>cat_3</th>\n",
       "      <th>cat_4</th>\n",
       "      <th>...</th>\n",
       "      <th>cat_6</th>\n",
       "      <th>score_rating</th>\n",
       "      <th>rating_1</th>\n",
       "      <th>rating_2</th>\n",
       "      <th>rating_3</th>\n",
       "      <th>rating_4</th>\n",
       "      <th>rating_5</th>\n",
       "      <th>rating_6</th>\n",
       "      <th>total</th>\n",
       "      <th>rating_user</th>\n",
       "    </tr>\n",
       "    <tr>\n",
       "      <th>id</th>\n",
       "      <th></th>\n",
       "      <th></th>\n",
       "      <th></th>\n",
       "      <th></th>\n",
       "      <th></th>\n",
       "      <th></th>\n",
       "      <th></th>\n",
       "      <th></th>\n",
       "      <th></th>\n",
       "      <th></th>\n",
       "      <th></th>\n",
       "      <th></th>\n",
       "      <th></th>\n",
       "      <th></th>\n",
       "      <th></th>\n",
       "      <th></th>\n",
       "      <th></th>\n",
       "      <th></th>\n",
       "      <th></th>\n",
       "      <th></th>\n",
       "      <th></th>\n",
       "    </tr>\n",
       "  </thead>\n",
       "  <tbody>\n",
       "    <tr>\n",
       "      <th>10199</th>\n",
       "      <td>0</td>\n",
       "      <td>0</td>\n",
       "      <td>0</td>\n",
       "      <td>0</td>\n",
       "      <td>262</td>\n",
       "      <td>1424</td>\n",
       "      <td>11.00</td>\n",
       "      <td>56.00</td>\n",
       "      <td>387.00</td>\n",
       "      <td>151.00</td>\n",
       "      <td>...</td>\n",
       "      <td>712.00</td>\n",
       "      <td>0.91</td>\n",
       "      <td>0.37</td>\n",
       "      <td>0.42</td>\n",
       "      <td>0.88</td>\n",
       "      <td>0.85</td>\n",
       "      <td>0.96</td>\n",
       "      <td>0.91</td>\n",
       "      <td>0.06</td>\n",
       "      <td>0.05</td>\n",
       "    </tr>\n",
       "  </tbody>\n",
       "</table>\n",
       "<p>1 rows × 21 columns</p>\n",
       "</div>"
      ],
      "text/plain": [
       "       Analytical thinking  Systemic thinking  Adaptability  Focus  game_id  \\\n",
       "id                                                                            \n",
       "10199                    0                  0             0      0      262   \n",
       "\n",
       "       total_score  cat_1  cat_2  cat_3  cat_4  ...  cat_6  score_rating  \\\n",
       "id                                              ...                        \n",
       "10199         1424  11.00  56.00 387.00 151.00  ... 712.00          0.91   \n",
       "\n",
       "       rating_1  rating_2  rating_3  rating_4  rating_5  rating_6  total  \\\n",
       "id                                                                         \n",
       "10199      0.37      0.42      0.88      0.85      0.96      0.91   0.06   \n",
       "\n",
       "       rating_user  \n",
       "id                  \n",
       "10199         0.05  \n",
       "\n",
       "[1 rows x 21 columns]"
      ]
     },
     "execution_count": 3197,
     "metadata": {},
     "output_type": "execute_result"
    }
   ],
   "source": [
    "df_sample_1.head(1)"
   ]
  },
  {
   "cell_type": "code",
   "execution_count": 3198,
   "id": "a14a5853",
   "metadata": {},
   "outputs": [],
   "source": [
    "col_drop = ['Analytical thinking', 'Systemic thinking', 'Adaptability', \n",
    "            'Focus']"
   ]
  },
  {
   "cell_type": "code",
   "execution_count": 3199,
   "id": "d3d81fb2",
   "metadata": {},
   "outputs": [],
   "source": [
    "X_test = df_sample_1.drop(col_drop, axis=1)"
   ]
  },
  {
   "cell_type": "code",
   "execution_count": 3200,
   "id": "536f1fe6",
   "metadata": {
    "scrolled": true
   },
   "outputs": [
    {
     "data": {
      "text/html": [
       "<div>\n",
       "<style scoped>\n",
       "    .dataframe tbody tr th:only-of-type {\n",
       "        vertical-align: middle;\n",
       "    }\n",
       "\n",
       "    .dataframe tbody tr th {\n",
       "        vertical-align: top;\n",
       "    }\n",
       "\n",
       "    .dataframe thead th {\n",
       "        text-align: right;\n",
       "    }\n",
       "</style>\n",
       "<table border=\"1\" class=\"dataframe\">\n",
       "  <thead>\n",
       "    <tr style=\"text-align: right;\">\n",
       "      <th></th>\n",
       "      <th>game_id</th>\n",
       "      <th>total_score</th>\n",
       "      <th>cat_1</th>\n",
       "      <th>cat_2</th>\n",
       "      <th>cat_3</th>\n",
       "      <th>cat_4</th>\n",
       "      <th>cat_5</th>\n",
       "      <th>cat_6</th>\n",
       "      <th>score_rating</th>\n",
       "      <th>rating_1</th>\n",
       "      <th>rating_2</th>\n",
       "      <th>rating_3</th>\n",
       "      <th>rating_4</th>\n",
       "      <th>rating_5</th>\n",
       "      <th>rating_6</th>\n",
       "      <th>total</th>\n",
       "      <th>rating_user</th>\n",
       "    </tr>\n",
       "    <tr>\n",
       "      <th>id</th>\n",
       "      <th></th>\n",
       "      <th></th>\n",
       "      <th></th>\n",
       "      <th></th>\n",
       "      <th></th>\n",
       "      <th></th>\n",
       "      <th></th>\n",
       "      <th></th>\n",
       "      <th></th>\n",
       "      <th></th>\n",
       "      <th></th>\n",
       "      <th></th>\n",
       "      <th></th>\n",
       "      <th></th>\n",
       "      <th></th>\n",
       "      <th></th>\n",
       "      <th></th>\n",
       "    </tr>\n",
       "  </thead>\n",
       "  <tbody>\n",
       "    <tr>\n",
       "      <th>10199</th>\n",
       "      <td>262</td>\n",
       "      <td>1424</td>\n",
       "      <td>11.00</td>\n",
       "      <td>56.00</td>\n",
       "      <td>387.00</td>\n",
       "      <td>151.00</td>\n",
       "      <td>107.00</td>\n",
       "      <td>712.00</td>\n",
       "      <td>0.91</td>\n",
       "      <td>0.37</td>\n",
       "      <td>0.42</td>\n",
       "      <td>0.88</td>\n",
       "      <td>0.85</td>\n",
       "      <td>0.96</td>\n",
       "      <td>0.91</td>\n",
       "      <td>0.06</td>\n",
       "      <td>0.05</td>\n",
       "    </tr>\n",
       "  </tbody>\n",
       "</table>\n",
       "</div>"
      ],
      "text/plain": [
       "       game_id  total_score  cat_1  cat_2  cat_3  cat_4  cat_5  cat_6  \\\n",
       "id                                                                      \n",
       "10199      262         1424  11.00  56.00 387.00 151.00 107.00 712.00   \n",
       "\n",
       "       score_rating  rating_1  rating_2  rating_3  rating_4  rating_5  \\\n",
       "id                                                                      \n",
       "10199          0.91      0.37      0.42      0.88      0.85      0.96   \n",
       "\n",
       "       rating_6  total  rating_user  \n",
       "id                                   \n",
       "10199      0.91   0.06         0.05  "
      ]
     },
     "execution_count": 3200,
     "metadata": {},
     "output_type": "execute_result"
    }
   ],
   "source": [
    "X_test.head(1)"
   ]
  },
  {
   "cell_type": "code",
   "execution_count": 3201,
   "id": "746dbe74",
   "metadata": {},
   "outputs": [
    {
     "data": {
      "text/plain": [
       "(293, 17)"
      ]
     },
     "execution_count": 3201,
     "metadata": {},
     "output_type": "execute_result"
    }
   ],
   "source": [
    "X_test.shape"
   ]
  },
  {
   "cell_type": "code",
   "execution_count": 3202,
   "id": "9d30bbc7",
   "metadata": {},
   "outputs": [],
   "source": [
    "X_test = scaler_1.transform(X_test)"
   ]
  },
  {
   "cell_type": "code",
   "execution_count": 3203,
   "id": "429562b0",
   "metadata": {},
   "outputs": [],
   "source": [
    "df_sample['Analytical thinking'] = model_1.predict(X_test).astype('int')"
   ]
  },
  {
   "cell_type": "markdown",
   "id": "deecf0ea",
   "metadata": {},
   "source": [
    "**Systemic thinking**"
   ]
  },
  {
   "cell_type": "code",
   "execution_count": 3204,
   "id": "b3216f86",
   "metadata": {},
   "outputs": [],
   "source": [
    "for i in range(1, 438):\n",
    "    if i in list_dec_2.index:\n",
    "        corr = list_dec_2['corr'].loc[i]\n",
    "        ud_2[str(i)] = ud_2[str(i)] * corr  \n",
    "    else:\n",
    "        continue    "
   ]
  },
  {
   "cell_type": "code",
   "execution_count": 3205,
   "id": "691bc135",
   "metadata": {
    "scrolled": true
   },
   "outputs": [
    {
     "data": {
      "text/html": [
       "<div>\n",
       "<style scoped>\n",
       "    .dataframe tbody tr th:only-of-type {\n",
       "        vertical-align: middle;\n",
       "    }\n",
       "\n",
       "    .dataframe tbody tr th {\n",
       "        vertical-align: top;\n",
       "    }\n",
       "\n",
       "    .dataframe thead th {\n",
       "        text-align: right;\n",
       "    }\n",
       "</style>\n",
       "<table border=\"1\" class=\"dataframe\">\n",
       "  <thead>\n",
       "    <tr style=\"text-align: right;\">\n",
       "      <th></th>\n",
       "      <th>1</th>\n",
       "      <th>2</th>\n",
       "      <th>3</th>\n",
       "      <th>4</th>\n",
       "      <th>5</th>\n",
       "      <th>6</th>\n",
       "      <th>7</th>\n",
       "      <th>8</th>\n",
       "      <th>9</th>\n",
       "      <th>10</th>\n",
       "      <th>...</th>\n",
       "      <th>430</th>\n",
       "      <th>431</th>\n",
       "      <th>432</th>\n",
       "      <th>433</th>\n",
       "      <th>434</th>\n",
       "      <th>435</th>\n",
       "      <th>436</th>\n",
       "      <th>437</th>\n",
       "      <th>438</th>\n",
       "      <th>total</th>\n",
       "    </tr>\n",
       "    <tr>\n",
       "      <th>user_id</th>\n",
       "      <th></th>\n",
       "      <th></th>\n",
       "      <th></th>\n",
       "      <th></th>\n",
       "      <th></th>\n",
       "      <th></th>\n",
       "      <th></th>\n",
       "      <th></th>\n",
       "      <th></th>\n",
       "      <th></th>\n",
       "      <th></th>\n",
       "      <th></th>\n",
       "      <th></th>\n",
       "      <th></th>\n",
       "      <th></th>\n",
       "      <th></th>\n",
       "      <th></th>\n",
       "      <th></th>\n",
       "      <th></th>\n",
       "      <th></th>\n",
       "      <th></th>\n",
       "    </tr>\n",
       "  </thead>\n",
       "  <tbody>\n",
       "    <tr>\n",
       "      <th>10001</th>\n",
       "      <td>0.00</td>\n",
       "      <td>0.00</td>\n",
       "      <td>0.00</td>\n",
       "      <td>0.00</td>\n",
       "      <td>0.00</td>\n",
       "      <td>0.00</td>\n",
       "      <td>0.00</td>\n",
       "      <td>0.00</td>\n",
       "      <td>0.00</td>\n",
       "      <td>0.00</td>\n",
       "      <td>...</td>\n",
       "      <td>0.00</td>\n",
       "      <td>0.00</td>\n",
       "      <td>0.00</td>\n",
       "      <td>0.00</td>\n",
       "      <td>0.00</td>\n",
       "      <td>0.00</td>\n",
       "      <td>0.00</td>\n",
       "      <td>0.00</td>\n",
       "      <td>0</td>\n",
       "      <td>0.58</td>\n",
       "    </tr>\n",
       "  </tbody>\n",
       "</table>\n",
       "<p>1 rows × 439 columns</p>\n",
       "</div>"
      ],
      "text/plain": [
       "           1    2    3    4    5    6    7    8    9   10  ...  430  431  432  \\\n",
       "user_id                                                    ...                  \n",
       "10001   0.00 0.00 0.00 0.00 0.00 0.00 0.00 0.00 0.00 0.00  ... 0.00 0.00 0.00   \n",
       "\n",
       "         433  434  435  436  437  438  total  \n",
       "user_id                                       \n",
       "10001   0.00 0.00 0.00 0.00 0.00    0   0.58  \n",
       "\n",
       "[1 rows x 439 columns]"
      ]
     },
     "execution_count": 3205,
     "metadata": {},
     "output_type": "execute_result"
    }
   ],
   "source": [
    "ud_2.head(1)"
   ]
  },
  {
   "cell_type": "code",
   "execution_count": 3206,
   "id": "63a1f48c",
   "metadata": {},
   "outputs": [],
   "source": [
    "ud_2['total'] = ud_2.sum(axis=1)"
   ]
  },
  {
   "cell_type": "code",
   "execution_count": 3207,
   "id": "ff7b0006",
   "metadata": {},
   "outputs": [],
   "source": [
    "col_drop = ['Analytical thinking', 'Systemic thinking', 'Adaptability','Focus']"
   ]
  },
  {
   "cell_type": "code",
   "execution_count": 3208,
   "id": "2fa9486a",
   "metadata": {},
   "outputs": [],
   "source": [
    "df_sample_2 = df_sample.join(ud_2)"
   ]
  },
  {
   "cell_type": "code",
   "execution_count": 3209,
   "id": "92cf6fd5",
   "metadata": {},
   "outputs": [
    {
     "data": {
      "text/plain": [
       "(293, 458)"
      ]
     },
     "execution_count": 3209,
     "metadata": {},
     "output_type": "execute_result"
    }
   ],
   "source": [
    "df_sample_2.shape"
   ]
  },
  {
   "cell_type": "code",
   "execution_count": 3210,
   "id": "059d00b1",
   "metadata": {
    "scrolled": true
   },
   "outputs": [
    {
     "data": {
      "text/html": [
       "<div>\n",
       "<style scoped>\n",
       "    .dataframe tbody tr th:only-of-type {\n",
       "        vertical-align: middle;\n",
       "    }\n",
       "\n",
       "    .dataframe tbody tr th {\n",
       "        vertical-align: top;\n",
       "    }\n",
       "\n",
       "    .dataframe thead th {\n",
       "        text-align: right;\n",
       "    }\n",
       "</style>\n",
       "<table border=\"1\" class=\"dataframe\">\n",
       "  <thead>\n",
       "    <tr style=\"text-align: right;\">\n",
       "      <th></th>\n",
       "      <th>Analytical thinking</th>\n",
       "      <th>Systemic thinking</th>\n",
       "      <th>Adaptability</th>\n",
       "      <th>Focus</th>\n",
       "      <th>game_id</th>\n",
       "      <th>total_score</th>\n",
       "      <th>cat_1</th>\n",
       "      <th>cat_2</th>\n",
       "      <th>cat_3</th>\n",
       "      <th>cat_4</th>\n",
       "      <th>...</th>\n",
       "      <th>430</th>\n",
       "      <th>431</th>\n",
       "      <th>432</th>\n",
       "      <th>433</th>\n",
       "      <th>434</th>\n",
       "      <th>435</th>\n",
       "      <th>436</th>\n",
       "      <th>437</th>\n",
       "      <th>438</th>\n",
       "      <th>total</th>\n",
       "    </tr>\n",
       "    <tr>\n",
       "      <th>id</th>\n",
       "      <th></th>\n",
       "      <th></th>\n",
       "      <th></th>\n",
       "      <th></th>\n",
       "      <th></th>\n",
       "      <th></th>\n",
       "      <th></th>\n",
       "      <th></th>\n",
       "      <th></th>\n",
       "      <th></th>\n",
       "      <th></th>\n",
       "      <th></th>\n",
       "      <th></th>\n",
       "      <th></th>\n",
       "      <th></th>\n",
       "      <th></th>\n",
       "      <th></th>\n",
       "      <th></th>\n",
       "      <th></th>\n",
       "      <th></th>\n",
       "      <th></th>\n",
       "    </tr>\n",
       "  </thead>\n",
       "  <tbody>\n",
       "    <tr>\n",
       "      <th>10199</th>\n",
       "      <td>4</td>\n",
       "      <td>0</td>\n",
       "      <td>0</td>\n",
       "      <td>0</td>\n",
       "      <td>262</td>\n",
       "      <td>1424</td>\n",
       "      <td>11.00</td>\n",
       "      <td>56.00</td>\n",
       "      <td>387.00</td>\n",
       "      <td>151.00</td>\n",
       "      <td>...</td>\n",
       "      <td>0.00</td>\n",
       "      <td>0.00</td>\n",
       "      <td>0.00</td>\n",
       "      <td>0.00</td>\n",
       "      <td>0.00</td>\n",
       "      <td>0.00</td>\n",
       "      <td>0.00</td>\n",
       "      <td>0.00</td>\n",
       "      <td>0</td>\n",
       "      <td>0.06</td>\n",
       "    </tr>\n",
       "  </tbody>\n",
       "</table>\n",
       "<p>1 rows × 458 columns</p>\n",
       "</div>"
      ],
      "text/plain": [
       "       Analytical thinking  Systemic thinking  Adaptability  Focus  game_id  \\\n",
       "id                                                                            \n",
       "10199                    4                  0             0      0      262   \n",
       "\n",
       "       total_score  cat_1  cat_2  cat_3  cat_4  ...  430  431  432  433  434  \\\n",
       "id                                              ...                            \n",
       "10199         1424  11.00  56.00 387.00 151.00  ... 0.00 0.00 0.00 0.00 0.00   \n",
       "\n",
       "       435  436  437  438  total  \n",
       "id                                \n",
       "10199 0.00 0.00 0.00    0   0.06  \n",
       "\n",
       "[1 rows x 458 columns]"
      ]
     },
     "execution_count": 3210,
     "metadata": {},
     "output_type": "execute_result"
    }
   ],
   "source": [
    "df_sample_2.head(1)"
   ]
  },
  {
   "cell_type": "code",
   "execution_count": 3211,
   "id": "54959060",
   "metadata": {},
   "outputs": [],
   "source": [
    "df_sample_2['max_total'] = df_sample_2.groupby('game_id')['total'].transform('max')"
   ]
  },
  {
   "cell_type": "code",
   "execution_count": 3212,
   "id": "bcb23fd8",
   "metadata": {},
   "outputs": [],
   "source": [
    "df_sample_2['rating_user'] = df_sample_2['total'] / df_sample_2['max_total']"
   ]
  },
  {
   "cell_type": "code",
   "execution_count": 3213,
   "id": "84ceb705",
   "metadata": {},
   "outputs": [],
   "source": [
    "for i in range(1, 439):\n",
    "    df_sample_2 = df_sample_2.drop(str(i), axis=1)    "
   ]
  },
  {
   "cell_type": "code",
   "execution_count": 3214,
   "id": "b67335ad",
   "metadata": {},
   "outputs": [],
   "source": [
    "df_sample_2 = df_sample_2.drop('max_total', axis=1)"
   ]
  },
  {
   "cell_type": "code",
   "execution_count": 3215,
   "id": "c796887c",
   "metadata": {
    "scrolled": true
   },
   "outputs": [
    {
     "data": {
      "text/plain": [
       "(293, 21)"
      ]
     },
     "execution_count": 3215,
     "metadata": {},
     "output_type": "execute_result"
    }
   ],
   "source": [
    "df_sample_2.shape"
   ]
  },
  {
   "cell_type": "code",
   "execution_count": 3216,
   "id": "f996b7b1",
   "metadata": {},
   "outputs": [
    {
     "data": {
      "text/html": [
       "<div>\n",
       "<style scoped>\n",
       "    .dataframe tbody tr th:only-of-type {\n",
       "        vertical-align: middle;\n",
       "    }\n",
       "\n",
       "    .dataframe tbody tr th {\n",
       "        vertical-align: top;\n",
       "    }\n",
       "\n",
       "    .dataframe thead th {\n",
       "        text-align: right;\n",
       "    }\n",
       "</style>\n",
       "<table border=\"1\" class=\"dataframe\">\n",
       "  <thead>\n",
       "    <tr style=\"text-align: right;\">\n",
       "      <th></th>\n",
       "      <th>Analytical thinking</th>\n",
       "      <th>Systemic thinking</th>\n",
       "      <th>Adaptability</th>\n",
       "      <th>Focus</th>\n",
       "      <th>game_id</th>\n",
       "      <th>total_score</th>\n",
       "      <th>cat_1</th>\n",
       "      <th>cat_2</th>\n",
       "      <th>cat_3</th>\n",
       "      <th>cat_4</th>\n",
       "      <th>...</th>\n",
       "      <th>cat_6</th>\n",
       "      <th>score_rating</th>\n",
       "      <th>rating_1</th>\n",
       "      <th>rating_2</th>\n",
       "      <th>rating_3</th>\n",
       "      <th>rating_4</th>\n",
       "      <th>rating_5</th>\n",
       "      <th>rating_6</th>\n",
       "      <th>total</th>\n",
       "      <th>rating_user</th>\n",
       "    </tr>\n",
       "    <tr>\n",
       "      <th>id</th>\n",
       "      <th></th>\n",
       "      <th></th>\n",
       "      <th></th>\n",
       "      <th></th>\n",
       "      <th></th>\n",
       "      <th></th>\n",
       "      <th></th>\n",
       "      <th></th>\n",
       "      <th></th>\n",
       "      <th></th>\n",
       "      <th></th>\n",
       "      <th></th>\n",
       "      <th></th>\n",
       "      <th></th>\n",
       "      <th></th>\n",
       "      <th></th>\n",
       "      <th></th>\n",
       "      <th></th>\n",
       "      <th></th>\n",
       "      <th></th>\n",
       "      <th></th>\n",
       "    </tr>\n",
       "  </thead>\n",
       "  <tbody>\n",
       "    <tr>\n",
       "      <th>10199</th>\n",
       "      <td>4</td>\n",
       "      <td>0</td>\n",
       "      <td>0</td>\n",
       "      <td>0</td>\n",
       "      <td>262</td>\n",
       "      <td>1424</td>\n",
       "      <td>11.00</td>\n",
       "      <td>56.00</td>\n",
       "      <td>387.00</td>\n",
       "      <td>151.00</td>\n",
       "      <td>...</td>\n",
       "      <td>712.00</td>\n",
       "      <td>0.91</td>\n",
       "      <td>0.37</td>\n",
       "      <td>0.42</td>\n",
       "      <td>0.88</td>\n",
       "      <td>0.85</td>\n",
       "      <td>0.96</td>\n",
       "      <td>0.91</td>\n",
       "      <td>0.06</td>\n",
       "      <td>0.05</td>\n",
       "    </tr>\n",
       "  </tbody>\n",
       "</table>\n",
       "<p>1 rows × 21 columns</p>\n",
       "</div>"
      ],
      "text/plain": [
       "       Analytical thinking  Systemic thinking  Adaptability  Focus  game_id  \\\n",
       "id                                                                            \n",
       "10199                    4                  0             0      0      262   \n",
       "\n",
       "       total_score  cat_1  cat_2  cat_3  cat_4  ...  cat_6  score_rating  \\\n",
       "id                                              ...                        \n",
       "10199         1424  11.00  56.00 387.00 151.00  ... 712.00          0.91   \n",
       "\n",
       "       rating_1  rating_2  rating_3  rating_4  rating_5  rating_6  total  \\\n",
       "id                                                                         \n",
       "10199      0.37      0.42      0.88      0.85      0.96      0.91   0.06   \n",
       "\n",
       "       rating_user  \n",
       "id                  \n",
       "10199         0.05  \n",
       "\n",
       "[1 rows x 21 columns]"
      ]
     },
     "execution_count": 3216,
     "metadata": {},
     "output_type": "execute_result"
    }
   ],
   "source": [
    "df_sample_2.head(1)"
   ]
  },
  {
   "cell_type": "code",
   "execution_count": 3217,
   "id": "5d2f3d0b",
   "metadata": {},
   "outputs": [],
   "source": [
    "col_drop = ['Analytical thinking', 'Systemic thinking', 'Adaptability', \n",
    "            'Focus']"
   ]
  },
  {
   "cell_type": "code",
   "execution_count": 3218,
   "id": "8402a7f7",
   "metadata": {},
   "outputs": [],
   "source": [
    "X_test = df_sample_2.drop(col_drop, axis=1)"
   ]
  },
  {
   "cell_type": "code",
   "execution_count": 3219,
   "id": "d99e5c84",
   "metadata": {
    "scrolled": true
   },
   "outputs": [
    {
     "data": {
      "text/html": [
       "<div>\n",
       "<style scoped>\n",
       "    .dataframe tbody tr th:only-of-type {\n",
       "        vertical-align: middle;\n",
       "    }\n",
       "\n",
       "    .dataframe tbody tr th {\n",
       "        vertical-align: top;\n",
       "    }\n",
       "\n",
       "    .dataframe thead th {\n",
       "        text-align: right;\n",
       "    }\n",
       "</style>\n",
       "<table border=\"1\" class=\"dataframe\">\n",
       "  <thead>\n",
       "    <tr style=\"text-align: right;\">\n",
       "      <th></th>\n",
       "      <th>game_id</th>\n",
       "      <th>total_score</th>\n",
       "      <th>cat_1</th>\n",
       "      <th>cat_2</th>\n",
       "      <th>cat_3</th>\n",
       "      <th>cat_4</th>\n",
       "      <th>cat_5</th>\n",
       "      <th>cat_6</th>\n",
       "      <th>score_rating</th>\n",
       "      <th>rating_1</th>\n",
       "      <th>rating_2</th>\n",
       "      <th>rating_3</th>\n",
       "      <th>rating_4</th>\n",
       "      <th>rating_5</th>\n",
       "      <th>rating_6</th>\n",
       "      <th>total</th>\n",
       "      <th>rating_user</th>\n",
       "    </tr>\n",
       "    <tr>\n",
       "      <th>id</th>\n",
       "      <th></th>\n",
       "      <th></th>\n",
       "      <th></th>\n",
       "      <th></th>\n",
       "      <th></th>\n",
       "      <th></th>\n",
       "      <th></th>\n",
       "      <th></th>\n",
       "      <th></th>\n",
       "      <th></th>\n",
       "      <th></th>\n",
       "      <th></th>\n",
       "      <th></th>\n",
       "      <th></th>\n",
       "      <th></th>\n",
       "      <th></th>\n",
       "      <th></th>\n",
       "    </tr>\n",
       "  </thead>\n",
       "  <tbody>\n",
       "    <tr>\n",
       "      <th>10199</th>\n",
       "      <td>262</td>\n",
       "      <td>1424</td>\n",
       "      <td>11.00</td>\n",
       "      <td>56.00</td>\n",
       "      <td>387.00</td>\n",
       "      <td>151.00</td>\n",
       "      <td>107.00</td>\n",
       "      <td>712.00</td>\n",
       "      <td>0.91</td>\n",
       "      <td>0.37</td>\n",
       "      <td>0.42</td>\n",
       "      <td>0.88</td>\n",
       "      <td>0.85</td>\n",
       "      <td>0.96</td>\n",
       "      <td>0.91</td>\n",
       "      <td>0.06</td>\n",
       "      <td>0.05</td>\n",
       "    </tr>\n",
       "  </tbody>\n",
       "</table>\n",
       "</div>"
      ],
      "text/plain": [
       "       game_id  total_score  cat_1  cat_2  cat_3  cat_4  cat_5  cat_6  \\\n",
       "id                                                                      \n",
       "10199      262         1424  11.00  56.00 387.00 151.00 107.00 712.00   \n",
       "\n",
       "       score_rating  rating_1  rating_2  rating_3  rating_4  rating_5  \\\n",
       "id                                                                      \n",
       "10199          0.91      0.37      0.42      0.88      0.85      0.96   \n",
       "\n",
       "       rating_6  total  rating_user  \n",
       "id                                   \n",
       "10199      0.91   0.06         0.05  "
      ]
     },
     "execution_count": 3219,
     "metadata": {},
     "output_type": "execute_result"
    }
   ],
   "source": [
    "X_test.head(1)"
   ]
  },
  {
   "cell_type": "code",
   "execution_count": 3220,
   "id": "bdfd4622",
   "metadata": {
    "scrolled": true
   },
   "outputs": [
    {
     "data": {
      "text/plain": [
       "(293, 17)"
      ]
     },
     "execution_count": 3220,
     "metadata": {},
     "output_type": "execute_result"
    }
   ],
   "source": [
    "X_test.shape"
   ]
  },
  {
   "cell_type": "code",
   "execution_count": 3221,
   "id": "ad5cdc3f",
   "metadata": {},
   "outputs": [],
   "source": [
    "X_test = scaler_2.transform(X_test)"
   ]
  },
  {
   "cell_type": "code",
   "execution_count": 3222,
   "id": "74c0eb92",
   "metadata": {},
   "outputs": [],
   "source": [
    "df_sample['Systemic thinking'] = model_2.predict(X_test).astype('int')"
   ]
  },
  {
   "cell_type": "markdown",
   "id": "741e1df7",
   "metadata": {},
   "source": [
    "**Adaptability**"
   ]
  },
  {
   "cell_type": "code",
   "execution_count": 3223,
   "id": "4b135b97",
   "metadata": {},
   "outputs": [],
   "source": [
    "for i in range(1, 438):\n",
    "    if i in list_dec_3.index:\n",
    "        corr = list_dec_3['corr'].loc[i]\n",
    "        ud_3[str(i)] = ud_3[str(i)] * corr  \n",
    "    else:\n",
    "        continue    "
   ]
  },
  {
   "cell_type": "code",
   "execution_count": 3224,
   "id": "ac61bc5a",
   "metadata": {
    "scrolled": true
   },
   "outputs": [
    {
     "data": {
      "text/html": [
       "<div>\n",
       "<style scoped>\n",
       "    .dataframe tbody tr th:only-of-type {\n",
       "        vertical-align: middle;\n",
       "    }\n",
       "\n",
       "    .dataframe tbody tr th {\n",
       "        vertical-align: top;\n",
       "    }\n",
       "\n",
       "    .dataframe thead th {\n",
       "        text-align: right;\n",
       "    }\n",
       "</style>\n",
       "<table border=\"1\" class=\"dataframe\">\n",
       "  <thead>\n",
       "    <tr style=\"text-align: right;\">\n",
       "      <th></th>\n",
       "      <th>1</th>\n",
       "      <th>2</th>\n",
       "      <th>3</th>\n",
       "      <th>4</th>\n",
       "      <th>5</th>\n",
       "      <th>6</th>\n",
       "      <th>7</th>\n",
       "      <th>8</th>\n",
       "      <th>9</th>\n",
       "      <th>10</th>\n",
       "      <th>...</th>\n",
       "      <th>430</th>\n",
       "      <th>431</th>\n",
       "      <th>432</th>\n",
       "      <th>433</th>\n",
       "      <th>434</th>\n",
       "      <th>435</th>\n",
       "      <th>436</th>\n",
       "      <th>437</th>\n",
       "      <th>438</th>\n",
       "      <th>total</th>\n",
       "    </tr>\n",
       "    <tr>\n",
       "      <th>user_id</th>\n",
       "      <th></th>\n",
       "      <th></th>\n",
       "      <th></th>\n",
       "      <th></th>\n",
       "      <th></th>\n",
       "      <th></th>\n",
       "      <th></th>\n",
       "      <th></th>\n",
       "      <th></th>\n",
       "      <th></th>\n",
       "      <th></th>\n",
       "      <th></th>\n",
       "      <th></th>\n",
       "      <th></th>\n",
       "      <th></th>\n",
       "      <th></th>\n",
       "      <th></th>\n",
       "      <th></th>\n",
       "      <th></th>\n",
       "      <th></th>\n",
       "      <th></th>\n",
       "    </tr>\n",
       "  </thead>\n",
       "  <tbody>\n",
       "    <tr>\n",
       "      <th>10001</th>\n",
       "      <td>0.00</td>\n",
       "      <td>0.00</td>\n",
       "      <td>0.00</td>\n",
       "      <td>0.00</td>\n",
       "      <td>0.00</td>\n",
       "      <td>0.00</td>\n",
       "      <td>0.00</td>\n",
       "      <td>0.00</td>\n",
       "      <td>0.00</td>\n",
       "      <td>0.00</td>\n",
       "      <td>...</td>\n",
       "      <td>0.00</td>\n",
       "      <td>0.00</td>\n",
       "      <td>0.00</td>\n",
       "      <td>0.00</td>\n",
       "      <td>0.00</td>\n",
       "      <td>0.00</td>\n",
       "      <td>0.00</td>\n",
       "      <td>0.00</td>\n",
       "      <td>0</td>\n",
       "      <td>0.59</td>\n",
       "    </tr>\n",
       "  </tbody>\n",
       "</table>\n",
       "<p>1 rows × 439 columns</p>\n",
       "</div>"
      ],
      "text/plain": [
       "           1    2    3    4    5    6    7    8    9   10  ...  430  431  432  \\\n",
       "user_id                                                    ...                  \n",
       "10001   0.00 0.00 0.00 0.00 0.00 0.00 0.00 0.00 0.00 0.00  ... 0.00 0.00 0.00   \n",
       "\n",
       "         433  434  435  436  437  438  total  \n",
       "user_id                                       \n",
       "10001   0.00 0.00 0.00 0.00 0.00    0   0.59  \n",
       "\n",
       "[1 rows x 439 columns]"
      ]
     },
     "execution_count": 3224,
     "metadata": {},
     "output_type": "execute_result"
    }
   ],
   "source": [
    "ud_3.head(1)"
   ]
  },
  {
   "cell_type": "code",
   "execution_count": 3225,
   "id": "d58bc4be",
   "metadata": {},
   "outputs": [],
   "source": [
    "ud_3['total'] = ud_3.sum(axis=1)"
   ]
  },
  {
   "cell_type": "code",
   "execution_count": 3226,
   "id": "129585da",
   "metadata": {},
   "outputs": [],
   "source": [
    "col_drop = ['Analytical thinking', 'Systemic thinking', 'Adaptability','Focus']"
   ]
  },
  {
   "cell_type": "code",
   "execution_count": 3227,
   "id": "b8eb9df4",
   "metadata": {},
   "outputs": [],
   "source": [
    "df_sample_3 = df_sample.join(ud_3)"
   ]
  },
  {
   "cell_type": "code",
   "execution_count": 3228,
   "id": "09fb032f",
   "metadata": {},
   "outputs": [
    {
     "data": {
      "text/plain": [
       "(293, 458)"
      ]
     },
     "execution_count": 3228,
     "metadata": {},
     "output_type": "execute_result"
    }
   ],
   "source": [
    "df_sample_3.shape"
   ]
  },
  {
   "cell_type": "code",
   "execution_count": 3229,
   "id": "6572051f",
   "metadata": {
    "scrolled": true
   },
   "outputs": [
    {
     "data": {
      "text/html": [
       "<div>\n",
       "<style scoped>\n",
       "    .dataframe tbody tr th:only-of-type {\n",
       "        vertical-align: middle;\n",
       "    }\n",
       "\n",
       "    .dataframe tbody tr th {\n",
       "        vertical-align: top;\n",
       "    }\n",
       "\n",
       "    .dataframe thead th {\n",
       "        text-align: right;\n",
       "    }\n",
       "</style>\n",
       "<table border=\"1\" class=\"dataframe\">\n",
       "  <thead>\n",
       "    <tr style=\"text-align: right;\">\n",
       "      <th></th>\n",
       "      <th>Analytical thinking</th>\n",
       "      <th>Systemic thinking</th>\n",
       "      <th>Adaptability</th>\n",
       "      <th>Focus</th>\n",
       "      <th>game_id</th>\n",
       "      <th>total_score</th>\n",
       "      <th>cat_1</th>\n",
       "      <th>cat_2</th>\n",
       "      <th>cat_3</th>\n",
       "      <th>cat_4</th>\n",
       "      <th>...</th>\n",
       "      <th>430</th>\n",
       "      <th>431</th>\n",
       "      <th>432</th>\n",
       "      <th>433</th>\n",
       "      <th>434</th>\n",
       "      <th>435</th>\n",
       "      <th>436</th>\n",
       "      <th>437</th>\n",
       "      <th>438</th>\n",
       "      <th>total</th>\n",
       "    </tr>\n",
       "    <tr>\n",
       "      <th>id</th>\n",
       "      <th></th>\n",
       "      <th></th>\n",
       "      <th></th>\n",
       "      <th></th>\n",
       "      <th></th>\n",
       "      <th></th>\n",
       "      <th></th>\n",
       "      <th></th>\n",
       "      <th></th>\n",
       "      <th></th>\n",
       "      <th></th>\n",
       "      <th></th>\n",
       "      <th></th>\n",
       "      <th></th>\n",
       "      <th></th>\n",
       "      <th></th>\n",
       "      <th></th>\n",
       "      <th></th>\n",
       "      <th></th>\n",
       "      <th></th>\n",
       "      <th></th>\n",
       "    </tr>\n",
       "  </thead>\n",
       "  <tbody>\n",
       "    <tr>\n",
       "      <th>10199</th>\n",
       "      <td>4</td>\n",
       "      <td>4</td>\n",
       "      <td>0</td>\n",
       "      <td>0</td>\n",
       "      <td>262</td>\n",
       "      <td>1424</td>\n",
       "      <td>11.00</td>\n",
       "      <td>56.00</td>\n",
       "      <td>387.00</td>\n",
       "      <td>151.00</td>\n",
       "      <td>...</td>\n",
       "      <td>0.00</td>\n",
       "      <td>0.00</td>\n",
       "      <td>0.00</td>\n",
       "      <td>0.00</td>\n",
       "      <td>0.00</td>\n",
       "      <td>0.00</td>\n",
       "      <td>0.00</td>\n",
       "      <td>0.00</td>\n",
       "      <td>0</td>\n",
       "      <td>0.06</td>\n",
       "    </tr>\n",
       "  </tbody>\n",
       "</table>\n",
       "<p>1 rows × 458 columns</p>\n",
       "</div>"
      ],
      "text/plain": [
       "       Analytical thinking  Systemic thinking  Adaptability  Focus  game_id  \\\n",
       "id                                                                            \n",
       "10199                    4                  4             0      0      262   \n",
       "\n",
       "       total_score  cat_1  cat_2  cat_3  cat_4  ...  430  431  432  433  434  \\\n",
       "id                                              ...                            \n",
       "10199         1424  11.00  56.00 387.00 151.00  ... 0.00 0.00 0.00 0.00 0.00   \n",
       "\n",
       "       435  436  437  438  total  \n",
       "id                                \n",
       "10199 0.00 0.00 0.00    0   0.06  \n",
       "\n",
       "[1 rows x 458 columns]"
      ]
     },
     "execution_count": 3229,
     "metadata": {},
     "output_type": "execute_result"
    }
   ],
   "source": [
    "df_sample_3.head(1)"
   ]
  },
  {
   "cell_type": "code",
   "execution_count": 3230,
   "id": "f36daddc",
   "metadata": {},
   "outputs": [],
   "source": [
    "df_sample_3['max_total'] = df_sample_3.groupby('game_id')['total'].transform('max')"
   ]
  },
  {
   "cell_type": "code",
   "execution_count": 3231,
   "id": "3edf6708",
   "metadata": {},
   "outputs": [],
   "source": [
    "df_sample_3['rating_user'] = df_sample_3['total'] / df_sample_3['max_total']"
   ]
  },
  {
   "cell_type": "code",
   "execution_count": 3232,
   "id": "8f861821",
   "metadata": {},
   "outputs": [],
   "source": [
    "for i in range(1, 439):\n",
    "    df_sample_3 = df_sample_3.drop(str(i), axis=1)    "
   ]
  },
  {
   "cell_type": "code",
   "execution_count": 3233,
   "id": "1f75aa11",
   "metadata": {},
   "outputs": [],
   "source": [
    "df_sample_3 = df_sample_3.drop('max_total', axis=1)"
   ]
  },
  {
   "cell_type": "code",
   "execution_count": 3234,
   "id": "6a08a8bc",
   "metadata": {
    "scrolled": true
   },
   "outputs": [
    {
     "data": {
      "text/plain": [
       "(293, 21)"
      ]
     },
     "execution_count": 3234,
     "metadata": {},
     "output_type": "execute_result"
    }
   ],
   "source": [
    "df_sample_3.shape"
   ]
  },
  {
   "cell_type": "code",
   "execution_count": 3235,
   "id": "abf4c1f3",
   "metadata": {},
   "outputs": [
    {
     "data": {
      "text/html": [
       "<div>\n",
       "<style scoped>\n",
       "    .dataframe tbody tr th:only-of-type {\n",
       "        vertical-align: middle;\n",
       "    }\n",
       "\n",
       "    .dataframe tbody tr th {\n",
       "        vertical-align: top;\n",
       "    }\n",
       "\n",
       "    .dataframe thead th {\n",
       "        text-align: right;\n",
       "    }\n",
       "</style>\n",
       "<table border=\"1\" class=\"dataframe\">\n",
       "  <thead>\n",
       "    <tr style=\"text-align: right;\">\n",
       "      <th></th>\n",
       "      <th>Analytical thinking</th>\n",
       "      <th>Systemic thinking</th>\n",
       "      <th>Adaptability</th>\n",
       "      <th>Focus</th>\n",
       "      <th>game_id</th>\n",
       "      <th>total_score</th>\n",
       "      <th>cat_1</th>\n",
       "      <th>cat_2</th>\n",
       "      <th>cat_3</th>\n",
       "      <th>cat_4</th>\n",
       "      <th>...</th>\n",
       "      <th>cat_6</th>\n",
       "      <th>score_rating</th>\n",
       "      <th>rating_1</th>\n",
       "      <th>rating_2</th>\n",
       "      <th>rating_3</th>\n",
       "      <th>rating_4</th>\n",
       "      <th>rating_5</th>\n",
       "      <th>rating_6</th>\n",
       "      <th>total</th>\n",
       "      <th>rating_user</th>\n",
       "    </tr>\n",
       "    <tr>\n",
       "      <th>id</th>\n",
       "      <th></th>\n",
       "      <th></th>\n",
       "      <th></th>\n",
       "      <th></th>\n",
       "      <th></th>\n",
       "      <th></th>\n",
       "      <th></th>\n",
       "      <th></th>\n",
       "      <th></th>\n",
       "      <th></th>\n",
       "      <th></th>\n",
       "      <th></th>\n",
       "      <th></th>\n",
       "      <th></th>\n",
       "      <th></th>\n",
       "      <th></th>\n",
       "      <th></th>\n",
       "      <th></th>\n",
       "      <th></th>\n",
       "      <th></th>\n",
       "      <th></th>\n",
       "    </tr>\n",
       "  </thead>\n",
       "  <tbody>\n",
       "    <tr>\n",
       "      <th>10199</th>\n",
       "      <td>4</td>\n",
       "      <td>4</td>\n",
       "      <td>0</td>\n",
       "      <td>0</td>\n",
       "      <td>262</td>\n",
       "      <td>1424</td>\n",
       "      <td>11.00</td>\n",
       "      <td>56.00</td>\n",
       "      <td>387.00</td>\n",
       "      <td>151.00</td>\n",
       "      <td>...</td>\n",
       "      <td>712.00</td>\n",
       "      <td>0.91</td>\n",
       "      <td>0.37</td>\n",
       "      <td>0.42</td>\n",
       "      <td>0.88</td>\n",
       "      <td>0.85</td>\n",
       "      <td>0.96</td>\n",
       "      <td>0.91</td>\n",
       "      <td>0.06</td>\n",
       "      <td>0.05</td>\n",
       "    </tr>\n",
       "  </tbody>\n",
       "</table>\n",
       "<p>1 rows × 21 columns</p>\n",
       "</div>"
      ],
      "text/plain": [
       "       Analytical thinking  Systemic thinking  Adaptability  Focus  game_id  \\\n",
       "id                                                                            \n",
       "10199                    4                  4             0      0      262   \n",
       "\n",
       "       total_score  cat_1  cat_2  cat_3  cat_4  ...  cat_6  score_rating  \\\n",
       "id                                              ...                        \n",
       "10199         1424  11.00  56.00 387.00 151.00  ... 712.00          0.91   \n",
       "\n",
       "       rating_1  rating_2  rating_3  rating_4  rating_5  rating_6  total  \\\n",
       "id                                                                         \n",
       "10199      0.37      0.42      0.88      0.85      0.96      0.91   0.06   \n",
       "\n",
       "       rating_user  \n",
       "id                  \n",
       "10199         0.05  \n",
       "\n",
       "[1 rows x 21 columns]"
      ]
     },
     "execution_count": 3235,
     "metadata": {},
     "output_type": "execute_result"
    }
   ],
   "source": [
    "df_sample_3.head(1)"
   ]
  },
  {
   "cell_type": "code",
   "execution_count": 3236,
   "id": "6b379b69",
   "metadata": {},
   "outputs": [],
   "source": [
    "col_drop = ['Analytical thinking', 'Systemic thinking', 'Adaptability', \n",
    "            'Focus']"
   ]
  },
  {
   "cell_type": "code",
   "execution_count": 3237,
   "id": "ba55204f",
   "metadata": {},
   "outputs": [],
   "source": [
    "X_test = df_sample_3.drop(col_drop, axis=1)"
   ]
  },
  {
   "cell_type": "code",
   "execution_count": 3238,
   "id": "5200f2e0",
   "metadata": {
    "scrolled": true
   },
   "outputs": [
    {
     "data": {
      "text/html": [
       "<div>\n",
       "<style scoped>\n",
       "    .dataframe tbody tr th:only-of-type {\n",
       "        vertical-align: middle;\n",
       "    }\n",
       "\n",
       "    .dataframe tbody tr th {\n",
       "        vertical-align: top;\n",
       "    }\n",
       "\n",
       "    .dataframe thead th {\n",
       "        text-align: right;\n",
       "    }\n",
       "</style>\n",
       "<table border=\"1\" class=\"dataframe\">\n",
       "  <thead>\n",
       "    <tr style=\"text-align: right;\">\n",
       "      <th></th>\n",
       "      <th>game_id</th>\n",
       "      <th>total_score</th>\n",
       "      <th>cat_1</th>\n",
       "      <th>cat_2</th>\n",
       "      <th>cat_3</th>\n",
       "      <th>cat_4</th>\n",
       "      <th>cat_5</th>\n",
       "      <th>cat_6</th>\n",
       "      <th>score_rating</th>\n",
       "      <th>rating_1</th>\n",
       "      <th>rating_2</th>\n",
       "      <th>rating_3</th>\n",
       "      <th>rating_4</th>\n",
       "      <th>rating_5</th>\n",
       "      <th>rating_6</th>\n",
       "      <th>total</th>\n",
       "      <th>rating_user</th>\n",
       "    </tr>\n",
       "    <tr>\n",
       "      <th>id</th>\n",
       "      <th></th>\n",
       "      <th></th>\n",
       "      <th></th>\n",
       "      <th></th>\n",
       "      <th></th>\n",
       "      <th></th>\n",
       "      <th></th>\n",
       "      <th></th>\n",
       "      <th></th>\n",
       "      <th></th>\n",
       "      <th></th>\n",
       "      <th></th>\n",
       "      <th></th>\n",
       "      <th></th>\n",
       "      <th></th>\n",
       "      <th></th>\n",
       "      <th></th>\n",
       "    </tr>\n",
       "  </thead>\n",
       "  <tbody>\n",
       "    <tr>\n",
       "      <th>10199</th>\n",
       "      <td>262</td>\n",
       "      <td>1424</td>\n",
       "      <td>11.00</td>\n",
       "      <td>56.00</td>\n",
       "      <td>387.00</td>\n",
       "      <td>151.00</td>\n",
       "      <td>107.00</td>\n",
       "      <td>712.00</td>\n",
       "      <td>0.91</td>\n",
       "      <td>0.37</td>\n",
       "      <td>0.42</td>\n",
       "      <td>0.88</td>\n",
       "      <td>0.85</td>\n",
       "      <td>0.96</td>\n",
       "      <td>0.91</td>\n",
       "      <td>0.06</td>\n",
       "      <td>0.05</td>\n",
       "    </tr>\n",
       "  </tbody>\n",
       "</table>\n",
       "</div>"
      ],
      "text/plain": [
       "       game_id  total_score  cat_1  cat_2  cat_3  cat_4  cat_5  cat_6  \\\n",
       "id                                                                      \n",
       "10199      262         1424  11.00  56.00 387.00 151.00 107.00 712.00   \n",
       "\n",
       "       score_rating  rating_1  rating_2  rating_3  rating_4  rating_5  \\\n",
       "id                                                                      \n",
       "10199          0.91      0.37      0.42      0.88      0.85      0.96   \n",
       "\n",
       "       rating_6  total  rating_user  \n",
       "id                                   \n",
       "10199      0.91   0.06         0.05  "
      ]
     },
     "execution_count": 3238,
     "metadata": {},
     "output_type": "execute_result"
    }
   ],
   "source": [
    "X_test.head(1)"
   ]
  },
  {
   "cell_type": "code",
   "execution_count": 3239,
   "id": "b138ae9f",
   "metadata": {},
   "outputs": [
    {
     "data": {
      "text/plain": [
       "(293, 17)"
      ]
     },
     "execution_count": 3239,
     "metadata": {},
     "output_type": "execute_result"
    }
   ],
   "source": [
    "X_test.shape"
   ]
  },
  {
   "cell_type": "code",
   "execution_count": 3240,
   "id": "9952fb16",
   "metadata": {},
   "outputs": [],
   "source": [
    "X_test = scaler_3.transform(X_test)"
   ]
  },
  {
   "cell_type": "code",
   "execution_count": 3241,
   "id": "82454e87",
   "metadata": {},
   "outputs": [],
   "source": [
    "df_sample['Adaptability'] = model_3.predict(X_test).astype('int')"
   ]
  },
  {
   "cell_type": "code",
   "execution_count": null,
   "id": "904e5c6b",
   "metadata": {},
   "outputs": [],
   "source": []
  },
  {
   "cell_type": "markdown",
   "id": "526cccef",
   "metadata": {},
   "source": [
    "**Focus**"
   ]
  },
  {
   "cell_type": "code",
   "execution_count": 3242,
   "id": "96efdf6d",
   "metadata": {},
   "outputs": [],
   "source": [
    "for i in range(1, 438):\n",
    "    if i in list_dec_4.index:\n",
    "        corr = list_dec_4['corr'].loc[i]\n",
    "        ud_4[str(i)] = ud_4[str(i)] * corr  \n",
    "    else:\n",
    "        continue    "
   ]
  },
  {
   "cell_type": "code",
   "execution_count": 3243,
   "id": "ce6f5f75",
   "metadata": {
    "scrolled": true
   },
   "outputs": [
    {
     "data": {
      "text/html": [
       "<div>\n",
       "<style scoped>\n",
       "    .dataframe tbody tr th:only-of-type {\n",
       "        vertical-align: middle;\n",
       "    }\n",
       "\n",
       "    .dataframe tbody tr th {\n",
       "        vertical-align: top;\n",
       "    }\n",
       "\n",
       "    .dataframe thead th {\n",
       "        text-align: right;\n",
       "    }\n",
       "</style>\n",
       "<table border=\"1\" class=\"dataframe\">\n",
       "  <thead>\n",
       "    <tr style=\"text-align: right;\">\n",
       "      <th></th>\n",
       "      <th>1</th>\n",
       "      <th>2</th>\n",
       "      <th>3</th>\n",
       "      <th>4</th>\n",
       "      <th>5</th>\n",
       "      <th>6</th>\n",
       "      <th>7</th>\n",
       "      <th>8</th>\n",
       "      <th>9</th>\n",
       "      <th>10</th>\n",
       "      <th>...</th>\n",
       "      <th>430</th>\n",
       "      <th>431</th>\n",
       "      <th>432</th>\n",
       "      <th>433</th>\n",
       "      <th>434</th>\n",
       "      <th>435</th>\n",
       "      <th>436</th>\n",
       "      <th>437</th>\n",
       "      <th>438</th>\n",
       "      <th>total</th>\n",
       "    </tr>\n",
       "    <tr>\n",
       "      <th>user_id</th>\n",
       "      <th></th>\n",
       "      <th></th>\n",
       "      <th></th>\n",
       "      <th></th>\n",
       "      <th></th>\n",
       "      <th></th>\n",
       "      <th></th>\n",
       "      <th></th>\n",
       "      <th></th>\n",
       "      <th></th>\n",
       "      <th></th>\n",
       "      <th></th>\n",
       "      <th></th>\n",
       "      <th></th>\n",
       "      <th></th>\n",
       "      <th></th>\n",
       "      <th></th>\n",
       "      <th></th>\n",
       "      <th></th>\n",
       "      <th></th>\n",
       "      <th></th>\n",
       "    </tr>\n",
       "  </thead>\n",
       "  <tbody>\n",
       "    <tr>\n",
       "      <th>10001</th>\n",
       "      <td>0.00</td>\n",
       "      <td>0.00</td>\n",
       "      <td>0.00</td>\n",
       "      <td>0.00</td>\n",
       "      <td>0.00</td>\n",
       "      <td>0.00</td>\n",
       "      <td>0.00</td>\n",
       "      <td>0.00</td>\n",
       "      <td>0.00</td>\n",
       "      <td>0.00</td>\n",
       "      <td>...</td>\n",
       "      <td>0.00</td>\n",
       "      <td>0.00</td>\n",
       "      <td>0.00</td>\n",
       "      <td>0.00</td>\n",
       "      <td>0.00</td>\n",
       "      <td>0.00</td>\n",
       "      <td>0.00</td>\n",
       "      <td>0.00</td>\n",
       "      <td>0</td>\n",
       "      <td>0.59</td>\n",
       "    </tr>\n",
       "  </tbody>\n",
       "</table>\n",
       "<p>1 rows × 439 columns</p>\n",
       "</div>"
      ],
      "text/plain": [
       "           1    2    3    4    5    6    7    8    9   10  ...  430  431  432  \\\n",
       "user_id                                                    ...                  \n",
       "10001   0.00 0.00 0.00 0.00 0.00 0.00 0.00 0.00 0.00 0.00  ... 0.00 0.00 0.00   \n",
       "\n",
       "         433  434  435  436  437  438  total  \n",
       "user_id                                       \n",
       "10001   0.00 0.00 0.00 0.00 0.00    0   0.59  \n",
       "\n",
       "[1 rows x 439 columns]"
      ]
     },
     "execution_count": 3243,
     "metadata": {},
     "output_type": "execute_result"
    }
   ],
   "source": [
    "ud_4.head(1)"
   ]
  },
  {
   "cell_type": "code",
   "execution_count": 3244,
   "id": "379a6d4c",
   "metadata": {},
   "outputs": [],
   "source": [
    "ud_4['total'] = ud_4.sum(axis=1)"
   ]
  },
  {
   "cell_type": "code",
   "execution_count": 3245,
   "id": "49abe359",
   "metadata": {},
   "outputs": [],
   "source": [
    "col_drop = ['Analytical thinking', 'Systemic thinking', 'Adaptability','Focus']"
   ]
  },
  {
   "cell_type": "code",
   "execution_count": 3246,
   "id": "8fe3b615",
   "metadata": {},
   "outputs": [],
   "source": [
    "df_sample_4 = df_sample.join(ud_4)"
   ]
  },
  {
   "cell_type": "code",
   "execution_count": 3247,
   "id": "c4f3dfdd",
   "metadata": {},
   "outputs": [
    {
     "data": {
      "text/plain": [
       "(293, 458)"
      ]
     },
     "execution_count": 3247,
     "metadata": {},
     "output_type": "execute_result"
    }
   ],
   "source": [
    "df_sample_4.shape"
   ]
  },
  {
   "cell_type": "code",
   "execution_count": 3248,
   "id": "c6a42b68",
   "metadata": {
    "scrolled": true
   },
   "outputs": [
    {
     "data": {
      "text/html": [
       "<div>\n",
       "<style scoped>\n",
       "    .dataframe tbody tr th:only-of-type {\n",
       "        vertical-align: middle;\n",
       "    }\n",
       "\n",
       "    .dataframe tbody tr th {\n",
       "        vertical-align: top;\n",
       "    }\n",
       "\n",
       "    .dataframe thead th {\n",
       "        text-align: right;\n",
       "    }\n",
       "</style>\n",
       "<table border=\"1\" class=\"dataframe\">\n",
       "  <thead>\n",
       "    <tr style=\"text-align: right;\">\n",
       "      <th></th>\n",
       "      <th>Analytical thinking</th>\n",
       "      <th>Systemic thinking</th>\n",
       "      <th>Adaptability</th>\n",
       "      <th>Focus</th>\n",
       "      <th>game_id</th>\n",
       "      <th>total_score</th>\n",
       "      <th>cat_1</th>\n",
       "      <th>cat_2</th>\n",
       "      <th>cat_3</th>\n",
       "      <th>cat_4</th>\n",
       "      <th>...</th>\n",
       "      <th>430</th>\n",
       "      <th>431</th>\n",
       "      <th>432</th>\n",
       "      <th>433</th>\n",
       "      <th>434</th>\n",
       "      <th>435</th>\n",
       "      <th>436</th>\n",
       "      <th>437</th>\n",
       "      <th>438</th>\n",
       "      <th>total</th>\n",
       "    </tr>\n",
       "    <tr>\n",
       "      <th>id</th>\n",
       "      <th></th>\n",
       "      <th></th>\n",
       "      <th></th>\n",
       "      <th></th>\n",
       "      <th></th>\n",
       "      <th></th>\n",
       "      <th></th>\n",
       "      <th></th>\n",
       "      <th></th>\n",
       "      <th></th>\n",
       "      <th></th>\n",
       "      <th></th>\n",
       "      <th></th>\n",
       "      <th></th>\n",
       "      <th></th>\n",
       "      <th></th>\n",
       "      <th></th>\n",
       "      <th></th>\n",
       "      <th></th>\n",
       "      <th></th>\n",
       "      <th></th>\n",
       "    </tr>\n",
       "  </thead>\n",
       "  <tbody>\n",
       "    <tr>\n",
       "      <th>10199</th>\n",
       "      <td>4</td>\n",
       "      <td>4</td>\n",
       "      <td>4</td>\n",
       "      <td>0</td>\n",
       "      <td>262</td>\n",
       "      <td>1424</td>\n",
       "      <td>11.00</td>\n",
       "      <td>56.00</td>\n",
       "      <td>387.00</td>\n",
       "      <td>151.00</td>\n",
       "      <td>...</td>\n",
       "      <td>0.00</td>\n",
       "      <td>0.00</td>\n",
       "      <td>0.00</td>\n",
       "      <td>0.00</td>\n",
       "      <td>0.00</td>\n",
       "      <td>0.00</td>\n",
       "      <td>0.00</td>\n",
       "      <td>0.00</td>\n",
       "      <td>0</td>\n",
       "      <td>0.06</td>\n",
       "    </tr>\n",
       "  </tbody>\n",
       "</table>\n",
       "<p>1 rows × 458 columns</p>\n",
       "</div>"
      ],
      "text/plain": [
       "       Analytical thinking  Systemic thinking  Adaptability  Focus  game_id  \\\n",
       "id                                                                            \n",
       "10199                    4                  4             4      0      262   \n",
       "\n",
       "       total_score  cat_1  cat_2  cat_3  cat_4  ...  430  431  432  433  434  \\\n",
       "id                                              ...                            \n",
       "10199         1424  11.00  56.00 387.00 151.00  ... 0.00 0.00 0.00 0.00 0.00   \n",
       "\n",
       "       435  436  437  438  total  \n",
       "id                                \n",
       "10199 0.00 0.00 0.00    0   0.06  \n",
       "\n",
       "[1 rows x 458 columns]"
      ]
     },
     "execution_count": 3248,
     "metadata": {},
     "output_type": "execute_result"
    }
   ],
   "source": [
    "df_sample_4.head(1)"
   ]
  },
  {
   "cell_type": "code",
   "execution_count": 3249,
   "id": "9ac71c6d",
   "metadata": {},
   "outputs": [],
   "source": [
    "df_sample_4['max_total'] = df_sample_4.groupby('game_id')['total'].transform('max')"
   ]
  },
  {
   "cell_type": "code",
   "execution_count": 3250,
   "id": "e738cf73",
   "metadata": {},
   "outputs": [],
   "source": [
    "df_sample_4['rating_user'] = df_sample_4['total'] / df_sample_4['max_total']"
   ]
  },
  {
   "cell_type": "code",
   "execution_count": 3251,
   "id": "279b4d91",
   "metadata": {},
   "outputs": [],
   "source": [
    "for i in range(1, 439):\n",
    "    df_sample_4 = df_sample_4.drop(str(i), axis=1)    "
   ]
  },
  {
   "cell_type": "code",
   "execution_count": 3252,
   "id": "0e641a3c",
   "metadata": {},
   "outputs": [],
   "source": [
    "df_sample_4 = df_sample_4.drop('max_total', axis=1)"
   ]
  },
  {
   "cell_type": "code",
   "execution_count": 3253,
   "id": "27a17f7e",
   "metadata": {
    "scrolled": true
   },
   "outputs": [
    {
     "data": {
      "text/plain": [
       "(293, 21)"
      ]
     },
     "execution_count": 3253,
     "metadata": {},
     "output_type": "execute_result"
    }
   ],
   "source": [
    "df_sample_4.shape"
   ]
  },
  {
   "cell_type": "code",
   "execution_count": 3254,
   "id": "2f1df4c1",
   "metadata": {},
   "outputs": [
    {
     "data": {
      "text/html": [
       "<div>\n",
       "<style scoped>\n",
       "    .dataframe tbody tr th:only-of-type {\n",
       "        vertical-align: middle;\n",
       "    }\n",
       "\n",
       "    .dataframe tbody tr th {\n",
       "        vertical-align: top;\n",
       "    }\n",
       "\n",
       "    .dataframe thead th {\n",
       "        text-align: right;\n",
       "    }\n",
       "</style>\n",
       "<table border=\"1\" class=\"dataframe\">\n",
       "  <thead>\n",
       "    <tr style=\"text-align: right;\">\n",
       "      <th></th>\n",
       "      <th>Analytical thinking</th>\n",
       "      <th>Systemic thinking</th>\n",
       "      <th>Adaptability</th>\n",
       "      <th>Focus</th>\n",
       "      <th>game_id</th>\n",
       "      <th>total_score</th>\n",
       "      <th>cat_1</th>\n",
       "      <th>cat_2</th>\n",
       "      <th>cat_3</th>\n",
       "      <th>cat_4</th>\n",
       "      <th>...</th>\n",
       "      <th>cat_6</th>\n",
       "      <th>score_rating</th>\n",
       "      <th>rating_1</th>\n",
       "      <th>rating_2</th>\n",
       "      <th>rating_3</th>\n",
       "      <th>rating_4</th>\n",
       "      <th>rating_5</th>\n",
       "      <th>rating_6</th>\n",
       "      <th>total</th>\n",
       "      <th>rating_user</th>\n",
       "    </tr>\n",
       "    <tr>\n",
       "      <th>id</th>\n",
       "      <th></th>\n",
       "      <th></th>\n",
       "      <th></th>\n",
       "      <th></th>\n",
       "      <th></th>\n",
       "      <th></th>\n",
       "      <th></th>\n",
       "      <th></th>\n",
       "      <th></th>\n",
       "      <th></th>\n",
       "      <th></th>\n",
       "      <th></th>\n",
       "      <th></th>\n",
       "      <th></th>\n",
       "      <th></th>\n",
       "      <th></th>\n",
       "      <th></th>\n",
       "      <th></th>\n",
       "      <th></th>\n",
       "      <th></th>\n",
       "      <th></th>\n",
       "    </tr>\n",
       "  </thead>\n",
       "  <tbody>\n",
       "    <tr>\n",
       "      <th>10199</th>\n",
       "      <td>4</td>\n",
       "      <td>4</td>\n",
       "      <td>4</td>\n",
       "      <td>0</td>\n",
       "      <td>262</td>\n",
       "      <td>1424</td>\n",
       "      <td>11.00</td>\n",
       "      <td>56.00</td>\n",
       "      <td>387.00</td>\n",
       "      <td>151.00</td>\n",
       "      <td>...</td>\n",
       "      <td>712.00</td>\n",
       "      <td>0.91</td>\n",
       "      <td>0.37</td>\n",
       "      <td>0.42</td>\n",
       "      <td>0.88</td>\n",
       "      <td>0.85</td>\n",
       "      <td>0.96</td>\n",
       "      <td>0.91</td>\n",
       "      <td>0.06</td>\n",
       "      <td>0.05</td>\n",
       "    </tr>\n",
       "  </tbody>\n",
       "</table>\n",
       "<p>1 rows × 21 columns</p>\n",
       "</div>"
      ],
      "text/plain": [
       "       Analytical thinking  Systemic thinking  Adaptability  Focus  game_id  \\\n",
       "id                                                                            \n",
       "10199                    4                  4             4      0      262   \n",
       "\n",
       "       total_score  cat_1  cat_2  cat_3  cat_4  ...  cat_6  score_rating  \\\n",
       "id                                              ...                        \n",
       "10199         1424  11.00  56.00 387.00 151.00  ... 712.00          0.91   \n",
       "\n",
       "       rating_1  rating_2  rating_3  rating_4  rating_5  rating_6  total  \\\n",
       "id                                                                         \n",
       "10199      0.37      0.42      0.88      0.85      0.96      0.91   0.06   \n",
       "\n",
       "       rating_user  \n",
       "id                  \n",
       "10199         0.05  \n",
       "\n",
       "[1 rows x 21 columns]"
      ]
     },
     "execution_count": 3254,
     "metadata": {},
     "output_type": "execute_result"
    }
   ],
   "source": [
    "df_sample_4.head(1)"
   ]
  },
  {
   "cell_type": "code",
   "execution_count": 3255,
   "id": "d252ce0e",
   "metadata": {},
   "outputs": [],
   "source": [
    "col_drop = ['Analytical thinking', 'Systemic thinking', 'Adaptability', \n",
    "            'Focus']"
   ]
  },
  {
   "cell_type": "code",
   "execution_count": 3256,
   "id": "6a9d4824",
   "metadata": {},
   "outputs": [],
   "source": [
    "X_test = df_sample_4.drop(col_drop, axis=1)"
   ]
  },
  {
   "cell_type": "code",
   "execution_count": 3257,
   "id": "993b9836",
   "metadata": {
    "scrolled": true
   },
   "outputs": [
    {
     "data": {
      "text/html": [
       "<div>\n",
       "<style scoped>\n",
       "    .dataframe tbody tr th:only-of-type {\n",
       "        vertical-align: middle;\n",
       "    }\n",
       "\n",
       "    .dataframe tbody tr th {\n",
       "        vertical-align: top;\n",
       "    }\n",
       "\n",
       "    .dataframe thead th {\n",
       "        text-align: right;\n",
       "    }\n",
       "</style>\n",
       "<table border=\"1\" class=\"dataframe\">\n",
       "  <thead>\n",
       "    <tr style=\"text-align: right;\">\n",
       "      <th></th>\n",
       "      <th>game_id</th>\n",
       "      <th>total_score</th>\n",
       "      <th>cat_1</th>\n",
       "      <th>cat_2</th>\n",
       "      <th>cat_3</th>\n",
       "      <th>cat_4</th>\n",
       "      <th>cat_5</th>\n",
       "      <th>cat_6</th>\n",
       "      <th>score_rating</th>\n",
       "      <th>rating_1</th>\n",
       "      <th>rating_2</th>\n",
       "      <th>rating_3</th>\n",
       "      <th>rating_4</th>\n",
       "      <th>rating_5</th>\n",
       "      <th>rating_6</th>\n",
       "      <th>total</th>\n",
       "      <th>rating_user</th>\n",
       "    </tr>\n",
       "    <tr>\n",
       "      <th>id</th>\n",
       "      <th></th>\n",
       "      <th></th>\n",
       "      <th></th>\n",
       "      <th></th>\n",
       "      <th></th>\n",
       "      <th></th>\n",
       "      <th></th>\n",
       "      <th></th>\n",
       "      <th></th>\n",
       "      <th></th>\n",
       "      <th></th>\n",
       "      <th></th>\n",
       "      <th></th>\n",
       "      <th></th>\n",
       "      <th></th>\n",
       "      <th></th>\n",
       "      <th></th>\n",
       "    </tr>\n",
       "  </thead>\n",
       "  <tbody>\n",
       "    <tr>\n",
       "      <th>10199</th>\n",
       "      <td>262</td>\n",
       "      <td>1424</td>\n",
       "      <td>11.00</td>\n",
       "      <td>56.00</td>\n",
       "      <td>387.00</td>\n",
       "      <td>151.00</td>\n",
       "      <td>107.00</td>\n",
       "      <td>712.00</td>\n",
       "      <td>0.91</td>\n",
       "      <td>0.37</td>\n",
       "      <td>0.42</td>\n",
       "      <td>0.88</td>\n",
       "      <td>0.85</td>\n",
       "      <td>0.96</td>\n",
       "      <td>0.91</td>\n",
       "      <td>0.06</td>\n",
       "      <td>0.05</td>\n",
       "    </tr>\n",
       "  </tbody>\n",
       "</table>\n",
       "</div>"
      ],
      "text/plain": [
       "       game_id  total_score  cat_1  cat_2  cat_3  cat_4  cat_5  cat_6  \\\n",
       "id                                                                      \n",
       "10199      262         1424  11.00  56.00 387.00 151.00 107.00 712.00   \n",
       "\n",
       "       score_rating  rating_1  rating_2  rating_3  rating_4  rating_5  \\\n",
       "id                                                                      \n",
       "10199          0.91      0.37      0.42      0.88      0.85      0.96   \n",
       "\n",
       "       rating_6  total  rating_user  \n",
       "id                                   \n",
       "10199      0.91   0.06         0.05  "
      ]
     },
     "execution_count": 3257,
     "metadata": {},
     "output_type": "execute_result"
    }
   ],
   "source": [
    "X_test.head(1)"
   ]
  },
  {
   "cell_type": "code",
   "execution_count": 3258,
   "id": "9dbd9a8d",
   "metadata": {
    "scrolled": true
   },
   "outputs": [
    {
     "data": {
      "text/plain": [
       "(293, 17)"
      ]
     },
     "execution_count": 3258,
     "metadata": {},
     "output_type": "execute_result"
    }
   ],
   "source": [
    "X_test.shape"
   ]
  },
  {
   "cell_type": "code",
   "execution_count": 3259,
   "id": "f69eb8ef",
   "metadata": {},
   "outputs": [],
   "source": [
    "X_test = scaler_4.transform(X_test)"
   ]
  },
  {
   "cell_type": "code",
   "execution_count": 3260,
   "id": "68b564c3",
   "metadata": {},
   "outputs": [],
   "source": [
    "df_sample['Focus'] = model_4.predict(X_test).astype('int')"
   ]
  },
  {
   "cell_type": "code",
   "execution_count": 3261,
   "id": "d6c7a0ab",
   "metadata": {
    "scrolled": true
   },
   "outputs": [
    {
     "data": {
      "text/plain": [
       "Index(['Analytical thinking', 'Systemic thinking', 'Adaptability', 'Focus',\n",
       "       'game_id', 'total_score', 'cat_1', 'cat_2', 'cat_3', 'cat_4', 'cat_5',\n",
       "       'cat_6', 'score_rating', 'rating_1', 'rating_2', 'rating_3', 'rating_4',\n",
       "       'rating_5', 'rating_6'],\n",
       "      dtype='object')"
      ]
     },
     "execution_count": 3261,
     "metadata": {},
     "output_type": "execute_result"
    }
   ],
   "source": [
    "df_sample.columns"
   ]
  },
  {
   "cell_type": "code",
   "execution_count": 3262,
   "id": "371d579e",
   "metadata": {},
   "outputs": [],
   "source": [
    "col_drop = ['game_id', 'total_score', 'cat_1', 'cat_2', 'cat_3', 'cat_4', 'cat_5',\n",
    "       'cat_6', 'score_rating', 'rating_1', 'rating_2', 'rating_3', 'rating_4',\n",
    "       'rating_5', 'rating_6']"
   ]
  },
  {
   "cell_type": "code",
   "execution_count": 3263,
   "id": "18af56cd",
   "metadata": {
    "scrolled": true
   },
   "outputs": [
    {
     "data": {
      "text/html": [
       "<div>\n",
       "<style scoped>\n",
       "    .dataframe tbody tr th:only-of-type {\n",
       "        vertical-align: middle;\n",
       "    }\n",
       "\n",
       "    .dataframe tbody tr th {\n",
       "        vertical-align: top;\n",
       "    }\n",
       "\n",
       "    .dataframe thead th {\n",
       "        text-align: right;\n",
       "    }\n",
       "</style>\n",
       "<table border=\"1\" class=\"dataframe\">\n",
       "  <thead>\n",
       "    <tr style=\"text-align: right;\">\n",
       "      <th></th>\n",
       "      <th>Analytical thinking</th>\n",
       "      <th>Systemic thinking</th>\n",
       "      <th>Adaptability</th>\n",
       "      <th>Focus</th>\n",
       "      <th>game_id</th>\n",
       "      <th>total_score</th>\n",
       "      <th>cat_1</th>\n",
       "      <th>cat_2</th>\n",
       "      <th>cat_3</th>\n",
       "      <th>cat_4</th>\n",
       "      <th>cat_5</th>\n",
       "      <th>cat_6</th>\n",
       "      <th>score_rating</th>\n",
       "      <th>rating_1</th>\n",
       "      <th>rating_2</th>\n",
       "      <th>rating_3</th>\n",
       "      <th>rating_4</th>\n",
       "      <th>rating_5</th>\n",
       "      <th>rating_6</th>\n",
       "    </tr>\n",
       "    <tr>\n",
       "      <th>id</th>\n",
       "      <th></th>\n",
       "      <th></th>\n",
       "      <th></th>\n",
       "      <th></th>\n",
       "      <th></th>\n",
       "      <th></th>\n",
       "      <th></th>\n",
       "      <th></th>\n",
       "      <th></th>\n",
       "      <th></th>\n",
       "      <th></th>\n",
       "      <th></th>\n",
       "      <th></th>\n",
       "      <th></th>\n",
       "      <th></th>\n",
       "      <th></th>\n",
       "      <th></th>\n",
       "      <th></th>\n",
       "      <th></th>\n",
       "    </tr>\n",
       "  </thead>\n",
       "  <tbody>\n",
       "    <tr>\n",
       "      <th>10199</th>\n",
       "      <td>4</td>\n",
       "      <td>4</td>\n",
       "      <td>4</td>\n",
       "      <td>4</td>\n",
       "      <td>262</td>\n",
       "      <td>1424</td>\n",
       "      <td>11.00</td>\n",
       "      <td>56.00</td>\n",
       "      <td>387.00</td>\n",
       "      <td>151.00</td>\n",
       "      <td>107.00</td>\n",
       "      <td>712.00</td>\n",
       "      <td>0.91</td>\n",
       "      <td>0.37</td>\n",
       "      <td>0.42</td>\n",
       "      <td>0.88</td>\n",
       "      <td>0.85</td>\n",
       "      <td>0.96</td>\n",
       "      <td>0.91</td>\n",
       "    </tr>\n",
       "    <tr>\n",
       "      <th>10539</th>\n",
       "      <td>4</td>\n",
       "      <td>4</td>\n",
       "      <td>4</td>\n",
       "      <td>4</td>\n",
       "      <td>204</td>\n",
       "      <td>1168</td>\n",
       "      <td>-18.00</td>\n",
       "      <td>-3.00</td>\n",
       "      <td>356.00</td>\n",
       "      <td>118.00</td>\n",
       "      <td>131.00</td>\n",
       "      <td>584.00</td>\n",
       "      <td>0.67</td>\n",
       "      <td>-0.28</td>\n",
       "      <td>-0.03</td>\n",
       "      <td>0.90</td>\n",
       "      <td>0.69</td>\n",
       "      <td>0.80</td>\n",
       "      <td>0.67</td>\n",
       "    </tr>\n",
       "    <tr>\n",
       "      <th>10174</th>\n",
       "      <td>4</td>\n",
       "      <td>4</td>\n",
       "      <td>4</td>\n",
       "      <td>4</td>\n",
       "      <td>190</td>\n",
       "      <td>2268</td>\n",
       "      <td>124.00</td>\n",
       "      <td>206.00</td>\n",
       "      <td>481.00</td>\n",
       "      <td>201.00</td>\n",
       "      <td>122.00</td>\n",
       "      <td>1,134.00</td>\n",
       "      <td>1.00</td>\n",
       "      <td>1.00</td>\n",
       "      <td>1.00</td>\n",
       "      <td>0.95</td>\n",
       "      <td>1.00</td>\n",
       "      <td>0.95</td>\n",
       "      <td>1.00</td>\n",
       "    </tr>\n",
       "    <tr>\n",
       "      <th>10465</th>\n",
       "      <td>5</td>\n",
       "      <td>4</td>\n",
       "      <td>5</td>\n",
       "      <td>5</td>\n",
       "      <td>244</td>\n",
       "      <td>1252</td>\n",
       "      <td>-23.00</td>\n",
       "      <td>-19.00</td>\n",
       "      <td>422.00</td>\n",
       "      <td>132.00</td>\n",
       "      <td>114.00</td>\n",
       "      <td>626.00</td>\n",
       "      <td>0.59</td>\n",
       "      <td>-0.20</td>\n",
       "      <td>-0.08</td>\n",
       "      <td>0.94</td>\n",
       "      <td>0.66</td>\n",
       "      <td>0.71</td>\n",
       "      <td>0.59</td>\n",
       "    </tr>\n",
       "    <tr>\n",
       "      <th>10066</th>\n",
       "      <td>4</td>\n",
       "      <td>4</td>\n",
       "      <td>4</td>\n",
       "      <td>4</td>\n",
       "      <td>183</td>\n",
       "      <td>790</td>\n",
       "      <td>-48.00</td>\n",
       "      <td>-80.00</td>\n",
       "      <td>314.00</td>\n",
       "      <td>115.00</td>\n",
       "      <td>94.00</td>\n",
       "      <td>395.00</td>\n",
       "      <td>0.37</td>\n",
       "      <td>-0.51</td>\n",
       "      <td>-0.37</td>\n",
       "      <td>0.59</td>\n",
       "      <td>0.62</td>\n",
       "      <td>0.78</td>\n",
       "      <td>0.37</td>\n",
       "    </tr>\n",
       "  </tbody>\n",
       "</table>\n",
       "</div>"
      ],
      "text/plain": [
       "       Analytical thinking  Systemic thinking  Adaptability  Focus  game_id  \\\n",
       "id                                                                            \n",
       "10199                    4                  4             4      4      262   \n",
       "10539                    4                  4             4      4      204   \n",
       "10174                    4                  4             4      4      190   \n",
       "10465                    5                  4             5      5      244   \n",
       "10066                    4                  4             4      4      183   \n",
       "\n",
       "       total_score  cat_1  cat_2  cat_3  cat_4  cat_5    cat_6  score_rating  \\\n",
       "id                                                                             \n",
       "10199         1424  11.00  56.00 387.00 151.00 107.00   712.00          0.91   \n",
       "10539         1168 -18.00  -3.00 356.00 118.00 131.00   584.00          0.67   \n",
       "10174         2268 124.00 206.00 481.00 201.00 122.00 1,134.00          1.00   \n",
       "10465         1252 -23.00 -19.00 422.00 132.00 114.00   626.00          0.59   \n",
       "10066          790 -48.00 -80.00 314.00 115.00  94.00   395.00          0.37   \n",
       "\n",
       "       rating_1  rating_2  rating_3  rating_4  rating_5  rating_6  \n",
       "id                                                                 \n",
       "10199      0.37      0.42      0.88      0.85      0.96      0.91  \n",
       "10539     -0.28     -0.03      0.90      0.69      0.80      0.67  \n",
       "10174      1.00      1.00      0.95      1.00      0.95      1.00  \n",
       "10465     -0.20     -0.08      0.94      0.66      0.71      0.59  \n",
       "10066     -0.51     -0.37      0.59      0.62      0.78      0.37  "
      ]
     },
     "execution_count": 3263,
     "metadata": {},
     "output_type": "execute_result"
    }
   ],
   "source": [
    "df_sample.head()"
   ]
  },
  {
   "cell_type": "code",
   "execution_count": 3264,
   "id": "9af6f499",
   "metadata": {},
   "outputs": [],
   "source": [
    "df_sample = df_sample.drop(col_drop, axis=1)"
   ]
  },
  {
   "cell_type": "code",
   "execution_count": 3265,
   "id": "70dacad3",
   "metadata": {},
   "outputs": [],
   "source": [
    "sample_solution = sample_solution.drop(['Analytical thinking', 'Systemic thinking', 'Adaptability', 'Focus'], axis=1)\\\n",
    ".set_index('id').join(df_sample).reset_index()"
   ]
  },
  {
   "cell_type": "code",
   "execution_count": 3266,
   "id": "2f4ce866",
   "metadata": {
    "scrolled": true
   },
   "outputs": [
    {
     "data": {
      "text/html": [
       "<div>\n",
       "<style scoped>\n",
       "    .dataframe tbody tr th:only-of-type {\n",
       "        vertical-align: middle;\n",
       "    }\n",
       "\n",
       "    .dataframe tbody tr th {\n",
       "        vertical-align: top;\n",
       "    }\n",
       "\n",
       "    .dataframe thead th {\n",
       "        text-align: right;\n",
       "    }\n",
       "</style>\n",
       "<table border=\"1\" class=\"dataframe\">\n",
       "  <thead>\n",
       "    <tr style=\"text-align: right;\">\n",
       "      <th></th>\n",
       "      <th>id</th>\n",
       "      <th>Analytical thinking</th>\n",
       "      <th>Systemic thinking</th>\n",
       "      <th>Adaptability</th>\n",
       "      <th>Focus</th>\n",
       "    </tr>\n",
       "  </thead>\n",
       "  <tbody>\n",
       "    <tr>\n",
       "      <th>0</th>\n",
       "      <td>10199</td>\n",
       "      <td>4</td>\n",
       "      <td>4</td>\n",
       "      <td>4</td>\n",
       "      <td>4</td>\n",
       "    </tr>\n",
       "    <tr>\n",
       "      <th>1</th>\n",
       "      <td>10539</td>\n",
       "      <td>4</td>\n",
       "      <td>4</td>\n",
       "      <td>4</td>\n",
       "      <td>4</td>\n",
       "    </tr>\n",
       "    <tr>\n",
       "      <th>2</th>\n",
       "      <td>10174</td>\n",
       "      <td>4</td>\n",
       "      <td>4</td>\n",
       "      <td>4</td>\n",
       "      <td>4</td>\n",
       "    </tr>\n",
       "    <tr>\n",
       "      <th>3</th>\n",
       "      <td>10465</td>\n",
       "      <td>5</td>\n",
       "      <td>4</td>\n",
       "      <td>5</td>\n",
       "      <td>5</td>\n",
       "    </tr>\n",
       "    <tr>\n",
       "      <th>4</th>\n",
       "      <td>10066</td>\n",
       "      <td>4</td>\n",
       "      <td>4</td>\n",
       "      <td>4</td>\n",
       "      <td>4</td>\n",
       "    </tr>\n",
       "  </tbody>\n",
       "</table>\n",
       "</div>"
      ],
      "text/plain": [
       "      id  Analytical thinking  Systemic thinking  Adaptability  Focus\n",
       "0  10199                    4                  4             4      4\n",
       "1  10539                    4                  4             4      4\n",
       "2  10174                    4                  4             4      4\n",
       "3  10465                    5                  4             5      5\n",
       "4  10066                    4                  4             4      4"
      ]
     },
     "execution_count": 3266,
     "metadata": {},
     "output_type": "execute_result"
    }
   ],
   "source": [
    "sample_solution.head()"
   ]
  },
  {
   "cell_type": "code",
   "execution_count": 3268,
   "id": "350e45c4",
   "metadata": {},
   "outputs": [],
   "source": [
    "sample_solution.to_csv(\"sample_solution_2.csv\", index=False)"
   ]
  },
  {
   "cell_type": "code",
   "execution_count": 3269,
   "id": "5c1b620f",
   "metadata": {},
   "outputs": [
    {
     "data": {
      "text/plain": [
       "4    202\n",
       "5     91\n",
       "Name: Focus, dtype: int64"
      ]
     },
     "execution_count": 3269,
     "metadata": {},
     "output_type": "execute_result"
    }
   ],
   "source": [
    "sample_solution['Focus'].value_counts()"
   ]
  },
  {
   "cell_type": "code",
   "execution_count": 3270,
   "id": "5b5b2089",
   "metadata": {},
   "outputs": [
    {
     "data": {
      "text/plain": [
       "4    174\n",
       "5    119\n",
       "Name: Adaptability, dtype: int64"
      ]
     },
     "execution_count": 3270,
     "metadata": {},
     "output_type": "execute_result"
    }
   ],
   "source": [
    "sample_solution['Adaptability'].value_counts()"
   ]
  },
  {
   "cell_type": "code",
   "execution_count": null,
   "id": "a356c5e4",
   "metadata": {},
   "outputs": [],
   "source": []
  }
 ],
 "metadata": {
  "kernelspec": {
   "display_name": "Python 3 (ipykernel)",
   "language": "python",
   "name": "python3"
  },
  "language_info": {
   "codemirror_mode": {
    "name": "ipython",
    "version": 3
   },
   "file_extension": ".py",
   "mimetype": "text/x-python",
   "name": "python",
   "nbconvert_exporter": "python",
   "pygments_lexer": "ipython3",
   "version": "3.9.13"
  }
 },
 "nbformat": 4,
 "nbformat_minor": 5
}
